{
 "cells": [
  {
   "cell_type": "code",
   "execution_count": 1,
   "id": "7768a9ff",
   "metadata": {
    "_cell_guid": "b1076dfc-b9ad-4769-8c92-a6c4dae69d19",
    "_uuid": "8f2839f25d086af736a60e9eeb907d3b93b6e0e5",
    "papermill": {
     "duration": 0.065149,
     "end_time": "2021-09-09T07:56:04.152997",
     "exception": false,
     "start_time": "2021-09-09T07:56:04.087848",
     "status": "completed"
    },
    "tags": []
   },
   "outputs": [],
   "source": [
    "import numpy as np\n",
    "import pandas as pd"
   ]
  },
  {
   "cell_type": "code",
   "execution_count": 2,
   "id": "a9abf0dd",
   "metadata": {
    "execution": {
     "iopub.execute_input": "2021-09-09T07:56:04.204253Z",
     "iopub.status.busy": "2021-09-09T07:56:04.203754Z",
     "iopub.status.idle": "2021-09-09T07:56:05.609223Z",
     "shell.execute_reply": "2021-09-09T07:56:05.610764Z",
     "shell.execute_reply.started": "2021-09-09T07:44:44.389767Z"
    },
    "papermill": {
     "duration": 1.434109,
     "end_time": "2021-09-09T07:56:05.611005",
     "exception": false,
     "start_time": "2021-09-09T07:56:04.176896",
     "status": "completed"
    },
    "tags": []
   },
   "outputs": [],
   "source": [
    "import time\n",
    "import os\n",
    "import sys\n",
    "from tqdm import tqdm\n",
    "import matplotlib.pyplot as plt\n",
    "\n",
    "import torch\n",
    "from torch import nn\n",
    "from torch import optim\n",
    "from torch.nn import functional as F\n",
    "import torch.utils.data as data\n",
    "\n",
    "\n",
    "import torchvision\n",
    "import torchvision.transforms as transforms\n",
    "import torchvision.models as models\n",
    "\n"
   ]
  },
  {
   "cell_type": "code",
   "execution_count": 3,
   "id": "48b351c7",
   "metadata": {
    "execution": {
     "iopub.execute_input": "2021-09-09T07:56:05.729194Z",
     "iopub.status.busy": "2021-09-09T07:56:05.728334Z",
     "iopub.status.idle": "2021-09-09T07:56:05.732391Z",
     "shell.execute_reply": "2021-09-09T07:56:05.732784Z",
     "shell.execute_reply.started": "2021-09-09T07:44:48.444942Z"
    },
    "papermill": {
     "duration": 0.083682,
     "end_time": "2021-09-09T07:56:05.732928",
     "exception": false,
     "start_time": "2021-09-09T07:56:05.649246",
     "status": "completed"
    },
    "tags": []
   },
   "outputs": [
    {
     "data": {
      "text/plain": [
       "True"
      ]
     },
     "execution_count": 3,
     "metadata": {},
     "output_type": "execute_result"
    }
   ],
   "source": [
    "torch.cuda.is_available()"
   ]
  },
  {
   "cell_type": "markdown",
   "id": "2024fe98",
   "metadata": {
    "papermill": {
     "duration": 0.023091,
     "end_time": "2021-09-09T07:56:05.779365",
     "exception": false,
     "start_time": "2021-09-09T07:56:05.756274",
     "status": "completed"
    },
    "tags": []
   },
   "source": [
    "## Defining Pytorch Dataset and Dataloader:"
   ]
  },
  {
   "cell_type": "code",
   "execution_count": 4,
   "id": "6609f503",
   "metadata": {
    "execution": {
     "iopub.execute_input": "2021-09-09T07:56:05.829936Z",
     "iopub.status.busy": "2021-09-09T07:56:05.829331Z",
     "iopub.status.idle": "2021-09-09T07:56:10.583608Z",
     "shell.execute_reply": "2021-09-09T07:56:10.583135Z",
     "shell.execute_reply.started": "2021-09-09T07:44:45.207566Z"
    },
    "papermill": {
     "duration": 4.781045,
     "end_time": "2021-09-09T07:56:10.583738",
     "exception": false,
     "start_time": "2021-09-09T07:56:05.802693",
     "status": "completed"
    },
    "tags": []
   },
   "outputs": [],
   "source": [
    "train = pd.read_csv('/kaggle/input/sign-language-mnist/sign_mnist_train/sign_mnist_train.csv')\n",
    "test = pd.read_csv('/kaggle/input/sign-language-mnist/sign_mnist_test/sign_mnist_test.csv')"
   ]
  },
  {
   "cell_type": "code",
   "execution_count": 5,
   "id": "baa7fb5e",
   "metadata": {
    "execution": {
     "iopub.execute_input": "2021-09-09T07:56:10.637002Z",
     "iopub.status.busy": "2021-09-09T07:56:10.636327Z",
     "iopub.status.idle": "2021-09-09T07:56:10.639696Z",
     "shell.execute_reply": "2021-09-09T07:56:10.639231Z",
     "shell.execute_reply.started": "2021-09-09T07:44:48.497806Z"
    },
    "papermill": {
     "duration": 0.031774,
     "end_time": "2021-09-09T07:56:10.639816",
     "exception": false,
     "start_time": "2021-09-09T07:56:10.608042",
     "status": "completed"
    },
    "tags": []
   },
   "outputs": [],
   "source": [
    "class SignLanguageDataset(data.Dataset):\n",
    "    \n",
    "    def __init__(self, df, transform=None):\n",
    "        \n",
    "        self.df = df\n",
    "        self.transform = transform\n",
    "        \n",
    "    def __len__(self):\n",
    "        return self.df.shape[0]\n",
    "    \n",
    "    def __getitem__(self, index):\n",
    "        \n",
    "        label = self.df.iloc[index, 0]\n",
    "        \n",
    "        img = self.df.iloc[index, 1:].values.reshape(28, 28)\n",
    "        img = torch.Tensor(img).unsqueeze(0)\n",
    "        if self.transform is not None:\n",
    "            img =self.transform(img)\n",
    "        \n",
    "        return img, label\n",
    "        "
   ]
  },
  {
   "cell_type": "code",
   "execution_count": 6,
   "id": "740c7377",
   "metadata": {
    "execution": {
     "iopub.execute_input": "2021-09-09T07:56:10.690542Z",
     "iopub.status.busy": "2021-09-09T07:56:10.689321Z",
     "iopub.status.idle": "2021-09-09T07:56:10.691650Z",
     "shell.execute_reply": "2021-09-09T07:56:10.692009Z",
     "shell.execute_reply.started": "2021-09-09T07:44:49.342254Z"
    },
    "papermill": {
     "duration": 0.029465,
     "end_time": "2021-09-09T07:56:10.692123",
     "exception": false,
     "start_time": "2021-09-09T07:56:10.662658",
     "status": "completed"
    },
    "tags": []
   },
   "outputs": [],
   "source": [
    "def show_img(img, label):\n",
    "    img = img.squeeze()\n",
    "    img = img*40. + 159.\n",
    "    imgnp = img.detach().numpy()\n",
    "    plt.imshow(img, interpolation='bicubic')\n",
    "    print(label)"
   ]
  },
  {
   "cell_type": "code",
   "execution_count": 7,
   "id": "1c24c454",
   "metadata": {
    "execution": {
     "iopub.execute_input": "2021-09-09T07:56:10.743047Z",
     "iopub.status.busy": "2021-09-09T07:56:10.741849Z",
     "iopub.status.idle": "2021-09-09T07:56:10.744227Z",
     "shell.execute_reply": "2021-09-09T07:56:10.744767Z",
     "shell.execute_reply.started": "2021-09-09T07:44:51.915277Z"
    },
    "papermill": {
     "duration": 0.029731,
     "end_time": "2021-09-09T07:56:10.744879",
     "exception": false,
     "start_time": "2021-09-09T07:56:10.715148",
     "status": "completed"
    },
    "tags": []
   },
   "outputs": [],
   "source": [
    "transforms4train = transforms.Compose([\n",
    "        #transforms.Normalize(159, 40),\n",
    "        transforms.RandomHorizontalFlip(p=0.1),\n",
    "        transforms.RandomApply([transforms.RandomRotation(degrees=(-180, 180))], p=0.2),\n",
    "]) "
   ]
  },
  {
   "cell_type": "code",
   "execution_count": 8,
   "id": "ec03f507",
   "metadata": {
    "execution": {
     "iopub.execute_input": "2021-09-09T07:56:10.794718Z",
     "iopub.status.busy": "2021-09-09T07:56:10.793532Z",
     "iopub.status.idle": "2021-09-09T07:56:10.795777Z",
     "shell.execute_reply": "2021-09-09T07:56:10.796167Z",
     "shell.execute_reply.started": "2021-09-09T07:44:53.283631Z"
    },
    "papermill": {
     "duration": 0.028639,
     "end_time": "2021-09-09T07:56:10.796277",
     "exception": false,
     "start_time": "2021-09-09T07:56:10.767638",
     "status": "completed"
    },
    "tags": []
   },
   "outputs": [],
   "source": [
    "train_dataset = SignLanguageDataset(train, transform=transforms4train)\n",
    "test_dataset = SignLanguageDataset(test)"
   ]
  },
  {
   "cell_type": "code",
   "execution_count": 9,
   "id": "e5e9b25c",
   "metadata": {
    "execution": {
     "iopub.execute_input": "2021-09-09T07:56:10.847351Z",
     "iopub.status.busy": "2021-09-09T07:56:10.846841Z",
     "iopub.status.idle": "2021-09-09T07:56:10.852775Z",
     "shell.execute_reply": "2021-09-09T07:56:10.852350Z",
     "shell.execute_reply.started": "2021-09-09T07:44:54.020386Z"
    },
    "papermill": {
     "duration": 0.033058,
     "end_time": "2021-09-09T07:56:10.852883",
     "exception": false,
     "start_time": "2021-09-09T07:56:10.819825",
     "status": "completed"
    },
    "tags": []
   },
   "outputs": [
    {
     "data": {
      "text/plain": [
       "(27455, 7172)"
      ]
     },
     "execution_count": 9,
     "metadata": {},
     "output_type": "execute_result"
    }
   ],
   "source": [
    "len(train_dataset), len(test_dataset)"
   ]
  },
  {
   "cell_type": "code",
   "execution_count": 10,
   "id": "d3c37342",
   "metadata": {
    "execution": {
     "iopub.execute_input": "2021-09-09T07:56:10.904344Z",
     "iopub.status.busy": "2021-09-09T07:56:10.903046Z",
     "iopub.status.idle": "2021-09-09T07:56:10.905473Z",
     "shell.execute_reply": "2021-09-09T07:56:10.905905Z",
     "shell.execute_reply.started": "2021-09-09T07:44:54.754190Z"
    },
    "papermill": {
     "duration": 0.029895,
     "end_time": "2021-09-09T07:56:10.906023",
     "exception": false,
     "start_time": "2021-09-09T07:56:10.876128",
     "status": "completed"
    },
    "tags": []
   },
   "outputs": [],
   "source": [
    "train_loader = data.DataLoader(train_dataset, batch_size=200, shuffle=True, num_workers=2)\n",
    "test_loader = data.DataLoader(test_dataset, batch_size=200, shuffle=True, num_workers=2)"
   ]
  },
  {
   "cell_type": "code",
   "execution_count": 11,
   "id": "b8eef04c",
   "metadata": {
    "execution": {
     "iopub.execute_input": "2021-09-09T07:56:10.958586Z",
     "iopub.status.busy": "2021-09-09T07:56:10.957943Z",
     "iopub.status.idle": "2021-09-09T07:56:11.262273Z",
     "shell.execute_reply": "2021-09-09T07:56:11.263949Z",
     "shell.execute_reply.started": "2021-09-09T07:44:55.560162Z"
    },
    "papermill": {
     "duration": 0.33449,
     "end_time": "2021-09-09T07:56:11.264179",
     "exception": false,
     "start_time": "2021-09-09T07:56:10.929689",
     "status": "completed"
    },
    "tags": []
   },
   "outputs": [
    {
     "name": "stdout",
     "output_type": "stream",
     "text": [
      "torch.Size([200, 1, 28, 28])\n"
     ]
    }
   ],
   "source": [
    "trainiter = iter(train_loader)\n",
    "img, label = next(trainiter)\n",
    "print(img.shape)"
   ]
  },
  {
   "cell_type": "code",
   "execution_count": 12,
   "id": "edf76db2",
   "metadata": {
    "execution": {
     "iopub.execute_input": "2021-09-09T07:56:11.447552Z",
     "iopub.status.busy": "2021-09-09T07:56:11.442195Z",
     "iopub.status.idle": "2021-09-09T07:56:11.673322Z",
     "shell.execute_reply": "2021-09-09T07:56:11.672889Z",
     "shell.execute_reply.started": "2021-09-09T07:44:57.185003Z"
    },
    "papermill": {
     "duration": 0.318818,
     "end_time": "2021-09-09T07:56:11.673468",
     "exception": false,
     "start_time": "2021-09-09T07:56:11.354650",
     "status": "completed"
    },
    "tags": []
   },
   "outputs": [
    {
     "name": "stdout",
     "output_type": "stream",
     "text": [
      "tensor(22)\n"
     ]
    },
    {
     "data": {
      "image/png": "[encoded data removed]",
      "text/plain": [
       "<Figure size 432x288 with 1 Axes>"
      ]
     },
     "metadata": {
      "needs_background": "light"
     },
     "output_type": "display_data"
    }
   ],
   "source": [
    "show_img(img[10], label[10])"
   ]
  },
  {
   "cell_type": "code",
   "execution_count": 13,
   "id": "134cf2b1",
   "metadata": {
    "execution": {
     "iopub.execute_input": "2021-09-09T07:56:11.729275Z",
     "iopub.status.busy": "2021-09-09T07:56:11.728759Z",
     "iopub.status.idle": "2021-09-09T07:56:11.732707Z",
     "shell.execute_reply": "2021-09-09T07:56:11.732265Z",
     "shell.execute_reply.started": "2021-09-09T07:44:58.754417Z"
    },
    "papermill": {
     "duration": 0.033606,
     "end_time": "2021-09-09T07:56:11.732820",
     "exception": false,
     "start_time": "2021-09-09T07:56:11.699214",
     "status": "completed"
    },
    "tags": []
   },
   "outputs": [],
   "source": [
    "def calc_out_size(img_size, kernel_size, stride=1, padding=1, dilation=1 ):\n",
    "    out_size = ((img_size + 2*padding - (dilation*(kernel_size-1) +1 )) / stride) + 1\n",
    "    return int(out_size)"
   ]
  },
  {
   "cell_type": "code",
   "execution_count": 14,
   "id": "0b205bc7",
   "metadata": {
    "execution": {
     "iopub.execute_input": "2021-09-09T07:56:11.787106Z",
     "iopub.status.busy": "2021-09-09T07:56:11.786579Z",
     "iopub.status.idle": "2021-09-09T07:56:11.791866Z",
     "shell.execute_reply": "2021-09-09T07:56:11.792238Z",
     "shell.execute_reply.started": "2021-09-09T07:44:59.807782Z"
    },
    "papermill": {
     "duration": 0.03469,
     "end_time": "2021-09-09T07:56:11.792361",
     "exception": false,
     "start_time": "2021-09-09T07:56:11.757671",
     "status": "completed"
    },
    "tags": []
   },
   "outputs": [
    {
     "data": {
      "text/plain": [
       "28"
      ]
     },
     "execution_count": 14,
     "metadata": {},
     "output_type": "execute_result"
    }
   ],
   "source": [
    "calc_out_size(28, 3)"
   ]
  },
  {
   "cell_type": "markdown",
   "id": "ae7de93c",
   "metadata": {
    "papermill": {
     "duration": 0.025399,
     "end_time": "2021-09-09T07:56:11.843261",
     "exception": false,
     "start_time": "2021-09-09T07:56:11.817862",
     "status": "completed"
    },
    "tags": []
   },
   "source": [
    "## Making simple custom convolution net:"
   ]
  },
  {
   "cell_type": "code",
   "execution_count": 15,
   "id": "8e6bacd3",
   "metadata": {
    "execution": {
     "iopub.execute_input": "2021-09-09T07:56:11.903402Z",
     "iopub.status.busy": "2021-09-09T07:56:11.902898Z",
     "iopub.status.idle": "2021-09-09T07:56:11.906155Z",
     "shell.execute_reply": "2021-09-09T07:56:11.906539Z",
     "shell.execute_reply.started": "2021-09-09T07:45:00.754965Z"
    },
    "papermill": {
     "duration": 0.038187,
     "end_time": "2021-09-09T07:56:11.906661",
     "exception": false,
     "start_time": "2021-09-09T07:56:11.868474",
     "status": "completed"
    },
    "tags": []
   },
   "outputs": [],
   "source": [
    "class MyConvNet(nn.Module):\n",
    "    \n",
    "    def __init__(self, stride=1, dilation=1, n_classes=25):\n",
    "        \n",
    "        super(MyConvNet, self).__init__()\n",
    "        \n",
    "        self.stride = stride\n",
    "        self.dilation = dilation\n",
    "        self.n_classes = n_classes\n",
    "        \n",
    "        self.block1 = nn.Sequential(\n",
    "            #input=(batch, 1, 28, 28)\n",
    "            nn.Conv2d(in_channels=1, out_channels=8, kernel_size=3, padding=1, stride=self.stride, dilation=self.dilation),\n",
    "            nn.BatchNorm2d(8),\n",
    "            # (batch, 8, 28, 28)\n",
    "            nn.AvgPool2d(2),\n",
    "            # (batch, 8, 14, 14)\n",
    "            nn.ReLU()\n",
    "            )\n",
    "        \n",
    "        self.block2 = nn.Sequential(\n",
    "            nn.Conv2d(in_channels=8, out_channels=16, kernel_size=3, padding=1, stride=self.stride, dilation=self.dilation),\n",
    "            nn.BatchNorm2d(16),\n",
    "            # (batch, 16, 14, 14)\n",
    "            nn.AvgPool2d(2),\n",
    "            # (batch, 16, 7, 7)\n",
    "            nn.ReLU()\n",
    "        )\n",
    "        \n",
    "        self.lin1 = nn.Linear(in_features=16*7*7, out_features=100)\n",
    "        # (batch, 100)\n",
    "        self.act1 = nn.LeakyReLU()\n",
    "        self.drop1 = nn.Dropout(p=0.3)\n",
    "        self.lin2 = nn.Linear(100, self.n_classes)\n",
    "        # (batch, 25)\n",
    "    \n",
    "    def forward(self, x):\n",
    "        \n",
    "        x = self.block1(x)\n",
    "        x = self.block2(x)\n",
    "        x = x.view((x.shape[0], -1))\n",
    "        x = self.lin1(x)\n",
    "        x = self.act1(x)\n",
    "        x = self.drop1(x)\n",
    "        x = self.lin2(x)\n",
    "        \n",
    "        return x"
   ]
  },
  {
   "cell_type": "code",
   "execution_count": 16,
   "id": "62ed7593",
   "metadata": {
    "execution": {
     "iopub.execute_input": "2021-09-09T07:56:11.965386Z",
     "iopub.status.busy": "2021-09-09T07:56:11.964512Z",
     "iopub.status.idle": "2021-09-09T07:56:11.971176Z",
     "shell.execute_reply": "2021-09-09T07:56:11.971586Z",
     "shell.execute_reply.started": "2021-09-09T07:45:05.140421Z"
    },
    "papermill": {
     "duration": 0.040137,
     "end_time": "2021-09-09T07:56:11.971703",
     "exception": false,
     "start_time": "2021-09-09T07:56:11.931566",
     "status": "completed"
    },
    "tags": []
   },
   "outputs": [
    {
     "data": {
      "text/plain": [
       "MyConvNet(\n",
       "  (block1): Sequential(\n",
       "    (0): Conv2d(1, 8, kernel_size=(3, 3), stride=(1, 1), padding=(1, 1))\n",
       "    (1): BatchNorm2d(8, eps=1e-05, momentum=0.1, affine=True, track_running_stats=True)\n",
       "    (2): AvgPool2d(kernel_size=2, stride=2, padding=0)\n",
       "    (3): ReLU()\n",
       "  )\n",
       "  (block2): Sequential(\n",
       "    (0): Conv2d(8, 16, kernel_size=(3, 3), stride=(1, 1), padding=(1, 1))\n",
       "    (1): BatchNorm2d(16, eps=1e-05, momentum=0.1, affine=True, track_running_stats=True)\n",
       "    (2): AvgPool2d(kernel_size=2, stride=2, padding=0)\n",
       "    (3): ReLU()\n",
       "  )\n",
       "  (lin1): Linear(in_features=784, out_features=100, bias=True)\n",
       "  (act1): LeakyReLU(negative_slope=0.01)\n",
       "  (drop1): Dropout(p=0.3, inplace=False)\n",
       "  (lin2): Linear(in_features=100, out_features=25, bias=True)\n",
       ")"
      ]
     },
     "execution_count": 16,
     "metadata": {},
     "output_type": "execute_result"
    }
   ],
   "source": [
    "model = MyConvNet()\n",
    "model"
   ]
  },
  {
   "cell_type": "code",
   "execution_count": 17,
   "id": "671a3994",
   "metadata": {
    "execution": {
     "iopub.execute_input": "2021-09-09T07:56:12.027955Z",
     "iopub.status.busy": "2021-09-09T07:56:12.027341Z",
     "iopub.status.idle": "2021-09-09T07:56:12.095887Z",
     "shell.execute_reply": "2021-09-09T07:56:12.095452Z",
     "shell.execute_reply.started": "2021-09-08T15:18:07.89582Z"
    },
    "papermill": {
     "duration": 0.098828,
     "end_time": "2021-09-09T07:56:12.095991",
     "exception": false,
     "start_time": "2021-09-09T07:56:11.997163",
     "status": "completed"
    },
    "tags": []
   },
   "outputs": [
    {
     "name": "stdout",
     "output_type": "stream",
     "text": [
      "torch.Size([20, 8, 14, 14])\n",
      "torch.Size([20, 16, 7, 7])\n",
      "torch.Size([20, 25])\n"
     ]
    }
   ],
   "source": [
    "sample_batch = torch.ones(20, 1, 28, 28)\n",
    "print(model.block1(sample_batch).shape)\n",
    "print(model.block2(model.block1(sample_batch)).shape)\n",
    "print(model(sample_batch).shape)"
   ]
  },
  {
   "cell_type": "markdown",
   "id": "c48130d2",
   "metadata": {
    "papermill": {
     "duration": 0.026083,
     "end_time": "2021-09-09T07:56:12.148020",
     "exception": false,
     "start_time": "2021-09-09T07:56:12.121937",
     "status": "completed"
    },
    "tags": []
   },
   "source": [
    "## Defining our training and evaluation pipeline:"
   ]
  },
  {
   "cell_type": "code",
   "execution_count": 18,
   "id": "df782e66",
   "metadata": {
    "execution": {
     "iopub.execute_input": "2021-09-09T07:56:12.207614Z",
     "iopub.status.busy": "2021-09-09T07:56:12.206222Z",
     "iopub.status.idle": "2021-09-09T07:56:12.209389Z",
     "shell.execute_reply": "2021-09-09T07:56:12.208961Z",
     "shell.execute_reply.started": "2021-09-09T07:45:10.882254Z"
    },
    "papermill": {
     "duration": 0.035739,
     "end_time": "2021-09-09T07:56:12.209948",
     "exception": false,
     "start_time": "2021-09-09T07:56:12.174209",
     "status": "completed"
    },
    "tags": []
   },
   "outputs": [],
   "source": [
    "def eval_model(model, criterion, test_loader, cuda=True):\n",
    "    \n",
    "    if cuda:\n",
    "        model = model.cuda()\n",
    "    \n",
    "    model = model.eval()\n",
    "    \n",
    "    running_loss = 0.\n",
    "    num_correct = 0.\n",
    "    num_total = 0.\n",
    "    \n",
    "    for batch, labels in test_loader:\n",
    "        \n",
    "        if cuda:\n",
    "            batch = batch.cuda()\n",
    "            labels = labels.cuda()\n",
    "        \n",
    "        out = model(batch)\n",
    "        pred_labels = out.argmax(dim=1)\n",
    "        num_correct += float((pred_labels == labels).sum())\n",
    "        \n",
    "        loss = criterion(out, labels)\n",
    "        running_loss += loss.data.cpu()\n",
    "        \n",
    "        num_total += labels.shape[0]\n",
    "    \n",
    "    mean_loss = running_loss / num_total\n",
    "    accuracy = num_correct / num_total\n",
    "    \n",
    "    return mean_loss, accuracy\n",
    "        \n",
    "        "
   ]
  },
  {
   "cell_type": "code",
   "execution_count": 19,
   "id": "d443bd98",
   "metadata": {
    "execution": {
     "iopub.execute_input": "2021-09-09T07:56:12.271897Z",
     "iopub.status.busy": "2021-09-09T07:56:12.271222Z",
     "iopub.status.idle": "2021-09-09T07:56:12.274398Z",
     "shell.execute_reply": "2021-09-09T07:56:12.274830Z",
     "shell.execute_reply.started": "2021-09-09T07:45:15.395888Z"
    },
    "papermill": {
     "duration": 0.038949,
     "end_time": "2021-09-09T07:56:12.274962",
     "exception": false,
     "start_time": "2021-09-09T07:56:12.236013",
     "status": "completed"
    },
    "tags": []
   },
   "outputs": [],
   "source": [
    "def train_model(n_epochs, model, optimizer, criterion, train_loader, test_loader, cuda=True):\n",
    "    \n",
    "    if cuda:\n",
    "        model = model.cuda()\n",
    "    \n",
    "    model = model.train()\n",
    "    \n",
    "    train_loss, train_acc = [], []\n",
    "    test_loss, test_acc = [], []\n",
    "    \n",
    "    for epoch in range(n_epochs):\n",
    "        t0 = time.perf_counter()\n",
    "        \n",
    "        running_loss = 0.\n",
    "        num_correct = 0.\n",
    "        num_total = 0.\n",
    "        \n",
    "        for batch, labels in train_loader:\n",
    "            if cuda:\n",
    "                batch = batch.cuda()\n",
    "                labels = labels.cuda()\n",
    "            \n",
    "            optimizer.zero_grad()\n",
    "            \n",
    "            out = model(batch)\n",
    "            pred_labels = out.argmax(dim=1)\n",
    "            num_correct += float((pred_labels == labels).sum())\n",
    "            num_total += labels.shape[0]\n",
    "            \n",
    "            \n",
    "            \n",
    "            loss = criterion(out, labels)\n",
    "            running_loss += loss\n",
    "            loss.backward()\n",
    "            optimizer.step()\n",
    "        \n",
    "        epoch_loss = running_loss / num_total\n",
    "        epoch_acc = num_correct / num_total\n",
    "        \n",
    "        train_loss.append(epoch_loss.data.cpu())\n",
    "        train_acc.append(epoch_acc)\n",
    "        \n",
    "        t_loss, t_acc = eval_model(model, criterion, test_loader, cuda=True)\n",
    "        \n",
    "        test_loss.append(t_loss.data.cpu())\n",
    "        test_acc.append(t_acc)\n",
    "        \n",
    "        t1 = time.perf_counter()\n",
    "        \n",
    "        delta_t = t1 - t0\n",
    "        print(f\"EPOCH {epoch} ({round(delta_t, 4)} s.): train loss - {epoch_loss}, train accuracy - {epoch_acc}; test loss - {t_loss}, test accuracy - {t_acc}\")\n",
    "        \n",
    "    \n",
    "    return model, train_loss, train_acc, test_loss, test_acc        \n",
    "        \n",
    "        "
   ]
  },
  {
   "cell_type": "code",
   "execution_count": 20,
   "id": "dec9ee47",
   "metadata": {
    "execution": {
     "iopub.execute_input": "2021-09-09T07:56:12.331937Z",
     "iopub.status.busy": "2021-09-09T07:56:12.331403Z",
     "iopub.status.idle": "2021-09-09T07:56:12.335192Z",
     "shell.execute_reply": "2021-09-09T07:56:12.334774Z",
     "shell.execute_reply.started": "2021-09-08T15:18:07.976185Z"
    },
    "papermill": {
     "duration": 0.033937,
     "end_time": "2021-09-09T07:56:12.335298",
     "exception": false,
     "start_time": "2021-09-09T07:56:12.301361",
     "status": "completed"
    },
    "tags": []
   },
   "outputs": [],
   "source": [
    "optimizer = optim.Adam(model.parameters(), lr=1e-3)\n",
    "criterion = nn.CrossEntropyLoss()"
   ]
  },
  {
   "cell_type": "code",
   "execution_count": 21,
   "id": "96107d69",
   "metadata": {
    "execution": {
     "iopub.execute_input": "2021-09-09T07:56:12.395534Z",
     "iopub.status.busy": "2021-09-09T07:56:12.394931Z",
     "iopub.status.idle": "2021-09-09T08:00:35.390356Z",
     "shell.execute_reply": "2021-09-09T08:00:35.390976Z",
     "shell.execute_reply.started": "2021-09-08T15:20:25.8057Z"
    },
    "papermill": {
     "duration": 263.029003,
     "end_time": "2021-09-09T08:00:35.391180",
     "exception": false,
     "start_time": "2021-09-09T07:56:12.362177",
     "status": "completed"
    },
    "tags": []
   },
   "outputs": [
    {
     "name": "stdout",
     "output_type": "stream",
     "text": [
      "EPOCH 0 (13.6622 s.): train loss - 0.01043976005166769, train accuracy - 0.4022218175195775; test loss - 0.0046991994604468346, test accuracy - 0.7208588957055214\n",
      "EPOCH 1 (13.328 s.): train loss - 0.004636584315448999, train accuracy - 0.735785831360408; test loss - 0.0024069873616099358, test accuracy - 0.8305911879531511\n",
      "EPOCH 2 (12.7818 s.): train loss - 0.0032399604097008705, train accuracy - 0.8145692952103442; test loss - 0.0018713686149567366, test accuracy - 0.8735359732292247\n",
      "EPOCH 3 (12.4363 s.): train loss - 0.002553358906880021, train accuracy - 0.8486250227645238; test loss - 0.0018530118977651, test accuracy - 0.8810652537646403\n",
      "EPOCH 4 (13.0776 s.): train loss - 0.002263261703774333, train accuracy - 0.8646876707339283; test loss - 0.0017426207195967436, test accuracy - 0.8816229782487451\n",
      "EPOCH 5 (12.8654 s.): train loss - 0.00201016990467906, train accuracy - 0.8757239118557639; test loss - 0.0018963732291013002, test accuracy - 0.8700501952035694\n",
      "EPOCH 6 (13.3599 s.): train loss - 0.0018322599353268743, train accuracy - 0.8847932981242033; test loss - 0.001899698399938643, test accuracy - 0.8924986056887897\n",
      "EPOCH 7 (12.5975 s.): train loss - 0.001689930446445942, train accuracy - 0.8916772901110909; test loss - 0.001773328403942287, test accuracy - 0.8858059118795315\n",
      "EPOCH 8 (12.4642 s.): train loss - 0.0015794839709997177, train accuracy - 0.8981970497177199; test loss - 0.0020984443835914135, test accuracy - 0.8807863915225879\n",
      "EPOCH 9 (13.1439 s.): train loss - 0.0014826124534010887, train accuracy - 0.9036969586596248; test loss - 0.002342561259865761, test accuracy - 0.8718627997769102\n",
      "EPOCH 10 (12.6882 s.): train loss - 0.0014680384192615747, train accuracy - 0.904170460753961; test loss - 0.0017660013400018215, test accuracy - 0.8926380368098159\n",
      "EPOCH 11 (13.2279 s.): train loss - 0.0013627478620037436, train accuracy - 0.9098524858859952; test loss - 0.0020519259851425886, test accuracy - 0.8798103736754044\n",
      "EPOCH 12 (12.919 s.): train loss - 0.0012763452250510454, train accuracy - 0.9163358222545984; test loss - 0.0020728062372654676, test accuracy - 0.8944506413831568\n",
      "EPOCH 13 (12.5566 s.): train loss - 0.0012977473670616746, train accuracy - 0.9143325441631761; test loss - 0.002112386981025338, test accuracy - 0.8842721695482432\n",
      "EPOCH 14 (13.1229 s.): train loss - 0.0012145763030275702, train accuracy - 0.920342378437443; test loss - 0.0023214875254780054, test accuracy - 0.877579475738985\n",
      "EPOCH 15 (12.9069 s.): train loss - 0.0011479808017611504, train accuracy - 0.923766162811874; test loss - 0.0018934664549306035, test accuracy - 0.8961238148354713\n",
      "EPOCH 16 (13.2192 s.): train loss - 0.0011235927231609821, train accuracy - 0.9246767437625205; test loss - 0.001914497697725892, test accuracy - 0.8856664807585053\n",
      "EPOCH 17 (12.5101 s.): train loss - 0.0010769310174509883, train accuracy - 0.9274449098524858; test loss - 0.001860982389189303, test accuracy - 0.8926380368098159\n",
      "EPOCH 18 (12.619 s.): train loss - 0.0010538463247939944, train accuracy - 0.9303223456565288; test loss - 0.0020038255024701357, test accuracy - 0.8961238148354713\n",
      "EPOCH 19 (13.1347 s.): train loss - 0.0010099522769451141, train accuracy - 0.9312329266071754; test loss - 0.002490032697096467, test accuracy - 0.8693530395984383\n"
     ]
    }
   ],
   "source": [
    "model, train_loss, train_acc, test_loss, test_acc = train_model(20, model, optimizer, criterion, train_loader, test_loader, cuda=True)"
   ]
  },
  {
   "cell_type": "code",
   "execution_count": 22,
   "id": "574b5cc6",
   "metadata": {
    "execution": {
     "iopub.execute_input": "2021-09-09T08:00:35.475895Z",
     "iopub.status.busy": "2021-09-09T08:00:35.474738Z",
     "iopub.status.idle": "2021-09-09T08:00:35.778531Z",
     "shell.execute_reply": "2021-09-09T08:00:35.778937Z",
     "shell.execute_reply.started": "2021-09-08T15:30:58.960284Z"
    },
    "papermill": {
     "duration": 0.3556,
     "end_time": "2021-09-09T08:00:35.779075",
     "exception": false,
     "start_time": "2021-09-09T08:00:35.423475",
     "status": "completed"
    },
    "tags": []
   },
   "outputs": [
    {
     "data": {
      "text/plain": [
       "Text(0.5, 1.0, 'Accuracy')"
      ]
     },
     "execution_count": 22,
     "metadata": {},
     "output_type": "execute_result"
    },
    {
     "data": {
      "image/png": "[encoded data removed]",
      "text/plain": [
       "<Figure size 864x432 with 2 Axes>"
      ]
     },
     "metadata": {
      "needs_background": "light"
     },
     "output_type": "display_data"
    }
   ],
   "source": [
    "fig, (ax1, ax2) = plt.subplots(1, 2, figsize=(12,6))\n",
    "ax1.plot(train_loss)\n",
    "ax1.plot(test_loss)\n",
    "ax1.legend(['train', 'test'])\n",
    "ax1.set_title('Loss')\n",
    "ax2.plot(train_acc)\n",
    "ax2.plot(test_acc)\n",
    "ax2.legend(['train', 'test'])\n",
    "ax2.set_title('Accuracy')"
   ]
  },
  {
   "cell_type": "code",
   "execution_count": 23,
   "id": "9c229f41",
   "metadata": {
    "execution": {
     "iopub.execute_input": "2021-09-09T08:00:35.848833Z",
     "iopub.status.busy": "2021-09-09T08:00:35.848270Z",
     "iopub.status.idle": "2021-09-09T08:00:35.858626Z",
     "shell.execute_reply": "2021-09-09T08:00:35.859027Z",
     "shell.execute_reply.started": "2021-09-08T15:25:13.103751Z"
    },
    "papermill": {
     "duration": 0.047502,
     "end_time": "2021-09-09T08:00:35.859208",
     "exception": false,
     "start_time": "2021-09-09T08:00:35.811706",
     "status": "completed"
    },
    "tags": []
   },
   "outputs": [],
   "source": [
    "state = {'model': model.state_dict(),\n",
    "        'epoch': 20}\n",
    "torch.save(state, './myconvnet_sign_lang.pth')"
   ]
  },
  {
   "cell_type": "code",
   "execution_count": 24,
   "id": "18e570e2",
   "metadata": {
    "execution": {
     "iopub.execute_input": "2021-09-09T08:00:35.929711Z",
     "iopub.status.busy": "2021-09-09T08:00:35.927885Z",
     "iopub.status.idle": "2021-09-09T08:00:36.095302Z",
     "shell.execute_reply": "2021-09-09T08:00:36.096447Z",
     "shell.execute_reply.started": "2021-09-08T15:45:19.091004Z"
    },
    "papermill": {
     "duration": 0.204851,
     "end_time": "2021-09-09T08:00:36.096681",
     "exception": false,
     "start_time": "2021-09-09T08:00:35.891830",
     "status": "completed"
    },
    "tags": []
   },
   "outputs": [],
   "source": [
    "testiter = iter(test_loader)\n",
    "img, label = next(testiter)\n",
    "model = model.cpu()"
   ]
  },
  {
   "cell_type": "code",
   "execution_count": 25,
   "id": "8b59c6d6",
   "metadata": {
    "execution": {
     "iopub.execute_input": "2021-09-09T08:00:36.235342Z",
     "iopub.status.busy": "2021-09-09T08:00:36.234504Z",
     "iopub.status.idle": "2021-09-09T08:00:36.446756Z",
     "shell.execute_reply": "2021-09-09T08:00:36.447123Z",
     "shell.execute_reply.started": "2021-09-08T15:45:47.900875Z"
    },
    "papermill": {
     "duration": 0.281622,
     "end_time": "2021-09-09T08:00:36.447271",
     "exception": false,
     "start_time": "2021-09-09T08:00:36.165649",
     "status": "completed"
    },
    "tags": []
   },
   "outputs": [
    {
     "name": "stdout",
     "output_type": "stream",
     "text": [
      "Fact: 20, Prediction: 17\n",
      "tensor(20)\n"
     ]
    },
    {
     "data": {
      "image/png": "[encoded data removed]",
      "text/plain": [
       "<Figure size 432x288 with 1 Axes>"
      ]
     },
     "metadata": {
      "needs_background": "light"
     },
     "output_type": "display_data"
    }
   ],
   "source": [
    "idx=12\n",
    "pred = model(img)\n",
    "print(f'Fact: {label[idx]}, Prediction: {(torch.argmax(pred[idx], dim=0))}')\n",
    "show_img(img[idx], label[idx])"
   ]
  },
  {
   "cell_type": "markdown",
   "id": "49d792ee",
   "metadata": {
    "papermill": {
     "duration": 0.034479,
     "end_time": "2021-09-09T08:00:36.516024",
     "exception": false,
     "start_time": "2021-09-09T08:00:36.481545",
     "status": "completed"
    },
    "tags": []
   },
   "source": [
    "## Using ready ResNet18 architecture (with additional layers to match desired input and output sizes)"
   ]
  },
  {
   "cell_type": "code",
   "execution_count": 26,
   "id": "e3626fc6",
   "metadata": {
    "execution": {
     "iopub.execute_input": "2021-09-09T08:00:36.588578Z",
     "iopub.status.busy": "2021-09-09T08:00:36.587774Z",
     "iopub.status.idle": "2021-09-09T08:00:36.790262Z",
     "shell.execute_reply": "2021-09-09T08:00:36.790726Z",
     "shell.execute_reply.started": "2021-09-09T07:39:35.347020Z"
    },
    "papermill": {
     "duration": 0.240901,
     "end_time": "2021-09-09T08:00:36.790902",
     "exception": false,
     "start_time": "2021-09-09T08:00:36.550001",
     "status": "completed"
    },
    "tags": []
   },
   "outputs": [
    {
     "data": {
      "text/plain": [
       "ResNet(\n",
       "  (conv1): Conv2d(3, 64, kernel_size=(7, 7), stride=(2, 2), padding=(3, 3), bias=False)\n",
       "  (bn1): BatchNorm2d(64, eps=1e-05, momentum=0.1, affine=True, track_running_stats=True)\n",
       "  (relu): ReLU(inplace=True)\n",
       "  (maxpool): MaxPool2d(kernel_size=3, stride=2, padding=1, dilation=1, ceil_mode=False)\n",
       "  (layer1): Sequential(\n",
       "    (0): BasicBlock(\n",
       "      (conv1): Conv2d(64, 64, kernel_size=(3, 3), stride=(1, 1), padding=(1, 1), bias=False)\n",
       "      (bn1): BatchNorm2d(64, eps=1e-05, momentum=0.1, affine=True, track_running_stats=True)\n",
       "      (relu): ReLU(inplace=True)\n",
       "      (conv2): Conv2d(64, 64, kernel_size=(3, 3), stride=(1, 1), padding=(1, 1), bias=False)\n",
       "      (bn2): BatchNorm2d(64, eps=1e-05, momentum=0.1, affine=True, track_running_stats=True)\n",
       "    )\n",
       "    (1): BasicBlock(\n",
       "      (conv1): Conv2d(64, 64, kernel_size=(3, 3), stride=(1, 1), padding=(1, 1), bias=False)\n",
       "      (bn1): BatchNorm2d(64, eps=1e-05, momentum=0.1, affine=True, track_running_stats=True)\n",
       "      (relu): ReLU(inplace=True)\n",
       "      (conv2): Conv2d(64, 64, kernel_size=(3, 3), stride=(1, 1), padding=(1, 1), bias=False)\n",
       "      (bn2): BatchNorm2d(64, eps=1e-05, momentum=0.1, affine=True, track_running_stats=True)\n",
       "    )\n",
       "  )\n",
       "  (layer2): Sequential(\n",
       "    (0): BasicBlock(\n",
       "      (conv1): Conv2d(64, 128, kernel_size=(3, 3), stride=(2, 2), padding=(1, 1), bias=False)\n",
       "      (bn1): BatchNorm2d(128, eps=1e-05, momentum=0.1, affine=True, track_running_stats=True)\n",
       "      (relu): ReLU(inplace=True)\n",
       "      (conv2): Conv2d(128, 128, kernel_size=(3, 3), stride=(1, 1), padding=(1, 1), bias=False)\n",
       "      (bn2): BatchNorm2d(128, eps=1e-05, momentum=0.1, affine=True, track_running_stats=True)\n",
       "      (downsample): Sequential(\n",
       "        (0): Conv2d(64, 128, kernel_size=(1, 1), stride=(2, 2), bias=False)\n",
       "        (1): BatchNorm2d(128, eps=1e-05, momentum=0.1, affine=True, track_running_stats=True)\n",
       "      )\n",
       "    )\n",
       "    (1): BasicBlock(\n",
       "      (conv1): Conv2d(128, 128, kernel_size=(3, 3), stride=(1, 1), padding=(1, 1), bias=False)\n",
       "      (bn1): BatchNorm2d(128, eps=1e-05, momentum=0.1, affine=True, track_running_stats=True)\n",
       "      (relu): ReLU(inplace=True)\n",
       "      (conv2): Conv2d(128, 128, kernel_size=(3, 3), stride=(1, 1), padding=(1, 1), bias=False)\n",
       "      (bn2): BatchNorm2d(128, eps=1e-05, momentum=0.1, affine=True, track_running_stats=True)\n",
       "    )\n",
       "  )\n",
       "  (layer3): Sequential(\n",
       "    (0): BasicBlock(\n",
       "      (conv1): Conv2d(128, 256, kernel_size=(3, 3), stride=(2, 2), padding=(1, 1), bias=False)\n",
       "      (bn1): BatchNorm2d(256, eps=1e-05, momentum=0.1, affine=True, track_running_stats=True)\n",
       "      (relu): ReLU(inplace=True)\n",
       "      (conv2): Conv2d(256, 256, kernel_size=(3, 3), stride=(1, 1), padding=(1, 1), bias=False)\n",
       "      (bn2): BatchNorm2d(256, eps=1e-05, momentum=0.1, affine=True, track_running_stats=True)\n",
       "      (downsample): Sequential(\n",
       "        (0): Conv2d(128, 256, kernel_size=(1, 1), stride=(2, 2), bias=False)\n",
       "        (1): BatchNorm2d(256, eps=1e-05, momentum=0.1, affine=True, track_running_stats=True)\n",
       "      )\n",
       "    )\n",
       "    (1): BasicBlock(\n",
       "      (conv1): Conv2d(256, 256, kernel_size=(3, 3), stride=(1, 1), padding=(1, 1), bias=False)\n",
       "      (bn1): BatchNorm2d(256, eps=1e-05, momentum=0.1, affine=True, track_running_stats=True)\n",
       "      (relu): ReLU(inplace=True)\n",
       "      (conv2): Conv2d(256, 256, kernel_size=(3, 3), stride=(1, 1), padding=(1, 1), bias=False)\n",
       "      (bn2): BatchNorm2d(256, eps=1e-05, momentum=0.1, affine=True, track_running_stats=True)\n",
       "    )\n",
       "  )\n",
       "  (layer4): Sequential(\n",
       "    (0): BasicBlock(\n",
       "      (conv1): Conv2d(256, 512, kernel_size=(3, 3), stride=(2, 2), padding=(1, 1), bias=False)\n",
       "      (bn1): BatchNorm2d(512, eps=1e-05, momentum=0.1, affine=True, track_running_stats=True)\n",
       "      (relu): ReLU(inplace=True)\n",
       "      (conv2): Conv2d(512, 512, kernel_size=(3, 3), stride=(1, 1), padding=(1, 1), bias=False)\n",
       "      (bn2): BatchNorm2d(512, eps=1e-05, momentum=0.1, affine=True, track_running_stats=True)\n",
       "      (downsample): Sequential(\n",
       "        (0): Conv2d(256, 512, kernel_size=(1, 1), stride=(2, 2), bias=False)\n",
       "        (1): BatchNorm2d(512, eps=1e-05, momentum=0.1, affine=True, track_running_stats=True)\n",
       "      )\n",
       "    )\n",
       "    (1): BasicBlock(\n",
       "      (conv1): Conv2d(512, 512, kernel_size=(3, 3), stride=(1, 1), padding=(1, 1), bias=False)\n",
       "      (bn1): BatchNorm2d(512, eps=1e-05, momentum=0.1, affine=True, track_running_stats=True)\n",
       "      (relu): ReLU(inplace=True)\n",
       "      (conv2): Conv2d(512, 512, kernel_size=(3, 3), stride=(1, 1), padding=(1, 1), bias=False)\n",
       "      (bn2): BatchNorm2d(512, eps=1e-05, momentum=0.1, affine=True, track_running_stats=True)\n",
       "    )\n",
       "  )\n",
       "  (avgpool): AdaptiveAvgPool2d(output_size=(1, 1))\n",
       "  (fc): Linear(in_features=512, out_features=1000, bias=True)\n",
       ")"
      ]
     },
     "execution_count": 26,
     "metadata": {},
     "output_type": "execute_result"
    }
   ],
   "source": [
    "resnet18 = models.resnet18(pretrained=False)\n",
    "resnet18"
   ]
  },
  {
   "cell_type": "code",
   "execution_count": 27,
   "id": "89129a3d",
   "metadata": {
    "execution": {
     "iopub.execute_input": "2021-09-09T08:00:36.865437Z",
     "iopub.status.busy": "2021-09-09T08:00:36.864736Z",
     "iopub.status.idle": "2021-09-09T08:00:36.867562Z",
     "shell.execute_reply": "2021-09-09T08:00:36.867140Z",
     "shell.execute_reply.started": "2021-09-09T07:42:29.074418Z"
    },
    "papermill": {
     "duration": 0.041507,
     "end_time": "2021-09-09T08:00:36.867675",
     "exception": false,
     "start_time": "2021-09-09T08:00:36.826168",
     "status": "completed"
    },
    "tags": []
   },
   "outputs": [],
   "source": [
    "resnet18.fc = nn.Linear(in_features=512, out_features=25) "
   ]
  },
  {
   "cell_type": "code",
   "execution_count": 28,
   "id": "09d411c7",
   "metadata": {
    "execution": {
     "iopub.execute_input": "2021-09-09T08:00:36.940399Z",
     "iopub.status.busy": "2021-09-09T08:00:36.939911Z",
     "iopub.status.idle": "2021-09-09T08:00:36.943763Z",
     "shell.execute_reply": "2021-09-09T08:00:36.943230Z",
     "shell.execute_reply.started": "2021-09-09T07:44:01.428554Z"
    },
    "papermill": {
     "duration": 0.041964,
     "end_time": "2021-09-09T08:00:36.943892",
     "exception": false,
     "start_time": "2021-09-09T08:00:36.901928",
     "status": "completed"
    },
    "tags": []
   },
   "outputs": [],
   "source": [
    "resnet18_1channel = nn.Sequential(nn.Conv2d(in_channels=1, out_channels=3, kernel_size=3, padding=1), \n",
    "                                resnet18)"
   ]
  },
  {
   "cell_type": "code",
   "execution_count": 29,
   "id": "5084a783",
   "metadata": {
    "execution": {
     "iopub.execute_input": "2021-09-09T08:00:37.018373Z",
     "iopub.status.busy": "2021-09-09T08:00:37.017256Z",
     "iopub.status.idle": "2021-09-09T08:00:37.090226Z",
     "shell.execute_reply": "2021-09-09T08:00:37.089805Z",
     "shell.execute_reply.started": "2021-09-09T07:44:25.512993Z"
    },
    "papermill": {
     "duration": 0.11177,
     "end_time": "2021-09-09T08:00:37.090347",
     "exception": false,
     "start_time": "2021-09-09T08:00:36.978577",
     "status": "completed"
    },
    "tags": []
   },
   "outputs": [
    {
     "data": {
      "text/plain": [
       "torch.Size([10, 25])"
      ]
     },
     "execution_count": 29,
     "metadata": {},
     "output_type": "execute_result"
    }
   ],
   "source": [
    "smpl = torch.ones((10, 1, 28, 28))\n",
    "resnet18_1channel(smpl).shape"
   ]
  },
  {
   "cell_type": "code",
   "execution_count": 30,
   "id": "e8945b80",
   "metadata": {
    "execution": {
     "iopub.execute_input": "2021-09-09T08:00:37.167304Z",
     "iopub.status.busy": "2021-09-09T08:00:37.166066Z",
     "iopub.status.idle": "2021-09-09T08:00:37.168399Z",
     "shell.execute_reply": "2021-09-09T08:00:37.168827Z",
     "shell.execute_reply.started": "2021-09-09T07:45:39.988353Z"
    },
    "papermill": {
     "duration": 0.042599,
     "end_time": "2021-09-09T08:00:37.168949",
     "exception": false,
     "start_time": "2021-09-09T08:00:37.126350",
     "status": "completed"
    },
    "tags": []
   },
   "outputs": [],
   "source": [
    "optimizer = optim.Adam(resnet18_1channel.parameters(), lr=1e-3)\n",
    "criterion = nn.CrossEntropyLoss()"
   ]
  },
  {
   "cell_type": "code",
   "execution_count": 31,
   "id": "e3a33b96",
   "metadata": {
    "execution": {
     "iopub.execute_input": "2021-09-09T08:00:37.242071Z",
     "iopub.status.busy": "2021-09-09T08:00:37.241580Z",
     "iopub.status.idle": "2021-09-09T08:08:43.672280Z",
     "shell.execute_reply": "2021-09-09T08:08:43.672906Z",
     "shell.execute_reply.started": "2021-09-09T07:46:29.718166Z"
    },
    "papermill": {
     "duration": 486.469641,
     "end_time": "2021-09-09T08:08:43.673113",
     "exception": false,
     "start_time": "2021-09-09T08:00:37.203472",
     "status": "completed"
    },
    "tags": []
   },
   "outputs": [
    {
     "name": "stdout",
     "output_type": "stream",
     "text": [
      "EPOCH 0 (15.7967 s.): train loss - 0.004665434826165438, train accuracy - 0.7140411582589692; test loss - 0.008519317023456097, test accuracy - 0.6175404350250976\n",
      "EPOCH 1 (16.7792 s.): train loss - 0.01605939120054245, train accuracy - 0.09823347295574576; test loss - 0.011737753637135029, test accuracy - 0.22894590072504184\n",
      "EPOCH 2 (16.0218 s.): train loss - 0.009435907937586308, train accuracy - 0.38437443088690587; test loss - 0.005258876830339432, test accuracy - 0.6522587841606247\n",
      "EPOCH 3 (16.9796 s.): train loss - 0.0046559409238398075, train accuracy - 0.7040611910398834; test loss - 0.002276057843118906, test accuracy - 0.8467651979921919\n",
      "EPOCH 4 (16.1001 s.): train loss - 0.0029800995253026485, train accuracy - 0.8093607721726461; test loss - 0.0027613763231784105, test accuracy - 0.8601505856107083\n",
      "EPOCH 5 (16.72 s.): train loss - 0.002519793575629592, train accuracy - 0.8337643416499727; test loss - 0.0017601699801161885, test accuracy - 0.8990518683770218\n",
      "EPOCH 6 (15.8448 s.): train loss - 0.002094835275784135, train accuracy - 0.8589692223638682; test loss - 0.001971482764929533, test accuracy - 0.9072783045175683\n",
      "EPOCH 7 (16.4874 s.): train loss - 0.001815337804146111, train accuracy - 0.8782006920415225; test loss - 0.002708911430090666, test accuracy - 0.8930563301728945\n",
      "EPOCH 8 (16.0847 s.): train loss - 0.001744551002047956, train accuracy - 0.8847204516481515; test loss - 0.00110495591070503, test accuracy - 0.9347462353597323\n",
      "EPOCH 9 (16.7065 s.): train loss - 0.0014503254787996411, train accuracy - 0.9034784192314697; test loss - 0.001754620810970664, test accuracy - 0.9125766871165644\n",
      "EPOCH 10 (15.9513 s.): train loss - 0.0013156392378732562, train accuracy - 0.9110180295028228; test loss - 0.0016510548302903771, test accuracy - 0.9270775237032906\n",
      "EPOCH 11 (16.4654 s.): train loss - 0.001285975449718535, train accuracy - 0.9113458386450556; test loss - 0.0019360838923603296, test accuracy - 0.9029559397657557\n",
      "EPOCH 12 (15.5915 s.): train loss - 0.0012064729817211628, train accuracy - 0.9186669094882535; test loss - 0.0017395851900801063, test accuracy - 0.9173173452314557\n",
      "EPOCH 13 (16.5283 s.): train loss - 0.0011145618045702577, train accuracy - 0.925842287379348; test loss - 0.0019957218319177628, test accuracy - 0.9167596207473508\n",
      "EPOCH 14 (15.776 s.): train loss - 0.0010453829308971763, train accuracy - 0.9278455654707704; test loss - 0.0013119593495503068, test accuracy - 0.9355828220858896\n",
      "EPOCH 15 (16.6506 s.): train loss - 0.0010023348731920123, train accuracy - 0.932362046985977; test loss - 0.0010608583688735962, test accuracy - 0.9542665923034022\n",
      "EPOCH 16 (15.758 s.): train loss - 0.0009331890032626688, train accuracy - 0.9384447277362957; test loss - 0.0012190211564302444, test accuracy - 0.9355828220858896\n",
      "EPOCH 17 (16.4127 s.): train loss - 0.0008754449663683772, train accuracy - 0.9417956656346749; test loss - 0.0012853239895775914, test accuracy - 0.937813720022309\n",
      "EPOCH 18 (15.8017 s.): train loss - 0.0008067142334766686, train accuracy - 0.9446366782006921; test loss - 0.000886274385266006, test accuracy - 0.9539877300613497\n",
      "EPOCH 19 (16.4549 s.): train loss - 0.0007743376772850752, train accuracy - 0.9465671098160626; test loss - 0.0018183839274570346, test accuracy - 0.9389291689905187\n",
      "EPOCH 20 (15.7723 s.): train loss - 0.0007379419985227287, train accuracy - 0.9491531597158988; test loss - 0.0008911351324059069, test accuracy - 0.954824316787507\n",
      "EPOCH 21 (16.3209 s.): train loss - 0.0006876299157738686, train accuracy - 0.9538517574212347; test loss - 0.0005521641578525305, test accuracy - 0.9673731176798661\n",
      "EPOCH 22 (15.9478 s.): train loss - 0.0006868090131320059, train accuracy - 0.9533418320888727; test loss - 0.0013921946519985795, test accuracy - 0.9295872838817624\n",
      "EPOCH 23 (16.1222 s.): train loss - 0.0006721373065374792, train accuracy - 0.9550537242760881; test loss - 0.0011188458884134889, test accuracy - 0.9459007250418293\n",
      "EPOCH 24 (16.4044 s.): train loss - 0.0006215794128365815, train accuracy - 0.9582953924603897; test loss - 0.0009925963822752237, test accuracy - 0.9507808142777467\n",
      "EPOCH 25 (16.1706 s.): train loss - 0.0006261461530812085, train accuracy - 0.9587688945547259; test loss - 0.0013455175794661045, test accuracy - 0.9422755158951478\n",
      "EPOCH 26 (16.0106 s.): train loss - 0.0006338668172247708, train accuracy - 0.9580404297942087; test loss - 0.0008375825709663332, test accuracy - 0.9590072504182934\n",
      "EPOCH 27 (16.1045 s.): train loss - 0.0006265502888709307, train accuracy - 0.9578947368421052; test loss - 0.0008909645257517695, test accuracy - 0.9580312325711099\n",
      "EPOCH 28 (15.991 s.): train loss - 0.000545922142919153, train accuracy - 0.9643780732107085; test loss - 0.0012357808882370591, test accuracy - 0.9493865030674846\n",
      "EPOCH 29 (16.5911 s.): train loss - 0.0005087844328954816, train accuracy - 0.965798579493717; test loss - 0.001131828990764916, test accuracy - 0.9559397657557167\n"
     ]
    }
   ],
   "source": [
    "model, train_loss, train_acc, test_loss, test_acc = train_model(30, resnet18_1channel, optimizer, criterion, train_loader, test_loader, cuda=True)"
   ]
  }
 ],
 "metadata": {
  "kernelspec": {
   "display_name": "cv",
   "language": "python",
   "name": "python3"
  },
  "language_info": {
   "codemirror_mode": {
    "name": "ipython",
    "version": 3
   },
   "file_extension": ".py",
   "mimetype": "text/x-python",
   "name": "python",
   "nbconvert_exporter": "python",
   "pygments_lexer": "ipython3",
   "version": "3.10.12"
  },
  "papermill": {
   "default_parameters": {},
   "duration": 767.876621,
   "end_time": "2021-09-09T08:08:45.423623",
   "environment_variables": {},
   "exception": null,
   "input_path": "__notebook__.ipynb",
   "output_path": "__notebook__.ipynb",
   "parameters": {},
   "start_time": "2021-09-09T07:55:57.547002",
   "version": "2.3.3"
  }
 },
 "nbformat": 4,
 "nbformat_minor": 5
}
