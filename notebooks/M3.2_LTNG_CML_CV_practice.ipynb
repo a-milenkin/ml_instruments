{
 "cells": [
  {
   "cell_type": "markdown",
   "id": "0ae58679-4d47-4293-9480-8b298ebf541e",
   "metadata": {},
   "source": [
    "# <center> ⚡ ClearML + Lightning в CV: учим GAN 🛠\n",
    "\n",
    "Вам необходимо **сдать файл** (или несколько файлов) с расширением `любое_имя.py` и **ссылку** на результат эксперимента в `ClearML`:\n",
    "\n",
    "**Основное задание (5 баллов):**\n",
    "\n",
    "1. Структурировать код с использованием `PyTorch Lightning`:\n",
    "\n",
    "* Создать класс, наследующий от `LightningModule`, который реализует GAN.\n",
    "* Разбить код на методы: `training_step, configure_optimizers, validation_step` (если требуется) и т. д.\n",
    "\n",
    "2. Создать `LightningDataModule`:\n",
    "* Реализовать методы `prepare_data(), setup(stage), train_dataloader()` (и, по желанию, `val_dataloader()`) для загрузки датасета MNIST.\n",
    "\n",
    "3. Интегрировать `ClearML`:\n",
    "* Проверять вначале работы скрипта наличие всех необходимых для работы `ClearML credentials`, при необходимости просить их ввести.\n",
    "* Логировать гиперпараметры\n",
    "* Логировать метрики (например, потери генератора и дискриминатора)\n",
    "* Логировать промежуточные сгенерированные изображения, чтобы они отображались на вкладке `Debug samples` в UI.\n",
    "\n",
    "4. Сохранение чекпоинтов:\n",
    "* Использовать возможности `Lightning` для автоматического сохранения чекпоинтов модели.\n",
    "\n",
    "**Дополнительное задание (2 балла):**\n",
    "1. Добавьте считывание параметра `--epoch` при запуске файла на исполнение, который будет отвечать за количество эпох обучения (значение по умолчанию `10`).\n",
    "2. Добавьте считывание параметра `--debug_samples_epoch` при запуске файла на исполнение, который будет отвечать за частоту логирования отладочных сэмплов: 1 - каждую эпоху, 2 - каждую вторую эпоху и.т.д (значение по умолчанию `1`).\n",
    "Пример команды: `python любое_имя.py --epoch 20 --debug_samples_epoch 2`\n",
    "\n",
    "**Задание со звездочкой 🌟 (1 балл):**\n",
    "\n",
    "Создайте репозиторий на одном из хостингов: `GitHub, GitLab, GitVerse`\n",
    "Загрузите на хостинг свое решение, добавив `README` файл с краткой информацией о проекте и его запуском\n",
    "Прикрепите ссылку на репозиторий в текстовом поле.\n",
    "Файл должен запускаться командой `python любое_имя.py` и отрабатывать до конца без падений.\n",
    "\n",
    "Так же в текстовом поле приложите ссылку с результатами, которую можно создать в `ClearML` на странице эксперимента в `меню -> Share`."
   ]
  },
  {
   "cell_type": "code",
   "execution_count": 1,
   "id": "916ea82b-5d48-47ab-9862-79c8647516fa",
   "metadata": {},
   "outputs": [],
   "source": [
    "import os\n",
    "import torch\n",
    "import torch.nn as nn\n",
    "import torch.optim as optim\n",
    "from torch.utils.data import DataLoader\n",
    "import torchvision\n",
    "import torchvision.datasets as datasets\n",
    "import torchvision.transforms as transforms"
   ]
  },
  {
   "cell_type": "code",
   "execution_count": 8,
   "id": "36220650-d14b-420f-8e13-2c9d28daf7ac",
   "metadata": {},
   "outputs": [],
   "source": [
    "# Гиперпараметры\n",
    "batch_size = 64\n",
    "lr = 0.0002\n",
    "num_epochs = 10\n",
    "noise_dim = 100\n",
    "device = torch.device(\"cuda\" if torch.cuda.is_available() else \"cpu\")"
   ]
  },
  {
   "cell_type": "code",
   "execution_count": 3,
   "id": "ee6c2c03-840c-4e8f-a339-e44d731104b0",
   "metadata": {},
   "outputs": [
    {
     "name": "stdout",
     "output_type": "stream",
     "text": [
      "Downloading http://yann.lecun.com/exdb/mnist/train-images-idx3-ubyte.gz\n",
      "Failed to download (trying next):\n",
      "HTTP Error 404: Not Found\n",
      "\n",
      "Downloading https://ossci-datasets.s3.amazonaws.com/mnist/train-images-idx3-ubyte.gz\n",
      "Downloading https://ossci-datasets.s3.amazonaws.com/mnist/train-images-idx3-ubyte.gz to ./data/MNIST/raw/train-images-idx3-ubyte.gz\n"
     ]
    },
    {
     "name": "stderr",
     "output_type": "stream",
     "text": [
      "100%|██████████| 9912422/9912422 [00:01<00:00, 8256739.03it/s] \n"
     ]
    },
    {
     "name": "stdout",
     "output_type": "stream",
     "text": [
      "Extracting ./data/MNIST/raw/train-images-idx3-ubyte.gz to ./data/MNIST/raw\n",
      "\n",
      "Downloading http://yann.lecun.com/exdb/mnist/train-labels-idx1-ubyte.gz\n",
      "Failed to download (trying next):\n",
      "HTTP Error 404: Not Found\n",
      "\n",
      "Downloading https://ossci-datasets.s3.amazonaws.com/mnist/train-labels-idx1-ubyte.gz\n",
      "Downloading https://ossci-datasets.s3.amazonaws.com/mnist/train-labels-idx1-ubyte.gz to ./data/MNIST/raw/train-labels-idx1-ubyte.gz\n"
     ]
    },
    {
     "name": "stderr",
     "output_type": "stream",
     "text": [
      "100%|██████████| 28881/28881 [00:00<00:00, 223295.72it/s]\n"
     ]
    },
    {
     "name": "stdout",
     "output_type": "stream",
     "text": [
      "Extracting ./data/MNIST/raw/train-labels-idx1-ubyte.gz to ./data/MNIST/raw\n",
      "\n",
      "Downloading http://yann.lecun.com/exdb/mnist/t10k-images-idx3-ubyte.gz\n",
      "Failed to download (trying next):\n",
      "HTTP Error 404: Not Found\n",
      "\n",
      "Downloading https://ossci-datasets.s3.amazonaws.com/mnist/t10k-images-idx3-ubyte.gz\n",
      "Downloading https://ossci-datasets.s3.amazonaws.com/mnist/t10k-images-idx3-ubyte.gz to ./data/MNIST/raw/t10k-images-idx3-ubyte.gz\n"
     ]
    },
    {
     "name": "stderr",
     "output_type": "stream",
     "text": [
      "100%|██████████| 1648877/1648877 [00:00<00:00, 2071931.98it/s]\n"
     ]
    },
    {
     "name": "stdout",
     "output_type": "stream",
     "text": [
      "Extracting ./data/MNIST/raw/t10k-images-idx3-ubyte.gz to ./data/MNIST/raw\n",
      "\n",
      "Downloading http://yann.lecun.com/exdb/mnist/t10k-labels-idx1-ubyte.gz\n",
      "Failed to download (trying next):\n",
      "HTTP Error 404: Not Found\n",
      "\n",
      "Downloading https://ossci-datasets.s3.amazonaws.com/mnist/t10k-labels-idx1-ubyte.gz\n",
      "Downloading https://ossci-datasets.s3.amazonaws.com/mnist/t10k-labels-idx1-ubyte.gz to ./data/MNIST/raw/t10k-labels-idx1-ubyte.gz\n"
     ]
    },
    {
     "name": "stderr",
     "output_type": "stream",
     "text": [
      "100%|██████████| 4542/4542 [00:00<00:00, 9597243.71it/s]"
     ]
    },
    {
     "name": "stdout",
     "output_type": "stream",
     "text": [
      "Extracting ./data/MNIST/raw/t10k-labels-idx1-ubyte.gz to ./data/MNIST/raw\n",
      "\n"
     ]
    },
    {
     "name": "stderr",
     "output_type": "stream",
     "text": [
      "\n"
     ]
    }
   ],
   "source": [
    "# Подготовка датасета MNIST\n",
    "transform = transforms.Compose(\n",
    "    [transforms.ToTensor(), transforms.Normalize((0.5,), (0.5,))]\n",
    ")\n",
    "dataset = datasets.MNIST(root=\"./data\", train=True, download=True, transform=transform)\n",
    "dataloader = DataLoader(dataset, batch_size=batch_size, shuffle=True)"
   ]
  },
  {
   "cell_type": "code",
   "execution_count": 4,
   "id": "ea0353de-15e9-456c-a592-5753a18925bf",
   "metadata": {},
   "outputs": [],
   "source": [
    "# Определение генератора\n",
    "class Generator(nn.Module):\n",
    "    def __init__(self, noise_dim):\n",
    "        super(Generator, self).__init__()\n",
    "        self.main = nn.Sequential(\n",
    "            # Вход: вектор шума размера noise_dim\n",
    "            nn.Linear(noise_dim, 256 * 7 * 7),\n",
    "            nn.ReLU(True),\n",
    "            nn.Unflatten(1, (256, 7, 7)),\n",
    "            # Состояние: (256, 7, 7)\n",
    "            nn.ConvTranspose2d(\n",
    "                256, 128, kernel_size=4, stride=2, padding=1, bias=False\n",
    "            ),  # -> (128, 14, 14)\n",
    "            nn.BatchNorm2d(128),\n",
    "            nn.ReLU(True),\n",
    "            nn.ConvTranspose2d(\n",
    "                128, 1, kernel_size=4, stride=2, padding=1, bias=False\n",
    "            ),  # -> (1, 28, 28)\n",
    "            nn.Tanh(),\n",
    "        )\n",
    "\n",
    "    def forward(self, input):\n",
    "        return self.main(input)\n",
    "\n",
    "\n",
    "# Определение дискриминатора\n",
    "class Discriminator(nn.Module):\n",
    "    def __init__(self):\n",
    "        super(Discriminator, self).__init__()\n",
    "        self.main = nn.Sequential(\n",
    "            # Вход: изображение (1, 28, 28)\n",
    "            nn.Conv2d(\n",
    "                1, 64, kernel_size=4, stride=2, padding=1, bias=False\n",
    "            ),  # -> (64, 14, 14)\n",
    "            nn.LeakyReLU(0.2, inplace=True),\n",
    "            nn.Conv2d(\n",
    "                64, 128, kernel_size=4, stride=2, padding=1, bias=False\n",
    "            ),  # -> (128, 7, 7)\n",
    "            nn.BatchNorm2d(128),\n",
    "            nn.LeakyReLU(0.2, inplace=True),\n",
    "            nn.Flatten(),\n",
    "            nn.Linear(128 * 7 * 7, 1),\n",
    "            nn.Sigmoid(),\n",
    "        )\n",
    "\n",
    "    def forward(self, input):\n",
    "        return self.main(input)"
   ]
  },
  {
   "cell_type": "code",
   "execution_count": 9,
   "id": "f5240cf1-85c0-42e5-89ba-ddcbe14c6687",
   "metadata": {},
   "outputs": [],
   "source": [
    "# Создаем модели\n",
    "netG = Generator(noise_dim).to(device)\n",
    "netD = Discriminator().to(device)\n",
    "\n",
    "# Определяем функцию потерь и оптимизаторы\n",
    "criterion = nn.BCELoss()\n",
    "optimizerD = optim.Adam(netD.parameters(), lr=lr, betas=(0.5, 0.999))\n",
    "optimizerG = optim.Adam(netG.parameters(), lr=lr, betas=(0.5, 0.999))\n",
    "\n",
    "# Метки\n",
    "real_label = 1.0\n",
    "fake_label = 0.0"
   ]
  },
  {
   "cell_type": "code",
   "execution_count": 10,
   "id": "f2d76bbf-389a-452b-a34f-a6d708b574d3",
   "metadata": {},
   "outputs": [
    {
     "name": "stdout",
     "output_type": "stream",
     "text": [
      "[0/10][0/938]\tLoss_D: 1.3175\tLoss_G: 0.8938\tD(x): 0.5733\tD(G(z)): 0.5213 / 0.4172\n",
      "[0/10][300/938]\tLoss_D: 0.0021\tLoss_G: 7.1663\tD(x): 0.9989\tD(G(z)): 0.0009 / 0.0008\n",
      "[0/10][600/938]\tLoss_D: 0.0007\tLoss_G: 8.0991\tD(x): 0.9996\tD(G(z)): 0.0003 / 0.0003\n",
      "[0/10][900/938]\tLoss_D: 0.0242\tLoss_G: 4.8106\tD(x): 0.9880\tD(G(z)): 0.0115 / 0.0091\n",
      "[1/10][0/938]\tLoss_D: 0.0167\tLoss_G: 5.3511\tD(x): 0.9897\tD(G(z)): 0.0059 / 0.0050\n",
      "[1/10][300/938]\tLoss_D: 0.5373\tLoss_G: 2.5472\tD(x): 0.8024\tD(G(z)): 0.2376 / 0.1044\n",
      "[1/10][600/938]\tLoss_D: 0.6278\tLoss_G: 2.3498\tD(x): 0.8830\tD(G(z)): 0.3795 / 0.1055\n",
      "[1/10][900/938]\tLoss_D: 0.3221\tLoss_G: 2.5783\tD(x): 0.8929\tD(G(z)): 0.1707 / 0.0955\n",
      "[2/10][0/938]\tLoss_D: 0.3158\tLoss_G: 2.7685\tD(x): 0.9203\tD(G(z)): 0.1878 / 0.0816\n",
      "[2/10][300/938]\tLoss_D: 0.4891\tLoss_G: 3.7518\tD(x): 0.9436\tD(G(z)): 0.3114 / 0.0344\n",
      "[2/10][600/938]\tLoss_D: 0.3738\tLoss_G: 1.5768\tD(x): 0.7862\tD(G(z)): 0.0808 / 0.2451\n",
      "[2/10][900/938]\tLoss_D: 0.4187\tLoss_G: 1.9415\tD(x): 0.8275\tD(G(z)): 0.1719 / 0.1812\n",
      "[3/10][0/938]\tLoss_D: 0.3166\tLoss_G: 2.0943\tD(x): 0.8442\tD(G(z)): 0.1096 / 0.1547\n",
      "[3/10][300/938]\tLoss_D: 0.3544\tLoss_G: 2.3566\tD(x): 0.8438\tD(G(z)): 0.1473 / 0.1160\n",
      "[3/10][600/938]\tLoss_D: 0.4631\tLoss_G: 1.8307\tD(x): 0.7415\tD(G(z)): 0.0805 / 0.2181\n",
      "[3/10][900/938]\tLoss_D: 0.9637\tLoss_G: 0.8924\tD(x): 0.4943\tD(G(z)): 0.0197 / 0.4819\n",
      "[4/10][0/938]\tLoss_D: 0.3185\tLoss_G: 2.5432\tD(x): 0.8866\tD(G(z)): 0.1601 / 0.1028\n",
      "[4/10][300/938]\tLoss_D: 0.2791\tLoss_G: 1.8135\tD(x): 0.8339\tD(G(z)): 0.0726 / 0.2038\n",
      "[4/10][600/938]\tLoss_D: 0.3426\tLoss_G: 2.6509\tD(x): 0.9009\tD(G(z)): 0.1977 / 0.0881\n",
      "[4/10][900/938]\tLoss_D: 0.2774\tLoss_G: 2.5952\tD(x): 0.8922\tD(G(z)): 0.1219 / 0.1102\n",
      "[5/10][0/938]\tLoss_D: 0.4300\tLoss_G: 1.9046\tD(x): 0.7400\tD(G(z)): 0.0451 / 0.2025\n",
      "[5/10][300/938]\tLoss_D: 0.3725\tLoss_G: 2.1839\tD(x): 0.8026\tD(G(z)): 0.1117 / 0.1539\n",
      "[5/10][600/938]\tLoss_D: 0.3962\tLoss_G: 1.8846\tD(x): 0.8456\tD(G(z)): 0.1548 / 0.1823\n",
      "[5/10][900/938]\tLoss_D: 0.3048\tLoss_G: 2.4151\tD(x): 0.8784\tD(G(z)): 0.1377 / 0.1145\n",
      "[6/10][0/938]\tLoss_D: 0.7290\tLoss_G: 4.3737\tD(x): 0.9725\tD(G(z)): 0.4515 / 0.0204\n",
      "[6/10][300/938]\tLoss_D: 0.2754\tLoss_G: 2.6700\tD(x): 0.9040\tD(G(z)): 0.1359 / 0.1050\n",
      "[6/10][600/938]\tLoss_D: 0.3946\tLoss_G: 1.8663\tD(x): 0.7837\tD(G(z)): 0.1005 / 0.2167\n",
      "[6/10][900/938]\tLoss_D: 0.6159\tLoss_G: 1.3020\tD(x): 0.6828\tD(G(z)): 0.0952 / 0.3526\n",
      "[7/10][0/938]\tLoss_D: 0.4471\tLoss_G: 2.8823\tD(x): 0.9005\tD(G(z)): 0.2591 / 0.0793\n",
      "[7/10][300/938]\tLoss_D: 0.4432\tLoss_G: 3.1046\tD(x): 0.9311\tD(G(z)): 0.2713 / 0.0722\n",
      "[7/10][600/938]\tLoss_D: 0.2120\tLoss_G: 2.4116\tD(x): 0.9171\tD(G(z)): 0.1038 / 0.1250\n",
      "[7/10][900/938]\tLoss_D: 0.4639\tLoss_G: 2.3940\tD(x): 0.8596\tD(G(z)): 0.2212 / 0.1398\n",
      "[8/10][0/938]\tLoss_D: 0.4486\tLoss_G: 3.2283\tD(x): 0.9309\tD(G(z)): 0.2522 / 0.0727\n",
      "[8/10][300/938]\tLoss_D: 0.2912\tLoss_G: 3.0664\tD(x): 0.8816\tD(G(z)): 0.1207 / 0.0694\n",
      "[8/10][600/938]\tLoss_D: 0.2894\tLoss_G: 2.6879\tD(x): 0.8734\tD(G(z)): 0.1217 / 0.1089\n",
      "[8/10][900/938]\tLoss_D: 0.3819\tLoss_G: 2.4093\tD(x): 0.8545\tD(G(z)): 0.1325 / 0.1262\n",
      "[9/10][0/938]\tLoss_D: 0.3694\tLoss_G: 3.1494\tD(x): 0.8801\tD(G(z)): 0.1764 / 0.0689\n",
      "[9/10][300/938]\tLoss_D: 0.3716\tLoss_G: 2.1974\tD(x): 0.8087\tD(G(z)): 0.0794 / 0.1728\n",
      "[9/10][600/938]\tLoss_D: 0.3287\tLoss_G: 3.5192\tD(x): 0.9300\tD(G(z)): 0.2015 / 0.0437\n",
      "[9/10][900/938]\tLoss_D: 0.4014\tLoss_G: 2.2730\tD(x): 0.8247\tD(G(z)): 0.1306 / 0.1414\n"
     ]
    }
   ],
   "source": [
    "# Основной цикл обучения\n",
    "for epoch in range(num_epochs):\n",
    "    for i, (data, _) in enumerate(dataloader):\n",
    "        ############################\n",
    "        #  Обновляем дискриминатор\n",
    "        ############################\n",
    "        netD.zero_grad()\n",
    "        # Обучение на реальных изображениях\n",
    "        real_images = data.to(device)\n",
    "        b_size = real_images.size(0)\n",
    "        label = torch.full((b_size,), real_label, dtype=torch.float, device=device)\n",
    "\n",
    "        output = netD(real_images).view(-1)\n",
    "        errD_real = criterion(output, label)\n",
    "        errD_real.backward()\n",
    "        D_x = output.mean().item()\n",
    "\n",
    "        # Обучение на фейковых изображениях\n",
    "        noise = torch.randn(b_size, noise_dim, device=device)\n",
    "        fake_images = netG(noise)\n",
    "        label.fill_(fake_label)\n",
    "        output = netD(fake_images.detach()).view(-1)\n",
    "        errD_fake = criterion(output, label)\n",
    "        errD_fake.backward()\n",
    "        D_G_z1 = output.mean().item()\n",
    "\n",
    "        errD = errD_real + errD_fake\n",
    "        optimizerD.step()\n",
    "\n",
    "        ############################\n",
    "        #  Обновляем генератор\n",
    "        ############################\n",
    "        netG.zero_grad()\n",
    "        label.fill_(\n",
    "            real_label\n",
    "        )  # Для генератора \"фейковые\" метки считаются как реальные\n",
    "        output = netD(fake_images).view(-1)\n",
    "        errG = criterion(output, label)\n",
    "        errG.backward()\n",
    "        D_G_z2 = output.mean().item()\n",
    "        optimizerG.step()\n",
    "\n",
    "        if i % 300 == 0:\n",
    "            print(\n",
    "                \"[%d/%d][%d/%d]\\tLoss_D: %.4f\\tLoss_G: %.4f\\tD(x): %.4f\\tD(G(z)): %.4f / %.4f\"\n",
    "                % (\n",
    "                    epoch,\n",
    "                    num_epochs,\n",
    "                    i,\n",
    "                    len(dataloader),\n",
    "                    errD.item(),\n",
    "                    errG.item(),\n",
    "                    D_x,\n",
    "                    D_G_z1,\n",
    "                    D_G_z2,\n",
    "                )\n",
    "            )\n",
    "\n",
    "    # Сохраняем сэмплы генератора каждые 2 эпохи\n",
    "    if epoch % 2 == 0:\n",
    "        with torch.no_grad():\n",
    "            fixed_noise = torch.randn(64, noise_dim, device=device)\n",
    "            fake = netG(fixed_noise).detach().cpu()\n",
    "            os.makedirs(\"output\", exist_ok=True)\n",
    "            torchvision.utils.save_image(\n",
    "                fake, f\"output/fake_samples_epoch_{epoch}.png\", normalize=True\n",
    "            )"
   ]
  },
  {
   "cell_type": "code",
   "execution_count": 7,
   "id": "d43c3ff4-98af-4603-ad1c-0b58ad210711",
   "metadata": {},
   "outputs": [],
   "source": [
    "# Сохраняем финальные веса генератора\n",
    "torch.save(netG.state_dict(), \"netG_final.pth\")"
   ]
  },
  {
   "cell_type": "markdown",
   "id": "9e10f12f-55e5-4c8d-81a5-758c931a8394",
   "metadata": {},
   "source": [
    "# Запись файлов для сдачи на Stepik"
   ]
  },
  {
   "cell_type": "code",
   "execution_count": null,
   "id": "9dcaf3f2-d24e-41ba-9b85-8e4825c5b75d",
   "metadata": {},
   "outputs": [],
   "source": [
    "!pip install clearml lightning -q"
   ]
  },
  {
   "cell_type": "code",
   "execution_count": 11,
   "id": "6cf532c4-79eb-4c00-adfa-78c1e4777a31",
   "metadata": {},
   "outputs": [
    {
     "name": "stdout",
     "output_type": "stream",
     "text": [
      "Writing example.py\n"
     ]
    }
   ],
   "source": [
    "%%writefile train.py\n",
    "#!/usr/bin/env python\n"
   ]
  },
  {
   "cell_type": "code",
   "execution_count": null,
   "id": "a4f3994d-2ad2-458a-bcd3-19bde61ef15a",
   "metadata": {},
   "outputs": [],
   "source": [
    "# Проверка\n",
    "!python train.py"
   ]
  },
  {
   "cell_type": "code",
   "execution_count": null,
   "id": "6d54fa44-70ac-4e01-8c49-34619038caf0",
   "metadata": {},
   "outputs": [],
   "source": [
    "# Проверка с доп.заданием\n",
    "!python train.py --epoch 20 --debug_samples_epoch 2"
   ]
  }
 ],
 "metadata": {
  "kernelspec": {
   "display_name": "cv",
   "language": "python",
   "name": "python3"
  },
  "language_info": {
   "codemirror_mode": {
    "name": "ipython",
    "version": 3
   },
   "file_extension": ".py",
   "mimetype": "text/x-python",
   "name": "python",
   "nbconvert_exporter": "python",
   "pygments_lexer": "ipython3",
   "version": "3.10.12"
  }
 },
 "nbformat": 4,
 "nbformat_minor": 5
}
