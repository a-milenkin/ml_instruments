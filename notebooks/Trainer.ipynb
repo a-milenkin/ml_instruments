{
 "cells": [
  {
   "cell_type": "markdown",
   "metadata": {},
   "source": [
    "# План\n",
    "\n",
    "_Основное_:\n",
    "- Эффективное логирование\n",
    "- Loggers\n",
    "\n",
    "_Torchmetrics_:\n",
    "\n",
    "_Tuner_:\n",
    "- Автоматическое нахождение learning_rate\n",
    "- Автоматическое нахождение batch_size"
   ]
  },
  {
   "cell_type": "markdown",
   "metadata": {},
   "source": [
    "Ссылка на доки Torchmetrics https://torchmetrics.readthedocs.io/en/v1.3.0/"
   ]
  },
  {
   "cell_type": "markdown",
   "metadata": {},
   "source": []
  }
 ],
 "metadata": {
  "language_info": {
   "name": "python"
  }
 },
 "nbformat": 4,
 "nbformat_minor": 2
}
