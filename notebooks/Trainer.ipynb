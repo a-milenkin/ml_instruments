{
 "cells": [
  {
   "cell_type": "markdown",
   "metadata": {},
   "source": [
    "# <center> <h1>🦾 `Trainer` - основа хорошей тренировки! 🏋‍♂️</h1> </center>"
   ]
  },
  {
   "cell_type": "markdown",
   "metadata": {
    "jp-MarkdownHeadingCollapsed": true
   },
   "source": [
    "### Оглавление ноутбука\n",
    "<img src='../images/pl.webp' align=\"right\" width=\"508\" height=\"428\" >\n",
    "<br>\n",
    "\n",
    "<p><font size=\"3\" face=\"Arial\" font-size=\"large\"><ul type=\"square\">\n",
    "    \n",
    "<li><a href=\"#p1\">🤔 Зачем нужен Trainer?</a></li>\n",
    "<li><a href=\"#p2\">🤹‍♀️ Параметры Trainer</a></li>\n",
    "<li><a href=\"#p7\">🔫 Model, Trainer & 2 smoking CallBacks 🔫</a></li>\n",
    "<li><a href=\"#p3\">📏 Torchmetrics - удобный доступ к любым метрикам! 📐</a></li>\n",
    "<li><a href=\"#p4\">📏 TorchMetrics в PyTorch Lightning ⚡</a></li>\n",
    "<li><a href=\"#p5\">🎚 Tuner - подбираем идеальные гиперпараметры! </a></li>\n",
    "<li><a href=\"#p6\">🧸 Выводы и заключения ✅ </a></li>\n",
    "\n",
    "\n",
    "    \n",
    "</ul></font></p>"
   ]
  },
  {
   "cell_type": "markdown",
   "metadata": {},
   "source": [
    "### 🧑‍🎓 В этом ноутбуке разберем работу с `Trainer`, его `Callbaсks` и библиотеку `Torchmetrics`"
   ]
  },
  {
   "cell_type": "markdown",
   "metadata": {},
   "source": [
    "# <center id=\"p1\">  🤔 Зачем нужен Trainer?</center>"
   ]
  },
  {
   "cell_type": "markdown",
   "metadata": {},
   "source": [
    "<div class=\"alert alert-info\">\n",
    "\n",
    "Тренер в реальной жизни 🍏 тренирует вас, давая обратную связь о ваших успехах, делая отчеты о прогрессе, помогая вам добиться результатов. \n",
    "\n",
    "`Trainer` из `Lightning` делает тоже с вашей моделью  💪:\n",
    "- 🏋️ Сам ее обучает, используя `EarlyStopping`, `Graident Accumulation ` и пр.\n",
    "- 🤹‍♂️ Собирает метрики по мере обучения\n",
    "- 🚀 Хотите обучать нейронку на GPU? А если GPU несколько - не проблема, можно запустить обучение хоть на 100 GPU"
   ]
  },
  {
   "cell_type": "markdown",
   "metadata": {},
   "source": [
    "<div class=\"alert alert-success\">\n",
    "\n",
    "## Основные фишки:\n",
    "\n",
    "- 🐘 Больше не нужно писать огромный `train loop` для обучения вашей нейронки. В `Trainer` уже все реализовано.\n",
    "- 🖊 Использование любого логера. Воспользуйтесь `W&B`, `CometML` или [другими](\"https://pytorch-lightning.readthedocs.io/en/2.5.0/pytorch/api_references.html#loggers\") - `Trainer` сделает все за вас.\n",
    "- 🌍 Распределенное обучение. Если у вас есть несколько GPU, то есть возможность ускорить обучение"
   ]
  },
  {
   "cell_type": "markdown",
   "metadata": {},
   "source": [
    "# <center> 👨‍💻 Настраиваемся на работу  </center>"
   ]
  },
  {
   "cell_type": "code",
   "execution_count": 1,
   "metadata": {},
   "outputs": [],
   "source": [
    "import copy\n",
    "from dataclasses import dataclass, asdict\n",
    "import numpy as np\n",
    "import pandas as pd\n",
    "from sklearn.preprocessing import RobustScaler, LabelEncoder\n",
    "from sklearn.model_selection import train_test_split\n",
    "\n",
    "import torch\n",
    "from torch import nn, optim\n",
    "from torch.utils.data import DataLoader, Dataset, random_split\n",
    "\n",
    "from lightning import Trainer, LightningModule, LightningDataModule\n",
    "from lightning.pytorch.callbacks import ModelSummary\n",
    "import lightning.pytorch as pl\n",
    "\n",
    "from typing import Tuple"
   ]
  },
  {
   "cell_type": "markdown",
   "metadata": {},
   "source": [
    "## Конфиг"
   ]
  },
  {
   "cell_type": "code",
   "execution_count": 2,
   "metadata": {},
   "outputs": [],
   "source": [
    "@dataclass\n",
    "class CFG:\n",
    "    model_name: str = 'Lightning ⚡️ Improved'\n",
    "    seed: int = 2024\n",
    "    device: str = \"cuda\"  # 'cpu'\n",
    "    device_count: int = 1\n",
    "    hidden_size: int = 128\n",
    "    dropout: float = 0.1\n",
    "    lr: float = 1e-3\n",
    "    batch_size: int = 128\n",
    "    num_workers: int = 4\n",
    "    epochs: int = 20\n",
    "    gpus: int = 2\n",
    "cfg = CFG()"
   ]
  },
  {
   "cell_type": "markdown",
   "metadata": {},
   "source": [
    "### Фиксируем seed"
   ]
  },
  {
   "cell_type": "code",
   "execution_count": 3,
   "metadata": {},
   "outputs": [
    {
     "name": "stderr",
     "output_type": "stream",
     "text": [
      "Seed set to 2024\n"
     ]
    },
    {
     "data": {
      "text/plain": [
       "2024"
      ]
     },
     "execution_count": 3,
     "metadata": {},
     "output_type": "execute_result"
    }
   ],
   "source": [
    "from lightning.pytorch import seed_everything\n",
    "\n",
    "seed_everything(cfg.seed)"
   ]
  },
  {
   "cell_type": "markdown",
   "metadata": {},
   "source": [
    "# <center> 🤹 Подгружаем данные </center>"
   ]
  },
  {
   "cell_type": "code",
   "execution_count": 4,
   "metadata": {},
   "outputs": [
    {
     "data": {
      "text/html": [
       "<div>\n",
       "<style scoped>\n",
       "    .dataframe tbody tr th:only-of-type {\n",
       "        vertical-align: middle;\n",
       "    }\n",
       "\n",
       "    .dataframe tbody tr th {\n",
       "        vertical-align: top;\n",
       "    }\n",
       "\n",
       "    .dataframe thead th {\n",
       "        text-align: right;\n",
       "    }\n",
       "</style>\n",
       "<table border=\"1\" class=\"dataframe\">\n",
       "  <thead>\n",
       "    <tr style=\"text-align: right;\">\n",
       "      <th></th>\n",
       "      <th>car_id</th>\n",
       "      <th>model</th>\n",
       "      <th>car_type</th>\n",
       "      <th>fuel_type</th>\n",
       "      <th>car_rating</th>\n",
       "      <th>year_to_start</th>\n",
       "      <th>riders</th>\n",
       "      <th>year_to_work</th>\n",
       "      <th>target_reg</th>\n",
       "      <th>target_class</th>\n",
       "      <th>mean_rating</th>\n",
       "      <th>distance_sum</th>\n",
       "      <th>rating_min</th>\n",
       "      <th>speed_max</th>\n",
       "      <th>user_ride_quality_median</th>\n",
       "      <th>deviation_normal_count</th>\n",
       "      <th>user_uniq</th>\n",
       "    </tr>\n",
       "  </thead>\n",
       "  <tbody>\n",
       "    <tr>\n",
       "      <th>0</th>\n",
       "      <td>y13744087j</td>\n",
       "      <td>Kia Rio X-line</td>\n",
       "      <td>economy</td>\n",
       "      <td>petrol</td>\n",
       "      <td>3.78</td>\n",
       "      <td>2015</td>\n",
       "      <td>76163</td>\n",
       "      <td>2021</td>\n",
       "      <td>109.99</td>\n",
       "      <td>another_bug</td>\n",
       "      <td>4.737759</td>\n",
       "      <td>1.214131e+07</td>\n",
       "      <td>0.1</td>\n",
       "      <td>180.855726</td>\n",
       "      <td>0.023174</td>\n",
       "      <td>174</td>\n",
       "      <td>170</td>\n",
       "    </tr>\n",
       "    <tr>\n",
       "      <th>1</th>\n",
       "      <td>O41613818T</td>\n",
       "      <td>VW Polo VI</td>\n",
       "      <td>economy</td>\n",
       "      <td>petrol</td>\n",
       "      <td>3.90</td>\n",
       "      <td>2015</td>\n",
       "      <td>78218</td>\n",
       "      <td>2021</td>\n",
       "      <td>34.48</td>\n",
       "      <td>electro_bug</td>\n",
       "      <td>4.480517</td>\n",
       "      <td>1.803909e+07</td>\n",
       "      <td>0.0</td>\n",
       "      <td>187.862734</td>\n",
       "      <td>12.306011</td>\n",
       "      <td>174</td>\n",
       "      <td>174</td>\n",
       "    </tr>\n",
       "    <tr>\n",
       "      <th>2</th>\n",
       "      <td>d-2109686j</td>\n",
       "      <td>Renault Sandero</td>\n",
       "      <td>standart</td>\n",
       "      <td>petrol</td>\n",
       "      <td>6.30</td>\n",
       "      <td>2012</td>\n",
       "      <td>23340</td>\n",
       "      <td>2017</td>\n",
       "      <td>34.93</td>\n",
       "      <td>gear_stick</td>\n",
       "      <td>4.768391</td>\n",
       "      <td>1.588366e+07</td>\n",
       "      <td>0.1</td>\n",
       "      <td>102.382857</td>\n",
       "      <td>2.513319</td>\n",
       "      <td>174</td>\n",
       "      <td>173</td>\n",
       "    </tr>\n",
       "  </tbody>\n",
       "</table>\n",
       "</div>"
      ],
      "text/plain": [
       "       car_id            model  car_type fuel_type  car_rating  year_to_start  \\\n",
       "0  y13744087j   Kia Rio X-line   economy    petrol        3.78           2015   \n",
       "1  O41613818T       VW Polo VI   economy    petrol        3.90           2015   \n",
       "2  d-2109686j  Renault Sandero  standart    petrol        6.30           2012   \n",
       "\n",
       "   riders  year_to_work  target_reg target_class  mean_rating  distance_sum  \\\n",
       "0   76163          2021      109.99  another_bug     4.737759  1.214131e+07   \n",
       "1   78218          2021       34.48  electro_bug     4.480517  1.803909e+07   \n",
       "2   23340          2017       34.93   gear_stick     4.768391  1.588366e+07   \n",
       "\n",
       "   rating_min   speed_max  user_ride_quality_median  deviation_normal_count  \\\n",
       "0         0.1  180.855726                  0.023174                     174   \n",
       "1         0.0  187.862734                 12.306011                     174   \n",
       "2         0.1  102.382857                  2.513319                     174   \n",
       "\n",
       "   user_uniq  \n",
       "0        170  \n",
       "1        174  \n",
       "2        173  "
      ]
     },
     "execution_count": 4,
     "metadata": {},
     "output_type": "execute_result"
    }
   ],
   "source": [
    "rides_info = pd.read_csv('https://github.com/a-milenkin/ml_instruments/raw/refs/heads/main/data/quickstart_train.csv')\n",
    "rides_info.head(3)"
   ]
  },
  {
   "cell_type": "markdown",
   "metadata": {},
   "source": [
    "<div class=\"alert alert-info\">\n",
    "\n",
    "🌪 В данных есть как текстовые, так и категориальные данные. Для корректной работы нейронки преобразуем их "
   ]
  },
  {
   "cell_type": "code",
   "execution_count": 5,
   "metadata": {},
   "outputs": [],
   "source": [
    "# Препроцессинг категориальных данных\n",
    "drop_cols = [\"car_id\", \"target_reg\", \"target_class\"]\n",
    "cat_cols = [\"car_type\", \"fuel_type\", \"model\"]\n",
    "rides_info = pd.get_dummies(rides_info, columns=cat_cols)\n",
    "rides_info.fillna(rides_info.median(numeric_only=True), inplace=True)\n",
    "num_cols = [col for col in list(rides_info.columns) if col not in drop_cols]"
   ]
  },
  {
   "cell_type": "code",
   "execution_count": 6,
   "metadata": {},
   "outputs": [],
   "source": [
    "# Нормализуем данные и кодируем таргет\n",
    "\n",
    "scaler = RobustScaler()\n",
    "le = LabelEncoder()\n",
    "\n",
    "df = scaler.fit_transform(rides_info[num_cols])\n",
    "df = pd.DataFrame(df, columns=num_cols)\n",
    "\n",
    "target_scaler = RobustScaler()\n",
    "target = target_scaler.fit_transform(rides_info[\"target_reg\"].values.reshape(-1, 1))\n",
    "\n",
    "df[\"target_reg\"] = target\n",
    "df[\"target_class\"] = le.fit_transform(rides_info[\"target_class\"]).reshape((-1, 1))"
   ]
  },
  {
   "cell_type": "code",
   "execution_count": 7,
   "metadata": {},
   "outputs": [],
   "source": [
    "# Разбиваем датасет на трэйн и тест выборки\n",
    "train, test = train_test_split(df, test_size=0.2, random_state=cfg.seed)\n",
    "\n",
    "cfg.num_features = train.shape[1] - 2  # количество фичей, подаваемое на вход\n",
    "cfg.num_tar_class = (\n",
    "    train.target_class.nunique()\n",
    ")  # количество выходов равно количеству предсказываемых классов"
   ]
  },
  {
   "cell_type": "code",
   "execution_count": 8,
   "metadata": {},
   "outputs": [
    {
     "data": {
      "text/html": [
       "<div>\n",
       "<style scoped>\n",
       "    .dataframe tbody tr th:only-of-type {\n",
       "        vertical-align: middle;\n",
       "    }\n",
       "\n",
       "    .dataframe tbody tr th {\n",
       "        vertical-align: top;\n",
       "    }\n",
       "\n",
       "    .dataframe thead th {\n",
       "        text-align: right;\n",
       "    }\n",
       "</style>\n",
       "<table border=\"1\" class=\"dataframe\">\n",
       "  <thead>\n",
       "    <tr style=\"text-align: right;\">\n",
       "      <th></th>\n",
       "      <th>car_rating</th>\n",
       "      <th>year_to_start</th>\n",
       "      <th>riders</th>\n",
       "      <th>year_to_work</th>\n",
       "      <th>mean_rating</th>\n",
       "      <th>distance_sum</th>\n",
       "      <th>rating_min</th>\n",
       "      <th>speed_max</th>\n",
       "      <th>user_ride_quality_median</th>\n",
       "      <th>deviation_normal_count</th>\n",
       "      <th>...</th>\n",
       "      <th>model_Smart Coupe</th>\n",
       "      <th>model_Smart ForFour</th>\n",
       "      <th>model_Smart ForTwo</th>\n",
       "      <th>model_Tesla Model 3</th>\n",
       "      <th>model_VW Polo</th>\n",
       "      <th>model_VW Polo VI</th>\n",
       "      <th>model_VW Tiguan</th>\n",
       "      <th>model_Volkswagen ID.4</th>\n",
       "      <th>target_reg</th>\n",
       "      <th>target_class</th>\n",
       "    </tr>\n",
       "  </thead>\n",
       "  <tbody>\n",
       "    <tr>\n",
       "      <th>0</th>\n",
       "      <td>-0.460317</td>\n",
       "      <td>0.5</td>\n",
       "      <td>0.258414</td>\n",
       "      <td>0.75</td>\n",
       "      <td>0.567305</td>\n",
       "      <td>-0.187985</td>\n",
       "      <td>0.0</td>\n",
       "      <td>0.129562</td>\n",
       "      <td>0.019027</td>\n",
       "      <td>0.0</td>\n",
       "      <td>...</td>\n",
       "      <td>0.0</td>\n",
       "      <td>0.0</td>\n",
       "      <td>0.0</td>\n",
       "      <td>0.0</td>\n",
       "      <td>0.0</td>\n",
       "      <td>0.0</td>\n",
       "      <td>0.0</td>\n",
       "      <td>0.0</td>\n",
       "      <td>3.022894</td>\n",
       "      <td>0</td>\n",
       "    </tr>\n",
       "    <tr>\n",
       "      <th>1</th>\n",
       "      <td>-0.365079</td>\n",
       "      <td>0.5</td>\n",
       "      <td>0.303616</td>\n",
       "      <td>0.75</td>\n",
       "      <td>0.072227</td>\n",
       "      <td>0.841243</td>\n",
       "      <td>-0.1</td>\n",
       "      <td>0.237381</td>\n",
       "      <td>1.085987</td>\n",
       "      <td>0.0</td>\n",
       "      <td>...</td>\n",
       "      <td>0.0</td>\n",
       "      <td>0.0</td>\n",
       "      <td>0.0</td>\n",
       "      <td>0.0</td>\n",
       "      <td>0.0</td>\n",
       "      <td>1.0</td>\n",
       "      <td>0.0</td>\n",
       "      <td>0.0</td>\n",
       "      <td>-0.238877</td>\n",
       "      <td>2</td>\n",
       "    </tr>\n",
       "    <tr>\n",
       "      <th>2</th>\n",
       "      <td>1.539683</td>\n",
       "      <td>-1.0</td>\n",
       "      <td>-0.903502</td>\n",
       "      <td>-0.25</td>\n",
       "      <td>0.626258</td>\n",
       "      <td>0.465096</td>\n",
       "      <td>0.0</td>\n",
       "      <td>-1.077932</td>\n",
       "      <td>0.235335</td>\n",
       "      <td>0.0</td>\n",
       "      <td>...</td>\n",
       "      <td>0.0</td>\n",
       "      <td>0.0</td>\n",
       "      <td>0.0</td>\n",
       "      <td>0.0</td>\n",
       "      <td>0.0</td>\n",
       "      <td>0.0</td>\n",
       "      <td>0.0</td>\n",
       "      <td>0.0</td>\n",
       "      <td>-0.219438</td>\n",
       "      <td>7</td>\n",
       "    </tr>\n",
       "  </tbody>\n",
       "</table>\n",
       "<p>3 rows × 45 columns</p>\n",
       "</div>"
      ],
      "text/plain": [
       "   car_rating  year_to_start    riders  year_to_work  mean_rating  \\\n",
       "0   -0.460317            0.5  0.258414          0.75     0.567305   \n",
       "1   -0.365079            0.5  0.303616          0.75     0.072227   \n",
       "2    1.539683           -1.0 -0.903502         -0.25     0.626258   \n",
       "\n",
       "   distance_sum  rating_min  speed_max  user_ride_quality_median  \\\n",
       "0     -0.187985         0.0   0.129562                  0.019027   \n",
       "1      0.841243        -0.1   0.237381                  1.085987   \n",
       "2      0.465096         0.0  -1.077932                  0.235335   \n",
       "\n",
       "   deviation_normal_count  ...  model_Smart Coupe  model_Smart ForFour  \\\n",
       "0                     0.0  ...                0.0                  0.0   \n",
       "1                     0.0  ...                0.0                  0.0   \n",
       "2                     0.0  ...                0.0                  0.0   \n",
       "\n",
       "   model_Smart ForTwo  model_Tesla Model 3  model_VW Polo  model_VW Polo VI  \\\n",
       "0                 0.0                  0.0            0.0               0.0   \n",
       "1                 0.0                  0.0            0.0               1.0   \n",
       "2                 0.0                  0.0            0.0               0.0   \n",
       "\n",
       "   model_VW Tiguan  model_Volkswagen ID.4   target_reg  target_class  \n",
       "0              0.0                     0.0    3.022894             0  \n",
       "1              0.0                     0.0   -0.238877             2  \n",
       "2              0.0                     0.0   -0.219438             7  \n",
       "\n",
       "[3 rows x 45 columns]"
      ]
     },
     "execution_count": 8,
     "metadata": {},
     "output_type": "execute_result"
    }
   ],
   "source": [
    "df.head(3)"
   ]
  },
  {
   "cell_type": "markdown",
   "metadata": {},
   "source": [
    "<div class=\"alert alert-success\">\n",
    "\n",
    "После преобразования данных перед нейронной сетью важно создать `Dataset` и `Dataloader`, чтобы удобно обучать модель.\n",
    "\n",
    "Но в `Lightning` есть модуль, который объединяет два этих класса - `LightningDataModule` 🧰:\n",
    "* Вы создаете только 1 класс, который содержить `train`, `valid`, `test` части\n",
    "* Передаете этот класс нашему `Trainer` и все!\n",
    "\n",
    "Правда удобно? Давайте посмотрим, как это реализовывается 😏"
   ]
  },
  {
   "cell_type": "markdown",
   "metadata": {},
   "source": [
    "# <center> 🛠 `Dataset` для модели </center>"
   ]
  },
  {
   "cell_type": "markdown",
   "metadata": {},
   "source": [
    "<div class=\"alert alert-info\">\n",
    "\n",
    "Посмотрим сначала, как это реализовывается в `PyTorch`"
   ]
  },
  {
   "cell_type": "code",
   "execution_count": 9,
   "metadata": {},
   "outputs": [],
   "source": [
    "# датасет выдает фичи и значения целевых переменных\n",
    "class Rides(Dataset):\n",
    "    def __init__(self, df):\n",
    "        self.df = df\n",
    "\n",
    "    def __len__(self):\n",
    "        return len(self.df)\n",
    "\n",
    "    def __getitem__(self, idx):\n",
    "        row = self.df.iloc[idx, :]\n",
    "\n",
    "        data = row.drop(labels=[\"target_reg\", \"target_class\"])\n",
    "        data = torch.FloatTensor(data.values.astype(\"float\"))\n",
    "        tar_reg = torch.tensor(row[\"target_reg\"]).float()\n",
    "        tar_class = row[\"target_class\"].astype(\"int\")\n",
    "\n",
    "        return data, tar_reg, tar_class"
   ]
  },
  {
   "cell_type": "code",
   "execution_count": 10,
   "metadata": {},
   "outputs": [],
   "source": [
    "train_datasets = {\"train\": Rides(train), \"val\": Rides(test)}"
   ]
  },
  {
   "cell_type": "code",
   "execution_count": 11,
   "metadata": {},
   "outputs": [],
   "source": [
    "dataloaders_dict = {x: torch.utils.data.DataLoader(train_datasets[x], \n",
    "                                                   batch_size=CFG.batch_size, \n",
    "                                                   shuffle=True, \n",
    "                                                   num_workers=CFG.num_workers)\n",
    "                    for x in ['train', 'val']}"
   ]
  },
  {
   "cell_type": "markdown",
   "metadata": {},
   "source": [
    "## <center> 🏆 `Dataset`, который может все! </center>"
   ]
  },
  {
   "cell_type": "code",
   "execution_count": 12,
   "metadata": {},
   "outputs": [],
   "source": [
    "from  lightning import LightningDataModule\n",
    "\n",
    "class RidesLightning(LightningDataModule):\n",
    "    def __init__(self, cfg: CFG, train_datasets: dict) -> None: \n",
    "        # Сохраняем переменные для дальнейшей работы\n",
    "        super().__init__()\n",
    "\n",
    "        self.cfg = cfg\n",
    "        self.datasets = train_datasets\n",
    "        self.batch_size = self.cfg.batch_size\n",
    "\n",
    "    def setup(self, stage: str):\n",
    "        # Создаем Dataset'ы\n",
    "        self.train = self.datasets[\"train\"]\n",
    "        self.val = self.datasets[\"val\"]\n",
    "\n",
    "    \n",
    "    def _make_dataloader(self, dataset, cfg):\n",
    "        # Общий метод для создания DataLoader\n",
    "        return DataLoader(\n",
    "            dataset,\n",
    "            batch_size=self.batch_size,\n",
    "            num_workers=self.cfg.num_workers,\n",
    "            pin_memory=True\n",
    "        )\n",
    "\n",
    "    def train_dataloader(self):\n",
    "        # Возвращаем Train Dataloader\n",
    "        return self._make_dataloader(self.train, cfg)\n",
    "    \n",
    "    def val_dataloader(self):\n",
    "        # Возвращаем Valid Dataset\n",
    "        return self._make_dataloader(self.val, cfg)\n",
    "    \n",
    "    def teardown(self, stage: str):\n",
    "        # Функция, которая выполняется после создания Dataloader - здесь можно удалить ненужные компоненты\n",
    "        del self.train, self.val"
   ]
  },
  {
   "cell_type": "code",
   "execution_count": 13,
   "metadata": {},
   "outputs": [],
   "source": [
    "dataset = RidesLightning(cfg, train_datasets)"
   ]
  },
  {
   "cell_type": "markdown",
   "metadata": {},
   "source": [
    "# <center> ⚡️ Модель <center>"
   ]
  },
  {
   "cell_type": "code",
   "execution_count": 14,
   "metadata": {},
   "outputs": [],
   "source": [
    "from lightning import LightningModule\n",
    "\n",
    "class LightningModel(LightningModule):\n",
    "    def __init__(self, cfg: CFG):\n",
    "        super().__init__()\n",
    "        self.cfg = cfg\n",
    "        self.lr = cfg.lr # ВАЖНО! Сохраняйте lr в модели\n",
    "\n",
    "        self.mlp = nn.Sequential(\n",
    "            nn.Linear(cfg.num_features, cfg.hidden_size),\n",
    "            # nn.BatchNorm1d(cfg.hidden_size),\n",
    "            nn.Dropout(cfg.dropout),\n",
    "            nn.LeakyReLU(),\n",
    "            nn.Linear(cfg.hidden_size, cfg.hidden_size),\n",
    "            # nn.BatchNorm1d(cfg.hidden_size),\n",
    "            nn.Dropout(cfg.dropout),\n",
    "            nn.GELU(),\n",
    "            nn.Linear(cfg.hidden_size, cfg.hidden_size // 2),\n",
    "        )\n",
    "        # Так как два таргета, делаем две головы - одна для регрессии, другая - классификации\n",
    "        self.regressor = nn.Sequential(nn.Linear(cfg.hidden_size // 2, 1))\n",
    "        self.classifier = nn.Sequential(\n",
    "            nn.Linear(cfg.hidden_size // 2, cfg.num_tar_class)\n",
    "        )\n",
    "        \n",
    "        self.regressor = nn.Sequential(nn.Linear(cfg.hidden_size // 2, 1))\n",
    "\n",
    "        self.regression_criterion = nn.MSELoss()\n",
    "        self.classification_criterion = nn.CrossEntropyLoss()\n",
    "\n",
    "    def forward(self, x):\n",
    "        # Forward pass through the network\n",
    "        x = self.mlp(x)\n",
    "        tar_reg = self.regressor(x)\n",
    "        tar_class = self.classifier(x)\n",
    "        return tar_reg.view(-1), tar_class\n",
    "    \n",
    "    def basic_step(self, batch, batch_idx, step: str):\n",
    "        # Получаем данные\n",
    "        data, reg_target, clas_target = batch\n",
    "\n",
    "        pred_reg, pred_clas = self(data)\n",
    "\n",
    "        loss_reg = self.regression_criterion(pred_reg, reg_target)\n",
    "        loss_class = self.classification_criterion(pred_clas, clas_target)\n",
    "        loss = loss_reg + loss_class\n",
    "\n",
    "        return {\n",
    "            f\"{step}/loss\": loss,\n",
    "            f\"{step}/reg_loss\": loss_reg,\n",
    "            f\"{step}/reg_class\": loss_class\n",
    "        }\n",
    "    \n",
    "    def training_step(self, batch, batch_idx):\n",
    "        loss_dict = self.basic_step(batch, batch_idx, \"train\")\n",
    "        \n",
    "        # Сохраняем метрики\n",
    "        self.log_dict(loss_dict)\n",
    "        \n",
    "        return loss_dict[\"train/loss\"]\n",
    "    \n",
    "    def validation_step(self, batch, batch_idx):\n",
    "        loss_dict = self.basic_step(batch, batch_idx, \"valid\")\n",
    "        \n",
    "        # Сохраняем метрики\n",
    "        self.log_dict(loss_dict)\n",
    "        \n",
    "        return loss_dict[\"valid/loss\"]\n",
    "    \n",
    "    \n",
    "    def test_step(self, batch, batch_idx):\n",
    "        loss_dict = self.basic_step(batch, batch_idx, \"test\")\n",
    "        \n",
    "        # Сохраняем метрики\n",
    "        self.log_dict(loss_dict)\n",
    "        \n",
    "        return loss_dict[\"test/loss\"]\n",
    "    \n",
    "    def configure_optimizers(self):\n",
    "        optimizer = torch.optim.AdamW(self.parameters(), lr=self.lr, weight_decay=0.05)\n",
    "        scheduler = torch.optim.lr_scheduler.CosineAnnealingLR(optimizer, T_max=self.cfg.epochs)\n",
    "\n",
    "        return {\n",
    "            \"optimizer\": optimizer,\n",
    "            \"lr_scheduler\": {\n",
    "                \"scheduler\": scheduler,\n",
    "                \"monitor\": \"train/loss\",\n",
    "                \"interval\": \"epoch\",\n",
    "                \"reduce_on_plateau\": True,\n",
    "            }\n",
    "        }"
   ]
  },
  {
   "cell_type": "code",
   "execution_count": 15,
   "metadata": {},
   "outputs": [
    {
     "data": {
      "text/plain": [
       "LightningModel(\n",
       "  (mlp): Sequential(\n",
       "    (0): Linear(in_features=43, out_features=128, bias=True)\n",
       "    (1): Dropout(p=0.1, inplace=False)\n",
       "    (2): LeakyReLU(negative_slope=0.01)\n",
       "    (3): Linear(in_features=128, out_features=128, bias=True)\n",
       "    (4): Dropout(p=0.1, inplace=False)\n",
       "    (5): GELU(approximate='none')\n",
       "    (6): Linear(in_features=128, out_features=64, bias=True)\n",
       "  )\n",
       "  (regressor): Sequential(\n",
       "    (0): Linear(in_features=64, out_features=1, bias=True)\n",
       "  )\n",
       "  (classifier): Sequential(\n",
       "    (0): Linear(in_features=64, out_features=9, bias=True)\n",
       "  )\n",
       "  (regression_criterion): MSELoss()\n",
       "  (classification_criterion): CrossEntropyLoss()\n",
       ")"
      ]
     },
     "execution_count": 15,
     "metadata": {},
     "output_type": "execute_result"
    }
   ],
   "source": [
    "model = LightningModel(cfg)\n",
    "model"
   ]
  },
  {
   "cell_type": "code",
   "execution_count": 16,
   "metadata": {},
   "outputs": [
    {
     "data": {
      "image/svg+xml": [
       "<?xml version=\"1.0\" encoding=\"UTF-8\" standalone=\"no\"?>\n",
       "<!DOCTYPE svg PUBLIC \"-//W3C//DTD SVG 1.1//EN\"\n",
       " \"http://www.w3.org/Graphics/SVG/1.1/DTD/svg11.dtd\">\n",
       "<!-- Generated by graphviz version 2.43.0 (0)\n",
       " -->\n",
       "<!-- Title: model Pages: 1 -->\n",
       "<svg width=\"348pt\" height=\"820pt\"\n",
       " viewBox=\"0.00 0.00 348.00 820.00\" xmlns=\"http://www.w3.org/2000/svg\" xmlns:xlink=\"http://www.w3.org/1999/xlink\">\n",
       "<g id=\"graph0\" class=\"graph\" transform=\"scale(1 1) rotate(0) translate(4 816)\">\n",
       "<title>model</title>\n",
       "<polygon fill=\"white\" stroke=\"transparent\" points=\"-4,4 -4,-816 344,-816 344,4 -4,4\"/>\n",
       "<g id=\"clust1\" class=\"cluster\">\n",
       "<title>cluster_2</title>\n",
       "<polygon fill=\"none\" stroke=\"black\" stroke-dasharray=\"5,2\" points=\"81,-225 81,-772 255,-772 255,-225 81,-225\"/>\n",
       "<text text-anchor=\"middle\" x=\"114\" y=\"-758.4\" font-family=\"Times,serif\" font-size=\"12.00\">Sequential</text>\n",
       "</g>\n",
       "<g id=\"clust2\" class=\"cluster\">\n",
       "<title>cluster_3</title>\n",
       "<polygon fill=\"none\" stroke=\"black\" stroke-dasharray=\"5,2\" points=\"174,-138 174,-217 332,-217 332,-138 174,-138\"/>\n",
       "<text text-anchor=\"middle\" x=\"207\" y=\"-203.4\" font-family=\"Times,serif\" font-size=\"12.00\">Sequential</text>\n",
       "</g>\n",
       "<g id=\"clust3\" class=\"cluster\">\n",
       "<title>cluster_4</title>\n",
       "<polygon fill=\"none\" stroke=\"black\" stroke-dasharray=\"5,2\" points=\"8,-65 8,-217 166,-217 166,-65 8,-65\"/>\n",
       "<text text-anchor=\"middle\" x=\"41\" y=\"-203.4\" font-family=\"Times,serif\" font-size=\"12.00\">Sequential</text>\n",
       "</g>\n",
       "<!-- 0 -->\n",
       "<g id=\"node1\" class=\"node\">\n",
       "<title>0</title>\n",
       "<polygon fill=\"lightyellow\" stroke=\"transparent\" points=\"223.5,-812 112.5,-812 112.5,-780 223.5,-780 223.5,-812\"/>\n",
       "<polygon fill=\"none\" stroke=\"black\" points=\"113,-780 113,-812 187,-812 187,-780 113,-780\"/>\n",
       "<text text-anchor=\"start\" x=\"118\" y=\"-799\" font-family=\"Linux libertine\" font-size=\"10.00\">input&#45;tensor</text>\n",
       "<text text-anchor=\"start\" x=\"131.5\" y=\"-788\" font-family=\"Linux libertine\" font-size=\"10.00\">depth:0</text>\n",
       "<polygon fill=\"none\" stroke=\"black\" points=\"187,-780 187,-812 224,-812 224,-780 187,-780\"/>\n",
       "<text text-anchor=\"start\" x=\"192\" y=\"-793.5\" font-family=\"Linux libertine\" font-size=\"10.00\">(43,)</text>\n",
       "</g>\n",
       "<!-- 1 -->\n",
       "<g id=\"node2\" class=\"node\">\n",
       "<title>1</title>\n",
       "<polygon fill=\"#c1ffc1\" stroke=\"transparent\" points=\"241.5,-743 94.5,-743 94.5,-701 241.5,-701 241.5,-743\"/>\n",
       "<polygon fill=\"none\" stroke=\"black\" points=\"95,-701 95,-743 142,-743 142,-701 95,-701\"/>\n",
       "<text text-anchor=\"start\" x=\"102.5\" y=\"-725\" font-family=\"Linux libertine\" font-size=\"10.00\">Linear</text>\n",
       "<text text-anchor=\"start\" x=\"100\" y=\"-714\" font-family=\"Linux libertine\" font-size=\"10.00\">depth:2</text>\n",
       "<polygon fill=\"none\" stroke=\"black\" points=\"142,-722 142,-743 195,-743 195,-722 142,-722\"/>\n",
       "<text text-anchor=\"start\" x=\"152.5\" y=\"-730\" font-family=\"Linux libertine\" font-size=\"10.00\">input:</text>\n",
       "<polygon fill=\"none\" stroke=\"black\" points=\"195,-722 195,-743 242,-743 242,-722 195,-722\"/>\n",
       "<text text-anchor=\"start\" x=\"202.5\" y=\"-730\" font-family=\"Linux libertine\" font-size=\"10.00\">(43,) </text>\n",
       "<polygon fill=\"none\" stroke=\"black\" points=\"142,-701 142,-722 195,-722 195,-701 142,-701\"/>\n",
       "<text text-anchor=\"start\" x=\"147\" y=\"-709\" font-family=\"Linux libertine\" font-size=\"10.00\">output: </text>\n",
       "<polygon fill=\"none\" stroke=\"black\" points=\"195,-701 195,-722 242,-722 242,-701 195,-701\"/>\n",
       "<text text-anchor=\"start\" x=\"200\" y=\"-709\" font-family=\"Linux libertine\" font-size=\"10.00\">(128,) </text>\n",
       "</g>\n",
       "<!-- 0&#45;&gt;1 -->\n",
       "<g id=\"edge1\" class=\"edge\">\n",
       "<title>0&#45;&gt;1</title>\n",
       "<path fill=\"none\" stroke=\"black\" d=\"M168,-779.73C168,-772.08 168,-762.52 168,-753.45\"/>\n",
       "<polygon fill=\"black\" stroke=\"black\" points=\"171.5,-753.17 168,-743.17 164.5,-753.17 171.5,-753.17\"/>\n",
       "</g>\n",
       "<!-- 2 -->\n",
       "<g id=\"node3\" class=\"node\">\n",
       "<title>2</title>\n",
       "<polygon fill=\"#c1ffc1\" stroke=\"transparent\" points=\"241.5,-665 94.5,-665 94.5,-623 241.5,-623 241.5,-665\"/>\n",
       "<polygon fill=\"none\" stroke=\"black\" points=\"95,-623 95,-665 142,-665 142,-623 95,-623\"/>\n",
       "<text text-anchor=\"start\" x=\"100\" y=\"-647\" font-family=\"Linux libertine\" font-size=\"10.00\">Dropout</text>\n",
       "<text text-anchor=\"start\" x=\"100\" y=\"-636\" font-family=\"Linux libertine\" font-size=\"10.00\">depth:2</text>\n",
       "<polygon fill=\"none\" stroke=\"black\" points=\"142,-644 142,-665 195,-665 195,-644 142,-644\"/>\n",
       "<text text-anchor=\"start\" x=\"152.5\" y=\"-652\" font-family=\"Linux libertine\" font-size=\"10.00\">input:</text>\n",
       "<polygon fill=\"none\" stroke=\"black\" points=\"195,-644 195,-665 242,-665 242,-644 195,-644\"/>\n",
       "<text text-anchor=\"start\" x=\"200\" y=\"-652\" font-family=\"Linux libertine\" font-size=\"10.00\">(128,) </text>\n",
       "<polygon fill=\"none\" stroke=\"black\" points=\"142,-623 142,-644 195,-644 195,-623 142,-623\"/>\n",
       "<text text-anchor=\"start\" x=\"147\" y=\"-631\" font-family=\"Linux libertine\" font-size=\"10.00\">output: </text>\n",
       "<polygon fill=\"none\" stroke=\"black\" points=\"195,-623 195,-644 242,-644 242,-623 195,-623\"/>\n",
       "<text text-anchor=\"start\" x=\"200\" y=\"-631\" font-family=\"Linux libertine\" font-size=\"10.00\">(128,) </text>\n",
       "</g>\n",
       "<!-- 1&#45;&gt;2 -->\n",
       "<g id=\"edge2\" class=\"edge\">\n",
       "<title>1&#45;&gt;2</title>\n",
       "<path fill=\"none\" stroke=\"black\" d=\"M168,-700.63C168,-692.82 168,-683.73 168,-675.18\"/>\n",
       "<polygon fill=\"black\" stroke=\"black\" points=\"171.5,-675.16 168,-665.16 164.5,-675.16 171.5,-675.16\"/>\n",
       "</g>\n",
       "<!-- 3 -->\n",
       "<g id=\"node4\" class=\"node\">\n",
       "<title>3</title>\n",
       "<polygon fill=\"#c1ffc1\" stroke=\"transparent\" points=\"247,-587 89,-587 89,-545 247,-545 247,-587\"/>\n",
       "<polygon fill=\"none\" stroke=\"black\" points=\"89,-545 89,-587 147,-587 147,-545 89,-545\"/>\n",
       "<text text-anchor=\"start\" x=\"94\" y=\"-569\" font-family=\"Linux libertine\" font-size=\"10.00\">LeakyReLU</text>\n",
       "<text text-anchor=\"start\" x=\"99.5\" y=\"-558\" font-family=\"Linux libertine\" font-size=\"10.00\">depth:2</text>\n",
       "<polygon fill=\"none\" stroke=\"black\" points=\"147,-566 147,-587 200,-587 200,-566 147,-566\"/>\n",
       "<text text-anchor=\"start\" x=\"157.5\" y=\"-574\" font-family=\"Linux libertine\" font-size=\"10.00\">input:</text>\n",
       "<polygon fill=\"none\" stroke=\"black\" points=\"200,-566 200,-587 247,-587 247,-566 200,-566\"/>\n",
       "<text text-anchor=\"start\" x=\"205\" y=\"-574\" font-family=\"Linux libertine\" font-size=\"10.00\">(128,) </text>\n",
       "<polygon fill=\"none\" stroke=\"black\" points=\"147,-545 147,-566 200,-566 200,-545 147,-545\"/>\n",
       "<text text-anchor=\"start\" x=\"152\" y=\"-553\" font-family=\"Linux libertine\" font-size=\"10.00\">output: </text>\n",
       "<polygon fill=\"none\" stroke=\"black\" points=\"200,-545 200,-566 247,-566 247,-545 200,-545\"/>\n",
       "<text text-anchor=\"start\" x=\"205\" y=\"-553\" font-family=\"Linux libertine\" font-size=\"10.00\">(128,) </text>\n",
       "</g>\n",
       "<!-- 2&#45;&gt;3 -->\n",
       "<g id=\"edge3\" class=\"edge\">\n",
       "<title>2&#45;&gt;3</title>\n",
       "<path fill=\"none\" stroke=\"black\" d=\"M168,-622.63C168,-614.82 168,-605.73 168,-597.18\"/>\n",
       "<polygon fill=\"black\" stroke=\"black\" points=\"171.5,-597.16 168,-587.16 164.5,-597.16 171.5,-597.16\"/>\n",
       "</g>\n",
       "<!-- 4 -->\n",
       "<g id=\"node5\" class=\"node\">\n",
       "<title>4</title>\n",
       "<polygon fill=\"#c1ffc1\" stroke=\"transparent\" points=\"241.5,-509 94.5,-509 94.5,-467 241.5,-467 241.5,-509\"/>\n",
       "<polygon fill=\"none\" stroke=\"black\" points=\"95,-467 95,-509 142,-509 142,-467 95,-467\"/>\n",
       "<text text-anchor=\"start\" x=\"102.5\" y=\"-491\" font-family=\"Linux libertine\" font-size=\"10.00\">Linear</text>\n",
       "<text text-anchor=\"start\" x=\"100\" y=\"-480\" font-family=\"Linux libertine\" font-size=\"10.00\">depth:2</text>\n",
       "<polygon fill=\"none\" stroke=\"black\" points=\"142,-488 142,-509 195,-509 195,-488 142,-488\"/>\n",
       "<text text-anchor=\"start\" x=\"152.5\" y=\"-496\" font-family=\"Linux libertine\" font-size=\"10.00\">input:</text>\n",
       "<polygon fill=\"none\" stroke=\"black\" points=\"195,-488 195,-509 242,-509 242,-488 195,-488\"/>\n",
       "<text text-anchor=\"start\" x=\"200\" y=\"-496\" font-family=\"Linux libertine\" font-size=\"10.00\">(128,) </text>\n",
       "<polygon fill=\"none\" stroke=\"black\" points=\"142,-467 142,-488 195,-488 195,-467 142,-467\"/>\n",
       "<text text-anchor=\"start\" x=\"147\" y=\"-475\" font-family=\"Linux libertine\" font-size=\"10.00\">output: </text>\n",
       "<polygon fill=\"none\" stroke=\"black\" points=\"195,-467 195,-488 242,-488 242,-467 195,-467\"/>\n",
       "<text text-anchor=\"start\" x=\"200\" y=\"-475\" font-family=\"Linux libertine\" font-size=\"10.00\">(128,) </text>\n",
       "</g>\n",
       "<!-- 3&#45;&gt;4 -->\n",
       "<g id=\"edge4\" class=\"edge\">\n",
       "<title>3&#45;&gt;4</title>\n",
       "<path fill=\"none\" stroke=\"black\" d=\"M168,-544.63C168,-536.82 168,-527.73 168,-519.18\"/>\n",
       "<polygon fill=\"black\" stroke=\"black\" points=\"171.5,-519.16 168,-509.16 164.5,-519.16 171.5,-519.16\"/>\n",
       "</g>\n",
       "<!-- 5 -->\n",
       "<g id=\"node6\" class=\"node\">\n",
       "<title>5</title>\n",
       "<polygon fill=\"#c1ffc1\" stroke=\"transparent\" points=\"241.5,-431 94.5,-431 94.5,-389 241.5,-389 241.5,-431\"/>\n",
       "<polygon fill=\"none\" stroke=\"black\" points=\"95,-389 95,-431 142,-431 142,-389 95,-389\"/>\n",
       "<text text-anchor=\"start\" x=\"100\" y=\"-413\" font-family=\"Linux libertine\" font-size=\"10.00\">Dropout</text>\n",
       "<text text-anchor=\"start\" x=\"100\" y=\"-402\" font-family=\"Linux libertine\" font-size=\"10.00\">depth:2</text>\n",
       "<polygon fill=\"none\" stroke=\"black\" points=\"142,-410 142,-431 195,-431 195,-410 142,-410\"/>\n",
       "<text text-anchor=\"start\" x=\"152.5\" y=\"-418\" font-family=\"Linux libertine\" font-size=\"10.00\">input:</text>\n",
       "<polygon fill=\"none\" stroke=\"black\" points=\"195,-410 195,-431 242,-431 242,-410 195,-410\"/>\n",
       "<text text-anchor=\"start\" x=\"200\" y=\"-418\" font-family=\"Linux libertine\" font-size=\"10.00\">(128,) </text>\n",
       "<polygon fill=\"none\" stroke=\"black\" points=\"142,-389 142,-410 195,-410 195,-389 142,-389\"/>\n",
       "<text text-anchor=\"start\" x=\"147\" y=\"-397\" font-family=\"Linux libertine\" font-size=\"10.00\">output: </text>\n",
       "<polygon fill=\"none\" stroke=\"black\" points=\"195,-389 195,-410 242,-410 242,-389 195,-389\"/>\n",
       "<text text-anchor=\"start\" x=\"200\" y=\"-397\" font-family=\"Linux libertine\" font-size=\"10.00\">(128,) </text>\n",
       "</g>\n",
       "<!-- 4&#45;&gt;5 -->\n",
       "<g id=\"edge5\" class=\"edge\">\n",
       "<title>4&#45;&gt;5</title>\n",
       "<path fill=\"none\" stroke=\"black\" d=\"M168,-466.63C168,-458.82 168,-449.73 168,-441.18\"/>\n",
       "<polygon fill=\"black\" stroke=\"black\" points=\"171.5,-441.16 168,-431.16 164.5,-441.16 171.5,-441.16\"/>\n",
       "</g>\n",
       "<!-- 6 -->\n",
       "<g id=\"node7\" class=\"node\">\n",
       "<title>6</title>\n",
       "<polygon fill=\"#c1ffc1\" stroke=\"transparent\" points=\"241.5,-353 94.5,-353 94.5,-311 241.5,-311 241.5,-353\"/>\n",
       "<polygon fill=\"none\" stroke=\"black\" points=\"95,-311 95,-353 142,-353 142,-311 95,-311\"/>\n",
       "<text text-anchor=\"start\" x=\"107.5\" y=\"-335\" font-family=\"Linux libertine\" font-size=\"10.00\">GELU</text>\n",
       "<text text-anchor=\"start\" x=\"100\" y=\"-324\" font-family=\"Linux libertine\" font-size=\"10.00\">depth:2</text>\n",
       "<polygon fill=\"none\" stroke=\"black\" points=\"142,-332 142,-353 195,-353 195,-332 142,-332\"/>\n",
       "<text text-anchor=\"start\" x=\"152.5\" y=\"-340\" font-family=\"Linux libertine\" font-size=\"10.00\">input:</text>\n",
       "<polygon fill=\"none\" stroke=\"black\" points=\"195,-332 195,-353 242,-353 242,-332 195,-332\"/>\n",
       "<text text-anchor=\"start\" x=\"200\" y=\"-340\" font-family=\"Linux libertine\" font-size=\"10.00\">(128,) </text>\n",
       "<polygon fill=\"none\" stroke=\"black\" points=\"142,-311 142,-332 195,-332 195,-311 142,-311\"/>\n",
       "<text text-anchor=\"start\" x=\"147\" y=\"-319\" font-family=\"Linux libertine\" font-size=\"10.00\">output: </text>\n",
       "<polygon fill=\"none\" stroke=\"black\" points=\"195,-311 195,-332 242,-332 242,-311 195,-311\"/>\n",
       "<text text-anchor=\"start\" x=\"200\" y=\"-319\" font-family=\"Linux libertine\" font-size=\"10.00\">(128,) </text>\n",
       "</g>\n",
       "<!-- 5&#45;&gt;6 -->\n",
       "<g id=\"edge6\" class=\"edge\">\n",
       "<title>5&#45;&gt;6</title>\n",
       "<path fill=\"none\" stroke=\"black\" d=\"M168,-388.63C168,-380.82 168,-371.73 168,-363.18\"/>\n",
       "<polygon fill=\"black\" stroke=\"black\" points=\"171.5,-363.16 168,-353.16 164.5,-363.16 171.5,-363.16\"/>\n",
       "</g>\n",
       "<!-- 7 -->\n",
       "<g id=\"node8\" class=\"node\">\n",
       "<title>7</title>\n",
       "<polygon fill=\"#c1ffc1\" stroke=\"transparent\" points=\"241.5,-275 94.5,-275 94.5,-233 241.5,-233 241.5,-275\"/>\n",
       "<polygon fill=\"none\" stroke=\"black\" points=\"95,-233 95,-275 142,-275 142,-233 95,-233\"/>\n",
       "<text text-anchor=\"start\" x=\"102.5\" y=\"-257\" font-family=\"Linux libertine\" font-size=\"10.00\">Linear</text>\n",
       "<text text-anchor=\"start\" x=\"100\" y=\"-246\" font-family=\"Linux libertine\" font-size=\"10.00\">depth:2</text>\n",
       "<polygon fill=\"none\" stroke=\"black\" points=\"142,-254 142,-275 195,-275 195,-254 142,-254\"/>\n",
       "<text text-anchor=\"start\" x=\"152.5\" y=\"-262\" font-family=\"Linux libertine\" font-size=\"10.00\">input:</text>\n",
       "<polygon fill=\"none\" stroke=\"black\" points=\"195,-254 195,-275 242,-275 242,-254 195,-254\"/>\n",
       "<text text-anchor=\"start\" x=\"200\" y=\"-262\" font-family=\"Linux libertine\" font-size=\"10.00\">(128,) </text>\n",
       "<polygon fill=\"none\" stroke=\"black\" points=\"142,-233 142,-254 195,-254 195,-233 142,-233\"/>\n",
       "<text text-anchor=\"start\" x=\"147\" y=\"-241\" font-family=\"Linux libertine\" font-size=\"10.00\">output: </text>\n",
       "<polygon fill=\"none\" stroke=\"black\" points=\"195,-233 195,-254 242,-254 242,-233 195,-233\"/>\n",
       "<text text-anchor=\"start\" x=\"202.5\" y=\"-241\" font-family=\"Linux libertine\" font-size=\"10.00\">(64,) </text>\n",
       "</g>\n",
       "<!-- 6&#45;&gt;7 -->\n",
       "<g id=\"edge7\" class=\"edge\">\n",
       "<title>6&#45;&gt;7</title>\n",
       "<path fill=\"none\" stroke=\"black\" d=\"M168,-310.63C168,-302.82 168,-293.73 168,-285.18\"/>\n",
       "<polygon fill=\"black\" stroke=\"black\" points=\"171.5,-285.16 168,-275.16 164.5,-285.16 171.5,-285.16\"/>\n",
       "</g>\n",
       "<!-- 8 -->\n",
       "<g id=\"node9\" class=\"node\">\n",
       "<title>8</title>\n",
       "<polygon fill=\"#c1ffc1\" stroke=\"transparent\" points=\"324,-188 182,-188 182,-146 324,-146 324,-188\"/>\n",
       "<polygon fill=\"none\" stroke=\"black\" points=\"182,-146 182,-188 229,-188 229,-146 182,-146\"/>\n",
       "<text text-anchor=\"start\" x=\"189.5\" y=\"-170\" font-family=\"Linux libertine\" font-size=\"10.00\">Linear</text>\n",
       "<text text-anchor=\"start\" x=\"187\" y=\"-159\" font-family=\"Linux libertine\" font-size=\"10.00\">depth:2</text>\n",
       "<polygon fill=\"none\" stroke=\"black\" points=\"229,-167 229,-188 282,-188 282,-167 229,-167\"/>\n",
       "<text text-anchor=\"start\" x=\"239.5\" y=\"-175\" font-family=\"Linux libertine\" font-size=\"10.00\">input:</text>\n",
       "<polygon fill=\"none\" stroke=\"black\" points=\"282,-167 282,-188 324,-188 324,-167 282,-167\"/>\n",
       "<text text-anchor=\"start\" x=\"287\" y=\"-175\" font-family=\"Linux libertine\" font-size=\"10.00\">(64,) </text>\n",
       "<polygon fill=\"none\" stroke=\"black\" points=\"229,-146 229,-167 282,-167 282,-146 229,-146\"/>\n",
       "<text text-anchor=\"start\" x=\"234\" y=\"-154\" font-family=\"Linux libertine\" font-size=\"10.00\">output: </text>\n",
       "<polygon fill=\"none\" stroke=\"black\" points=\"282,-146 282,-167 324,-167 324,-146 282,-146\"/>\n",
       "<text text-anchor=\"start\" x=\"289.5\" y=\"-154\" font-family=\"Linux libertine\" font-size=\"10.00\">(1,) </text>\n",
       "</g>\n",
       "<!-- 7&#45;&gt;8 -->\n",
       "<g id=\"edge8\" class=\"edge\">\n",
       "<title>7&#45;&gt;8</title>\n",
       "<path fill=\"none\" stroke=\"black\" d=\"M188.14,-232.86C199.28,-221.72 213.29,-207.71 225.43,-195.57\"/>\n",
       "<polygon fill=\"black\" stroke=\"black\" points=\"228.11,-197.84 232.71,-188.29 223.16,-192.89 228.11,-197.84\"/>\n",
       "</g>\n",
       "<!-- 9 -->\n",
       "<g id=\"node10\" class=\"node\">\n",
       "<title>9</title>\n",
       "<polygon fill=\"#c1ffc1\" stroke=\"transparent\" points=\"158,-188 16,-188 16,-146 158,-146 158,-188\"/>\n",
       "<polygon fill=\"none\" stroke=\"black\" points=\"16,-146 16,-188 63,-188 63,-146 16,-146\"/>\n",
       "<text text-anchor=\"start\" x=\"23.5\" y=\"-170\" font-family=\"Linux libertine\" font-size=\"10.00\">Linear</text>\n",
       "<text text-anchor=\"start\" x=\"21\" y=\"-159\" font-family=\"Linux libertine\" font-size=\"10.00\">depth:2</text>\n",
       "<polygon fill=\"none\" stroke=\"black\" points=\"63,-167 63,-188 116,-188 116,-167 63,-167\"/>\n",
       "<text text-anchor=\"start\" x=\"73.5\" y=\"-175\" font-family=\"Linux libertine\" font-size=\"10.00\">input:</text>\n",
       "<polygon fill=\"none\" stroke=\"black\" points=\"116,-167 116,-188 158,-188 158,-167 116,-167\"/>\n",
       "<text text-anchor=\"start\" x=\"121\" y=\"-175\" font-family=\"Linux libertine\" font-size=\"10.00\">(64,) </text>\n",
       "<polygon fill=\"none\" stroke=\"black\" points=\"63,-146 63,-167 116,-167 116,-146 63,-146\"/>\n",
       "<text text-anchor=\"start\" x=\"68\" y=\"-154\" font-family=\"Linux libertine\" font-size=\"10.00\">output: </text>\n",
       "<polygon fill=\"none\" stroke=\"black\" points=\"116,-146 116,-167 158,-167 158,-146 116,-146\"/>\n",
       "<text text-anchor=\"start\" x=\"123.5\" y=\"-154\" font-family=\"Linux libertine\" font-size=\"10.00\">(9,) </text>\n",
       "</g>\n",
       "<!-- 7&#45;&gt;9 -->\n",
       "<g id=\"edge10\" class=\"edge\">\n",
       "<title>7&#45;&gt;9</title>\n",
       "<path fill=\"none\" stroke=\"black\" d=\"M148.8,-232.86C138.19,-221.72 124.84,-207.71 113.27,-195.57\"/>\n",
       "<polygon fill=\"black\" stroke=\"black\" points=\"115.77,-193.12 106.34,-188.29 110.7,-197.95 115.77,-193.12\"/>\n",
       "</g>\n",
       "<!-- 11 -->\n",
       "<g id=\"node12\" class=\"node\">\n",
       "<title>11</title>\n",
       "<polygon fill=\"aliceblue\" stroke=\"transparent\" points=\"321.5,-110 184.5,-110 184.5,-68 321.5,-68 321.5,-110\"/>\n",
       "<polygon fill=\"none\" stroke=\"black\" points=\"185,-68 185,-110 232,-110 232,-68 185,-68\"/>\n",
       "<text text-anchor=\"start\" x=\"197.5\" y=\"-92\" font-family=\"Linux libertine\" font-size=\"10.00\">view</text>\n",
       "<text text-anchor=\"start\" x=\"190\" y=\"-81\" font-family=\"Linux libertine\" font-size=\"10.00\">depth:1</text>\n",
       "<polygon fill=\"none\" stroke=\"black\" points=\"232,-89 232,-110 285,-110 285,-89 232,-89\"/>\n",
       "<text text-anchor=\"start\" x=\"242.5\" y=\"-97\" font-family=\"Linux libertine\" font-size=\"10.00\">input:</text>\n",
       "<polygon fill=\"none\" stroke=\"black\" points=\"285,-89 285,-110 322,-110 322,-89 285,-89\"/>\n",
       "<text text-anchor=\"start\" x=\"290\" y=\"-97\" font-family=\"Linux libertine\" font-size=\"10.00\">(1,) </text>\n",
       "<polygon fill=\"none\" stroke=\"black\" points=\"232,-68 232,-89 285,-89 285,-68 232,-68\"/>\n",
       "<text text-anchor=\"start\" x=\"237\" y=\"-76\" font-family=\"Linux libertine\" font-size=\"10.00\">output: </text>\n",
       "<polygon fill=\"none\" stroke=\"black\" points=\"285,-68 285,-89 322,-89 322,-68 285,-68\"/>\n",
       "<text text-anchor=\"start\" x=\"290\" y=\"-76\" font-family=\"Linux libertine\" font-size=\"10.00\">(1,) </text>\n",
       "</g>\n",
       "<!-- 8&#45;&gt;11 -->\n",
       "<g id=\"edge9\" class=\"edge\">\n",
       "<title>8&#45;&gt;11</title>\n",
       "<path fill=\"none\" stroke=\"black\" d=\"M253,-145.63C253,-137.82 253,-128.73 253,-120.18\"/>\n",
       "<polygon fill=\"black\" stroke=\"black\" points=\"256.5,-120.16 253,-110.16 249.5,-120.16 256.5,-120.16\"/>\n",
       "</g>\n",
       "<!-- 10 -->\n",
       "<g id=\"node11\" class=\"node\">\n",
       "<title>10</title>\n",
       "<polygon fill=\"lightyellow\" stroke=\"transparent\" points=\"142.5,-105 31.5,-105 31.5,-73 142.5,-73 142.5,-105\"/>\n",
       "<polygon fill=\"none\" stroke=\"black\" points=\"32,-73 32,-105 111,-105 111,-73 32,-73\"/>\n",
       "<text text-anchor=\"start\" x=\"37\" y=\"-92\" font-family=\"Linux libertine\" font-size=\"10.00\">output&#45;tensor</text>\n",
       "<text text-anchor=\"start\" x=\"53\" y=\"-81\" font-family=\"Linux libertine\" font-size=\"10.00\">depth:0</text>\n",
       "<polygon fill=\"none\" stroke=\"black\" points=\"111,-73 111,-105 143,-105 143,-73 111,-73\"/>\n",
       "<text text-anchor=\"start\" x=\"116\" y=\"-86.5\" font-family=\"Linux libertine\" font-size=\"10.00\">(9,)</text>\n",
       "</g>\n",
       "<!-- 9&#45;&gt;10 -->\n",
       "<g id=\"edge11\" class=\"edge\">\n",
       "<title>9&#45;&gt;10</title>\n",
       "<path fill=\"none\" stroke=\"black\" d=\"M87,-145.63C87,-136.33 87,-125.22 87,-115.39\"/>\n",
       "<polygon fill=\"black\" stroke=\"black\" points=\"90.5,-115.36 87,-105.36 83.5,-115.36 90.5,-115.36\"/>\n",
       "</g>\n",
       "<!-- 12 -->\n",
       "<g id=\"node13\" class=\"node\">\n",
       "<title>12</title>\n",
       "<polygon fill=\"lightyellow\" stroke=\"transparent\" points=\"308.5,-32 197.5,-32 197.5,0 308.5,0 308.5,-32\"/>\n",
       "<polygon fill=\"none\" stroke=\"black\" points=\"198,0 198,-32 277,-32 277,0 198,0\"/>\n",
       "<text text-anchor=\"start\" x=\"203\" y=\"-19\" font-family=\"Linux libertine\" font-size=\"10.00\">output&#45;tensor</text>\n",
       "<text text-anchor=\"start\" x=\"219\" y=\"-8\" font-family=\"Linux libertine\" font-size=\"10.00\">depth:0</text>\n",
       "<polygon fill=\"none\" stroke=\"black\" points=\"277,0 277,-32 309,-32 309,0 277,0\"/>\n",
       "<text text-anchor=\"start\" x=\"282\" y=\"-13.5\" font-family=\"Linux libertine\" font-size=\"10.00\">(1,)</text>\n",
       "</g>\n",
       "<!-- 11&#45;&gt;12 -->\n",
       "<g id=\"edge12\" class=\"edge\">\n",
       "<title>11&#45;&gt;12</title>\n",
       "<path fill=\"none\" stroke=\"black\" d=\"M253,-67.84C253,-59.89 253,-50.66 253,-42.26\"/>\n",
       "<polygon fill=\"black\" stroke=\"black\" points=\"256.5,-42.24 253,-32.24 249.5,-42.24 256.5,-42.24\"/>\n",
       "</g>\n",
       "</g>\n",
       "</svg>\n"
      ],
      "text/plain": [
       "<graphviz.graphs.Digraph at 0x7fd7c328f970>"
      ]
     },
     "execution_count": 16,
     "metadata": {},
     "output_type": "execute_result"
    }
   ],
   "source": [
    "# Посмотрим какая модель у нас получилась\n",
    "from torchview import draw_graph\n",
    "\n",
    "model_graph = draw_graph(model, input_size=[cfg.num_features], expand_nested=True)\n",
    "model_graph.visual_graph"
   ]
  },
  {
   "cell_type": "markdown",
   "metadata": {},
   "source": [
    "<div class=\"alert alert-success\">\n",
    "\n",
    "Мы написали функциональный датасет и нейронку\n",
    "\n",
    "Пора это объединить и обучить нейронку на данных - в этом нам поможет `Trainer`"
   ]
  },
  {
   "cell_type": "markdown",
   "metadata": {},
   "source": [
    "# <center id=\"p2\"> 🤠  Лучший Trainer на всем диком Западе </center>"
   ]
  },
  {
   "cell_type": "markdown",
   "metadata": {},
   "source": [
    "<div class=\"alert alert-info\">\n",
    "\n",
    "Основные параметры `Trainer`:\n",
    "* `accelerator` - если вы хотите тренировать модель на `cpu`, `gpu` или же `tpu`, `hpu` и прочих устройствах\n",
    "* `devices` - кол-во `cpu`, `gpu`. Можно поставить `-1` - будут использоваться все ресурсы\n",
    "* `logger` - Логгер обучения модели. Можно использовать: `WandbLogger`, `MLFlowLogger`, `NeptuneLogger` и прочие. Весь список логгеров можно увидеть здесь: https://pytorch-lightning.readthedocs.io/en/2.2.0/pytorch/api_references.html#loggers\n",
    "* `max_epochs` - Кол-во эпох обучения модели\n",
    "* `max_steps` - Кол-во батчей, которое увидит модель в эпохе\n",
    "* `check_val_every_n_epoch` - Проверять val часть через каждые n эпох обучения\n",
    "* `fast_dev_run` - запускает отладочную эпоху на train и val части, чтобы убедиться все ли исправно работает\n",
    "* `deterministic` - фиксируем seed. Если раньше не делали `seed_everything`! \n",
    "* `callbacks` - одна из основных фишек тренера. Позволяет добавить `EarlyStopping` к модели за одну строчку! И прочие плюшки\n",
    "\n",
    "Все параметры можно найти здесь: https://pytorch-lightning.readthedocs.io/en/2.2.0/pytorch/common/trainer.html#trainer-class-api"
   ]
  },
  {
   "cell_type": "markdown",
   "metadata": {},
   "source": [
    "## <center> 🤼‍♀️ Самый базовый Тренер </center>"
   ]
  },
  {
   "cell_type": "code",
   "execution_count": 17,
   "metadata": {},
   "outputs": [
    {
     "name": "stderr",
     "output_type": "stream",
     "text": [
      "GPU available: True (cuda), used: True\n",
      "TPU available: False, using: 0 TPU cores\n",
      "HPU available: False, using: 0 HPUs\n",
      "/app/storage_local/Course/ml_instruments/.venv/lib/python3.10/site-packages/lightning/pytorch/trainer/connectors/logger_connector/logger_connector.py:76: Starting from v1.9.0, `tensorboardX` has been removed as a dependency of the `lightning.pytorch` package, due to potential conflicts with other packages in the ML ecosystem. For this reason, `logger=True` will use `CSVLogger` as the default logger, unless the `tensorboard` or `tensorboardX` packages are found. Please `pip install lightning[extra]` or one of them to enable TensorBoard support by default\n",
      "Running in `fast_dev_run` mode: will run the requested loop using 1 batch(es). Logging and checkpointing is suppressed.\n"
     ]
    }
   ],
   "source": [
    "trainer = Trainer(\n",
    "    accelerator='gpu', # Где обучаем нейронку\n",
    "    devices=cfg.device_count, # Если несколько GPU, TPU\n",
    "    fast_dev_run=True, # Отладочный запуск крайне важен!\n",
    ")"
   ]
  },
  {
   "cell_type": "code",
   "execution_count": 18,
   "metadata": {
    "scrolled": true
   },
   "outputs": [
    {
     "name": "stderr",
     "output_type": "stream",
     "text": [
      "You are using a CUDA device ('NVIDIA GeForce RTX 3090') that has Tensor Cores. To properly utilize them, you should set `torch.set_float32_matmul_precision('medium' | 'high')` which will trade-off precision for performance. For more details, read https://pytorch.org/docs/stable/generated/torch.set_float32_matmul_precision.html#torch.set_float32_matmul_precision\n",
      "LOCAL_RANK: 0 - CUDA_VISIBLE_DEVICES: [0,1]\n",
      "\n",
      "  | Name                     | Type             | Params | Mode \n",
      "----------------------------------------------------------------------\n",
      "0 | mlp                      | Sequential       | 30.4 K | train\n",
      "1 | regressor                | Sequential       | 65     | train\n",
      "2 | classifier               | Sequential       | 585    | train\n",
      "3 | regression_criterion     | MSELoss          | 0      | train\n",
      "4 | classification_criterion | CrossEntropyLoss | 0      | train\n",
      "----------------------------------------------------------------------\n",
      "31.1 K    Trainable params\n",
      "0         Non-trainable params\n",
      "31.1 K    Total params\n",
      "0.124     Total estimated model params size (MB)\n",
      "14        Modules in train mode\n",
      "0         Modules in eval mode\n"
     ]
    },
    {
     "data": {
      "application/vnd.jupyter.widget-view+json": {
       "model_id": "9563b746fb1e4eab9566b743f7157821",
       "version_major": 2,
       "version_minor": 0
      },
      "text/plain": [
       "Training: |                                                                                                   …"
      ]
     },
     "metadata": {},
     "output_type": "display_data"
    },
    {
     "data": {
      "application/vnd.jupyter.widget-view+json": {
       "model_id": "b7d152cc4a164d8589274c3926abc1e0",
       "version_major": 2,
       "version_minor": 0
      },
      "text/plain": [
       "Validation: |                                                                                                 …"
      ]
     },
     "metadata": {},
     "output_type": "display_data"
    },
    {
     "name": "stderr",
     "output_type": "stream",
     "text": [
      "/app/storage_local/Course/ml_instruments/.venv/lib/python3.10/site-packages/torch/optim/lr_scheduler.py:240: UserWarning: The epoch parameter in `scheduler.step()` was not necessary and is being deprecated where possible. Please use `scheduler.step()` to step the scheduler. During the deprecation, if epoch is different from None, the closed form is used instead of the new chainable form, where available. Please open an issue if you are unable to replicate your use case: https://github.com/pytorch/pytorch/issues/new/choose.\n",
      "  warnings.warn(EPOCH_DEPRECATION_WARNING, UserWarning)\n",
      "`Trainer.fit` stopped: `max_steps=1` reached.\n"
     ]
    }
   ],
   "source": [
    "trainer.fit(model, datamodule=dataset)"
   ]
  },
  {
   "cell_type": "markdown",
   "metadata": {},
   "source": [
    "<div class=\"alert alert-success\">\n",
    "\n",
    "Модель обучается на train, val части, поэтому можем запускать и \"целиковое\" обучение. Давайте напишем самый базовый тренер, который будет сохранять веса модели и прекращать обучение если `loss` начал расти"
   ]
  },
  {
   "cell_type": "markdown",
   "metadata": {},
   "source": [
    "# <center id=\"p7\"> 🔫 Model, Trainer & 2 smoking CallBacks 🔫 </center>"
   ]
  },
  {
   "cell_type": "markdown",
   "metadata": {},
   "source": [
    "<div class=\"alert alert-info\">\n",
    "\n",
    "`Callbacks` в **PyTorch Lightning** — это мощный инструмент, позволяющий добавлять в процесс обучения дополнительные функции, не изменяя основной код модели. Они обеспечивают модульность и повторное использование кода, что упрощает управление сложными экспериментами и улучшает читаемость проекта.\n",
    "\n",
    "**Наиболее часто используемые callbacks:**\n",
    "\n",
    "* `ModelCheckpoint`: Сохраняет модель на диск в определенные моменты времени, обычно при улучшении качества на валидационном наборе. Это обеспечивает возможность восстановления лучшей версии модели после завершения обучения.\n",
    "* `EarlyStopping`: Отслеживает метрику и прекращает обучение, если качество модели перестает улучшаться, что помогает предотвратить переобучение и сэкономить вычислительные ресурсы.\n",
    "* `LearningRateMonitor`: Автоматически отслеживает и логирует значения скорости обучения в течение тренировки, что полезно для анализа и отладки процесса обучения.\n",
    "* `ProgressBar`: Отображает прогресс обучения в виде визуального индикатора, предоставляя информацию о текущем состоянии тренировки и ожидаемом времени завершения.\n",
    "* `Timer`: Отслеживает время, затраченное на обучение, валидацию и тестирование, и может прерывать обучение при достижении заданного временного лимита.\n",
    "* `DeviceStatsMonitor`: Автоматически отслеживает и логирует статистику устройства (например, GPU) во время обучения, валидации и тестирования, что помогает в мониторинге использования ресурсов.\n",
    "\n",
    "Полный [список callback'ов в Lightning](https://pytorch-lightning.readthedocs.io/en/2.2.0/pytorch/api_references.html#callbacks)"
   ]
  },
  {
   "cell_type": "markdown",
   "metadata": {},
   "source": [
    "<div class=\"alert alert-warning\">\n",
    "\n",
    "В этом `Trainer` мы зададим основные параметры обучения модели и добавим `callbacks` - `EarlyStopping` и `ModelCheckpoint`.\n",
    "\n",
    "В общем, Trainer решает все болячки самописных функций обучения и компанует их в лаконичный класс с удобным интерфейсом."
   ]
  },
  {
   "cell_type": "code",
   "execution_count": 19,
   "metadata": {},
   "outputs": [
    {
     "name": "stderr",
     "output_type": "stream",
     "text": [
      "GPU available: True (cuda), used: True\n",
      "TPU available: False, using: 0 TPU cores\n",
      "HPU available: False, using: 0 HPUs\n"
     ]
    }
   ],
   "source": [
    "from lightning.pytorch.callbacks import EarlyStopping, ModelCheckpoint\n",
    "\n",
    "trainer = Trainer(\n",
    "    accelerator='gpu',\n",
    "    devices=cfg.device_count,\n",
    "    max_epochs=cfg.epochs, # Устанавливаем кол-во эпох\n",
    "    log_every_n_steps=10, # Как часто логируем метрики\n",
    "    check_val_every_n_epoch=2, # Запускаем проверку val-части каждые 2 эпохи\n",
    "    # Или можно использвать\n",
    "    # val_check_interval=0.2 \n",
    "\n",
    "    callbacks=[\n",
    "        EarlyStopping( # Подключаем EarlyStopping\n",
    "            monitor='valid/loss', # Какую метрику отлавливаем\n",
    "            patience=3, # Сколько эпох валидации внимательно наблюдаем\n",
    "            verbose=False, # Вывод как улучшается ил ухудшается метрика\n",
    "        ),\n",
    "        ModelCheckpoint( # Сохранение нескольких весов модели\n",
    "            monitor='valid/loss',\n",
    "            dirpath=f\"../models/{cfg.model_name}\", # Путь для сохранения модели\n",
    "            enable_version_counter=True, # Не затираем старые веса!\n",
    "            # auto_insert_metric_name=True, # Сохраняем метрики в названии модели\n",
    "            save_top_k=3 # Сохраняем 3 лучших модели\n",
    "        ),\n",
    "    ]\n",
    ")"
   ]
  },
  {
   "cell_type": "code",
   "execution_count": 20,
   "metadata": {
    "scrolled": true
   },
   "outputs": [
    {
     "name": "stderr",
     "output_type": "stream",
     "text": [
      "/app/storage_local/Course/ml_instruments/.venv/lib/python3.10/site-packages/lightning/pytorch/callbacks/model_checkpoint.py:654: Checkpoint directory /app/storage_local/Course/ml_instruments/models/Lightning ⚡️ Improved exists and is not empty.\n",
      "LOCAL_RANK: 0 - CUDA_VISIBLE_DEVICES: [0,1]\n",
      "\n",
      "  | Name                     | Type             | Params | Mode \n",
      "----------------------------------------------------------------------\n",
      "0 | mlp                      | Sequential       | 30.4 K | train\n",
      "1 | regressor                | Sequential       | 65     | train\n",
      "2 | classifier               | Sequential       | 585    | train\n",
      "3 | regression_criterion     | MSELoss          | 0      | train\n",
      "4 | classification_criterion | CrossEntropyLoss | 0      | train\n",
      "----------------------------------------------------------------------\n",
      "31.1 K    Trainable params\n",
      "0         Non-trainable params\n",
      "31.1 K    Total params\n",
      "0.124     Total estimated model params size (MB)\n",
      "14        Modules in train mode\n",
      "0         Modules in eval mode\n"
     ]
    },
    {
     "data": {
      "application/vnd.jupyter.widget-view+json": {
       "model_id": "b1ccf78606a04d0992a7d5159a9fcc3d",
       "version_major": 2,
       "version_minor": 0
      },
      "text/plain": [
       "Sanity Checking: |                                                                                            …"
      ]
     },
     "metadata": {},
     "output_type": "display_data"
    },
    {
     "data": {
      "application/vnd.jupyter.widget-view+json": {
       "model_id": "78e0b60ab1b34f1f885302c2aa9a1c07",
       "version_major": 2,
       "version_minor": 0
      },
      "text/plain": [
       "Training: |                                                                                                   …"
      ]
     },
     "metadata": {},
     "output_type": "display_data"
    },
    {
     "data": {
      "application/vnd.jupyter.widget-view+json": {
       "model_id": "d2f6e558b16d488cb75bc90f87507c50",
       "version_major": 2,
       "version_minor": 0
      },
      "text/plain": [
       "Validation: |                                                                                                 …"
      ]
     },
     "metadata": {},
     "output_type": "display_data"
    },
    {
     "data": {
      "application/vnd.jupyter.widget-view+json": {
       "model_id": "0a2c1d81282740d6a62f7f096220835a",
       "version_major": 2,
       "version_minor": 0
      },
      "text/plain": [
       "Validation: |                                                                                                 …"
      ]
     },
     "metadata": {},
     "output_type": "display_data"
    },
    {
     "data": {
      "application/vnd.jupyter.widget-view+json": {
       "model_id": "3776b0a0ee304695a7396a7fa0d2ff12",
       "version_major": 2,
       "version_minor": 0
      },
      "text/plain": [
       "Validation: |                                                                                                 …"
      ]
     },
     "metadata": {},
     "output_type": "display_data"
    },
    {
     "data": {
      "application/vnd.jupyter.widget-view+json": {
       "model_id": "b03779e345c9428f9a9e85fe645849ec",
       "version_major": 2,
       "version_minor": 0
      },
      "text/plain": [
       "Validation: |                                                                                                 …"
      ]
     },
     "metadata": {},
     "output_type": "display_data"
    },
    {
     "data": {
      "application/vnd.jupyter.widget-view+json": {
       "model_id": "891667e46a1a464098f5b6ffa66858de",
       "version_major": 2,
       "version_minor": 0
      },
      "text/plain": [
       "Validation: |                                                                                                 …"
      ]
     },
     "metadata": {},
     "output_type": "display_data"
    },
    {
     "data": {
      "application/vnd.jupyter.widget-view+json": {
       "model_id": "ff67fbe49df64235aa5acb166e9490f2",
       "version_major": 2,
       "version_minor": 0
      },
      "text/plain": [
       "Validation: |                                                                                                 …"
      ]
     },
     "metadata": {},
     "output_type": "display_data"
    },
    {
     "data": {
      "application/vnd.jupyter.widget-view+json": {
       "model_id": "9a375ddad8e24275895d590dd6731e91",
       "version_major": 2,
       "version_minor": 0
      },
      "text/plain": [
       "Validation: |                                                                                                 …"
      ]
     },
     "metadata": {},
     "output_type": "display_data"
    },
    {
     "data": {
      "application/vnd.jupyter.widget-view+json": {
       "model_id": "504718a42b914eec8201a5840e7db1b9",
       "version_major": 2,
       "version_minor": 0
      },
      "text/plain": [
       "Validation: |                                                                                                 …"
      ]
     },
     "metadata": {},
     "output_type": "display_data"
    },
    {
     "data": {
      "application/vnd.jupyter.widget-view+json": {
       "model_id": "6c7336d1fd484c50b899f4dc590de368",
       "version_major": 2,
       "version_minor": 0
      },
      "text/plain": [
       "Validation: |                                                                                                 …"
      ]
     },
     "metadata": {},
     "output_type": "display_data"
    },
    {
     "data": {
      "application/vnd.jupyter.widget-view+json": {
       "model_id": "ce11a68c38574a1099ee18ef0528470b",
       "version_major": 2,
       "version_minor": 0
      },
      "text/plain": [
       "Validation: |                                                                                                 …"
      ]
     },
     "metadata": {},
     "output_type": "display_data"
    },
    {
     "name": "stderr",
     "output_type": "stream",
     "text": [
      "`Trainer.fit` stopped: `max_epochs=20` reached.\n"
     ]
    }
   ],
   "source": [
    "trainer.fit(model, datamodule=dataset)"
   ]
  },
  {
   "cell_type": "markdown",
   "metadata": {},
   "source": [
    "<div class=\"alert alert-info\">\n",
    "\n",
    "**Основная идея:** \n",
    "\n",
    "`Захотели добавить что-то в пайплайн обучения --> нашли нужный callback в документации -> импортировали -> добавили в класс тренера -> пользуемся!`\n",
    "\n",
    "Но если вы не нашли нужный модуль (что у вас за задача?! 🤯), то всегда можете написать собственный, отнаследовавшись от [данного класса](https://pytorch-lightning.readthedocs.io/en/2.2.0/pytorch/api/lightning.pytorch.callbacks.Callback.html#lightning.pytorch.callbacks.Callback)."
   ]
  },
  {
   "cell_type": "markdown",
   "metadata": {},
   "source": [
    "# <center id=\"p3\"> 📏 Torchmetrics - удобный доступ к любым метрикам! 📐</center>"
   ]
  },
  {
   "cell_type": "markdown",
   "metadata": {},
   "source": [
    "<p align=\"center\">\n",
    "  <img src=\"https://pypi-camo.freetls.fastly.net/cb0193441c6c9630fed5323fd6c1fa4146ca9ae2/68747470733a2f2f6769746875622e636f6d2f4c696768746e696e672d41492f746f7263686d6574726963732f7261772f76312e362e312f646f63732f736f757263652f5f7374617469632f696d616765732f6c6f676f2e706e67\" />\n",
    "</p>\n"
   ]
  },
  {
   "cell_type": "markdown",
   "metadata": {},
   "source": [
    "<div class=\"alert alert-info\">\n",
    "\n",
    "**Torchmetrics** - фреймворк, внутри которого есть практически все необходимые метрики для работы с ИИ ([документация]( https://torchmetrics.readthedocs.io/en/v1.3.0/)). \n",
    "Фрэймворк отлично интегрирован для работы с **Lightning** 😉\n",
    "\n",
    "Но давайте сначала посмотрим, как использовать этот инструмент отдельно."
   ]
  },
  {
   "cell_type": "code",
   "execution_count": 27,
   "metadata": {},
   "outputs": [],
   "source": [
    "!pip install torchmetrics -q"
   ]
  },
  {
   "cell_type": "markdown",
   "metadata": {},
   "source": [
    "<div class=\"alert alert-info\">\n",
    "\n",
    "Существует два вида API:\n",
    "* Функциональный вызов (как в sklearn). Все метрики лежат в `torchmetrics.functional`\n",
    "* Класс с методами. Метрики лежат непосредственно в `torchmetrics` \n",
    "\n",
    "Весь список метрик можно увидеть здесь: https://torchmetrics.readthedocs.io/en/v1.3.0/all-metrics.html\n",
    "\n",
    "Для каждой задачи удобен каждый метод, но мы сделаем упор на ООП-подходе"
   ]
  },
  {
   "cell_type": "code",
   "execution_count": 21,
   "metadata": {},
   "outputs": [],
   "source": [
    "import torchmetrics as tm"
   ]
  },
  {
   "cell_type": "markdown",
   "metadata": {},
   "source": [
    "## <center> 🎛 Функциональный подход </center>"
   ]
  },
  {
   "cell_type": "code",
   "execution_count": 22,
   "metadata": {},
   "outputs": [],
   "source": [
    "y_true = torch.tensor([0, 1, 2, 1, 0])  # истинные метки\n",
    "y_pred = torch.tensor([0, 2, 1, 1, 0])  # предсказания"
   ]
  },
  {
   "cell_type": "code",
   "execution_count": 23,
   "metadata": {},
   "outputs": [
    {
     "data": {
      "text/plain": [
       "0.6000000238418579"
      ]
     },
     "execution_count": 23,
     "metadata": {},
     "output_type": "execute_result"
    }
   ],
   "source": [
    "accuracy = tm.functional.accuracy(y_pred, y_true, task=\"multiclass\", num_classes=5)\n",
    "accuracy.item()"
   ]
  },
  {
   "cell_type": "markdown",
   "metadata": {},
   "source": [
    "## <center> Классовый подход </center>"
   ]
  },
  {
   "cell_type": "code",
   "execution_count": 24,
   "metadata": {},
   "outputs": [],
   "source": [
    "# Задаем задачу (если необходимо) и количество классов (если необходимо)\n",
    "accuracy = tm.Accuracy(task=\"multiclass\", num_classes=5) "
   ]
  },
  {
   "cell_type": "code",
   "execution_count": 25,
   "metadata": {},
   "outputs": [
    {
     "data": {
      "text/plain": [
       "0.6000000238418579"
      ]
     },
     "execution_count": 25,
     "metadata": {},
     "output_type": "execute_result"
    }
   ],
   "source": [
    "accuracy(y_pred, y_true).item()"
   ]
  },
  {
   "cell_type": "markdown",
   "metadata": {},
   "source": [
    "<div class=\"alert alert-info\">\n",
    "\n",
    "Главная фича возможность использовать аккумулятивное накопление метрики. То есть при обучении по batch'ам можно вычислять метрику по всей эпохе, не заморачиваясь с ее накоплением и обнулением - **Torchmetrics** все сделает за вас!"
   ]
  },
  {
   "cell_type": "code",
   "execution_count": 26,
   "metadata": {},
   "outputs": [],
   "source": [
    "fbeta = tm.FBetaScore(task=\"multiclass\", num_classes=3, beta=0.25)"
   ]
  },
  {
   "cell_type": "code",
   "execution_count": 27,
   "metadata": {},
   "outputs": [
    {
     "name": "stdout",
     "output_type": "stream",
     "text": [
      "0.0\n",
      "0.3333333432674408\n",
      "0.3333333432674408\n",
      "0.0\n",
      "0.3333333432674408\n",
      "0.3333333432674408\n",
      "0.3333333432674408\n",
      "0.0\n",
      "0.3333333432674408\n",
      "0.6666666865348816\n",
      "Средняя метрика: 0.2666666805744171\n"
     ]
    }
   ],
   "source": [
    "for _ in range(10):\n",
    "    y_pred = torch.randint(1, 5, (3,))\n",
    "    y_true = torch.randint(1, 5, (3,))\n",
    "\n",
    "    metric = fbeta(y_true, y_pred)\n",
    "    print(metric.item())\n",
    "\n",
    "print(f\"Средняя метрика: {fbeta.compute()}\")\n",
    "fbeta.reset() # Обнуляем накопившуюся метрику"
   ]
  },
  {
   "cell_type": "markdown",
   "metadata": {},
   "source": [
    "<div class=\"alert alert-info\">\n",
    "\n",
    "Также есть возможность автоматической отрисовки графиков обучения, если вам необходимо это сделать 🤗"
   ]
  },
  {
   "cell_type": "code",
   "execution_count": 28,
   "metadata": {},
   "outputs": [
    {
     "data": {
      "image/png": "[encoded data removed]",
      "text/plain": [
       "<Figure size 640x480 with 1 Axes>"
      ]
     },
     "metadata": {},
     "output_type": "display_data"
    }
   ],
   "source": [
    "values = [ ]\n",
    "for step in range(10):\n",
    "    y_true = torch.randint(1, 5, (3,))\n",
    "    for _ in range(5):\n",
    "        y_pred = torch.randint(1, 5, (3,))\n",
    "        fbeta.update(y_pred, y_true)\n",
    "    values.append(fbeta.compute())  # Сохраняем метрику по \"эпохе\"\n",
    "    fbeta.reset()\n",
    "fig, ax = fbeta.plot(values) # Подаем метрики, которые сохранили списком"
   ]
  },
  {
   "cell_type": "markdown",
   "metadata": {},
   "source": [
    "<div class=\"alert alert-info\">\n",
    "\n",
    "Мы посмотрели, как `TorchMetrics` помогает считать сложные метрики и даже рисовать графики. Но самая главная фишка, что `TorchMetrics` идеально работает с `Lightning` 😉"
   ]
  },
  {
   "cell_type": "markdown",
   "metadata": {},
   "source": [
    "# <center id=\"p4\"> 📏 TorchMetrics в PyTorch Lightning ⚡ </center>"
   ]
  },
  {
   "cell_type": "markdown",
   "metadata": {},
   "source": [
    "<div class=\"alert alert-info\">\n",
    "\n",
    "**Torchmetrics** идеально клеится c **PyTorch Lightning**. Если вы используете их вместе, то вам надо сделать:\n",
    "* Добавить ДВЕ метрики (одна - train, вторая - valid) в поле класса модели\n",
    "* В методе `training_step` вызвать `self.train_metric(preds, target)`, а затем `self.log(\"train/metric\", self.train_metric, on_step=True, on_epoch=False)`\n",
    "* В методе `validation_step` делаем все аналогично"
   ]
  },
  {
   "cell_type": "markdown",
   "metadata": {},
   "source": [
    "<div class=\"alert alert-success\">\n",
    "\n",
    "То есть модель должна выглядеть примерно так:\n",
    "\n",
    "```python\n",
    "class SuperPuperModel(L.LightningModule):\n",
    "    def __init__(self, ..., num_classes):\n",
    "        ...\n",
    "        self.train_metric = tm.AUROC(task=\"multiclass\", num_classes=num_classes)\n",
    "        self.valid_metric = tm.AUROC(task=\"multiclass\", num_classes=num_classes)\n",
    "\n",
    "    def training_step(self, batch, batch_idx):\n",
    "        x, y = batch\n",
    "        preds = self(x)\n",
    "        ...\n",
    "        self.train_metric(preds, y)\n",
    "        self.log('train/roc', self.train_metric, on_step=True, on_epoch=False)\n",
    "\n",
    "    def validation_step(self, batch, batch_idx):\n",
    "        logits = self(x)\n",
    "        ...\n",
    "        self.valid_acc(logits, y)\n",
    "        self.log('valid/roc', self.valid_metric, on_step=True, on_epoch=True)\n",
    "```"
   ]
  },
  {
   "cell_type": "markdown",
   "metadata": {},
   "source": [
    "<div class=\"alert alert-info\">\n",
    "\n",
    "Давайте опробуем **Torchmetrics** на деле!\n",
    "\n",
    "Отнаследуемся от нашей модели, чтобы не писать код повторно."
   ]
  },
  {
   "cell_type": "code",
   "execution_count": 29,
   "metadata": {},
   "outputs": [],
   "source": [
    "class SuperPuperModel(LightningModel):\n",
    "    def __init__(self, cfg: CFG):\n",
    "        super().__init__(cfg)\n",
    "\n",
    "        self.train_metric_reg = tm.MeanAbsoluteError()\n",
    "        self.train_metric_cls = tm.HingeLoss(task=\"multiclass\", num_classes=cfg.num_tar_class)\n",
    "        self.valid_metric_reg = tm.MeanAbsoluteError()\n",
    "        self.valid_metric_cls = tm.HingeLoss(task=\"multiclass\", num_classes=cfg.num_tar_class)\n",
    "    \n",
    "    # Перепишем basic step\n",
    "    def basic_step(self, batch, batch_idx, step: str):\n",
    "        data, reg_target, cls_target = batch\n",
    "\n",
    "        pred_reg, pred_cls = self(data)\n",
    "\n",
    "        # Обновляем метрики\n",
    "        if step == \"train\":\n",
    "            reg_metric = self.train_metric_reg(pred_reg, reg_target)\n",
    "            cls_metric = self.train_metric_cls(pred_cls, cls_target)\n",
    "        elif step == \"valid\":\n",
    "            reg_metric = self.valid_metric_reg(pred_reg, reg_target)\n",
    "            cls_metric = self.valid_metric_cls(pred_cls, cls_target)\n",
    "\n",
    "        return {\n",
    "            f\"{step}/loss\": reg_metric + cls_metric,\n",
    "            f\"{step}/reg_loss\": reg_metric,\n",
    "            f\"{step}/reg_class\": cls_metric    \n",
    "        }       "
   ]
  },
  {
   "cell_type": "code",
   "execution_count": 30,
   "metadata": {},
   "outputs": [
    {
     "data": {
      "text/plain": [
       "SuperPuperModel(\n",
       "  (mlp): Sequential(\n",
       "    (0): Linear(in_features=43, out_features=128, bias=True)\n",
       "    (1): Dropout(p=0.1, inplace=False)\n",
       "    (2): LeakyReLU(negative_slope=0.01)\n",
       "    (3): Linear(in_features=128, out_features=128, bias=True)\n",
       "    (4): Dropout(p=0.1, inplace=False)\n",
       "    (5): GELU(approximate='none')\n",
       "    (6): Linear(in_features=128, out_features=64, bias=True)\n",
       "  )\n",
       "  (regressor): Sequential(\n",
       "    (0): Linear(in_features=64, out_features=1, bias=True)\n",
       "  )\n",
       "  (classifier): Sequential(\n",
       "    (0): Linear(in_features=64, out_features=9, bias=True)\n",
       "  )\n",
       "  (regression_criterion): MSELoss()\n",
       "  (classification_criterion): CrossEntropyLoss()\n",
       "  (train_metric_reg): MeanAbsoluteError()\n",
       "  (train_metric_cls): MulticlassHingeLoss()\n",
       "  (valid_metric_reg): MeanAbsoluteError()\n",
       "  (valid_metric_cls): MulticlassHingeLoss()\n",
       ")"
      ]
     },
     "execution_count": 30,
     "metadata": {},
     "output_type": "execute_result"
    }
   ],
   "source": [
    "model = SuperPuperModel(cfg)\n",
    "model"
   ]
  },
  {
   "cell_type": "code",
   "execution_count": 31,
   "metadata": {},
   "outputs": [
    {
     "data": {
      "image/svg+xml": [
       "<?xml version=\"1.0\" encoding=\"UTF-8\" standalone=\"no\"?>\n",
       "<!DOCTYPE svg PUBLIC \"-//W3C//DTD SVG 1.1//EN\"\n",
       " \"http://www.w3.org/Graphics/SVG/1.1/DTD/svg11.dtd\">\n",
       "<!-- Generated by graphviz version 2.43.0 (0)\n",
       " -->\n",
       "<!-- Title: model Pages: 1 -->\n",
       "<svg width=\"348pt\" height=\"820pt\"\n",
       " viewBox=\"0.00 0.00 348.00 820.00\" xmlns=\"http://www.w3.org/2000/svg\" xmlns:xlink=\"http://www.w3.org/1999/xlink\">\n",
       "<g id=\"graph0\" class=\"graph\" transform=\"scale(1 1) rotate(0) translate(4 816)\">\n",
       "<title>model</title>\n",
       "<polygon fill=\"white\" stroke=\"transparent\" points=\"-4,4 -4,-816 344,-816 344,4 -4,4\"/>\n",
       "<g id=\"clust1\" class=\"cluster\">\n",
       "<title>cluster_2</title>\n",
       "<polygon fill=\"none\" stroke=\"black\" stroke-dasharray=\"5,2\" points=\"81,-225 81,-772 255,-772 255,-225 81,-225\"/>\n",
       "<text text-anchor=\"middle\" x=\"114\" y=\"-758.4\" font-family=\"Times,serif\" font-size=\"12.00\">Sequential</text>\n",
       "</g>\n",
       "<g id=\"clust2\" class=\"cluster\">\n",
       "<title>cluster_3</title>\n",
       "<polygon fill=\"none\" stroke=\"black\" stroke-dasharray=\"5,2\" points=\"174,-138 174,-217 332,-217 332,-138 174,-138\"/>\n",
       "<text text-anchor=\"middle\" x=\"207\" y=\"-203.4\" font-family=\"Times,serif\" font-size=\"12.00\">Sequential</text>\n",
       "</g>\n",
       "<g id=\"clust3\" class=\"cluster\">\n",
       "<title>cluster_4</title>\n",
       "<polygon fill=\"none\" stroke=\"black\" stroke-dasharray=\"5,2\" points=\"8,-65 8,-217 166,-217 166,-65 8,-65\"/>\n",
       "<text text-anchor=\"middle\" x=\"41\" y=\"-203.4\" font-family=\"Times,serif\" font-size=\"12.00\">Sequential</text>\n",
       "</g>\n",
       "<!-- 0 -->\n",
       "<g id=\"node1\" class=\"node\">\n",
       "<title>0</title>\n",
       "<polygon fill=\"lightyellow\" stroke=\"transparent\" points=\"223.5,-812 112.5,-812 112.5,-780 223.5,-780 223.5,-812\"/>\n",
       "<polygon fill=\"none\" stroke=\"black\" points=\"113,-780 113,-812 187,-812 187,-780 113,-780\"/>\n",
       "<text text-anchor=\"start\" x=\"118\" y=\"-799\" font-family=\"Linux libertine\" font-size=\"10.00\">input&#45;tensor</text>\n",
       "<text text-anchor=\"start\" x=\"131.5\" y=\"-788\" font-family=\"Linux libertine\" font-size=\"10.00\">depth:0</text>\n",
       "<polygon fill=\"none\" stroke=\"black\" points=\"187,-780 187,-812 224,-812 224,-780 187,-780\"/>\n",
       "<text text-anchor=\"start\" x=\"192\" y=\"-793.5\" font-family=\"Linux libertine\" font-size=\"10.00\">(43,)</text>\n",
       "</g>\n",
       "<!-- 1 -->\n",
       "<g id=\"node2\" class=\"node\">\n",
       "<title>1</title>\n",
       "<polygon fill=\"#c1ffc1\" stroke=\"transparent\" points=\"241.5,-743 94.5,-743 94.5,-701 241.5,-701 241.5,-743\"/>\n",
       "<polygon fill=\"none\" stroke=\"black\" points=\"95,-701 95,-743 142,-743 142,-701 95,-701\"/>\n",
       "<text text-anchor=\"start\" x=\"102.5\" y=\"-725\" font-family=\"Linux libertine\" font-size=\"10.00\">Linear</text>\n",
       "<text text-anchor=\"start\" x=\"100\" y=\"-714\" font-family=\"Linux libertine\" font-size=\"10.00\">depth:2</text>\n",
       "<polygon fill=\"none\" stroke=\"black\" points=\"142,-722 142,-743 195,-743 195,-722 142,-722\"/>\n",
       "<text text-anchor=\"start\" x=\"152.5\" y=\"-730\" font-family=\"Linux libertine\" font-size=\"10.00\">input:</text>\n",
       "<polygon fill=\"none\" stroke=\"black\" points=\"195,-722 195,-743 242,-743 242,-722 195,-722\"/>\n",
       "<text text-anchor=\"start\" x=\"202.5\" y=\"-730\" font-family=\"Linux libertine\" font-size=\"10.00\">(43,) </text>\n",
       "<polygon fill=\"none\" stroke=\"black\" points=\"142,-701 142,-722 195,-722 195,-701 142,-701\"/>\n",
       "<text text-anchor=\"start\" x=\"147\" y=\"-709\" font-family=\"Linux libertine\" font-size=\"10.00\">output: </text>\n",
       "<polygon fill=\"none\" stroke=\"black\" points=\"195,-701 195,-722 242,-722 242,-701 195,-701\"/>\n",
       "<text text-anchor=\"start\" x=\"200\" y=\"-709\" font-family=\"Linux libertine\" font-size=\"10.00\">(128,) </text>\n",
       "</g>\n",
       "<!-- 0&#45;&gt;1 -->\n",
       "<g id=\"edge1\" class=\"edge\">\n",
       "<title>0&#45;&gt;1</title>\n",
       "<path fill=\"none\" stroke=\"black\" d=\"M168,-779.73C168,-772.08 168,-762.52 168,-753.45\"/>\n",
       "<polygon fill=\"black\" stroke=\"black\" points=\"171.5,-753.17 168,-743.17 164.5,-753.17 171.5,-753.17\"/>\n",
       "</g>\n",
       "<!-- 2 -->\n",
       "<g id=\"node3\" class=\"node\">\n",
       "<title>2</title>\n",
       "<polygon fill=\"#c1ffc1\" stroke=\"transparent\" points=\"241.5,-665 94.5,-665 94.5,-623 241.5,-623 241.5,-665\"/>\n",
       "<polygon fill=\"none\" stroke=\"black\" points=\"95,-623 95,-665 142,-665 142,-623 95,-623\"/>\n",
       "<text text-anchor=\"start\" x=\"100\" y=\"-647\" font-family=\"Linux libertine\" font-size=\"10.00\">Dropout</text>\n",
       "<text text-anchor=\"start\" x=\"100\" y=\"-636\" font-family=\"Linux libertine\" font-size=\"10.00\">depth:2</text>\n",
       "<polygon fill=\"none\" stroke=\"black\" points=\"142,-644 142,-665 195,-665 195,-644 142,-644\"/>\n",
       "<text text-anchor=\"start\" x=\"152.5\" y=\"-652\" font-family=\"Linux libertine\" font-size=\"10.00\">input:</text>\n",
       "<polygon fill=\"none\" stroke=\"black\" points=\"195,-644 195,-665 242,-665 242,-644 195,-644\"/>\n",
       "<text text-anchor=\"start\" x=\"200\" y=\"-652\" font-family=\"Linux libertine\" font-size=\"10.00\">(128,) </text>\n",
       "<polygon fill=\"none\" stroke=\"black\" points=\"142,-623 142,-644 195,-644 195,-623 142,-623\"/>\n",
       "<text text-anchor=\"start\" x=\"147\" y=\"-631\" font-family=\"Linux libertine\" font-size=\"10.00\">output: </text>\n",
       "<polygon fill=\"none\" stroke=\"black\" points=\"195,-623 195,-644 242,-644 242,-623 195,-623\"/>\n",
       "<text text-anchor=\"start\" x=\"200\" y=\"-631\" font-family=\"Linux libertine\" font-size=\"10.00\">(128,) </text>\n",
       "</g>\n",
       "<!-- 1&#45;&gt;2 -->\n",
       "<g id=\"edge2\" class=\"edge\">\n",
       "<title>1&#45;&gt;2</title>\n",
       "<path fill=\"none\" stroke=\"black\" d=\"M168,-700.63C168,-692.82 168,-683.73 168,-675.18\"/>\n",
       "<polygon fill=\"black\" stroke=\"black\" points=\"171.5,-675.16 168,-665.16 164.5,-675.16 171.5,-675.16\"/>\n",
       "</g>\n",
       "<!-- 3 -->\n",
       "<g id=\"node4\" class=\"node\">\n",
       "<title>3</title>\n",
       "<polygon fill=\"#c1ffc1\" stroke=\"transparent\" points=\"247,-587 89,-587 89,-545 247,-545 247,-587\"/>\n",
       "<polygon fill=\"none\" stroke=\"black\" points=\"89,-545 89,-587 147,-587 147,-545 89,-545\"/>\n",
       "<text text-anchor=\"start\" x=\"94\" y=\"-569\" font-family=\"Linux libertine\" font-size=\"10.00\">LeakyReLU</text>\n",
       "<text text-anchor=\"start\" x=\"99.5\" y=\"-558\" font-family=\"Linux libertine\" font-size=\"10.00\">depth:2</text>\n",
       "<polygon fill=\"none\" stroke=\"black\" points=\"147,-566 147,-587 200,-587 200,-566 147,-566\"/>\n",
       "<text text-anchor=\"start\" x=\"157.5\" y=\"-574\" font-family=\"Linux libertine\" font-size=\"10.00\">input:</text>\n",
       "<polygon fill=\"none\" stroke=\"black\" points=\"200,-566 200,-587 247,-587 247,-566 200,-566\"/>\n",
       "<text text-anchor=\"start\" x=\"205\" y=\"-574\" font-family=\"Linux libertine\" font-size=\"10.00\">(128,) </text>\n",
       "<polygon fill=\"none\" stroke=\"black\" points=\"147,-545 147,-566 200,-566 200,-545 147,-545\"/>\n",
       "<text text-anchor=\"start\" x=\"152\" y=\"-553\" font-family=\"Linux libertine\" font-size=\"10.00\">output: </text>\n",
       "<polygon fill=\"none\" stroke=\"black\" points=\"200,-545 200,-566 247,-566 247,-545 200,-545\"/>\n",
       "<text text-anchor=\"start\" x=\"205\" y=\"-553\" font-family=\"Linux libertine\" font-size=\"10.00\">(128,) </text>\n",
       "</g>\n",
       "<!-- 2&#45;&gt;3 -->\n",
       "<g id=\"edge3\" class=\"edge\">\n",
       "<title>2&#45;&gt;3</title>\n",
       "<path fill=\"none\" stroke=\"black\" d=\"M168,-622.63C168,-614.82 168,-605.73 168,-597.18\"/>\n",
       "<polygon fill=\"black\" stroke=\"black\" points=\"171.5,-597.16 168,-587.16 164.5,-597.16 171.5,-597.16\"/>\n",
       "</g>\n",
       "<!-- 4 -->\n",
       "<g id=\"node5\" class=\"node\">\n",
       "<title>4</title>\n",
       "<polygon fill=\"#c1ffc1\" stroke=\"transparent\" points=\"241.5,-509 94.5,-509 94.5,-467 241.5,-467 241.5,-509\"/>\n",
       "<polygon fill=\"none\" stroke=\"black\" points=\"95,-467 95,-509 142,-509 142,-467 95,-467\"/>\n",
       "<text text-anchor=\"start\" x=\"102.5\" y=\"-491\" font-family=\"Linux libertine\" font-size=\"10.00\">Linear</text>\n",
       "<text text-anchor=\"start\" x=\"100\" y=\"-480\" font-family=\"Linux libertine\" font-size=\"10.00\">depth:2</text>\n",
       "<polygon fill=\"none\" stroke=\"black\" points=\"142,-488 142,-509 195,-509 195,-488 142,-488\"/>\n",
       "<text text-anchor=\"start\" x=\"152.5\" y=\"-496\" font-family=\"Linux libertine\" font-size=\"10.00\">input:</text>\n",
       "<polygon fill=\"none\" stroke=\"black\" points=\"195,-488 195,-509 242,-509 242,-488 195,-488\"/>\n",
       "<text text-anchor=\"start\" x=\"200\" y=\"-496\" font-family=\"Linux libertine\" font-size=\"10.00\">(128,) </text>\n",
       "<polygon fill=\"none\" stroke=\"black\" points=\"142,-467 142,-488 195,-488 195,-467 142,-467\"/>\n",
       "<text text-anchor=\"start\" x=\"147\" y=\"-475\" font-family=\"Linux libertine\" font-size=\"10.00\">output: </text>\n",
       "<polygon fill=\"none\" stroke=\"black\" points=\"195,-467 195,-488 242,-488 242,-467 195,-467\"/>\n",
       "<text text-anchor=\"start\" x=\"200\" y=\"-475\" font-family=\"Linux libertine\" font-size=\"10.00\">(128,) </text>\n",
       "</g>\n",
       "<!-- 3&#45;&gt;4 -->\n",
       "<g id=\"edge4\" class=\"edge\">\n",
       "<title>3&#45;&gt;4</title>\n",
       "<path fill=\"none\" stroke=\"black\" d=\"M168,-544.63C168,-536.82 168,-527.73 168,-519.18\"/>\n",
       "<polygon fill=\"black\" stroke=\"black\" points=\"171.5,-519.16 168,-509.16 164.5,-519.16 171.5,-519.16\"/>\n",
       "</g>\n",
       "<!-- 5 -->\n",
       "<g id=\"node6\" class=\"node\">\n",
       "<title>5</title>\n",
       "<polygon fill=\"#c1ffc1\" stroke=\"transparent\" points=\"241.5,-431 94.5,-431 94.5,-389 241.5,-389 241.5,-431\"/>\n",
       "<polygon fill=\"none\" stroke=\"black\" points=\"95,-389 95,-431 142,-431 142,-389 95,-389\"/>\n",
       "<text text-anchor=\"start\" x=\"100\" y=\"-413\" font-family=\"Linux libertine\" font-size=\"10.00\">Dropout</text>\n",
       "<text text-anchor=\"start\" x=\"100\" y=\"-402\" font-family=\"Linux libertine\" font-size=\"10.00\">depth:2</text>\n",
       "<polygon fill=\"none\" stroke=\"black\" points=\"142,-410 142,-431 195,-431 195,-410 142,-410\"/>\n",
       "<text text-anchor=\"start\" x=\"152.5\" y=\"-418\" font-family=\"Linux libertine\" font-size=\"10.00\">input:</text>\n",
       "<polygon fill=\"none\" stroke=\"black\" points=\"195,-410 195,-431 242,-431 242,-410 195,-410\"/>\n",
       "<text text-anchor=\"start\" x=\"200\" y=\"-418\" font-family=\"Linux libertine\" font-size=\"10.00\">(128,) </text>\n",
       "<polygon fill=\"none\" stroke=\"black\" points=\"142,-389 142,-410 195,-410 195,-389 142,-389\"/>\n",
       "<text text-anchor=\"start\" x=\"147\" y=\"-397\" font-family=\"Linux libertine\" font-size=\"10.00\">output: </text>\n",
       "<polygon fill=\"none\" stroke=\"black\" points=\"195,-389 195,-410 242,-410 242,-389 195,-389\"/>\n",
       "<text text-anchor=\"start\" x=\"200\" y=\"-397\" font-family=\"Linux libertine\" font-size=\"10.00\">(128,) </text>\n",
       "</g>\n",
       "<!-- 4&#45;&gt;5 -->\n",
       "<g id=\"edge5\" class=\"edge\">\n",
       "<title>4&#45;&gt;5</title>\n",
       "<path fill=\"none\" stroke=\"black\" d=\"M168,-466.63C168,-458.82 168,-449.73 168,-441.18\"/>\n",
       "<polygon fill=\"black\" stroke=\"black\" points=\"171.5,-441.16 168,-431.16 164.5,-441.16 171.5,-441.16\"/>\n",
       "</g>\n",
       "<!-- 6 -->\n",
       "<g id=\"node7\" class=\"node\">\n",
       "<title>6</title>\n",
       "<polygon fill=\"#c1ffc1\" stroke=\"transparent\" points=\"241.5,-353 94.5,-353 94.5,-311 241.5,-311 241.5,-353\"/>\n",
       "<polygon fill=\"none\" stroke=\"black\" points=\"95,-311 95,-353 142,-353 142,-311 95,-311\"/>\n",
       "<text text-anchor=\"start\" x=\"107.5\" y=\"-335\" font-family=\"Linux libertine\" font-size=\"10.00\">GELU</text>\n",
       "<text text-anchor=\"start\" x=\"100\" y=\"-324\" font-family=\"Linux libertine\" font-size=\"10.00\">depth:2</text>\n",
       "<polygon fill=\"none\" stroke=\"black\" points=\"142,-332 142,-353 195,-353 195,-332 142,-332\"/>\n",
       "<text text-anchor=\"start\" x=\"152.5\" y=\"-340\" font-family=\"Linux libertine\" font-size=\"10.00\">input:</text>\n",
       "<polygon fill=\"none\" stroke=\"black\" points=\"195,-332 195,-353 242,-353 242,-332 195,-332\"/>\n",
       "<text text-anchor=\"start\" x=\"200\" y=\"-340\" font-family=\"Linux libertine\" font-size=\"10.00\">(128,) </text>\n",
       "<polygon fill=\"none\" stroke=\"black\" points=\"142,-311 142,-332 195,-332 195,-311 142,-311\"/>\n",
       "<text text-anchor=\"start\" x=\"147\" y=\"-319\" font-family=\"Linux libertine\" font-size=\"10.00\">output: </text>\n",
       "<polygon fill=\"none\" stroke=\"black\" points=\"195,-311 195,-332 242,-332 242,-311 195,-311\"/>\n",
       "<text text-anchor=\"start\" x=\"200\" y=\"-319\" font-family=\"Linux libertine\" font-size=\"10.00\">(128,) </text>\n",
       "</g>\n",
       "<!-- 5&#45;&gt;6 -->\n",
       "<g id=\"edge6\" class=\"edge\">\n",
       "<title>5&#45;&gt;6</title>\n",
       "<path fill=\"none\" stroke=\"black\" d=\"M168,-388.63C168,-380.82 168,-371.73 168,-363.18\"/>\n",
       "<polygon fill=\"black\" stroke=\"black\" points=\"171.5,-363.16 168,-353.16 164.5,-363.16 171.5,-363.16\"/>\n",
       "</g>\n",
       "<!-- 7 -->\n",
       "<g id=\"node8\" class=\"node\">\n",
       "<title>7</title>\n",
       "<polygon fill=\"#c1ffc1\" stroke=\"transparent\" points=\"241.5,-275 94.5,-275 94.5,-233 241.5,-233 241.5,-275\"/>\n",
       "<polygon fill=\"none\" stroke=\"black\" points=\"95,-233 95,-275 142,-275 142,-233 95,-233\"/>\n",
       "<text text-anchor=\"start\" x=\"102.5\" y=\"-257\" font-family=\"Linux libertine\" font-size=\"10.00\">Linear</text>\n",
       "<text text-anchor=\"start\" x=\"100\" y=\"-246\" font-family=\"Linux libertine\" font-size=\"10.00\">depth:2</text>\n",
       "<polygon fill=\"none\" stroke=\"black\" points=\"142,-254 142,-275 195,-275 195,-254 142,-254\"/>\n",
       "<text text-anchor=\"start\" x=\"152.5\" y=\"-262\" font-family=\"Linux libertine\" font-size=\"10.00\">input:</text>\n",
       "<polygon fill=\"none\" stroke=\"black\" points=\"195,-254 195,-275 242,-275 242,-254 195,-254\"/>\n",
       "<text text-anchor=\"start\" x=\"200\" y=\"-262\" font-family=\"Linux libertine\" font-size=\"10.00\">(128,) </text>\n",
       "<polygon fill=\"none\" stroke=\"black\" points=\"142,-233 142,-254 195,-254 195,-233 142,-233\"/>\n",
       "<text text-anchor=\"start\" x=\"147\" y=\"-241\" font-family=\"Linux libertine\" font-size=\"10.00\">output: </text>\n",
       "<polygon fill=\"none\" stroke=\"black\" points=\"195,-233 195,-254 242,-254 242,-233 195,-233\"/>\n",
       "<text text-anchor=\"start\" x=\"202.5\" y=\"-241\" font-family=\"Linux libertine\" font-size=\"10.00\">(64,) </text>\n",
       "</g>\n",
       "<!-- 6&#45;&gt;7 -->\n",
       "<g id=\"edge7\" class=\"edge\">\n",
       "<title>6&#45;&gt;7</title>\n",
       "<path fill=\"none\" stroke=\"black\" d=\"M168,-310.63C168,-302.82 168,-293.73 168,-285.18\"/>\n",
       "<polygon fill=\"black\" stroke=\"black\" points=\"171.5,-285.16 168,-275.16 164.5,-285.16 171.5,-285.16\"/>\n",
       "</g>\n",
       "<!-- 8 -->\n",
       "<g id=\"node9\" class=\"node\">\n",
       "<title>8</title>\n",
       "<polygon fill=\"#c1ffc1\" stroke=\"transparent\" points=\"324,-188 182,-188 182,-146 324,-146 324,-188\"/>\n",
       "<polygon fill=\"none\" stroke=\"black\" points=\"182,-146 182,-188 229,-188 229,-146 182,-146\"/>\n",
       "<text text-anchor=\"start\" x=\"189.5\" y=\"-170\" font-family=\"Linux libertine\" font-size=\"10.00\">Linear</text>\n",
       "<text text-anchor=\"start\" x=\"187\" y=\"-159\" font-family=\"Linux libertine\" font-size=\"10.00\">depth:2</text>\n",
       "<polygon fill=\"none\" stroke=\"black\" points=\"229,-167 229,-188 282,-188 282,-167 229,-167\"/>\n",
       "<text text-anchor=\"start\" x=\"239.5\" y=\"-175\" font-family=\"Linux libertine\" font-size=\"10.00\">input:</text>\n",
       "<polygon fill=\"none\" stroke=\"black\" points=\"282,-167 282,-188 324,-188 324,-167 282,-167\"/>\n",
       "<text text-anchor=\"start\" x=\"287\" y=\"-175\" font-family=\"Linux libertine\" font-size=\"10.00\">(64,) </text>\n",
       "<polygon fill=\"none\" stroke=\"black\" points=\"229,-146 229,-167 282,-167 282,-146 229,-146\"/>\n",
       "<text text-anchor=\"start\" x=\"234\" y=\"-154\" font-family=\"Linux libertine\" font-size=\"10.00\">output: </text>\n",
       "<polygon fill=\"none\" stroke=\"black\" points=\"282,-146 282,-167 324,-167 324,-146 282,-146\"/>\n",
       "<text text-anchor=\"start\" x=\"289.5\" y=\"-154\" font-family=\"Linux libertine\" font-size=\"10.00\">(1,) </text>\n",
       "</g>\n",
       "<!-- 7&#45;&gt;8 -->\n",
       "<g id=\"edge8\" class=\"edge\">\n",
       "<title>7&#45;&gt;8</title>\n",
       "<path fill=\"none\" stroke=\"black\" d=\"M188.14,-232.86C199.28,-221.72 213.29,-207.71 225.43,-195.57\"/>\n",
       "<polygon fill=\"black\" stroke=\"black\" points=\"228.11,-197.84 232.71,-188.29 223.16,-192.89 228.11,-197.84\"/>\n",
       "</g>\n",
       "<!-- 9 -->\n",
       "<g id=\"node10\" class=\"node\">\n",
       "<title>9</title>\n",
       "<polygon fill=\"#c1ffc1\" stroke=\"transparent\" points=\"158,-188 16,-188 16,-146 158,-146 158,-188\"/>\n",
       "<polygon fill=\"none\" stroke=\"black\" points=\"16,-146 16,-188 63,-188 63,-146 16,-146\"/>\n",
       "<text text-anchor=\"start\" x=\"23.5\" y=\"-170\" font-family=\"Linux libertine\" font-size=\"10.00\">Linear</text>\n",
       "<text text-anchor=\"start\" x=\"21\" y=\"-159\" font-family=\"Linux libertine\" font-size=\"10.00\">depth:2</text>\n",
       "<polygon fill=\"none\" stroke=\"black\" points=\"63,-167 63,-188 116,-188 116,-167 63,-167\"/>\n",
       "<text text-anchor=\"start\" x=\"73.5\" y=\"-175\" font-family=\"Linux libertine\" font-size=\"10.00\">input:</text>\n",
       "<polygon fill=\"none\" stroke=\"black\" points=\"116,-167 116,-188 158,-188 158,-167 116,-167\"/>\n",
       "<text text-anchor=\"start\" x=\"121\" y=\"-175\" font-family=\"Linux libertine\" font-size=\"10.00\">(64,) </text>\n",
       "<polygon fill=\"none\" stroke=\"black\" points=\"63,-146 63,-167 116,-167 116,-146 63,-146\"/>\n",
       "<text text-anchor=\"start\" x=\"68\" y=\"-154\" font-family=\"Linux libertine\" font-size=\"10.00\">output: </text>\n",
       "<polygon fill=\"none\" stroke=\"black\" points=\"116,-146 116,-167 158,-167 158,-146 116,-146\"/>\n",
       "<text text-anchor=\"start\" x=\"123.5\" y=\"-154\" font-family=\"Linux libertine\" font-size=\"10.00\">(9,) </text>\n",
       "</g>\n",
       "<!-- 7&#45;&gt;9 -->\n",
       "<g id=\"edge10\" class=\"edge\">\n",
       "<title>7&#45;&gt;9</title>\n",
       "<path fill=\"none\" stroke=\"black\" d=\"M148.8,-232.86C138.19,-221.72 124.84,-207.71 113.27,-195.57\"/>\n",
       "<polygon fill=\"black\" stroke=\"black\" points=\"115.77,-193.12 106.34,-188.29 110.7,-197.95 115.77,-193.12\"/>\n",
       "</g>\n",
       "<!-- 11 -->\n",
       "<g id=\"node12\" class=\"node\">\n",
       "<title>11</title>\n",
       "<polygon fill=\"aliceblue\" stroke=\"transparent\" points=\"321.5,-110 184.5,-110 184.5,-68 321.5,-68 321.5,-110\"/>\n",
       "<polygon fill=\"none\" stroke=\"black\" points=\"185,-68 185,-110 232,-110 232,-68 185,-68\"/>\n",
       "<text text-anchor=\"start\" x=\"197.5\" y=\"-92\" font-family=\"Linux libertine\" font-size=\"10.00\">view</text>\n",
       "<text text-anchor=\"start\" x=\"190\" y=\"-81\" font-family=\"Linux libertine\" font-size=\"10.00\">depth:1</text>\n",
       "<polygon fill=\"none\" stroke=\"black\" points=\"232,-89 232,-110 285,-110 285,-89 232,-89\"/>\n",
       "<text text-anchor=\"start\" x=\"242.5\" y=\"-97\" font-family=\"Linux libertine\" font-size=\"10.00\">input:</text>\n",
       "<polygon fill=\"none\" stroke=\"black\" points=\"285,-89 285,-110 322,-110 322,-89 285,-89\"/>\n",
       "<text text-anchor=\"start\" x=\"290\" y=\"-97\" font-family=\"Linux libertine\" font-size=\"10.00\">(1,) </text>\n",
       "<polygon fill=\"none\" stroke=\"black\" points=\"232,-68 232,-89 285,-89 285,-68 232,-68\"/>\n",
       "<text text-anchor=\"start\" x=\"237\" y=\"-76\" font-family=\"Linux libertine\" font-size=\"10.00\">output: </text>\n",
       "<polygon fill=\"none\" stroke=\"black\" points=\"285,-68 285,-89 322,-89 322,-68 285,-68\"/>\n",
       "<text text-anchor=\"start\" x=\"290\" y=\"-76\" font-family=\"Linux libertine\" font-size=\"10.00\">(1,) </text>\n",
       "</g>\n",
       "<!-- 8&#45;&gt;11 -->\n",
       "<g id=\"edge9\" class=\"edge\">\n",
       "<title>8&#45;&gt;11</title>\n",
       "<path fill=\"none\" stroke=\"black\" d=\"M253,-145.63C253,-137.82 253,-128.73 253,-120.18\"/>\n",
       "<polygon fill=\"black\" stroke=\"black\" points=\"256.5,-120.16 253,-110.16 249.5,-120.16 256.5,-120.16\"/>\n",
       "</g>\n",
       "<!-- 10 -->\n",
       "<g id=\"node11\" class=\"node\">\n",
       "<title>10</title>\n",
       "<polygon fill=\"lightyellow\" stroke=\"transparent\" points=\"142.5,-105 31.5,-105 31.5,-73 142.5,-73 142.5,-105\"/>\n",
       "<polygon fill=\"none\" stroke=\"black\" points=\"32,-73 32,-105 111,-105 111,-73 32,-73\"/>\n",
       "<text text-anchor=\"start\" x=\"37\" y=\"-92\" font-family=\"Linux libertine\" font-size=\"10.00\">output&#45;tensor</text>\n",
       "<text text-anchor=\"start\" x=\"53\" y=\"-81\" font-family=\"Linux libertine\" font-size=\"10.00\">depth:0</text>\n",
       "<polygon fill=\"none\" stroke=\"black\" points=\"111,-73 111,-105 143,-105 143,-73 111,-73\"/>\n",
       "<text text-anchor=\"start\" x=\"116\" y=\"-86.5\" font-family=\"Linux libertine\" font-size=\"10.00\">(9,)</text>\n",
       "</g>\n",
       "<!-- 9&#45;&gt;10 -->\n",
       "<g id=\"edge11\" class=\"edge\">\n",
       "<title>9&#45;&gt;10</title>\n",
       "<path fill=\"none\" stroke=\"black\" d=\"M87,-145.63C87,-136.33 87,-125.22 87,-115.39\"/>\n",
       "<polygon fill=\"black\" stroke=\"black\" points=\"90.5,-115.36 87,-105.36 83.5,-115.36 90.5,-115.36\"/>\n",
       "</g>\n",
       "<!-- 12 -->\n",
       "<g id=\"node13\" class=\"node\">\n",
       "<title>12</title>\n",
       "<polygon fill=\"lightyellow\" stroke=\"transparent\" points=\"308.5,-32 197.5,-32 197.5,0 308.5,0 308.5,-32\"/>\n",
       "<polygon fill=\"none\" stroke=\"black\" points=\"198,0 198,-32 277,-32 277,0 198,0\"/>\n",
       "<text text-anchor=\"start\" x=\"203\" y=\"-19\" font-family=\"Linux libertine\" font-size=\"10.00\">output&#45;tensor</text>\n",
       "<text text-anchor=\"start\" x=\"219\" y=\"-8\" font-family=\"Linux libertine\" font-size=\"10.00\">depth:0</text>\n",
       "<polygon fill=\"none\" stroke=\"black\" points=\"277,0 277,-32 309,-32 309,0 277,0\"/>\n",
       "<text text-anchor=\"start\" x=\"282\" y=\"-13.5\" font-family=\"Linux libertine\" font-size=\"10.00\">(1,)</text>\n",
       "</g>\n",
       "<!-- 11&#45;&gt;12 -->\n",
       "<g id=\"edge12\" class=\"edge\">\n",
       "<title>11&#45;&gt;12</title>\n",
       "<path fill=\"none\" stroke=\"black\" d=\"M253,-67.84C253,-59.89 253,-50.66 253,-42.26\"/>\n",
       "<polygon fill=\"black\" stroke=\"black\" points=\"256.5,-42.24 253,-32.24 249.5,-42.24 256.5,-42.24\"/>\n",
       "</g>\n",
       "</g>\n",
       "</svg>\n"
      ],
      "text/plain": [
       "<graphviz.graphs.Digraph at 0x7fd90e936da0>"
      ]
     },
     "execution_count": 31,
     "metadata": {},
     "output_type": "execute_result"
    }
   ],
   "source": [
    "# Посмотрим какая модель у нас получилась\n",
    "from torchview import draw_graph\n",
    "\n",
    "model_graph = draw_graph(model, input_size=[cfg.num_features], expand_nested=True)\n",
    "model_graph.visual_graph"
   ]
  },
  {
   "cell_type": "markdown",
   "metadata": {},
   "source": [
    "<div class=\"alert alert-info\">\n",
    "    \n",
    "Воспользуемся тренером, который обучал нашу модель раньше - он отлично справился со своей задачей!"
   ]
  },
  {
   "cell_type": "code",
   "execution_count": 32,
   "metadata": {},
   "outputs": [
    {
     "name": "stderr",
     "output_type": "stream",
     "text": [
      "GPU available: True (cuda), used: True\n",
      "TPU available: False, using: 0 TPU cores\n",
      "HPU available: False, using: 0 HPUs\n"
     ]
    }
   ],
   "source": [
    "trainer = Trainer(\n",
    "    accelerator='gpu',\n",
    "    devices=cfg.device_count,\n",
    "    max_epochs=cfg.epochs, # Устанавливаем кол-во эпох\n",
    "    log_every_n_steps=10, # Как часто логируем метрики\n",
    "    check_val_every_n_epoch=2, # Запускаем проверку val-части каждые 2 эпохи\n",
    "\n",
    "    callbacks=[\n",
    "        EarlyStopping( # Подключаем EarlyStopping\n",
    "            monitor='valid/loss', # Какую метрику отлавливаем\n",
    "            patience=3, # Сколько эпох валидации внимательно наблюдаем\n",
    "            verbose=True, # Вывод как улучшается ил ухудшается метрика\n",
    "        ),\n",
    "        ModelCheckpoint( # Сохранение нескольких весов модели\n",
    "            monitor='valid/loss',\n",
    "            dirpath=f\"../models/{cfg.model_name}\", # Сохранение модели\n",
    "            enable_version_counter=True, # Не затираем старые веса!\n",
    "            # auto_insert_metric_name=True, # Сохраняем метрики в названии модели\n",
    "            save_top_k=3 # Сохраняем 3 лучших модели\n",
    "        ),\n",
    "    ],\n",
    "    val_check_interval=0.2 # Запускать valid проверку каждые 0.2*epochs\n",
    ")"
   ]
  },
  {
   "cell_type": "code",
   "execution_count": 33,
   "metadata": {},
   "outputs": [
    {
     "name": "stderr",
     "output_type": "stream",
     "text": [
      "/app/storage_local/Course/ml_instruments/.venv/lib/python3.10/site-packages/lightning/pytorch/callbacks/model_checkpoint.py:654: Checkpoint directory /app/storage_local/Course/ml_instruments/models/Lightning ⚡️ Improved exists and is not empty.\n",
      "LOCAL_RANK: 0 - CUDA_VISIBLE_DEVICES: [0,1]\n",
      "\n",
      "  | Name                     | Type                | Params | Mode \n",
      "-------------------------------------------------------------------------\n",
      "0 | mlp                      | Sequential          | 30.4 K | train\n",
      "1 | regressor                | Sequential          | 65     | train\n",
      "2 | classifier               | Sequential          | 585    | train\n",
      "3 | regression_criterion     | MSELoss             | 0      | train\n",
      "4 | classification_criterion | CrossEntropyLoss    | 0      | train\n",
      "5 | train_metric_reg         | MeanAbsoluteError   | 0      | train\n",
      "6 | train_metric_cls         | MulticlassHingeLoss | 0      | train\n",
      "7 | valid_metric_reg         | MeanAbsoluteError   | 0      | train\n",
      "8 | valid_metric_cls         | MulticlassHingeLoss | 0      | train\n",
      "-------------------------------------------------------------------------\n",
      "31.1 K    Trainable params\n",
      "0         Non-trainable params\n",
      "31.1 K    Total params\n",
      "0.124     Total estimated model params size (MB)\n",
      "18        Modules in train mode\n",
      "0         Modules in eval mode\n"
     ]
    },
    {
     "data": {
      "application/vnd.jupyter.widget-view+json": {
       "model_id": "5b76e40a9e7a4e47b9592971c8ad6cf3",
       "version_major": 2,
       "version_minor": 0
      },
      "text/plain": [
       "Sanity Checking: |                                                                                            …"
      ]
     },
     "metadata": {},
     "output_type": "display_data"
    },
    {
     "data": {
      "application/vnd.jupyter.widget-view+json": {
       "model_id": "0f2e75680c004c7a8397f56de71f3704",
       "version_major": 2,
       "version_minor": 0
      },
      "text/plain": [
       "Training: |                                                                                                   …"
      ]
     },
     "metadata": {},
     "output_type": "display_data"
    },
    {
     "name": "stderr",
     "output_type": "stream",
     "text": [
      "/app/storage_local/Course/ml_instruments/.venv/lib/python3.10/site-packages/torch/optim/lr_scheduler.py:240: UserWarning: The epoch parameter in `scheduler.step()` was not necessary and is being deprecated where possible. Please use `scheduler.step()` to step the scheduler. During the deprecation, if epoch is different from None, the closed form is used instead of the new chainable form, where available. Please open an issue if you are unable to replicate your use case: https://github.com/pytorch/pytorch/issues/new/choose.\n",
      "  warnings.warn(EPOCH_DEPRECATION_WARNING, UserWarning)\n"
     ]
    },
    {
     "data": {
      "application/vnd.jupyter.widget-view+json": {
       "model_id": "923a3f7ce72f42e89a265c443fc9b154",
       "version_major": 2,
       "version_minor": 0
      },
      "text/plain": [
       "Validation: |                                                                                                 …"
      ]
     },
     "metadata": {},
     "output_type": "display_data"
    },
    {
     "name": "stderr",
     "output_type": "stream",
     "text": [
      "Metric valid/loss improved. New best score: 1.579\n"
     ]
    },
    {
     "data": {
      "application/vnd.jupyter.widget-view+json": {
       "model_id": "9136d12289f44c6cbe140c8beaac50a7",
       "version_major": 2,
       "version_minor": 0
      },
      "text/plain": [
       "Validation: |                                                                                                 …"
      ]
     },
     "metadata": {},
     "output_type": "display_data"
    },
    {
     "name": "stderr",
     "output_type": "stream",
     "text": [
      "Metric valid/loss improved by 0.007 >= min_delta = 0.0. New best score: 1.572\n"
     ]
    },
    {
     "data": {
      "application/vnd.jupyter.widget-view+json": {
       "model_id": "d68354535040477ba2dbaf7b7b374f6a",
       "version_major": 2,
       "version_minor": 0
      },
      "text/plain": [
       "Validation: |                                                                                                 …"
      ]
     },
     "metadata": {},
     "output_type": "display_data"
    },
    {
     "name": "stderr",
     "output_type": "stream",
     "text": [
      "Metric valid/loss improved by 0.006 >= min_delta = 0.0. New best score: 1.566\n"
     ]
    },
    {
     "data": {
      "application/vnd.jupyter.widget-view+json": {
       "model_id": "2054cfc9bb094a48909a8eb67309cd4c",
       "version_major": 2,
       "version_minor": 0
      },
      "text/plain": [
       "Validation: |                                                                                                 …"
      ]
     },
     "metadata": {},
     "output_type": "display_data"
    },
    {
     "name": "stderr",
     "output_type": "stream",
     "text": [
      "Metric valid/loss improved by 0.008 >= min_delta = 0.0. New best score: 1.558\n"
     ]
    },
    {
     "data": {
      "application/vnd.jupyter.widget-view+json": {
       "model_id": "917b43105f7b414aab3f54812804645a",
       "version_major": 2,
       "version_minor": 0
      },
      "text/plain": [
       "Validation: |                                                                                                 …"
      ]
     },
     "metadata": {},
     "output_type": "display_data"
    },
    {
     "name": "stderr",
     "output_type": "stream",
     "text": [
      "Metric valid/loss improved by 0.008 >= min_delta = 0.0. New best score: 1.549\n"
     ]
    },
    {
     "data": {
      "application/vnd.jupyter.widget-view+json": {
       "model_id": "e9c66d4370ca4c0f875d4b54a4d13cd9",
       "version_major": 2,
       "version_minor": 0
      },
      "text/plain": [
       "Validation: |                                                                                                 …"
      ]
     },
     "metadata": {},
     "output_type": "display_data"
    },
    {
     "name": "stderr",
     "output_type": "stream",
     "text": [
      "Metric valid/loss improved by 0.034 >= min_delta = 0.0. New best score: 1.515\n"
     ]
    },
    {
     "data": {
      "application/vnd.jupyter.widget-view+json": {
       "model_id": "c744334e041d4c0a9bde9eea0ed00a4e",
       "version_major": 2,
       "version_minor": 0
      },
      "text/plain": [
       "Validation: |                                                                                                 …"
      ]
     },
     "metadata": {},
     "output_type": "display_data"
    },
    {
     "name": "stderr",
     "output_type": "stream",
     "text": [
      "Metric valid/loss improved by 0.005 >= min_delta = 0.0. New best score: 1.510\n"
     ]
    },
    {
     "data": {
      "application/vnd.jupyter.widget-view+json": {
       "model_id": "d45b9581ba7440a5b70fb00b20888481",
       "version_major": 2,
       "version_minor": 0
      },
      "text/plain": [
       "Validation: |                                                                                                 …"
      ]
     },
     "metadata": {},
     "output_type": "display_data"
    },
    {
     "name": "stderr",
     "output_type": "stream",
     "text": [
      "Metric valid/loss improved by 0.004 >= min_delta = 0.0. New best score: 1.506\n"
     ]
    },
    {
     "data": {
      "application/vnd.jupyter.widget-view+json": {
       "model_id": "f993849c4d564a2c9e30802c93c0bb68",
       "version_major": 2,
       "version_minor": 0
      },
      "text/plain": [
       "Validation: |                                                                                                 …"
      ]
     },
     "metadata": {},
     "output_type": "display_data"
    },
    {
     "name": "stderr",
     "output_type": "stream",
     "text": [
      "Metric valid/loss improved by 0.003 >= min_delta = 0.0. New best score: 1.503\n"
     ]
    },
    {
     "data": {
      "application/vnd.jupyter.widget-view+json": {
       "model_id": "1e887bf8048f49628e196d2d5a3247ec",
       "version_major": 2,
       "version_minor": 0
      },
      "text/plain": [
       "Validation: |                                                                                                 …"
      ]
     },
     "metadata": {},
     "output_type": "display_data"
    },
    {
     "name": "stderr",
     "output_type": "stream",
     "text": [
      "Metric valid/loss improved by 0.003 >= min_delta = 0.0. New best score: 1.501\n"
     ]
    },
    {
     "data": {
      "application/vnd.jupyter.widget-view+json": {
       "model_id": "357232c7727845e5820a817e2fe3eeff",
       "version_major": 2,
       "version_minor": 0
      },
      "text/plain": [
       "Validation: |                                                                                                 …"
      ]
     },
     "metadata": {},
     "output_type": "display_data"
    },
    {
     "name": "stderr",
     "output_type": "stream",
     "text": [
      "Metric valid/loss improved by 0.016 >= min_delta = 0.0. New best score: 1.485\n"
     ]
    },
    {
     "data": {
      "application/vnd.jupyter.widget-view+json": {
       "model_id": "ab988cd7bd5d4cfcabffc322c07108d6",
       "version_major": 2,
       "version_minor": 0
      },
      "text/plain": [
       "Validation: |                                                                                                 …"
      ]
     },
     "metadata": {},
     "output_type": "display_data"
    },
    {
     "data": {
      "application/vnd.jupyter.widget-view+json": {
       "model_id": "f1bd338180684869aad6e9c72c0eacd5",
       "version_major": 2,
       "version_minor": 0
      },
      "text/plain": [
       "Validation: |                                                                                                 …"
      ]
     },
     "metadata": {},
     "output_type": "display_data"
    },
    {
     "name": "stderr",
     "output_type": "stream",
     "text": [
      "Metric valid/loss improved by 0.006 >= min_delta = 0.0. New best score: 1.479\n"
     ]
    },
    {
     "data": {
      "application/vnd.jupyter.widget-view+json": {
       "model_id": "9193e6205474492c8b4c541d09c11f94",
       "version_major": 2,
       "version_minor": 0
      },
      "text/plain": [
       "Validation: |                                                                                                 …"
      ]
     },
     "metadata": {},
     "output_type": "display_data"
    },
    {
     "data": {
      "application/vnd.jupyter.widget-view+json": {
       "model_id": "295ac3f2809f4e9c9ae75688ba5162d8",
       "version_major": 2,
       "version_minor": 0
      },
      "text/plain": [
       "Validation: |                                                                                                 …"
      ]
     },
     "metadata": {},
     "output_type": "display_data"
    },
    {
     "data": {
      "application/vnd.jupyter.widget-view+json": {
       "model_id": "0bd4df15499045c4805688214a7a48c3",
       "version_major": 2,
       "version_minor": 0
      },
      "text/plain": [
       "Validation: |                                                                                                 …"
      ]
     },
     "metadata": {},
     "output_type": "display_data"
    },
    {
     "name": "stderr",
     "output_type": "stream",
     "text": [
      "Metric valid/loss improved by 0.045 >= min_delta = 0.0. New best score: 1.434\n"
     ]
    },
    {
     "data": {
      "application/vnd.jupyter.widget-view+json": {
       "model_id": "0d146318670b462e866161831d223a79",
       "version_major": 2,
       "version_minor": 0
      },
      "text/plain": [
       "Validation: |                                                                                                 …"
      ]
     },
     "metadata": {},
     "output_type": "display_data"
    },
    {
     "name": "stderr",
     "output_type": "stream",
     "text": [
      "Metric valid/loss improved by 0.016 >= min_delta = 0.0. New best score: 1.418\n"
     ]
    },
    {
     "data": {
      "application/vnd.jupyter.widget-view+json": {
       "model_id": "8f6e5a1ff94b4cd2a8a297bf9acbb7e3",
       "version_major": 2,
       "version_minor": 0
      },
      "text/plain": [
       "Validation: |                                                                                                 …"
      ]
     },
     "metadata": {},
     "output_type": "display_data"
    },
    {
     "name": "stderr",
     "output_type": "stream",
     "text": [
      "Metric valid/loss improved by 0.012 >= min_delta = 0.0. New best score: 1.406\n"
     ]
    },
    {
     "data": {
      "application/vnd.jupyter.widget-view+json": {
       "model_id": "74385d96f4364fcd8d5960aac0a28347",
       "version_major": 2,
       "version_minor": 0
      },
      "text/plain": [
       "Validation: |                                                                                                 …"
      ]
     },
     "metadata": {},
     "output_type": "display_data"
    },
    {
     "name": "stderr",
     "output_type": "stream",
     "text": [
      "Metric valid/loss improved by 0.011 >= min_delta = 0.0. New best score: 1.395\n"
     ]
    },
    {
     "data": {
      "application/vnd.jupyter.widget-view+json": {
       "model_id": "51e159fb236c43f9a5fe9f1df0432aab",
       "version_major": 2,
       "version_minor": 0
      },
      "text/plain": [
       "Validation: |                                                                                                 …"
      ]
     },
     "metadata": {},
     "output_type": "display_data"
    },
    {
     "name": "stderr",
     "output_type": "stream",
     "text": [
      "Metric valid/loss improved by 0.011 >= min_delta = 0.0. New best score: 1.384\n"
     ]
    },
    {
     "data": {
      "application/vnd.jupyter.widget-view+json": {
       "model_id": "7406afd4c58b4abebf3907035f486724",
       "version_major": 2,
       "version_minor": 0
      },
      "text/plain": [
       "Validation: |                                                                                                 …"
      ]
     },
     "metadata": {},
     "output_type": "display_data"
    },
    {
     "name": "stderr",
     "output_type": "stream",
     "text": [
      "Metric valid/loss improved by 0.023 >= min_delta = 0.0. New best score: 1.362\n"
     ]
    },
    {
     "data": {
      "application/vnd.jupyter.widget-view+json": {
       "model_id": "8ce0da91ab27412c8764c6d634ce89c0",
       "version_major": 2,
       "version_minor": 0
      },
      "text/plain": [
       "Validation: |                                                                                                 …"
      ]
     },
     "metadata": {},
     "output_type": "display_data"
    },
    {
     "name": "stderr",
     "output_type": "stream",
     "text": [
      "Metric valid/loss improved by 0.009 >= min_delta = 0.0. New best score: 1.352\n"
     ]
    },
    {
     "data": {
      "application/vnd.jupyter.widget-view+json": {
       "model_id": "02e3d5550dcd4e0cadeea4c1cdbdd073",
       "version_major": 2,
       "version_minor": 0
      },
      "text/plain": [
       "Validation: |                                                                                                 …"
      ]
     },
     "metadata": {},
     "output_type": "display_data"
    },
    {
     "data": {
      "application/vnd.jupyter.widget-view+json": {
       "model_id": "34b9e94ff1534aeb9ae03e2277179e89",
       "version_major": 2,
       "version_minor": 0
      },
      "text/plain": [
       "Validation: |                                                                                                 …"
      ]
     },
     "metadata": {},
     "output_type": "display_data"
    },
    {
     "name": "stderr",
     "output_type": "stream",
     "text": [
      "Metric valid/loss improved by 0.007 >= min_delta = 0.0. New best score: 1.346\n"
     ]
    },
    {
     "data": {
      "application/vnd.jupyter.widget-view+json": {
       "model_id": "75dd982d1e8843b0ac3d93b3425b11f9",
       "version_major": 2,
       "version_minor": 0
      },
      "text/plain": [
       "Validation: |                                                                                                 …"
      ]
     },
     "metadata": {},
     "output_type": "display_data"
    },
    {
     "name": "stderr",
     "output_type": "stream",
     "text": [
      "Metric valid/loss improved by 0.003 >= min_delta = 0.0. New best score: 1.343\n"
     ]
    },
    {
     "data": {
      "application/vnd.jupyter.widget-view+json": {
       "model_id": "f66755ba102b42fa934011d3decf9f85",
       "version_major": 2,
       "version_minor": 0
      },
      "text/plain": [
       "Validation: |                                                                                                 …"
      ]
     },
     "metadata": {},
     "output_type": "display_data"
    },
    {
     "name": "stderr",
     "output_type": "stream",
     "text": [
      "Metric valid/loss improved by 0.018 >= min_delta = 0.0. New best score: 1.326\n"
     ]
    },
    {
     "data": {
      "application/vnd.jupyter.widget-view+json": {
       "model_id": "dde1bd8b03e5415d9f66bff517945e76",
       "version_major": 2,
       "version_minor": 0
      },
      "text/plain": [
       "Validation: |                                                                                                 …"
      ]
     },
     "metadata": {},
     "output_type": "display_data"
    },
    {
     "name": "stderr",
     "output_type": "stream",
     "text": [
      "Metric valid/loss improved by 0.011 >= min_delta = 0.0. New best score: 1.315\n"
     ]
    },
    {
     "data": {
      "application/vnd.jupyter.widget-view+json": {
       "model_id": "d073ca14eb17405b94f5420a00f49d52",
       "version_major": 2,
       "version_minor": 0
      },
      "text/plain": [
       "Validation: |                                                                                                 …"
      ]
     },
     "metadata": {},
     "output_type": "display_data"
    },
    {
     "name": "stderr",
     "output_type": "stream",
     "text": [
      "Metric valid/loss improved by 0.000 >= min_delta = 0.0. New best score: 1.315\n"
     ]
    },
    {
     "data": {
      "application/vnd.jupyter.widget-view+json": {
       "model_id": "134530369ff946d49b880b9053ee9485",
       "version_major": 2,
       "version_minor": 0
      },
      "text/plain": [
       "Validation: |                                                                                                 …"
      ]
     },
     "metadata": {},
     "output_type": "display_data"
    },
    {
     "name": "stderr",
     "output_type": "stream",
     "text": [
      "Metric valid/loss improved by 0.001 >= min_delta = 0.0. New best score: 1.314\n"
     ]
    },
    {
     "data": {
      "application/vnd.jupyter.widget-view+json": {
       "model_id": "168c2788505d4a9d89a36132bb8b3532",
       "version_major": 2,
       "version_minor": 0
      },
      "text/plain": [
       "Validation: |                                                                                                 …"
      ]
     },
     "metadata": {},
     "output_type": "display_data"
    },
    {
     "name": "stderr",
     "output_type": "stream",
     "text": [
      "Metric valid/loss improved by 0.013 >= min_delta = 0.0. New best score: 1.301\n"
     ]
    },
    {
     "data": {
      "application/vnd.jupyter.widget-view+json": {
       "model_id": "295cee7236a64e0c89ff7dae6e540180",
       "version_major": 2,
       "version_minor": 0
      },
      "text/plain": [
       "Validation: |                                                                                                 …"
      ]
     },
     "metadata": {},
     "output_type": "display_data"
    },
    {
     "name": "stderr",
     "output_type": "stream",
     "text": [
      "Metric valid/loss improved by 0.030 >= min_delta = 0.0. New best score: 1.271\n"
     ]
    },
    {
     "data": {
      "application/vnd.jupyter.widget-view+json": {
       "model_id": "95d42351843b45eb9198d4a8749fd6f8",
       "version_major": 2,
       "version_minor": 0
      },
      "text/plain": [
       "Validation: |                                                                                                 …"
      ]
     },
     "metadata": {},
     "output_type": "display_data"
    },
    {
     "name": "stderr",
     "output_type": "stream",
     "text": [
      "Metric valid/loss improved by 0.008 >= min_delta = 0.0. New best score: 1.263\n"
     ]
    },
    {
     "data": {
      "application/vnd.jupyter.widget-view+json": {
       "model_id": "4b2a65dc879a4065bf66a9d63467fdb4",
       "version_major": 2,
       "version_minor": 0
      },
      "text/plain": [
       "Validation: |                                                                                                 …"
      ]
     },
     "metadata": {},
     "output_type": "display_data"
    },
    {
     "name": "stderr",
     "output_type": "stream",
     "text": [
      "Metric valid/loss improved by 0.005 >= min_delta = 0.0. New best score: 1.258\n"
     ]
    },
    {
     "data": {
      "application/vnd.jupyter.widget-view+json": {
       "model_id": "0fc7791ebe2641cba9eacf8f4aba0d67",
       "version_major": 2,
       "version_minor": 0
      },
      "text/plain": [
       "Validation: |                                                                                                 …"
      ]
     },
     "metadata": {},
     "output_type": "display_data"
    },
    {
     "name": "stderr",
     "output_type": "stream",
     "text": [
      "Metric valid/loss improved by 0.009 >= min_delta = 0.0. New best score: 1.249\n"
     ]
    },
    {
     "data": {
      "application/vnd.jupyter.widget-view+json": {
       "model_id": "84117783959644f2b34b7866a7068ca0",
       "version_major": 2,
       "version_minor": 0
      },
      "text/plain": [
       "Validation: |                                                                                                 …"
      ]
     },
     "metadata": {},
     "output_type": "display_data"
    },
    {
     "name": "stderr",
     "output_type": "stream",
     "text": [
      "Metric valid/loss improved by 0.008 >= min_delta = 0.0. New best score: 1.241\n"
     ]
    },
    {
     "data": {
      "application/vnd.jupyter.widget-view+json": {
       "model_id": "82182134c47840ed807f9d375b5ec514",
       "version_major": 2,
       "version_minor": 0
      },
      "text/plain": [
       "Validation: |                                                                                                 …"
      ]
     },
     "metadata": {},
     "output_type": "display_data"
    },
    {
     "name": "stderr",
     "output_type": "stream",
     "text": [
      "Metric valid/loss improved by 0.025 >= min_delta = 0.0. New best score: 1.216\n"
     ]
    },
    {
     "data": {
      "application/vnd.jupyter.widget-view+json": {
       "model_id": "52ae972956ae45ceb333606ff3cbf99e",
       "version_major": 2,
       "version_minor": 0
      },
      "text/plain": [
       "Validation: |                                                                                                 …"
      ]
     },
     "metadata": {},
     "output_type": "display_data"
    },
    {
     "name": "stderr",
     "output_type": "stream",
     "text": [
      "Metric valid/loss improved by 0.001 >= min_delta = 0.0. New best score: 1.215\n"
     ]
    },
    {
     "data": {
      "application/vnd.jupyter.widget-view+json": {
       "model_id": "9bdd04f10c9e4ea6a26b14e9fd247a6f",
       "version_major": 2,
       "version_minor": 0
      },
      "text/plain": [
       "Validation: |                                                                                                 …"
      ]
     },
     "metadata": {},
     "output_type": "display_data"
    },
    {
     "name": "stderr",
     "output_type": "stream",
     "text": [
      "Metric valid/loss improved by 0.001 >= min_delta = 0.0. New best score: 1.214\n"
     ]
    },
    {
     "data": {
      "application/vnd.jupyter.widget-view+json": {
       "model_id": "7b3a899d1d28473ea5c6918d4236012f",
       "version_major": 2,
       "version_minor": 0
      },
      "text/plain": [
       "Validation: |                                                                                                 …"
      ]
     },
     "metadata": {},
     "output_type": "display_data"
    },
    {
     "name": "stderr",
     "output_type": "stream",
     "text": [
      "Metric valid/loss improved by 0.008 >= min_delta = 0.0. New best score: 1.205\n"
     ]
    },
    {
     "data": {
      "application/vnd.jupyter.widget-view+json": {
       "model_id": "917c6fb40b824383adb5eec2aaf19a14",
       "version_major": 2,
       "version_minor": 0
      },
      "text/plain": [
       "Validation: |                                                                                                 …"
      ]
     },
     "metadata": {},
     "output_type": "display_data"
    },
    {
     "name": "stderr",
     "output_type": "stream",
     "text": [
      "Metric valid/loss improved by 0.001 >= min_delta = 0.0. New best score: 1.204\n"
     ]
    },
    {
     "data": {
      "application/vnd.jupyter.widget-view+json": {
       "model_id": "8156cd9905624422a2d710f0291eefc9",
       "version_major": 2,
       "version_minor": 0
      },
      "text/plain": [
       "Validation: |                                                                                                 …"
      ]
     },
     "metadata": {},
     "output_type": "display_data"
    },
    {
     "name": "stderr",
     "output_type": "stream",
     "text": [
      "Metric valid/loss improved by 0.013 >= min_delta = 0.0. New best score: 1.191\n"
     ]
    },
    {
     "data": {
      "application/vnd.jupyter.widget-view+json": {
       "model_id": "4bc58d83af3b4f91a102ce46f25dd799",
       "version_major": 2,
       "version_minor": 0
      },
      "text/plain": [
       "Validation: |                                                                                                 …"
      ]
     },
     "metadata": {},
     "output_type": "display_data"
    },
    {
     "data": {
      "application/vnd.jupyter.widget-view+json": {
       "model_id": "7035afbbb0134862af166afdf7c6138a",
       "version_major": 2,
       "version_minor": 0
      },
      "text/plain": [
       "Validation: |                                                                                                 …"
      ]
     },
     "metadata": {},
     "output_type": "display_data"
    },
    {
     "data": {
      "application/vnd.jupyter.widget-view+json": {
       "model_id": "9b556b7d53844b72ab53b4845362da8d",
       "version_major": 2,
       "version_minor": 0
      },
      "text/plain": [
       "Validation: |                                                                                                 …"
      ]
     },
     "metadata": {},
     "output_type": "display_data"
    },
    {
     "name": "stderr",
     "output_type": "stream",
     "text": [
      "Metric valid/loss improved by 0.001 >= min_delta = 0.0. New best score: 1.189\n"
     ]
    },
    {
     "data": {
      "application/vnd.jupyter.widget-view+json": {
       "model_id": "17e451ac5abf4e0b9fa1ece5310f86b7",
       "version_major": 2,
       "version_minor": 0
      },
      "text/plain": [
       "Validation: |                                                                                                 …"
      ]
     },
     "metadata": {},
     "output_type": "display_data"
    },
    {
     "data": {
      "application/vnd.jupyter.widget-view+json": {
       "model_id": "8dd45320652949488ae9df2645188058",
       "version_major": 2,
       "version_minor": 0
      },
      "text/plain": [
       "Validation: |                                                                                                 …"
      ]
     },
     "metadata": {},
     "output_type": "display_data"
    },
    {
     "name": "stderr",
     "output_type": "stream",
     "text": [
      "Metric valid/loss improved by 0.002 >= min_delta = 0.0. New best score: 1.187\n"
     ]
    },
    {
     "data": {
      "application/vnd.jupyter.widget-view+json": {
       "model_id": "f54758450bce412aa8ad8301ecd77952",
       "version_major": 2,
       "version_minor": 0
      },
      "text/plain": [
       "Validation: |                                                                                                 …"
      ]
     },
     "metadata": {},
     "output_type": "display_data"
    },
    {
     "name": "stderr",
     "output_type": "stream",
     "text": [
      "Metric valid/loss improved by 0.001 >= min_delta = 0.0. New best score: 1.186\n"
     ]
    },
    {
     "data": {
      "application/vnd.jupyter.widget-view+json": {
       "model_id": "5970f07bbf614320bade87cb81531723",
       "version_major": 2,
       "version_minor": 0
      },
      "text/plain": [
       "Validation: |                                                                                                 …"
      ]
     },
     "metadata": {},
     "output_type": "display_data"
    },
    {
     "data": {
      "application/vnd.jupyter.widget-view+json": {
       "model_id": "a63e4387763d474e9f932e399d161b69",
       "version_major": 2,
       "version_minor": 0
      },
      "text/plain": [
       "Validation: |                                                                                                 …"
      ]
     },
     "metadata": {},
     "output_type": "display_data"
    },
    {
     "name": "stderr",
     "output_type": "stream",
     "text": [
      "Metric valid/loss improved by 0.004 >= min_delta = 0.0. New best score: 1.182\n"
     ]
    },
    {
     "data": {
      "application/vnd.jupyter.widget-view+json": {
       "model_id": "3618081d07f742c09f49d4ae8fcf6d6e",
       "version_major": 2,
       "version_minor": 0
      },
      "text/plain": [
       "Validation: |                                                                                                 …"
      ]
     },
     "metadata": {},
     "output_type": "display_data"
    },
    {
     "name": "stderr",
     "output_type": "stream",
     "text": [
      "`Trainer.fit` stopped: `max_epochs=20` reached.\n"
     ]
    }
   ],
   "source": [
    "trainer.fit(model, datamodule=dataset)"
   ]
  },
  {
   "cell_type": "markdown",
   "metadata": {},
   "source": [
    "<div class=\"alert alert-success\">\n",
    "\n",
    "⛓️ Теперь при необходимости добавить новую метрику или изменить лосс в модели - мы можем не переживать, что она не запустится или не обучится. Так как все метрики из `TorchMetrics` имеют одинаковый интерфейс."
   ]
  },
  {
   "cell_type": "markdown",
   "metadata": {},
   "source": [
    "# <center id=\"p5\"> 🎚 Tuner - подбираем идеальные гиперпараметры! </center>"
   ]
  },
  {
   "cell_type": "markdown",
   "metadata": {},
   "source": [
    "<div class=\"alert alert-info\">\n",
    "\n",
    "Что если вы не хотите подбирать начальный `learning rate`, чтобы моделька хорошо обучалась или же подбирать `batch size`, дабы влезло в `GPU`. В `Lightning` есть модуль `Tuner`, который позволяет подбирать эти параметры в автоматическом режиме\n",
    "\n",
    "Давайте посмотрим как его использовать! \n"
   ]
  },
  {
   "cell_type": "markdown",
   "metadata": {},
   "source": [
    "## <center> 🕘 LR finder </center>"
   ]
  },
  {
   "cell_type": "code",
   "execution_count": 34,
   "metadata": {},
   "outputs": [
    {
     "name": "stderr",
     "output_type": "stream",
     "text": [
      "GPU available: True (cuda), used: True\n",
      "TPU available: False, using: 0 TPU cores\n",
      "HPU available: False, using: 0 HPUs\n"
     ]
    }
   ],
   "source": [
    "model = SuperPuperModel(cfg)\n",
    "trainer = Trainer(\n",
    "    accelerator='gpu',\n",
    "    devices=cfg.device_count,\n",
    "    max_epochs=cfg.epochs, # Устанавливаем кол-во эпох\n",
    "    callbacks=[\n",
    "        EarlyStopping( # Подключаем EarlyStopping\n",
    "            monitor='valid/loss', # Какую метрику отлавливаем\n",
    "            patience=3, # Сколько эпох валидации внимательно наблюдаем\n",
    "            verbose=True, # Вывод как улучшается ил ухудшается метрика\n",
    "        ),\n",
    "        ModelCheckpoint( # Сохранение нескольких весов модели\n",
    "            monitor='valid/loss',\n",
    "            dirpath=f\"../models/{cfg.model_name}\", # Сохранение модели\n",
    "            enable_version_counter=True, # Не затираем старые веса!\n",
    "            # auto_insert_metric_name=True, # Сохраняем метрики в названии модели\n",
    "            save_top_k=3 # Сохраняем 3 лучших модели\n",
    "        ),\n",
    "    ],\n",
    "    val_check_interval=0.2 # Запускать valid проверку каждые 0.2*epochs\n",
    ")"
   ]
  },
  {
   "cell_type": "code",
   "execution_count": null,
   "metadata": {},
   "outputs": [],
   "source": [
    "tuner = pl.tuner.Tuner(trainer) # Создаем тюнер"
   ]
  },
  {
   "cell_type": "code",
   "execution_count": null,
   "metadata": {},
   "outputs": [
    {
     "name": "stderr",
     "output_type": "stream",
     "text": [
      "LOCAL_RANK: 0 - CUDA_VISIBLE_DEVICES: [0,1]\n",
      "/app/storage_local/Course/ml_instruments/.venv/lib/python3.10/site-packages/lightning/pytorch/loops/fit_loop.py:310: The number of training batches (15) is smaller than the logging interval Trainer(log_every_n_steps=50). Set a lower value for log_every_n_steps if you want to see logs for the training epoch.\n"
     ]
    },
    {
     "data": {
      "application/vnd.jupyter.widget-view+json": {
       "model_id": "7ccf3a91d5c54591a14818191b5203aa",
       "version_major": 2,
       "version_minor": 0
      },
      "text/plain": [
       "Finding best initial lr:   0%|          | 0/100 [00:00<?, ?it/s]"
      ]
     },
     "metadata": {},
     "output_type": "display_data"
    },
    {
     "name": "stderr",
     "output_type": "stream",
     "text": [
      "LR finder stopped early after 94 steps due to diverging loss.\n",
      "Learning rate set to 0.02089296130854041\n",
      "Restoring states from the checkpoint path at /app/storage_local/Course/ml_instruments/notebooks/.lr_find_45ff1209-0ee9-4ac0-ab07-f0d02c01e60f.ckpt\n",
      "Restored all states from the checkpoint at /app/storage_local/Course/ml_instruments/notebooks/.lr_find_45ff1209-0ee9-4ac0-ab07-f0d02c01e60f.ckpt\n"
     ]
    }
   ],
   "source": [
    "lr_finder = tuner.lr_find(model, datamodule=dataset) # Ищем оптимальный learning rate"
   ]
  },
  {
   "cell_type": "code",
   "execution_count": 37,
   "metadata": {},
   "outputs": [
    {
     "data": {
      "text/plain": [
       "0.02089296130854041"
      ]
     },
     "execution_count": 37,
     "metadata": {},
     "output_type": "execute_result"
    }
   ],
   "source": [
    "lr_finder.suggestion()"
   ]
  },
  {
   "cell_type": "markdown",
   "metadata": {},
   "source": [
    "<div class=\"alert alert-info\">\n",
    "\n",
    "`Lightning` нашел нам оптимальный `learning rate` буквально в 2 строчки кода! Как же прекрасен этот инструмент 🤗"
   ]
  },
  {
   "cell_type": "markdown",
   "metadata": {},
   "source": [
    "## <center> 💻 Batch Size, чтобы уместилось на GPU </center>"
   ]
  },
  {
   "cell_type": "markdown",
   "metadata": {},
   "source": [
    "<div class=\"alert alert-success\">\n",
    "\n",
    "Давайте посмотрим как находить оптимальный `batch size` "
   ]
  },
  {
   "cell_type": "code",
   "execution_count": 38,
   "metadata": {},
   "outputs": [
    {
     "name": "stderr",
     "output_type": "stream",
     "text": [
      "GPU available: True (cuda), used: True\n",
      "TPU available: False, using: 0 TPU cores\n",
      "HPU available: False, using: 0 HPUs\n"
     ]
    }
   ],
   "source": [
    "model = SuperPuperModel(cfg)\n",
    "trainer = Trainer(\n",
    "    accelerator='gpu',\n",
    "    devices=cfg.device_count,\n",
    "    max_epochs=cfg.epochs, # Устанавливаем кол-во эпох\n",
    "    callbacks=[\n",
    "        EarlyStopping( # Подключаем EarlyStopping\n",
    "            monitor='valid/loss', # Какую метрику отлавливаем\n",
    "            patience=3, # Сколько эпох валидации внимательно наблюдаем\n",
    "            verbose=True, # Вывод как улучшается ил ухудшается метрика\n",
    "        ),\n",
    "        ModelCheckpoint( # Сохранение нескольких весов модели\n",
    "            monitor='valid/loss',\n",
    "            dirpath=f\"../models/{cfg.model_name}\", # Сохранение модели\n",
    "            enable_version_counter=True, # Не затираем старые веса!\n",
    "            # auto_insert_metric_name=True, # Сохраняем метрики в названии модели\n",
    "            save_top_k=3 # Сохраняем 3 лучших модели\n",
    "        ),\n",
    "    ],\n",
    "    val_check_interval=0.2 # Запускать valid проверку каждые 0.2*epochs\n",
    ")"
   ]
  },
  {
   "cell_type": "code",
   "execution_count": 39,
   "metadata": {},
   "outputs": [
    {
     "name": "stderr",
     "output_type": "stream",
     "text": [
      "LOCAL_RANK: 0 - CUDA_VISIBLE_DEVICES: [0,1]\n",
      "`Trainer.fit` stopped: `max_steps=3` reached.\n",
      "Batch size 2 succeeded, trying batch size 4\n",
      "`Trainer.fit` stopped: `max_steps=3` reached.\n",
      "Batch size 4 succeeded, trying batch size 8\n",
      "`Trainer.fit` stopped: `max_steps=3` reached.\n",
      "Batch size 8 succeeded, trying batch size 16\n",
      "`Trainer.fit` stopped: `max_steps=3` reached.\n",
      "Batch size 16 succeeded, trying batch size 32\n",
      "`Trainer.fit` stopped: `max_steps=3` reached.\n",
      "Batch size 32 succeeded, trying batch size 64\n",
      "/app/storage_local/Course/ml_instruments/.venv/lib/python3.10/site-packages/lightning/pytorch/loops/fit_loop.py:310: The number of training batches (30) is smaller than the logging interval Trainer(log_every_n_steps=50). Set a lower value for log_every_n_steps if you want to see logs for the training epoch.\n",
      "`Trainer.fit` stopped: `max_steps=3` reached.\n",
      "Batch size 64 succeeded, trying batch size 128\n",
      "`Trainer.fit` stopped: `max_steps=3` reached.\n",
      "Batch size 128 succeeded, trying batch size 256\n",
      "/app/storage_local/Course/ml_instruments/.venv/lib/python3.10/site-packages/lightning/pytorch/loops/fit_loop.py:310: The number of training batches (8) is smaller than the logging interval Trainer(log_every_n_steps=50). Set a lower value for log_every_n_steps if you want to see logs for the training epoch.\n",
      "`Trainer.fit` stopped: `max_steps=3` reached.\n",
      "Batch size 256 succeeded, trying batch size 512\n",
      "/app/storage_local/Course/ml_instruments/.venv/lib/python3.10/site-packages/lightning/pytorch/loops/fit_loop.py:310: The number of training batches (4) is smaller than the logging interval Trainer(log_every_n_steps=50). Set a lower value for log_every_n_steps if you want to see logs for the training epoch.\n",
      "`Trainer.fit` stopped: `max_steps=3` reached.\n",
      "Batch size 512 succeeded, trying batch size 1024\n",
      "/app/storage_local/Course/ml_instruments/.venv/lib/python3.10/site-packages/lightning/pytorch/loops/fit_loop.py:310: The number of training batches (2) is smaller than the logging interval Trainer(log_every_n_steps=50). Set a lower value for log_every_n_steps if you want to see logs for the training epoch.\n",
      "`Trainer.fit` stopped: `max_steps=3` reached.\n",
      "Batch size 1024 succeeded, trying batch size 2048\n",
      "/app/storage_local/Course/ml_instruments/.venv/lib/python3.10/site-packages/lightning/pytorch/loops/fit_loop.py:310: The number of training batches (1) is smaller than the logging interval Trainer(log_every_n_steps=50). Set a lower value for log_every_n_steps if you want to see logs for the training epoch.\n",
      "`Trainer.fit` stopped: `max_steps=3` reached.\n",
      "The batch size 2048 is greater or equal than the length of your dataset.\n",
      "Finished batch size finder, will continue with full run using batch size 2048\n",
      "Restoring states from the checkpoint path at /app/storage_local/Course/ml_instruments/notebooks/.scale_batch_size_4f0b7dc3-5a4e-4f67-9d18-39704653ac80.ckpt\n",
      "Restored all states from the checkpoint at /app/storage_local/Course/ml_instruments/notebooks/.scale_batch_size_4f0b7dc3-5a4e-4f67-9d18-39704653ac80.ckpt\n",
      "LOCAL_RANK: 0 - CUDA_VISIBLE_DEVICES: [0,1]\n",
      "The batch size 2048 is greater or equal than the length of your dataset.\n",
      "The batch size 2048 is greater or equal than the length of your dataset.\n",
      "Finished batch size finder, will continue with full run using batch size 2048\n",
      "Restoring states from the checkpoint path at /app/storage_local/Course/ml_instruments/notebooks/.scale_batch_size_8831056e-5160-4f98-bd67-308a0cc68733.ckpt\n",
      "Loaded model weights from the checkpoint at /app/storage_local/Course/ml_instruments/notebooks/.scale_batch_size_8831056e-5160-4f98-bd67-308a0cc68733.ckpt\n"
     ]
    }
   ],
   "source": [
    "# Ищем batch_size для train части и для valid части \n",
    "bs_finder_train = tuner.scale_batch_size(model, datamodule=dataset, method='fit')\n",
    "bs_finder_valid = tuner.scale_batch_size(model, datamodule=dataset, method='validate')"
   ]
  },
  {
   "cell_type": "code",
   "execution_count": 40,
   "metadata": {},
   "outputs": [
    {
     "data": {
      "text/plain": [
       "(2048, 2048)"
      ]
     },
     "execution_count": 40,
     "metadata": {},
     "output_type": "execute_result"
    }
   ],
   "source": [
    "bs_finder_train, bs_finder_valid"
   ]
  },
  {
   "cell_type": "markdown",
   "metadata": {},
   "source": [
    "# <center id=\"p6\"> 🧸 Выводы и заключения ✅ </center>"
   ]
  },
  {
   "cell_type": "markdown",
   "metadata": {},
   "source": [
    "<div class=\"alert alert-success\">\n",
    "    \n",
    "В Этом уроке мы научились:\n",
    "- Обучать нейронки с помощью `Trainer`. Он помогает вам сконцентрироваться на логике модели, а не на ее обучении\n",
    "- Какие есть фишки в `Trainer` и что такие `callbacks`\n",
    "- `Torchmetrics` - альтернатива метрикам из `torch.nn`\n",
    "- Как `Torchmetrics` и `Lightning` клеятся вместе для удобной работы 🤗"
   ]
  },
  {
   "cell_type": "code",
   "execution_count": null,
   "metadata": {},
   "outputs": [],
   "source": []
  }
 ],
 "metadata": {
  "kernelspec": {
   "display_name": "cv",
   "language": "python",
   "name": "python3"
  },
  "language_info": {
   "codemirror_mode": {
    "name": "ipython",
    "version": 3
   },
   "file_extension": ".py",
   "mimetype": "text/x-python",
   "name": "python",
   "nbconvert_exporter": "python",
   "pygments_lexer": "ipython3",
   "version": "3.10.12"
  }
 },
 "nbformat": 4,
 "nbformat_minor": 4
}
