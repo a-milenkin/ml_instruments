{
 "cells": [
  {
   "cell_type": "markdown",
   "metadata": {},
   "source": [
    "# План\n",
    "\n",
    "_Основное_:\n",
    "- Эффективное логирование\n",
    "- Loggers\n",
    "- HOOKS - Перенести в Lightning Intro\n",
    "\n",
    "_Torchmetrics_:\n",
    "- Функциональный вызов\n",
    "- Класс и кумулятивные вычисления\n",
    "\n",
    "\n",
    "_Tuner_:\n",
    "- Автоматическое нахождение learning_rate\n",
    "- Автоматическое нахождение batch_size"
   ]
  },
  {
   "cell_type": "markdown",
   "metadata": {},
   "source": [
    "<image src=\"../images/pl.webp\" alt=\"Trainer\" height=500>\n"
   ]
  },
  {
   "cell_type": "markdown",
   "metadata": {},
   "source": [
    "Ссылка на доки Torchmetrics https://torchmetrics.readthedocs.io/en/v1.3.0/"
   ]
  },
  {
   "cell_type": "markdown",
   "metadata": {},
   "source": [
    "# Зачем нужен Trainer?\n",
    "\n"
   ]
  },
  {
   "cell_type": "markdown",
   "metadata": {},
   "source": [
    "Тренер в реальной жизни тренирует вас, давая обратную связь о ваших успехах, делая отчеты о прогрессе, помогая вам допиться результатов. `Trainer` из `Lightning` делает то же с вашей моделью:\n",
    "- Сам ее обучает, используя `EarlyStopping` и др.\n",
    "- Собирает метрики по мере обучения\n",
    "- Хотите обучать нейронку на GPU? А если GPU несколько - не проблема, можно запустить обучение хоть на 100 GPU"
   ]
  },
  {
   "cell_type": "markdown",
   "metadata": {},
   "source": [
    "# Его фишки\n",
    "\n",
    "- Больше не нужно писать огромные train loop для обучения вашей нейронки. Надо добавить `EarlyStopping` - добавляем в `Trainer` и ликуем\n",
    "- Использование любого логера. Если вы используете `W&B` или `CometML` и прочие, то это не проблема. В процессе обучения логируем метрики, а `Trainer` сам отправит на сервер\n",
    "- Распределенное обучение. Если у вас есть несколько GPU, то есть возможность ускорить обучение\n",
    "- Простота. Теперь, чтобы внести какую-то фишку в процесс обучения не надо ее писать с 0, так как уже все готов в `Lightning` - берем и пользуемся! "
   ]
  },
  {
   "cell_type": "markdown",
   "metadata": {},
   "source": [
    "# Настраиваемся на работу"
   ]
  },
  {
   "cell_type": "code",
   "execution_count": 1,
   "metadata": {},
   "outputs": [],
   "source": [
    "import copy\n",
    "from dataclasses import dataclass, asdict\n",
    "import numpy as np\n",
    "import pandas as pd\n",
    "from sklearn.preprocessing import RobustScaler, LabelEncoder\n",
    "from sklearn.model_selection import train_test_split\n",
    "\n",
    "import torch\n",
    "from torch import nn, optim\n",
    "from torch.utils.data import DataLoader, Dataset, random_split\n",
    "\n",
    "from lightning import Trainer, LightningModule, LightningDataModule\n",
    "from lightning.pytorch.callbacks import ModelSummary\n",
    "import lightning.pytorch as pl\n",
    "\n",
    "from typing import Tuple"
   ]
  },
  {
   "cell_type": "markdown",
   "metadata": {},
   "source": [
    "## Конфиг"
   ]
  },
  {
   "cell_type": "code",
   "execution_count": 2,
   "metadata": {},
   "outputs": [],
   "source": [
    "@dataclass\n",
    "class CFG:\n",
    "    model_name: str = 'Lightning ⚡️ Improved'\n",
    "    seed: int = 2024\n",
    "    device: str = \"cuda\"  # 'cpu'\n",
    "    device_count: int = 1\n",
    "    hidden_size: int = 128\n",
    "    dropout: float = 0.1\n",
    "    lr: float = 1e-3\n",
    "    batch_size: int = 128\n",
    "    num_workers: int = 4\n",
    "    epochs: int = 20\n",
    "    gpus: int = 2\n",
    "cfg = CFG()"
   ]
  },
  {
   "cell_type": "markdown",
   "metadata": {},
   "source": [
    "### Фиксируем seed"
   ]
  },
  {
   "cell_type": "code",
   "execution_count": 3,
   "metadata": {},
   "outputs": [
    {
     "name": "stderr",
     "output_type": "stream",
     "text": [
      "Seed set to 2024\n"
     ]
    },
    {
     "data": {
      "text/plain": [
       "2024"
      ]
     },
     "execution_count": 3,
     "metadata": {},
     "output_type": "execute_result"
    }
   ],
   "source": [
    "from lightning.pytorch import seed_everything\n",
    "\n",
    "seed_everything(cfg.seed)"
   ]
  },
  {
   "cell_type": "markdown",
   "metadata": {},
   "source": [
    "# 🤹 Подгружаем dataset"
   ]
  },
  {
   "cell_type": "code",
   "execution_count": 4,
   "metadata": {},
   "outputs": [
    {
     "data": {
      "text/html": [
       "<div>\n",
       "<style scoped>\n",
       "    .dataframe tbody tr th:only-of-type {\n",
       "        vertical-align: middle;\n",
       "    }\n",
       "\n",
       "    .dataframe tbody tr th {\n",
       "        vertical-align: top;\n",
       "    }\n",
       "\n",
       "    .dataframe thead th {\n",
       "        text-align: right;\n",
       "    }\n",
       "</style>\n",
       "<table border=\"1\" class=\"dataframe\">\n",
       "  <thead>\n",
       "    <tr style=\"text-align: right;\">\n",
       "      <th></th>\n",
       "      <th>car_id</th>\n",
       "      <th>model</th>\n",
       "      <th>car_type</th>\n",
       "      <th>fuel_type</th>\n",
       "      <th>car_rating</th>\n",
       "      <th>year_to_start</th>\n",
       "      <th>riders</th>\n",
       "      <th>year_to_work</th>\n",
       "      <th>target_reg</th>\n",
       "      <th>target_class</th>\n",
       "      <th>mean_rating</th>\n",
       "      <th>distance_sum</th>\n",
       "      <th>rating_min</th>\n",
       "      <th>speed_max</th>\n",
       "      <th>user_ride_quality_median</th>\n",
       "      <th>deviation_normal_count</th>\n",
       "      <th>user_uniq</th>\n",
       "    </tr>\n",
       "  </thead>\n",
       "  <tbody>\n",
       "    <tr>\n",
       "      <th>0</th>\n",
       "      <td>y13744087j</td>\n",
       "      <td>Kia Rio X-line</td>\n",
       "      <td>economy</td>\n",
       "      <td>petrol</td>\n",
       "      <td>3.78</td>\n",
       "      <td>2015</td>\n",
       "      <td>76163</td>\n",
       "      <td>2021</td>\n",
       "      <td>109.99</td>\n",
       "      <td>another_bug</td>\n",
       "      <td>4.737759</td>\n",
       "      <td>1.214131e+07</td>\n",
       "      <td>0.1</td>\n",
       "      <td>180.855726</td>\n",
       "      <td>0.023174</td>\n",
       "      <td>174</td>\n",
       "      <td>170</td>\n",
       "    </tr>\n",
       "    <tr>\n",
       "      <th>1</th>\n",
       "      <td>O41613818T</td>\n",
       "      <td>VW Polo VI</td>\n",
       "      <td>economy</td>\n",
       "      <td>petrol</td>\n",
       "      <td>3.90</td>\n",
       "      <td>2015</td>\n",
       "      <td>78218</td>\n",
       "      <td>2021</td>\n",
       "      <td>34.48</td>\n",
       "      <td>electro_bug</td>\n",
       "      <td>4.480517</td>\n",
       "      <td>1.803909e+07</td>\n",
       "      <td>0.0</td>\n",
       "      <td>187.862734</td>\n",
       "      <td>12.306011</td>\n",
       "      <td>174</td>\n",
       "      <td>174</td>\n",
       "    </tr>\n",
       "    <tr>\n",
       "      <th>2</th>\n",
       "      <td>d-2109686j</td>\n",
       "      <td>Renault Sandero</td>\n",
       "      <td>standart</td>\n",
       "      <td>petrol</td>\n",
       "      <td>6.30</td>\n",
       "      <td>2012</td>\n",
       "      <td>23340</td>\n",
       "      <td>2017</td>\n",
       "      <td>34.93</td>\n",
       "      <td>gear_stick</td>\n",
       "      <td>4.768391</td>\n",
       "      <td>1.588366e+07</td>\n",
       "      <td>0.1</td>\n",
       "      <td>102.382857</td>\n",
       "      <td>2.513319</td>\n",
       "      <td>174</td>\n",
       "      <td>173</td>\n",
       "    </tr>\n",
       "  </tbody>\n",
       "</table>\n",
       "</div>"
      ],
      "text/plain": [
       "       car_id            model  car_type fuel_type  car_rating  year_to_start  \\\n",
       "0  y13744087j   Kia Rio X-line   economy    petrol        3.78           2015   \n",
       "1  O41613818T       VW Polo VI   economy    petrol        3.90           2015   \n",
       "2  d-2109686j  Renault Sandero  standart    petrol        6.30           2012   \n",
       "\n",
       "   riders  year_to_work  target_reg target_class  mean_rating  distance_sum  \\\n",
       "0   76163          2021      109.99  another_bug     4.737759  1.214131e+07   \n",
       "1   78218          2021       34.48  electro_bug     4.480517  1.803909e+07   \n",
       "2   23340          2017       34.93   gear_stick     4.768391  1.588366e+07   \n",
       "\n",
       "   rating_min   speed_max  user_ride_quality_median  deviation_normal_count  \\\n",
       "0         0.1  180.855726                  0.023174                     174   \n",
       "1         0.0  187.862734                 12.306011                     174   \n",
       "2         0.1  102.382857                  2.513319                     174   \n",
       "\n",
       "   user_uniq  \n",
       "0        170  \n",
       "1        174  \n",
       "2        173  "
      ]
     },
     "execution_count": 4,
     "metadata": {},
     "output_type": "execute_result"
    }
   ],
   "source": [
    "rides_info = pd.read_csv('https://github.com/a-milenkin/ml_instruments/raw/refs/heads/main/data/quickstart_train.csv')\n",
    "rides_info.head(3)"
   ]
  },
  {
   "cell_type": "code",
   "execution_count": 5,
   "metadata": {},
   "outputs": [],
   "source": [
    "# Проводим препроцессинг данных для старта обучения\n",
    "drop_cols = [\"car_id\", \"target_reg\", \"target_class\"]\n",
    "cat_cols = [\"car_type\", \"fuel_type\", \"model\"]\n",
    "rides_info = pd.get_dummies(rides_info, columns=cat_cols)\n",
    "rides_info.fillna(rides_info.median(numeric_only=True), inplace=True)\n",
    "num_cols = [col for col in list(rides_info.columns) if col not in drop_cols]"
   ]
  },
  {
   "cell_type": "code",
   "execution_count": 6,
   "metadata": {},
   "outputs": [],
   "source": [
    "# нормализуем данные и кодируем таргет\n",
    "\n",
    "scaler = RobustScaler()\n",
    "le = LabelEncoder()\n",
    "\n",
    "df = scaler.fit_transform(rides_info[num_cols])\n",
    "df = pd.DataFrame(df, columns=num_cols)\n",
    "\n",
    "target_scaler = RobustScaler()\n",
    "target = target_scaler.fit_transform(rides_info[\"target_reg\"].values.reshape(-1, 1))\n",
    "\n",
    "df[\"target_reg\"] = target\n",
    "df[\"target_class\"] = le.fit_transform(rides_info[\"target_class\"]).reshape((-1, 1))"
   ]
  },
  {
   "cell_type": "code",
   "execution_count": 7,
   "metadata": {},
   "outputs": [],
   "source": [
    "# Разбиваем датасет на трэйн и тест выборки\n",
    "train, test = train_test_split(df, test_size=0.2, random_state=cfg.seed)\n",
    "\n",
    "cfg.num_features = train.shape[1] - 2  # количество фичей, подаваемое на вход\n",
    "cfg.num_tar_class = (\n",
    "    train.target_class.nunique()\n",
    ")  # количество выходов равно количеству предсказываемых классов"
   ]
  },
  {
   "cell_type": "code",
   "execution_count": 8,
   "metadata": {},
   "outputs": [
    {
     "data": {
      "text/html": [
       "<div>\n",
       "<style scoped>\n",
       "    .dataframe tbody tr th:only-of-type {\n",
       "        vertical-align: middle;\n",
       "    }\n",
       "\n",
       "    .dataframe tbody tr th {\n",
       "        vertical-align: top;\n",
       "    }\n",
       "\n",
       "    .dataframe thead th {\n",
       "        text-align: right;\n",
       "    }\n",
       "</style>\n",
       "<table border=\"1\" class=\"dataframe\">\n",
       "  <thead>\n",
       "    <tr style=\"text-align: right;\">\n",
       "      <th></th>\n",
       "      <th>car_rating</th>\n",
       "      <th>year_to_start</th>\n",
       "      <th>riders</th>\n",
       "      <th>year_to_work</th>\n",
       "      <th>mean_rating</th>\n",
       "      <th>distance_sum</th>\n",
       "      <th>rating_min</th>\n",
       "      <th>speed_max</th>\n",
       "      <th>user_ride_quality_median</th>\n",
       "      <th>deviation_normal_count</th>\n",
       "      <th>...</th>\n",
       "      <th>model_Smart Coupe</th>\n",
       "      <th>model_Smart ForFour</th>\n",
       "      <th>model_Smart ForTwo</th>\n",
       "      <th>model_Tesla Model 3</th>\n",
       "      <th>model_VW Polo</th>\n",
       "      <th>model_VW Polo VI</th>\n",
       "      <th>model_VW Tiguan</th>\n",
       "      <th>model_Volkswagen ID.4</th>\n",
       "      <th>target_reg</th>\n",
       "      <th>target_class</th>\n",
       "    </tr>\n",
       "  </thead>\n",
       "  <tbody>\n",
       "    <tr>\n",
       "      <th>0</th>\n",
       "      <td>-0.460317</td>\n",
       "      <td>0.5</td>\n",
       "      <td>0.258414</td>\n",
       "      <td>0.75</td>\n",
       "      <td>0.567305</td>\n",
       "      <td>-0.187985</td>\n",
       "      <td>0.0</td>\n",
       "      <td>0.129562</td>\n",
       "      <td>0.019027</td>\n",
       "      <td>0.0</td>\n",
       "      <td>...</td>\n",
       "      <td>0.0</td>\n",
       "      <td>0.0</td>\n",
       "      <td>0.0</td>\n",
       "      <td>0.0</td>\n",
       "      <td>0.0</td>\n",
       "      <td>0.0</td>\n",
       "      <td>0.0</td>\n",
       "      <td>0.0</td>\n",
       "      <td>3.022894</td>\n",
       "      <td>0</td>\n",
       "    </tr>\n",
       "    <tr>\n",
       "      <th>1</th>\n",
       "      <td>-0.365079</td>\n",
       "      <td>0.5</td>\n",
       "      <td>0.303616</td>\n",
       "      <td>0.75</td>\n",
       "      <td>0.072227</td>\n",
       "      <td>0.841243</td>\n",
       "      <td>-0.1</td>\n",
       "      <td>0.237381</td>\n",
       "      <td>1.085987</td>\n",
       "      <td>0.0</td>\n",
       "      <td>...</td>\n",
       "      <td>0.0</td>\n",
       "      <td>0.0</td>\n",
       "      <td>0.0</td>\n",
       "      <td>0.0</td>\n",
       "      <td>0.0</td>\n",
       "      <td>1.0</td>\n",
       "      <td>0.0</td>\n",
       "      <td>0.0</td>\n",
       "      <td>-0.238877</td>\n",
       "      <td>2</td>\n",
       "    </tr>\n",
       "    <tr>\n",
       "      <th>2</th>\n",
       "      <td>1.539683</td>\n",
       "      <td>-1.0</td>\n",
       "      <td>-0.903502</td>\n",
       "      <td>-0.25</td>\n",
       "      <td>0.626258</td>\n",
       "      <td>0.465096</td>\n",
       "      <td>0.0</td>\n",
       "      <td>-1.077932</td>\n",
       "      <td>0.235335</td>\n",
       "      <td>0.0</td>\n",
       "      <td>...</td>\n",
       "      <td>0.0</td>\n",
       "      <td>0.0</td>\n",
       "      <td>0.0</td>\n",
       "      <td>0.0</td>\n",
       "      <td>0.0</td>\n",
       "      <td>0.0</td>\n",
       "      <td>0.0</td>\n",
       "      <td>0.0</td>\n",
       "      <td>-0.219438</td>\n",
       "      <td>7</td>\n",
       "    </tr>\n",
       "  </tbody>\n",
       "</table>\n",
       "<p>3 rows × 45 columns</p>\n",
       "</div>"
      ],
      "text/plain": [
       "   car_rating  year_to_start    riders  year_to_work  mean_rating  \\\n",
       "0   -0.460317            0.5  0.258414          0.75     0.567305   \n",
       "1   -0.365079            0.5  0.303616          0.75     0.072227   \n",
       "2    1.539683           -1.0 -0.903502         -0.25     0.626258   \n",
       "\n",
       "   distance_sum  rating_min  speed_max  user_ride_quality_median  \\\n",
       "0     -0.187985         0.0   0.129562                  0.019027   \n",
       "1      0.841243        -0.1   0.237381                  1.085987   \n",
       "2      0.465096         0.0  -1.077932                  0.235335   \n",
       "\n",
       "   deviation_normal_count  ...  model_Smart Coupe  model_Smart ForFour  \\\n",
       "0                     0.0  ...                0.0                  0.0   \n",
       "1                     0.0  ...                0.0                  0.0   \n",
       "2                     0.0  ...                0.0                  0.0   \n",
       "\n",
       "   model_Smart ForTwo  model_Tesla Model 3  model_VW Polo  model_VW Polo VI  \\\n",
       "0                 0.0                  0.0            0.0               0.0   \n",
       "1                 0.0                  0.0            0.0               1.0   \n",
       "2                 0.0                  0.0            0.0               0.0   \n",
       "\n",
       "   model_VW Tiguan  model_Volkswagen ID.4   target_reg  target_class  \n",
       "0              0.0                     0.0    3.022894             0  \n",
       "1              0.0                     0.0   -0.238877             2  \n",
       "2              0.0                     0.0   -0.219438             7  \n",
       "\n",
       "[3 rows x 45 columns]"
      ]
     },
     "execution_count": 8,
     "metadata": {},
     "output_type": "execute_result"
    }
   ],
   "source": [
    "df.head(3)"
   ]
  },
  {
   "cell_type": "markdown",
   "metadata": {},
   "source": [
    "# Dataset"
   ]
  },
  {
   "cell_type": "code",
   "execution_count": 9,
   "metadata": {},
   "outputs": [],
   "source": [
    "# датасет выдает фичи и значения целевых переменных\n",
    "class Rides(Dataset):\n",
    "    def __init__(self, df):\n",
    "        self.df = df\n",
    "\n",
    "    def __len__(self):\n",
    "        return len(self.df)\n",
    "\n",
    "    def __getitem__(self, idx):\n",
    "        row = self.df.iloc[idx, :]\n",
    "\n",
    "        data = row.drop(labels=[\"target_reg\", \"target_class\"])\n",
    "        data = torch.FloatTensor(data.values.astype(\"float\"))\n",
    "        tar_reg = torch.tensor(row[\"target_reg\"]).float()\n",
    "        tar_class = row[\"target_class\"].astype(\"int\")\n",
    "\n",
    "        return data, tar_reg, tar_class"
   ]
  },
  {
   "cell_type": "code",
   "execution_count": 10,
   "metadata": {},
   "outputs": [],
   "source": [
    "train_datasets = {\"train\": Rides(train), \"val\": Rides(test)}"
   ]
  },
  {
   "cell_type": "code",
   "execution_count": 74,
   "metadata": {},
   "outputs": [],
   "source": [
    "class RidesLightning(LightningDataModule):\n",
    "    def __init__(self, cfg: CFG, train_datasets: dict) -> None: \n",
    "        # Сохраняем переменные для дальнейшей работы\n",
    "        super().__init__()\n",
    "\n",
    "        self.cfg = cfg\n",
    "        self.datasets = train_datasets\n",
    "        self.batch_size = self.cfg.batch_size\n",
    "\n",
    "    def setup(self, stage: str):\n",
    "        # Создаем Dataset'ы\n",
    "        self.train = self.datasets[\"train\"]\n",
    "        self.val = self.datasets[\"val\"]\n",
    "\n",
    "    \n",
    "    def _make_dataloader(self, dataset, cfg):\n",
    "        # Общий метод для создания DataLoader\n",
    "        return DataLoader(\n",
    "            dataset,\n",
    "            batch_size=self.batch_size,\n",
    "            num_workers=self.cfg.num_workers,\n",
    "            pin_memory=True\n",
    "        )\n",
    "\n",
    "    def train_dataloader(self):\n",
    "        # Возвращаем Train Dataloader\n",
    "        return self._make_dataloader(self.train, cfg)\n",
    "    \n",
    "    def val_dataloader(self):\n",
    "        # Возвращаем Valid Dataset\n",
    "        return self._make_dataloader(self.val, cfg)\n",
    "    \n",
    "    def teardown(self, stage: str):\n",
    "        # Функция, которая выполняется после создания Dataloader - здесь можно удалить ненужные компоненты\n",
    "        del self.train, self.val"
   ]
  },
  {
   "cell_type": "code",
   "execution_count": 75,
   "metadata": {},
   "outputs": [],
   "source": [
    "dataset = RidesLightning(cfg, train_datasets)"
   ]
  },
  {
   "cell_type": "code",
   "execution_count": 76,
   "metadata": {},
   "outputs": [],
   "source": [
    "class LightningModel(LightningModule):\n",
    "    def __init__(self, cfg: CFG):\n",
    "        super().__init__()\n",
    "        self.cfg = cfg\n",
    "        self.lr = cfg.lr # ВАЖНО! Сохраняйте lr в модели\n",
    "\n",
    "        self.mlp = nn.Sequential(\n",
    "            nn.Linear(cfg.num_features, cfg.hidden_size),\n",
    "            # nn.BatchNorm1d(cfg.hidden_size),\n",
    "            nn.Dropout(cfg.dropout),\n",
    "            nn.LeakyReLU(),\n",
    "            nn.Linear(cfg.hidden_size, cfg.hidden_size),\n",
    "            # nn.BatchNorm1d(cfg.hidden_size),\n",
    "            nn.Dropout(cfg.dropout),\n",
    "            nn.GELU(),\n",
    "            nn.Linear(cfg.hidden_size, cfg.hidden_size // 2),\n",
    "        )\n",
    "        # Так как два таргета, делаем две головы - одна для регрессии, другая - классификации\n",
    "        self.regressor = nn.Sequential(nn.Linear(cfg.hidden_size // 2, 1))\n",
    "        self.classifier = nn.Sequential(\n",
    "            nn.Linear(cfg.hidden_size // 2, cfg.num_tar_class)\n",
    "        )\n",
    "        \n",
    "        self.regressor = nn.Sequential(nn.Linear(cfg.hidden_size // 2, 1))\n",
    "\n",
    "        self.regression_criterion = nn.MSELoss()\n",
    "        self.classification_criterion = nn.CrossEntropyLoss()\n",
    "\n",
    "    def forward(self, x):\n",
    "        # Forward pass through the network\n",
    "        x = self.mlp(x)\n",
    "        tar_reg = self.regressor(x)\n",
    "        tar_class = self.classifier(x)\n",
    "        return tar_reg.view(-1), tar_class\n",
    "    \n",
    "    def basic_step(self, batch, batch_idx, step: str):\n",
    "        # Получаем данные\n",
    "        data, reg_target, clas_target = batch\n",
    "\n",
    "        pred_reg, pred_clas = self(data)\n",
    "\n",
    "        loss_reg = self.regression_criterion(pred_reg, reg_target)\n",
    "        loss_class = self.classification_criterion(pred_clas, clas_target)\n",
    "        loss = loss_reg + loss_class\n",
    "\n",
    "        return {\n",
    "            f\"{step}/loss\": loss,\n",
    "            f\"{step}/reg_loss\": loss_reg,\n",
    "            f\"{step}/reg_class\": loss_class\n",
    "        }\n",
    "    \n",
    "    def training_step(self, batch, batch_idx):\n",
    "        loss_dict = self.basic_step(batch, batch_idx, \"train\")\n",
    "        \n",
    "        # Сохраняем метрики\n",
    "        self.log_dict(loss_dict)\n",
    "        \n",
    "        return loss_dict[\"train/loss\"]\n",
    "    \n",
    "    def validation_step(self, batch, batch_idx):\n",
    "        loss_dict = self.basic_step(batch, batch_idx, \"valid\")\n",
    "        \n",
    "        # Сохраняем метрики\n",
    "        self.log_dict(loss_dict)\n",
    "        \n",
    "        return loss_dict[\"valid/loss\"]\n",
    "    \n",
    "    \n",
    "    def test_step(self, batch, batch_idx):\n",
    "        loss_dict = self.basic_step(batch, batch_idx, \"test\")\n",
    "        \n",
    "        # Сохраняем метрики\n",
    "        self.log_dict(loss_dict)\n",
    "        \n",
    "        return loss_dict[\"test/loss\"]\n",
    "    \n",
    "    def configure_optimizers(self):\n",
    "        optimizer = torch.optim.AdamW(self.parameters(), lr=self.lr, weight_decay=0.05)\n",
    "        scheduler = torch.optim.lr_scheduler.CosineAnnealingLR(optimizer, T_max=self.cfg.epochs)\n",
    "\n",
    "        return {\n",
    "            \"optimizer\": optimizer,\n",
    "            \"lr_scheduler\": {\n",
    "                \"scheduler\": scheduler,\n",
    "                \"monitor\": \"train/loss\",\n",
    "                \"interval\": \"epoch\",\n",
    "                \"reduce_on_plateau\": True,\n",
    "            }\n",
    "        }"
   ]
  },
  {
   "cell_type": "code",
   "execution_count": 77,
   "metadata": {},
   "outputs": [
    {
     "data": {
      "text/plain": [
       "LightningModel(\n",
       "  (mlp): Sequential(\n",
       "    (0): Linear(in_features=43, out_features=128, bias=True)\n",
       "    (1): Dropout(p=0.1, inplace=False)\n",
       "    (2): LeakyReLU(negative_slope=0.01)\n",
       "    (3): Linear(in_features=128, out_features=128, bias=True)\n",
       "    (4): Dropout(p=0.1, inplace=False)\n",
       "    (5): GELU(approximate='none')\n",
       "    (6): Linear(in_features=128, out_features=64, bias=True)\n",
       "  )\n",
       "  (regressor): Sequential(\n",
       "    (0): Linear(in_features=64, out_features=1, bias=True)\n",
       "  )\n",
       "  (classifier): Sequential(\n",
       "    (0): Linear(in_features=64, out_features=9, bias=True)\n",
       "  )\n",
       "  (regression_criterion): MSELoss()\n",
       "  (classification_criterion): CrossEntropyLoss()\n",
       ")"
      ]
     },
     "execution_count": 77,
     "metadata": {},
     "output_type": "execute_result"
    }
   ],
   "source": [
    "model = LightningModel(cfg)\n",
    "model"
   ]
  },
  {
   "cell_type": "code",
   "execution_count": 78,
   "metadata": {},
   "outputs": [
    {
     "data": {
      "image/svg+xml": [
       "<?xml version=\"1.0\" encoding=\"UTF-8\" standalone=\"no\"?>\n",
       "<!DOCTYPE svg PUBLIC \"-//W3C//DTD SVG 1.1//EN\"\n",
       " \"http://www.w3.org/Graphics/SVG/1.1/DTD/svg11.dtd\">\n",
       "<!-- Generated by graphviz version 2.43.0 (0)\n",
       " -->\n",
       "<!-- Title: model Pages: 1 -->\n",
       "<svg width=\"348pt\" height=\"820pt\"\n",
       " viewBox=\"0.00 0.00 348.00 820.00\" xmlns=\"http://www.w3.org/2000/svg\" xmlns:xlink=\"http://www.w3.org/1999/xlink\">\n",
       "<g id=\"graph0\" class=\"graph\" transform=\"scale(1 1) rotate(0) translate(4 816)\">\n",
       "<title>model</title>\n",
       "<polygon fill=\"white\" stroke=\"transparent\" points=\"-4,4 -4,-816 344,-816 344,4 -4,4\"/>\n",
       "<g id=\"clust1\" class=\"cluster\">\n",
       "<title>cluster_2</title>\n",
       "<polygon fill=\"none\" stroke=\"black\" stroke-dasharray=\"5,2\" points=\"81,-225 81,-772 255,-772 255,-225 81,-225\"/>\n",
       "<text text-anchor=\"middle\" x=\"114\" y=\"-758.4\" font-family=\"Times,serif\" font-size=\"12.00\">Sequential</text>\n",
       "</g>\n",
       "<g id=\"clust2\" class=\"cluster\">\n",
       "<title>cluster_3</title>\n",
       "<polygon fill=\"none\" stroke=\"black\" stroke-dasharray=\"5,2\" points=\"174,-138 174,-217 332,-217 332,-138 174,-138\"/>\n",
       "<text text-anchor=\"middle\" x=\"207\" y=\"-203.4\" font-family=\"Times,serif\" font-size=\"12.00\">Sequential</text>\n",
       "</g>\n",
       "<g id=\"clust3\" class=\"cluster\">\n",
       "<title>cluster_4</title>\n",
       "<polygon fill=\"none\" stroke=\"black\" stroke-dasharray=\"5,2\" points=\"8,-65 8,-217 166,-217 166,-65 8,-65\"/>\n",
       "<text text-anchor=\"middle\" x=\"41\" y=\"-203.4\" font-family=\"Times,serif\" font-size=\"12.00\">Sequential</text>\n",
       "</g>\n",
       "<!-- 0 -->\n",
       "<g id=\"node1\" class=\"node\">\n",
       "<title>0</title>\n",
       "<polygon fill=\"lightyellow\" stroke=\"transparent\" points=\"223.5,-812 112.5,-812 112.5,-780 223.5,-780 223.5,-812\"/>\n",
       "<polygon fill=\"none\" stroke=\"black\" points=\"113,-780 113,-812 187,-812 187,-780 113,-780\"/>\n",
       "<text text-anchor=\"start\" x=\"118\" y=\"-799\" font-family=\"Linux libertine\" font-size=\"10.00\">input&#45;tensor</text>\n",
       "<text text-anchor=\"start\" x=\"131.5\" y=\"-788\" font-family=\"Linux libertine\" font-size=\"10.00\">depth:0</text>\n",
       "<polygon fill=\"none\" stroke=\"black\" points=\"187,-780 187,-812 224,-812 224,-780 187,-780\"/>\n",
       "<text text-anchor=\"start\" x=\"192\" y=\"-793.5\" font-family=\"Linux libertine\" font-size=\"10.00\">(43,)</text>\n",
       "</g>\n",
       "<!-- 1 -->\n",
       "<g id=\"node2\" class=\"node\">\n",
       "<title>1</title>\n",
       "<polygon fill=\"#c1ffc1\" stroke=\"transparent\" points=\"241.5,-743 94.5,-743 94.5,-701 241.5,-701 241.5,-743\"/>\n",
       "<polygon fill=\"none\" stroke=\"black\" points=\"95,-701 95,-743 142,-743 142,-701 95,-701\"/>\n",
       "<text text-anchor=\"start\" x=\"102.5\" y=\"-725\" font-family=\"Linux libertine\" font-size=\"10.00\">Linear</text>\n",
       "<text text-anchor=\"start\" x=\"100\" y=\"-714\" font-family=\"Linux libertine\" font-size=\"10.00\">depth:2</text>\n",
       "<polygon fill=\"none\" stroke=\"black\" points=\"142,-722 142,-743 195,-743 195,-722 142,-722\"/>\n",
       "<text text-anchor=\"start\" x=\"152.5\" y=\"-730\" font-family=\"Linux libertine\" font-size=\"10.00\">input:</text>\n",
       "<polygon fill=\"none\" stroke=\"black\" points=\"195,-722 195,-743 242,-743 242,-722 195,-722\"/>\n",
       "<text text-anchor=\"start\" x=\"202.5\" y=\"-730\" font-family=\"Linux libertine\" font-size=\"10.00\">(43,) </text>\n",
       "<polygon fill=\"none\" stroke=\"black\" points=\"142,-701 142,-722 195,-722 195,-701 142,-701\"/>\n",
       "<text text-anchor=\"start\" x=\"147\" y=\"-709\" font-family=\"Linux libertine\" font-size=\"10.00\">output: </text>\n",
       "<polygon fill=\"none\" stroke=\"black\" points=\"195,-701 195,-722 242,-722 242,-701 195,-701\"/>\n",
       "<text text-anchor=\"start\" x=\"200\" y=\"-709\" font-family=\"Linux libertine\" font-size=\"10.00\">(128,) </text>\n",
       "</g>\n",
       "<!-- 0&#45;&gt;1 -->\n",
       "<g id=\"edge1\" class=\"edge\">\n",
       "<title>0&#45;&gt;1</title>\n",
       "<path fill=\"none\" stroke=\"black\" d=\"M168,-779.73C168,-772.08 168,-762.52 168,-753.45\"/>\n",
       "<polygon fill=\"black\" stroke=\"black\" points=\"171.5,-753.17 168,-743.17 164.5,-753.17 171.5,-753.17\"/>\n",
       "</g>\n",
       "<!-- 2 -->\n",
       "<g id=\"node3\" class=\"node\">\n",
       "<title>2</title>\n",
       "<polygon fill=\"#c1ffc1\" stroke=\"transparent\" points=\"241.5,-665 94.5,-665 94.5,-623 241.5,-623 241.5,-665\"/>\n",
       "<polygon fill=\"none\" stroke=\"black\" points=\"95,-623 95,-665 142,-665 142,-623 95,-623\"/>\n",
       "<text text-anchor=\"start\" x=\"100\" y=\"-647\" font-family=\"Linux libertine\" font-size=\"10.00\">Dropout</text>\n",
       "<text text-anchor=\"start\" x=\"100\" y=\"-636\" font-family=\"Linux libertine\" font-size=\"10.00\">depth:2</text>\n",
       "<polygon fill=\"none\" stroke=\"black\" points=\"142,-644 142,-665 195,-665 195,-644 142,-644\"/>\n",
       "<text text-anchor=\"start\" x=\"152.5\" y=\"-652\" font-family=\"Linux libertine\" font-size=\"10.00\">input:</text>\n",
       "<polygon fill=\"none\" stroke=\"black\" points=\"195,-644 195,-665 242,-665 242,-644 195,-644\"/>\n",
       "<text text-anchor=\"start\" x=\"200\" y=\"-652\" font-family=\"Linux libertine\" font-size=\"10.00\">(128,) </text>\n",
       "<polygon fill=\"none\" stroke=\"black\" points=\"142,-623 142,-644 195,-644 195,-623 142,-623\"/>\n",
       "<text text-anchor=\"start\" x=\"147\" y=\"-631\" font-family=\"Linux libertine\" font-size=\"10.00\">output: </text>\n",
       "<polygon fill=\"none\" stroke=\"black\" points=\"195,-623 195,-644 242,-644 242,-623 195,-623\"/>\n",
       "<text text-anchor=\"start\" x=\"200\" y=\"-631\" font-family=\"Linux libertine\" font-size=\"10.00\">(128,) </text>\n",
       "</g>\n",
       "<!-- 1&#45;&gt;2 -->\n",
       "<g id=\"edge2\" class=\"edge\">\n",
       "<title>1&#45;&gt;2</title>\n",
       "<path fill=\"none\" stroke=\"black\" d=\"M168,-700.63C168,-692.82 168,-683.73 168,-675.18\"/>\n",
       "<polygon fill=\"black\" stroke=\"black\" points=\"171.5,-675.16 168,-665.16 164.5,-675.16 171.5,-675.16\"/>\n",
       "</g>\n",
       "<!-- 3 -->\n",
       "<g id=\"node4\" class=\"node\">\n",
       "<title>3</title>\n",
       "<polygon fill=\"#c1ffc1\" stroke=\"transparent\" points=\"247,-587 89,-587 89,-545 247,-545 247,-587\"/>\n",
       "<polygon fill=\"none\" stroke=\"black\" points=\"89,-545 89,-587 147,-587 147,-545 89,-545\"/>\n",
       "<text text-anchor=\"start\" x=\"94\" y=\"-569\" font-family=\"Linux libertine\" font-size=\"10.00\">LeakyReLU</text>\n",
       "<text text-anchor=\"start\" x=\"99.5\" y=\"-558\" font-family=\"Linux libertine\" font-size=\"10.00\">depth:2</text>\n",
       "<polygon fill=\"none\" stroke=\"black\" points=\"147,-566 147,-587 200,-587 200,-566 147,-566\"/>\n",
       "<text text-anchor=\"start\" x=\"157.5\" y=\"-574\" font-family=\"Linux libertine\" font-size=\"10.00\">input:</text>\n",
       "<polygon fill=\"none\" stroke=\"black\" points=\"200,-566 200,-587 247,-587 247,-566 200,-566\"/>\n",
       "<text text-anchor=\"start\" x=\"205\" y=\"-574\" font-family=\"Linux libertine\" font-size=\"10.00\">(128,) </text>\n",
       "<polygon fill=\"none\" stroke=\"black\" points=\"147,-545 147,-566 200,-566 200,-545 147,-545\"/>\n",
       "<text text-anchor=\"start\" x=\"152\" y=\"-553\" font-family=\"Linux libertine\" font-size=\"10.00\">output: </text>\n",
       "<polygon fill=\"none\" stroke=\"black\" points=\"200,-545 200,-566 247,-566 247,-545 200,-545\"/>\n",
       "<text text-anchor=\"start\" x=\"205\" y=\"-553\" font-family=\"Linux libertine\" font-size=\"10.00\">(128,) </text>\n",
       "</g>\n",
       "<!-- 2&#45;&gt;3 -->\n",
       "<g id=\"edge3\" class=\"edge\">\n",
       "<title>2&#45;&gt;3</title>\n",
       "<path fill=\"none\" stroke=\"black\" d=\"M168,-622.63C168,-614.82 168,-605.73 168,-597.18\"/>\n",
       "<polygon fill=\"black\" stroke=\"black\" points=\"171.5,-597.16 168,-587.16 164.5,-597.16 171.5,-597.16\"/>\n",
       "</g>\n",
       "<!-- 4 -->\n",
       "<g id=\"node5\" class=\"node\">\n",
       "<title>4</title>\n",
       "<polygon fill=\"#c1ffc1\" stroke=\"transparent\" points=\"241.5,-509 94.5,-509 94.5,-467 241.5,-467 241.5,-509\"/>\n",
       "<polygon fill=\"none\" stroke=\"black\" points=\"95,-467 95,-509 142,-509 142,-467 95,-467\"/>\n",
       "<text text-anchor=\"start\" x=\"102.5\" y=\"-491\" font-family=\"Linux libertine\" font-size=\"10.00\">Linear</text>\n",
       "<text text-anchor=\"start\" x=\"100\" y=\"-480\" font-family=\"Linux libertine\" font-size=\"10.00\">depth:2</text>\n",
       "<polygon fill=\"none\" stroke=\"black\" points=\"142,-488 142,-509 195,-509 195,-488 142,-488\"/>\n",
       "<text text-anchor=\"start\" x=\"152.5\" y=\"-496\" font-family=\"Linux libertine\" font-size=\"10.00\">input:</text>\n",
       "<polygon fill=\"none\" stroke=\"black\" points=\"195,-488 195,-509 242,-509 242,-488 195,-488\"/>\n",
       "<text text-anchor=\"start\" x=\"200\" y=\"-496\" font-family=\"Linux libertine\" font-size=\"10.00\">(128,) </text>\n",
       "<polygon fill=\"none\" stroke=\"black\" points=\"142,-467 142,-488 195,-488 195,-467 142,-467\"/>\n",
       "<text text-anchor=\"start\" x=\"147\" y=\"-475\" font-family=\"Linux libertine\" font-size=\"10.00\">output: </text>\n",
       "<polygon fill=\"none\" stroke=\"black\" points=\"195,-467 195,-488 242,-488 242,-467 195,-467\"/>\n",
       "<text text-anchor=\"start\" x=\"200\" y=\"-475\" font-family=\"Linux libertine\" font-size=\"10.00\">(128,) </text>\n",
       "</g>\n",
       "<!-- 3&#45;&gt;4 -->\n",
       "<g id=\"edge4\" class=\"edge\">\n",
       "<title>3&#45;&gt;4</title>\n",
       "<path fill=\"none\" stroke=\"black\" d=\"M168,-544.63C168,-536.82 168,-527.73 168,-519.18\"/>\n",
       "<polygon fill=\"black\" stroke=\"black\" points=\"171.5,-519.16 168,-509.16 164.5,-519.16 171.5,-519.16\"/>\n",
       "</g>\n",
       "<!-- 5 -->\n",
       "<g id=\"node6\" class=\"node\">\n",
       "<title>5</title>\n",
       "<polygon fill=\"#c1ffc1\" stroke=\"transparent\" points=\"241.5,-431 94.5,-431 94.5,-389 241.5,-389 241.5,-431\"/>\n",
       "<polygon fill=\"none\" stroke=\"black\" points=\"95,-389 95,-431 142,-431 142,-389 95,-389\"/>\n",
       "<text text-anchor=\"start\" x=\"100\" y=\"-413\" font-family=\"Linux libertine\" font-size=\"10.00\">Dropout</text>\n",
       "<text text-anchor=\"start\" x=\"100\" y=\"-402\" font-family=\"Linux libertine\" font-size=\"10.00\">depth:2</text>\n",
       "<polygon fill=\"none\" stroke=\"black\" points=\"142,-410 142,-431 195,-431 195,-410 142,-410\"/>\n",
       "<text text-anchor=\"start\" x=\"152.5\" y=\"-418\" font-family=\"Linux libertine\" font-size=\"10.00\">input:</text>\n",
       "<polygon fill=\"none\" stroke=\"black\" points=\"195,-410 195,-431 242,-431 242,-410 195,-410\"/>\n",
       "<text text-anchor=\"start\" x=\"200\" y=\"-418\" font-family=\"Linux libertine\" font-size=\"10.00\">(128,) </text>\n",
       "<polygon fill=\"none\" stroke=\"black\" points=\"142,-389 142,-410 195,-410 195,-389 142,-389\"/>\n",
       "<text text-anchor=\"start\" x=\"147\" y=\"-397\" font-family=\"Linux libertine\" font-size=\"10.00\">output: </text>\n",
       "<polygon fill=\"none\" stroke=\"black\" points=\"195,-389 195,-410 242,-410 242,-389 195,-389\"/>\n",
       "<text text-anchor=\"start\" x=\"200\" y=\"-397\" font-family=\"Linux libertine\" font-size=\"10.00\">(128,) </text>\n",
       "</g>\n",
       "<!-- 4&#45;&gt;5 -->\n",
       "<g id=\"edge5\" class=\"edge\">\n",
       "<title>4&#45;&gt;5</title>\n",
       "<path fill=\"none\" stroke=\"black\" d=\"M168,-466.63C168,-458.82 168,-449.73 168,-441.18\"/>\n",
       "<polygon fill=\"black\" stroke=\"black\" points=\"171.5,-441.16 168,-431.16 164.5,-441.16 171.5,-441.16\"/>\n",
       "</g>\n",
       "<!-- 6 -->\n",
       "<g id=\"node7\" class=\"node\">\n",
       "<title>6</title>\n",
       "<polygon fill=\"#c1ffc1\" stroke=\"transparent\" points=\"241.5,-353 94.5,-353 94.5,-311 241.5,-311 241.5,-353\"/>\n",
       "<polygon fill=\"none\" stroke=\"black\" points=\"95,-311 95,-353 142,-353 142,-311 95,-311\"/>\n",
       "<text text-anchor=\"start\" x=\"107.5\" y=\"-335\" font-family=\"Linux libertine\" font-size=\"10.00\">GELU</text>\n",
       "<text text-anchor=\"start\" x=\"100\" y=\"-324\" font-family=\"Linux libertine\" font-size=\"10.00\">depth:2</text>\n",
       "<polygon fill=\"none\" stroke=\"black\" points=\"142,-332 142,-353 195,-353 195,-332 142,-332\"/>\n",
       "<text text-anchor=\"start\" x=\"152.5\" y=\"-340\" font-family=\"Linux libertine\" font-size=\"10.00\">input:</text>\n",
       "<polygon fill=\"none\" stroke=\"black\" points=\"195,-332 195,-353 242,-353 242,-332 195,-332\"/>\n",
       "<text text-anchor=\"start\" x=\"200\" y=\"-340\" font-family=\"Linux libertine\" font-size=\"10.00\">(128,) </text>\n",
       "<polygon fill=\"none\" stroke=\"black\" points=\"142,-311 142,-332 195,-332 195,-311 142,-311\"/>\n",
       "<text text-anchor=\"start\" x=\"147\" y=\"-319\" font-family=\"Linux libertine\" font-size=\"10.00\">output: </text>\n",
       "<polygon fill=\"none\" stroke=\"black\" points=\"195,-311 195,-332 242,-332 242,-311 195,-311\"/>\n",
       "<text text-anchor=\"start\" x=\"200\" y=\"-319\" font-family=\"Linux libertine\" font-size=\"10.00\">(128,) </text>\n",
       "</g>\n",
       "<!-- 5&#45;&gt;6 -->\n",
       "<g id=\"edge6\" class=\"edge\">\n",
       "<title>5&#45;&gt;6</title>\n",
       "<path fill=\"none\" stroke=\"black\" d=\"M168,-388.63C168,-380.82 168,-371.73 168,-363.18\"/>\n",
       "<polygon fill=\"black\" stroke=\"black\" points=\"171.5,-363.16 168,-353.16 164.5,-363.16 171.5,-363.16\"/>\n",
       "</g>\n",
       "<!-- 7 -->\n",
       "<g id=\"node8\" class=\"node\">\n",
       "<title>7</title>\n",
       "<polygon fill=\"#c1ffc1\" stroke=\"transparent\" points=\"241.5,-275 94.5,-275 94.5,-233 241.5,-233 241.5,-275\"/>\n",
       "<polygon fill=\"none\" stroke=\"black\" points=\"95,-233 95,-275 142,-275 142,-233 95,-233\"/>\n",
       "<text text-anchor=\"start\" x=\"102.5\" y=\"-257\" font-family=\"Linux libertine\" font-size=\"10.00\">Linear</text>\n",
       "<text text-anchor=\"start\" x=\"100\" y=\"-246\" font-family=\"Linux libertine\" font-size=\"10.00\">depth:2</text>\n",
       "<polygon fill=\"none\" stroke=\"black\" points=\"142,-254 142,-275 195,-275 195,-254 142,-254\"/>\n",
       "<text text-anchor=\"start\" x=\"152.5\" y=\"-262\" font-family=\"Linux libertine\" font-size=\"10.00\">input:</text>\n",
       "<polygon fill=\"none\" stroke=\"black\" points=\"195,-254 195,-275 242,-275 242,-254 195,-254\"/>\n",
       "<text text-anchor=\"start\" x=\"200\" y=\"-262\" font-family=\"Linux libertine\" font-size=\"10.00\">(128,) </text>\n",
       "<polygon fill=\"none\" stroke=\"black\" points=\"142,-233 142,-254 195,-254 195,-233 142,-233\"/>\n",
       "<text text-anchor=\"start\" x=\"147\" y=\"-241\" font-family=\"Linux libertine\" font-size=\"10.00\">output: </text>\n",
       "<polygon fill=\"none\" stroke=\"black\" points=\"195,-233 195,-254 242,-254 242,-233 195,-233\"/>\n",
       "<text text-anchor=\"start\" x=\"202.5\" y=\"-241\" font-family=\"Linux libertine\" font-size=\"10.00\">(64,) </text>\n",
       "</g>\n",
       "<!-- 6&#45;&gt;7 -->\n",
       "<g id=\"edge7\" class=\"edge\">\n",
       "<title>6&#45;&gt;7</title>\n",
       "<path fill=\"none\" stroke=\"black\" d=\"M168,-310.63C168,-302.82 168,-293.73 168,-285.18\"/>\n",
       "<polygon fill=\"black\" stroke=\"black\" points=\"171.5,-285.16 168,-275.16 164.5,-285.16 171.5,-285.16\"/>\n",
       "</g>\n",
       "<!-- 8 -->\n",
       "<g id=\"node9\" class=\"node\">\n",
       "<title>8</title>\n",
       "<polygon fill=\"#c1ffc1\" stroke=\"transparent\" points=\"324,-188 182,-188 182,-146 324,-146 324,-188\"/>\n",
       "<polygon fill=\"none\" stroke=\"black\" points=\"182,-146 182,-188 229,-188 229,-146 182,-146\"/>\n",
       "<text text-anchor=\"start\" x=\"189.5\" y=\"-170\" font-family=\"Linux libertine\" font-size=\"10.00\">Linear</text>\n",
       "<text text-anchor=\"start\" x=\"187\" y=\"-159\" font-family=\"Linux libertine\" font-size=\"10.00\">depth:2</text>\n",
       "<polygon fill=\"none\" stroke=\"black\" points=\"229,-167 229,-188 282,-188 282,-167 229,-167\"/>\n",
       "<text text-anchor=\"start\" x=\"239.5\" y=\"-175\" font-family=\"Linux libertine\" font-size=\"10.00\">input:</text>\n",
       "<polygon fill=\"none\" stroke=\"black\" points=\"282,-167 282,-188 324,-188 324,-167 282,-167\"/>\n",
       "<text text-anchor=\"start\" x=\"287\" y=\"-175\" font-family=\"Linux libertine\" font-size=\"10.00\">(64,) </text>\n",
       "<polygon fill=\"none\" stroke=\"black\" points=\"229,-146 229,-167 282,-167 282,-146 229,-146\"/>\n",
       "<text text-anchor=\"start\" x=\"234\" y=\"-154\" font-family=\"Linux libertine\" font-size=\"10.00\">output: </text>\n",
       "<polygon fill=\"none\" stroke=\"black\" points=\"282,-146 282,-167 324,-167 324,-146 282,-146\"/>\n",
       "<text text-anchor=\"start\" x=\"289.5\" y=\"-154\" font-family=\"Linux libertine\" font-size=\"10.00\">(1,) </text>\n",
       "</g>\n",
       "<!-- 7&#45;&gt;8 -->\n",
       "<g id=\"edge8\" class=\"edge\">\n",
       "<title>7&#45;&gt;8</title>\n",
       "<path fill=\"none\" stroke=\"black\" d=\"M188.14,-232.86C199.28,-221.72 213.29,-207.71 225.43,-195.57\"/>\n",
       "<polygon fill=\"black\" stroke=\"black\" points=\"228.11,-197.84 232.71,-188.29 223.16,-192.89 228.11,-197.84\"/>\n",
       "</g>\n",
       "<!-- 9 -->\n",
       "<g id=\"node10\" class=\"node\">\n",
       "<title>9</title>\n",
       "<polygon fill=\"#c1ffc1\" stroke=\"transparent\" points=\"158,-188 16,-188 16,-146 158,-146 158,-188\"/>\n",
       "<polygon fill=\"none\" stroke=\"black\" points=\"16,-146 16,-188 63,-188 63,-146 16,-146\"/>\n",
       "<text text-anchor=\"start\" x=\"23.5\" y=\"-170\" font-family=\"Linux libertine\" font-size=\"10.00\">Linear</text>\n",
       "<text text-anchor=\"start\" x=\"21\" y=\"-159\" font-family=\"Linux libertine\" font-size=\"10.00\">depth:2</text>\n",
       "<polygon fill=\"none\" stroke=\"black\" points=\"63,-167 63,-188 116,-188 116,-167 63,-167\"/>\n",
       "<text text-anchor=\"start\" x=\"73.5\" y=\"-175\" font-family=\"Linux libertine\" font-size=\"10.00\">input:</text>\n",
       "<polygon fill=\"none\" stroke=\"black\" points=\"116,-167 116,-188 158,-188 158,-167 116,-167\"/>\n",
       "<text text-anchor=\"start\" x=\"121\" y=\"-175\" font-family=\"Linux libertine\" font-size=\"10.00\">(64,) </text>\n",
       "<polygon fill=\"none\" stroke=\"black\" points=\"63,-146 63,-167 116,-167 116,-146 63,-146\"/>\n",
       "<text text-anchor=\"start\" x=\"68\" y=\"-154\" font-family=\"Linux libertine\" font-size=\"10.00\">output: </text>\n",
       "<polygon fill=\"none\" stroke=\"black\" points=\"116,-146 116,-167 158,-167 158,-146 116,-146\"/>\n",
       "<text text-anchor=\"start\" x=\"123.5\" y=\"-154\" font-family=\"Linux libertine\" font-size=\"10.00\">(9,) </text>\n",
       "</g>\n",
       "<!-- 7&#45;&gt;9 -->\n",
       "<g id=\"edge10\" class=\"edge\">\n",
       "<title>7&#45;&gt;9</title>\n",
       "<path fill=\"none\" stroke=\"black\" d=\"M148.8,-232.86C138.19,-221.72 124.84,-207.71 113.27,-195.57\"/>\n",
       "<polygon fill=\"black\" stroke=\"black\" points=\"115.77,-193.12 106.34,-188.29 110.7,-197.95 115.77,-193.12\"/>\n",
       "</g>\n",
       "<!-- 11 -->\n",
       "<g id=\"node12\" class=\"node\">\n",
       "<title>11</title>\n",
       "<polygon fill=\"aliceblue\" stroke=\"transparent\" points=\"321.5,-110 184.5,-110 184.5,-68 321.5,-68 321.5,-110\"/>\n",
       "<polygon fill=\"none\" stroke=\"black\" points=\"185,-68 185,-110 232,-110 232,-68 185,-68\"/>\n",
       "<text text-anchor=\"start\" x=\"197.5\" y=\"-92\" font-family=\"Linux libertine\" font-size=\"10.00\">view</text>\n",
       "<text text-anchor=\"start\" x=\"190\" y=\"-81\" font-family=\"Linux libertine\" font-size=\"10.00\">depth:1</text>\n",
       "<polygon fill=\"none\" stroke=\"black\" points=\"232,-89 232,-110 285,-110 285,-89 232,-89\"/>\n",
       "<text text-anchor=\"start\" x=\"242.5\" y=\"-97\" font-family=\"Linux libertine\" font-size=\"10.00\">input:</text>\n",
       "<polygon fill=\"none\" stroke=\"black\" points=\"285,-89 285,-110 322,-110 322,-89 285,-89\"/>\n",
       "<text text-anchor=\"start\" x=\"290\" y=\"-97\" font-family=\"Linux libertine\" font-size=\"10.00\">(1,) </text>\n",
       "<polygon fill=\"none\" stroke=\"black\" points=\"232,-68 232,-89 285,-89 285,-68 232,-68\"/>\n",
       "<text text-anchor=\"start\" x=\"237\" y=\"-76\" font-family=\"Linux libertine\" font-size=\"10.00\">output: </text>\n",
       "<polygon fill=\"none\" stroke=\"black\" points=\"285,-68 285,-89 322,-89 322,-68 285,-68\"/>\n",
       "<text text-anchor=\"start\" x=\"290\" y=\"-76\" font-family=\"Linux libertine\" font-size=\"10.00\">(1,) </text>\n",
       "</g>\n",
       "<!-- 8&#45;&gt;11 -->\n",
       "<g id=\"edge9\" class=\"edge\">\n",
       "<title>8&#45;&gt;11</title>\n",
       "<path fill=\"none\" stroke=\"black\" d=\"M253,-145.63C253,-137.82 253,-128.73 253,-120.18\"/>\n",
       "<polygon fill=\"black\" stroke=\"black\" points=\"256.5,-120.16 253,-110.16 249.5,-120.16 256.5,-120.16\"/>\n",
       "</g>\n",
       "<!-- 10 -->\n",
       "<g id=\"node11\" class=\"node\">\n",
       "<title>10</title>\n",
       "<polygon fill=\"lightyellow\" stroke=\"transparent\" points=\"142.5,-105 31.5,-105 31.5,-73 142.5,-73 142.5,-105\"/>\n",
       "<polygon fill=\"none\" stroke=\"black\" points=\"32,-73 32,-105 111,-105 111,-73 32,-73\"/>\n",
       "<text text-anchor=\"start\" x=\"37\" y=\"-92\" font-family=\"Linux libertine\" font-size=\"10.00\">output&#45;tensor</text>\n",
       "<text text-anchor=\"start\" x=\"53\" y=\"-81\" font-family=\"Linux libertine\" font-size=\"10.00\">depth:0</text>\n",
       "<polygon fill=\"none\" stroke=\"black\" points=\"111,-73 111,-105 143,-105 143,-73 111,-73\"/>\n",
       "<text text-anchor=\"start\" x=\"116\" y=\"-86.5\" font-family=\"Linux libertine\" font-size=\"10.00\">(9,)</text>\n",
       "</g>\n",
       "<!-- 9&#45;&gt;10 -->\n",
       "<g id=\"edge11\" class=\"edge\">\n",
       "<title>9&#45;&gt;10</title>\n",
       "<path fill=\"none\" stroke=\"black\" d=\"M87,-145.63C87,-136.33 87,-125.22 87,-115.39\"/>\n",
       "<polygon fill=\"black\" stroke=\"black\" points=\"90.5,-115.36 87,-105.36 83.5,-115.36 90.5,-115.36\"/>\n",
       "</g>\n",
       "<!-- 12 -->\n",
       "<g id=\"node13\" class=\"node\">\n",
       "<title>12</title>\n",
       "<polygon fill=\"lightyellow\" stroke=\"transparent\" points=\"308.5,-32 197.5,-32 197.5,0 308.5,0 308.5,-32\"/>\n",
       "<polygon fill=\"none\" stroke=\"black\" points=\"198,0 198,-32 277,-32 277,0 198,0\"/>\n",
       "<text text-anchor=\"start\" x=\"203\" y=\"-19\" font-family=\"Linux libertine\" font-size=\"10.00\">output&#45;tensor</text>\n",
       "<text text-anchor=\"start\" x=\"219\" y=\"-8\" font-family=\"Linux libertine\" font-size=\"10.00\">depth:0</text>\n",
       "<polygon fill=\"none\" stroke=\"black\" points=\"277,0 277,-32 309,-32 309,0 277,0\"/>\n",
       "<text text-anchor=\"start\" x=\"282\" y=\"-13.5\" font-family=\"Linux libertine\" font-size=\"10.00\">(1,)</text>\n",
       "</g>\n",
       "<!-- 11&#45;&gt;12 -->\n",
       "<g id=\"edge12\" class=\"edge\">\n",
       "<title>11&#45;&gt;12</title>\n",
       "<path fill=\"none\" stroke=\"black\" d=\"M253,-67.84C253,-59.89 253,-50.66 253,-42.26\"/>\n",
       "<polygon fill=\"black\" stroke=\"black\" points=\"256.5,-42.24 253,-32.24 249.5,-42.24 256.5,-42.24\"/>\n",
       "</g>\n",
       "</g>\n",
       "</svg>\n"
      ],
      "text/plain": [
       "<graphviz.graphs.Digraph at 0x7f0260ef01f0>"
      ]
     },
     "execution_count": 78,
     "metadata": {},
     "output_type": "execute_result"
    }
   ],
   "source": [
    "# Посмотрим какая модель у нас получилась\n",
    "from torchview import draw_graph\n",
    "\n",
    "model_graph = draw_graph(model, input_size=[cfg.num_features], expand_nested=True)\n",
    "model_graph.visual_graph"
   ]
  },
  {
   "cell_type": "markdown",
   "metadata": {},
   "source": [
    "# Trainer"
   ]
  },
  {
   "cell_type": "markdown",
   "metadata": {},
   "source": [
    "<div class=\"alert alert-info\">\n",
    "\n",
    "Основные параметры `Trainer`:\n",
    "* `accelerator` - если вы хотите тренировать модель на `cpu`, `gpu` или же `tpu`, `hpu` и прочих устройствах\n",
    "* `devices` - кол-во `cpu`, `gpu`. Можно поставить `-1` - будут использоваться все ресурсы\n",
    "* `logger` - Логгер обучения модели. Можно использовать: `WandbLogger`, `MLFlowLogger`, `NeptuneLogger` и прочие. Весь список логгеров можно увидеть здесь: https://pytorch-lightning.readthedocs.io/en/2.2.0/pytorch/api_references.html#loggers\n",
    "* `max_epochs` - Кол-во эпох обучения модели\n",
    "* `max_steps` - Кол-во батчей, которое увидит модель в эпохе\n",
    "* `check_val_every_n_epoch` - Проверять val часть через каждые n эпох обучения\n",
    "* `fast_dev_run` - запускает отладочную эпоху на train и val части, чтобы убедиться все ли исправно работает\n",
    "* `deterministic` - фиксируем seed. Если раньше не делали `seed_everything`! \n",
    "* `callbacks` - одна из основных фишек тренера. Позволяет добавить EarlyStopping к модели за одну строчку! И прочие плюшки\n",
    "\n",
    "Все параметры можно найти здесь: https://pytorch-lightning.readthedocs.io/en/2.2.0/pytorch/common/trainer.html#trainer-class-api"
   ]
  },
  {
   "cell_type": "markdown",
   "metadata": {},
   "source": [
    "## Самый базовый Тренер\n",
    "\n",
    "Хорошо обучит модель, но не даст обратной связи"
   ]
  },
  {
   "cell_type": "code",
   "execution_count": 79,
   "metadata": {},
   "outputs": [
    {
     "name": "stderr",
     "output_type": "stream",
     "text": [
      "GPU available: True (cuda), used: True\n",
      "TPU available: False, using: 0 TPU cores\n",
      "HPU available: False, using: 0 HPUs\n",
      "Running in `fast_dev_run` mode: will run the requested loop using 1 batch(es). Logging and checkpointing is suppressed.\n"
     ]
    }
   ],
   "source": [
    "trainer = Trainer(\n",
    "    accelerator='gpu', # Где обучаем нейронку\n",
    "    devices=cfg.device_count, # Если несколько GPU, TPU\n",
    "    fast_dev_run=True, # Отладочный запуск крайне важен!\n",
    ")"
   ]
  },
  {
   "cell_type": "code",
   "execution_count": 80,
   "metadata": {
    "scrolled": true
   },
   "outputs": [
    {
     "name": "stderr",
     "output_type": "stream",
     "text": [
      "LOCAL_RANK: 0 - CUDA_VISIBLE_DEVICES: [0,1]\n",
      "\n",
      "  | Name                     | Type             | Params | Mode \n",
      "----------------------------------------------------------------------\n",
      "0 | mlp                      | Sequential       | 30.4 K | train\n",
      "1 | regressor                | Sequential       | 65     | train\n",
      "2 | classifier               | Sequential       | 585    | train\n",
      "3 | regression_criterion     | MSELoss          | 0      | train\n",
      "4 | classification_criterion | CrossEntropyLoss | 0      | train\n",
      "----------------------------------------------------------------------\n",
      "31.1 K    Trainable params\n",
      "0         Non-trainable params\n",
      "31.1 K    Total params\n",
      "0.124     Total estimated model params size (MB)\n",
      "14        Modules in train mode\n",
      "0         Modules in eval mode\n"
     ]
    },
    {
     "data": {
      "application/vnd.jupyter.widget-view+json": {
       "model_id": "dfefbe7f31c24bd9bfa3687153fd8727",
       "version_major": 2,
       "version_minor": 0
      },
      "text/plain": [
       "Training: |                                                                                                   …"
      ]
     },
     "metadata": {},
     "output_type": "display_data"
    },
    {
     "data": {
      "application/vnd.jupyter.widget-view+json": {
       "model_id": "09ca3ff2397d4c63b36ab3d35d3ae103",
       "version_major": 2,
       "version_minor": 0
      },
      "text/plain": [
       "Validation: |                                                                                                 …"
      ]
     },
     "metadata": {},
     "output_type": "display_data"
    },
    {
     "name": "stderr",
     "output_type": "stream",
     "text": [
      "/app/storage_local/Course/ml_instruments/.venv/lib/python3.10/site-packages/torch/optim/lr_scheduler.py:240: UserWarning: The epoch parameter in `scheduler.step()` was not necessary and is being deprecated where possible. Please use `scheduler.step()` to step the scheduler. During the deprecation, if epoch is different from None, the closed form is used instead of the new chainable form, where available. Please open an issue if you are unable to replicate your use case: https://github.com/pytorch/pytorch/issues/new/choose.\n",
      "  warnings.warn(EPOCH_DEPRECATION_WARNING, UserWarning)\n",
      "`Trainer.fit` stopped: `max_steps=1` reached.\n"
     ]
    }
   ],
   "source": [
    "trainer.fit(model, datamodule=dataset)"
   ]
  },
  {
   "cell_type": "markdown",
   "metadata": {},
   "source": [
    "<div class=\"alert alert-success\">\n",
    "\n",
    "Модель обучается на train, val части, поэтому можем запускать и \"целиковое\" обучение"
   ]
  },
  {
   "cell_type": "code",
   "execution_count": 81,
   "metadata": {},
   "outputs": [
    {
     "name": "stderr",
     "output_type": "stream",
     "text": [
      "GPU available: True (cuda), used: True\n",
      "TPU available: False, using: 0 TPU cores\n",
      "HPU available: False, using: 0 HPUs\n"
     ]
    }
   ],
   "source": [
    "from lightning.pytorch.callbacks import EarlyStopping, ModelCheckpoint\n",
    "\n",
    "trainer = Trainer(\n",
    "    accelerator='gpu',\n",
    "    devices=cfg.device_count,\n",
    "    max_epochs=cfg.epochs, # Устанавливаем кол-во эпох\n",
    "    log_every_n_steps=10, # Как часто логируем метрики\n",
    "    check_val_every_n_epoch=2, # Запускаем проверку val-части каждые 2 эпохи\n",
    "    # Или можно использвать\n",
    "    # val_check_interval=0.2 \n",
    "\n",
    "    callbacks=[\n",
    "        EarlyStopping( # Подключаем EarlyStopping\n",
    "            monitor='valid/loss', # Какую метрику отлавливаем\n",
    "            patience=3, # Сколько эпох валидации внимательно наблюдаем\n",
    "            verbose=False, # Вывод как улучшается ил ухудшается метрика\n",
    "        ),\n",
    "        ModelCheckpoint( # Сохранение нескольких весов модели\n",
    "            monitor='valid/loss',\n",
    "            dirpath=f\"../models/{cfg.model_name}\", # Сохранение модели\n",
    "            enable_version_counter=True, # Не затираем старые веса!\n",
    "            # auto_insert_metric_name=True, # Сохраняем метрики в названии модели\n",
    "            save_top_k=3 # Сохраняем 3 лучших модели\n",
    "        ),\n",
    "    ]\n",
    ")"
   ]
  },
  {
   "cell_type": "markdown",
   "metadata": {},
   "source": [
    "<div class=\"alert alert-warning\">\n",
    "\n",
    "В этом Trainer мы задали основные параметры по обучению модели и добавили callbacks - еще одна фишка, которая облегчит вам жизнь в несколько тысяч раз!\n",
    "\n",
    "Захотели использовать Early Stopping - импортировали, настроили, добавили в Trainer - больше делать не надо\n",
    "\n",
    "Хотите сохранять 2 лучших модели по определенной метрике и чтобы еще версии сохранялись - в два счета\n",
    "\n",
    "В общем Trainer решает все болячки самописных функций обучения и компанует их в лаконичный класс с удобным интерфейсом"
   ]
  },
  {
   "cell_type": "code",
   "execution_count": 82,
   "metadata": {
    "scrolled": true
   },
   "outputs": [
    {
     "name": "stderr",
     "output_type": "stream",
     "text": [
      "/app/storage_local/Course/ml_instruments/.venv/lib/python3.10/site-packages/lightning/pytorch/callbacks/model_checkpoint.py:654: Checkpoint directory /app/storage_local/Course/ml_instruments/models/Lightning ⚡️ Improved exists and is not empty.\n",
      "LOCAL_RANK: 0 - CUDA_VISIBLE_DEVICES: [0,1]\n",
      "\n",
      "  | Name                     | Type             | Params | Mode \n",
      "----------------------------------------------------------------------\n",
      "0 | mlp                      | Sequential       | 30.4 K | train\n",
      "1 | regressor                | Sequential       | 65     | train\n",
      "2 | classifier               | Sequential       | 585    | train\n",
      "3 | regression_criterion     | MSELoss          | 0      | train\n",
      "4 | classification_criterion | CrossEntropyLoss | 0      | train\n",
      "----------------------------------------------------------------------\n",
      "31.1 K    Trainable params\n",
      "0         Non-trainable params\n",
      "31.1 K    Total params\n",
      "0.124     Total estimated model params size (MB)\n",
      "14        Modules in train mode\n",
      "0         Modules in eval mode\n"
     ]
    },
    {
     "data": {
      "application/vnd.jupyter.widget-view+json": {
       "model_id": "71cee69e4f9e4b31b2ee44fe8c356573",
       "version_major": 2,
       "version_minor": 0
      },
      "text/plain": [
       "Sanity Checking: |                                                                                            …"
      ]
     },
     "metadata": {},
     "output_type": "display_data"
    },
    {
     "data": {
      "application/vnd.jupyter.widget-view+json": {
       "model_id": "2dbce897e0f24d5a9f0d1c987e818667",
       "version_major": 2,
       "version_minor": 0
      },
      "text/plain": [
       "Training: |                                                                                                   …"
      ]
     },
     "metadata": {},
     "output_type": "display_data"
    },
    {
     "data": {
      "application/vnd.jupyter.widget-view+json": {
       "model_id": "e80d95ab2f224cfcb7ac6012a43c6d22",
       "version_major": 2,
       "version_minor": 0
      },
      "text/plain": [
       "Validation: |                                                                                                 …"
      ]
     },
     "metadata": {},
     "output_type": "display_data"
    },
    {
     "data": {
      "application/vnd.jupyter.widget-view+json": {
       "model_id": "c51cfd1ea8b54ff58858c61cbb3da3e7",
       "version_major": 2,
       "version_minor": 0
      },
      "text/plain": [
       "Validation: |                                                                                                 …"
      ]
     },
     "metadata": {},
     "output_type": "display_data"
    },
    {
     "data": {
      "application/vnd.jupyter.widget-view+json": {
       "model_id": "48aa0c9765504fa29b88c39742112faa",
       "version_major": 2,
       "version_minor": 0
      },
      "text/plain": [
       "Validation: |                                                                                                 …"
      ]
     },
     "metadata": {},
     "output_type": "display_data"
    },
    {
     "data": {
      "application/vnd.jupyter.widget-view+json": {
       "model_id": "ae991d68c9e447babdf9b27c2a266e34",
       "version_major": 2,
       "version_minor": 0
      },
      "text/plain": [
       "Validation: |                                                                                                 …"
      ]
     },
     "metadata": {},
     "output_type": "display_data"
    },
    {
     "data": {
      "application/vnd.jupyter.widget-view+json": {
       "model_id": "debcd31a784d42f38e7da3cd139bf2e7",
       "version_major": 2,
       "version_minor": 0
      },
      "text/plain": [
       "Validation: |                                                                                                 …"
      ]
     },
     "metadata": {},
     "output_type": "display_data"
    },
    {
     "data": {
      "application/vnd.jupyter.widget-view+json": {
       "model_id": "d2fdae8b0f074d24afdc7c496023611c",
       "version_major": 2,
       "version_minor": 0
      },
      "text/plain": [
       "Validation: |                                                                                                 …"
      ]
     },
     "metadata": {},
     "output_type": "display_data"
    },
    {
     "data": {
      "application/vnd.jupyter.widget-view+json": {
       "model_id": "caae7d391f31409aa49ffa65dd6a3de5",
       "version_major": 2,
       "version_minor": 0
      },
      "text/plain": [
       "Validation: |                                                                                                 …"
      ]
     },
     "metadata": {},
     "output_type": "display_data"
    },
    {
     "data": {
      "application/vnd.jupyter.widget-view+json": {
       "model_id": "4a18bc48994d4bee9c2cbccc666f7e01",
       "version_major": 2,
       "version_minor": 0
      },
      "text/plain": [
       "Validation: |                                                                                                 …"
      ]
     },
     "metadata": {},
     "output_type": "display_data"
    },
    {
     "data": {
      "application/vnd.jupyter.widget-view+json": {
       "model_id": "6e9aeed70b6644a9a0c496714c0bca34",
       "version_major": 2,
       "version_minor": 0
      },
      "text/plain": [
       "Validation: |                                                                                                 …"
      ]
     },
     "metadata": {},
     "output_type": "display_data"
    },
    {
     "data": {
      "application/vnd.jupyter.widget-view+json": {
       "model_id": "da0e88dd66264cd4a51e71b69746009f",
       "version_major": 2,
       "version_minor": 0
      },
      "text/plain": [
       "Validation: |                                                                                                 …"
      ]
     },
     "metadata": {},
     "output_type": "display_data"
    },
    {
     "name": "stderr",
     "output_type": "stream",
     "text": [
      "`Trainer.fit` stopped: `max_epochs=20` reached.\n"
     ]
    }
   ],
   "source": [
    "trainer.fit(model, datamodule=dataset)"
   ]
  },
  {
   "cell_type": "markdown",
   "metadata": {},
   "source": [
    "<div class=\"alert alert-info\">\n",
    "\n",
    "Существует огромное количество самых разнообразных callback'ов в [Lightning](https://pytorch-lightning.readthedocs.io/en/2.2.0/pytorch/api_references.html#callbacks): \n",
    "\n",
    "Но если вы не нашли нужный модуль (что у вас за задача?! 🤯), то всегда можете написать нужный, отнаследовавшись от [данного класса](https://pytorch-lightning.readthedocs.io/en/2.2.0/pytorch/api/lightning.pytorch.callbacks.Callback.html#lightning.pytorch.callbacks.Callback)"
   ]
  },
  {
   "cell_type": "markdown",
   "metadata": {},
   "source": [
    "# Torchmetrics"
   ]
  },
  {
   "cell_type": "markdown",
   "metadata": {},
   "source": [
    "<p align=\"center\">\n",
    "  <img src=\"https://pypi-camo.freetls.fastly.net/cb0193441c6c9630fed5323fd6c1fa4146ca9ae2/68747470733a2f2f6769746875622e636f6d2f4c696768746e696e672d41492f746f7263686d6574726963732f7261772f76312e362e312f646f63732f736f757263652f5f7374617469632f696d616765732f6c6f676f2e706e67\" />\n",
    "</p>\n"
   ]
  },
  {
   "cell_type": "markdown",
   "metadata": {},
   "source": [
    "`Torchmetrics` - фреймворк, внутри которого есть практически все необходимые метрики для работы с ИИ. Также отлично интегрирован для работы с `Lightning` 😉\n",
    "\n",
    "Но давайте сначала посмотрим, как использовать этот инструмент отдельно"
   ]
  },
  {
   "cell_type": "code",
   "execution_count": 83,
   "metadata": {},
   "outputs": [],
   "source": [
    "%%capture\n",
    "\n",
    "!pip install torchmetrics"
   ]
  },
  {
   "cell_type": "markdown",
   "metadata": {},
   "source": [
    "<div class=\"alert alert-info\">\n",
    "\n",
    "Существует два вида API:\n",
    "* Функциональный вызов (как в sklearn). Все метрики лежат в `torchmetrics.functional`\n",
    "* Класс с методами. Метрики лежать в `torchmetrics` и название метрики\n",
    "\n",
    "Весь список метрик можно увидеть здесь: https://torchmetrics.readthedocs.io/en/v1.3.0/all-metrics.html\n",
    "\n",
    "Для каждой задачи удобен каждый метод, но мы сделаем упор на ООП-подходе"
   ]
  },
  {
   "cell_type": "code",
   "execution_count": 84,
   "metadata": {},
   "outputs": [],
   "source": [
    "import torchmetrics as tm"
   ]
  },
  {
   "cell_type": "markdown",
   "metadata": {},
   "source": [
    "## Функциональный подход"
   ]
  },
  {
   "cell_type": "code",
   "execution_count": 85,
   "metadata": {},
   "outputs": [],
   "source": [
    "y_true = torch.tensor([0, 1, 2, 1, 0])  # истинные метки\n",
    "y_pred = torch.tensor([0, 2, 1, 1, 0])  # предсказания"
   ]
  },
  {
   "cell_type": "code",
   "execution_count": 86,
   "metadata": {},
   "outputs": [
    {
     "data": {
      "text/plain": [
       "0.6000000238418579"
      ]
     },
     "execution_count": 86,
     "metadata": {},
     "output_type": "execute_result"
    }
   ],
   "source": [
    "accuracy = tm.functional.accuracy(y_pred, y_true, task=\"multiclass\", num_classes=5)\n",
    "accuracy.item()"
   ]
  },
  {
   "cell_type": "markdown",
   "metadata": {},
   "source": [
    "## Классовый подход"
   ]
  },
  {
   "cell_type": "code",
   "execution_count": 87,
   "metadata": {},
   "outputs": [],
   "source": [
    "accuracy = tm.Accuracy(task=\"multiclass\", num_classes=5) # Задаем задачу (если необходимо) и количество классов (если необходимо)"
   ]
  },
  {
   "cell_type": "code",
   "execution_count": 88,
   "metadata": {},
   "outputs": [
    {
     "data": {
      "text/plain": [
       "0.6000000238418579"
      ]
     },
     "execution_count": 88,
     "metadata": {},
     "output_type": "execute_result"
    }
   ],
   "source": [
    "accuracy(y_pred, y_true).item()"
   ]
  },
  {
   "cell_type": "markdown",
   "metadata": {},
   "source": [
    "<div class=\"alert alert-info\">\n",
    "\n",
    "Главная фича возможность использовать аккумулятивное накопление метрики. То есть при обучении по batch'ам можно вычислять метрику по всей эпохе не заморачиваясь с ее накоплением и обнулением - Torchmetrics все сделате за вас!"
   ]
  },
  {
   "cell_type": "code",
   "execution_count": 89,
   "metadata": {},
   "outputs": [],
   "source": [
    "fbeta = tm.FBetaScore(task=\"multiclass\", num_classes=3, beta=0.25)"
   ]
  },
  {
   "cell_type": "code",
   "execution_count": 90,
   "metadata": {},
   "outputs": [
    {
     "name": "stdout",
     "output_type": "stream",
     "text": [
      "0.3333333432674408\n",
      "0.3333333432674408\n",
      "0.6666666865348816\n",
      "0.3333333432674408\n",
      "0.3333333432674408\n",
      "0.0\n",
      "0.6666666865348816\n",
      "0.3333333432674408\n",
      "0.0\n",
      "0.3333333432674408\n",
      "Средняя метрика: 0.3333333432674408\n"
     ]
    }
   ],
   "source": [
    "for _ in range(10):\n",
    "    y_pred = torch.randint(1, 5, (3,))\n",
    "    y_true = torch.randint(1, 5, (3,))\n",
    "\n",
    "    metric = fbeta(y_true, y_pred)\n",
    "    print(metric.item())\n",
    "\n",
    "print(f\"Средняя метрика: {fbeta.compute()}\")\n",
    "fbeta.reset() # Обнуляем накопившуюся метрику"
   ]
  },
  {
   "cell_type": "markdown",
   "metadata": {},
   "source": [
    "<div class=\"alert alert-info\">\n",
    "\n",
    "Также есть возможность автоматической отрисовки графиков обучения, если вам необходимо это сделать 🤗"
   ]
  },
  {
   "cell_type": "code",
   "execution_count": 91,
   "metadata": {},
   "outputs": [],
   "source": [
    "values = [ ]\n",
    "for step in range(10):\n",
    "    y_true = torch.randint(1, 5, (3,))\n",
    "    for _ in range(5):\n",
    "        y_pred = torch.randint(1, 5, (3,))\n",
    "        fbeta.update(y_pred, y_true)\n",
    "    values.append(fbeta.compute())  # Сохраняем метрику по \"эпохе\"\n",
    "    fbeta.reset()\n",
    "fig, ax = fbeta.plot(values) # Подаем метрики, которые сохранили списком"
   ]
  },
  {
   "cell_type": "markdown",
   "metadata": {},
   "source": [
    "Быстрее к практике!\n",
    "\n",
    "Давайте посмотрим, как можно использовать TorchMetrics в PyTorch Lightning"
   ]
  },
  {
   "cell_type": "markdown",
   "metadata": {},
   "source": [
    "<div class=\"alert alert-info\">\n",
    "\n",
    "Torchmetrics идеально клеится c PyTorch Lightning. Если вы используете их вместе, то вам надо сделать:\n",
    "* Добавить ДВЕ метрики (одна - train, вторая - valid) в поле класса модели\n",
    "* В функции `training_step` вызвать `self.train_metric(preds, target)`, а затем `self.log(\"train/metric\", self.train_metric, on_step=True, on_epoch=False)`\n",
    "* В функции `validation_step` делаем все аналогично"
   ]
  },
  {
   "cell_type": "markdown",
   "metadata": {},
   "source": [
    "То есть модель должна выглядеть примерно так:\n",
    "\n",
    "```python\n",
    "class SuperPuperModel(L.LightningModule):\n",
    "    def __init__(self, ..., num_classes):\n",
    "        ...\n",
    "        self.train_metric = tm.AUROC(task=\"multiclass\", num_classes=num_classes)\n",
    "        self.valid_metric = tm.AUROC(task=\"multiclass\", num_classes=num_classes)\n",
    "\n",
    "    def training_step(self, batch, batch_idx):\n",
    "        x, y = batch\n",
    "        preds = self(x)\n",
    "        ...\n",
    "        self.train_metric(preds, y)\n",
    "        self.log('train/roc', self.train_metric, on_step=True, on_epoch=False)\n",
    "\n",
    "    def validation_step(self, batch, batch_idx):\n",
    "        logits = self(x)\n",
    "        ...\n",
    "        self.valid_acc(logits, y)\n",
    "        self.log('valid/roc', self.valid_metric, on_step=True, on_epoch=True)\n",
    "```"
   ]
  },
  {
   "cell_type": "markdown",
   "metadata": {},
   "source": [
    "Давайте опробуем Torchmetrics на деле!"
   ]
  },
  {
   "cell_type": "markdown",
   "metadata": {},
   "source": [
    "Отнаследуемся уже от нашей модели, чтобы не писать код 10 раз"
   ]
  },
  {
   "cell_type": "code",
   "execution_count": 92,
   "metadata": {},
   "outputs": [],
   "source": [
    "class SuperPuperModel(LightningModel):\n",
    "    def __init__(self, cfg: CFG):\n",
    "        super().__init__(cfg)\n",
    "\n",
    "        self.train_metric_reg = tm.MeanAbsoluteError()\n",
    "        self.train_metric_cls = tm.HingeLoss(task=\"multiclass\", num_classes=cfg.num_tar_class)\n",
    "        self.valid_metric_reg = tm.MeanAbsoluteError()\n",
    "        self.valid_metric_cls = tm.HingeLoss(task=\"multiclass\", num_classes=cfg.num_tar_class)\n",
    "    \n",
    "    def basic_step(self, batch, batch_idx, step: str):\n",
    "        data, reg_target, cls_target = batch\n",
    "\n",
    "        pred_reg, pred_cls = self(data)\n",
    "\n",
    "        # Обновляем метрики\n",
    "        if step == \"train\":\n",
    "            reg_metric = self.train_metric_reg(pred_reg, reg_target)\n",
    "            cls_metric = self.train_metric_cls(pred_cls, cls_target)\n",
    "        elif step == \"valid\":\n",
    "            reg_metric = self.valid_metric_reg(pred_reg, reg_target)\n",
    "            cls_metric = self.valid_metric_cls(pred_cls, cls_target)\n",
    "\n",
    "        return {\n",
    "            f\"{step}/loss\": reg_metric + cls_metric,\n",
    "            f\"{step}/reg_loss\": reg_metric,\n",
    "            f\"{step}/reg_class\": cls_metric    \n",
    "        }       "
   ]
  },
  {
   "cell_type": "code",
   "execution_count": 93,
   "metadata": {},
   "outputs": [
    {
     "data": {
      "text/plain": [
       "SuperPuperModel(\n",
       "  (mlp): Sequential(\n",
       "    (0): Linear(in_features=43, out_features=128, bias=True)\n",
       "    (1): Dropout(p=0.1, inplace=False)\n",
       "    (2): LeakyReLU(negative_slope=0.01)\n",
       "    (3): Linear(in_features=128, out_features=128, bias=True)\n",
       "    (4): Dropout(p=0.1, inplace=False)\n",
       "    (5): GELU(approximate='none')\n",
       "    (6): Linear(in_features=128, out_features=64, bias=True)\n",
       "  )\n",
       "  (regressor): Sequential(\n",
       "    (0): Linear(in_features=64, out_features=1, bias=True)\n",
       "  )\n",
       "  (classifier): Sequential(\n",
       "    (0): Linear(in_features=64, out_features=9, bias=True)\n",
       "  )\n",
       "  (regression_criterion): MSELoss()\n",
       "  (classification_criterion): CrossEntropyLoss()\n",
       "  (train_metric_reg): MeanAbsoluteError()\n",
       "  (train_metric_cls): MulticlassHingeLoss()\n",
       "  (valid_metric_reg): MeanAbsoluteError()\n",
       "  (valid_metric_cls): MulticlassHingeLoss()\n",
       ")"
      ]
     },
     "execution_count": 93,
     "metadata": {},
     "output_type": "execute_result"
    }
   ],
   "source": [
    "model = SuperPuperModel(cfg)\n",
    "model"
   ]
  },
  {
   "cell_type": "code",
   "execution_count": 94,
   "metadata": {},
   "outputs": [
    {
     "data": {
      "image/svg+xml": [
       "<?xml version=\"1.0\" encoding=\"UTF-8\" standalone=\"no\"?>\n",
       "<!DOCTYPE svg PUBLIC \"-//W3C//DTD SVG 1.1//EN\"\n",
       " \"http://www.w3.org/Graphics/SVG/1.1/DTD/svg11.dtd\">\n",
       "<!-- Generated by graphviz version 2.43.0 (0)\n",
       " -->\n",
       "<!-- Title: model Pages: 1 -->\n",
       "<svg width=\"348pt\" height=\"820pt\"\n",
       " viewBox=\"0.00 0.00 348.00 820.00\" xmlns=\"http://www.w3.org/2000/svg\" xmlns:xlink=\"http://www.w3.org/1999/xlink\">\n",
       "<g id=\"graph0\" class=\"graph\" transform=\"scale(1 1) rotate(0) translate(4 816)\">\n",
       "<title>model</title>\n",
       "<polygon fill=\"white\" stroke=\"transparent\" points=\"-4,4 -4,-816 344,-816 344,4 -4,4\"/>\n",
       "<g id=\"clust1\" class=\"cluster\">\n",
       "<title>cluster_2</title>\n",
       "<polygon fill=\"none\" stroke=\"black\" stroke-dasharray=\"5,2\" points=\"81,-225 81,-772 255,-772 255,-225 81,-225\"/>\n",
       "<text text-anchor=\"middle\" x=\"114\" y=\"-758.4\" font-family=\"Times,serif\" font-size=\"12.00\">Sequential</text>\n",
       "</g>\n",
       "<g id=\"clust2\" class=\"cluster\">\n",
       "<title>cluster_3</title>\n",
       "<polygon fill=\"none\" stroke=\"black\" stroke-dasharray=\"5,2\" points=\"174,-138 174,-217 332,-217 332,-138 174,-138\"/>\n",
       "<text text-anchor=\"middle\" x=\"207\" y=\"-203.4\" font-family=\"Times,serif\" font-size=\"12.00\">Sequential</text>\n",
       "</g>\n",
       "<g id=\"clust3\" class=\"cluster\">\n",
       "<title>cluster_4</title>\n",
       "<polygon fill=\"none\" stroke=\"black\" stroke-dasharray=\"5,2\" points=\"8,-65 8,-217 166,-217 166,-65 8,-65\"/>\n",
       "<text text-anchor=\"middle\" x=\"41\" y=\"-203.4\" font-family=\"Times,serif\" font-size=\"12.00\">Sequential</text>\n",
       "</g>\n",
       "<!-- 0 -->\n",
       "<g id=\"node1\" class=\"node\">\n",
       "<title>0</title>\n",
       "<polygon fill=\"lightyellow\" stroke=\"transparent\" points=\"223.5,-812 112.5,-812 112.5,-780 223.5,-780 223.5,-812\"/>\n",
       "<polygon fill=\"none\" stroke=\"black\" points=\"113,-780 113,-812 187,-812 187,-780 113,-780\"/>\n",
       "<text text-anchor=\"start\" x=\"118\" y=\"-799\" font-family=\"Linux libertine\" font-size=\"10.00\">input&#45;tensor</text>\n",
       "<text text-anchor=\"start\" x=\"131.5\" y=\"-788\" font-family=\"Linux libertine\" font-size=\"10.00\">depth:0</text>\n",
       "<polygon fill=\"none\" stroke=\"black\" points=\"187,-780 187,-812 224,-812 224,-780 187,-780\"/>\n",
       "<text text-anchor=\"start\" x=\"192\" y=\"-793.5\" font-family=\"Linux libertine\" font-size=\"10.00\">(43,)</text>\n",
       "</g>\n",
       "<!-- 1 -->\n",
       "<g id=\"node2\" class=\"node\">\n",
       "<title>1</title>\n",
       "<polygon fill=\"#c1ffc1\" stroke=\"transparent\" points=\"241.5,-743 94.5,-743 94.5,-701 241.5,-701 241.5,-743\"/>\n",
       "<polygon fill=\"none\" stroke=\"black\" points=\"95,-701 95,-743 142,-743 142,-701 95,-701\"/>\n",
       "<text text-anchor=\"start\" x=\"102.5\" y=\"-725\" font-family=\"Linux libertine\" font-size=\"10.00\">Linear</text>\n",
       "<text text-anchor=\"start\" x=\"100\" y=\"-714\" font-family=\"Linux libertine\" font-size=\"10.00\">depth:2</text>\n",
       "<polygon fill=\"none\" stroke=\"black\" points=\"142,-722 142,-743 195,-743 195,-722 142,-722\"/>\n",
       "<text text-anchor=\"start\" x=\"152.5\" y=\"-730\" font-family=\"Linux libertine\" font-size=\"10.00\">input:</text>\n",
       "<polygon fill=\"none\" stroke=\"black\" points=\"195,-722 195,-743 242,-743 242,-722 195,-722\"/>\n",
       "<text text-anchor=\"start\" x=\"202.5\" y=\"-730\" font-family=\"Linux libertine\" font-size=\"10.00\">(43,) </text>\n",
       "<polygon fill=\"none\" stroke=\"black\" points=\"142,-701 142,-722 195,-722 195,-701 142,-701\"/>\n",
       "<text text-anchor=\"start\" x=\"147\" y=\"-709\" font-family=\"Linux libertine\" font-size=\"10.00\">output: </text>\n",
       "<polygon fill=\"none\" stroke=\"black\" points=\"195,-701 195,-722 242,-722 242,-701 195,-701\"/>\n",
       "<text text-anchor=\"start\" x=\"200\" y=\"-709\" font-family=\"Linux libertine\" font-size=\"10.00\">(128,) </text>\n",
       "</g>\n",
       "<!-- 0&#45;&gt;1 -->\n",
       "<g id=\"edge1\" class=\"edge\">\n",
       "<title>0&#45;&gt;1</title>\n",
       "<path fill=\"none\" stroke=\"black\" d=\"M168,-779.73C168,-772.08 168,-762.52 168,-753.45\"/>\n",
       "<polygon fill=\"black\" stroke=\"black\" points=\"171.5,-753.17 168,-743.17 164.5,-753.17 171.5,-753.17\"/>\n",
       "</g>\n",
       "<!-- 2 -->\n",
       "<g id=\"node3\" class=\"node\">\n",
       "<title>2</title>\n",
       "<polygon fill=\"#c1ffc1\" stroke=\"transparent\" points=\"241.5,-665 94.5,-665 94.5,-623 241.5,-623 241.5,-665\"/>\n",
       "<polygon fill=\"none\" stroke=\"black\" points=\"95,-623 95,-665 142,-665 142,-623 95,-623\"/>\n",
       "<text text-anchor=\"start\" x=\"100\" y=\"-647\" font-family=\"Linux libertine\" font-size=\"10.00\">Dropout</text>\n",
       "<text text-anchor=\"start\" x=\"100\" y=\"-636\" font-family=\"Linux libertine\" font-size=\"10.00\">depth:2</text>\n",
       "<polygon fill=\"none\" stroke=\"black\" points=\"142,-644 142,-665 195,-665 195,-644 142,-644\"/>\n",
       "<text text-anchor=\"start\" x=\"152.5\" y=\"-652\" font-family=\"Linux libertine\" font-size=\"10.00\">input:</text>\n",
       "<polygon fill=\"none\" stroke=\"black\" points=\"195,-644 195,-665 242,-665 242,-644 195,-644\"/>\n",
       "<text text-anchor=\"start\" x=\"200\" y=\"-652\" font-family=\"Linux libertine\" font-size=\"10.00\">(128,) </text>\n",
       "<polygon fill=\"none\" stroke=\"black\" points=\"142,-623 142,-644 195,-644 195,-623 142,-623\"/>\n",
       "<text text-anchor=\"start\" x=\"147\" y=\"-631\" font-family=\"Linux libertine\" font-size=\"10.00\">output: </text>\n",
       "<polygon fill=\"none\" stroke=\"black\" points=\"195,-623 195,-644 242,-644 242,-623 195,-623\"/>\n",
       "<text text-anchor=\"start\" x=\"200\" y=\"-631\" font-family=\"Linux libertine\" font-size=\"10.00\">(128,) </text>\n",
       "</g>\n",
       "<!-- 1&#45;&gt;2 -->\n",
       "<g id=\"edge2\" class=\"edge\">\n",
       "<title>1&#45;&gt;2</title>\n",
       "<path fill=\"none\" stroke=\"black\" d=\"M168,-700.63C168,-692.82 168,-683.73 168,-675.18\"/>\n",
       "<polygon fill=\"black\" stroke=\"black\" points=\"171.5,-675.16 168,-665.16 164.5,-675.16 171.5,-675.16\"/>\n",
       "</g>\n",
       "<!-- 3 -->\n",
       "<g id=\"node4\" class=\"node\">\n",
       "<title>3</title>\n",
       "<polygon fill=\"#c1ffc1\" stroke=\"transparent\" points=\"247,-587 89,-587 89,-545 247,-545 247,-587\"/>\n",
       "<polygon fill=\"none\" stroke=\"black\" points=\"89,-545 89,-587 147,-587 147,-545 89,-545\"/>\n",
       "<text text-anchor=\"start\" x=\"94\" y=\"-569\" font-family=\"Linux libertine\" font-size=\"10.00\">LeakyReLU</text>\n",
       "<text text-anchor=\"start\" x=\"99.5\" y=\"-558\" font-family=\"Linux libertine\" font-size=\"10.00\">depth:2</text>\n",
       "<polygon fill=\"none\" stroke=\"black\" points=\"147,-566 147,-587 200,-587 200,-566 147,-566\"/>\n",
       "<text text-anchor=\"start\" x=\"157.5\" y=\"-574\" font-family=\"Linux libertine\" font-size=\"10.00\">input:</text>\n",
       "<polygon fill=\"none\" stroke=\"black\" points=\"200,-566 200,-587 247,-587 247,-566 200,-566\"/>\n",
       "<text text-anchor=\"start\" x=\"205\" y=\"-574\" font-family=\"Linux libertine\" font-size=\"10.00\">(128,) </text>\n",
       "<polygon fill=\"none\" stroke=\"black\" points=\"147,-545 147,-566 200,-566 200,-545 147,-545\"/>\n",
       "<text text-anchor=\"start\" x=\"152\" y=\"-553\" font-family=\"Linux libertine\" font-size=\"10.00\">output: </text>\n",
       "<polygon fill=\"none\" stroke=\"black\" points=\"200,-545 200,-566 247,-566 247,-545 200,-545\"/>\n",
       "<text text-anchor=\"start\" x=\"205\" y=\"-553\" font-family=\"Linux libertine\" font-size=\"10.00\">(128,) </text>\n",
       "</g>\n",
       "<!-- 2&#45;&gt;3 -->\n",
       "<g id=\"edge3\" class=\"edge\">\n",
       "<title>2&#45;&gt;3</title>\n",
       "<path fill=\"none\" stroke=\"black\" d=\"M168,-622.63C168,-614.82 168,-605.73 168,-597.18\"/>\n",
       "<polygon fill=\"black\" stroke=\"black\" points=\"171.5,-597.16 168,-587.16 164.5,-597.16 171.5,-597.16\"/>\n",
       "</g>\n",
       "<!-- 4 -->\n",
       "<g id=\"node5\" class=\"node\">\n",
       "<title>4</title>\n",
       "<polygon fill=\"#c1ffc1\" stroke=\"transparent\" points=\"241.5,-509 94.5,-509 94.5,-467 241.5,-467 241.5,-509\"/>\n",
       "<polygon fill=\"none\" stroke=\"black\" points=\"95,-467 95,-509 142,-509 142,-467 95,-467\"/>\n",
       "<text text-anchor=\"start\" x=\"102.5\" y=\"-491\" font-family=\"Linux libertine\" font-size=\"10.00\">Linear</text>\n",
       "<text text-anchor=\"start\" x=\"100\" y=\"-480\" font-family=\"Linux libertine\" font-size=\"10.00\">depth:2</text>\n",
       "<polygon fill=\"none\" stroke=\"black\" points=\"142,-488 142,-509 195,-509 195,-488 142,-488\"/>\n",
       "<text text-anchor=\"start\" x=\"152.5\" y=\"-496\" font-family=\"Linux libertine\" font-size=\"10.00\">input:</text>\n",
       "<polygon fill=\"none\" stroke=\"black\" points=\"195,-488 195,-509 242,-509 242,-488 195,-488\"/>\n",
       "<text text-anchor=\"start\" x=\"200\" y=\"-496\" font-family=\"Linux libertine\" font-size=\"10.00\">(128,) </text>\n",
       "<polygon fill=\"none\" stroke=\"black\" points=\"142,-467 142,-488 195,-488 195,-467 142,-467\"/>\n",
       "<text text-anchor=\"start\" x=\"147\" y=\"-475\" font-family=\"Linux libertine\" font-size=\"10.00\">output: </text>\n",
       "<polygon fill=\"none\" stroke=\"black\" points=\"195,-467 195,-488 242,-488 242,-467 195,-467\"/>\n",
       "<text text-anchor=\"start\" x=\"200\" y=\"-475\" font-family=\"Linux libertine\" font-size=\"10.00\">(128,) </text>\n",
       "</g>\n",
       "<!-- 3&#45;&gt;4 -->\n",
       "<g id=\"edge4\" class=\"edge\">\n",
       "<title>3&#45;&gt;4</title>\n",
       "<path fill=\"none\" stroke=\"black\" d=\"M168,-544.63C168,-536.82 168,-527.73 168,-519.18\"/>\n",
       "<polygon fill=\"black\" stroke=\"black\" points=\"171.5,-519.16 168,-509.16 164.5,-519.16 171.5,-519.16\"/>\n",
       "</g>\n",
       "<!-- 5 -->\n",
       "<g id=\"node6\" class=\"node\">\n",
       "<title>5</title>\n",
       "<polygon fill=\"#c1ffc1\" stroke=\"transparent\" points=\"241.5,-431 94.5,-431 94.5,-389 241.5,-389 241.5,-431\"/>\n",
       "<polygon fill=\"none\" stroke=\"black\" points=\"95,-389 95,-431 142,-431 142,-389 95,-389\"/>\n",
       "<text text-anchor=\"start\" x=\"100\" y=\"-413\" font-family=\"Linux libertine\" font-size=\"10.00\">Dropout</text>\n",
       "<text text-anchor=\"start\" x=\"100\" y=\"-402\" font-family=\"Linux libertine\" font-size=\"10.00\">depth:2</text>\n",
       "<polygon fill=\"none\" stroke=\"black\" points=\"142,-410 142,-431 195,-431 195,-410 142,-410\"/>\n",
       "<text text-anchor=\"start\" x=\"152.5\" y=\"-418\" font-family=\"Linux libertine\" font-size=\"10.00\">input:</text>\n",
       "<polygon fill=\"none\" stroke=\"black\" points=\"195,-410 195,-431 242,-431 242,-410 195,-410\"/>\n",
       "<text text-anchor=\"start\" x=\"200\" y=\"-418\" font-family=\"Linux libertine\" font-size=\"10.00\">(128,) </text>\n",
       "<polygon fill=\"none\" stroke=\"black\" points=\"142,-389 142,-410 195,-410 195,-389 142,-389\"/>\n",
       "<text text-anchor=\"start\" x=\"147\" y=\"-397\" font-family=\"Linux libertine\" font-size=\"10.00\">output: </text>\n",
       "<polygon fill=\"none\" stroke=\"black\" points=\"195,-389 195,-410 242,-410 242,-389 195,-389\"/>\n",
       "<text text-anchor=\"start\" x=\"200\" y=\"-397\" font-family=\"Linux libertine\" font-size=\"10.00\">(128,) </text>\n",
       "</g>\n",
       "<!-- 4&#45;&gt;5 -->\n",
       "<g id=\"edge5\" class=\"edge\">\n",
       "<title>4&#45;&gt;5</title>\n",
       "<path fill=\"none\" stroke=\"black\" d=\"M168,-466.63C168,-458.82 168,-449.73 168,-441.18\"/>\n",
       "<polygon fill=\"black\" stroke=\"black\" points=\"171.5,-441.16 168,-431.16 164.5,-441.16 171.5,-441.16\"/>\n",
       "</g>\n",
       "<!-- 6 -->\n",
       "<g id=\"node7\" class=\"node\">\n",
       "<title>6</title>\n",
       "<polygon fill=\"#c1ffc1\" stroke=\"transparent\" points=\"241.5,-353 94.5,-353 94.5,-311 241.5,-311 241.5,-353\"/>\n",
       "<polygon fill=\"none\" stroke=\"black\" points=\"95,-311 95,-353 142,-353 142,-311 95,-311\"/>\n",
       "<text text-anchor=\"start\" x=\"107.5\" y=\"-335\" font-family=\"Linux libertine\" font-size=\"10.00\">GELU</text>\n",
       "<text text-anchor=\"start\" x=\"100\" y=\"-324\" font-family=\"Linux libertine\" font-size=\"10.00\">depth:2</text>\n",
       "<polygon fill=\"none\" stroke=\"black\" points=\"142,-332 142,-353 195,-353 195,-332 142,-332\"/>\n",
       "<text text-anchor=\"start\" x=\"152.5\" y=\"-340\" font-family=\"Linux libertine\" font-size=\"10.00\">input:</text>\n",
       "<polygon fill=\"none\" stroke=\"black\" points=\"195,-332 195,-353 242,-353 242,-332 195,-332\"/>\n",
       "<text text-anchor=\"start\" x=\"200\" y=\"-340\" font-family=\"Linux libertine\" font-size=\"10.00\">(128,) </text>\n",
       "<polygon fill=\"none\" stroke=\"black\" points=\"142,-311 142,-332 195,-332 195,-311 142,-311\"/>\n",
       "<text text-anchor=\"start\" x=\"147\" y=\"-319\" font-family=\"Linux libertine\" font-size=\"10.00\">output: </text>\n",
       "<polygon fill=\"none\" stroke=\"black\" points=\"195,-311 195,-332 242,-332 242,-311 195,-311\"/>\n",
       "<text text-anchor=\"start\" x=\"200\" y=\"-319\" font-family=\"Linux libertine\" font-size=\"10.00\">(128,) </text>\n",
       "</g>\n",
       "<!-- 5&#45;&gt;6 -->\n",
       "<g id=\"edge6\" class=\"edge\">\n",
       "<title>5&#45;&gt;6</title>\n",
       "<path fill=\"none\" stroke=\"black\" d=\"M168,-388.63C168,-380.82 168,-371.73 168,-363.18\"/>\n",
       "<polygon fill=\"black\" stroke=\"black\" points=\"171.5,-363.16 168,-353.16 164.5,-363.16 171.5,-363.16\"/>\n",
       "</g>\n",
       "<!-- 7 -->\n",
       "<g id=\"node8\" class=\"node\">\n",
       "<title>7</title>\n",
       "<polygon fill=\"#c1ffc1\" stroke=\"transparent\" points=\"241.5,-275 94.5,-275 94.5,-233 241.5,-233 241.5,-275\"/>\n",
       "<polygon fill=\"none\" stroke=\"black\" points=\"95,-233 95,-275 142,-275 142,-233 95,-233\"/>\n",
       "<text text-anchor=\"start\" x=\"102.5\" y=\"-257\" font-family=\"Linux libertine\" font-size=\"10.00\">Linear</text>\n",
       "<text text-anchor=\"start\" x=\"100\" y=\"-246\" font-family=\"Linux libertine\" font-size=\"10.00\">depth:2</text>\n",
       "<polygon fill=\"none\" stroke=\"black\" points=\"142,-254 142,-275 195,-275 195,-254 142,-254\"/>\n",
       "<text text-anchor=\"start\" x=\"152.5\" y=\"-262\" font-family=\"Linux libertine\" font-size=\"10.00\">input:</text>\n",
       "<polygon fill=\"none\" stroke=\"black\" points=\"195,-254 195,-275 242,-275 242,-254 195,-254\"/>\n",
       "<text text-anchor=\"start\" x=\"200\" y=\"-262\" font-family=\"Linux libertine\" font-size=\"10.00\">(128,) </text>\n",
       "<polygon fill=\"none\" stroke=\"black\" points=\"142,-233 142,-254 195,-254 195,-233 142,-233\"/>\n",
       "<text text-anchor=\"start\" x=\"147\" y=\"-241\" font-family=\"Linux libertine\" font-size=\"10.00\">output: </text>\n",
       "<polygon fill=\"none\" stroke=\"black\" points=\"195,-233 195,-254 242,-254 242,-233 195,-233\"/>\n",
       "<text text-anchor=\"start\" x=\"202.5\" y=\"-241\" font-family=\"Linux libertine\" font-size=\"10.00\">(64,) </text>\n",
       "</g>\n",
       "<!-- 6&#45;&gt;7 -->\n",
       "<g id=\"edge7\" class=\"edge\">\n",
       "<title>6&#45;&gt;7</title>\n",
       "<path fill=\"none\" stroke=\"black\" d=\"M168,-310.63C168,-302.82 168,-293.73 168,-285.18\"/>\n",
       "<polygon fill=\"black\" stroke=\"black\" points=\"171.5,-285.16 168,-275.16 164.5,-285.16 171.5,-285.16\"/>\n",
       "</g>\n",
       "<!-- 8 -->\n",
       "<g id=\"node9\" class=\"node\">\n",
       "<title>8</title>\n",
       "<polygon fill=\"#c1ffc1\" stroke=\"transparent\" points=\"324,-188 182,-188 182,-146 324,-146 324,-188\"/>\n",
       "<polygon fill=\"none\" stroke=\"black\" points=\"182,-146 182,-188 229,-188 229,-146 182,-146\"/>\n",
       "<text text-anchor=\"start\" x=\"189.5\" y=\"-170\" font-family=\"Linux libertine\" font-size=\"10.00\">Linear</text>\n",
       "<text text-anchor=\"start\" x=\"187\" y=\"-159\" font-family=\"Linux libertine\" font-size=\"10.00\">depth:2</text>\n",
       "<polygon fill=\"none\" stroke=\"black\" points=\"229,-167 229,-188 282,-188 282,-167 229,-167\"/>\n",
       "<text text-anchor=\"start\" x=\"239.5\" y=\"-175\" font-family=\"Linux libertine\" font-size=\"10.00\">input:</text>\n",
       "<polygon fill=\"none\" stroke=\"black\" points=\"282,-167 282,-188 324,-188 324,-167 282,-167\"/>\n",
       "<text text-anchor=\"start\" x=\"287\" y=\"-175\" font-family=\"Linux libertine\" font-size=\"10.00\">(64,) </text>\n",
       "<polygon fill=\"none\" stroke=\"black\" points=\"229,-146 229,-167 282,-167 282,-146 229,-146\"/>\n",
       "<text text-anchor=\"start\" x=\"234\" y=\"-154\" font-family=\"Linux libertine\" font-size=\"10.00\">output: </text>\n",
       "<polygon fill=\"none\" stroke=\"black\" points=\"282,-146 282,-167 324,-167 324,-146 282,-146\"/>\n",
       "<text text-anchor=\"start\" x=\"289.5\" y=\"-154\" font-family=\"Linux libertine\" font-size=\"10.00\">(1,) </text>\n",
       "</g>\n",
       "<!-- 7&#45;&gt;8 -->\n",
       "<g id=\"edge8\" class=\"edge\">\n",
       "<title>7&#45;&gt;8</title>\n",
       "<path fill=\"none\" stroke=\"black\" d=\"M188.14,-232.86C199.28,-221.72 213.29,-207.71 225.43,-195.57\"/>\n",
       "<polygon fill=\"black\" stroke=\"black\" points=\"228.11,-197.84 232.71,-188.29 223.16,-192.89 228.11,-197.84\"/>\n",
       "</g>\n",
       "<!-- 9 -->\n",
       "<g id=\"node10\" class=\"node\">\n",
       "<title>9</title>\n",
       "<polygon fill=\"#c1ffc1\" stroke=\"transparent\" points=\"158,-188 16,-188 16,-146 158,-146 158,-188\"/>\n",
       "<polygon fill=\"none\" stroke=\"black\" points=\"16,-146 16,-188 63,-188 63,-146 16,-146\"/>\n",
       "<text text-anchor=\"start\" x=\"23.5\" y=\"-170\" font-family=\"Linux libertine\" font-size=\"10.00\">Linear</text>\n",
       "<text text-anchor=\"start\" x=\"21\" y=\"-159\" font-family=\"Linux libertine\" font-size=\"10.00\">depth:2</text>\n",
       "<polygon fill=\"none\" stroke=\"black\" points=\"63,-167 63,-188 116,-188 116,-167 63,-167\"/>\n",
       "<text text-anchor=\"start\" x=\"73.5\" y=\"-175\" font-family=\"Linux libertine\" font-size=\"10.00\">input:</text>\n",
       "<polygon fill=\"none\" stroke=\"black\" points=\"116,-167 116,-188 158,-188 158,-167 116,-167\"/>\n",
       "<text text-anchor=\"start\" x=\"121\" y=\"-175\" font-family=\"Linux libertine\" font-size=\"10.00\">(64,) </text>\n",
       "<polygon fill=\"none\" stroke=\"black\" points=\"63,-146 63,-167 116,-167 116,-146 63,-146\"/>\n",
       "<text text-anchor=\"start\" x=\"68\" y=\"-154\" font-family=\"Linux libertine\" font-size=\"10.00\">output: </text>\n",
       "<polygon fill=\"none\" stroke=\"black\" points=\"116,-146 116,-167 158,-167 158,-146 116,-146\"/>\n",
       "<text text-anchor=\"start\" x=\"123.5\" y=\"-154\" font-family=\"Linux libertine\" font-size=\"10.00\">(9,) </text>\n",
       "</g>\n",
       "<!-- 7&#45;&gt;9 -->\n",
       "<g id=\"edge10\" class=\"edge\">\n",
       "<title>7&#45;&gt;9</title>\n",
       "<path fill=\"none\" stroke=\"black\" d=\"M148.8,-232.86C138.19,-221.72 124.84,-207.71 113.27,-195.57\"/>\n",
       "<polygon fill=\"black\" stroke=\"black\" points=\"115.77,-193.12 106.34,-188.29 110.7,-197.95 115.77,-193.12\"/>\n",
       "</g>\n",
       "<!-- 11 -->\n",
       "<g id=\"node12\" class=\"node\">\n",
       "<title>11</title>\n",
       "<polygon fill=\"aliceblue\" stroke=\"transparent\" points=\"321.5,-110 184.5,-110 184.5,-68 321.5,-68 321.5,-110\"/>\n",
       "<polygon fill=\"none\" stroke=\"black\" points=\"185,-68 185,-110 232,-110 232,-68 185,-68\"/>\n",
       "<text text-anchor=\"start\" x=\"197.5\" y=\"-92\" font-family=\"Linux libertine\" font-size=\"10.00\">view</text>\n",
       "<text text-anchor=\"start\" x=\"190\" y=\"-81\" font-family=\"Linux libertine\" font-size=\"10.00\">depth:1</text>\n",
       "<polygon fill=\"none\" stroke=\"black\" points=\"232,-89 232,-110 285,-110 285,-89 232,-89\"/>\n",
       "<text text-anchor=\"start\" x=\"242.5\" y=\"-97\" font-family=\"Linux libertine\" font-size=\"10.00\">input:</text>\n",
       "<polygon fill=\"none\" stroke=\"black\" points=\"285,-89 285,-110 322,-110 322,-89 285,-89\"/>\n",
       "<text text-anchor=\"start\" x=\"290\" y=\"-97\" font-family=\"Linux libertine\" font-size=\"10.00\">(1,) </text>\n",
       "<polygon fill=\"none\" stroke=\"black\" points=\"232,-68 232,-89 285,-89 285,-68 232,-68\"/>\n",
       "<text text-anchor=\"start\" x=\"237\" y=\"-76\" font-family=\"Linux libertine\" font-size=\"10.00\">output: </text>\n",
       "<polygon fill=\"none\" stroke=\"black\" points=\"285,-68 285,-89 322,-89 322,-68 285,-68\"/>\n",
       "<text text-anchor=\"start\" x=\"290\" y=\"-76\" font-family=\"Linux libertine\" font-size=\"10.00\">(1,) </text>\n",
       "</g>\n",
       "<!-- 8&#45;&gt;11 -->\n",
       "<g id=\"edge9\" class=\"edge\">\n",
       "<title>8&#45;&gt;11</title>\n",
       "<path fill=\"none\" stroke=\"black\" d=\"M253,-145.63C253,-137.82 253,-128.73 253,-120.18\"/>\n",
       "<polygon fill=\"black\" stroke=\"black\" points=\"256.5,-120.16 253,-110.16 249.5,-120.16 256.5,-120.16\"/>\n",
       "</g>\n",
       "<!-- 10 -->\n",
       "<g id=\"node11\" class=\"node\">\n",
       "<title>10</title>\n",
       "<polygon fill=\"lightyellow\" stroke=\"transparent\" points=\"142.5,-105 31.5,-105 31.5,-73 142.5,-73 142.5,-105\"/>\n",
       "<polygon fill=\"none\" stroke=\"black\" points=\"32,-73 32,-105 111,-105 111,-73 32,-73\"/>\n",
       "<text text-anchor=\"start\" x=\"37\" y=\"-92\" font-family=\"Linux libertine\" font-size=\"10.00\">output&#45;tensor</text>\n",
       "<text text-anchor=\"start\" x=\"53\" y=\"-81\" font-family=\"Linux libertine\" font-size=\"10.00\">depth:0</text>\n",
       "<polygon fill=\"none\" stroke=\"black\" points=\"111,-73 111,-105 143,-105 143,-73 111,-73\"/>\n",
       "<text text-anchor=\"start\" x=\"116\" y=\"-86.5\" font-family=\"Linux libertine\" font-size=\"10.00\">(9,)</text>\n",
       "</g>\n",
       "<!-- 9&#45;&gt;10 -->\n",
       "<g id=\"edge11\" class=\"edge\">\n",
       "<title>9&#45;&gt;10</title>\n",
       "<path fill=\"none\" stroke=\"black\" d=\"M87,-145.63C87,-136.33 87,-125.22 87,-115.39\"/>\n",
       "<polygon fill=\"black\" stroke=\"black\" points=\"90.5,-115.36 87,-105.36 83.5,-115.36 90.5,-115.36\"/>\n",
       "</g>\n",
       "<!-- 12 -->\n",
       "<g id=\"node13\" class=\"node\">\n",
       "<title>12</title>\n",
       "<polygon fill=\"lightyellow\" stroke=\"transparent\" points=\"308.5,-32 197.5,-32 197.5,0 308.5,0 308.5,-32\"/>\n",
       "<polygon fill=\"none\" stroke=\"black\" points=\"198,0 198,-32 277,-32 277,0 198,0\"/>\n",
       "<text text-anchor=\"start\" x=\"203\" y=\"-19\" font-family=\"Linux libertine\" font-size=\"10.00\">output&#45;tensor</text>\n",
       "<text text-anchor=\"start\" x=\"219\" y=\"-8\" font-family=\"Linux libertine\" font-size=\"10.00\">depth:0</text>\n",
       "<polygon fill=\"none\" stroke=\"black\" points=\"277,0 277,-32 309,-32 309,0 277,0\"/>\n",
       "<text text-anchor=\"start\" x=\"282\" y=\"-13.5\" font-family=\"Linux libertine\" font-size=\"10.00\">(1,)</text>\n",
       "</g>\n",
       "<!-- 11&#45;&gt;12 -->\n",
       "<g id=\"edge12\" class=\"edge\">\n",
       "<title>11&#45;&gt;12</title>\n",
       "<path fill=\"none\" stroke=\"black\" d=\"M253,-67.84C253,-59.89 253,-50.66 253,-42.26\"/>\n",
       "<polygon fill=\"black\" stroke=\"black\" points=\"256.5,-42.24 253,-32.24 249.5,-42.24 256.5,-42.24\"/>\n",
       "</g>\n",
       "</g>\n",
       "</svg>\n"
      ],
      "text/plain": [
       "<graphviz.graphs.Digraph at 0x7f02616187f0>"
      ]
     },
     "execution_count": 94,
     "metadata": {},
     "output_type": "execute_result"
    }
   ],
   "source": [
    "# Посмотрим какая модель у нас получилась\n",
    "from torchview import draw_graph\n",
    "\n",
    "model_graph = draw_graph(model, input_size=[cfg.num_features], expand_nested=True)\n",
    "model_graph.visual_graph"
   ]
  },
  {
   "cell_type": "markdown",
   "metadata": {},
   "source": [
    "Обучим нашим тренером"
   ]
  },
  {
   "cell_type": "code",
   "execution_count": 95,
   "metadata": {},
   "outputs": [
    {
     "name": "stderr",
     "output_type": "stream",
     "text": [
      "GPU available: True (cuda), used: True\n",
      "TPU available: False, using: 0 TPU cores\n",
      "HPU available: False, using: 0 HPUs\n"
     ]
    }
   ],
   "source": [
    "trainer = Trainer(\n",
    "    accelerator='gpu',\n",
    "    devices=cfg.device_count,\n",
    "    max_epochs=cfg.epochs, # Устанавливаем кол-во эпох\n",
    "    log_every_n_steps=10, # Как часто логируем метрики\n",
    "    check_val_every_n_epoch=2, # Запускаем проверку val-части каждые 2 эпохи\n",
    "\n",
    "    callbacks=[\n",
    "        EarlyStopping( # Подключаем EarlyStopping\n",
    "            monitor='valid/loss', # Какую метрику отлавливаем\n",
    "            patience=3, # Сколько эпох валидации внимательно наблюдаем\n",
    "            verbose=True, # Вывод как улучшается ил ухудшается метрика\n",
    "        ),\n",
    "        ModelCheckpoint( # Сохранение нескольких весов модели\n",
    "            monitor='valid/loss',\n",
    "            dirpath=f\"../models/{cfg.model_name}\", # Сохранение модели\n",
    "            enable_version_counter=True, # Не затираем старые веса!\n",
    "            # auto_insert_metric_name=True, # Сохраняем метрики в названии модели\n",
    "            save_top_k=3 # Сохраняем 3 лучших модели\n",
    "        ),\n",
    "    ],\n",
    "    val_check_interval=0.2 # Запускать valid проверку каждые 0.2*epochs\n",
    ")"
   ]
  },
  {
   "cell_type": "code",
   "execution_count": 96,
   "metadata": {},
   "outputs": [
    {
     "name": "stderr",
     "output_type": "stream",
     "text": [
      "/app/storage_local/Course/ml_instruments/.venv/lib/python3.10/site-packages/lightning/pytorch/callbacks/model_checkpoint.py:654: Checkpoint directory /app/storage_local/Course/ml_instruments/models/Lightning ⚡️ Improved exists and is not empty.\n",
      "LOCAL_RANK: 0 - CUDA_VISIBLE_DEVICES: [0,1]\n",
      "\n",
      "  | Name                     | Type                | Params | Mode \n",
      "-------------------------------------------------------------------------\n",
      "0 | mlp                      | Sequential          | 30.4 K | train\n",
      "1 | regressor                | Sequential          | 65     | train\n",
      "2 | classifier               | Sequential          | 585    | train\n",
      "3 | regression_criterion     | MSELoss             | 0      | train\n",
      "4 | classification_criterion | CrossEntropyLoss    | 0      | train\n",
      "5 | train_metric_reg         | MeanAbsoluteError   | 0      | train\n",
      "6 | train_metric_cls         | MulticlassHingeLoss | 0      | train\n",
      "7 | valid_metric_reg         | MeanAbsoluteError   | 0      | train\n",
      "8 | valid_metric_cls         | MulticlassHingeLoss | 0      | train\n",
      "-------------------------------------------------------------------------\n",
      "31.1 K    Trainable params\n",
      "0         Non-trainable params\n",
      "31.1 K    Total params\n",
      "0.124     Total estimated model params size (MB)\n",
      "18        Modules in train mode\n",
      "0         Modules in eval mode\n"
     ]
    },
    {
     "data": {
      "application/vnd.jupyter.widget-view+json": {
       "model_id": "c3acb3cb40594bc5bdb4017bde8a2f3d",
       "version_major": 2,
       "version_minor": 0
      },
      "text/plain": [
       "Sanity Checking: |                                                                                            …"
      ]
     },
     "metadata": {},
     "output_type": "display_data"
    },
    {
     "data": {
      "application/vnd.jupyter.widget-view+json": {
       "model_id": "549beb6135c64dc08c5b48dc12c46ee7",
       "version_major": 2,
       "version_minor": 0
      },
      "text/plain": [
       "Training: |                                                                                                   …"
      ]
     },
     "metadata": {},
     "output_type": "display_data"
    },
    {
     "name": "stderr",
     "output_type": "stream",
     "text": [
      "/app/storage_local/Course/ml_instruments/.venv/lib/python3.10/site-packages/torch/optim/lr_scheduler.py:240: UserWarning: The epoch parameter in `scheduler.step()` was not necessary and is being deprecated where possible. Please use `scheduler.step()` to step the scheduler. During the deprecation, if epoch is different from None, the closed form is used instead of the new chainable form, where available. Please open an issue if you are unable to replicate your use case: https://github.com/pytorch/pytorch/issues/new/choose.\n",
      "  warnings.warn(EPOCH_DEPRECATION_WARNING, UserWarning)\n"
     ]
    },
    {
     "data": {
      "application/vnd.jupyter.widget-view+json": {
       "model_id": "35134e6638474bd7ad714d218ee9045a",
       "version_major": 2,
       "version_minor": 0
      },
      "text/plain": [
       "Validation: |                                                                                                 …"
      ]
     },
     "metadata": {},
     "output_type": "display_data"
    },
    {
     "name": "stderr",
     "output_type": "stream",
     "text": [
      "Metric valid/loss improved. New best score: 1.578\n"
     ]
    },
    {
     "data": {
      "application/vnd.jupyter.widget-view+json": {
       "model_id": "2833991b99834c6ea4ca7d3ef8e42bd0",
       "version_major": 2,
       "version_minor": 0
      },
      "text/plain": [
       "Validation: |                                                                                                 …"
      ]
     },
     "metadata": {},
     "output_type": "display_data"
    },
    {
     "name": "stderr",
     "output_type": "stream",
     "text": [
      "Metric valid/loss improved by 0.005 >= min_delta = 0.0. New best score: 1.573\n"
     ]
    },
    {
     "data": {
      "application/vnd.jupyter.widget-view+json": {
       "model_id": "6a89747e06cb46d6b7eb34c84aebe3bd",
       "version_major": 2,
       "version_minor": 0
      },
      "text/plain": [
       "Validation: |                                                                                                 …"
      ]
     },
     "metadata": {},
     "output_type": "display_data"
    },
    {
     "name": "stderr",
     "output_type": "stream",
     "text": [
      "Metric valid/loss improved by 0.007 >= min_delta = 0.0. New best score: 1.565\n"
     ]
    },
    {
     "data": {
      "application/vnd.jupyter.widget-view+json": {
       "model_id": "5492c4341f9a470098a7cafc52dea08e",
       "version_major": 2,
       "version_minor": 0
      },
      "text/plain": [
       "Validation: |                                                                                                 …"
      ]
     },
     "metadata": {},
     "output_type": "display_data"
    },
    {
     "name": "stderr",
     "output_type": "stream",
     "text": [
      "Metric valid/loss improved by 0.007 >= min_delta = 0.0. New best score: 1.558\n"
     ]
    },
    {
     "data": {
      "application/vnd.jupyter.widget-view+json": {
       "model_id": "8274ac5b8ae44c00bb9b874e1b79bd3a",
       "version_major": 2,
       "version_minor": 0
      },
      "text/plain": [
       "Validation: |                                                                                                 …"
      ]
     },
     "metadata": {},
     "output_type": "display_data"
    },
    {
     "name": "stderr",
     "output_type": "stream",
     "text": [
      "Metric valid/loss improved by 0.007 >= min_delta = 0.0. New best score: 1.551\n"
     ]
    },
    {
     "data": {
      "application/vnd.jupyter.widget-view+json": {
       "model_id": "17a3a3acf5b14dfa86b1059489914d12",
       "version_major": 2,
       "version_minor": 0
      },
      "text/plain": [
       "Validation: |                                                                                                 …"
      ]
     },
     "metadata": {},
     "output_type": "display_data"
    },
    {
     "name": "stderr",
     "output_type": "stream",
     "text": [
      "Metric valid/loss improved by 0.037 >= min_delta = 0.0. New best score: 1.514\n"
     ]
    },
    {
     "data": {
      "application/vnd.jupyter.widget-view+json": {
       "model_id": "f3a8bc066a654fe789647fb29893c9dd",
       "version_major": 2,
       "version_minor": 0
      },
      "text/plain": [
       "Validation: |                                                                                                 …"
      ]
     },
     "metadata": {},
     "output_type": "display_data"
    },
    {
     "name": "stderr",
     "output_type": "stream",
     "text": [
      "Metric valid/loss improved by 0.005 >= min_delta = 0.0. New best score: 1.509\n"
     ]
    },
    {
     "data": {
      "application/vnd.jupyter.widget-view+json": {
       "model_id": "3467714760104efabc5938106b5b9d61",
       "version_major": 2,
       "version_minor": 0
      },
      "text/plain": [
       "Validation: |                                                                                                 …"
      ]
     },
     "metadata": {},
     "output_type": "display_data"
    },
    {
     "name": "stderr",
     "output_type": "stream",
     "text": [
      "Metric valid/loss improved by 0.006 >= min_delta = 0.0. New best score: 1.504\n"
     ]
    },
    {
     "data": {
      "application/vnd.jupyter.widget-view+json": {
       "model_id": "6523e5b9436743f49fdf6d16ff5daf6c",
       "version_major": 2,
       "version_minor": 0
      },
      "text/plain": [
       "Validation: |                                                                                                 …"
      ]
     },
     "metadata": {},
     "output_type": "display_data"
    },
    {
     "data": {
      "application/vnd.jupyter.widget-view+json": {
       "model_id": "dfc7124c260b4c2f9a4ad17ac679ac23",
       "version_major": 2,
       "version_minor": 0
      },
      "text/plain": [
       "Validation: |                                                                                                 …"
      ]
     },
     "metadata": {},
     "output_type": "display_data"
    },
    {
     "name": "stderr",
     "output_type": "stream",
     "text": [
      "Metric valid/loss improved by 0.000 >= min_delta = 0.0. New best score: 1.504\n"
     ]
    },
    {
     "data": {
      "application/vnd.jupyter.widget-view+json": {
       "model_id": "ef1706263e134c87a9bb28b3688ef7dc",
       "version_major": 2,
       "version_minor": 0
      },
      "text/plain": [
       "Validation: |                                                                                                 …"
      ]
     },
     "metadata": {},
     "output_type": "display_data"
    },
    {
     "name": "stderr",
     "output_type": "stream",
     "text": [
      "Metric valid/loss improved by 0.019 >= min_delta = 0.0. New best score: 1.485\n"
     ]
    },
    {
     "data": {
      "application/vnd.jupyter.widget-view+json": {
       "model_id": "4c1c70837ba54f78963bce5f529681d3",
       "version_major": 2,
       "version_minor": 0
      },
      "text/plain": [
       "Validation: |                                                                                                 …"
      ]
     },
     "metadata": {},
     "output_type": "display_data"
    },
    {
     "name": "stderr",
     "output_type": "stream",
     "text": [
      "Metric valid/loss improved by 0.004 >= min_delta = 0.0. New best score: 1.481\n"
     ]
    },
    {
     "data": {
      "application/vnd.jupyter.widget-view+json": {
       "model_id": "e0dbb8e5d0374be79a92b834edce287c",
       "version_major": 2,
       "version_minor": 0
      },
      "text/plain": [
       "Validation: |                                                                                                 …"
      ]
     },
     "metadata": {},
     "output_type": "display_data"
    },
    {
     "name": "stderr",
     "output_type": "stream",
     "text": [
      "Metric valid/loss improved by 0.007 >= min_delta = 0.0. New best score: 1.474\n"
     ]
    },
    {
     "data": {
      "application/vnd.jupyter.widget-view+json": {
       "model_id": "70f60b61fac4404293d28f619cfdc167",
       "version_major": 2,
       "version_minor": 0
      },
      "text/plain": [
       "Validation: |                                                                                                 …"
      ]
     },
     "metadata": {},
     "output_type": "display_data"
    },
    {
     "data": {
      "application/vnd.jupyter.widget-view+json": {
       "model_id": "90ae079ee6274adf99355651f3a712ad",
       "version_major": 2,
       "version_minor": 0
      },
      "text/plain": [
       "Validation: |                                                                                                 …"
      ]
     },
     "metadata": {},
     "output_type": "display_data"
    },
    {
     "name": "stderr",
     "output_type": "stream",
     "text": [
      "Metric valid/loss improved by 0.013 >= min_delta = 0.0. New best score: 1.461\n"
     ]
    },
    {
     "data": {
      "application/vnd.jupyter.widget-view+json": {
       "model_id": "5280bf0b5ad0452f9cf5271c1a83b530",
       "version_major": 2,
       "version_minor": 0
      },
      "text/plain": [
       "Validation: |                                                                                                 …"
      ]
     },
     "metadata": {},
     "output_type": "display_data"
    },
    {
     "name": "stderr",
     "output_type": "stream",
     "text": [
      "Metric valid/loss improved by 0.075 >= min_delta = 0.0. New best score: 1.385\n"
     ]
    },
    {
     "data": {
      "application/vnd.jupyter.widget-view+json": {
       "model_id": "5f131e0129104a0e81d031d5cdb0ca59",
       "version_major": 2,
       "version_minor": 0
      },
      "text/plain": [
       "Validation: |                                                                                                 …"
      ]
     },
     "metadata": {},
     "output_type": "display_data"
    },
    {
     "name": "stderr",
     "output_type": "stream",
     "text": [
      "Metric valid/loss improved by 0.010 >= min_delta = 0.0. New best score: 1.375\n"
     ]
    },
    {
     "data": {
      "application/vnd.jupyter.widget-view+json": {
       "model_id": "accf19fc730644afa78a4601d53e40e4",
       "version_major": 2,
       "version_minor": 0
      },
      "text/plain": [
       "Validation: |                                                                                                 …"
      ]
     },
     "metadata": {},
     "output_type": "display_data"
    },
    {
     "name": "stderr",
     "output_type": "stream",
     "text": [
      "Metric valid/loss improved by 0.000 >= min_delta = 0.0. New best score: 1.375\n"
     ]
    },
    {
     "data": {
      "application/vnd.jupyter.widget-view+json": {
       "model_id": "ad3d7569e6ed4a5693f972244e2b2636",
       "version_major": 2,
       "version_minor": 0
      },
      "text/plain": [
       "Validation: |                                                                                                 …"
      ]
     },
     "metadata": {},
     "output_type": "display_data"
    },
    {
     "name": "stderr",
     "output_type": "stream",
     "text": [
      "Metric valid/loss improved by 0.009 >= min_delta = 0.0. New best score: 1.366\n"
     ]
    },
    {
     "data": {
      "application/vnd.jupyter.widget-view+json": {
       "model_id": "04b759dc1e8f4fe2a36178673e689c8e",
       "version_major": 2,
       "version_minor": 0
      },
      "text/plain": [
       "Validation: |                                                                                                 …"
      ]
     },
     "metadata": {},
     "output_type": "display_data"
    },
    {
     "name": "stderr",
     "output_type": "stream",
     "text": [
      "Metric valid/loss improved by 0.008 >= min_delta = 0.0. New best score: 1.359\n"
     ]
    },
    {
     "data": {
      "application/vnd.jupyter.widget-view+json": {
       "model_id": "847c8fba8ecf4114882633069d88ba77",
       "version_major": 2,
       "version_minor": 0
      },
      "text/plain": [
       "Validation: |                                                                                                 …"
      ]
     },
     "metadata": {},
     "output_type": "display_data"
    },
    {
     "name": "stderr",
     "output_type": "stream",
     "text": [
      "Metric valid/loss improved by 0.023 >= min_delta = 0.0. New best score: 1.336\n"
     ]
    },
    {
     "data": {
      "application/vnd.jupyter.widget-view+json": {
       "model_id": "72033f1799964441badcb98b7549b383",
       "version_major": 2,
       "version_minor": 0
      },
      "text/plain": [
       "Validation: |                                                                                                 …"
      ]
     },
     "metadata": {},
     "output_type": "display_data"
    },
    {
     "name": "stderr",
     "output_type": "stream",
     "text": [
      "Metric valid/loss improved by 0.011 >= min_delta = 0.0. New best score: 1.325\n"
     ]
    },
    {
     "data": {
      "application/vnd.jupyter.widget-view+json": {
       "model_id": "2c84573360124a69a2b67fd80a110ca7",
       "version_major": 2,
       "version_minor": 0
      },
      "text/plain": [
       "Validation: |                                                                                                 …"
      ]
     },
     "metadata": {},
     "output_type": "display_data"
    },
    {
     "name": "stderr",
     "output_type": "stream",
     "text": [
      "Metric valid/loss improved by 0.006 >= min_delta = 0.0. New best score: 1.319\n"
     ]
    },
    {
     "data": {
      "application/vnd.jupyter.widget-view+json": {
       "model_id": "43fba17be8024b4fa06458f7a14314b7",
       "version_major": 2,
       "version_minor": 0
      },
      "text/plain": [
       "Validation: |                                                                                                 …"
      ]
     },
     "metadata": {},
     "output_type": "display_data"
    },
    {
     "name": "stderr",
     "output_type": "stream",
     "text": [
      "Metric valid/loss improved by 0.008 >= min_delta = 0.0. New best score: 1.312\n"
     ]
    },
    {
     "data": {
      "application/vnd.jupyter.widget-view+json": {
       "model_id": "d32b0c3ac515479f9a528ab30a58690d",
       "version_major": 2,
       "version_minor": 0
      },
      "text/plain": [
       "Validation: |                                                                                                 …"
      ]
     },
     "metadata": {},
     "output_type": "display_data"
    },
    {
     "name": "stderr",
     "output_type": "stream",
     "text": [
      "Metric valid/loss improved by 0.005 >= min_delta = 0.0. New best score: 1.306\n"
     ]
    },
    {
     "data": {
      "application/vnd.jupyter.widget-view+json": {
       "model_id": "64411a2a6c9b42f59dc7785509423d53",
       "version_major": 2,
       "version_minor": 0
      },
      "text/plain": [
       "Validation: |                                                                                                 …"
      ]
     },
     "metadata": {},
     "output_type": "display_data"
    },
    {
     "name": "stderr",
     "output_type": "stream",
     "text": [
      "Metric valid/loss improved by 0.024 >= min_delta = 0.0. New best score: 1.282\n"
     ]
    },
    {
     "data": {
      "application/vnd.jupyter.widget-view+json": {
       "model_id": "9b177170da0c49528cff033f062a3b31",
       "version_major": 2,
       "version_minor": 0
      },
      "text/plain": [
       "Validation: |                                                                                                 …"
      ]
     },
     "metadata": {},
     "output_type": "display_data"
    },
    {
     "name": "stderr",
     "output_type": "stream",
     "text": [
      "Metric valid/loss improved by 0.002 >= min_delta = 0.0. New best score: 1.280\n"
     ]
    },
    {
     "data": {
      "application/vnd.jupyter.widget-view+json": {
       "model_id": "65d8bf3bc45a48b3bb2790371518491b",
       "version_major": 2,
       "version_minor": 0
      },
      "text/plain": [
       "Validation: |                                                                                                 …"
      ]
     },
     "metadata": {},
     "output_type": "display_data"
    },
    {
     "name": "stderr",
     "output_type": "stream",
     "text": [
      "Metric valid/loss improved by 0.011 >= min_delta = 0.0. New best score: 1.269\n"
     ]
    },
    {
     "data": {
      "application/vnd.jupyter.widget-view+json": {
       "model_id": "28aa369b195147ebb0ff8a7037d0db9b",
       "version_major": 2,
       "version_minor": 0
      },
      "text/plain": [
       "Validation: |                                                                                                 …"
      ]
     },
     "metadata": {},
     "output_type": "display_data"
    },
    {
     "name": "stderr",
     "output_type": "stream",
     "text": [
      "Metric valid/loss improved by 0.003 >= min_delta = 0.0. New best score: 1.266\n"
     ]
    },
    {
     "data": {
      "application/vnd.jupyter.widget-view+json": {
       "model_id": "146fab00419c4cbe86d242a5fc872735",
       "version_major": 2,
       "version_minor": 0
      },
      "text/plain": [
       "Validation: |                                                                                                 …"
      ]
     },
     "metadata": {},
     "output_type": "display_data"
    },
    {
     "name": "stderr",
     "output_type": "stream",
     "text": [
      "Metric valid/loss improved by 0.015 >= min_delta = 0.0. New best score: 1.250\n"
     ]
    },
    {
     "data": {
      "application/vnd.jupyter.widget-view+json": {
       "model_id": "f7cb5bd51c304e4294d31347034a2ba4",
       "version_major": 2,
       "version_minor": 0
      },
      "text/plain": [
       "Validation: |                                                                                                 …"
      ]
     },
     "metadata": {},
     "output_type": "display_data"
    },
    {
     "name": "stderr",
     "output_type": "stream",
     "text": [
      "Metric valid/loss improved by 0.032 >= min_delta = 0.0. New best score: 1.218\n"
     ]
    },
    {
     "data": {
      "application/vnd.jupyter.widget-view+json": {
       "model_id": "1a90ec6d1ff3415b9476990e0bafe771",
       "version_major": 2,
       "version_minor": 0
      },
      "text/plain": [
       "Validation: |                                                                                                 …"
      ]
     },
     "metadata": {},
     "output_type": "display_data"
    },
    {
     "name": "stderr",
     "output_type": "stream",
     "text": [
      "Metric valid/loss improved by 0.008 >= min_delta = 0.0. New best score: 1.211\n"
     ]
    },
    {
     "data": {
      "application/vnd.jupyter.widget-view+json": {
       "model_id": "14c59b6d78044a8893c279b333629a13",
       "version_major": 2,
       "version_minor": 0
      },
      "text/plain": [
       "Validation: |                                                                                                 …"
      ]
     },
     "metadata": {},
     "output_type": "display_data"
    },
    {
     "data": {
      "application/vnd.jupyter.widget-view+json": {
       "model_id": "d15648b646b54ff3a092c9ae5ca5883d",
       "version_major": 2,
       "version_minor": 0
      },
      "text/plain": [
       "Validation: |                                                                                                 …"
      ]
     },
     "metadata": {},
     "output_type": "display_data"
    },
    {
     "name": "stderr",
     "output_type": "stream",
     "text": [
      "Metric valid/loss improved by 0.001 >= min_delta = 0.0. New best score: 1.210\n"
     ]
    },
    {
     "data": {
      "application/vnd.jupyter.widget-view+json": {
       "model_id": "fc747e8b1da2465eb61fe0e7d1bf9a4d",
       "version_major": 2,
       "version_minor": 0
      },
      "text/plain": [
       "Validation: |                                                                                                 …"
      ]
     },
     "metadata": {},
     "output_type": "display_data"
    },
    {
     "name": "stderr",
     "output_type": "stream",
     "text": [
      "Metric valid/loss improved by 0.009 >= min_delta = 0.0. New best score: 1.201\n"
     ]
    },
    {
     "data": {
      "application/vnd.jupyter.widget-view+json": {
       "model_id": "11c526250dde4114897df1da981754b3",
       "version_major": 2,
       "version_minor": 0
      },
      "text/plain": [
       "Validation: |                                                                                                 …"
      ]
     },
     "metadata": {},
     "output_type": "display_data"
    },
    {
     "name": "stderr",
     "output_type": "stream",
     "text": [
      "Metric valid/loss improved by 0.001 >= min_delta = 0.0. New best score: 1.200\n"
     ]
    },
    {
     "data": {
      "application/vnd.jupyter.widget-view+json": {
       "model_id": "7a09128984704c6f987c349e79e2c3ce",
       "version_major": 2,
       "version_minor": 0
      },
      "text/plain": [
       "Validation: |                                                                                                 …"
      ]
     },
     "metadata": {},
     "output_type": "display_data"
    },
    {
     "name": "stderr",
     "output_type": "stream",
     "text": [
      "Metric valid/loss improved by 0.008 >= min_delta = 0.0. New best score: 1.192\n"
     ]
    },
    {
     "data": {
      "application/vnd.jupyter.widget-view+json": {
       "model_id": "5d8dad6e0f7146519765c242159a72d7",
       "version_major": 2,
       "version_minor": 0
      },
      "text/plain": [
       "Validation: |                                                                                                 …"
      ]
     },
     "metadata": {},
     "output_type": "display_data"
    },
    {
     "data": {
      "application/vnd.jupyter.widget-view+json": {
       "model_id": "b7bb112870a14915bece7d5460a51d63",
       "version_major": 2,
       "version_minor": 0
      },
      "text/plain": [
       "Validation: |                                                                                                 …"
      ]
     },
     "metadata": {},
     "output_type": "display_data"
    },
    {
     "data": {
      "application/vnd.jupyter.widget-view+json": {
       "model_id": "24593b41659a4968aa1232919c46c7d1",
       "version_major": 2,
       "version_minor": 0
      },
      "text/plain": [
       "Validation: |                                                                                                 …"
      ]
     },
     "metadata": {},
     "output_type": "display_data"
    },
    {
     "name": "stderr",
     "output_type": "stream",
     "text": [
      "Metric valid/loss improved by 0.006 >= min_delta = 0.0. New best score: 1.186\n"
     ]
    },
    {
     "data": {
      "application/vnd.jupyter.widget-view+json": {
       "model_id": "7266611b498849c597c9c9faab893db0",
       "version_major": 2,
       "version_minor": 0
      },
      "text/plain": [
       "Validation: |                                                                                                 …"
      ]
     },
     "metadata": {},
     "output_type": "display_data"
    },
    {
     "name": "stderr",
     "output_type": "stream",
     "text": [
      "Metric valid/loss improved by 0.005 >= min_delta = 0.0. New best score: 1.181\n"
     ]
    },
    {
     "data": {
      "application/vnd.jupyter.widget-view+json": {
       "model_id": "b91776866d0a465a95e9c2a4a0486370",
       "version_major": 2,
       "version_minor": 0
      },
      "text/plain": [
       "Validation: |                                                                                                 …"
      ]
     },
     "metadata": {},
     "output_type": "display_data"
    },
    {
     "name": "stderr",
     "output_type": "stream",
     "text": [
      "Metric valid/loss improved by 0.000 >= min_delta = 0.0. New best score: 1.180\n"
     ]
    },
    {
     "data": {
      "application/vnd.jupyter.widget-view+json": {
       "model_id": "554e85c381184b5f85efe58045ed04d6",
       "version_major": 2,
       "version_minor": 0
      },
      "text/plain": [
       "Validation: |                                                                                                 …"
      ]
     },
     "metadata": {},
     "output_type": "display_data"
    },
    {
     "data": {
      "application/vnd.jupyter.widget-view+json": {
       "model_id": "f10b0a88e2774e398dc6644c73fef967",
       "version_major": 2,
       "version_minor": 0
      },
      "text/plain": [
       "Validation: |                                                                                                 …"
      ]
     },
     "metadata": {},
     "output_type": "display_data"
    },
    {
     "data": {
      "application/vnd.jupyter.widget-view+json": {
       "model_id": "93884a1d748e4a3789f6b482bca0937c",
       "version_major": 2,
       "version_minor": 0
      },
      "text/plain": [
       "Validation: |                                                                                                 …"
      ]
     },
     "metadata": {},
     "output_type": "display_data"
    },
    {
     "name": "stderr",
     "output_type": "stream",
     "text": [
      "Metric valid/loss improved by 0.001 >= min_delta = 0.0. New best score: 1.179\n"
     ]
    },
    {
     "data": {
      "application/vnd.jupyter.widget-view+json": {
       "model_id": "6742870e36244bd19722e2dfdc2a7454",
       "version_major": 2,
       "version_minor": 0
      },
      "text/plain": [
       "Validation: |                                                                                                 …"
      ]
     },
     "metadata": {},
     "output_type": "display_data"
    },
    {
     "name": "stderr",
     "output_type": "stream",
     "text": [
      "Metric valid/loss improved by 0.002 >= min_delta = 0.0. New best score: 1.177\n"
     ]
    },
    {
     "data": {
      "application/vnd.jupyter.widget-view+json": {
       "model_id": "36e67cca42b2499889d7a2b3d4d6bcf5",
       "version_major": 2,
       "version_minor": 0
      },
      "text/plain": [
       "Validation: |                                                                                                 …"
      ]
     },
     "metadata": {},
     "output_type": "display_data"
    },
    {
     "name": "stderr",
     "output_type": "stream",
     "text": [
      "Metric valid/loss improved by 0.004 >= min_delta = 0.0. New best score: 1.174\n"
     ]
    },
    {
     "data": {
      "application/vnd.jupyter.widget-view+json": {
       "model_id": "6d439d2c09f34c7ca1a34b7417b117e1",
       "version_major": 2,
       "version_minor": 0
      },
      "text/plain": [
       "Validation: |                                                                                                 …"
      ]
     },
     "metadata": {},
     "output_type": "display_data"
    },
    {
     "name": "stderr",
     "output_type": "stream",
     "text": [
      "Metric valid/loss improved by 0.001 >= min_delta = 0.0. New best score: 1.173\n"
     ]
    },
    {
     "data": {
      "application/vnd.jupyter.widget-view+json": {
       "model_id": "c7447f274a5346d79a20f2054ccc5886",
       "version_major": 2,
       "version_minor": 0
      },
      "text/plain": [
       "Validation: |                                                                                                 …"
      ]
     },
     "metadata": {},
     "output_type": "display_data"
    },
    {
     "data": {
      "application/vnd.jupyter.widget-view+json": {
       "model_id": "f2c9298af0764d37a5f06fc07b7b66ff",
       "version_major": 2,
       "version_minor": 0
      },
      "text/plain": [
       "Validation: |                                                                                                 …"
      ]
     },
     "metadata": {},
     "output_type": "display_data"
    },
    {
     "name": "stderr",
     "output_type": "stream",
     "text": [
      "`Trainer.fit` stopped: `max_epochs=20` reached.\n"
     ]
    }
   ],
   "source": [
    "trainer.fit(model, datamodule=dataset)"
   ]
  },
  {
   "cell_type": "markdown",
   "metadata": {},
   "source": [
    "# Tuner"
   ]
  },
  {
   "cell_type": "markdown",
   "metadata": {},
   "source": [
    "<div class=\"alert alert-info\">\n",
    "\n",
    "Что если вы не хотите подбирать начальный `learning rate`, чтобы моделька хорошо обучалась или же подбирать `batch size`, дабы влезло в `GPU`. В `Lightning` есть модуль `Tuner`, который позволяет подбирать эти параметры в автоматическом режиме\n",
    "\n",
    "Давайте посмотрим как его использовать! \n"
   ]
  },
  {
   "cell_type": "code",
   "execution_count": 97,
   "metadata": {},
   "outputs": [
    {
     "name": "stderr",
     "output_type": "stream",
     "text": [
      "GPU available: True (cuda), used: True\n",
      "TPU available: False, using: 0 TPU cores\n",
      "HPU available: False, using: 0 HPUs\n"
     ]
    }
   ],
   "source": [
    "model = SuperPuperModel(cfg)\n",
    "trainer = Trainer(\n",
    "    accelerator='gpu',\n",
    "    devices=cfg.device_count,\n",
    "    max_epochs=cfg.epochs, # Устанавливаем кол-во эпох\n",
    "    callbacks=[\n",
    "        EarlyStopping( # Подключаем EarlyStopping\n",
    "            monitor='valid/loss', # Какую метрику отлавливаем\n",
    "            patience=3, # Сколько эпох валидации внимательно наблюдаем\n",
    "            verbose=True, # Вывод как улучшается ил ухудшается метрика\n",
    "        ),\n",
    "        ModelCheckpoint( # Сохранение нескольких весов модели\n",
    "            monitor='valid/loss',\n",
    "            dirpath=f\"../models/{cfg.model_name}\", # Сохранение модели\n",
    "            enable_version_counter=True, # Не затираем старые веса!\n",
    "            # auto_insert_metric_name=True, # Сохраняем метрики в названии модели\n",
    "            save_top_k=3 # Сохраняем 3 лучших модели\n",
    "        ),\n",
    "    ],\n",
    "    val_check_interval=0.2 # Запускать valid проверку каждые 0.2*epochs\n",
    ")"
   ]
  },
  {
   "cell_type": "code",
   "execution_count": 98,
   "metadata": {},
   "outputs": [],
   "source": [
    "tuner = pl.tuner.Tuner(trainer)"
   ]
  },
  {
   "cell_type": "code",
   "execution_count": 99,
   "metadata": {},
   "outputs": [
    {
     "name": "stderr",
     "output_type": "stream",
     "text": [
      "LOCAL_RANK: 0 - CUDA_VISIBLE_DEVICES: [0,1]\n"
     ]
    },
    {
     "name": "stderr",
     "output_type": "stream",
     "text": [
      "/app/storage_local/Course/ml_instruments/.venv/lib/python3.10/site-packages/lightning/pytorch/loops/fit_loop.py:298: The number of training batches (15) is smaller than the logging interval Trainer(log_every_n_steps=50). Set a lower value for log_every_n_steps if you want to see logs for the training epoch.\n"
     ]
    },
    {
     "data": {
      "application/vnd.jupyter.widget-view+json": {
       "model_id": "569a858e826043ff8497a07afc5436c5",
       "version_major": 2,
       "version_minor": 0
      },
      "text/plain": [
       "Finding best initial lr:   0%|          | 0/100 [00:00<?, ?it/s]"
      ]
     },
     "metadata": {},
     "output_type": "display_data"
    },
    {
     "name": "stderr",
     "output_type": "stream",
     "text": [
      "LR finder stopped early after 95 steps due to diverging loss.\n",
      "Learning rate set to 0.02089296130854041\n",
      "Restoring states from the checkpoint path at /app/storage_local/Course/ml_instruments/notebooks/.lr_find_d6e0812e-bab0-42f6-84e7-10814abe9bc6.ckpt\n",
      "Restored all states from the checkpoint at /app/storage_local/Course/ml_instruments/notebooks/.lr_find_d6e0812e-bab0-42f6-84e7-10814abe9bc6.ckpt\n"
     ]
    }
   ],
   "source": [
    "lr_finder = tuner.lr_find(model, datamodule=dataset)"
   ]
  },
  {
   "cell_type": "code",
   "execution_count": 100,
   "metadata": {},
   "outputs": [
    {
     "data": {
      "text/plain": [
       "0.02089296130854041"
      ]
     },
     "execution_count": 100,
     "metadata": {},
     "output_type": "execute_result"
    }
   ],
   "source": [
    "lr_finder.suggestion()"
   ]
  },
  {
   "cell_type": "markdown",
   "metadata": {},
   "source": [
    "<div class=\"alert alert-success\">\n",
    "\n",
    "`Lightning` нашел нам оптимальный learning rate буквально в 2 строчки кода! Как же прекрасен этот инструмент 🤗\n",
    "\n",
    "Давайте посмотрим как находить `batch size` "
   ]
  },
  {
   "cell_type": "code",
   "execution_count": 101,
   "metadata": {},
   "outputs": [
    {
     "name": "stderr",
     "output_type": "stream",
     "text": [
      "GPU available: True (cuda), used: True\n",
      "TPU available: False, using: 0 TPU cores\n",
      "HPU available: False, using: 0 HPUs\n"
     ]
    }
   ],
   "source": [
    "model = SuperPuperModel(cfg)\n",
    "trainer = Trainer(\n",
    "    accelerator='gpu',\n",
    "    devices=cfg.device_count,\n",
    "    max_epochs=cfg.epochs, # Устанавливаем кол-во эпох\n",
    "    callbacks=[\n",
    "        EarlyStopping( # Подключаем EarlyStopping\n",
    "            monitor='valid/loss', # Какую метрику отлавливаем\n",
    "            patience=3, # Сколько эпох валидации внимательно наблюдаем\n",
    "            verbose=True, # Вывод как улучшается ил ухудшается метрика\n",
    "        ),\n",
    "        ModelCheckpoint( # Сохранение нескольких весов модели\n",
    "            monitor='valid/loss',\n",
    "            dirpath=f\"../models/{cfg.model_name}\", # Сохранение модели\n",
    "            enable_version_counter=True, # Не затираем старые веса!\n",
    "            # auto_insert_metric_name=True, # Сохраняем метрики в названии модели\n",
    "            save_top_k=3 # Сохраняем 3 лучших модели\n",
    "        ),\n",
    "    ],\n",
    "    val_check_interval=0.2 # Запускать valid проверку каждые 0.2*epochs\n",
    ")"
   ]
  },
  {
   "cell_type": "code",
   "execution_count": null,
   "metadata": {},
   "outputs": [
    {
     "name": "stderr",
     "output_type": "stream",
     "text": [
      "/app/storage_local/Course/ml_instruments/.venv/lib/python3.10/site-packages/lightning/pytorch/callbacks/model_checkpoint.py:654: Checkpoint directory /app/storage_local/Course/ml_instruments/models/Lightning ⚡️ Improved exists and is not empty.\n",
      "LOCAL_RANK: 0 - CUDA_VISIBLE_DEVICES: [0,1]\n",
      "/app/storage_local/Course/ml_instruments/.venv/lib/python3.10/site-packages/lightning/pytorch/loops/fit_loop.py:298: The number of training batches (1) is smaller than the logging interval Trainer(log_every_n_steps=50). Set a lower value for log_every_n_steps if you want to see logs for the training epoch.\n",
      "The batch size 2048 is greater or equal than the length of your dataset.\n",
      "/app/storage_local/Course/ml_instruments/.venv/lib/python3.10/site-packages/torch/optim/lr_scheduler.py:240: UserWarning: The epoch parameter in `scheduler.step()` was not necessary and is being deprecated where possible. Please use `scheduler.step()` to step the scheduler. During the deprecation, if epoch is different from None, the closed form is used instead of the new chainable form, where available. Please open an issue if you are unable to replicate your use case: https://github.com/pytorch/pytorch/issues/new/choose.\n",
      "  warnings.warn(EPOCH_DEPRECATION_WARNING, UserWarning)\n"
     ]
    },
    {
     "name": "stderr",
     "output_type": "stream",
     "text": [
      "`Trainer.fit` stopped: `max_steps=3` reached.\n",
      "The batch size 2048 is greater or equal than the length of your dataset.\n",
      "Finished batch size finder, will continue with full run using batch size 2048\n",
      "Restoring states from the checkpoint path at /app/storage_local/Course/ml_instruments/notebooks/.scale_batch_size_64de7a33-8b97-4f8d-9456-86230477f57e.ckpt\n",
      "Restored all states from the checkpoint at /app/storage_local/Course/ml_instruments/notebooks/.scale_batch_size_64de7a33-8b97-4f8d-9456-86230477f57e.ckpt\n",
      "LOCAL_RANK: 0 - CUDA_VISIBLE_DEVICES: [0,1]\n",
      "The batch size 2048 is greater or equal than the length of your dataset.\n",
      "The batch size 2048 is greater or equal than the length of your dataset.\n",
      "Finished batch size finder, will continue with full run using batch size 2048\n",
      "Restoring states from the checkpoint path at /app/storage_local/Course/ml_instruments/notebooks/.scale_batch_size_63815122-36d6-4b5c-9f41-82d82d2e4736.ckpt\n",
      "Loaded model weights from the checkpoint at /app/storage_local/Course/ml_instruments/notebooks/.scale_batch_size_63815122-36d6-4b5c-9f41-82d82d2e4736.ckpt\n"
     ]
    }
   ],
   "source": [
    "# Ищем batch_size для train части и для valid части \n",
    "bs_finder_train = tuner.scale_batch_size(model, datamodule=dataset, method='fit')\n",
    "bs_finder_valid = tuner.scale_batch_size(model, datamodule=dataset, method='validate')"
   ]
  },
  {
   "cell_type": "code",
   "execution_count": 106,
   "metadata": {},
   "outputs": [
    {
     "data": {
      "text/plain": [
       "(2048, 2048)"
      ]
     },
     "execution_count": 106,
     "metadata": {},
     "output_type": "execute_result"
    }
   ],
   "source": [
    "bs_finder_train, bs_finder_valid"
   ]
  },
  {
   "cell_type": "markdown",
   "metadata": {},
   "source": [
    "# Итоги"
   ]
  },
  {
   "cell_type": "markdown",
   "metadata": {},
   "source": [
    "В Этом уроке мы научились:\n",
    "- Обучать нейронки с помощью `Trainer`. Он помогает вам сконцентрироваться на логике модели, а не на ее обучении\n",
    "- Какие есть фишки в `Trainer` и что такие `callbacks`\n",
    "- `Torchmetrics` - альтернатива метрикам из `torch.nn`\n",
    "- Как `Torchmetrics` и `Lightning` клеятся вместе для удобной работы 🤗"
   ]
  }
 ],
 "metadata": {
  "kernelspec": {
   "display_name": ".venv",
   "language": "python",
   "name": "python3"
  },
  "language_info": {
   "codemirror_mode": {
    "name": "ipython",
    "version": 3
   },
   "file_extension": ".py",
   "mimetype": "text/x-python",
   "name": "python",
   "nbconvert_exporter": "python",
   "pygments_lexer": "ipython3",
   "version": "3.10.12"
  }
 },
 "nbformat": 4,
 "nbformat_minor": 4
}
