{
 "cells": [
  {
   "cell_type": "markdown",
   "metadata": {},
   "source": [
    "# <center> <h1> 🧶 Связка `Lightning` + `ClearML` в задачах NLP. 🔤</h1> </center>"
   ]
  },
  {
   "cell_type": "markdown",
   "metadata": {
    "jp-MarkdownHeadingCollapsed": true
   },
   "source": [
    "### Оглавление ноутбука\n",
    "<img src='../images/nlp.webp' align=\"right\" width=\"508\" height=\"428\" >\n",
    "<br>\n",
    "\n",
    "<p><font size=\"3\" face=\"Arial\" font-size=\"large\"><ul type=\"square\">\n",
    "    \n",
    "<li><a href=\"#p1\">🧐 Посмотрим на связку в деле!</a></li>\n",
    "<li><a href=\"#p2\">☝️ 1-й способ: логируем через консоль</a></li>\n",
    "<li><a href=\"#p7\">✌️ 2-й способ: логирование через TensorBoardLogger</a></li>\n",
    "<li><a href=\"#p5\">🎚 Finetuning трансформера под свою задачу </a></li>\n",
    "<li><a href=\"#p6\">🧸 Выводы и заключения ✅ </a></li>\n",
    "\n",
    "\n",
    "    \n",
    "</ul></font></p>"
   ]
  },
  {
   "cell_type": "markdown",
   "metadata": {},
   "source": [
    "## <center> 🧑‍🎓 Разберем связку **PyTorch Lightning** + **ClearML**\n"
   ]
  },
  {
   "cell_type": "markdown",
   "metadata": {},
   "source": [
    "<div class=\"alert alert-info\">\n",
    "\n",
    "**ClearML** легко интегрируется с **PyTorch Lightning**, автоматически логируя модели PyTorch, параметры, и многое другое. Эта связка значимо упрощает работу в задачах с текстами. \n",
    "\n",
    "Все, что вам нужно сделать, это просто добавить две строки кода в ваш скрипт **PyTorch Lightning**:"
   ]
  },
  {
   "cell_type": "markdown",
   "metadata": {},
   "source": [
    "<div class=\"alert alert-success\">\n",
    "    \n",
    "```python\n",
    "from clearml import Task\n",
    "\n",
    "task = Task.init(task_name=\"<task_name>\", project_name=\"<project_name>\")\n",
    "```"
   ]
  },
  {
   "cell_type": "markdown",
   "metadata": {},
   "source": [
    "<div class=\"alert alert-info\"> \n",
    "\n",
    "🤯 Вот и всё! Это создает эксперимент в **ClearML**, который фиксирует:\n",
    "\n",
    "* Исходный код и несохраненные изменения\n",
    "* Установленные пакеты\n",
    "* Модели PyTorch\n",
    "* Параметры, предоставляемые `LightningCLI`\n",
    "* Всё, что мы отправляем в TensorBoard\n",
    "* Весь выход консоли\n",
    "* Общие сведения, такие как сведения о машине, время выполнения, дата создания и т. д.\n",
    "* И многое другое"
   ]
  },
  {
   "cell_type": "markdown",
   "metadata": {},
   "source": [
    "# <center id=\"p1\">  🧐 Посмотрим на связку в деле!</center>"
   ]
  },
  {
   "cell_type": "code",
   "execution_count": null,
   "metadata": {},
   "outputs": [],
   "source": [
    "!pip install clearml tensorboard datasets -q"
   ]
  },
  {
   "cell_type": "code",
   "execution_count": 1,
   "metadata": {},
   "outputs": [],
   "source": [
    "import os\n",
    "import pandas as pd\n",
    "import torch\n",
    "import torch.nn as nn\n",
    "from torch.utils.data import Dataset, DataLoader\n",
    "from dataclasses import asdict, dataclass\n",
    "\n",
    "from lightning import LightningDataModule, LightningModule, Trainer\n",
    "from lightning.pytorch.loggers import TensorBoardLogger\n",
    "\n",
    "from clearml import Task, Logger"
   ]
  },
  {
   "cell_type": "markdown",
   "metadata": {},
   "source": [
    "Вводим ключи ClearML со страницы https://app.clear.ml/settings/workspace-configuration"
   ]
  },
  {
   "cell_type": "code",
   "execution_count": 44,
   "metadata": {},
   "outputs": [
    {
     "name": "stdout",
     "output_type": "stream",
     "text": [
      "Введите API Access токен:  ········\n",
      "Введите API Secret токен:  ········\n"
     ]
    }
   ],
   "source": [
    "from getpass import getpass\n",
    "# Введите поочерёдно полученные ключи в появившемся окне (код изменять не нужно)\n",
    "access_key = getpass(prompt=\"Введите API Access токен: \")\n",
    "secret_key = getpass(prompt=\"Введите API Secret токен: \")"
   ]
  },
  {
   "cell_type": "code",
   "execution_count": 56,
   "metadata": {},
   "outputs": [],
   "source": [
    "%%capture\n",
    "#  Не показывать свои api-ключи\n",
    "%env CLEARML_WEB_HOST=https://app.clear.ml/\n",
    "%env CLEARML_API_HOST=https://api.clear.ml\n",
    "%env CLEARML_FILES_HOST=https://files.clear.ml\n",
    "\n",
    "%env CLEARML_API_ACCESS_KEY=$access_key\n",
    "%env CLEARML_API_SECRET_KEY=$secret_key"
   ]
  },
  {
   "cell_type": "markdown",
   "metadata": {},
   "source": [
    "<div class=\"alert alert-info\"> \n",
    "    \n",
    "Для примера возьмём датасет `AG NEWS`, в котором содержатся новостные заметки по различным тематикам. И натренируем нейросеть определять тематику новости."
   ]
  },
  {
   "cell_type": "code",
   "execution_count": 2,
   "metadata": {},
   "outputs": [
    {
     "data": {
      "text/html": [
       "<div>\n",
       "<style scoped>\n",
       "    .dataframe tbody tr th:only-of-type {\n",
       "        vertical-align: middle;\n",
       "    }\n",
       "\n",
       "    .dataframe tbody tr th {\n",
       "        vertical-align: top;\n",
       "    }\n",
       "\n",
       "    .dataframe thead th {\n",
       "        text-align: right;\n",
       "    }\n",
       "</style>\n",
       "<table border=\"1\" class=\"dataframe\">\n",
       "  <thead>\n",
       "    <tr style=\"text-align: right;\">\n",
       "      <th></th>\n",
       "      <th>label</th>\n",
       "      <th>title</th>\n",
       "      <th>text</th>\n",
       "    </tr>\n",
       "  </thead>\n",
       "  <tbody>\n",
       "    <tr>\n",
       "      <th>0</th>\n",
       "      <td>3</td>\n",
       "      <td>Wall St. Bears Claw Back Into the Black (Reuters)</td>\n",
       "      <td>Reuters - Short-sellers, Wall Street's dwindli...</td>\n",
       "    </tr>\n",
       "    <tr>\n",
       "      <th>1</th>\n",
       "      <td>3</td>\n",
       "      <td>Carlyle Looks Toward Commercial Aerospace (Reu...</td>\n",
       "      <td>Reuters - Private investment firm Carlyle Grou...</td>\n",
       "    </tr>\n",
       "    <tr>\n",
       "      <th>2</th>\n",
       "      <td>3</td>\n",
       "      <td>Oil and Economy Cloud Stocks' Outlook (Reuters)</td>\n",
       "      <td>Reuters - Soaring crude prices plus worries\\ab...</td>\n",
       "    </tr>\n",
       "    <tr>\n",
       "      <th>3</th>\n",
       "      <td>3</td>\n",
       "      <td>Iraq Halts Oil Exports from Main Southern Pipe...</td>\n",
       "      <td>Reuters - Authorities have halted oil export\\f...</td>\n",
       "    </tr>\n",
       "    <tr>\n",
       "      <th>4</th>\n",
       "      <td>3</td>\n",
       "      <td>Oil prices soar to all-time record, posing new...</td>\n",
       "      <td>AFP - Tearaway world oil prices, toppling reco...</td>\n",
       "    </tr>\n",
       "  </tbody>\n",
       "</table>\n",
       "</div>"
      ],
      "text/plain": [
       "   label                                              title  \\\n",
       "0      3  Wall St. Bears Claw Back Into the Black (Reuters)   \n",
       "1      3  Carlyle Looks Toward Commercial Aerospace (Reu...   \n",
       "2      3    Oil and Economy Cloud Stocks' Outlook (Reuters)   \n",
       "3      3  Iraq Halts Oil Exports from Main Southern Pipe...   \n",
       "4      3  Oil prices soar to all-time record, posing new...   \n",
       "\n",
       "                                                text  \n",
       "0  Reuters - Short-sellers, Wall Street's dwindli...  \n",
       "1  Reuters - Private investment firm Carlyle Grou...  \n",
       "2  Reuters - Soaring crude prices plus worries\\ab...  \n",
       "3  Reuters - Authorities have halted oil export\\f...  \n",
       "4  AFP - Tearaway world oil prices, toppling reco...  "
      ]
     },
     "execution_count": 2,
     "metadata": {},
     "output_type": "execute_result"
    }
   ],
   "source": [
    "url = 'https://raw.githubusercontent.com/mhjabreel/CharCnn_Keras/master/data/ag_news_csv/train.csv'\n",
    "news = pd.read_csv(url, names=['label', 'title', 'text'])\n",
    "news.head()"
   ]
  },
  {
   "cell_type": "code",
   "execution_count": 4,
   "metadata": {},
   "outputs": [
    {
     "data": {
      "text/plain": [
       "label\n",
       "3    30000\n",
       "4    30000\n",
       "2    30000\n",
       "1    30000\n",
       "Name: count, dtype: int64"
      ]
     },
     "execution_count": 4,
     "metadata": {},
     "output_type": "execute_result"
    }
   ],
   "source": [
    "news.label.value_counts()"
   ]
  },
  {
   "cell_type": "code",
   "execution_count": 5,
   "metadata": {},
   "outputs": [],
   "source": [
    "classes = (\"World\", \"Sports\", \"Sci/Tec\", \"Business\")"
   ]
  },
  {
   "cell_type": "markdown",
   "metadata": {},
   "source": [
    "## <center> Создаём Dataset и Datamodule </center>"
   ]
  },
  {
   "cell_type": "code",
   "execution_count": 11,
   "metadata": {},
   "outputs": [],
   "source": [
    "class TextDataset(Dataset):\n",
    "    def __init__(self, csv_file, vocab=None, tokenizer=None):\n",
    "        self.data = pd.read_csv(csv_file, names=['label', 'title', 'text'])\n",
    "        self.tokenizer = tokenizer or (lambda x: x.split())\n",
    "        self.vocab = vocab or self.build_vocab()\n",
    "\n",
    "    def build_vocab(self):\n",
    "        '''\n",
    "        Создает словарь токенов с уникальными идентификаторами, начиная с \"<unk>\" (0) для неизвестных токенов. \n",
    "        Метод проходит по текстам в self.data['text'], токенизирует их и добавляет новые токены с индексами, \n",
    "        равными текущему размеру словаря.\n",
    "\n",
    "        Возвращает:\n",
    "            dict: Словарь токенов с их идентификаторами.\n",
    "        ''' \n",
    "    \n",
    "        vocab = {\"<unk>\": 0}\n",
    "        for text in self.data['text']:\n",
    "            for token in self.tokenizer(text):\n",
    "                if token not in vocab:\n",
    "                    vocab[token] = len(vocab)\n",
    "        return vocab\n",
    "\n",
    "    def encode_text(self, text):\n",
    "        return torch.tensor([self.vocab.get(token, self.vocab[\"<unk>\"]) for token in self.tokenizer(text)], dtype=torch.long)\n",
    "\n",
    "    def __len__(self):\n",
    "        return len(self.data)\n",
    "\n",
    "    def __getitem__(self, idx):\n",
    "        label = self.data.iloc[idx]['label'] - 1\n",
    "        text = self.data.iloc[idx]['text']\n",
    "        encoded_text = self.encode_text(text)\n",
    "        return label, encoded_text, text"
   ]
  },
  {
   "cell_type": "code",
   "execution_count": 12,
   "metadata": {},
   "outputs": [],
   "source": [
    "class TextDataModule(LightningDataModule):\n",
    "    def __init__(self, train_csv, test_csv, batch_size=16, tokenizer=None):\n",
    "        super().__init__()\n",
    "        self.train_csv = train_csv\n",
    "        self.test_csv = test_csv\n",
    "        self.batch_size = batch_size\n",
    "        self.tokenizer = tokenizer or (lambda x: x.split())\n",
    "\n",
    "    def setup(self, stage=None):\n",
    "        self.train_dataset = TextDataset(self.train_csv, tokenizer=self.tokenizer)\n",
    "        self.test_dataset = TextDataset(self.test_csv, vocab=self.train_dataset.vocab, tokenizer=self.tokenizer)\n",
    "\n",
    "        self.vocab = self.train_dataset.vocab\n",
    "        self.num_classes = len(set(self.train_dataset.data['label']))\n",
    "\n",
    "    def collate_fn(self, batch):\n",
    "        labels, texts, origs = zip(*batch)\n",
    "        offsets = torch.tensor([0] + [len(text) for text in texts[:-1]]).cumsum(dim=0)\n",
    "        texts = torch.cat(texts)\n",
    "        labels = torch.tensor(labels, dtype=torch.long)\n",
    "        return texts, offsets, labels, origs\n",
    "\n",
    "    def train_dataloader(self):\n",
    "        return DataLoader(self.train_dataset, batch_size=self.batch_size, shuffle=True, collate_fn=self.collate_fn, num_workers=4)\n",
    "\n",
    "    def val_dataloader(self):\n",
    "        return DataLoader(self.test_dataset, batch_size=self.batch_size, collate_fn=self.collate_fn, num_workers=4)\n"
   ]
  },
  {
   "cell_type": "markdown",
   "metadata": {},
   "source": [
    "# <center id=\"p2\"> ☝️ 1-й способ: логируем через консоль\n",
    "\n",
    "<div class=\"alert alert-info\"> \n",
    "\n",
    "\n",
    "Удобно смотреть на промежуточные итоги обучения модели - для мониторинга на каких примерах модель сильнее ошибается."
   ]
  },
  {
   "cell_type": "markdown",
   "metadata": {},
   "source": [
    "<div class=\"alert alert-info\"> \n",
    "    \n",
    "**Для этого:** В валидационный стэп добавляем промежуточное логирование текстов и предсказаний, чтобы они отображались в `ClearML` - можно в реальном времени следить как модель \"умнеет\", глядя на её предсказания.\n",
    "\n",
    "\n",
    "Это можно сделать двумя способами:\n",
    "* через консоль, используя `logger ClearML`\n",
    "* через `debug samples`, используя `TensorBoardLogger`\n",
    "\n",
    "Рассмотрим оба варианта!"
   ]
  },
  {
   "cell_type": "code",
   "execution_count": 13,
   "metadata": {},
   "outputs": [],
   "source": [
    "# Пишем класс для модели в LightningModule\n",
    "class TextSentimentModel(LightningModule):\n",
    "    def __init__(self, vocab_size, embed_dim, num_class, learning_rate=1.0, logger=None, batch_size=48):\n",
    "        super().__init__()\n",
    "        self.embedding = nn.EmbeddingBag(vocab_size, embed_dim, sparse=True)\n",
    "        self.fc = nn.Linear(embed_dim, num_class)\n",
    "        self.criterion = nn.CrossEntropyLoss()\n",
    "        self.learning_rate = learning_rate\n",
    "        self.loggs = logger # добавляем внешний логгер\n",
    "        self.batch_size = batch_size\n",
    "        self.init_weights()\n",
    "\n",
    "    def init_weights(self):\n",
    "        initrange = 0.5\n",
    "        self.embedding.weight.data.uniform_(-initrange, initrange)\n",
    "        self.fc.weight.data.uniform_(-initrange, initrange)\n",
    "        self.fc.bias.data.zero_()\n",
    "\n",
    "    def forward(self, text, offsets):\n",
    "        embedded = self.embedding(text, offsets)\n",
    "        return self.fc(embedded)\n",
    "\n",
    "    def training_step(self, batch, batch_idx):\n",
    "        text, offsets, labels, origs = batch\n",
    "        outputs = self.forward(text, offsets)\n",
    "        loss = self.criterion(outputs, labels)\n",
    "        self.log(\"train_loss\", loss, batch_size=self.batch_size)\n",
    "        return loss\n",
    "\n",
    "    def validation_step(self, batch, batch_idx):\n",
    "        text, offsets, labels, origs = batch\n",
    "        outputs = self.forward(text, offsets)\n",
    "        loss = self.criterion(outputs, labels)\n",
    "        acc = (outputs.argmax(1) == labels).float().mean()\n",
    "\n",
    "        # Логируем validation loss and accuracy в прогресс бар\n",
    "        self.log(\"val_loss\", loss, prog_bar=True, batch_size=self.batch_size)\n",
    "        self.log(\"val_acc\", acc, prog_bar=True, batch_size=self.batch_size)\n",
    "\n",
    "        # Логируем тестовые сэмплы\n",
    "        if logger and batch_idx == 0:  # Логируем только для первого батча\n",
    "            predictions = outputs.argmax(1)\n",
    "            print(f\"Val_predictions for epoch {self.current_epoch}:\")\n",
    "            for i in range(min(5, len(labels))):\n",
    "                    self.loggs.report_text(\n",
    "                    f'''Text: {origs[i]}; \n",
    "                    Prediction: {classes[predictions[i].item() - 1]}; \n",
    "                    True Label: {classes[labels[i].item() - 1]}'''\n",
    "                )\n",
    "\n",
    "    def configure_optimizers(self):\n",
    "        optimizer = torch.optim.SGD(self.parameters(), lr=self.learning_rate)\n",
    "        scheduler = torch.optim.lr_scheduler.StepLR(optimizer, step_size=2, gamma=0.9)\n",
    "        return [optimizer], [scheduler]"
   ]
  },
  {
   "cell_type": "code",
   "execution_count": 14,
   "metadata": {},
   "outputs": [
    {
     "data": {
      "text/plain": [
       "{'project_name': 'TextClassification',\n",
       " 'task_name': 'AG_NEWS Text Classification',\n",
       " 'train_csv': 'https://raw.githubusercontent.com/mhjabreel/CharCnn_Keras/master/data/ag_news_csv/train.csv',\n",
       " 'test_csv': 'https://raw.githubusercontent.com/mhjabreel/CharCnn_Keras/master/data/ag_news_csv/test.csv',\n",
       " 'batch_size': 48,\n",
       " 'learning_rate': 0.01,\n",
       " 'seed': 2024,\n",
       " 'device': 'cpu',\n",
       " 'embed_dim': 32,\n",
       " 'epochs': 3}"
      ]
     },
     "execution_count": 14,
     "metadata": {},
     "output_type": "execute_result"
    }
   ],
   "source": [
    "# Создадим конфиг\n",
    "@dataclass\n",
    "class CFG:\n",
    "    project_name: str = \"TextClassification\"\n",
    "    task_name: str = \"AG_NEWS Text Classification\"\n",
    "    train_csv: str = \"https://raw.githubusercontent.com/mhjabreel/CharCnn_Keras/master/data/ag_news_csv/train.csv\"\n",
    "    test_csv: str = \"https://raw.githubusercontent.com/mhjabreel/CharCnn_Keras/master/data/ag_news_csv/test.csv\"\n",
    "    batch_size: int = 48\n",
    "    learning_rate: float = 0.01\n",
    "    seed: int = 2024\n",
    "    device: str = 'cpu'  #\"cuda\"\n",
    "    embed_dim: int = 32\n",
    "    epochs: int = 3\n",
    "\n",
    "# Чтобы сохранить конфигурацию текущего эксперимента, перенесём её в словарь\n",
    "cfg = CFG()\n",
    "configuration_dict = asdict(cfg)\n",
    "configuration_dict"
   ]
  },
  {
   "cell_type": "code",
   "execution_count": 15,
   "metadata": {},
   "outputs": [
    {
     "name": "stdout",
     "output_type": "stream",
     "text": [
      "ClearML Task: created new task id=488c8c3a113c4126bec2618c53ebc2bb\n",
      "2025-02-12 21:53:14,851 - clearml.Task - INFO - Storing jupyter notebook directly as code\n",
      "ClearML results page: https://app.clear.ml/projects/651ec2987cb34c0c9613bda5583f55e9/experiments/488c8c3a113c4126bec2618c53ebc2bb/output/log\n"
     ]
    }
   ],
   "source": [
    "# Initialize ClearML task\n",
    "task = Task.init(project_name=cfg.project_name, task_name=cfg.task_name)"
   ]
  },
  {
   "cell_type": "code",
   "execution_count": 16,
   "metadata": {},
   "outputs": [],
   "source": [
    "logger = Logger.current_logger()"
   ]
  },
  {
   "cell_type": "code",
   "execution_count": 18,
   "metadata": {},
   "outputs": [],
   "source": [
    "# Инициализируем DataModule\n",
    "data_module = TextDataModule(cfg.train_csv, cfg.test_csv, batch_size=cfg.batch_size)\n",
    "data_module.setup()"
   ]
  },
  {
   "cell_type": "code",
   "execution_count": 20,
   "metadata": {},
   "outputs": [
    {
     "name": "stdout",
     "output_type": "stream",
     "text": [
      "{'project_name': 'TextClassification', 'task_name': 'AG_NEWS Text Classification', 'train_csv': 'https://raw.githubusercontent.com/mhjabreel/CharCnn_Keras/master/data/ag_news_csv/train.csv', 'test_csv': 'https://raw.githubusercontent.com/mhjabreel/CharCnn_Keras/master/data/ag_news_csv/test.csv', 'batch_size': 48, 'learning_rate': 0.01, 'seed': 2024, 'device': 'cpu', 'embed_dim': 32, 'epochs': 3}\n"
     ]
    }
   ],
   "source": [
    "# Логируем конфиг в ClearML\n",
    "cfg.vocab_size = len(data_module.vocab)\n",
    "cfg.num_class = data_module.num_classes\n",
    "configuration_dict = task.connect(asdict(cfg))\n",
    "print(configuration_dict)  # printing actual configuration (after override in remote mode)"
   ]
  },
  {
   "cell_type": "code",
   "execution_count": 21,
   "metadata": {},
   "outputs": [],
   "source": [
    "# Инициализируем модель\n",
    "model = TextSentimentModel(cfg.vocab_size, cfg.embed_dim, cfg.num_class, cfg.learning_rate, logger=logger)"
   ]
  },
  {
   "cell_type": "code",
   "execution_count": 23,
   "metadata": {},
   "outputs": [
    {
     "name": "stderr",
     "output_type": "stream",
     "text": [
      "GPU available: True (cuda), used: False\n",
      "TPU available: False, using: 0 TPU cores\n",
      "HPU available: False, using: 0 HPUs\n"
     ]
    }
   ],
   "source": [
    "trainer = Trainer(\n",
    "    max_epochs=cfg.epochs,\n",
    "    accelerator=cfg.device,\n",
    ")"
   ]
  },
  {
   "cell_type": "markdown",
   "metadata": {},
   "source": [
    "<div class=\"alert alert-info\"> \n",
    "    \n",
    "Запускаем тренировку, видим, что каждую эпоху в консоль пишутся результаты инференса модели на валидационных сэмплах."
   ]
  },
  {
   "cell_type": "code",
   "execution_count": 24,
   "metadata": {},
   "outputs": [
    {
     "name": "stderr",
     "output_type": "stream",
     "text": [
      "\n",
      "  | Name      | Type             | Params | Mode \n",
      "-------------------------------------------------------\n",
      "0 | embedding | EmbeddingBag     | 5.0 M  | train\n",
      "1 | fc        | Linear           | 132    | train\n",
      "2 | criterion | CrossEntropyLoss | 0      | train\n",
      "-------------------------------------------------------\n",
      "5.0 M     Trainable params\n",
      "0         Non-trainable params\n",
      "5.0 M     Total params\n",
      "19.974    Total estimated model params size (MB)\n",
      "3         Modules in train mode\n",
      "0         Modules in eval mode\n"
     ]
    },
    {
     "data": {
      "application/vnd.jupyter.widget-view+json": {
       "model_id": "954363ac2ea24c55adcf6ceafd7e81ba",
       "version_major": 2,
       "version_minor": 0
      },
      "text/plain": [
       "Sanity Checking: |          | 0/? [00:00<?, ?it/s]"
      ]
     },
     "metadata": {},
     "output_type": "display_data"
    },
    {
     "data": {
      "application/vnd.jupyter.widget-view+json": {
       "model_id": "f8356fa5f4c44b38b99d911748effa15",
       "version_major": 2,
       "version_minor": 0
      },
      "text/plain": [
       "Training: |          | 0/? [00:00<?, ?it/s]"
      ]
     },
     "metadata": {},
     "output_type": "display_data"
    },
    {
     "data": {
      "application/vnd.jupyter.widget-view+json": {
       "model_id": "e82d7dacbdf1455d8e71d0291c5f0d53",
       "version_major": 2,
       "version_minor": 0
      },
      "text/plain": [
       "Validation: |          | 0/? [00:00<?, ?it/s]"
      ]
     },
     "metadata": {},
     "output_type": "display_data"
    },
    {
     "name": "stdout",
     "output_type": "stream",
     "text": [
      "Val_predictions for epoch 0:\n",
      "Text: ----- NASHVILLE, Tennessee (Ticker) - The Nashville Predators signed defenseman Ryan Suter, their first-round pick in the 2003 draft, on Thursday.; \n",
      "                    Prediction: Sports; \n",
      "                    True Label: World\n",
      "Text: Strong international sales growth and solid U.S. comps propel the company's stock to its highest price ever.; \n",
      "                    Prediction: Sci/Tec; \n",
      "                    True Label: Sports\n",
      "Text: The Russian president puts some blame on his international critics -- and supports president Bush; \n",
      "                    Prediction: Business; \n",
      "                    True Label: Business\n",
      "Text: The Net needs a new layer of abilities that will deal with imminent problems of capacity, security and reliability, Intel's CTO says.; \n",
      "                    Prediction: Sports; \n",
      "                    True Label: Sci/Tec\n",
      "Text: BOSTON - Computer viruses and worms will have to share the stage with a new challenger for the attention of attendees at a conference of antivirus researchers: spam e-mail.; \n",
      "                    Prediction: Business; \n",
      "                    True Label: Sci/Tec\n"
     ]
    },
    {
     "data": {
      "application/vnd.jupyter.widget-view+json": {
       "model_id": "9501eb274d2345438a4fb1f975067963",
       "version_major": 2,
       "version_minor": 0
      },
      "text/plain": [
       "Validation: |          | 0/? [00:00<?, ?it/s]"
      ]
     },
     "metadata": {},
     "output_type": "display_data"
    },
    {
     "name": "stdout",
     "output_type": "stream",
     "text": [
      "Val_predictions for epoch 1:\n",
      "Text: ----- NASHVILLE, Tennessee (Ticker) - The Nashville Predators signed defenseman Ryan Suter, their first-round pick in the 2003 draft, on Thursday.; \n",
      "                    Prediction: Sports; \n",
      "                    True Label: World\n",
      "Text: Strong international sales growth and solid U.S. comps propel the company's stock to its highest price ever.; \n",
      "                    Prediction: Sci/Tec; \n",
      "                    True Label: Sports\n",
      "Text: The Russian president puts some blame on his international critics -- and supports president Bush; \n",
      "                    Prediction: Business; \n",
      "                    True Label: Business\n",
      "Text: The Net needs a new layer of abilities that will deal with imminent problems of capacity, security and reliability, Intel's CTO says.; \n",
      "                    Prediction: Sports; \n",
      "                    True Label: Sci/Tec\n",
      "Text: BOSTON - Computer viruses and worms will have to share the stage with a new challenger for the attention of attendees at a conference of antivirus researchers: spam e-mail.; \n",
      "                    Prediction: Business; \n",
      "                    True Label: Sci/Tec\n"
     ]
    },
    {
     "data": {
      "application/vnd.jupyter.widget-view+json": {
       "model_id": "0d6e87db7d36459ab8061692907dd414",
       "version_major": 2,
       "version_minor": 0
      },
      "text/plain": [
       "Validation: |          | 0/? [00:00<?, ?it/s]"
      ]
     },
     "metadata": {},
     "output_type": "display_data"
    },
    {
     "name": "stdout",
     "output_type": "stream",
     "text": [
      "Val_predictions for epoch 2:\n",
      "Text: ----- NASHVILLE, Tennessee (Ticker) - The Nashville Predators signed defenseman Ryan Suter, their first-round pick in the 2003 draft, on Thursday.; \n",
      "                    Prediction: Business; \n",
      "                    True Label: World\n",
      "Text: Strong international sales growth and solid U.S. comps propel the company's stock to its highest price ever.; \n",
      "                    Prediction: Sci/Tec; \n",
      "                    True Label: Sports\n",
      "Text: The Russian president puts some blame on his international critics -- and supports president Bush; \n",
      "                    Prediction: Business; \n",
      "                    True Label: Business\n",
      "Text: The Net needs a new layer of abilities that will deal with imminent problems of capacity, security and reliability, Intel's CTO says.; \n",
      "                    Prediction: Sports; \n",
      "                    True Label: Sci/Tec\n",
      "Text: BOSTON - Computer viruses and worms will have to share the stage with a new challenger for the attention of attendees at a conference of antivirus researchers: spam e-mail.; \n",
      "                    Prediction: Business; \n",
      "                    True Label: Sci/Tec\n"
     ]
    },
    {
     "name": "stderr",
     "output_type": "stream",
     "text": [
      "`Trainer.fit` stopped: `max_epochs=3` reached.\n"
     ]
    }
   ],
   "source": [
    "# Training\n",
    "trainer.fit(model, datamodule=data_module)"
   ]
  },
  {
   "cell_type": "markdown",
   "metadata": {},
   "source": [
    "<div class=\"alert alert-info\"> \n",
    "\n",
    "Проверим как модель предсказывает на случайном примере из теста!"
   ]
  },
  {
   "cell_type": "code",
   "execution_count": 25,
   "metadata": {},
   "outputs": [],
   "source": [
    "def predict(text, model, vocab, tokenizer):\n",
    "    model.eval()\n",
    "    with torch.no_grad():\n",
    "        tokens = torch.tensor([vocab.get(token, vocab[\"<unk>\"]) for token in tokenizer(text)], dtype=torch.long)\n",
    "        offsets = torch.tensor([0])\n",
    "        output = model(tokens, offsets)\n",
    "        prediction = output.argmax(1).item()\n",
    "        return prediction"
   ]
  },
  {
   "cell_type": "code",
   "execution_count": 26,
   "metadata": {},
   "outputs": [
    {
     "name": "stdout",
     "output_type": "stream",
     "text": [
      "Text: Javy Lopez drives in four runs, Daniel Cabrera becomes the first rookie to win 10 games this season, and the Orioles hold Tampa Bay to two hits in an 8-0 victory Wednesday night.\n",
      "True Label: 1\n",
      "Predicted Label: 1\n"
     ]
    }
   ],
   "source": [
    "# Load a random example from the test dataset\n",
    "random_idx = torch.randint(0, len(data_module.test_dataset), (1,)).item()\n",
    "example_label, example_text, orig = data_module.test_dataset[random_idx]\n",
    "predicted_label = predict(orig, model, data_module.vocab, data_module.tokenizer)\n",
    "\n",
    "print(f\"Text: {orig}\")\n",
    "print(f\"True Label: {example_label}\")\n",
    "print(f\"Predicted Label: {predicted_label}\")"
   ]
  },
  {
   "cell_type": "code",
   "execution_count": 27,
   "metadata": {},
   "outputs": [],
   "source": [
    "# Не забываем завершить эксперимент\n",
    "task.close()"
   ]
  },
  {
   "cell_type": "markdown",
   "metadata": {},
   "source": [
    "\n",
    "    \n",
    "## <center> Переходим в UI от ClearML\n",
    "\n",
    "Cмотрим как залогировались наши сэмплы - отслеживаем прогресс обучения.\n",
    "\n",
    "<div class=\"alert alert-info\"> \n",
    "\n",
    "<img src='../images/clnlp.png'> "
   ]
  },
  {
   "cell_type": "markdown",
   "metadata": {},
   "source": [
    "## <center id=\"p7\"> ✌️ 2-й способ: логирование через `TensorBoardLogger`\n",
    "\n",
    "<div class=\"alert alert-info\"> \n",
    "    \n",
    "* Более лаконичный код\n",
    "* Меньше мусора в консоли\n",
    "* Легче найти валидационные сэмплы на отдельной вкладке\n",
    "* Не нужно разгребать всю консоль и искать результаты инференса среди других сообщений в консоли."
   ]
  },
  {
   "cell_type": "code",
   "execution_count": 28,
   "metadata": {},
   "outputs": [],
   "source": [
    "class TextSentimentModel(LightningModule):\n",
    "    def __init__(self, vocab_size, embed_dim, num_class, learning_rate=1.0, batch_size=48):\n",
    "        super().__init__()\n",
    "        self.embedding = nn.EmbeddingBag(vocab_size, embed_dim, sparse=True)\n",
    "        self.fc = nn.Linear(embed_dim, num_class)\n",
    "        self.criterion = nn.CrossEntropyLoss()\n",
    "        self.learning_rate = learning_rate\n",
    "        self.batch_size = batch_size\n",
    "        self.init_weights()\n",
    "\n",
    "    def init_weights(self):\n",
    "        initrange = 0.5\n",
    "        self.embedding.weight.data.uniform_(-initrange, initrange)\n",
    "        self.fc.weight.data.uniform_(-initrange, initrange)\n",
    "        self.fc.bias.data.zero_()\n",
    "\n",
    "    def forward(self, text, offsets):\n",
    "        embedded = self.embedding(text, offsets)\n",
    "        return self.fc(embedded)\n",
    "\n",
    "    def training_step(self, batch, batch_idx):\n",
    "        text, offsets, labels, origs = batch\n",
    "        outputs = self.forward(text, offsets)\n",
    "        loss = self.criterion(outputs, labels)\n",
    "        self.log(\"train_loss\", loss, batch_size=self.batch_size)\n",
    "        return loss\n",
    "\n",
    "    def validation_step(self, batch, batch_idx):\n",
    "        text, offsets, labels, origs = batch\n",
    "        outputs = self.forward(text, offsets)\n",
    "        loss = self.criterion(outputs, labels)\n",
    "        acc = (outputs.argmax(1) == labels).float().mean()\n",
    "\n",
    "        # Логируем validation loss and accuracy в прогресс бар\n",
    "        self.log(\"val_loss\", loss, prog_bar=True, batch_size=self.batch_size)\n",
    "        self.log(\"val_acc\", acc, prog_bar=True, batch_size=self.batch_size)\n",
    "\n",
    "        # # Логируем тестовые сэмплы\n",
    "        if batch_idx == 0:  # Логируем только для первого батча\n",
    "            predictions = outputs.argmax(1)\n",
    "            for i in range(min(5, len(labels))):\n",
    "                    self.logger.experiment.add_text(\n",
    "                \"val_predictions\",\n",
    "                f'''Text: {origs[i]}; \n",
    "                Prediction: {classes[predictions[i].item() - 1]}; \n",
    "                True Label: {classes[labels[i].item() - 1]}''',\n",
    "                self.global_step\n",
    "            )\n",
    "\n",
    "\n",
    "    def configure_optimizers(self):\n",
    "        optimizer = torch.optim.SGD(self.parameters(), lr=self.learning_rate)\n",
    "        scheduler = torch.optim.lr_scheduler.StepLR(optimizer, step_size=2, gamma=0.9)\n",
    "        return [optimizer], [scheduler]"
   ]
  },
  {
   "cell_type": "code",
   "execution_count": 29,
   "metadata": {
    "scrolled": true
   },
   "outputs": [
    {
     "name": "stdout",
     "output_type": "stream",
     "text": [
      "ClearML Task: created new task id=c9b914e959bb4a398592e2f0bea89352\n",
      "ClearML results page: https://app.clear.ml/projects/651ec2987cb34c0c9613bda5583f55e9/experiments/c9b914e959bb4a398592e2f0bea89352/output/log\n"
     ]
    }
   ],
   "source": [
    "# Initialize ClearML task\n",
    "task = Task.init(project_name=cfg.project_name, \n",
    "                 task_name=cfg.task_name, \n",
    "                 auto_connect_frameworks={'tensorboard': True}) # Добавляем для отображения сообщений TensorBoard в ClearML"
   ]
  },
  {
   "cell_type": "code",
   "execution_count": 30,
   "metadata": {},
   "outputs": [],
   "source": [
    "model = TextSentimentModel(cfg.vocab_size, cfg.embed_dim, cfg.num_class, cfg.learning_rate)"
   ]
  },
  {
   "cell_type": "code",
   "execution_count": 31,
   "metadata": {},
   "outputs": [
    {
     "name": "stderr",
     "output_type": "stream",
     "text": [
      "GPU available: True (cuda), used: False\n",
      "TPU available: False, using: 0 TPU cores\n",
      "HPU available: False, using: 0 HPUs\n",
      "/home/sinarian/venvs/sinara/lib/python3.10/site-packages/lightning/pytorch/trainer/setup.py:177: PossibleUserWarning:\n",
      "\n",
      "GPU available but not used. You can set it by doing `Trainer(accelerator='gpu')`.\n",
      "\n"
     ]
    }
   ],
   "source": [
    "# Логгер и тренер\n",
    "logger = TensorBoardLogger(\"./lightning_logs\", name=\"text_classification\")\n",
    "trainer = Trainer(\n",
    "    max_epochs=cfg.epochs,\n",
    "    logger=[logger],\n",
    "    accelerator=cfg.device,\n",
    ")"
   ]
  },
  {
   "cell_type": "code",
   "execution_count": 32,
   "metadata": {},
   "outputs": [
    {
     "name": "stderr",
     "output_type": "stream",
     "text": [
      "\n",
      "  | Name      | Type             | Params | Mode \n",
      "-------------------------------------------------------\n",
      "0 | embedding | EmbeddingBag     | 5.0 M  | train\n",
      "1 | fc        | Linear           | 132    | train\n",
      "2 | criterion | CrossEntropyLoss | 0      | train\n",
      "-------------------------------------------------------\n",
      "5.0 M     Trainable params\n",
      "0         Non-trainable params\n",
      "5.0 M     Total params\n",
      "19.974    Total estimated model params size (MB)\n",
      "3         Modules in train mode\n",
      "0         Modules in eval mode\n"
     ]
    },
    {
     "data": {
      "application/vnd.jupyter.widget-view+json": {
       "model_id": "e722d9a9821147b49f9152a8c6426925",
       "version_major": 2,
       "version_minor": 0
      },
      "text/plain": [
       "Sanity Checking: |          | 0/? [00:00<?, ?it/s]"
      ]
     },
     "metadata": {},
     "output_type": "display_data"
    },
    {
     "data": {
      "application/vnd.jupyter.widget-view+json": {
       "model_id": "13f17c6f42ee430383ee72fb58a7e347",
       "version_major": 2,
       "version_minor": 0
      },
      "text/plain": [
       "Training: |          | 0/? [00:00<?, ?it/s]"
      ]
     },
     "metadata": {},
     "output_type": "display_data"
    },
    {
     "data": {
      "application/vnd.jupyter.widget-view+json": {
       "model_id": "9febea7f4d9e4d4a84b9da23760ed32b",
       "version_major": 2,
       "version_minor": 0
      },
      "text/plain": [
       "Validation: |          | 0/? [00:00<?, ?it/s]"
      ]
     },
     "metadata": {},
     "output_type": "display_data"
    },
    {
     "data": {
      "application/vnd.jupyter.widget-view+json": {
       "model_id": "7d7ee187524f4b7290085117025e9cf9",
       "version_major": 2,
       "version_minor": 0
      },
      "text/plain": [
       "Validation: |          | 0/? [00:00<?, ?it/s]"
      ]
     },
     "metadata": {},
     "output_type": "display_data"
    },
    {
     "data": {
      "application/vnd.jupyter.widget-view+json": {
       "model_id": "705cc4be8d6440f484cc1998a068283d",
       "version_major": 2,
       "version_minor": 0
      },
      "text/plain": [
       "Validation: |          | 0/? [00:00<?, ?it/s]"
      ]
     },
     "metadata": {},
     "output_type": "display_data"
    },
    {
     "name": "stderr",
     "output_type": "stream",
     "text": [
      "`Trainer.fit` stopped: `max_epochs=3` reached.\n"
     ]
    }
   ],
   "source": [
    "trainer.fit(model, datamodule=data_module)"
   ]
  },
  {
   "cell_type": "code",
   "execution_count": 33,
   "metadata": {},
   "outputs": [],
   "source": [
    "# Не забываем завершить эксперимент\n",
    "task.close()"
   ]
  },
  {
   "cell_type": "markdown",
   "metadata": {},
   "source": [
    "<div class=\"alert alert-success\">\n",
    "    \n",
    "Посмотрим на вкладку `debug samples`\n",
    "\n",
    "<img src='../images/debnlp.png'>"
   ]
  },
  {
   "cell_type": "markdown",
   "metadata": {},
   "source": [
    "<div class=\"alert alert-success\">\n",
    "    \n",
    "Посмотрим как выглядит отдельный сэмпл\n",
    "(откроется в отдельном окне, если кликнуть по нему)\n",
    "\n",
    "<img src='../images/smpnlp.png'>"
   ]
  },
  {
   "cell_type": "markdown",
   "metadata": {},
   "source": [
    "# <center id=\"p5\"> 🎚 Finetuning трансформера под свою задачу </center>\n",
    "\n",
    "<div class=\"alert alert-info\"> \n",
    "    \n",
    "Рассмотрим ещё один популярный юзкейс - дообучение (файнтюнинг) трансформера под свою задачу в связке `Lightning + ClearML`!\n",
    "\n",
    "Возьмём датасет `IMBD` с отзывами о фильмах и дообучим `DistilBert` под задачу определения характера отзыва."
   ]
  },
  {
   "cell_type": "code",
   "execution_count": 2,
   "metadata": {},
   "outputs": [],
   "source": [
    "from transformers import DistilBertTokenizer, DistilBertForSequenceClassification, AdamW\n",
    "from datasets import load_dataset"
   ]
  },
  {
   "cell_type": "code",
   "execution_count": 3,
   "metadata": {},
   "outputs": [],
   "source": [
    "class IMDBDataModule(LightningDataModule):\n",
    "    def __init__(self, model_name=\"distilbert-base-uncased\", batch_size=16):\n",
    "        super().__init__()\n",
    "        self.tokenizer = DistilBertTokenizer.from_pretrained(model_name)\n",
    "        self.batch_size = batch_size\n",
    "\n",
    "    def prepare_data(self):\n",
    "        # Загружаем датасет IMDB\n",
    "        load_dataset(\"imdb\")\n",
    "\n",
    "    def setup(self, stage=None):\n",
    "        dataset = load_dataset(\"imdb\")\n",
    "        self.train_data = dataset[\"train\"]\n",
    "        self.test_data = dataset[\"test\"]\n",
    "\n",
    "        def tokenize_function(examples):\n",
    "            return self.tokenizer(examples[\"text\"], padding=\"max_length\", truncation=True, max_length=512)\n",
    "\n",
    "        self.train_data = self.train_data.map(tokenize_function, batched=True)\n",
    "        self.test_data = self.test_data.map(tokenize_function, batched=True)\n",
    "\n",
    "        self.train_data.set_format(type=\"torch\", columns=[\"input_ids\", \"attention_mask\", \"label\", \"text\"])\n",
    "        self.test_data.set_format(type=\"torch\", columns=[\"input_ids\", \"attention_mask\", \"label\", \"text\"])\n",
    "\n",
    "    def train_dataloader(self):\n",
    "        return DataLoader(self.train_data, batch_size=self.batch_size, shuffle=True, num_workers=4)\n",
    "\n",
    "    def val_dataloader(self):\n",
    "        return DataLoader(self.test_data, batch_size=self.batch_size, num_workers=4)\n"
   ]
  },
  {
   "cell_type": "code",
   "execution_count": 4,
   "metadata": {},
   "outputs": [],
   "source": [
    "class DistilBertClassifier(LightningModule):\n",
    "    def __init__(self, model_name=\"distilbert-base-uncased\", learning_rate=2e-5):\n",
    "        super().__init__()\n",
    "        self.save_hyperparameters()\n",
    "        self.model = DistilBertForSequenceClassification.from_pretrained(model_name, num_labels=2)\n",
    "        self.loss_fn = nn.CrossEntropyLoss()\n",
    "\n",
    "    def forward(self, input_ids, attention_mask):\n",
    "        return self.model(input_ids, attention_mask=attention_mask).logits\n",
    "\n",
    "    def training_step(self, batch, batch_idx):\n",
    "        outputs = self(batch[\"input_ids\"], batch[\"attention_mask\"])\n",
    "        loss = self.loss_fn(outputs, batch[\"label\"])\n",
    "        self.log(\"train_loss\", loss)\n",
    "        return loss\n",
    "\n",
    "    def validation_step(self, batch, batch_idx):\n",
    "        outputs = self(batch[\"input_ids\"], batch[\"attention_mask\"])\n",
    "        loss = self.loss_fn(outputs, batch[\"label\"])\n",
    "        acc = (outputs.argmax(1) == batch[\"label\"]).float().mean()\n",
    "        \n",
    "        self.log(\"val_loss\", loss, prog_bar=True)\n",
    "        self.log(\"val_acc\", acc, prog_bar=True)\n",
    "        \n",
    "        # Логируем предсказания в TensorBoard\n",
    "        if batch_idx == 0:\n",
    "            for i in range(min(5, len(batch[\"label\"]))):\n",
    "                self.logger.experiment.add_text(\n",
    "                    \"val_predictions\",\n",
    "                    f'''Text: {batch['text'][i]}; \n",
    "                    Prediction: {outputs.argmax(1)[i].item()}; \n",
    "                    True Label: {batch['label'][i].item()}''',\n",
    "                    self.global_step\n",
    "                )\n",
    "\n",
    "    def configure_optimizers(self):\n",
    "        optimizer = AdamW(self.parameters(), lr=self.hparams.learning_rate)\n",
    "        return optimizer"
   ]
  },
  {
   "cell_type": "code",
   "execution_count": 5,
   "metadata": {},
   "outputs": [
    {
     "data": {
      "text/plain": [
       "{'project_name': 'TextClassification',\n",
       " 'task_name': 'Fine-tune DistilBERT',\n",
       " 'batch_size': 32,\n",
       " 'learning_rate': 2e-05,\n",
       " 'seed': 2024,\n",
       " 'device': 'cuda',\n",
       " 'epochs': 3}"
      ]
     },
     "execution_count": 5,
     "metadata": {},
     "output_type": "execute_result"
    }
   ],
   "source": [
    "@dataclass\n",
    "class CFG:\n",
    "    project_name: str = \"TextClassification\"\n",
    "    task_name: str = \"Fine-tune DistilBERT\"\n",
    "    batch_size: int = 32\n",
    "    learning_rate: float = 2e-5\n",
    "    seed: int = 2024\n",
    "    device: str = 'cuda'  #\"cuda\"\n",
    "    epochs: int = 3\n",
    "\n",
    "# Чтобы сохранить конфигурацию текущего эксперимента, перенесём её в словарь\n",
    "cfg = CFG()\n",
    "configuration_dict = asdict(cfg)\n",
    "configuration_dict"
   ]
  },
  {
   "cell_type": "code",
   "execution_count": 6,
   "metadata": {},
   "outputs": [
    {
     "name": "stdout",
     "output_type": "stream",
     "text": [
      "ClearML Task: created new task id=60fc42b4e08a4532af10aa834f9cef9a\n",
      "2025-02-12 23:40:48,025 - clearml.Task - INFO - Storing jupyter notebook directly as code\n",
      "ClearML results page: https://app.clear.ml/projects/651ec2987cb34c0c9613bda5583f55e9/experiments/60fc42b4e08a4532af10aa834f9cef9a/output/log\n",
      "ClearML Monitor: Could not detect iteration reporting, falling back to iterations as seconds-from-start\n"
     ]
    }
   ],
   "source": [
    "# Инициализация задачи в ClearML\n",
    "task = Task.init(project_name=cfg.project_name, \n",
    "                 task_name=cfg.task_name, \n",
    "                 auto_connect_frameworks={'tensorboard': True})"
   ]
  },
  {
   "cell_type": "code",
   "execution_count": 7,
   "metadata": {},
   "outputs": [
    {
     "data": {
      "application/vnd.jupyter.widget-view+json": {
       "model_id": "476197434ba841239a4073e9970b1534",
       "version_major": 2,
       "version_minor": 0
      },
      "text/plain": [
       "Map:   0%|          | 0/25000 [00:00<?, ? examples/s]"
      ]
     },
     "metadata": {},
     "output_type": "display_data"
    },
    {
     "data": {
      "application/vnd.jupyter.widget-view+json": {
       "model_id": "962a91521e5449a58afbc0793f3f0d6c",
       "version_major": 2,
       "version_minor": 0
      },
      "text/plain": [
       "Map:   0%|          | 0/25000 [00:00<?, ? examples/s]"
      ]
     },
     "metadata": {},
     "output_type": "display_data"
    },
    {
     "name": "stderr",
     "output_type": "stream",
     "text": [
      "Some weights of DistilBertForSequenceClassification were not initialized from the model checkpoint at distilbert-base-uncased and are newly initialized: ['classifier.bias', 'classifier.weight', 'pre_classifier.bias', 'pre_classifier.weight']\n",
      "You should probably TRAIN this model on a down-stream task to be able to use it for predictions and inference.\n"
     ]
    }
   ],
   "source": [
    "data_module = IMDBDataModule(batch_size=cfg.batch_size)\n",
    "data_module.prepare_data()\n",
    "data_module.setup()\n",
    "\n",
    "# Инициализация модели\n",
    "model = DistilBertClassifier(learning_rate=cfg.learning_rate)"
   ]
  },
  {
   "cell_type": "code",
   "execution_count": 8,
   "metadata": {},
   "outputs": [
    {
     "name": "stderr",
     "output_type": "stream",
     "text": [
      "Trainer will use only 1 of 2 GPUs because it is running inside an interactive / notebook environment. You may try to set `Trainer(devices=2)` but please note that multi-GPU inside interactive / notebook environments is considered experimental and unstable. Your mileage may vary.\n",
      "GPU available: True (cuda), used: True\n",
      "TPU available: False, using: 0 TPU cores\n",
      "HPU available: False, using: 0 HPUs\n"
     ]
    }
   ],
   "source": [
    "logger = TensorBoardLogger(\"lightning_logs\", name=\"distilbert_imdb\")\n",
    "trainer = Trainer(max_epochs=cfg.epochs, \n",
    "                  accelerator=cfg.device, \n",
    "                  logger=logger)"
   ]
  },
  {
   "cell_type": "code",
   "execution_count": 9,
   "metadata": {},
   "outputs": [
    {
     "name": "stderr",
     "output_type": "stream",
     "text": [
      "You are using a CUDA device ('NVIDIA GeForce RTX 3090') that has Tensor Cores. To properly utilize them, you should set `torch.set_float32_matmul_precision('medium' | 'high')` which will trade-off precision for performance. For more details, read https://pytorch.org/docs/stable/generated/torch.set_float32_matmul_precision.html#torch.set_float32_matmul_precision\n"
     ]
    },
    {
     "data": {
      "application/vnd.jupyter.widget-view+json": {
       "model_id": "333b837af3624bbaa00ee9b61599330d",
       "version_major": 2,
       "version_minor": 0
      },
      "text/plain": [
       "Map:   0%|          | 0/25000 [00:00<?, ? examples/s]"
      ]
     },
     "metadata": {},
     "output_type": "display_data"
    },
    {
     "data": {
      "application/vnd.jupyter.widget-view+json": {
       "model_id": "32e750bb8c374e4c812061acb80d362c",
       "version_major": 2,
       "version_minor": 0
      },
      "text/plain": [
       "Map:   0%|          | 0/25000 [00:00<?, ? examples/s]"
      ]
     },
     "metadata": {},
     "output_type": "display_data"
    },
    {
     "name": "stderr",
     "output_type": "stream",
     "text": [
      "LOCAL_RANK: 0 - CUDA_VISIBLE_DEVICES: [0,1]\n",
      "/home/sinarian/venvs/sinara/lib/python3.10/site-packages/transformers/optimization.py:591: FutureWarning:\n",
      "\n",
      "This implementation of AdamW is deprecated and will be removed in a future version. Use the PyTorch implementation torch.optim.AdamW instead, or set `no_deprecation_warning=True` to disable this warning\n",
      "\n",
      "\n",
      "  | Name    | Type                                | Params | Mode \n",
      "------------------------------------------------------------------------\n",
      "0 | model   | DistilBertForSequenceClassification | 67.0 M | eval \n",
      "1 | loss_fn | CrossEntropyLoss                    | 0      | train\n",
      "------------------------------------------------------------------------\n",
      "67.0 M    Trainable params\n",
      "0         Non-trainable params\n",
      "67.0 M    Total params\n",
      "267.820   Total estimated model params size (MB)\n",
      "1         Modules in train mode\n",
      "96        Modules in eval mode\n"
     ]
    },
    {
     "data": {
      "application/vnd.jupyter.widget-view+json": {
       "model_id": "bf165467aa3a4e20858febbe322a5e33",
       "version_major": 2,
       "version_minor": 0
      },
      "text/plain": [
       "Sanity Checking: |          | 0/? [00:00<?, ?it/s]"
      ]
     },
     "metadata": {},
     "output_type": "display_data"
    },
    {
     "data": {
      "application/vnd.jupyter.widget-view+json": {
       "model_id": "a2f713d804434e9893800dac4c8eb71f",
       "version_major": 2,
       "version_minor": 0
      },
      "text/plain": [
       "Training: |          | 0/? [00:00<?, ?it/s]"
      ]
     },
     "metadata": {},
     "output_type": "display_data"
    },
    {
     "data": {
      "application/vnd.jupyter.widget-view+json": {
       "model_id": "cadef26726f94f41b4c0a0cad096fcb9",
       "version_major": 2,
       "version_minor": 0
      },
      "text/plain": [
       "Validation: |          | 0/? [00:00<?, ?it/s]"
      ]
     },
     "metadata": {},
     "output_type": "display_data"
    },
    {
     "data": {
      "application/vnd.jupyter.widget-view+json": {
       "model_id": "a48897b134ca4e30ae6eb8434b12ae6f",
       "version_major": 2,
       "version_minor": 0
      },
      "text/plain": [
       "Validation: |          | 0/? [00:00<?, ?it/s]"
      ]
     },
     "metadata": {},
     "output_type": "display_data"
    },
    {
     "data": {
      "application/vnd.jupyter.widget-view+json": {
       "model_id": "e718fddb5a5e4091a31eccbc34530619",
       "version_major": 2,
       "version_minor": 0
      },
      "text/plain": [
       "Validation: |          | 0/? [00:00<?, ?it/s]"
      ]
     },
     "metadata": {},
     "output_type": "display_data"
    },
    {
     "name": "stderr",
     "output_type": "stream",
     "text": [
      "`Trainer.fit` stopped: `max_epochs=3` reached.\n"
     ]
    }
   ],
   "source": [
    "trainer.fit(model, datamodule=data_module)"
   ]
  },
  {
   "cell_type": "markdown",
   "metadata": {},
   "source": [
    "<div class=\"alert alert-info\"> \n",
    "\n",
    "Проверим инференс модели на случайной фразе!"
   ]
  },
  {
   "cell_type": "code",
   "execution_count": 47,
   "metadata": {},
   "outputs": [],
   "source": [
    "def predict(text, model, tokenizer):\n",
    "    model.eval()\n",
    "    with torch.no_grad():\n",
    "        tokens = tokenizer(text, return_tensors=\"pt\", truncation=True, padding=\"max_length\", max_length=512)\n",
    "        output = model(tokens[\"input_ids\"], tokens[\"attention_mask\"])\n",
    "        prediction = output.argmax(1).item()\n",
    "        return \"Positive\" if prediction == 1 else \"Negative\""
   ]
  },
  {
   "cell_type": "code",
   "execution_count": 48,
   "metadata": {},
   "outputs": [
    {
     "name": "stdout",
     "output_type": "stream",
     "text": [
      "Text: This movie was absolutely fantastic! The story, the acting, everything was perfect.\n",
      "Predicted Sentiment: Positive\n"
     ]
    }
   ],
   "source": [
    "sample_text = \"This movie was absolutely fantastic! The story, the acting, everything was perfect.\"\n",
    "predicted_label = predict(sample_text, model, data_module.tokenizer)\n",
    "\n",
    "print(f\"Text: {sample_text}\")\n",
    "print(f\"Predicted Sentiment: {predicted_label}\")"
   ]
  },
  {
   "cell_type": "code",
   "execution_count": 10,
   "metadata": {},
   "outputs": [],
   "source": [
    "task.close()"
   ]
  },
  {
   "cell_type": "markdown",
   "metadata": {},
   "source": [
    "<div class=\"alert alert-success\">\n",
    "    \n",
    "Можем перейти в `WebUI ClearML` и посмотреть на логи и `debug samples`.\n",
    "\n",
    "<img src='../images/debtr.png'>"
   ]
  },
  {
   "cell_type": "markdown",
   "metadata": {},
   "source": [
    "## <center id=\"p6\"> 🧸 Выводы и заключения ✅"
   ]
  },
  {
   "cell_type": "markdown",
   "metadata": {},
   "source": [
    "<div class=\"alert alert-success\">\n",
    "    \n",
    "В уроке рассмотрели способы как связка `Lightning + ClearML` поможет ускорить решение и отладку NLP-задач:\n",
    "* Попробовали 2 способа логирования отладочных сэмплов\n",
    "* Применили связку в задаче файнтюнинга трансформера\n",
    "* В практическом задании попрактикуетесь в файнтюнинге LLM!"
   ]
  },
  {
   "cell_type": "markdown",
   "metadata": {},
   "source": [
    "<div class=\"alert alert-info\">\n",
    "    \n",
    "Связка `Lightning + ClearML` делает разработку NLP-моделей быстрее и удобнее:\n",
    "\n",
    "* `Lightning` = упрощённое обучение\n",
    "* `ClearML` = мониторинг и автоматизация\n",
    "\n",
    "💡 Если вы работаете с NLP и PyTorch — этот стек ускорит ваш пайплайн и упростит отладку! 🚀"
   ]
  }
 ],
 "metadata": {
  "kernelspec": {
   "display_name": "cv",
   "language": "python",
   "name": "python3"
  },
  "language_info": {
   "codemirror_mode": {
    "name": "ipython",
    "version": 3
   },
   "file_extension": ".py",
   "mimetype": "text/x-python",
   "name": "python",
   "nbconvert_exporter": "python",
   "pygments_lexer": "ipython3",
   "version": "3.10.12"
  }
 },
 "nbformat": 4,
 "nbformat_minor": 4
}
