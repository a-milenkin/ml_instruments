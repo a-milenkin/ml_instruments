{
 "cells": [
  {
   "cell_type": "markdown",
   "metadata": {},
   "source": [
    "# <center> <h1> 🧶 Связка `Lightning` + `ClearML` в NLP. 🔤</h1> </center>"
   ]
  },
  {
   "cell_type": "markdown",
   "metadata": {
    "jp-MarkdownHeadingCollapsed": true
   },
   "source": [
    "### Оглавление ноутбука\n",
    "<img src='../images/clearml_py_lit.jpg' align=\"right\" width=\"508\" height=\"428\" >\n",
    "<br>\n",
    "\n",
    "<p><font size=\"3\" face=\"Arial\" font-size=\"large\"><ul type=\"square\">\n",
    "    \n",
    "<li><a href=\"#p1\">🧐 Посмотрим на связку в деле!</a></li>\n",
    "<li><a href=\"#p2\">☝️ 1-й способ: логируем через консоль</a></li>\n",
    "<li><a href=\"#p7\">✌️ 2-й способ: логирование через TensorBoardLogger</a></li>\n",
    "<li><a href=\"#p5\">🎚 Finetuning трансформера под свою задачу </a></li>\n",
    "<li><a href=\"#p6\">🧸 Выводы и заключения ✅ </a></li>\n",
    "\n",
    "\n",
    "    \n",
    "</ul></font></p>"
   ]
  },
  {
   "cell_type": "markdown",
   "metadata": {},
   "source": [
    "## <center> 🧑‍🎓 Разберем связку **PyTorch Lightning** + **ClearML**\n"
   ]
  },
  {
   "cell_type": "markdown",
   "metadata": {},
   "source": [
    "<div class=\"alert alert-info\">\n",
    "\n",
    "**ClearML** легко интегрируется с **PyTorch Lightning**, автоматически логируя модели PyTorch, параметры, и многое другое. Эта связка значимо упрощает работу в задачах с текстами. \n",
    "\n",
    "Просто добавляем две привычные строки кода в ваш скрипт **PyTorch Lightning**:"
   ]
  },
  {
   "cell_type": "markdown",
   "metadata": {},
   "source": [
    "<div class=\"alert alert-success\">\n",
    "    \n",
    "```python\n",
    "from clearml import Task\n",
    "\n",
    "task = Task.init(task_name=\"<task_name>\", project_name=\"<project_name>\")\n",
    "```"
   ]
  },
  {
   "cell_type": "markdown",
   "metadata": {},
   "source": [
    "<div class=\"alert alert-info\"> \n",
    "\n",
    "🤯 Вот и всё! Это создает эксперимент в **ClearML**, который фиксирует:\n",
    "\n",
    "* Исходный код и несохраненные изменения\n",
    "* Установленные пакеты\n",
    "* Модели PyTorch\n",
    "* Параметры, предоставляемые `LightningCLI`\n",
    "* Всё, что мы отправляем в TensorBoard\n",
    "* Весь выход консоли\n",
    "* Общие сведения, такие как сведения о машине, время выполнения, дата создания и т. д.\n",
    "* И многое другое"
   ]
  },
  {
   "cell_type": "markdown",
   "metadata": {},
   "source": [
    "###  <center> 🔑 Установка библиотек и ключей "
   ]
  },
  {
   "cell_type": "code",
   "execution_count": 1,
   "metadata": {},
   "outputs": [],
   "source": [
    "!pip install clearml tensorboard datasets -q"
   ]
  },
  {
   "cell_type": "code",
   "execution_count": 2,
   "metadata": {},
   "outputs": [],
   "source": [
    "from clearml import Task, Logger\n",
    "\n",
    "from lightning import LightningDataModule, LightningModule, Trainer\n",
    "from lightning.pytorch.loggers import TensorBoardLogger\n",
    "\n",
    "import torch\n",
    "import torch.nn as nn\n",
    "from torch.utils.data import Dataset, DataLoader\n",
    "from dataclasses import asdict, dataclass"
   ]
  },
  {
   "cell_type": "markdown",
   "metadata": {},
   "source": [
    "Вводим ключи ClearML со страницы https://app.clear.ml/settings/workspace-configuration"
   ]
  },
  {
   "cell_type": "code",
   "execution_count": null,
   "metadata": {},
   "outputs": [],
   "source": [
    "# from getpass import getpass\n",
    "\n",
    "# # Введите поочерёдно полученные ключи в появившемся окне (код изменять не нужно)\n",
    "# access_key = getpass(prompt=\"Введите API Access токен: \")\n",
    "# secret_key = getpass(prompt=\"Введите API Secret токен: \")"
   ]
  },
  {
   "cell_type": "code",
   "execution_count": null,
   "metadata": {
    "jupyter": {
     "source_hidden": true
    }
   },
   "outputs": [],
   "source": [
    "# %%capture\n",
    "# #  Не показывать свои api-ключи\n",
    "# %env CLEARML_WEB_HOST=https://app.clear.ml/\n",
    "# %env CLEARML_API_HOST=https://api.clear.ml\n",
    "# %env CLEARML_FILES_HOST=https://files.clear.ml\n",
    "\n",
    "# %env CLEARML_API_ACCESS_KEY=$access_key\n",
    "# %env CLEARML_API_SECRET_KEY=$secret_key"
   ]
  },
  {
   "cell_type": "code",
   "execution_count": 3,
   "metadata": {},
   "outputs": [
    {
     "name": "stdout",
     "output_type": "stream",
     "text": [
      "env: CLEARML_WEB_HOST=https://app.clear.ml/\n",
      "env: CLEARML_API_HOST=https://api.clear.ml\n",
      "env: CLEARML_FILES_HOST=https://files.clear.ml\n",
      "env: CLEARML_API_ACCESS_KEY=UR73VVAQC4EUA46EA09ZMIM08YT21P\n",
      "env: CLEARML_API_SECRET_KEY=ZC2NeA8YNAxcEfepGgjZ9RTI0yJNx1E24R3W3dqYx4P5LWTRFOWuwCQhHB2pSwCxMvg\n"
     ]
    }
   ],
   "source": [
    "%env CLEARML_WEB_HOST=https://app.clear.ml/\n",
    "%env CLEARML_API_HOST=https://api.clear.ml\n",
    "%env CLEARML_FILES_HOST=https://files.clear.ml\n",
    "%env CLEARML_API_ACCESS_KEY=UR73VVAQC4EUA46EA09ZMIM08YT21P\n",
    "%env CLEARML_API_SECRET_KEY=ZC2NeA8YNAxcEfepGgjZ9RTI0yJNx1E24R3W3dqYx4P5LWTRFOWuwCQhHB2pSwCxMvg"
   ]
  },
  {
   "cell_type": "markdown",
   "metadata": {},
   "source": [
    "### <center> 🗞 Разберем связку на примере задачи классификации\n",
    "\n",
    "<div class=\"alert alert-info\"> \n",
    "\n",
    "Для примера возьмём датасет `AG NEWS`, в котором содержатся новостные заметки по различным тематикам. И натренируем нейросеть определять тематику новости."
   ]
  },
  {
   "cell_type": "code",
   "execution_count": 4,
   "metadata": {},
   "outputs": [
    {
     "data": {
      "text/html": [
       "<div>\n",
       "<style scoped>\n",
       "    .dataframe tbody tr th:only-of-type {\n",
       "        vertical-align: middle;\n",
       "    }\n",
       "\n",
       "    .dataframe tbody tr th {\n",
       "        vertical-align: top;\n",
       "    }\n",
       "\n",
       "    .dataframe thead th {\n",
       "        text-align: right;\n",
       "    }\n",
       "</style>\n",
       "<table border=\"1\" class=\"dataframe\">\n",
       "  <thead>\n",
       "    <tr style=\"text-align: right;\">\n",
       "      <th></th>\n",
       "      <th>label</th>\n",
       "      <th>title</th>\n",
       "      <th>text</th>\n",
       "    </tr>\n",
       "  </thead>\n",
       "  <tbody>\n",
       "    <tr>\n",
       "      <th>0</th>\n",
       "      <td>3</td>\n",
       "      <td>Wall St. Bears Claw Back Into the Black (Reuters)</td>\n",
       "      <td>Reuters - Short-sellers, Wall Street's dwindli...</td>\n",
       "    </tr>\n",
       "    <tr>\n",
       "      <th>1</th>\n",
       "      <td>3</td>\n",
       "      <td>Carlyle Looks Toward Commercial Aerospace (Reu...</td>\n",
       "      <td>Reuters - Private investment firm Carlyle Grou...</td>\n",
       "    </tr>\n",
       "    <tr>\n",
       "      <th>2</th>\n",
       "      <td>3</td>\n",
       "      <td>Oil and Economy Cloud Stocks' Outlook (Reuters)</td>\n",
       "      <td>Reuters - Soaring crude prices plus worries\\ab...</td>\n",
       "    </tr>\n",
       "  </tbody>\n",
       "</table>\n",
       "</div>"
      ],
      "text/plain": [
       "   label                                              title  \\\n",
       "0      3  Wall St. Bears Claw Back Into the Black (Reuters)   \n",
       "1      3  Carlyle Looks Toward Commercial Aerospace (Reu...   \n",
       "2      3    Oil and Economy Cloud Stocks' Outlook (Reuters)   \n",
       "\n",
       "                                                text  \n",
       "0  Reuters - Short-sellers, Wall Street's dwindli...  \n",
       "1  Reuters - Private investment firm Carlyle Grou...  \n",
       "2  Reuters - Soaring crude prices plus worries\\ab...  "
      ]
     },
     "execution_count": 4,
     "metadata": {},
     "output_type": "execute_result"
    }
   ],
   "source": [
    "import pandas as pd\n",
    "\n",
    "url = \"https://raw.githubusercontent.com/mhjabreel/CharCnn_Keras/master/data/ag_news_csv/train.csv\"\n",
    "news = pd.read_csv(url, names=[\"label\", \"title\", \"text\"])\n",
    "news.head(3)"
   ]
  },
  {
   "cell_type": "code",
   "execution_count": 5,
   "metadata": {},
   "outputs": [
    {
     "data": {
      "text/plain": [
       "label\n",
       "3    30000\n",
       "4    30000\n",
       "2    30000\n",
       "1    30000\n",
       "Name: count, dtype: int64"
      ]
     },
     "execution_count": 5,
     "metadata": {},
     "output_type": "execute_result"
    }
   ],
   "source": [
    "news.label.value_counts()"
   ]
  },
  {
   "cell_type": "code",
   "execution_count": 6,
   "metadata": {},
   "outputs": [],
   "source": [
    "classes = (\"World\", \"Sports\", \"Sci/Tec\", \"Business\")"
   ]
  },
  {
   "cell_type": "markdown",
   "metadata": {},
   "source": [
    "## <center> 🚂 Создаём классы Dataset и Datamodule </center>\n",
    "\n",
    "Зная структуру датасета статей выше, легко собрать подходящие классы"
   ]
  },
  {
   "cell_type": "code",
   "execution_count": 13,
   "metadata": {},
   "outputs": [],
   "source": [
    "class TextDataset(Dataset):\n",
    "    def __init__(self, csv_file, vocab=None, tokenizer=None):\n",
    "        self.data = pd.read_csv(csv_file, names=[\"label\", \"title\", \"text\"])\n",
    "        self.tokenizer = tokenizer or (lambda x: x.split())\n",
    "        self.vocab = vocab or self.build_vocab()\n",
    "\n",
    "    def build_vocab(self):\n",
    "        \"\"\"\n",
    "        Создает словарь токенов с уникальными идентификаторами, начиная с \"<unk>\" (0) для неизвестных токенов.\n",
    "        Метод проходит по текстам в self.data['text'], токенизирует их и добавляет новые токены с индексами,\n",
    "        равными текущему размеру словаря.\n",
    "\n",
    "        Возвращает:\n",
    "            dict: Словарь токенов с их идентификаторами.\n",
    "        \"\"\"\n",
    "\n",
    "        vocab = {\"<unk>\": 0}\n",
    "        for text in self.data[\"text\"]:\n",
    "            for token in self.tokenizer(text):\n",
    "                if token not in vocab:\n",
    "                    vocab[token] = len(vocab)\n",
    "        return vocab\n",
    "\n",
    "    def encode_text(self, text):\n",
    "        return torch.tensor(\n",
    "            [\n",
    "                self.vocab.get(token, self.vocab[\"<unk>\"])\n",
    "                for token in self.tokenizer(text)\n",
    "            ],\n",
    "            dtype=torch.long,\n",
    "        )\n",
    "\n",
    "    def __len__(self):\n",
    "        return len(self.data)\n",
    "\n",
    "    def __getitem__(self, idx):\n",
    "        label = self.data.iloc[idx][\"label\"] - 1\n",
    "        text = self.data.iloc[idx][\"text\"]\n",
    "        encoded_text = self.encode_text(text)\n",
    "        return label, encoded_text, text"
   ]
  },
  {
   "cell_type": "code",
   "execution_count": 12,
   "metadata": {},
   "outputs": [],
   "source": [
    "class TextDataModule(LightningDataModule):\n",
    "    def __init__(self, train_csv, test_csv, batch_size=16, tokenizer=None):\n",
    "        super().__init__()\n",
    "        self.train_csv = train_csv\n",
    "        self.test_csv = test_csv\n",
    "        self.batch_size = batch_size\n",
    "        self.tokenizer = tokenizer or (lambda x: x.split())\n",
    "\n",
    "    def setup(self, stage=None):\n",
    "        self.train_dataset = TextDataset(self.train_csv, tokenizer=self.tokenizer)\n",
    "        self.test_dataset = TextDataset(\n",
    "            self.test_csv, vocab=self.train_dataset.vocab, tokenizer=self.tokenizer\n",
    "        )\n",
    "\n",
    "        self.vocab = self.train_dataset.vocab\n",
    "        self.num_classes = len(set(self.train_dataset.data[\"label\"]))\n",
    "\n",
    "    def collate_fn(self, batch):\n",
    "        labels, texts, origs = zip(*batch)\n",
    "        offsets = torch.tensor([0] + [len(text) for text in texts[:-1]]).cumsum(dim=0)\n",
    "        texts = torch.cat(texts)\n",
    "        labels = torch.tensor(labels, dtype=torch.long)\n",
    "        return texts, offsets, labels, origs\n",
    "\n",
    "    def train_dataloader(self):\n",
    "        return DataLoader(\n",
    "            self.train_dataset,\n",
    "            batch_size=self.batch_size,\n",
    "            shuffle=True,\n",
    "            collate_fn=self.collate_fn,\n",
    "            num_workers=4,\n",
    "        )\n",
    "\n",
    "    def val_dataloader(self):\n",
    "        return DataLoader(\n",
    "            self.test_dataset,\n",
    "            batch_size=self.batch_size,\n",
    "            collate_fn=self.collate_fn,\n",
    "            num_workers=4,\n",
    "        )"
   ]
  },
  {
   "cell_type": "markdown",
   "metadata": {},
   "source": [
    "# <center id=\"p1\">  🧐 Посмотрим на реализацию связки в деле!</center>"
   ]
  },
  {
   "cell_type": "markdown",
   "metadata": {},
   "source": [
    "<div class=\"alert alert-info\"> \n",
    "    \n",
    "**Для этого:** В валидационный стэп добавляем промежуточное логирование текстов и предсказаний, чтобы они отображались в `ClearML`. Таким образом можно в реальном времени отслеживать, как модель \"умнеет\", глядя на её предсказания."
   ]
  },
  {
   "cell_type": "markdown",
   "metadata": {},
   "source": [
    "<div class=\"alert alert-info\"> \n",
    "\n",
    "✌️ Это можно сделать двумя способами:\n",
    "* через консоль, используя `logger ClearML` (результаты на вкладке эксперимента `CONSOLE`)\n",
    "* через `debug samples`, используя `TensorBoardLogger` (результаты на вкладке эксперимента `DEBUG SAMPLES`)\n",
    "\n",
    "Рассмотрим оба варианта!"
   ]
  },
  {
   "cell_type": "markdown",
   "metadata": {},
   "source": [
    "# <center id=\"p2\"> ☝️ 1-й способ: настраиваем логирование в консоль\n",
    "\n",
    "<div class=\"alert alert-info\"> \n",
    "\n",
    "Зачем нам тут логирование? Удобно смотреть на промежуточные итоги обучения модели - для мониторинга на каких примерах модель сильнее ошибается.\n",
    "\n",
    "Для этого мы в методе `validation_step` настраиваем логирование через логгер от **ClearML**"
   ]
  },
  {
   "cell_type": "code",
   "execution_count": 7,
   "metadata": {},
   "outputs": [],
   "source": [
    "# ✅ Пишем класс для модели в LightningModule\n",
    "class TextSentimentModel(LightningModule):\n",
    "    def __init__(\n",
    "        self,\n",
    "        vocab_size,\n",
    "        embed_dim,\n",
    "        num_class,\n",
    "        learning_rate=1.0,\n",
    "        logger=None,\n",
    "        batch_size=48,\n",
    "    ):\n",
    "        super().__init__()\n",
    "        self.embedding = nn.EmbeddingBag(vocab_size, embed_dim, sparse=True)\n",
    "        self.fc = nn.Linear(embed_dim, num_class)\n",
    "        self.criterion = nn.CrossEntropyLoss()\n",
    "        self.learning_rate = learning_rate\n",
    "        self.batch_size = batch_size\n",
    "        self.init_weights()\n",
    "\n",
    "        # так как self.logger и self.log заняты в родительском классе, возьмем такое название\n",
    "        self.loggs = logger  # <--------------- добавим логгер из нашего эксперимента ClearML\n",
    "\n",
    "    def init_weights(self):\n",
    "        initrange = 0.5\n",
    "        self.embedding.weight.data.uniform_(-initrange, initrange)\n",
    "        self.fc.weight.data.uniform_(-initrange, initrange)\n",
    "        self.fc.bias.data.zero_()\n",
    "\n",
    "    def forward(self, text, offsets):\n",
    "        embedded = self.embedding(text, offsets)\n",
    "        return self.fc(embedded)\n",
    "\n",
    "    def training_step(self, batch, batch_idx):  \n",
    "        text, offsets, labels, origs = batch\n",
    "        outputs = self.forward(text, offsets)\n",
    "        loss = self.criterion(outputs, labels)\n",
    "        self.log(\"train_loss\", loss, batch_size=self.batch_size)\n",
    "        return loss\n",
    "\n",
    "    def validation_step(self, batch, batch_idx):  # <--------------- добавляем логирование в консоль через логгер\n",
    "        text, offsets, labels, origs = batch\n",
    "        outputs = self.forward(text, offsets)\n",
    "        loss = self.criterion(outputs, labels)\n",
    "        acc = (outputs.argmax(1) == labels).float().mean()\n",
    "\n",
    "        # Логируем validation loss and accuracy в прогресс бар\n",
    "        self.log(\"val_loss\", loss, prog_bar=True, batch_size=self.batch_size)\n",
    "        self.log(\"val_acc\", acc, prog_bar=True, batch_size=self.batch_size)\n",
    "\n",
    "        # Логируем тестовые сэмплы\n",
    "        if logger and batch_idx == 0:  # Логируем только для первого батча\n",
    "            predictions = outputs.argmax(1)\n",
    "            print(f\"Val_predictions for epoch {self.current_epoch}:\")\n",
    "            for i in range(min(5, len(labels))):\n",
    "                # будем использовать методы логгера ClearML\n",
    "                self.loggs.report_text(\n",
    "                    f\"\"\"Text: {origs[i]}; \n",
    "                    Prediction: {classes[predictions[i].item() - 1]}; \n",
    "                    True Label: {classes[labels[i].item() - 1]}\"\"\"\n",
    "                )\n",
    "\n",
    "    def configure_optimizers(self):\n",
    "        optimizer = torch.optim.SGD(self.parameters(), lr=self.learning_rate)\n",
    "        scheduler = torch.optim.lr_scheduler.StepLR(optimizer, step_size=2, gamma=0.9)\n",
    "        return [optimizer], [scheduler]"
   ]
  },
  {
   "cell_type": "code",
   "execution_count": 8,
   "metadata": {},
   "outputs": [
    {
     "data": {
      "text/plain": [
       "{'project_name': 'TextClassification',\n",
       " 'task_name': 'AG_NEWS Text Classification',\n",
       " 'train_csv': 'https://raw.githubusercontent.com/mhjabreel/CharCnn_Keras/master/data/ag_news_csv/train.csv',\n",
       " 'test_csv': 'https://raw.githubusercontent.com/mhjabreel/CharCnn_Keras/master/data/ag_news_csv/test.csv',\n",
       " 'batch_size': 48,\n",
       " 'learning_rate': 0.01,\n",
       " 'seed': 2024,\n",
       " 'device': 'cpu',\n",
       " 'embed_dim': 32,\n",
       " 'epochs': 3}"
      ]
     },
     "execution_count": 8,
     "metadata": {},
     "output_type": "execute_result"
    }
   ],
   "source": [
    "#  ✅ Создадим конфиг\n",
    "@dataclass\n",
    "class CFG:\n",
    "    project_name: str = \"TextClassification\"\n",
    "    task_name: str = \"AG_NEWS Text Classification\"\n",
    "    train_csv: str = \"https://raw.githubusercontent.com/mhjabreel/CharCnn_Keras/master/data/ag_news_csv/train.csv\"\n",
    "    test_csv: str = \"https://raw.githubusercontent.com/mhjabreel/CharCnn_Keras/master/data/ag_news_csv/test.csv\"\n",
    "    batch_size: int = 48\n",
    "    learning_rate: float = 0.01\n",
    "    seed: int = 2024\n",
    "    device: str = \"cpu\"  # \"cuda\"\n",
    "    embed_dim: int = 32\n",
    "    epochs: int = 3\n",
    "\n",
    "\n",
    "# Чтобы сохранить конфигурацию текущего эксперимента, перенесём её в словарь\n",
    "cfg = CFG()\n",
    "configuration_dict = asdict(cfg)\n",
    "configuration_dict"
   ]
  },
  {
   "cell_type": "code",
   "execution_count": 9,
   "metadata": {},
   "outputs": [
    {
     "name": "stdout",
     "output_type": "stream",
     "text": [
      "ClearML Task: created new task id=fb28d3451ca04ce9a94f023e1972e7f3\n",
      "2025-04-13 19:09:11,257 - clearml.Task - INFO - Storing jupyter notebook directly as code\n",
      "ClearML results page: https://app.clear.ml/projects/59abf2fa89ba4cf4ab73936b09c61821/experiments/fb28d3451ca04ce9a94f023e1972e7f3/output/log\n"
     ]
    }
   ],
   "source": [
    "# ✅ Инициализируем ClearML task\n",
    "task = Task.init(project_name=cfg.project_name, task_name=cfg.task_name)"
   ]
  },
  {
   "cell_type": "code",
   "execution_count": 10,
   "metadata": {},
   "outputs": [],
   "source": [
    "# ✅ Инициализируем из ClearML\n",
    "logger = Logger.current_logger() "
   ]
  },
  {
   "cell_type": "code",
   "execution_count": 14,
   "metadata": {},
   "outputs": [],
   "source": [
    "# ✅  Инициализируем DataModule\n",
    "data_module = TextDataModule(cfg.train_csv, cfg.test_csv, batch_size=cfg.batch_size)\n",
    "data_module.setup()"
   ]
  },
  {
   "cell_type": "code",
   "execution_count": 15,
   "metadata": {},
   "outputs": [
    {
     "name": "stdout",
     "output_type": "stream",
     "text": [
      "{'project_name': 'TextClassification', 'task_name': 'AG_NEWS Text Classification', 'train_csv': 'https://raw.githubusercontent.com/mhjabreel/CharCnn_Keras/master/data/ag_news_csv/train.csv', 'test_csv': 'https://raw.githubusercontent.com/mhjabreel/CharCnn_Keras/master/data/ag_news_csv/test.csv', 'batch_size': 48, 'learning_rate': 0.01, 'seed': 2024, 'device': 'cpu', 'embed_dim': 32, 'epochs': 3}\n"
     ]
    }
   ],
   "source": [
    "# Логируем конфиг в ClearML\n",
    "cfg.vocab_size = len(data_module.vocab)\n",
    "cfg.num_class = data_module.num_classes\n",
    "configuration_dict = task.connect(asdict(cfg))\n",
    "\n",
    "print(configuration_dict) "
   ]
  },
  {
   "cell_type": "code",
   "execution_count": 16,
   "metadata": {},
   "outputs": [],
   "source": [
    "# ✅ Инициализируем модель и передаем логгер\n",
    "model = TextSentimentModel(\n",
    "    cfg.vocab_size, cfg.embed_dim, cfg.num_class, cfg.learning_rate,\n",
    "    logger=logger # <--------------- передаем логгер в аргумент, который задали в классе сами\n",
    ")"
   ]
  },
  {
   "cell_type": "code",
   "execution_count": 17,
   "metadata": {},
   "outputs": [
    {
     "name": "stderr",
     "output_type": "stream",
     "text": [
      "GPU available: True (cuda), used: False\n",
      "TPU available: False, using: 0 TPU cores\n",
      "HPU available: False, using: 0 HPUs\n",
      "/home/sinarian/venvs/sinara/lib/python3.10/site-packages/lightning/pytorch/trainer/setup.py:177: PossibleUserWarning:\n",
      "\n",
      "GPU available but not used. You can set it by doing `Trainer(accelerator='gpu')`.\n",
      "\n"
     ]
    }
   ],
   "source": [
    "# ✅ Инициализируем тренер и не передаем логгер\n",
    "trainer = Trainer(\n",
    "    max_epochs=cfg.epochs,\n",
    "    accelerator=cfg.device,\n",
    ")"
   ]
  },
  {
   "cell_type": "markdown",
   "metadata": {},
   "source": [
    "<div class=\"alert alert-info\"> \n",
    "    \n",
    "Запускаем тренировку, видим, что каждую эпоху в консоль пишутся результаты инференса модели на валидационных сэмплах."
   ]
  },
  {
   "cell_type": "code",
   "execution_count": 18,
   "metadata": {},
   "outputs": [
    {
     "name": "stderr",
     "output_type": "stream",
     "text": [
      "\n",
      "  | Name      | Type             | Params | Mode \n",
      "-------------------------------------------------------\n",
      "0 | embedding | EmbeddingBag     | 5.0 M  | train\n",
      "1 | fc        | Linear           | 132    | train\n",
      "2 | criterion | CrossEntropyLoss | 0      | train\n",
      "-------------------------------------------------------\n",
      "5.0 M     Trainable params\n",
      "0         Non-trainable params\n",
      "5.0 M     Total params\n",
      "19.974    Total estimated model params size (MB)\n",
      "3         Modules in train mode\n",
      "0         Modules in eval mode\n"
     ]
    },
    {
     "data": {
      "application/vnd.jupyter.widget-view+json": {
       "model_id": "543cb7ae4f3d42d9995a42a64b9b47d8",
       "version_major": 2,
       "version_minor": 0
      },
      "text/plain": [
       "Sanity Checking: |          | 0/? [00:00<?, ?it/s]"
      ]
     },
     "metadata": {},
     "output_type": "display_data"
    },
    {
     "name": "stdout",
     "output_type": "stream",
     "text": [
      "Val_predictions for epoch 0:\n",
      "Text: Unions representing workers at Turner   Newall say they are 'disappointed' after talks with stricken parent firm Federal Mogul.; \n",
      "                    Prediction: Sci/Tec; \n",
      "                    True Label: Sports\n",
      "Text: SPACE.com - TORONTO, Canada -- A second\\team of rocketeers competing for the  #36;10 million Ansari X Prize, a contest for\\privately funded suborbital space flight, has officially announced the first\\launch date for its manned rocket.; \n",
      "                    Prediction: Business; \n",
      "                    True Label: Sci/Tec\n",
      "Text: AP - A company founded by a chemistry researcher at the University of Louisville won a grant to develop a method of producing better peptides, which are short chains of amino acids, the building blocks of proteins.; \n",
      "                    Prediction: Sci/Tec; \n",
      "                    True Label: Sci/Tec\n",
      "Text: AP - It's barely dawn when Mike Fitzpatrick starts his shift with a blur of colorful maps, figures and endless charts, but already he knows what the day will bring. Lightning will strike in places he expects. Winds will pick up, moist places will dry and flames will roar.; \n",
      "                    Prediction: Business; \n",
      "                    True Label: Sci/Tec\n",
      "Text: AP - Southern California's smog-fighting agency went after emissions of the bovine variety Friday, adopting the nation's first rules to reduce air pollution from dairy cow manure.; \n",
      "                    Prediction: Sci/Tec; \n",
      "                    True Label: Sci/Tec\n"
     ]
    },
    {
     "data": {
      "application/vnd.jupyter.widget-view+json": {
       "model_id": "860010939a874fecab4adb64d9dd1b64",
       "version_major": 2,
       "version_minor": 0
      },
      "text/plain": [
       "Training: |          | 0/? [00:00<?, ?it/s]"
      ]
     },
     "metadata": {},
     "output_type": "display_data"
    },
    {
     "data": {
      "application/vnd.jupyter.widget-view+json": {
       "model_id": "f187020bb16943859bbe6e520e0bccf3",
       "version_major": 2,
       "version_minor": 0
      },
      "text/plain": [
       "Validation: |          | 0/? [00:00<?, ?it/s]"
      ]
     },
     "metadata": {},
     "output_type": "display_data"
    },
    {
     "name": "stdout",
     "output_type": "stream",
     "text": [
      "Val_predictions for epoch 0:\n",
      "Text: Unions representing workers at Turner   Newall say they are 'disappointed' after talks with stricken parent firm Federal Mogul.; \n",
      "                    Prediction: Sports; \n",
      "                    True Label: Sports\n",
      "Text: SPACE.com - TORONTO, Canada -- A second\\team of rocketeers competing for the  #36;10 million Ansari X Prize, a contest for\\privately funded suborbital space flight, has officially announced the first\\launch date for its manned rocket.; \n",
      "                    Prediction: Business; \n",
      "                    True Label: Sci/Tec\n",
      "Text: AP - A company founded by a chemistry researcher at the University of Louisville won a grant to develop a method of producing better peptides, which are short chains of amino acids, the building blocks of proteins.; \n",
      "                    Prediction: Sci/Tec; \n",
      "                    True Label: Sci/Tec\n",
      "Text: AP - It's barely dawn when Mike Fitzpatrick starts his shift with a blur of colorful maps, figures and endless charts, but already he knows what the day will bring. Lightning will strike in places he expects. Winds will pick up, moist places will dry and flames will roar.; \n",
      "                    Prediction: Business; \n",
      "                    True Label: Sci/Tec\n",
      "Text: AP - Southern California's smog-fighting agency went after emissions of the bovine variety Friday, adopting the nation's first rules to reduce air pollution from dairy cow manure.; \n",
      "                    Prediction: Sci/Tec; \n",
      "                    True Label: Sci/Tec\n"
     ]
    },
    {
     "data": {
      "application/vnd.jupyter.widget-view+json": {
       "model_id": "8d1c3e602659495a8e9fbef62d489bd2",
       "version_major": 2,
       "version_minor": 0
      },
      "text/plain": [
       "Validation: |          | 0/? [00:00<?, ?it/s]"
      ]
     },
     "metadata": {},
     "output_type": "display_data"
    },
    {
     "name": "stdout",
     "output_type": "stream",
     "text": [
      "Val_predictions for epoch 1:\n",
      "Text: Unions representing workers at Turner   Newall say they are 'disappointed' after talks with stricken parent firm Federal Mogul.; \n",
      "                    Prediction: Sports; \n",
      "                    True Label: Sports\n",
      "Text: SPACE.com - TORONTO, Canada -- A second\\team of rocketeers competing for the  #36;10 million Ansari X Prize, a contest for\\privately funded suborbital space flight, has officially announced the first\\launch date for its manned rocket.; \n",
      "                    Prediction: Sports; \n",
      "                    True Label: Sci/Tec\n",
      "Text: AP - A company founded by a chemistry researcher at the University of Louisville won a grant to develop a method of producing better peptides, which are short chains of amino acids, the building blocks of proteins.; \n",
      "                    Prediction: Sci/Tec; \n",
      "                    True Label: Sci/Tec\n",
      "Text: AP - It's barely dawn when Mike Fitzpatrick starts his shift with a blur of colorful maps, figures and endless charts, but already he knows what the day will bring. Lightning will strike in places he expects. Winds will pick up, moist places will dry and flames will roar.; \n",
      "                    Prediction: Business; \n",
      "                    True Label: Sci/Tec\n",
      "Text: AP - Southern California's smog-fighting agency went after emissions of the bovine variety Friday, adopting the nation's first rules to reduce air pollution from dairy cow manure.; \n",
      "                    Prediction: Sci/Tec; \n",
      "                    True Label: Sci/Tec\n"
     ]
    },
    {
     "data": {
      "application/vnd.jupyter.widget-view+json": {
       "model_id": "584727d1c95547d4b36995e806521e55",
       "version_major": 2,
       "version_minor": 0
      },
      "text/plain": [
       "Validation: |          | 0/? [00:00<?, ?it/s]"
      ]
     },
     "metadata": {},
     "output_type": "display_data"
    },
    {
     "name": "stdout",
     "output_type": "stream",
     "text": [
      "Val_predictions for epoch 2:\n",
      "Text: Unions representing workers at Turner   Newall say they are 'disappointed' after talks with stricken parent firm Federal Mogul.; \n",
      "                    Prediction: Sports; \n",
      "                    True Label: Sports\n",
      "Text: SPACE.com - TORONTO, Canada -- A second\\team of rocketeers competing for the  #36;10 million Ansari X Prize, a contest for\\privately funded suborbital space flight, has officially announced the first\\launch date for its manned rocket.; \n",
      "                    Prediction: Business; \n",
      "                    True Label: Sci/Tec\n",
      "Text: AP - A company founded by a chemistry researcher at the University of Louisville won a grant to develop a method of producing better peptides, which are short chains of amino acids, the building blocks of proteins.; \n",
      "                    Prediction: Sci/Tec; \n",
      "                    True Label: Sci/Tec\n",
      "Text: AP - It's barely dawn when Mike Fitzpatrick starts his shift with a blur of colorful maps, figures and endless charts, but already he knows what the day will bring. Lightning will strike in places he expects. Winds will pick up, moist places will dry and flames will roar.; \n",
      "                    Prediction: Business; \n",
      "                    True Label: Sci/Tec\n",
      "Text: AP - Southern California's smog-fighting agency went after emissions of the bovine variety Friday, adopting the nation's first rules to reduce air pollution from dairy cow manure.; \n",
      "                    Prediction: Sci/Tec; \n",
      "                    True Label: Sci/Tec\n"
     ]
    },
    {
     "name": "stderr",
     "output_type": "stream",
     "text": [
      "`Trainer.fit` stopped: `max_epochs=3` reached.\n"
     ]
    }
   ],
   "source": [
    "# Training\n",
    "trainer.fit(model, datamodule=data_module)"
   ]
  },
  {
   "cell_type": "markdown",
   "metadata": {},
   "source": [
    "<div class=\"alert alert-info\"> \n",
    "\n",
    "Проверим как модель предсказывает на случайном примере из теста!"
   ]
  },
  {
   "cell_type": "code",
   "execution_count": 19,
   "metadata": {},
   "outputs": [],
   "source": [
    "def predict(text, model, vocab, tokenizer):\n",
    "    model.eval()\n",
    "    with torch.no_grad():\n",
    "        tokens = torch.tensor(\n",
    "            [vocab.get(token, vocab[\"<unk>\"]) for token in tokenizer(text)],\n",
    "            dtype=torch.long,\n",
    "        )\n",
    "        offsets = torch.tensor([0])\n",
    "        output = model(tokens, offsets)\n",
    "        prediction = output.argmax(1).item()\n",
    "        return prediction"
   ]
  },
  {
   "cell_type": "code",
   "execution_count": 20,
   "metadata": {},
   "outputs": [
    {
     "name": "stdout",
     "output_type": "stream",
     "text": [
      "Text: Javy Lopez drives in four runs, Daniel Cabrera becomes the first rookie to win 10 games this season, and the Orioles hold Tampa Bay to two hits in an 8-0 victory Wednesday night.\n",
      "True Label: 1\n",
      "Predicted Label: 1\n"
     ]
    }
   ],
   "source": [
    "# Load a random example from the test dataset\n",
    "random_idx = torch.randint(0, len(data_module.test_dataset), (1,)).item()\n",
    "example_label, example_text, orig = data_module.test_dataset[random_idx]\n",
    "predicted_label = predict(orig, model, data_module.vocab, data_module.tokenizer)\n",
    "\n",
    "print(f\"Text: {orig}\")\n",
    "print(f\"True Label: {example_label}\")\n",
    "print(f\"Predicted Label: {predicted_label}\")"
   ]
  },
  {
   "cell_type": "code",
   "execution_count": 21,
   "metadata": {},
   "outputs": [],
   "source": [
    "# Не забываем завершить эксперимент\n",
    "task.close()"
   ]
  },
  {
   "cell_type": "code",
   "execution_count": 22,
   "metadata": {},
   "outputs": [
    {
     "data": {
      "text/plain": [
       "'https://app.clear.ml/projects/59abf2fa89ba4cf4ab73936b09c61821/experiments/fb28d3451ca04ce9a94f023e1972e7f3/output/log'"
      ]
     },
     "execution_count": 22,
     "metadata": {},
     "output_type": "execute_result"
    }
   ],
   "source": [
    "task.get_output_log_web_page()"
   ]
  },
  {
   "cell_type": "markdown",
   "metadata": {},
   "source": [
    "<div class=\"alert alert-success\">\n",
    "    \n",
    "✅ Видим, что все работает качественно. Ответ модели верный!"
   ]
  },
  {
   "cell_type": "markdown",
   "metadata": {},
   "source": [
    "\n",
    "    \n",
    "## <center> 🏃 Переходим в UI от ClearML\n",
    "\n",
    "Cмотрим как залогировались наши сэмплы - отслеживаем прогресс обучения.\n",
    "\n",
    "<div class=\"alert alert-info\"> \n",
    "\n",
    "<img src='../images/clnlp.png'> "
   ]
  },
  {
   "cell_type": "markdown",
   "metadata": {},
   "source": [
    "<div class=\"alert alert-success\">\n",
    "    \n",
    "**Плюсы такого подхода:**\n",
    "* Быстро и легко добавить в скрипт\n",
    "* Не нужны дополнительные логгеры"
   ]
  },
  {
   "cell_type": "markdown",
   "metadata": {},
   "source": [
    "<div class=\"alert alert-success\">\n",
    "\n",
    "**Минусы:**\n",
    "* Если много эпох и много отладочных примеров, долго разбираться в простыне логов\n",
    "* Так же дополнительные выводы в консоль или ошибки могут смешиваться с отладочными образцами, будет ещё труднее разобраться в логах"
   ]
  },
  {
   "cell_type": "markdown",
   "metadata": {},
   "source": [
    "# <center id=\"p7\"> ✌️ 2-й способ: логирование через `TensorBoardLogger`"
   ]
  },
  {
   "cell_type": "markdown",
   "metadata": {},
   "source": [
    "<div class=\"alert alert-info\"> \n",
    "    \n",
    "* Более лаконичный код\n",
    "* Меньше мусора в консоли\n",
    "* Легче найти валидационные сэмплы на отдельной вкладке\n",
    "* Не нужно разгребать всю консоль и искать результаты инференса среди других сообщений в консоли."
   ]
  },
  {
   "cell_type": "code",
   "execution_count": 24,
   "metadata": {},
   "outputs": [],
   "source": [
    "class TextSentimentModel(LightningModule):\n",
    "    def __init__(\n",
    "        self, vocab_size, embed_dim, num_class, learning_rate=1.0, batch_size=48\n",
    "    ):\n",
    "        super().__init__()\n",
    "        self.embedding = nn.EmbeddingBag(vocab_size, embed_dim, sparse=True)\n",
    "        self.fc = nn.Linear(embed_dim, num_class)\n",
    "        self.criterion = nn.CrossEntropyLoss()\n",
    "        self.learning_rate = learning_rate\n",
    "        self.batch_size = batch_size\n",
    "        self.init_weights()\n",
    "\n",
    "    def init_weights(self):\n",
    "        initrange = 0.5\n",
    "        self.embedding.weight.data.uniform_(-initrange, initrange)\n",
    "        self.fc.weight.data.uniform_(-initrange, initrange)\n",
    "        self.fc.bias.data.zero_()\n",
    "\n",
    "    def forward(self, text, offsets):\n",
    "        embedded = self.embedding(text, offsets)\n",
    "        return self.fc(embedded)\n",
    "\n",
    "    def training_step(self, batch, batch_idx):\n",
    "        text, offsets, labels, origs = batch\n",
    "        outputs = self.forward(text, offsets)\n",
    "        loss = self.criterion(outputs, labels)\n",
    "        self.log(\"train_loss\", loss, batch_size=self.batch_size)\n",
    "        return loss\n",
    "\n",
    "    def validation_step(self, batch, batch_idx):  # <--------------- добавляем логирование в консоль через self.logger \n",
    "        text, offsets, labels, origs = batch\n",
    "        outputs = self.forward(text, offsets)\n",
    "        loss = self.criterion(outputs, labels)\n",
    "        acc = (outputs.argmax(1) == labels).float().mean()\n",
    "\n",
    "        # Логируем validation loss and accuracy в прогресс бар\n",
    "        self.log(\"val_loss\", loss, prog_bar=True, batch_size=self.batch_size)\n",
    "        self.log(\"val_acc\", acc, prog_bar=True, batch_size=self.batch_size)\n",
    "\n",
    "        # Логируем тестовые сэмплы\n",
    "        if batch_idx == 0:  # Логируем только для первого батча\n",
    "            predictions = outputs.argmax(1)\n",
    "            for i in range(min(5, len(labels))):\n",
    "                # здесь используем логгер, который укажем в Trainer\n",
    "                self.logger.experiment.add_text(  # доступ к нему получаем через self.logger\n",
    "                    \"val_predictions\",\n",
    "                    f\"\"\"Text: {origs[i]}; \n",
    "                Prediction: {classes[predictions[i].item() - 1]}; \n",
    "                True Label: {classes[labels[i].item() - 1]}\"\"\",\n",
    "                    self.global_step,\n",
    "                )\n",
    "\n",
    "    def configure_optimizers(self):\n",
    "        optimizer = torch.optim.SGD(self.parameters(), lr=self.learning_rate)\n",
    "        scheduler = torch.optim.lr_scheduler.StepLR(optimizer, step_size=2, gamma=0.9)\n",
    "        return [optimizer], [scheduler]"
   ]
  },
  {
   "cell_type": "code",
   "execution_count": 25,
   "metadata": {},
   "outputs": [],
   "source": [
    "cfg.task_name =  \"AG_NEWS Text Classification v2\""
   ]
  },
  {
   "cell_type": "code",
   "execution_count": 26,
   "metadata": {
    "scrolled": true
   },
   "outputs": [
    {
     "name": "stdout",
     "output_type": "stream",
     "text": [
      "ClearML Task: created new task id=c2563e47a5c042409496808514f25887\n",
      "ClearML results page: https://app.clear.ml/projects/59abf2fa89ba4cf4ab73936b09c61821/experiments/c2563e47a5c042409496808514f25887/output/log\n"
     ]
    }
   ],
   "source": [
    "# Initialize ClearML task\n",
    "task = Task.init(\n",
    "    project_name=cfg.project_name,\n",
    "    task_name=cfg.task_name,\n",
    "    auto_connect_frameworks={\"tensorboard\": True},\n",
    ")  # Добавляем для отображения сообщений TensorBoard в ClearML"
   ]
  },
  {
   "cell_type": "code",
   "execution_count": 27,
   "metadata": {},
   "outputs": [],
   "source": [
    "# Инициализируем модель и не передаем логгер\n",
    "model = TextSentimentModel(\n",
    "    cfg.vocab_size, cfg.embed_dim, cfg.num_class, cfg.learning_rate\n",
    ")"
   ]
  },
  {
   "cell_type": "code",
   "execution_count": 28,
   "metadata": {},
   "outputs": [
    {
     "name": "stderr",
     "output_type": "stream",
     "text": [
      "GPU available: True (cuda), used: False\n",
      "TPU available: False, using: 0 TPU cores\n",
      "HPU available: False, using: 0 HPUs\n",
      "/home/sinarian/venvs/sinara/lib/python3.10/site-packages/lightning/pytorch/trainer/setup.py:177: PossibleUserWarning:\n",
      "\n",
      "GPU available but not used. You can set it by doing `Trainer(accelerator='gpu')`.\n",
      "\n"
     ]
    }
   ],
   "source": [
    "# Инициализируем логгер, тренер и сразу передаем в тренер логгер\n",
    "logger = TensorBoardLogger(\"./lightning_logs\", name=\"text_classification\")\n",
    "\n",
    "trainer = Trainer(\n",
    "    max_epochs=cfg.epochs,\n",
    "    logger=[logger],  # <--------------- передаем логгер в аргумент, который уже определен в тренере\n",
    "    accelerator=cfg.device,\n",
    ")"
   ]
  },
  {
   "cell_type": "code",
   "execution_count": 29,
   "metadata": {},
   "outputs": [
    {
     "name": "stderr",
     "output_type": "stream",
     "text": [
      "\n",
      "  | Name      | Type             | Params | Mode \n",
      "-------------------------------------------------------\n",
      "0 | embedding | EmbeddingBag     | 5.0 M  | train\n",
      "1 | fc        | Linear           | 132    | train\n",
      "2 | criterion | CrossEntropyLoss | 0      | train\n",
      "-------------------------------------------------------\n",
      "5.0 M     Trainable params\n",
      "0         Non-trainable params\n",
      "5.0 M     Total params\n",
      "19.974    Total estimated model params size (MB)\n",
      "3         Modules in train mode\n",
      "0         Modules in eval mode\n"
     ]
    },
    {
     "data": {
      "application/vnd.jupyter.widget-view+json": {
       "model_id": "648c749308c546f395d1eb874fdf15e6",
       "version_major": 2,
       "version_minor": 0
      },
      "text/plain": [
       "Sanity Checking: |          | 0/? [00:00<?, ?it/s]"
      ]
     },
     "metadata": {},
     "output_type": "display_data"
    },
    {
     "data": {
      "application/vnd.jupyter.widget-view+json": {
       "model_id": "b4db169ac86d4fdab129f42871d5761e",
       "version_major": 2,
       "version_minor": 0
      },
      "text/plain": [
       "Training: |          | 0/? [00:00<?, ?it/s]"
      ]
     },
     "metadata": {},
     "output_type": "display_data"
    },
    {
     "data": {
      "application/vnd.jupyter.widget-view+json": {
       "model_id": "181a9557527b406d84e20f0e742c7cef",
       "version_major": 2,
       "version_minor": 0
      },
      "text/plain": [
       "Validation: |          | 0/? [00:00<?, ?it/s]"
      ]
     },
     "metadata": {},
     "output_type": "display_data"
    },
    {
     "data": {
      "application/vnd.jupyter.widget-view+json": {
       "model_id": "10e71f6b824e4342b865e5ac1dca1db5",
       "version_major": 2,
       "version_minor": 0
      },
      "text/plain": [
       "Validation: |          | 0/? [00:00<?, ?it/s]"
      ]
     },
     "metadata": {},
     "output_type": "display_data"
    },
    {
     "data": {
      "application/vnd.jupyter.widget-view+json": {
       "model_id": "7e023c475e794800b86213a8800d6d2c",
       "version_major": 2,
       "version_minor": 0
      },
      "text/plain": [
       "Validation: |          | 0/? [00:00<?, ?it/s]"
      ]
     },
     "metadata": {},
     "output_type": "display_data"
    },
    {
     "name": "stderr",
     "output_type": "stream",
     "text": [
      "`Trainer.fit` stopped: `max_epochs=3` reached.\n"
     ]
    }
   ],
   "source": [
    "trainer.fit(model, datamodule=data_module)"
   ]
  },
  {
   "cell_type": "code",
   "execution_count": 30,
   "metadata": {},
   "outputs": [],
   "source": [
    "# Не забываем завершить эксперимент\n",
    "task.close()"
   ]
  },
  {
   "cell_type": "code",
   "execution_count": 31,
   "metadata": {},
   "outputs": [
    {
     "data": {
      "text/plain": [
       "'https://app.clear.ml/projects/59abf2fa89ba4cf4ab73936b09c61821/experiments/c2563e47a5c042409496808514f25887/output/log'"
      ]
     },
     "execution_count": 31,
     "metadata": {},
     "output_type": "execute_result"
    }
   ],
   "source": [
    "task.get_output_log_web_page()"
   ]
  },
  {
   "cell_type": "markdown",
   "metadata": {},
   "source": [
    "<div class=\"alert alert-success\">\n",
    "    \n",
    "Посмотрим на вкладку `DEBUG SAMPLES`\n",
    "\n",
    "<img src='../images/debnlp.png'>"
   ]
  },
  {
   "cell_type": "markdown",
   "metadata": {},
   "source": [
    "<div class=\"alert alert-success\">\n",
    "    \n",
    "Посмотрим как выглядит отдельный сэмпл\n",
    "(откроется в отдельном окне, если кликнуть по нему)\n",
    "\n",
    "<img src='../images/smpnlp.png'>"
   ]
  },
  {
   "cell_type": "markdown",
   "metadata": {},
   "source": [
    "# <center id=\"p5\"> 🎚 Finetuning (дообучение) трансформера под свою задачу </center>\n",
    "\n",
    "<div class=\"alert alert-info\"> \n",
    "    \n",
    "Рассмотрим ещё один популярный юзкейс - дообучение (файнтюнинг) трансформера под свою задачу в связке `Lightning + ClearML`!\n",
    "\n",
    "Возьмём датасет `IMBD` с отзывами о фильмах и дообучим `DistilBert` под задачу определения характера отзыва."
   ]
  },
  {
   "cell_type": "code",
   "execution_count": 37,
   "metadata": {},
   "outputs": [],
   "source": [
    "from transformers import DistilBertTokenizer, DistilBertForSequenceClassification, AdamW\n",
    "from datasets import load_dataset"
   ]
  },
  {
   "cell_type": "code",
   "execution_count": 32,
   "metadata": {},
   "outputs": [],
   "source": [
    "# Пишем LightningDataModule\n",
    "class IMDBDataModule(LightningDataModule):\n",
    "    def __init__(self, model_name=\"distilbert-base-uncased\", batch_size=16):\n",
    "        super().__init__()\n",
    "        self.tokenizer = DistilBertTokenizer.from_pretrained(model_name)\n",
    "        self.batch_size = batch_size\n",
    "\n",
    "    def prepare_data(self):\n",
    "        # Загружаем датасет IMDB\n",
    "        load_dataset(\"imdb\")\n",
    "\n",
    "    def setup(self, stage=None):\n",
    "        dataset = load_dataset(\"imdb\")\n",
    "        self.train_data = dataset[\"train\"]\n",
    "        self.test_data = dataset[\"test\"]\n",
    "\n",
    "        def tokenize_function(examples):\n",
    "            return self.tokenizer(\n",
    "                examples[\"text\"], padding=\"max_length\", truncation=True, max_length=512\n",
    "            )\n",
    "\n",
    "        self.train_data = self.train_data.map(tokenize_function, batched=True)\n",
    "        self.test_data = self.test_data.map(tokenize_function, batched=True)\n",
    "\n",
    "        self.train_data.set_format(\n",
    "            type=\"torch\", columns=[\"input_ids\", \"attention_mask\", \"label\", \"text\"]\n",
    "        )\n",
    "        self.test_data.set_format(\n",
    "            type=\"torch\", columns=[\"input_ids\", \"attention_mask\", \"label\", \"text\"]\n",
    "        )\n",
    "\n",
    "    def train_dataloader(self):\n",
    "        return DataLoader(\n",
    "            self.train_data, batch_size=self.batch_size, shuffle=True, num_workers=4\n",
    "        )\n",
    "\n",
    "    def val_dataloader(self):\n",
    "        return DataLoader(self.test_data, batch_size=self.batch_size, num_workers=4)"
   ]
  },
  {
   "cell_type": "code",
   "execution_count": 33,
   "metadata": {},
   "outputs": [],
   "source": [
    "# Пишем LightningModule\n",
    "class DistilBertClassifier(LightningModule):\n",
    "    def __init__(self, model_name=\"distilbert-base-uncased\", learning_rate=2e-5):\n",
    "        super().__init__()\n",
    "        self.save_hyperparameters()\n",
    "        self.model = DistilBertForSequenceClassification.from_pretrained(\n",
    "            model_name, num_labels=2\n",
    "        )\n",
    "        self.loss_fn = nn.CrossEntropyLoss()\n",
    "\n",
    "    def forward(self, input_ids, attention_mask):\n",
    "        return self.model(input_ids, attention_mask=attention_mask).logits\n",
    "\n",
    "    def training_step(self, batch, batch_idx):\n",
    "        outputs = self(batch[\"input_ids\"], batch[\"attention_mask\"])\n",
    "        loss = self.loss_fn(outputs, batch[\"label\"])\n",
    "        self.log(\"train_loss\", loss)\n",
    "        return loss\n",
    "\n",
    "    def validation_step(self, batch, batch_idx):\n",
    "        outputs = self(batch[\"input_ids\"], batch[\"attention_mask\"])\n",
    "        loss = self.loss_fn(outputs, batch[\"label\"])\n",
    "        acc = (outputs.argmax(1) == batch[\"label\"]).float().mean()\n",
    "\n",
    "        self.log(\"val_loss\", loss, prog_bar=True)\n",
    "        self.log(\"val_acc\", acc, prog_bar=True)\n",
    "\n",
    "        # Логируем предсказания в TensorBoard\n",
    "        if batch_idx == 0:\n",
    "            for i in range(min(5, len(batch[\"label\"]))):\n",
    "                self.logger.experiment.add_text(\n",
    "                    \"val_predictions\",\n",
    "                    f\"\"\"Text: {batch['text'][i]}; \n",
    "                    Prediction: {outputs.argmax(1)[i].item()}; \n",
    "                    True Label: {batch['label'][i].item()}\"\"\",\n",
    "                    self.global_step,\n",
    "                )\n",
    "\n",
    "    def configure_optimizers(self):\n",
    "        optimizer = AdamW(self.parameters(), lr=self.hparams.learning_rate)\n",
    "        return optimizer"
   ]
  },
  {
   "cell_type": "code",
   "execution_count": 34,
   "metadata": {},
   "outputs": [
    {
     "data": {
      "text/plain": [
       "{'project_name': 'TextClassification',\n",
       " 'task_name': 'Fine-tune DistilBERT',\n",
       " 'batch_size': 32,\n",
       " 'learning_rate': 2e-05,\n",
       " 'seed': 2024,\n",
       " 'device': 'cuda',\n",
       " 'epochs': 3}"
      ]
     },
     "execution_count": 34,
     "metadata": {},
     "output_type": "execute_result"
    }
   ],
   "source": [
    "@dataclass\n",
    "class CFG:\n",
    "    project_name: str = \"TextClassification\"\n",
    "    task_name: str = \"Fine-tune DistilBERT\"\n",
    "    batch_size: int = 32\n",
    "    learning_rate: float = 2e-5\n",
    "    seed: int = 2024\n",
    "    device: str = \"cuda\"  # \"cuda\"\n",
    "    epochs: int = 3\n",
    "\n",
    "\n",
    "# Чтобы сохранить конфигурацию текущего эксперимента, перенесём её в словарь\n",
    "cfg = CFG()\n",
    "configuration_dict = asdict(cfg)\n",
    "configuration_dict"
   ]
  },
  {
   "cell_type": "code",
   "execution_count": 35,
   "metadata": {},
   "outputs": [
    {
     "name": "stdout",
     "output_type": "stream",
     "text": [
      "ClearML Task: created new task id=6561991b55224b61989cb3789b3ca6b5\n",
      "ClearML results page: https://app.clear.ml/projects/59abf2fa89ba4cf4ab73936b09c61821/experiments/6561991b55224b61989cb3789b3ca6b5/output/log\n",
      "ClearML Monitor: Could not detect iteration reporting, falling back to iterations as seconds-from-start\n"
     ]
    }
   ],
   "source": [
    "# Инициализация задачи в ClearML\n",
    "task = Task.init(\n",
    "    project_name=cfg.project_name,\n",
    "    task_name=cfg.task_name,\n",
    "    auto_connect_frameworks={\"tensorboard\": True},\n",
    ")"
   ]
  },
  {
   "cell_type": "code",
   "execution_count": 38,
   "metadata": {},
   "outputs": [
    {
     "data": {
      "application/vnd.jupyter.widget-view+json": {
       "model_id": "0a96011a24c24859bb50e0eab0be5dbb",
       "version_major": 2,
       "version_minor": 0
      },
      "text/plain": [
       "tokenizer_config.json:   0%|          | 0.00/48.0 [00:00<?, ?B/s]"
      ]
     },
     "metadata": {},
     "output_type": "display_data"
    },
    {
     "data": {
      "application/vnd.jupyter.widget-view+json": {
       "model_id": "35c4ada8eab74791b308b3ad5ea070ff",
       "version_major": 2,
       "version_minor": 0
      },
      "text/plain": [
       "vocab.txt:   0%|          | 0.00/232k [00:00<?, ?B/s]"
      ]
     },
     "metadata": {},
     "output_type": "display_data"
    },
    {
     "data": {
      "application/vnd.jupyter.widget-view+json": {
       "model_id": "4acdae1466b5404db3ff67ca275f0490",
       "version_major": 2,
       "version_minor": 0
      },
      "text/plain": [
       "tokenizer.json:   0%|          | 0.00/466k [00:00<?, ?B/s]"
      ]
     },
     "metadata": {},
     "output_type": "display_data"
    },
    {
     "data": {
      "application/vnd.jupyter.widget-view+json": {
       "model_id": "b8c831b1ada5428f961c57e86b086cd0",
       "version_major": 2,
       "version_minor": 0
      },
      "text/plain": [
       "config.json:   0%|          | 0.00/483 [00:00<?, ?B/s]"
      ]
     },
     "metadata": {},
     "output_type": "display_data"
    },
    {
     "data": {
      "application/vnd.jupyter.widget-view+json": {
       "model_id": "973120578e0f44ed9065bab794239209",
       "version_major": 2,
       "version_minor": 0
      },
      "text/plain": [
       "README.md:   0%|          | 0.00/7.81k [00:00<?, ?B/s]"
      ]
     },
     "metadata": {},
     "output_type": "display_data"
    },
    {
     "data": {
      "application/vnd.jupyter.widget-view+json": {
       "model_id": "0cc6de343d3b4561a43be766fbf1a39e",
       "version_major": 2,
       "version_minor": 0
      },
      "text/plain": [
       "train-00000-of-00001.parquet:   0%|          | 0.00/21.0M [00:00<?, ?B/s]"
      ]
     },
     "metadata": {},
     "output_type": "display_data"
    },
    {
     "data": {
      "application/vnd.jupyter.widget-view+json": {
       "model_id": "41898e696e314555a2a02942b74be059",
       "version_major": 2,
       "version_minor": 0
      },
      "text/plain": [
       "test-00000-of-00001.parquet:   0%|          | 0.00/20.5M [00:00<?, ?B/s]"
      ]
     },
     "metadata": {},
     "output_type": "display_data"
    },
    {
     "data": {
      "application/vnd.jupyter.widget-view+json": {
       "model_id": "fb1e182409874d2ea55f4e0bac9775dd",
       "version_major": 2,
       "version_minor": 0
      },
      "text/plain": [
       "unsupervised-00000-of-00001.parquet:   0%|          | 0.00/42.0M [00:00<?, ?B/s]"
      ]
     },
     "metadata": {},
     "output_type": "display_data"
    },
    {
     "data": {
      "application/vnd.jupyter.widget-view+json": {
       "model_id": "cc06498f90c94ee9ae65980c1b25bf89",
       "version_major": 2,
       "version_minor": 0
      },
      "text/plain": [
       "Generating train split:   0%|          | 0/25000 [00:00<?, ? examples/s]"
      ]
     },
     "metadata": {},
     "output_type": "display_data"
    },
    {
     "data": {
      "application/vnd.jupyter.widget-view+json": {
       "model_id": "df8f53edaf8049a8a786a675112a52a9",
       "version_major": 2,
       "version_minor": 0
      },
      "text/plain": [
       "Generating test split:   0%|          | 0/25000 [00:00<?, ? examples/s]"
      ]
     },
     "metadata": {},
     "output_type": "display_data"
    },
    {
     "data": {
      "application/vnd.jupyter.widget-view+json": {
       "model_id": "3f4e0e061d254c2e8dd20dcc5809e35d",
       "version_major": 2,
       "version_minor": 0
      },
      "text/plain": [
       "Generating unsupervised split:   0%|          | 0/50000 [00:00<?, ? examples/s]"
      ]
     },
     "metadata": {},
     "output_type": "display_data"
    },
    {
     "data": {
      "application/vnd.jupyter.widget-view+json": {
       "model_id": "7b140c3e42614dd3afd8a27e2ecd2e9b",
       "version_major": 2,
       "version_minor": 0
      },
      "text/plain": [
       "Map:   0%|          | 0/25000 [00:00<?, ? examples/s]"
      ]
     },
     "metadata": {},
     "output_type": "display_data"
    },
    {
     "data": {
      "application/vnd.jupyter.widget-view+json": {
       "model_id": "6a96a2ea1f984e16bbfcf5f335f7a151",
       "version_major": 2,
       "version_minor": 0
      },
      "text/plain": [
       "Map:   0%|          | 0/25000 [00:00<?, ? examples/s]"
      ]
     },
     "metadata": {},
     "output_type": "display_data"
    },
    {
     "data": {
      "application/vnd.jupyter.widget-view+json": {
       "model_id": "f9e866918c96429fb734d1c035ebff51",
       "version_major": 2,
       "version_minor": 0
      },
      "text/plain": [
       "model.safetensors:   0%|          | 0.00/268M [00:00<?, ?B/s]"
      ]
     },
     "metadata": {},
     "output_type": "display_data"
    },
    {
     "name": "stderr",
     "output_type": "stream",
     "text": [
      "Some weights of DistilBertForSequenceClassification were not initialized from the model checkpoint at distilbert-base-uncased and are newly initialized: ['classifier.bias', 'classifier.weight', 'pre_classifier.bias', 'pre_classifier.weight']\n",
      "You should probably TRAIN this model on a down-stream task to be able to use it for predictions and inference.\n"
     ]
    }
   ],
   "source": [
    "data_module = IMDBDataModule(batch_size=cfg.batch_size)\n",
    "data_module.prepare_data()\n",
    "data_module.setup()\n",
    "\n",
    "# Инициализация модели\n",
    "model = DistilBertClassifier(learning_rate=cfg.learning_rate)"
   ]
  },
  {
   "cell_type": "code",
   "execution_count": 39,
   "metadata": {},
   "outputs": [
    {
     "name": "stderr",
     "output_type": "stream",
     "text": [
      "Trainer will use only 1 of 2 GPUs because it is running inside an interactive / notebook environment. You may try to set `Trainer(devices=2)` but please note that multi-GPU inside interactive / notebook environments is considered experimental and unstable. Your mileage may vary.\n",
      "GPU available: True (cuda), used: True\n",
      "TPU available: False, using: 0 TPU cores\n",
      "HPU available: False, using: 0 HPUs\n"
     ]
    }
   ],
   "source": [
    "logger = TensorBoardLogger(\"lightning_logs\", name=\"distilbert_imdb\")\n",
    "\n",
    "trainer = Trainer(max_epochs=cfg.epochs,\n",
    "                  accelerator=cfg.device,\n",
    "                  logger=logger)"
   ]
  },
  {
   "cell_type": "code",
   "execution_count": 41,
   "metadata": {},
   "outputs": [],
   "source": [
    "trainer.fit(model, datamodule=data_module)"
   ]
  },
  {
   "cell_type": "markdown",
   "metadata": {},
   "source": [
    "<div class=\"alert alert-success\"> \n",
    "\n",
    "Отлично, обучение модели завершено. Далее проверим инференс модели на случайной фразе!"
   ]
  },
  {
   "cell_type": "code",
   "execution_count": 42,
   "metadata": {},
   "outputs": [],
   "source": [
    "def predict(text, model, tokenizer):\n",
    "    model.eval()\n",
    "    with torch.no_grad():\n",
    "        tokens = tokenizer(\n",
    "            text,\n",
    "            return_tensors=\"pt\",\n",
    "            truncation=True,\n",
    "            padding=\"max_length\",\n",
    "            max_length=512,\n",
    "        )\n",
    "        output = model(tokens[\"input_ids\"], tokens[\"attention_mask\"])\n",
    "        prediction = output.argmax(1).item()\n",
    "        return \"Positive\" if prediction == 1 else \"Negative\""
   ]
  },
  {
   "cell_type": "code",
   "execution_count": 43,
   "metadata": {},
   "outputs": [
    {
     "name": "stdout",
     "output_type": "stream",
     "text": [
      "Text: This movie was absolutely fantastic! The story, the acting, everything was perfect.\n",
      "Predicted Sentiment: Positive\n"
     ]
    }
   ],
   "source": [
    "sample_text = \"This movie was absolutely fantastic! The story, the acting, everything was perfect.\"\n",
    "predicted_label = predict(sample_text, model, data_module.tokenizer)\n",
    "\n",
    "print(f\"Text: {sample_text}\")\n",
    "print(f\"Predicted Sentiment: {predicted_label}\")"
   ]
  },
  {
   "cell_type": "code",
   "execution_count": 44,
   "metadata": {},
   "outputs": [],
   "source": [
    "task.close()"
   ]
  },
  {
   "cell_type": "markdown",
   "metadata": {},
   "source": [
    "<div class=\"alert alert-success\">\n",
    "    \n",
    "Можем перейти в `WebUI ClearML` и посмотреть на логи в `DEBUG SAMPLES`.\n",
    "\n",
    "<img src='../images/debtr.png'>"
   ]
  },
  {
   "cell_type": "markdown",
   "metadata": {},
   "source": [
    "## <center id=\"p6\"> 🧸 Выводы и заключения ✅"
   ]
  },
  {
   "cell_type": "markdown",
   "metadata": {},
   "source": [
    "<div class=\"alert alert-success\">\n",
    "    \n",
    "В уроке рассмотрели способы как связка `Lightning + ClearML` поможет ускорить решение и отладку NLP-задач:\n",
    "* Попробовали 2 способа логирования отладочных сэмплов\n",
    "* Применили связку в задаче файнтюнинга трансформера"
   ]
  },
  {
   "cell_type": "markdown",
   "metadata": {},
   "source": [
    "<div class=\"alert alert-info\">\n",
    "    \n",
    "Связка `Lightning + ClearML` делает разработку NLP-моделей быстрее и удобнее:\n",
    "\n",
    "* `Lightning` = упрощённое обучение\n",
    "* `ClearML` = мониторинг и автоматизация\n",
    "* использование `debug samples` проще для детального оттчета\n",
    "\n",
    "💡 Если вы работаете с NLP и PyTorch — этот стек ускорит ваш пайплайн и упростит отладку! 🚀"
   ]
  },
  {
   "cell_type": "code",
   "execution_count": null,
   "metadata": {},
   "outputs": [],
   "source": []
  }
 ],
 "metadata": {
  "kernelspec": {
   "display_name": "cv",
   "language": "python",
   "name": "python3"
  },
  "language_info": {
   "codemirror_mode": {
    "name": "ipython",
    "version": 3
   },
   "file_extension": ".py",
   "mimetype": "text/x-python",
   "name": "python",
   "nbconvert_exporter": "python",
   "pygments_lexer": "ipython3",
   "version": "3.10.12"
  }
 },
 "nbformat": 4,
 "nbformat_minor": 4
}
