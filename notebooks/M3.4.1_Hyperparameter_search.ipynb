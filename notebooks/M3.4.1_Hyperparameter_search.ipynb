{
 "cells": [
  {
   "cell_type": "markdown",
   "metadata": {
    "id": "Ik9iEWecjkut"
   },
   "source": [
    "# <center id=\"p1\">  Подбор идеальных гиперпараметров с ClearML!</center>"
   ]
  },
  {
   "cell_type": "markdown",
   "metadata": {},
   "source": [
    "<div class=\"alert alert-info\">\n",
    "\n",
    "<img src=\"../images/hpo.webp\" align=\"center\" height=500>\n",
    "<br>\n",
    "\n",
    "`ClearML` позволяет запустить подбор гипрепараметров любого эксперимента, зная только его `ID`, написав минимум дополнительного кода.\n",
    "\n",
    "* Просто выставляем интервалы для перебора гиперпараметров\n",
    "* Запускаем \"демона\" `ClearML-Agent`\n",
    "* Передаём ему количество итераций перебора, которое хотим провести, и `ID`\n",
    "* Занимаемся своими делами и спокойно мониторим в `WebUI` прогресс перебора."
   ]
  },
  {
   "cell_type": "markdown",
   "metadata": {
    "id": "_f2nuAHZjkux"
   },
   "source": [
    "<div class=\"alert alert-info\">\n",
    "    \n",
    "Для начала подбора идеальных гиперпараметров нашего эксперимента понадобятся 2 вещи:\n",
    "\n",
    "1. Установить и запустить `clearml-agent daemon` в консоли командой `clearml-agent daemon --queue default`.\n",
    "2. Перед запуском демона следует в консоли ввести команду `clearml-init` и заполнить ключи доступа, которые сохранятся в файле `clearml.conf` и при следующих запусках их не потребуется вводить."
   ]
  },
  {
   "cell_type": "code",
   "execution_count": null,
   "metadata": {
    "colab": {
     "base_uri": "https://localhost:8080/"
    },
    "collapsed": true,
    "id": "sxznsUISjkur",
    "jupyter": {
     "outputs_hidden": true
    },
    "outputId": "773d7809-3d55-4204-a32e-d510d54fb629"
   },
   "outputs": [
    {
     "name": "stdout",
     "output_type": "stream",
     "text": [
      "\u001b[2K     \u001b[90m━━━━━━━━━━━━━━━━━━━━━━━━━━━━━━━━━━━━━━━━\u001b[0m \u001b[32m50.1/50.1 kB\u001b[0m \u001b[31m3.0 MB/s\u001b[0m eta \u001b[36m0:00:00\u001b[0m\n",
      "\u001b[2K   \u001b[90m━━━━━━━━━━━━━━━━━━━━━━━━━━━━━━━━━━━━━━━━\u001b[0m \u001b[32m443.1/443.1 kB\u001b[0m \u001b[31m14.6 MB/s\u001b[0m eta \u001b[36m0:00:00\u001b[0m\n",
      "\u001b[2K   \u001b[90m━━━━━━━━━━━━━━━━━━━━━━━━━━━━━━━━━━━━━━━━\u001b[0m \u001b[32m386.6/386.6 kB\u001b[0m \u001b[31m27.2 MB/s\u001b[0m eta \u001b[36m0:00:00\u001b[0m\n",
      "\u001b[2K   \u001b[90m━━━━━━━━━━━━━━━━━━━━━━━━━━━━━━━━━━━━━━━━\u001b[0m \u001b[32m1.2/1.2 MB\u001b[0m \u001b[31m54.5 MB/s\u001b[0m eta \u001b[36m0:00:00\u001b[0m\n",
      "\u001b[2K   \u001b[90m━━━━━━━━━━━━━━━━━━━━━━━━━━━━━━━━━━━━━━━━\u001b[0m \u001b[32m818.9/818.9 kB\u001b[0m \u001b[31m53.1 MB/s\u001b[0m eta \u001b[36m0:00:00\u001b[0m\n",
      "\u001b[2K   \u001b[90m━━━━━━━━━━━━━━━━━━━━━━━━━━━━━━━━━━━━━━━━\u001b[0m \u001b[32m231.9/231.9 kB\u001b[0m \u001b[31m17.5 MB/s\u001b[0m eta \u001b[36m0:00:00\u001b[0m\n",
      "\u001b[2K   \u001b[90m━━━━━━━━━━━━━━━━━━━━━━━━━━━━━━━━━━━━━━━━\u001b[0m \u001b[32m60.8/60.8 kB\u001b[0m \u001b[31m5.3 MB/s\u001b[0m eta \u001b[36m0:00:00\u001b[0m\n",
      "\u001b[2K   \u001b[90m━━━━━━━━━━━━━━━━━━━━━━━━━━━━━━━━━━━━━━━━\u001b[0m \u001b[32m104.1/104.1 kB\u001b[0m \u001b[31m10.1 MB/s\u001b[0m eta \u001b[36m0:00:00\u001b[0m\n",
      "\u001b[2K   \u001b[90m━━━━━━━━━━━━━━━━━━━━━━━━━━━━━━━━━━━━━━━━\u001b[0m \u001b[32m62.6/62.6 kB\u001b[0m \u001b[31m4.8 MB/s\u001b[0m eta \u001b[36m0:00:00\u001b[0m\n",
      "\u001b[2K   \u001b[90m━━━━━━━━━━━━━━━━━━━━━━━━━━━━━━━━━━━━━━━━\u001b[0m \u001b[32m363.4/363.4 MB\u001b[0m \u001b[31m5.1 MB/s\u001b[0m eta \u001b[36m0:00:00\u001b[0m\n",
      "\u001b[2K   \u001b[90m━━━━━━━━━━━━━━━━━━━━━━━━━━━━━━━━━━━━━━━━\u001b[0m \u001b[32m13.8/13.8 MB\u001b[0m \u001b[31m107.8 MB/s\u001b[0m eta \u001b[36m0:00:00\u001b[0m\n",
      "\u001b[2K   \u001b[90m━━━━━━━━━━━━━━━━━━━━━━━━━━━━━━━━━━━━━━━━\u001b[0m \u001b[32m24.6/24.6 MB\u001b[0m \u001b[31m84.1 MB/s\u001b[0m eta \u001b[36m0:00:00\u001b[0m\n",
      "\u001b[2K   \u001b[90m━━━━━━━━━━━━━━━━━━━━━━━━━━━━━━━━━━━━━━━━\u001b[0m \u001b[32m883.7/883.7 kB\u001b[0m \u001b[31m57.8 MB/s\u001b[0m eta \u001b[36m0:00:00\u001b[0m\n",
      "\u001b[2K   \u001b[90m━━━━━━━━━━━━━━━━━━━━━━━━━━━━━━━━━━━━━━━━\u001b[0m \u001b[32m664.8/664.8 MB\u001b[0m \u001b[31m2.8 MB/s\u001b[0m eta \u001b[36m0:00:00\u001b[0m\n",
      "\u001b[2K   \u001b[90m━━━━━━━━━━━━━━━━━━━━━━━━━━━━━━━━━━━━━━━━\u001b[0m \u001b[32m211.5/211.5 MB\u001b[0m \u001b[31m6.1 MB/s\u001b[0m eta \u001b[36m0:00:00\u001b[0m\n",
      "\u001b[2K   \u001b[90m━━━━━━━━━━━━━━━━━━━━━━━━━━━━━━━━━━━━━━━━\u001b[0m \u001b[32m56.3/56.3 MB\u001b[0m \u001b[31m12.8 MB/s\u001b[0m eta \u001b[36m0:00:00\u001b[0m\n",
      "\u001b[2K   \u001b[90m━━━━━━━━━━━━━━━━━━━━━━━━━━━━━━━━━━━━━━━━\u001b[0m \u001b[32m127.9/127.9 MB\u001b[0m \u001b[31m7.3 MB/s\u001b[0m eta \u001b[36m0:00:00\u001b[0m\n",
      "\u001b[2K   \u001b[90m━━━━━━━━━━━━━━━━━━━━━━━━━━━━━━━━━━━━━━━━\u001b[0m \u001b[32m207.5/207.5 MB\u001b[0m \u001b[31m5.3 MB/s\u001b[0m eta \u001b[36m0:00:00\u001b[0m\n",
      "\u001b[2K   \u001b[90m━━━━━━━━━━━━━━━━━━━━━━━━━━━━━━━━━━━━━━━━\u001b[0m \u001b[32m21.1/21.1 MB\u001b[0m \u001b[31m42.9 MB/s\u001b[0m eta \u001b[36m0:00:00\u001b[0m\n",
      "\u001b[2K   \u001b[90m━━━━━━━━━━━━━━━━━━━━━━━━━━━━━━━━━━━━━━━━\u001b[0m \u001b[32m961.5/961.5 kB\u001b[0m \u001b[31m58.0 MB/s\u001b[0m eta \u001b[36m0:00:00\u001b[0m\n",
      "\u001b[2K   \u001b[90m━━━━━━━━━━━━━━━━━━━━━━━━━━━━━━━━━━━━━━━━\u001b[0m \u001b[32m144.2/144.2 kB\u001b[0m \u001b[31m13.4 MB/s\u001b[0m eta \u001b[36m0:00:00\u001b[0m\n",
      "\u001b[2K   \u001b[90m━━━━━━━━━━━━━━━━━━━━━━━━━━━━━━━━━━━━━━━━\u001b[0m \u001b[32m4.3/4.3 MB\u001b[0m \u001b[31m94.4 MB/s\u001b[0m eta \u001b[36m0:00:00\u001b[0m\n",
      "\u001b[2K   \u001b[90m━━━━━━━━━━━━━━━━━━━━━━━━━━━━━━━━━━━━━━━━\u001b[0m \u001b[32m823.0/823.0 kB\u001b[0m \u001b[31m51.7 MB/s\u001b[0m eta \u001b[36m0:00:00\u001b[0m\n",
      "\u001b[2K   \u001b[90m━━━━━━━━━━━━━━━━━━━━━━━━━━━━━━━━━━━━━━━━\u001b[0m \u001b[32m469.0/469.0 kB\u001b[0m \u001b[31m36.6 MB/s\u001b[0m eta \u001b[36m0:00:00\u001b[0m\n",
      "\u001b[?25h\u001b[31mERROR: pip's dependency resolver does not currently take into account all the packages that are installed. This behaviour is the source of the following dependency conflicts.\n",
      "google-colab 1.0.0 requires requests==2.32.3, but you have requests 2.31.0 which is incompatible.\u001b[0m\u001b[31m\n",
      "\u001b[0m"
     ]
    }
   ],
   "source": [
    "# установим необходимые библиотеки\n",
    "! pip install -U clearml-agent optuna clearml lightning -q"
   ]
  },
  {
   "cell_type": "code",
   "execution_count": null,
   "metadata": {
    "colab": {
     "base_uri": "https://localhost:8080/"
    },
    "id": "lq2vrZ5dljGy",
    "outputId": "3ef5fa6b-4dc7-46d7-8eeb-e1bb04a8e8fc"
   },
   "outputs": [
    {
     "name": "stdout",
     "output_type": "stream",
     "text": [
      "ClearML SDK setup process\n",
      "\n",
      "Please create new clearml credentials through the settings page in your `clearml-server` web app (e.g. http://localhost:8080//settings/workspace-configuration) \n",
      "Or create a free account at https://app.clear.ml/settings/workspace-configuration\n",
      "\n",
      "In settings page, press \"Create new credentials\", then press \"Copy to clipboard\".\n",
      "\n",
      "Paste copied configuration here:\n",
      "api { # Ivan Alexandrov's workspace   web_server: https://app.clear.ml/   api_server: https://api.clear.ml   files_server: https://files.clear.ml   credentials {     \"access_key\" = \"GJTY8IGIBEGSUOMECV72AJOJB7OWAL\"     \"secret_key\" = \"MyxGXpKgA0k0b_WdluJ8I_uz2uAse3EFau1qjnigWoKYzUhwmyjJIF6KfjpR00K0iSM\"   } }\n",
      "Detected credentials key=\"GJTY8IGIBEGSUOMECV72AJOJB7OWAL\" secret=\"MyxG***\"\n",
      "\n",
      "ClearML Hosts configuration:\n",
      "Web App: https://app.clear.ml/\n",
      "API: https://api.clear.ml\n",
      "File Store: https://files.clear.ml\n",
      "\n",
      "Verifying credentials ...\n",
      "Credentials verified!\n",
      "\n",
      "New configuration stored in /root/clearml.conf\n",
      "ClearML setup completed successfully.\n"
     ]
    }
   ],
   "source": [
    "# Запускаем clearml-init, и вводим все credentials\n",
    "!clearml-init"
   ]
  },
  {
   "cell_type": "markdown",
   "metadata": {},
   "source": [
    "<div class=\"alert alert-info\">\n",
    "\n",
    "Запустим скрипт, который создали в предыдущем ноутбуке."
   ]
  },
  {
   "cell_type": "code",
   "execution_count": null,
   "metadata": {
    "colab": {
     "base_uri": "https://localhost:8080/"
    },
    "id": "JOzblXcBmJ2K",
    "outputId": "0acb8f41-e4ac-4b59-d386-b9ae2f26d701",
    "scrolled": true
   },
   "outputs": [
    {
     "name": "stdout",
     "output_type": "stream",
     "text": [
      "ClearML Task: created new task id=179ac345a3c04f8e955efed963f5e944\n",
      "2025-04-14 18:53:14,966 - clearml.Task - INFO - No repository found, storing script code instead\n",
      "2025-04-14 18:53:17.602861: E external/local_xla/xla/stream_executor/cuda/cuda_fft.cc:477] Unable to register cuFFT factory: Attempting to register factory for plugin cuFFT when one has already been registered\n",
      "WARNING: All log messages before absl::InitializeLog() is called are written to STDERR\n",
      "E0000 00:00:1744656797.865326    1864 cuda_dnn.cc:8310] Unable to register cuDNN factory: Attempting to register factory for plugin cuDNN when one has already been registered\n",
      "E0000 00:00:1744656797.937343    1864 cuda_blas.cc:1418] Unable to register cuBLAS factory: Attempting to register factory for plugin cuBLAS when one has already been registered\n",
      "2025-04-14 18:53:18.492020: I tensorflow/core/platform/cpu_feature_guard.cc:210] This TensorFlow binary is optimized to use available CPU instructions in performance-critical operations.\n",
      "To enable the following instructions: AVX2 AVX512F FMA, in other operations, rebuild TensorFlow with the appropriate compiler flags.\n",
      "ClearML results page: https://app.clear.ml/projects/8c64c7258641469bbe1d0988419a80b7/experiments/179ac345a3c04f8e955efed963f5e944/output/log\n",
      "You are using the plain ModelCheckpoint callback. Consider using LitModelCheckpoint which with seamless uploading to Model registry.\n",
      "GPU available: True (cuda), used: True\n",
      "TPU available: False, using: 0 TPU cores\n",
      "HPU available: False, using: 0 HPUs\n",
      "100% 170M/170M [00:03<00:00, 43.4MB/s]\n",
      "LOCAL_RANK: 0 - CUDA_VISIBLE_DEVICES: [0]\n",
      "\n",
      "  | Name      | Type             | Params | Mode \n",
      "-------------------------------------------------------\n",
      "0 | conv1     | Conv2d           | 168    | train\n",
      "1 | conv2     | Conv2d           | 880    | train\n",
      "2 | pool      | MaxPool2d        | 0      | train\n",
      "3 | fc1       | Linear           | 69.2 K | train\n",
      "4 | fc2       | Linear           | 10.2 K | train\n",
      "5 | dropout   | Dropout          | 0      | train\n",
      "6 | fc3       | Linear           | 850    | train\n",
      "7 | criterion | CrossEntropyLoss | 0      | train\n",
      "-------------------------------------------------------\n",
      "81.3 K    Trainable params\n",
      "0         Non-trainable params\n",
      "81.3 K    Total params\n",
      "0.325     Total estimated model params size (MB)\n",
      "8         Modules in train mode\n",
      "0         Modules in eval mode\n",
      "Epoch 0: 100% 12500/12500 [01:15<00:00, 164.59it/s, v_num=0]\n",
      "Validation: |          | 0/? [00:00<?, ?it/s]\u001b[A\n",
      "Validation:   0% 0/2500 [00:00<?, ?it/s]     \u001b[A\n",
      "Validation DataLoader 0:   0% 0/2500 [00:00<?, ?it/s]\u001b[A\n",
      "Validation DataLoader 0:   1% 20/2500 [00:00<00:12, 205.68it/s]\u001b[A\n",
      "Validation DataLoader 0:   2% 40/2500 [00:00<00:12, 195.40it/s]\u001b[A\n",
      "Validation DataLoader 0:   2% 60/2500 [00:00<00:12, 198.56it/s]\u001b[A\n",
      "Validation DataLoader 0:   3% 80/2500 [00:00<00:11, 205.18it/s]\u001b[A\n",
      "Validation DataLoader 0:   4% 100/2500 [00:00<00:13, 172.55it/s]\u001b[A\n",
      "Validation DataLoader 0:   5% 120/2500 [00:00<00:13, 173.15it/s]\u001b[A\n",
      "Validation DataLoader 0:   6% 140/2500 [00:00<00:13, 169.77it/s]\u001b[A\n",
      "Validation DataLoader 0:   6% 160/2500 [00:00<00:13, 174.69it/s]\u001b[A\n",
      "Validation DataLoader 0:   7% 180/2500 [00:01<00:13, 176.89it/s]\u001b[A\n",
      "Validation DataLoader 0:   8% 200/2500 [00:01<00:14, 162.42it/s]\u001b[A\n",
      "Validation DataLoader 0:   9% 220/2500 [00:01<00:13, 166.34it/s]\u001b[A\n",
      "Validation DataLoader 0:  10% 240/2500 [00:01<00:13, 168.13it/s]\u001b[A\n",
      "Validation DataLoader 0:  10% 260/2500 [00:01<00:13, 169.37it/s]\u001b[A\n",
      "Validation DataLoader 0:  11% 280/2500 [00:01<00:12, 172.13it/s]\u001b[A\n",
      "Validation DataLoader 0:  12% 300/2500 [00:01<00:13, 165.19it/s]\u001b[A\n",
      "Validation DataLoader 0:  13% 320/2500 [00:01<00:12, 167.93it/s]\u001b[A\n",
      "Validation DataLoader 0:  14% 340/2500 [00:02<00:13, 164.94it/s]\u001b[A\n",
      "Validation DataLoader 0:  14% 360/2500 [00:02<00:12, 166.37it/s]\u001b[A\n",
      "Validation DataLoader 0:  15% 380/2500 [00:02<00:12, 167.83it/s]\u001b[A\n",
      "Validation DataLoader 0:  16% 400/2500 [00:02<00:12, 162.86it/s]\u001b[A\n",
      "Validation DataLoader 0:  17% 420/2500 [00:02<00:12, 165.06it/s]\u001b[A\n",
      "Validation DataLoader 0:  18% 440/2500 [00:02<00:12, 167.05it/s]\u001b[A\n",
      "Validation DataLoader 0:  18% 460/2500 [00:02<00:12, 168.96it/s]\u001b[A\n",
      "Validation DataLoader 0:  19% 480/2500 [00:02<00:11, 170.69it/s]\u001b[A\n",
      "Validation DataLoader 0:  20% 500/2500 [00:03<00:12, 166.63it/s]\u001b[A\n",
      "Validation DataLoader 0:  21% 520/2500 [00:03<00:11, 168.39it/s]\u001b[A\n",
      "Validation DataLoader 0:  22% 540/2500 [00:03<00:11, 167.65it/s]\u001b[A\n",
      "Validation DataLoader 0:  22% 560/2500 [00:03<00:11, 168.81it/s]\u001b[A\n",
      "Validation DataLoader 0:  23% 580/2500 [00:03<00:11, 170.24it/s]\u001b[A\n",
      "Validation DataLoader 0:  24% 600/2500 [00:03<00:11, 166.40it/s]\u001b[A\n",
      "Validation DataLoader 0:  25% 620/2500 [00:03<00:11, 166.65it/s]\u001b[A\n",
      "Validation DataLoader 0:  26% 640/2500 [00:03<00:11, 167.45it/s]\u001b[A\n",
      "Validation DataLoader 0:  26% 660/2500 [00:03<00:10, 168.74it/s]\u001b[A\n",
      "Validation DataLoader 0:  27% 680/2500 [00:04<00:10, 169.89it/s]\u001b[A\n",
      "Validation DataLoader 0:  28% 700/2500 [00:04<00:10, 166.92it/s]\u001b[A\n",
      "Validation DataLoader 0:  29% 720/2500 [00:04<00:10, 167.70it/s]\u001b[A\n",
      "Validation DataLoader 0:  30% 740/2500 [00:04<00:10, 167.83it/s]\u001b[A\n",
      "Validation DataLoader 0:  30% 760/2500 [00:04<00:10, 168.75it/s]\u001b[A\n",
      "Validation DataLoader 0:  31% 780/2500 [00:04<00:10, 169.81it/s]\u001b[A\n",
      "Validation DataLoader 0:  32% 800/2500 [00:04<00:10, 167.23it/s]\u001b[A\n",
      "Validation DataLoader 0:  33% 820/2500 [00:04<00:09, 168.30it/s]\u001b[A\n",
      "Validation DataLoader 0:  34% 840/2500 [00:04<00:09, 169.37it/s]\u001b[A\n",
      "Validation DataLoader 0:  34% 860/2500 [00:05<00:09, 170.21it/s]\u001b[A\n",
      "Validation DataLoader 0:  35% 880/2500 [00:05<00:09, 171.15it/s]\u001b[A\n",
      "Validation DataLoader 0:  36% 900/2500 [00:05<00:09, 168.82it/s]\u001b[A\n",
      "Validation DataLoader 0:  37% 920/2500 [00:05<00:09, 169.64it/s]\u001b[A\n",
      "Validation DataLoader 0:  38% 940/2500 [00:05<00:09, 170.50it/s]\u001b[A\n",
      "Validation DataLoader 0:  38% 960/2500 [00:05<00:08, 171.33it/s]\u001b[A\n",
      "Validation DataLoader 0:  39% 980/2500 [00:05<00:08, 172.17it/s]\u001b[A\n",
      "Validation DataLoader 0:  40% 1000/2500 [00:05<00:08, 169.96it/s]\u001b[A\n",
      "Validation DataLoader 0:  41% 1020/2500 [00:05<00:08, 170.78it/s]\u001b[A\n",
      "Validation DataLoader 0:  42% 1040/2500 [00:06<00:08, 171.54it/s]\u001b[A\n",
      "Validation DataLoader 0:  42% 1060/2500 [00:06<00:08, 172.30it/s]\u001b[A\n",
      "Validation DataLoader 0:  43% 1080/2500 [00:06<00:08, 172.97it/s]\u001b[A\n",
      "Validation DataLoader 0:  44% 1100/2500 [00:06<00:08, 170.74it/s]\u001b[A\n",
      "Validation DataLoader 0:  45% 1120/2500 [00:06<00:08, 171.42it/s]\u001b[A\n",
      "Validation DataLoader 0:  46% 1140/2500 [00:06<00:07, 172.10it/s]\u001b[A\n",
      "Validation DataLoader 0:  46% 1160/2500 [00:06<00:07, 172.77it/s]\u001b[A\n",
      "Validation DataLoader 0:  47% 1180/2500 [00:06<00:07, 172.67it/s]\u001b[A\n",
      "Validation DataLoader 0:  48% 1200/2500 [00:07<00:07, 170.70it/s]\u001b[A\n",
      "Validation DataLoader 0:  49% 1220/2500 [00:07<00:07, 171.07it/s]\u001b[A\n",
      "Validation DataLoader 0:  50% 1240/2500 [00:07<00:07, 171.34it/s]\u001b[A\n",
      "Validation DataLoader 0:  50% 1260/2500 [00:07<00:07, 171.61it/s]\u001b[A\n",
      "Validation DataLoader 0:  51% 1280/2500 [00:07<00:07, 172.22it/s]\u001b[A\n",
      "Validation DataLoader 0:  52% 1300/2500 [00:07<00:07, 169.45it/s]\u001b[A\n",
      "Validation DataLoader 0:  53% 1320/2500 [00:07<00:06, 170.05it/s]\u001b[A\n",
      "Validation DataLoader 0:  54% 1340/2500 [00:07<00:06, 170.59it/s]\u001b[A\n",
      "Validation DataLoader 0:  54% 1360/2500 [00:07<00:06, 171.12it/s]\u001b[A\n",
      "Validation DataLoader 0:  55% 1380/2500 [00:08<00:06, 171.66it/s]\u001b[A\n",
      "Validation DataLoader 0:  56% 1400/2500 [00:08<00:06, 169.96it/s]\u001b[A\n",
      "Validation DataLoader 0:  57% 1420/2500 [00:08<00:06, 170.34it/s]\u001b[A\n",
      "Validation DataLoader 0:  58% 1440/2500 [00:08<00:06, 170.87it/s]\u001b[A\n",
      "Validation DataLoader 0:  58% 1460/2500 [00:08<00:06, 171.41it/s]\u001b[A\n",
      "Validation DataLoader 0:  59% 1480/2500 [00:08<00:05, 172.05it/s]\u001b[A\n",
      "Validation DataLoader 0:  60% 1500/2500 [00:08<00:05, 170.67it/s]\u001b[A\n",
      "Validation DataLoader 0:  61% 1520/2500 [00:08<00:05, 171.19it/s]\u001b[A\n",
      "Validation DataLoader 0:  62% 1540/2500 [00:08<00:05, 171.72it/s]\u001b[A\n",
      "Validation DataLoader 0:  62% 1560/2500 [00:09<00:05, 172.14it/s]\u001b[A\n",
      "Validation DataLoader 0:  63% 1580/2500 [00:09<00:05, 172.53it/s]\u001b[A\n",
      "Validation DataLoader 0:  64% 1600/2500 [00:09<00:05, 170.97it/s]\u001b[A\n",
      "Validation DataLoader 0:  65% 1620/2500 [00:09<00:05, 171.33it/s]\u001b[A\n",
      "Validation DataLoader 0:  66% 1640/2500 [00:09<00:05, 171.84it/s]\u001b[A\n",
      "Validation DataLoader 0:  66% 1660/2500 [00:09<00:04, 171.70it/s]\u001b[A\n",
      "Validation DataLoader 0:  67% 1680/2500 [00:09<00:04, 171.57it/s]\u001b[A\n",
      "Validation DataLoader 0:  68% 1700/2500 [00:10<00:04, 169.82it/s]\u001b[A\n",
      "Validation DataLoader 0:  69% 1720/2500 [00:10<00:04, 169.79it/s]\u001b[A\n",
      "Validation DataLoader 0:  70% 1740/2500 [00:10<00:04, 169.73it/s]\u001b[A\n",
      "Validation DataLoader 0:  70% 1760/2500 [00:10<00:04, 169.65it/s]\u001b[A\n",
      "Validation DataLoader 0:  71% 1780/2500 [00:10<00:04, 168.71it/s]\u001b[A\n",
      "Validation DataLoader 0:  72% 1800/2500 [00:10<00:04, 166.78it/s]\u001b[A\n",
      "Validation DataLoader 0:  73% 1820/2500 [00:10<00:04, 166.59it/s]\u001b[A\n",
      "Validation DataLoader 0:  74% 1840/2500 [00:11<00:03, 166.33it/s]\u001b[A\n",
      "Validation DataLoader 0:  74% 1860/2500 [00:11<00:03, 166.17it/s]\u001b[A\n",
      "Validation DataLoader 0:  75% 1880/2500 [00:11<00:03, 165.99it/s]\u001b[A\n",
      "Validation DataLoader 0:  76% 1900/2500 [00:11<00:03, 164.02it/s]\u001b[A\n",
      "Validation DataLoader 0:  77% 1920/2500 [00:11<00:03, 163.94it/s]\u001b[A\n",
      "Validation DataLoader 0:  78% 1940/2500 [00:11<00:03, 164.37it/s]\u001b[A\n",
      "Validation DataLoader 0:  78% 1960/2500 [00:11<00:03, 164.78it/s]\u001b[A\n",
      "Validation DataLoader 0:  79% 1980/2500 [00:11<00:03, 165.25it/s]\u001b[A\n",
      "Validation DataLoader 0:  80% 2000/2500 [00:12<00:03, 164.28it/s]\u001b[A\n",
      "Validation DataLoader 0:  81% 2020/2500 [00:12<00:02, 164.69it/s]\u001b[A\n",
      "Validation DataLoader 0:  82% 2040/2500 [00:12<00:02, 165.09it/s]\u001b[A\n",
      "Validation DataLoader 0:  82% 2060/2500 [00:12<00:02, 165.47it/s]\u001b[A\n",
      "Validation DataLoader 0:  83% 2080/2500 [00:12<00:02, 165.74it/s]\u001b[A\n",
      "Validation DataLoader 0:  84% 2100/2500 [00:12<00:02, 164.79it/s]\u001b[A\n",
      "Validation DataLoader 0:  85% 2120/2500 [00:12<00:02, 165.18it/s]\u001b[A\n",
      "Validation DataLoader 0:  86% 2140/2500 [00:12<00:02, 164.65it/s]\u001b[A\n",
      "Validation DataLoader 0:  86% 2160/2500 [00:13<00:02, 164.97it/s]\u001b[A\n",
      "Validation DataLoader 0:  87% 2180/2500 [00:13<00:01, 165.36it/s]\u001b[A\n",
      "Validation DataLoader 0:  88% 2200/2500 [00:13<00:01, 164.19it/s]\u001b[A\n",
      "Validation DataLoader 0:  89% 2220/2500 [00:13<00:01, 164.53it/s]\u001b[A\n",
      "Validation DataLoader 0:  90% 2240/2500 [00:13<00:01, 164.81it/s]\u001b[A\n",
      "Validation DataLoader 0:  90% 2260/2500 [00:13<00:01, 165.01it/s]\u001b[A\n",
      "Validation DataLoader 0:  91% 2280/2500 [00:13<00:01, 165.22it/s]\u001b[A\n",
      "Validation DataLoader 0:  92% 2300/2500 [00:13<00:01, 164.41it/s]\u001b[A\n",
      "Validation DataLoader 0:  93% 2320/2500 [00:14<00:01, 164.77it/s]\u001b[A\n",
      "Validation DataLoader 0:  94% 2340/2500 [00:14<00:00, 165.14it/s]\u001b[A\n",
      "Validation DataLoader 0:  94% 2360/2500 [00:14<00:00, 165.49it/s]\u001b[A\n",
      "Validation DataLoader 0:  95% 2380/2500 [00:14<00:00, 165.87it/s]\u001b[A\n",
      "Validation DataLoader 0:  96% 2400/2500 [00:14<00:00, 165.00it/s]\u001b[A\n",
      "Validation DataLoader 0:  97% 2420/2500 [00:14<00:00, 165.33it/s]\u001b[A\n",
      "Validation DataLoader 0:  98% 2440/2500 [00:14<00:00, 165.55it/s]\u001b[A\n",
      "Validation DataLoader 0:  98% 2460/2500 [00:14<00:00, 165.76it/s]\u001b[A\n",
      "Validation DataLoader 0:  99% 2480/2500 [00:14<00:00, 166.08it/s]\u001b[A\n",
      "Validation DataLoader 0: 100% 2500/2500 [00:15<00:00, 165.32it/s]\u001b[A\n",
      "Epoch 1: 100% 12500/12500 [01:16<00:00, 163.18it/s, v_num=0, val_loss=1.570, val_acc=0.415]\n",
      "Validation: |          | 0/? [00:00<?, ?it/s]\u001b[A\n",
      "Validation:   0% 0/2500 [00:00<?, ?it/s]     \u001b[A\n",
      "Validation DataLoader 0:   0% 0/2500 [00:00<?, ?it/s]\u001b[A\n",
      "Validation DataLoader 0:   1% 20/2500 [00:00<00:11, 209.42it/s]\u001b[A\n",
      "Validation DataLoader 0:   2% 40/2500 [00:00<00:11, 212.55it/s]\u001b[A\n",
      "Validation DataLoader 0:   2% 60/2500 [00:00<00:12, 191.95it/s]\u001b[A\n",
      "Validation DataLoader 0:   3% 80/2500 [00:00<00:15, 158.04it/s]\u001b[A\n",
      "Validation DataLoader 0:   4% 100/2500 [00:00<00:17, 137.11it/s]\u001b[A\n",
      "Validation DataLoader 0:   5% 120/2500 [00:00<00:18, 128.02it/s]\u001b[A\n",
      "Validation DataLoader 0:   6% 140/2500 [00:01<00:17, 131.77it/s]\u001b[A\n",
      "Validation DataLoader 0:   6% 160/2500 [00:01<00:17, 135.27it/s]\u001b[A\n",
      "Validation DataLoader 0:   7% 180/2500 [00:01<00:16, 138.50it/s]\u001b[A\n",
      "Validation DataLoader 0:   8% 200/2500 [00:01<00:18, 124.99it/s]\u001b[A\n",
      "Validation DataLoader 0:   9% 220/2500 [00:01<00:18, 124.80it/s]\u001b[A\n",
      "Validation DataLoader 0:  10% 240/2500 [00:01<00:18, 122.94it/s]\u001b[A\n",
      "Validation DataLoader 0:  10% 260/2500 [00:02<00:17, 125.29it/s]\u001b[A\n",
      "Validation DataLoader 0:  11% 280/2500 [00:02<00:17, 126.82it/s]\u001b[A\n",
      "Validation DataLoader 0:  12% 300/2500 [00:02<00:17, 122.98it/s]\u001b[A\n",
      "Validation DataLoader 0:  13% 320/2500 [00:02<00:17, 125.20it/s]\u001b[A\n",
      "Validation DataLoader 0:  14% 340/2500 [00:02<00:16, 128.56it/s]\u001b[A\n",
      "Validation DataLoader 0:  14% 360/2500 [00:02<00:16, 131.77it/s]\u001b[A\n",
      "Validation DataLoader 0:  15% 380/2500 [00:02<00:15, 134.53it/s]\u001b[A\n",
      "Validation DataLoader 0:  16% 400/2500 [00:03<00:15, 132.72it/s]\u001b[A\n",
      "Validation DataLoader 0:  17% 420/2500 [00:03<00:15, 134.84it/s]\u001b[A\n",
      "Validation DataLoader 0:  18% 440/2500 [00:03<00:15, 136.51it/s]\u001b[A\n",
      "Validation DataLoader 0:  18% 460/2500 [00:03<00:14, 138.86it/s]\u001b[A\n",
      "Validation DataLoader 0:  19% 480/2500 [00:03<00:14, 140.98it/s]\u001b[A\n",
      "Validation DataLoader 0:  20% 500/2500 [00:03<00:14, 139.12it/s]\u001b[A\n",
      "Validation DataLoader 0:  21% 520/2500 [00:03<00:14, 141.01it/s]\u001b[A\n",
      "Validation DataLoader 0:  22% 540/2500 [00:03<00:13, 142.98it/s]\u001b[A\n",
      "Validation DataLoader 0:  22% 560/2500 [00:03<00:13, 142.98it/s]\u001b[A\n",
      "Validation DataLoader 0:  23% 580/2500 [00:04<00:13, 144.77it/s]\u001b[A\n",
      "Validation DataLoader 0:  24% 600/2500 [00:04<00:13, 142.19it/s]\u001b[A\n",
      "Validation DataLoader 0:  25% 620/2500 [00:04<00:13, 143.71it/s]\u001b[A\n",
      "Validation DataLoader 0:  26% 640/2500 [00:04<00:12, 145.36it/s]\u001b[A\n",
      "Validation DataLoader 0:  26% 660/2500 [00:04<00:12, 146.97it/s]\u001b[A\n",
      "Validation DataLoader 0:  27% 680/2500 [00:04<00:12, 148.06it/s]\u001b[A\n",
      "Validation DataLoader 0:  28% 700/2500 [00:04<00:12, 146.13it/s]\u001b[A\n",
      "Validation DataLoader 0:  29% 720/2500 [00:04<00:12, 146.19it/s]\u001b[A\n",
      "Validation DataLoader 0:  30% 740/2500 [00:05<00:11, 147.48it/s]\u001b[A\n",
      "Validation DataLoader 0:  30% 760/2500 [00:05<00:11, 148.83it/s]\u001b[A\n",
      "Validation DataLoader 0:  31% 780/2500 [00:05<00:11, 150.04it/s]\u001b[A\n",
      "Validation DataLoader 0:  32% 800/2500 [00:05<00:11, 148.38it/s]\u001b[A\n",
      "Validation DataLoader 0:  33% 820/2500 [00:05<00:11, 149.61it/s]\u001b[A\n",
      "Validation DataLoader 0:  34% 840/2500 [00:05<00:11, 150.59it/s]\u001b[A\n",
      "Validation DataLoader 0:  34% 860/2500 [00:05<00:10, 151.59it/s]\u001b[A\n",
      "Validation DataLoader 0:  35% 880/2500 [00:05<00:10, 152.76it/s]\u001b[A\n",
      "Validation DataLoader 0:  36% 900/2500 [00:05<00:10, 151.17it/s]\u001b[A\n",
      "Validation DataLoader 0:  37% 920/2500 [00:06<00:10, 152.26it/s]\u001b[A\n",
      "Validation DataLoader 0:  38% 940/2500 [00:06<00:10, 153.34it/s]\u001b[A\n",
      "Validation DataLoader 0:  38% 960/2500 [00:06<00:09, 154.36it/s]\u001b[A\n",
      "Validation DataLoader 0:  39% 980/2500 [00:06<00:09, 155.37it/s]\u001b[A\n",
      "Validation DataLoader 0:  40% 1000/2500 [00:06<00:09, 153.41it/s]\u001b[A\n",
      "Validation DataLoader 0:  41% 1020/2500 [00:06<00:09, 153.81it/s]\u001b[A\n",
      "Validation DataLoader 0:  42% 1040/2500 [00:06<00:09, 154.72it/s]\u001b[A\n",
      "Validation DataLoader 0:  42% 1060/2500 [00:06<00:09, 155.62it/s]\u001b[A\n",
      "Validation DataLoader 0:  43% 1080/2500 [00:06<00:09, 156.42it/s]\u001b[A\n",
      "Validation DataLoader 0:  44% 1100/2500 [00:07<00:09, 155.05it/s]\u001b[A\n",
      "Validation DataLoader 0:  45% 1120/2500 [00:07<00:08, 155.90it/s]\u001b[A\n",
      "Validation DataLoader 0:  46% 1140/2500 [00:07<00:08, 156.75it/s]\u001b[A\n",
      "Validation DataLoader 0:  46% 1160/2500 [00:07<00:08, 157.52it/s]\u001b[A\n",
      "Validation DataLoader 0:  47% 1180/2500 [00:07<00:08, 158.31it/s]\u001b[A\n",
      "Validation DataLoader 0:  48% 1200/2500 [00:07<00:08, 156.76it/s]\u001b[A\n",
      "Validation DataLoader 0:  49% 1220/2500 [00:07<00:08, 157.56it/s]\u001b[A\n",
      "Validation DataLoader 0:  50% 1240/2500 [00:07<00:07, 158.32it/s]\u001b[A\n",
      "Validation DataLoader 0:  50% 1260/2500 [00:07<00:07, 158.97it/s]\u001b[A\n",
      "Validation DataLoader 0:  51% 1280/2500 [00:08<00:07, 159.68it/s]\u001b[A\n",
      "Validation DataLoader 0:  52% 1300/2500 [00:08<00:07, 158.42it/s]\u001b[A\n",
      "Validation DataLoader 0:  53% 1320/2500 [00:08<00:07, 159.08it/s]\u001b[A\n",
      "Validation DataLoader 0:  54% 1340/2500 [00:08<00:07, 159.75it/s]\u001b[A\n",
      "Validation DataLoader 0:  54% 1360/2500 [00:08<00:07, 160.40it/s]\u001b[A\n",
      "Validation DataLoader 0:  55% 1380/2500 [00:08<00:06, 161.01it/s]\u001b[A\n",
      "Validation DataLoader 0:  56% 1400/2500 [00:08<00:06, 159.77it/s]\u001b[A\n",
      "Validation DataLoader 0:  57% 1420/2500 [00:08<00:06, 160.07it/s]\u001b[A\n",
      "Validation DataLoader 0:  58% 1440/2500 [00:08<00:06, 160.37it/s]\u001b[A\n",
      "Validation DataLoader 0:  58% 1460/2500 [00:09<00:06, 160.95it/s]\u001b[A\n",
      "Validation DataLoader 0:  59% 1480/2500 [00:09<00:06, 161.53it/s]\u001b[A\n",
      "Validation DataLoader 0:  60% 1500/2500 [00:09<00:06, 159.92it/s]\u001b[A\n",
      "Validation DataLoader 0:  61% 1520/2500 [00:09<00:06, 160.52it/s]\u001b[A\n",
      "Validation DataLoader 0:  62% 1540/2500 [00:09<00:05, 160.91it/s]\u001b[A\n",
      "Validation DataLoader 0:  62% 1560/2500 [00:09<00:05, 161.03it/s]\u001b[A\n",
      "Validation DataLoader 0:  63% 1580/2500 [00:09<00:05, 161.62it/s]\u001b[A\n",
      "Validation DataLoader 0:  64% 1600/2500 [00:09<00:05, 160.27it/s]\u001b[A\n",
      "Validation DataLoader 0:  65% 1620/2500 [00:10<00:05, 160.81it/s]\u001b[A\n",
      "Validation DataLoader 0:  66% 1640/2500 [00:10<00:05, 161.38it/s]\u001b[A\n",
      "Validation DataLoader 0:  66% 1660/2500 [00:10<00:05, 161.90it/s]\u001b[A\n",
      "Validation DataLoader 0:  67% 1680/2500 [00:10<00:05, 162.45it/s]\u001b[A\n",
      "Validation DataLoader 0:  68% 1700/2500 [00:10<00:04, 161.10it/s]\u001b[A\n",
      "Validation DataLoader 0:  69% 1720/2500 [00:10<00:04, 161.50it/s]\u001b[A\n",
      "Validation DataLoader 0:  70% 1740/2500 [00:10<00:04, 161.90it/s]\u001b[A\n",
      "Validation DataLoader 0:  70% 1760/2500 [00:10<00:04, 162.44it/s]\u001b[A\n",
      "Validation DataLoader 0:  71% 1780/2500 [00:10<00:04, 162.94it/s]\u001b[A\n",
      "Validation DataLoader 0:  72% 1800/2500 [00:11<00:04, 161.92it/s]\u001b[A\n",
      "Validation DataLoader 0:  73% 1820/2500 [00:11<00:04, 162.23it/s]\u001b[A\n",
      "Validation DataLoader 0:  74% 1840/2500 [00:11<00:04, 162.46it/s]\u001b[A\n",
      "Validation DataLoader 0:  74% 1860/2500 [00:11<00:03, 162.91it/s]\u001b[A\n",
      "Validation DataLoader 0:  75% 1880/2500 [00:11<00:03, 163.35it/s]\u001b[A\n",
      "Validation DataLoader 0:  76% 1900/2500 [00:11<00:03, 162.37it/s]\u001b[A\n",
      "Validation DataLoader 0:  77% 1920/2500 [00:11<00:03, 162.73it/s]\u001b[A\n",
      "Validation DataLoader 0:  78% 1940/2500 [00:11<00:03, 163.17it/s]\u001b[A\n",
      "Validation DataLoader 0:  78% 1960/2500 [00:11<00:03, 163.54it/s]\u001b[A\n",
      "Validation DataLoader 0:  79% 1980/2500 [00:12<00:03, 163.99it/s]\u001b[A\n",
      "Validation DataLoader 0:  80% 2000/2500 [00:12<00:03, 163.07it/s]\u001b[A\n",
      "Validation DataLoader 0:  81% 2020/2500 [00:12<00:02, 163.53it/s]\u001b[A\n",
      "Validation DataLoader 0:  82% 2040/2500 [00:12<00:02, 163.96it/s]\u001b[A\n",
      "Validation DataLoader 0:  82% 2060/2500 [00:12<00:02, 164.02it/s]\u001b[A\n",
      "Validation DataLoader 0:  83% 2080/2500 [00:12<00:02, 163.92it/s]\u001b[A\n",
      "Validation DataLoader 0:  84% 2100/2500 [00:12<00:02, 162.32it/s]\u001b[A\n",
      "Validation DataLoader 0:  85% 2120/2500 [00:13<00:02, 162.34it/s]\u001b[A\n",
      "Validation DataLoader 0:  86% 2140/2500 [00:13<00:02, 162.38it/s]\u001b[A\n",
      "Validation DataLoader 0:  86% 2160/2500 [00:13<00:02, 162.44it/s]\u001b[A\n",
      "Validation DataLoader 0:  87% 2180/2500 [00:13<00:01, 162.50it/s]\u001b[A\n",
      "Validation DataLoader 0:  88% 2200/2500 [00:13<00:01, 160.93it/s]\u001b[A\n",
      "Validation DataLoader 0:  89% 2220/2500 [00:13<00:01, 160.88it/s]\u001b[A\n",
      "Validation DataLoader 0:  90% 2240/2500 [00:13<00:01, 160.73it/s]\u001b[A\n",
      "Validation DataLoader 0:  90% 2260/2500 [00:14<00:01, 160.60it/s]\u001b[A\n",
      "Validation DataLoader 0:  91% 2280/2500 [00:14<00:01, 160.57it/s]\u001b[A\n",
      "Validation DataLoader 0:  92% 2300/2500 [00:14<00:01, 159.41it/s]\u001b[A\n",
      "Validation DataLoader 0:  93% 2320/2500 [00:14<00:01, 159.31it/s]\u001b[A\n",
      "Validation DataLoader 0:  94% 2340/2500 [00:14<00:01, 159.30it/s]\u001b[A\n",
      "Validation DataLoader 0:  94% 2360/2500 [00:14<00:00, 159.66it/s]\u001b[A\n",
      "Validation DataLoader 0:  95% 2380/2500 [00:14<00:00, 159.96it/s]\u001b[A\n",
      "Validation DataLoader 0:  96% 2400/2500 [00:15<00:00, 159.26it/s]\u001b[A\n",
      "Validation DataLoader 0:  97% 2420/2500 [00:15<00:00, 159.63it/s]\u001b[A\n",
      "Validation DataLoader 0:  98% 2440/2500 [00:15<00:00, 159.98it/s]\u001b[A\n",
      "Validation DataLoader 0:  98% 2460/2500 [00:15<00:00, 160.08it/s]\u001b[A\n",
      "Validation DataLoader 0:  99% 2480/2500 [00:15<00:00, 160.43it/s]\u001b[A\n",
      "Validation DataLoader 0: 100% 2500/2500 [00:15<00:00, 159.67it/s]\u001b[A\n",
      "Epoch 1: 100% 12500/12500 [01:32<00:00, 135.29it/s, v_num=0, val_loss=1.360, val_acc=0.505]`Trainer.fit` stopped: `max_epochs=2` reached.\n",
      "Epoch 1: 100% 12500/12500 [01:35<00:00, 130.61it/s, v_num=0, val_loss=1.360, val_acc=0.505]\n",
      "LOCAL_RANK: 0 - CUDA_VISIBLE_DEVICES: [0]\n",
      "Testing DataLoader 0: 100% 2500/2500 [00:11<00:00, 218.50it/s]Final Test Accuracy: 0.5052\n",
      "Testing DataLoader 0: 100% 2500/2500 [00:11<00:00, 217.98it/s]\n",
      "┏━━━━━━━━━━━━━━━━━━━━━━━━━━━┳━━━━━━━━━━━━━━━━━━━━━━━━━━━┓\n",
      "┃\u001b[1m \u001b[0m\u001b[1m       Test metric       \u001b[0m\u001b[1m \u001b[0m┃\u001b[1m \u001b[0m\u001b[1m      DataLoader 0       \u001b[0m\u001b[1m \u001b[0m┃\n",
      "┡━━━━━━━━━━━━━━━━━━━━━━━━━━━╇━━━━━━━━━━━━━━━━━━━━━━━━━━━┩\n",
      "│\u001b[36m \u001b[0m\u001b[36m        test_acc         \u001b[0m\u001b[36m \u001b[0m│\u001b[35m \u001b[0m\u001b[35m   0.5052000284194946    \u001b[0m\u001b[35m \u001b[0m│\n",
      "│\u001b[36m \u001b[0m\u001b[36m      test_accuracy      \u001b[0m\u001b[36m \u001b[0m│\u001b[35m \u001b[0m\u001b[35m   0.5051999688148499    \u001b[0m\u001b[35m \u001b[0m│\n",
      "│\u001b[36m \u001b[0m\u001b[36m        test_loss        \u001b[0m\u001b[36m \u001b[0m│\u001b[35m \u001b[0m\u001b[35m    1.359758734703064    \u001b[0m\u001b[35m \u001b[0m│\n",
      "└───────────────────────────┴───────────────────────────┘\n",
      "Task ID number is: 179ac345a3c04f8e955efed963f5e944\n"
     ]
    }
   ],
   "source": [
    "!python train_script.py"
   ]
  },
  {
   "cell_type": "markdown",
   "metadata": {},
   "source": [
    "<div class=\"alert alert-success\">\n",
    "\n",
    "Эксперимент отработал до конца без ошибок.\n",
    "\n",
    "Удобно, что мы в конце вывели `Task ID` сразу вставим его в ячейку ниже."
   ]
  },
  {
   "cell_type": "code",
   "execution_count": null,
   "metadata": {
    "id": "IycLcxNpjkuy"
   },
   "outputs": [],
   "source": [
    "########################################################\n",
    "### Не забудьте заменить на свой собственный task id ###\n",
    "########################################################\n",
    "TEMPLATE_TASK_ID = \"179ac345a3c04f8e955efed963f5e944\""
   ]
  },
  {
   "cell_type": "markdown",
   "metadata": {},
   "source": [
    "# <center> Запускаем демона - ClearML Agent"
   ]
  },
  {
   "cell_type": "markdown",
   "metadata": {},
   "source": [
    "<div class=\"alert alert-info\">\n",
    "\n",
    "Агент ClearML помогает в развертывании модели и отслеживании производительности модели в реальном времени с помощью панели управления"
   ]
  },
  {
   "cell_type": "markdown",
   "metadata": {},
   "source": [
    "<div class=\"alert alert-info\">\n",
    "\n",
    "Теперь запустим \"демон\" `ClearML Agent` отдельным процессом в фоне\n",
    "\n",
    "* указываем название очереди в парметре `--queue` (в нашем случае `default`)\n",
    "* при необходимости добавляем параметр `--detached` (или символ `&`), чтобы процесс висел в фоне и не завершился при закрытии консоли."
   ]
  },
  {
   "cell_type": "code",
   "execution_count": null,
   "metadata": {
    "colab": {
     "base_uri": "https://localhost:8080/"
    },
    "id": "NRYiiXMQjkux",
    "outputId": "6bb6c5c5-e6c4-4f73-a010-4bb688ac179b"
   },
   "outputs": [
    {
     "name": "stdout",
     "output_type": "stream",
     "text": [
      "\n",
      "clearml_agent: ERROR: Instance with the same WORKER_ID [15b20e4b4fc4:gpuall] is already running\n",
      "\n"
     ]
    }
   ],
   "source": [
    "!clearml-agent daemon --queue default --detached"
   ]
  },
  {
   "cell_type": "markdown",
   "metadata": {},
   "source": [
    "# <center> Начинаем подбор параметров"
   ]
  },
  {
   "cell_type": "markdown",
   "metadata": {},
   "source": [
    "<div class=\"alert alert-info\">\n",
    "\n",
    "Возьмём хорошо известный `Optuna Optimizer`, для которого есть интеграция в `ClearML`. Так же поддерживаются пребор по сетке и `Randomized Search`."
   ]
  },
  {
   "cell_type": "code",
   "execution_count": null,
   "metadata": {
    "id": "UimDWyUnjkux"
   },
   "outputs": [],
   "source": [
    "from clearml.automation import UniformParameterRange, UniformIntegerParameterRange\n",
    "from clearml.automation import HyperParameterOptimizer\n",
    "from clearml.automation.optuna import OptimizerOptuna\n",
    "from clearml import Task"
   ]
  },
  {
   "cell_type": "code",
   "execution_count": null,
   "metadata": {
    "colab": {
     "base_uri": "https://localhost:8080/"
    },
    "id": "seMhllI4jkuy",
    "outputId": "6f09ad7f-2537-40e1-9214-6c4de612161a"
   },
   "outputs": [
    {
     "name": "stdout",
     "output_type": "stream",
     "text": [
      "ClearML Task: created new task id=83440d1e45f140b883c8c91cbe534baa\n",
      "2025-04-14 18:57:56,920 - clearml.Task - INFO - Storing jupyter notebook directly as code\n",
      "ClearML results page: https://app.clear.ml/projects/404d1633cd1d4033b49adcbe0299c12e/experiments/83440d1e45f140b883c8c91cbe534baa/output/log\n"
     ]
    }
   ],
   "source": [
    "# Запускаем новый Task c оптимизацией\n",
    "task = Task.init(\n",
    "    project_name=\"Hyperparameter Optimization with Optuna\",\n",
    "    task_name=\"Hyperparameter Search\",\n",
    "    task_type=Task.TaskTypes.optimizer,\n",
    ")"
   ]
  },
  {
   "cell_type": "markdown",
   "metadata": {},
   "source": [
    "<div class=\"alert alert-info\">\n",
    "\n",
    "**Возможные интервалы значений для перебора:**\n",
    "* `UniformParameterRange` - значения выбираются равномерно из заданного диапазона\n",
    "* `LogUniformParameterRange` - параметр может принимать значения, отличающиеся порядками, и важно равномерно исследовать их логарифмы\n",
    "* `ChoiceParameterRange` - значения выбираются из заранее определенного списка вариантов\n",
    "* `DiscreteParameterRange` - значения выбираются из набора заранее определённых дискретных значений, не распределённых равномерно по непрерывному диапазону.\n",
    "* `UniformIntegerParameterRange` - выбираются целочисленные значения из заданного распределения"
   ]
  },
  {
   "cell_type": "markdown",
   "metadata": {},
   "source": [
    "<div class=\"alert alert-info\">\n",
    "\n",
    "**Так же важно указать:**\n",
    "* `ID` эксперимента\n",
    "* Метрику и направление в которое хотим прийти (уменьшить или увеличить)\n",
    "* Название очереди \"демона\" (в нашем случае `default`)\n",
    "* Гипер параметры передаем через префикс \"General/\" чтобы выделить параметры в одну вкладку в UI ClaerML"
   ]
  },
  {
   "cell_type": "code",
   "execution_count": null,
   "metadata": {
    "id": "jL_Tu3Qkjkuy"
   },
   "outputs": [],
   "source": [
    "optimizer = HyperParameterOptimizer(\n",
    "    base_task_id=TEMPLATE_TASK_ID,  # ID эксперимента\n",
    "    \n",
    "    # список гиперпараметров для оптимизации\n",
    "    hyper_parameters=[\n",
    "        UniformIntegerParameterRange(\n",
    "            \"General/num_epochs\", min_value=2, max_value=5, step_size=2\n",
    "        ),\n",
    "        UniformIntegerParameterRange(\n",
    "            \"General/batch_size\", min_value=16, max_value=24, step_size=2\n",
    "        ),\n",
    "        UniformParameterRange(\n",
    "            \"General/dropout\", min_value=0, max_value=0.5, step_size=0.05\n",
    "        ),\n",
    "        UniformParameterRange(\n",
    "            \"General/learning_rate\",\n",
    "            min_value=0.00025,\n",
    "            max_value=0.01,\n",
    "            step_size=0.00025,\n",
    "        ),\n",
    "    ],\n",
    "    # метрика, которую мы хотим увеличить или уменьшить\n",
    "    objective_metric_title=\"test_accuracy\",\n",
    "    objective_metric_series=\"test_accuracy\",\n",
    "    objective_metric_sign=\"max\",  # maximize or minimize \n",
    "    # выбираем оптимайзер - СlearML поддерживает GridSearch, RandomSearch, OptimizerBOHB and OptimizerOptuna\n",
    "    optimizer_class=OptimizerOptuna,\n",
    "    \n",
    "    # Настраиваем оптимизатор\n",
    "    execution_queue=\"default\",  # название очереди\n",
    "    max_number_of_concurrent_tasks=1,  # количество параллельных запусков\n",
    "    optimization_time_limit=60.0,  # временной лимит для подбора\n",
    "    compute_time_limit=120,  # временной лимит для всех вычислений (сумма на всех машинах)\n",
    "    total_max_jobs=5,  # количество экспериментов оптимизации\n",
    "    # Минимальное и максимальное число итераций на эксперимент\n",
    "    min_iteration_per_job=15000,  \n",
    "    max_iteration_per_job=1500000,\n",
    ")"
   ]
  },
  {
   "cell_type": "code",
   "execution_count": null,
   "metadata": {
    "colab": {
     "base_uri": "https://localhost:8080/"
    },
    "id": "vwUgLQvujkuz",
    "outputId": "04447c6b-145a-426c-bac1-a3eb908a5b61"
   },
   "outputs": [
    {
     "name": "stderr",
     "output_type": "stream",
     "text": [
      "[I 2025-04-14 18:58:19,945] A new study created in memory with name: 83440d1e45f140b883c8c91cbe534baa\n",
      "/usr/local/lib/python3.11/dist-packages/optuna/distributions.py:699: UserWarning:\n",
      "\n",
      "The distribution is specified by [2, 5] and step=2, but the range is not divisible by `step`. It will be replaced by [2, 4].\n",
      "\n",
      "/usr/local/lib/python3.11/dist-packages/clearml/automation/optuna/optuna.py:41: FutureWarning:\n",
      "\n",
      "suggest_discrete_uniform has been deprecated in v3.0.0. This feature will be removed in v6.0.0. See https://github.com/optuna/optuna/releases/tag/v3.0.0. Use suggest_float(..., step=...) instead.\n",
      "\n"
     ]
    },
    {
     "name": "stdout",
     "output_type": "stream",
     "text": [
      "Progress report #0 completed, sleeping for 0.25 minutes\n",
      "2025-04-14 18:58:23,346 - clearml.automation.optimization - INFO - Creating new Task: {'General/num_epochs': 4, 'General/batch_size': 16, 'General/dropout': 0.25, 'General/learning_rate': 0.00175}\n",
      "Progress report #1 completed, sleeping for 1.0 minutes\n",
      "Progress report #2 completed, sleeping for 1.0 minutes\n",
      "Progress report #3 completed, sleeping for 1.0 minutes\n",
      "Progress report #4 completed, sleeping for 1.0 minutes\n",
      "Progress report #5 completed, sleeping for 1.0 minutes\n",
      "Progress report #6 completed, sleeping for 1.0 minutes\n",
      "Progress report #7 completed, sleeping for 1.0 minutes\n",
      "Progress report #8 completed, sleeping for 1.0 minutes\n",
      "Progress report #9 completed, sleeping for 1.0 minutes\n",
      "Progress report #10 completed, sleeping for 1.0 minutes\n"
     ]
    },
    {
     "name": "stderr",
     "output_type": "stream",
     "text": [
      "/usr/local/lib/python3.11/dist-packages/optuna/trial/_trial.py:497: UserWarning:\n",
      "\n",
      "The reported value is ignored because this `step` 12500 is already reported.\n",
      "\n",
      "[I 2025-04-14 19:08:01,388] Trial 0 finished with value: 0.54069996 and parameters: {'General/num_epochs': 4, 'General/batch_size': 16, 'General/dropout': 0.25, 'General/learning_rate': 0.00175}. Best is trial 0 with value: 0.54069996.\n"
     ]
    },
    {
     "name": "stdout",
     "output_type": "stream",
     "text": [
      "OptunaObjective result metric=0.54069996, iteration (12500, 0.5406999588012695)\n",
      "2025-04-14 19:08:04,249 - clearml.automation.optimization - INFO - Creating new Task: {'General/num_epochs': 2, 'General/batch_size': 22, 'General/dropout': 0.05, 'General/learning_rate': 0.0005}\n",
      "Updating job performance summary plot/table\n",
      "Progress report #11 completed, sleeping for 1.0 minutes\n",
      "Progress report #12 completed, sleeping for 1.0 minutes\n"
     ]
    },
    {
     "name": "stderr",
     "output_type": "stream",
     "text": [
      "[W 2025-04-14 19:10:08,522] Trial 1 failed with parameters: {'General/num_epochs': 2, 'General/batch_size': 22, 'General/dropout': 0.05, 'General/learning_rate': 0.0005} because of the following error: TypeError(\"'NoneType' object is not subscriptable\").\n",
      "Traceback (most recent call last):\n",
      "  File \"/usr/local/lib/python3.11/dist-packages/optuna/study/_optimize.py\", line 197, in _run_trial\n",
      "    value_or_values = func(trial)\n",
      "                      ^^^^^^^^^^^\n",
      "  File \"/usr/local/lib/python3.11/dist-packages/clearml/automation/optuna/optuna.py\", line 92, in objective\n",
      "    objective_metric = objective_metric[0]\n",
      "                       ~~~~~~~~~~~~~~~~^^^\n",
      "TypeError: 'NoneType' object is not subscriptable\n",
      "[W 2025-04-14 19:10:08,526] Trial 1 failed with value None.\n",
      "Exception in thread Thread-13 (_daemon):\n",
      "Traceback (most recent call last):\n",
      "  File \"/usr/lib/python3.11/threading.py\", line 1045, in _bootstrap_inner\n",
      "    self.run()\n",
      "  File \"/usr/lib/python3.11/threading.py\", line 982, in run\n",
      "    self._target(*self._args, **self._kwargs)\n",
      "  File \"/usr/local/lib/python3.11/dist-packages/clearml/automation/optimization.py\", line 1923, in _daemon\n",
      "    self.optimizer.start()\n",
      "  File \"/usr/local/lib/python3.11/dist-packages/clearml/automation/optuna/optuna.py\", line 198, in start\n",
      "    self._study.optimize(\n",
      "  File \"/usr/local/lib/python3.11/dist-packages/optuna/study/study.py\", line 475, in optimize\n",
      "    _optimize(\n",
      "  File \"/usr/local/lib/python3.11/dist-packages/optuna/study/_optimize.py\", line 63, in _optimize\n",
      "    _optimize_sequential(\n",
      "  File \"/usr/local/lib/python3.11/dist-packages/optuna/study/_optimize.py\", line 160, in _optimize_sequential\n",
      "    frozen_trial = _run_trial(study, func, catch)\n",
      "                   ^^^^^^^^^^^^^^^^^^^^^^^^^^^^^^\n",
      "  File \"/usr/local/lib/python3.11/dist-packages/optuna/study/_optimize.py\", line 248, in _run_trial\n",
      "    raise func_err\n",
      "  File \"/usr/local/lib/python3.11/dist-packages/optuna/study/_optimize.py\", line 197, in _run_trial\n",
      "    value_or_values = func(trial)\n",
      "                      ^^^^^^^^^^^\n",
      "  File \"/usr/local/lib/python3.11/dist-packages/clearml/automation/optuna/optuna.py\", line 92, in objective\n",
      "    objective_metric = objective_metric[0]\n",
      "                       ~~~~~~~~~~~~~~~~^^^\n",
      "TypeError: 'NoneType' object is not subscriptable\n"
     ]
    },
    {
     "name": "stdout",
     "output_type": "stream",
     "text": [
      "`Study.stop` is supposed to be invoked inside an objective function or a callback.\n"
     ]
    }
   ],
   "source": [
    "optimizer.set_report_period(1)  # устанавливаем интервал для появления логов\n",
    "optimizer.start() # запускаем оптимизацию\n",
    "optimizer.wait()  # ждём пока процесс завершится\n",
    "optimizer.stop()  # отключаем все оптимизационные таски, даже запущенные в бэкграунде"
   ]
  },
  {
   "cell_type": "markdown",
   "metadata": {},
   "source": [
    "# <center> 🏁 Выводим результаты лучшего эксперимента"
   ]
  },
  {
   "cell_type": "code",
   "execution_count": null,
   "metadata": {
    "colab": {
     "base_uri": "https://localhost:8080/"
    },
    "id": "t4W4B_mHjkuz",
    "outputId": "3aca6bbe-0974-408a-b294-5fe9677cb98e"
   },
   "outputs": [
    {
     "name": "stdout",
     "output_type": "stream",
     "text": [
      "Top 1 experiments are:\n",
      "Rank 1: task id=104a237936eb4f8c9409e24b3dc9ebe3 |result=0.54069996\n"
     ]
    }
   ],
   "source": [
    "# Посмотрим гиперпараметры лучшего эксперимента\n",
    "k = 1\n",
    "top_exp = optimizer.get_top_experiments(top_k=k)\n",
    "print(\"Top {} experiments are:\".format(k))\n",
    "for n, t in enumerate(top_exp, 1):\n",
    "    print(\n",
    "        \"Rank {}: task id={} |result={}\".format(\n",
    "            n, t.id, t.get_last_scalar_metrics()[\"test_accuracy\"][\"test_accuracy\"][\"last\"]\n",
    "        )\n",
    "    )"
   ]
  },
  {
   "cell_type": "code",
   "execution_count": null,
   "metadata": {
    "id": "1BRQH2w4jkuz"
   },
   "outputs": [],
   "source": [
    "# Завершаем оптимизационную задачу\n",
    "task.close()"
   ]
  },
  {
   "cell_type": "markdown",
   "metadata": {},
   "source": [
    "На вкладке `PLOTS` таска с оптимизацией можно увидеть все проведённые эксперименты, отсортировать по нужному столбцу или перейти по ссылке на страницу нужного эксперимента:\n",
    "\n",
    "<img src=\"../images/hpo2.webp\" align=\"center\" height=500>"
   ]
  },
  {
   "cell_type": "markdown",
   "metadata": {},
   "source": [
    "# <center> 🧸 Выводы и заключения ✅"
   ]
  },
  {
   "cell_type": "markdown",
   "metadata": {
    "id": "8SU4qe6mjku0"
   },
   "source": [
    "<div class=\"alert alert-success\">\n",
    "\n",
    "* Оптимизация гиперпараметров в **ClearML** очень удобный инструмент, если вы уже пользуетесь **ClearML** для логирования экспериментов.\n",
    "* Требует минимум кода\n",
    "* Позволяет запустить этот процесс в фоне и дальше заниматься своими делами на компьютере\n",
    "* Контролировать через удобный UI "
   ]
  },
  {
   "cell_type": "code",
   "execution_count": null,
   "metadata": {},
   "outputs": [],
   "source": []
  }
 ],
 "metadata": {
  "accelerator": "GPU",
  "colab": {
   "gpuType": "T4",
   "provenance": []
  },
  "kernelspec": {
   "display_name": "cv",
   "language": "python",
   "name": "python3"
  },
  "language_info": {
   "codemirror_mode": {
    "name": "ipython",
    "version": 3
   },
   "file_extension": ".py",
   "mimetype": "text/x-python",
   "name": "python",
   "nbconvert_exporter": "python",
   "pygments_lexer": "ipython3",
   "version": "3.10.12"
  }
 },
 "nbformat": 4,
 "nbformat_minor": 4
}
