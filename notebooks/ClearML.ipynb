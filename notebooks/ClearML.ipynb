{
 "cells": [
  {
   "cell_type": "markdown",
   "metadata": {},
   "source": [
    "<center><img src=\"https://i.imgur.com/tunvxE1.png\" width=\"400\" alt=\"ClearML\" /> </center>\n",
    "<br>\n",
    "<p><font size=\"3\" face=\"Arial\" font-size=\"large\"><ul type=\"square\">\n",
    "    \n",
    "<li><a href=\"#c1\">🔑 Ключевые особенности  </a></li>\n",
    "<li><a href=\"#c2\">📲 Регистрация учетной записи и вход в систему </a></li>\n",
    "<li><a href=\"#c32\">🧠 Основные правила логирования в ClearML </a></li>\n",
    "<li>\n",
    "        <a href=\"#c33\">✍️ Залогируем эксперимент с обучением нейронки ⚡️`</a>\n",
    "        <ul class=\"sublist\">\n",
    "            <li><a href=\"#qstart\">🚀 Подключаем магию ClearML 🧙 </a></li>\n",
    "            <li><a href=\"#c6\">🐘 Готовим данные для обучения модели</a>\n",
    "            <li><a href=\"#c41\"> 🖼 Логирование графики</a>\n",
    "            <li><a href=\"#c51\"> 🪓 Интегрируем ClearML в цикл обучения модели (train loop) 🎢 </a>\n",
    "        </ul>\n",
    "    </li>\n",
    "<li><a href=\"#c4\">✌️ Как сравнить два эксперимента 🧐</a>\n",
    "<li><a href=\"#c5\">📝 Подведём итоги </a>\n",
    "\n",
    "</li></ul></font></p>\n",
    "\n",
    "# На что способен ClearML? \n",
    "\n",
    "`ClearML` - фреймворк нацеленный на упрощение ваших действий. Начиная с работы с данными и заканчивая построением pipeline'ов обучения. Также он умеет логировать ваши эксперименты, оптимизировать гиперпараметры и хранить код!"
   ]
  },
  {
   "cell_type": "markdown",
   "metadata": {},
   "source": [
    "# <center id=\"c1\">🔑 Ключевые особенности 👍</center>\n",
    "<div class=\"alert alert-info\">\n",
    "\n",
    "* 🔥 Позволяет отслеживать работу вашего pipeline'a в режиме реального времени \n",
    "* 📈 Резульаты EDA сохраняюся в графиках на странице запуска проекта\n",
    "* 🃏 Вы только обучаете модель - все остальное за вас делает `ClearML`.\n",
    "* 💪 Не надо задумываться, что сохранять - будет сохранено буквально все, что возможно, автоматически. \n",
    "* 🧩 Сохраняется даже окружение ноутбука - получаем воспроизводимое решение, которое можем сразу передавать коллегам.\n",
    "* 🚀 Мощная система мониторинга ClearML подключается всего в 2 строчки кода."
   ]
  },
  {
   "cell_type": "markdown",
   "metadata": {},
   "source": [
    "# <center id=\"c2\"> 📲 Регистрация учетной записи и вход в систему </center>\n",
    "<div class=\"alert alert-info\">\n",
    "    \n",
    "Для того, чтобы воспользоваться возможностью логировать ваш эксперимент на сервер вам нужно зарегистрироваться на сайте проекта и создать уникальный ключ API.\n",
    "    \n",
    "1. Если у вас нет учетной записи `ClearML`, вы можете перейти на https://clear.ml/ и создать бесплатную учетную запись.\n",
    "2. После успешной регистрации создаете новый секрет: https://app.clear.ml/settings/workspace-configuration"
   ]
  },
  {
   "cell_type": "markdown",
   "metadata": {},
   "source": [
    "# <center> Подключаем ClearML через класс `Task` <center>"
   ]
  },
  {
   "cell_type": "code",
   "execution_count": null,
   "metadata": {},
   "outputs": [],
   "source": [
    "# Установка clearml и других нужных нам библиотек\n",
    "!pip install clearml tensorboard torchview -q"
   ]
  },
  {
   "cell_type": "code",
   "execution_count": 9,
   "metadata": {},
   "outputs": [],
   "source": [
    "from clearml import Task"
   ]
  },
  {
   "cell_type": "markdown",
   "metadata": {},
   "source": [
    "## 👇 Ячейка ниже для локального запуска в `Jupyter Notebook`"
   ]
  },
  {
   "cell_type": "code",
   "execution_count": 2,
   "metadata": {},
   "outputs": [
    {
     "name": "stdout",
     "output_type": "stream",
     "text": [
      "Введите API Access токен:  ········\n",
      "Введите API Secret токен:  ········\n"
     ]
    }
   ],
   "source": [
    "from getpass import getpass\n",
    "# Введите поочерёдно полученные ключи в появившемся окне (код изменять не нужно)\n",
    "access_key = getpass(prompt=\"Введите API Access токен: \")\n",
    "secret_key = getpass(prompt=\"Введите API Secret токен: \")"
   ]
  },
  {
   "cell_type": "markdown",
   "metadata": {},
   "source": [
    "Чтобы `ClearML` заработал в нашем проекте, нужно добавить значения в переменные среды операционной системы."
   ]
  },
  {
   "cell_type": "code",
   "execution_count": 7,
   "metadata": {
    "scrolled": true
   },
   "outputs": [],
   "source": [
    "%%capture\n",
    "#  Не показывать свои api-ключи\n",
    "%env CLEARML_WEB_HOST=https://app.clear.ml/\n",
    "%env CLEARML_API_HOST=https://api.clear.ml\n",
    "%env CLEARML_FILES_HOST=https://files.clear.ml\n",
    "\n",
    "%env CLEARML_API_ACCESS_KEY=$access_key\n",
    "%env CLEARML_API_SECRET_KEY=$secret_key"
   ]
  },
  {
   "cell_type": "markdown",
   "metadata": {},
   "source": [
    "<div class=\"alert alert-success\">\n",
    "\n",
    "Теперь аргументы командной строки, вывод консоли, а также **Tensorboard** и **Matplotlib** будут автоматически регистрироваться в пользовательском интерфейсе **ClearML** под созданной задачей. Устройтесь поудобнее, расслабьтесь и наблюдайте, как ваши модели логируются в одном месте :)"
   ]
  },
  {
   "cell_type": "markdown",
   "metadata": {},
   "source": [
    "##  👇 Аналогичные ячейки, но для запуске в `Kaggle kernel` "
   ]
  },
  {
   "cell_type": "markdown",
   "metadata": {},
   "source": [
    "<div class=\"alert alert-info\">\n",
    "\n",
    "На `Kaggle` можно авторизоваться в `ClearML` двумя способами:\n",
    "\n",
    "1. С помощью `!clearml-init`. Он запросит секрет, который вы можете скопировать + вставить.\n",
    "2. Используя `Kaggle secrets` для хранения ключа API и использовать приведенный ниже фрагмент кода для входа в систему. Прочтите это [обсуждение](https://www.kaggle.com/product-feedback/114053), чтобы узнать больше о Kaggle secrets. В этом случае удобно будет скопировать код из раздела `Jupyter Notebook`"
   ]
  },
  {
   "cell_type": "markdown",
   "metadata": {},
   "source": [
    "<div class=\"alert alert-info\">\n",
    "    \n",
    "```\n",
    "from kaggle_secrets import UserSecretsClient\n",
    "from clearml import Task\n",
    "\n",
    "user_secrets = UserSecretsClient()\n",
    "clearml_key = user_secrets.get_secret(\"clearml_key\") \n",
    "clearml_secret = user_secrets.get_secret(\"clearml_secret\") \n",
    "Task.set_credentials(\n",
    "     api_host=\"https://api.clear.ml\",\n",
    "     web_host=\"https://app.clear.ml\",\n",
    "     files_host=\"https://files.clear.ml\",\n",
    "     key=clearml_key,\n",
    "     secret=clerml_secret\n",
    ")\n",
    "```\n",
    "[Подробнее о входе в ClearML.](https://clear.ml/docs/latest/docs/getting_started/ds/ds_first_steps)"
   ]
  },
  {
   "cell_type": "markdown",
   "metadata": {},
   "source": [
    "# <center id=\"c32\"> 🧠 Основные правила логирования в `ClearML` 👩‍🏫 <center> "
   ]
  },
  {
   "cell_type": "markdown",
   "metadata": {},
   "source": [
    "<div class=\"alert alert-info\">\n",
    "\n",
    "В `ClearML` существует 3 сущности для логирования:\n",
    "* `Task` -  модуль, с помощью которого создается эксперимент и подгружаются гиперпараметры\n",
    "* `Logger` - подгрузка данных. Табличные, звук, картинки и тд.\n",
    "* `Pipeline` - построение автоматизированных решений. _Пока_не_рассматриваем_"
   ]
  },
  {
   "cell_type": "markdown",
   "metadata": {},
   "source": [
    "<div class=\"alert alert-success\">\n",
    "\n",
    "1. Что сохранять, а что не надо?\n",
    "- **Придерживайтесь правила:** _влияет ли этот параметр на эксперимент? Если без него код не запускается - залогируйте его!_\n",
    "- Если у вас много данных - возможно не стоит сохранять их целиком, а только контрольную выборку, на которой можно проверить все ваши идеи.<br>\n",
    "- Веса моделей всегда стоит сохранять! \n",
    "\n",
    "2. Как это делать в `ClearML`?\n",
    "Несмотря на особенность `ClearML` логировать все автоматически - он не сохранит ваши гиперпараметры и данные."
   ]
  },
  {
   "cell_type": "markdown",
   "metadata": {},
   "source": [
    "<div class=\"alert alert-success\">\n",
    "\n",
    "__Для логирования параметров запуска__:\n",
    "```python\n",
    "task.connect(\n",
    "    cfg_dict, # Словарь параметров (поддерживает не только параметры, но рекоммендуем словарь)\n",
    "    \"name_of_config\", # Название параметров (модели, датасета и тд)\n",
    ");\n",
    "```"
   ]
  },
  {
   "cell_type": "markdown",
   "metadata": {},
   "source": [
    "<div class=\"alert alert-success\">\n",
    "\n",
    "__Сохранение датасетов__:\n",
    "Необходимо сначала получить класс `Logger` после инициализации эксперимента\n",
    "```python\n",
    "logger = Logger.current_logger()\n",
    "```\n",
    "\n",
    "\n",
    "Далее вызываем метод `report_table`:\n",
    "```python\n",
    "logger.report_table(\n",
    "    title='name_of_data', # Как называется ваш датасет\n",
    "    series='type_of_data', # Тип данных (train_data, feature_importance)\n",
    "    table_plot=pd_dataframe, # Что репортим\n",
    ")\n",
    "```"
   ]
  },
  {
   "cell_type": "markdown",
   "metadata": {},
   "source": [
    "<div class=\"alert alert-success\">\n",
    "\n",
    "__Если необходимо сохранить скалярную величину__:\n",
    "```python\n",
    "logger.report_scalar(\n",
    "    title='Loss', # За что отвечает \n",
    "    series='Train',\n",
    "    value=your_value,\n",
    ")\n",
    "```\n",
    "\n",
    "Также если вы решаете не табличную задачу, а например задачу компьютерного зрения - у `ClearML` есть возможности сохранения картинок и другого рода данных с ними можно [ознакомиться здесь](https://clear.ml/docs/latest/docs/guides/reporting/explicit_reporting#)"
   ]
  },
  {
   "cell_type": "markdown",
   "metadata": {},
   "source": [
    "# <center id=\"c33\"> ✍️ Залогируем эксперимент с обучением нейронки ⚡️<center>"
   ]
  },
  {
   "cell_type": "markdown",
   "metadata": {},
   "source": [
    "### Настраиваем всё для обучения"
   ]
  },
  {
   "cell_type": "code",
   "execution_count": 2,
   "metadata": {},
   "outputs": [],
   "source": [
    "import copy\n",
    "from dataclasses import asdict, dataclass\n",
    "\n",
    "import numpy as np\n",
    "import pandas as pd\n",
    "import torch\n",
    "from matplotlib import pyplot as plt\n",
    "from sklearn.model_selection import train_test_split\n",
    "from sklearn.preprocessing import LabelEncoder, RobustScaler\n",
    "from torch import nn\n",
    "from torch.utils.data import DataLoader, Dataset\n",
    "from torch.utils.tensorboard import SummaryWriter"
   ]
  },
  {
   "cell_type": "code",
   "execution_count": 3,
   "metadata": {},
   "outputs": [
    {
     "data": {
      "text/plain": [
       "'svg'"
      ]
     },
     "execution_count": 3,
     "metadata": {},
     "output_type": "execute_result"
    }
   ],
   "source": [
    "# Для корректного отображения схемы нейронки\n",
    "import graphviz\n",
    "\n",
    "graphviz.set_jupyter_format(\"png\")"
   ]
  },
  {
   "cell_type": "code",
   "execution_count": 2,
   "metadata": {},
   "outputs": [
    {
     "data": {
      "text/plain": [
       "{'project_name': 'ML Instruments Course',\n",
       " 'experiment_name': 'PyTorch model baseline',\n",
       " 'train_name': 'quickstart_train.csv',\n",
       " 'seed': 2024,\n",
       " 'device': 'cpu',\n",
       " 'hidden_size': 128,\n",
       " 'dropout': 0.1,\n",
       " 'lr': 0.001,\n",
       " 'batch_size': 128,\n",
       " 'num_workers': 4,\n",
       " 'epochs': 20}"
      ]
     },
     "execution_count": 2,
     "metadata": {},
     "output_type": "execute_result"
    }
   ],
   "source": [
    "# Создаём класс Config для удобного обращения к гиперпараметрам будущей нейронки\n",
    "# можно попробовать поэкспериментировать с параметрами\n",
    "@dataclass\n",
    "class CFG:\n",
    "    project_name: str = \"ML Instruments Course\"\n",
    "    experiment_name: str = \"PyTorch model baseline\"\n",
    "\n",
    "    train_name: str = \"quickstart_train.csv\"\n",
    "    seed: int = 2024\n",
    "    device: str = \"cpu\"  # 'cuda'\n",
    "    hidden_size: int = 128\n",
    "    dropout: float = 0.1\n",
    "    lr: float = 1e-3\n",
    "    batch_size: int = 128\n",
    "    num_workers: int = 4\n",
    "    epochs: int = 20\n",
    "\n",
    "\n",
    "# Чтобы сохранить конфигурацию текущего эксперимента, перенесём её в словарь cfg_dict\n",
    "cfg = CFG()\n",
    "cfg_dict = asdict(cfg)\n",
    "cfg_dict"
   ]
  },
  {
   "cell_type": "code",
   "execution_count": null,
   "metadata": {},
   "outputs": [],
   "source": [
    "# ВАЖНО! - для воспроизводимости эксперимента\n",
    "def seed_everything(seed=2024):\n",
    "    np.random.seed(seed)\n",
    "    torch.manual_seed(seed)\n",
    "    torch.cuda.manual_seed(seed)\n",
    "    torch.backends.cudnn.deterministic = True\n",
    "\n",
    "\n",
    "seed_everything(cfg.seed)"
   ]
  },
  {
   "cell_type": "markdown",
   "metadata": {},
   "source": [
    "## <center id=\"qstart\">🚀 Подключаем магию ClearML 🧙<center>"
   ]
  },
  {
   "cell_type": "code",
   "execution_count": 11,
   "metadata": {},
   "outputs": [],
   "source": [
    "from clearml import Task, Logger"
   ]
  },
  {
   "cell_type": "code",
   "execution_count": null,
   "metadata": {},
   "outputs": [],
   "source": [
    "# Создаем эксперимент\n",
    "task = Task.init(\n",
    "    project_name=cfg.project_name,  # Задаем имя проекта/соревнования\n",
    "    task_name=cfg.experiment_name,  # С чем экспериментируем\n",
    ")\n",
    "task.add_tags(\n",
    "    [\"baseline\", \"model\"]\n",
    ")  # Рекомендуем добавлять тэги запусков: feature_engineering, model_tuning и тд\n",
    "logger = Logger.current_logger()"
   ]
  },
  {
   "cell_type": "markdown",
   "metadata": {},
   "source": [
    "<div class=\"alert alert-success\">\n",
    "<img src=\"https://i.imgur.com/1yWdGIO.png\" align=\"right\" >\n",
    "    \n",
    "🤯 И все !\n",
    "\n",
    "Это все, что необходо для логирования эксперимента с помощью `ClearML`! <br>\n",
    "\n",
    "Остальное нужно для подгрузки данных, метрик и конфигов.\n"
   ]
  },
  {
   "cell_type": "code",
   "execution_count": 14,
   "metadata": {},
   "outputs": [],
   "source": [
    "# Сохраняем в наш task словарь с параметрами эксперимента\n",
    "task.connect(\n",
    "    cfg_dict,  # Лучше всего передавать словарь\n",
    "    \"Basic Config\",  # Комментарий, что подгружаем\n",
    ");"
   ]
  },
  {
   "cell_type": "markdown",
   "metadata": {},
   "source": [
    "## <center id=\"c6\"> 🐘 Готовим данные для обучения модели ⚡<center>"
   ]
  },
  {
   "cell_type": "markdown",
   "metadata": {},
   "source": [
    "<div class=\"alert alert-info\">\n",
    "    \n",
    "Если вы уже проходили наш курс по [`Соревновательному DS`](https://stepik.org/a/108888), то вам знаком этот датасет и код нейросетки. Если нет, то это датасет с поездками автомобилей каршеринговой компании. \n",
    "\n",
    "**В датасете 2 таргета:** время до поломки (регрессионный) и вид ожидаемой поломки (классификация)."
   ]
  },
  {
   "cell_type": "code",
   "execution_count": 3,
   "metadata": {},
   "outputs": [
    {
     "data": {
      "text/html": [
       "<div>\n",
       "<style scoped>\n",
       "    .dataframe tbody tr th:only-of-type {\n",
       "        vertical-align: middle;\n",
       "    }\n",
       "\n",
       "    .dataframe tbody tr th {\n",
       "        vertical-align: top;\n",
       "    }\n",
       "\n",
       "    .dataframe thead th {\n",
       "        text-align: right;\n",
       "    }\n",
       "</style>\n",
       "<table border=\"1\" class=\"dataframe\">\n",
       "  <thead>\n",
       "    <tr style=\"text-align: right;\">\n",
       "      <th></th>\n",
       "      <th>car_id</th>\n",
       "      <th>model</th>\n",
       "      <th>car_type</th>\n",
       "      <th>fuel_type</th>\n",
       "      <th>car_rating</th>\n",
       "      <th>year_to_start</th>\n",
       "      <th>riders</th>\n",
       "      <th>year_to_work</th>\n",
       "      <th>target_reg</th>\n",
       "      <th>target_class</th>\n",
       "      <th>mean_rating</th>\n",
       "      <th>distance_sum</th>\n",
       "      <th>rating_min</th>\n",
       "      <th>speed_max</th>\n",
       "      <th>user_ride_quality_median</th>\n",
       "      <th>deviation_normal_count</th>\n",
       "      <th>user_uniq</th>\n",
       "    </tr>\n",
       "  </thead>\n",
       "  <tbody>\n",
       "    <tr>\n",
       "      <th>0</th>\n",
       "      <td>y13744087j</td>\n",
       "      <td>Kia Rio X-line</td>\n",
       "      <td>economy</td>\n",
       "      <td>petrol</td>\n",
       "      <td>3.78</td>\n",
       "      <td>2015</td>\n",
       "      <td>76163</td>\n",
       "      <td>2021</td>\n",
       "      <td>109.99</td>\n",
       "      <td>another_bug</td>\n",
       "      <td>4.737759</td>\n",
       "      <td>1.214131e+07</td>\n",
       "      <td>0.1</td>\n",
       "      <td>180.855726</td>\n",
       "      <td>0.023174</td>\n",
       "      <td>174</td>\n",
       "      <td>170</td>\n",
       "    </tr>\n",
       "    <tr>\n",
       "      <th>1</th>\n",
       "      <td>O41613818T</td>\n",
       "      <td>VW Polo VI</td>\n",
       "      <td>economy</td>\n",
       "      <td>petrol</td>\n",
       "      <td>3.90</td>\n",
       "      <td>2015</td>\n",
       "      <td>78218</td>\n",
       "      <td>2021</td>\n",
       "      <td>34.48</td>\n",
       "      <td>electro_bug</td>\n",
       "      <td>4.480517</td>\n",
       "      <td>1.803909e+07</td>\n",
       "      <td>0.0</td>\n",
       "      <td>187.862734</td>\n",
       "      <td>12.306011</td>\n",
       "      <td>174</td>\n",
       "      <td>174</td>\n",
       "    </tr>\n",
       "    <tr>\n",
       "      <th>2</th>\n",
       "      <td>d-2109686j</td>\n",
       "      <td>Renault Sandero</td>\n",
       "      <td>standart</td>\n",
       "      <td>petrol</td>\n",
       "      <td>6.30</td>\n",
       "      <td>2012</td>\n",
       "      <td>23340</td>\n",
       "      <td>2017</td>\n",
       "      <td>34.93</td>\n",
       "      <td>gear_stick</td>\n",
       "      <td>4.768391</td>\n",
       "      <td>1.588366e+07</td>\n",
       "      <td>0.1</td>\n",
       "      <td>102.382857</td>\n",
       "      <td>2.513319</td>\n",
       "      <td>174</td>\n",
       "      <td>173</td>\n",
       "    </tr>\n",
       "  </tbody>\n",
       "</table>\n",
       "</div>"
      ],
      "text/plain": [
       "       car_id            model  car_type fuel_type  car_rating  year_to_start  \\\n",
       "0  y13744087j   Kia Rio X-line   economy    petrol        3.78           2015   \n",
       "1  O41613818T       VW Polo VI   economy    petrol        3.90           2015   \n",
       "2  d-2109686j  Renault Sandero  standart    petrol        6.30           2012   \n",
       "\n",
       "   riders  year_to_work  target_reg target_class  mean_rating  distance_sum  \\\n",
       "0   76163          2021      109.99  another_bug     4.737759  1.214131e+07   \n",
       "1   78218          2021       34.48  electro_bug     4.480517  1.803909e+07   \n",
       "2   23340          2017       34.93   gear_stick     4.768391  1.588366e+07   \n",
       "\n",
       "   rating_min   speed_max  user_ride_quality_median  deviation_normal_count  \\\n",
       "0         0.1  180.855726                  0.023174                     174   \n",
       "1         0.0  187.862734                 12.306011                     174   \n",
       "2         0.1  102.382857                  2.513319                     174   \n",
       "\n",
       "   user_uniq  \n",
       "0        170  \n",
       "1        174  \n",
       "2        173  "
      ]
     },
     "execution_count": 3,
     "metadata": {},
     "output_type": "execute_result"
    }
   ],
   "source": [
    "## 🤹 Подгружаем dataset\n",
    "github_url = \"https://github.com/a-milenkin/ml_instruments/raw/refs/heads/main/data/quickstart_train.csv\"\n",
    "rides_info = pd.read_csv(github_url)\n",
    "rides_info.head(3)"
   ]
  },
  {
   "cell_type": "code",
   "execution_count": 17,
   "metadata": {},
   "outputs": [],
   "source": [
    "# Залогируем наш исходный датасет, если он будет очень большим, лучше так не делать!\n",
    "logger.report_table(\n",
    "    title=\"Start data\",  # Название таблицы или метрика, получаемая на этих данных :)\n",
    "    series=\"datasets\",  # В каком разделе будут сохранены данные\n",
    "    table_plot=rides_info,  # DataFrame, csv, ссылка на csv\n",
    ")"
   ]
  },
  {
   "cell_type": "code",
   "execution_count": 7,
   "metadata": {},
   "outputs": [],
   "source": [
    "# Проводим препроцессинг данных для старта обучения\n",
    "drop_cols = [\"car_id\", \"target_reg\", \"target_class\"]\n",
    "cat_cols = [\"car_type\", \"fuel_type\", \"model\"]\n",
    "rides_info = pd.get_dummies(rides_info, columns=cat_cols)\n",
    "rides_info.fillna(rides_info.median(numeric_only=True), inplace=True)\n",
    "num_cols = [col for col in list(rides_info.columns) if col not in drop_cols]"
   ]
  },
  {
   "cell_type": "code",
   "execution_count": 8,
   "metadata": {},
   "outputs": [],
   "source": [
    "# нормализуем данные и кодируем таргет\n",
    "scaler = RobustScaler()\n",
    "le = LabelEncoder()\n",
    "\n",
    "df = scaler.fit_transform(rides_info[num_cols])\n",
    "df = pd.DataFrame(df, columns=num_cols)\n",
    "\n",
    "target_scaler = RobustScaler()\n",
    "target = target_scaler.fit_transform(rides_info[\"target_reg\"].values.reshape(-1, 1))\n",
    "\n",
    "df[\"target_reg\"] = target\n",
    "df[\"target_class\"] = le.fit_transform(rides_info[\"target_class\"]).reshape((-1, 1))"
   ]
  },
  {
   "cell_type": "code",
   "execution_count": 23,
   "metadata": {},
   "outputs": [],
   "source": [
    "# теперь залогируем датасет после препроцессинга\n",
    "logger.report_table(title=\"Transformed data\", series=\"datasets\", table_plot=rides_info)"
   ]
  },
  {
   "cell_type": "code",
   "execution_count": null,
   "metadata": {},
   "outputs": [],
   "source": [
    "# Также залогируем данные, чтобы не было путанницы в версиях датасетов\n",
    "\n",
    "cfg.num_features = train.shape[1] - 2  # количество фичей, подаваемое на вход\n",
    "cfg.num_tar_class = (\n",
    "    train.target_class.nunique()\n",
    ")  # количество выходов равно количеству предсказываемых классов\n",
    "\n",
    "logger.report_table(title=\"Transformed data\", series=\"datasets\", table_plot=rides_info)\n",
    "\n",
    "logger.report_table(title=\"Train data\", series=\"datasets\", table_plot=train)\n",
    "\n",
    "logger.report_table(title=\"Test data\", series=\"datasets\", table_plot=test)"
   ]
  },
  {
   "cell_type": "code",
   "execution_count": 25,
   "metadata": {},
   "outputs": [
    {
     "data": {
      "text/plain": [
       "[]"
      ]
     },
     "execution_count": 25,
     "metadata": {},
     "output_type": "execute_result"
    },
    {
     "data": {
      "image/png": "[encoded data removed]",
      "text/plain": [
       "<Figure size 2500x600 with 12 Axes>"
      ]
     },
     "metadata": {},
     "output_type": "display_data"
    }
   ],
   "source": [
    "rides_info.hist(figsize=(25, 6), layout=(-1, 6))\n",
    "plt.plot()"
   ]
  },
  {
   "cell_type": "markdown",
   "metadata": {},
   "source": [
    "## <center id=\"c41\"> 🖼 Логирование графики <center>"
   ]
  },
  {
   "cell_type": "markdown",
   "metadata": {},
   "source": [
    "<div class=\"alert alert-info\">\n",
    "\n",
    "Ещё одна фишка **ClearML** - это автоматическое логирование графики **Matpltlib** и **Seaborn**:\n",
    "* Любой вызов `plt.show()` логируется без дополнительного кода\n",
    "* Так же можно логировать графику с использованием специального метода\n",
    "  ```python\n",
    "  logger.report_matplotlib_figure(\n",
    "        title=\"Class Balance\",\n",
    "        series=\"Plot as an image\",\n",
    "        iteration=0,\n",
    "        figure=plt,\n",
    "        report_image=True)\n",
    "  ```\n",
    "Далее вся графика отобразится на вкладке `Plots`."
   ]
  },
  {
   "cell_type": "code",
   "execution_count": 6,
   "metadata": {},
   "outputs": [
    {
     "data": {
      "image/png": "[encoded data removed]",
      "text/plain": [
       "<Figure size 800x400 with 1 Axes>"
      ]
     },
     "metadata": {},
     "output_type": "display_data"
    }
   ],
   "source": [
    "# Посмотрим для примера, как залогируется такой график\n",
    "plt.figure(figsize=(8, 4))\n",
    "rides_info[\"target_reg\"].plot()\n",
    "plt.title(\"Regression Target\")\n",
    "plt.show()"
   ]
  },
  {
   "cell_type": "markdown",
   "metadata": {},
   "source": [
    "# <center> Задаем архитектуру сетки и класс датасета </center>"
   ]
  },
  {
   "cell_type": "markdown",
   "metadata": {},
   "source": [
    "<div class=\"alert alert-info\">\n",
    "    \n",
    "Создаём класс `Dataset` для `PyTorch`"
   ]
  },
  {
   "cell_type": "code",
   "execution_count": 11,
   "metadata": {},
   "outputs": [],
   "source": [
    "# датасет выдает фичи и значения целевых переменных\n",
    "class Rides(Dataset):\n",
    "    def __init__(self, df):\n",
    "        self.df = df\n",
    "\n",
    "    def __len__(self):\n",
    "        return len(self.df)\n",
    "\n",
    "    def __getitem__(self, idx):\n",
    "        row = self.df.iloc[idx, :]\n",
    "\n",
    "        data = row.drop(labels=[\"target_reg\", \"target_class\"])\n",
    "        data = torch.FloatTensor(data.values.astype(\"float\"))\n",
    "        tar_reg = torch.tensor(row[\"target_reg\"]).float()\n",
    "        tar_class = row[\"target_class\"].astype(\"int\")\n",
    "\n",
    "        return data, tar_reg, tar_class"
   ]
  },
  {
   "cell_type": "code",
   "execution_count": 12,
   "metadata": {},
   "outputs": [],
   "source": [
    "train_datasets = {\"train\": Rides(train), \"val\": Rides(test)}"
   ]
  },
  {
   "cell_type": "code",
   "execution_count": 13,
   "metadata": {},
   "outputs": [],
   "source": [
    "dataloaders_dict = {\n",
    "    x: torch.utils.data.DataLoader(\n",
    "        train_datasets[x],\n",
    "        batch_size=cfg.batch_size,\n",
    "        shuffle=True,\n",
    "        num_workers=cfg.num_workers,\n",
    "    )\n",
    "    for x in [\"train\", \"val\"]\n",
    "}"
   ]
  },
  {
   "cell_type": "markdown",
   "metadata": {},
   "source": [
    "<div class=\"alert alert-info\">\n",
    "    \n",
    "Возьмем пример на архитектуре мультислойного перцептрона на `PyTorch` для двух таргетов "
   ]
  },
  {
   "cell_type": "code",
   "execution_count": 14,
   "metadata": {},
   "outputs": [],
   "source": [
    "class TabularNN(nn.Module):\n",
    "    def __init__(self, cfg):\n",
    "        super().__init__()\n",
    "        # Напишем простенькую нейронку\n",
    "        self.mlp = nn.Sequential(\n",
    "            nn.Linear(cfg.num_features, cfg.hidden_size),\n",
    "            # nn.BatchNorm1d(cfg.hidden_size),\n",
    "            nn.Dropout(cfg.dropout),\n",
    "            nn.ReLU(),\n",
    "            nn.Linear(cfg.hidden_size, cfg.hidden_size),\n",
    "            # nn.BatchNorm1d(cfg.hidden_size),\n",
    "            nn.Dropout(cfg.dropout),\n",
    "            nn.ReLU(),\n",
    "            nn.Linear(cfg.hidden_size, cfg.hidden_size // 2),\n",
    "        )\n",
    "        # Так как два таргета, делаем две головы - одна для регрессии, другая - классификации\n",
    "        self.regressor = nn.Sequential(nn.Linear(cfg.hidden_size // 2, 1))\n",
    "        self.classifier = nn.Sequential(\n",
    "            nn.Linear(cfg.hidden_size // 2, cfg.num_tar_class)\n",
    "        )\n",
    "\n",
    "    def forward(self, data):\n",
    "        x = self.mlp(data)\n",
    "        tar_reg = self.regressor(x)\n",
    "        tar_class = self.classifier(x)\n",
    "        return tar_reg.view(-1), tar_class"
   ]
  },
  {
   "cell_type": "code",
   "execution_count": 15,
   "metadata": {},
   "outputs": [],
   "source": [
    "model = TabularNN(cfg).to(cfg.device)"
   ]
  },
  {
   "cell_type": "code",
   "execution_count": 54,
   "metadata": {},
   "outputs": [
    {
     "data": {
      "image/svg+xml": [
       "<?xml version=\"1.0\" encoding=\"UTF-8\" standalone=\"no\"?>\n",
       "<!DOCTYPE svg PUBLIC \"-//W3C//DTD SVG 1.1//EN\"\n",
       " \"http://www.w3.org/Graphics/SVG/1.1/DTD/svg11.dtd\">\n",
       "<!-- Generated by graphviz version 2.43.0 (0)\n",
       " -->\n",
       "<!-- Title: model Pages: 1 -->\n",
       "<svg width=\"348pt\" height=\"820pt\"\n",
       " viewBox=\"0.00 0.00 348.00 820.00\" xmlns=\"http://www.w3.org/2000/svg\" xmlns:xlink=\"http://www.w3.org/1999/xlink\">\n",
       "<g id=\"graph0\" class=\"graph\" transform=\"scale(1 1) rotate(0) translate(4 816)\">\n",
       "<title>model</title>\n",
       "<polygon fill=\"white\" stroke=\"transparent\" points=\"-4,4 -4,-816 344,-816 344,4 -4,4\"/>\n",
       "<g id=\"clust1\" class=\"cluster\">\n",
       "<title>cluster_2</title>\n",
       "<polygon fill=\"none\" stroke=\"black\" stroke-dasharray=\"5,2\" points=\"87,-225 87,-772 251,-772 251,-225 87,-225\"/>\n",
       "<text text-anchor=\"middle\" x=\"120\" y=\"-758.4\" font-family=\"Times,serif\" font-size=\"12.00\">Sequential</text>\n",
       "</g>\n",
       "<g id=\"clust2\" class=\"cluster\">\n",
       "<title>cluster_3</title>\n",
       "<polygon fill=\"none\" stroke=\"black\" stroke-dasharray=\"5,2\" points=\"174,-138 174,-217 332,-217 332,-138 174,-138\"/>\n",
       "<text text-anchor=\"middle\" x=\"207\" y=\"-203.4\" font-family=\"Times,serif\" font-size=\"12.00\">Sequential</text>\n",
       "</g>\n",
       "<g id=\"clust3\" class=\"cluster\">\n",
       "<title>cluster_4</title>\n",
       "<polygon fill=\"none\" stroke=\"black\" stroke-dasharray=\"5,2\" points=\"8,-65 8,-217 166,-217 166,-65 8,-65\"/>\n",
       "<text text-anchor=\"middle\" x=\"41\" y=\"-203.4\" font-family=\"Times,serif\" font-size=\"12.00\">Sequential</text>\n",
       "</g>\n",
       "<!-- 0 -->\n",
       "<g id=\"node1\" class=\"node\">\n",
       "<title>0</title>\n",
       "<polygon fill=\"lightyellow\" stroke=\"transparent\" points=\"224.5,-812 113.5,-812 113.5,-780 224.5,-780 224.5,-812\"/>\n",
       "<polygon fill=\"none\" stroke=\"black\" points=\"114,-780 114,-812 188,-812 188,-780 114,-780\"/>\n",
       "<text text-anchor=\"start\" x=\"119\" y=\"-799\" font-family=\"Linux libertine\" font-size=\"10.00\">input&#45;tensor</text>\n",
       "<text text-anchor=\"start\" x=\"132.5\" y=\"-788\" font-family=\"Linux libertine\" font-size=\"10.00\">depth:0</text>\n",
       "<polygon fill=\"none\" stroke=\"black\" points=\"188,-780 188,-812 225,-812 225,-780 188,-780\"/>\n",
       "<text text-anchor=\"start\" x=\"193\" y=\"-793.5\" font-family=\"Linux libertine\" font-size=\"10.00\">(43,)</text>\n",
       "</g>\n",
       "<!-- 1 -->\n",
       "<g id=\"node2\" class=\"node\">\n",
       "<title>1</title>\n",
       "<polygon fill=\"#c1ffc1\" stroke=\"transparent\" points=\"242.5,-743 95.5,-743 95.5,-701 242.5,-701 242.5,-743\"/>\n",
       "<polygon fill=\"none\" stroke=\"black\" points=\"96,-701 96,-743 143,-743 143,-701 96,-701\"/>\n",
       "<text text-anchor=\"start\" x=\"103.5\" y=\"-725\" font-family=\"Linux libertine\" font-size=\"10.00\">Linear</text>\n",
       "<text text-anchor=\"start\" x=\"101\" y=\"-714\" font-family=\"Linux libertine\" font-size=\"10.00\">depth:2</text>\n",
       "<polygon fill=\"none\" stroke=\"black\" points=\"143,-722 143,-743 196,-743 196,-722 143,-722\"/>\n",
       "<text text-anchor=\"start\" x=\"153.5\" y=\"-730\" font-family=\"Linux libertine\" font-size=\"10.00\">input:</text>\n",
       "<polygon fill=\"none\" stroke=\"black\" points=\"196,-722 196,-743 243,-743 243,-722 196,-722\"/>\n",
       "<text text-anchor=\"start\" x=\"203.5\" y=\"-730\" font-family=\"Linux libertine\" font-size=\"10.00\">(43,) </text>\n",
       "<polygon fill=\"none\" stroke=\"black\" points=\"143,-701 143,-722 196,-722 196,-701 143,-701\"/>\n",
       "<text text-anchor=\"start\" x=\"148\" y=\"-709\" font-family=\"Linux libertine\" font-size=\"10.00\">output: </text>\n",
       "<polygon fill=\"none\" stroke=\"black\" points=\"196,-701 196,-722 243,-722 243,-701 196,-701\"/>\n",
       "<text text-anchor=\"start\" x=\"201\" y=\"-709\" font-family=\"Linux libertine\" font-size=\"10.00\">(128,) </text>\n",
       "</g>\n",
       "<!-- 0&#45;&gt;1 -->\n",
       "<g id=\"edge1\" class=\"edge\">\n",
       "<title>0&#45;&gt;1</title>\n",
       "<path fill=\"none\" stroke=\"black\" d=\"M169,-779.73C169,-772.08 169,-762.52 169,-753.45\"/>\n",
       "<polygon fill=\"black\" stroke=\"black\" points=\"172.5,-753.17 169,-743.17 165.5,-753.17 172.5,-753.17\"/>\n",
       "</g>\n",
       "<!-- 2 -->\n",
       "<g id=\"node3\" class=\"node\">\n",
       "<title>2</title>\n",
       "<polygon fill=\"#c1ffc1\" stroke=\"transparent\" points=\"242.5,-665 95.5,-665 95.5,-623 242.5,-623 242.5,-665\"/>\n",
       "<polygon fill=\"none\" stroke=\"black\" points=\"96,-623 96,-665 143,-665 143,-623 96,-623\"/>\n",
       "<text text-anchor=\"start\" x=\"101\" y=\"-647\" font-family=\"Linux libertine\" font-size=\"10.00\">Dropout</text>\n",
       "<text text-anchor=\"start\" x=\"101\" y=\"-636\" font-family=\"Linux libertine\" font-size=\"10.00\">depth:2</text>\n",
       "<polygon fill=\"none\" stroke=\"black\" points=\"143,-644 143,-665 196,-665 196,-644 143,-644\"/>\n",
       "<text text-anchor=\"start\" x=\"153.5\" y=\"-652\" font-family=\"Linux libertine\" font-size=\"10.00\">input:</text>\n",
       "<polygon fill=\"none\" stroke=\"black\" points=\"196,-644 196,-665 243,-665 243,-644 196,-644\"/>\n",
       "<text text-anchor=\"start\" x=\"201\" y=\"-652\" font-family=\"Linux libertine\" font-size=\"10.00\">(128,) </text>\n",
       "<polygon fill=\"none\" stroke=\"black\" points=\"143,-623 143,-644 196,-644 196,-623 143,-623\"/>\n",
       "<text text-anchor=\"start\" x=\"148\" y=\"-631\" font-family=\"Linux libertine\" font-size=\"10.00\">output: </text>\n",
       "<polygon fill=\"none\" stroke=\"black\" points=\"196,-623 196,-644 243,-644 243,-623 196,-623\"/>\n",
       "<text text-anchor=\"start\" x=\"201\" y=\"-631\" font-family=\"Linux libertine\" font-size=\"10.00\">(128,) </text>\n",
       "</g>\n",
       "<!-- 1&#45;&gt;2 -->\n",
       "<g id=\"edge2\" class=\"edge\">\n",
       "<title>1&#45;&gt;2</title>\n",
       "<path fill=\"none\" stroke=\"black\" d=\"M169,-700.63C169,-692.82 169,-683.73 169,-675.18\"/>\n",
       "<polygon fill=\"black\" stroke=\"black\" points=\"172.5,-675.16 169,-665.16 165.5,-675.16 172.5,-675.16\"/>\n",
       "</g>\n",
       "<!-- 3 -->\n",
       "<g id=\"node4\" class=\"node\">\n",
       "<title>3</title>\n",
       "<polygon fill=\"#c1ffc1\" stroke=\"transparent\" points=\"242.5,-587 95.5,-587 95.5,-545 242.5,-545 242.5,-587\"/>\n",
       "<polygon fill=\"none\" stroke=\"black\" points=\"96,-545 96,-587 143,-587 143,-545 96,-545\"/>\n",
       "<text text-anchor=\"start\" x=\"108.5\" y=\"-569\" font-family=\"Linux libertine\" font-size=\"10.00\">ReLU</text>\n",
       "<text text-anchor=\"start\" x=\"101\" y=\"-558\" font-family=\"Linux libertine\" font-size=\"10.00\">depth:2</text>\n",
       "<polygon fill=\"none\" stroke=\"black\" points=\"143,-566 143,-587 196,-587 196,-566 143,-566\"/>\n",
       "<text text-anchor=\"start\" x=\"153.5\" y=\"-574\" font-family=\"Linux libertine\" font-size=\"10.00\">input:</text>\n",
       "<polygon fill=\"none\" stroke=\"black\" points=\"196,-566 196,-587 243,-587 243,-566 196,-566\"/>\n",
       "<text text-anchor=\"start\" x=\"201\" y=\"-574\" font-family=\"Linux libertine\" font-size=\"10.00\">(128,) </text>\n",
       "<polygon fill=\"none\" stroke=\"black\" points=\"143,-545 143,-566 196,-566 196,-545 143,-545\"/>\n",
       "<text text-anchor=\"start\" x=\"148\" y=\"-553\" font-family=\"Linux libertine\" font-size=\"10.00\">output: </text>\n",
       "<polygon fill=\"none\" stroke=\"black\" points=\"196,-545 196,-566 243,-566 243,-545 196,-545\"/>\n",
       "<text text-anchor=\"start\" x=\"201\" y=\"-553\" font-family=\"Linux libertine\" font-size=\"10.00\">(128,) </text>\n",
       "</g>\n",
       "<!-- 2&#45;&gt;3 -->\n",
       "<g id=\"edge3\" class=\"edge\">\n",
       "<title>2&#45;&gt;3</title>\n",
       "<path fill=\"none\" stroke=\"black\" d=\"M169,-622.63C169,-614.82 169,-605.73 169,-597.18\"/>\n",
       "<polygon fill=\"black\" stroke=\"black\" points=\"172.5,-597.16 169,-587.16 165.5,-597.16 172.5,-597.16\"/>\n",
       "</g>\n",
       "<!-- 4 -->\n",
       "<g id=\"node5\" class=\"node\">\n",
       "<title>4</title>\n",
       "<polygon fill=\"#c1ffc1\" stroke=\"transparent\" points=\"242.5,-509 95.5,-509 95.5,-467 242.5,-467 242.5,-509\"/>\n",
       "<polygon fill=\"none\" stroke=\"black\" points=\"96,-467 96,-509 143,-509 143,-467 96,-467\"/>\n",
       "<text text-anchor=\"start\" x=\"103.5\" y=\"-491\" font-family=\"Linux libertine\" font-size=\"10.00\">Linear</text>\n",
       "<text text-anchor=\"start\" x=\"101\" y=\"-480\" font-family=\"Linux libertine\" font-size=\"10.00\">depth:2</text>\n",
       "<polygon fill=\"none\" stroke=\"black\" points=\"143,-488 143,-509 196,-509 196,-488 143,-488\"/>\n",
       "<text text-anchor=\"start\" x=\"153.5\" y=\"-496\" font-family=\"Linux libertine\" font-size=\"10.00\">input:</text>\n",
       "<polygon fill=\"none\" stroke=\"black\" points=\"196,-488 196,-509 243,-509 243,-488 196,-488\"/>\n",
       "<text text-anchor=\"start\" x=\"201\" y=\"-496\" font-family=\"Linux libertine\" font-size=\"10.00\">(128,) </text>\n",
       "<polygon fill=\"none\" stroke=\"black\" points=\"143,-467 143,-488 196,-488 196,-467 143,-467\"/>\n",
       "<text text-anchor=\"start\" x=\"148\" y=\"-475\" font-family=\"Linux libertine\" font-size=\"10.00\">output: </text>\n",
       "<polygon fill=\"none\" stroke=\"black\" points=\"196,-467 196,-488 243,-488 243,-467 196,-467\"/>\n",
       "<text text-anchor=\"start\" x=\"201\" y=\"-475\" font-family=\"Linux libertine\" font-size=\"10.00\">(128,) </text>\n",
       "</g>\n",
       "<!-- 3&#45;&gt;4 -->\n",
       "<g id=\"edge4\" class=\"edge\">\n",
       "<title>3&#45;&gt;4</title>\n",
       "<path fill=\"none\" stroke=\"black\" d=\"M169,-544.63C169,-536.82 169,-527.73 169,-519.18\"/>\n",
       "<polygon fill=\"black\" stroke=\"black\" points=\"172.5,-519.16 169,-509.16 165.5,-519.16 172.5,-519.16\"/>\n",
       "</g>\n",
       "<!-- 5 -->\n",
       "<g id=\"node6\" class=\"node\">\n",
       "<title>5</title>\n",
       "<polygon fill=\"#c1ffc1\" stroke=\"transparent\" points=\"242.5,-431 95.5,-431 95.5,-389 242.5,-389 242.5,-431\"/>\n",
       "<polygon fill=\"none\" stroke=\"black\" points=\"96,-389 96,-431 143,-431 143,-389 96,-389\"/>\n",
       "<text text-anchor=\"start\" x=\"101\" y=\"-413\" font-family=\"Linux libertine\" font-size=\"10.00\">Dropout</text>\n",
       "<text text-anchor=\"start\" x=\"101\" y=\"-402\" font-family=\"Linux libertine\" font-size=\"10.00\">depth:2</text>\n",
       "<polygon fill=\"none\" stroke=\"black\" points=\"143,-410 143,-431 196,-431 196,-410 143,-410\"/>\n",
       "<text text-anchor=\"start\" x=\"153.5\" y=\"-418\" font-family=\"Linux libertine\" font-size=\"10.00\">input:</text>\n",
       "<polygon fill=\"none\" stroke=\"black\" points=\"196,-410 196,-431 243,-431 243,-410 196,-410\"/>\n",
       "<text text-anchor=\"start\" x=\"201\" y=\"-418\" font-family=\"Linux libertine\" font-size=\"10.00\">(128,) </text>\n",
       "<polygon fill=\"none\" stroke=\"black\" points=\"143,-389 143,-410 196,-410 196,-389 143,-389\"/>\n",
       "<text text-anchor=\"start\" x=\"148\" y=\"-397\" font-family=\"Linux libertine\" font-size=\"10.00\">output: </text>\n",
       "<polygon fill=\"none\" stroke=\"black\" points=\"196,-389 196,-410 243,-410 243,-389 196,-389\"/>\n",
       "<text text-anchor=\"start\" x=\"201\" y=\"-397\" font-family=\"Linux libertine\" font-size=\"10.00\">(128,) </text>\n",
       "</g>\n",
       "<!-- 4&#45;&gt;5 -->\n",
       "<g id=\"edge5\" class=\"edge\">\n",
       "<title>4&#45;&gt;5</title>\n",
       "<path fill=\"none\" stroke=\"black\" d=\"M169,-466.63C169,-458.82 169,-449.73 169,-441.18\"/>\n",
       "<polygon fill=\"black\" stroke=\"black\" points=\"172.5,-441.16 169,-431.16 165.5,-441.16 172.5,-441.16\"/>\n",
       "</g>\n",
       "<!-- 6 -->\n",
       "<g id=\"node7\" class=\"node\">\n",
       "<title>6</title>\n",
       "<polygon fill=\"#c1ffc1\" stroke=\"transparent\" points=\"242.5,-353 95.5,-353 95.5,-311 242.5,-311 242.5,-353\"/>\n",
       "<polygon fill=\"none\" stroke=\"black\" points=\"96,-311 96,-353 143,-353 143,-311 96,-311\"/>\n",
       "<text text-anchor=\"start\" x=\"108.5\" y=\"-335\" font-family=\"Linux libertine\" font-size=\"10.00\">ReLU</text>\n",
       "<text text-anchor=\"start\" x=\"101\" y=\"-324\" font-family=\"Linux libertine\" font-size=\"10.00\">depth:2</text>\n",
       "<polygon fill=\"none\" stroke=\"black\" points=\"143,-332 143,-353 196,-353 196,-332 143,-332\"/>\n",
       "<text text-anchor=\"start\" x=\"153.5\" y=\"-340\" font-family=\"Linux libertine\" font-size=\"10.00\">input:</text>\n",
       "<polygon fill=\"none\" stroke=\"black\" points=\"196,-332 196,-353 243,-353 243,-332 196,-332\"/>\n",
       "<text text-anchor=\"start\" x=\"201\" y=\"-340\" font-family=\"Linux libertine\" font-size=\"10.00\">(128,) </text>\n",
       "<polygon fill=\"none\" stroke=\"black\" points=\"143,-311 143,-332 196,-332 196,-311 143,-311\"/>\n",
       "<text text-anchor=\"start\" x=\"148\" y=\"-319\" font-family=\"Linux libertine\" font-size=\"10.00\">output: </text>\n",
       "<polygon fill=\"none\" stroke=\"black\" points=\"196,-311 196,-332 243,-332 243,-311 196,-311\"/>\n",
       "<text text-anchor=\"start\" x=\"201\" y=\"-319\" font-family=\"Linux libertine\" font-size=\"10.00\">(128,) </text>\n",
       "</g>\n",
       "<!-- 5&#45;&gt;6 -->\n",
       "<g id=\"edge6\" class=\"edge\">\n",
       "<title>5&#45;&gt;6</title>\n",
       "<path fill=\"none\" stroke=\"black\" d=\"M169,-388.63C169,-380.82 169,-371.73 169,-363.18\"/>\n",
       "<polygon fill=\"black\" stroke=\"black\" points=\"172.5,-363.16 169,-353.16 165.5,-363.16 172.5,-363.16\"/>\n",
       "</g>\n",
       "<!-- 7 -->\n",
       "<g id=\"node8\" class=\"node\">\n",
       "<title>7</title>\n",
       "<polygon fill=\"#c1ffc1\" stroke=\"transparent\" points=\"242.5,-275 95.5,-275 95.5,-233 242.5,-233 242.5,-275\"/>\n",
       "<polygon fill=\"none\" stroke=\"black\" points=\"96,-233 96,-275 143,-275 143,-233 96,-233\"/>\n",
       "<text text-anchor=\"start\" x=\"103.5\" y=\"-257\" font-family=\"Linux libertine\" font-size=\"10.00\">Linear</text>\n",
       "<text text-anchor=\"start\" x=\"101\" y=\"-246\" font-family=\"Linux libertine\" font-size=\"10.00\">depth:2</text>\n",
       "<polygon fill=\"none\" stroke=\"black\" points=\"143,-254 143,-275 196,-275 196,-254 143,-254\"/>\n",
       "<text text-anchor=\"start\" x=\"153.5\" y=\"-262\" font-family=\"Linux libertine\" font-size=\"10.00\">input:</text>\n",
       "<polygon fill=\"none\" stroke=\"black\" points=\"196,-254 196,-275 243,-275 243,-254 196,-254\"/>\n",
       "<text text-anchor=\"start\" x=\"201\" y=\"-262\" font-family=\"Linux libertine\" font-size=\"10.00\">(128,) </text>\n",
       "<polygon fill=\"none\" stroke=\"black\" points=\"143,-233 143,-254 196,-254 196,-233 143,-233\"/>\n",
       "<text text-anchor=\"start\" x=\"148\" y=\"-241\" font-family=\"Linux libertine\" font-size=\"10.00\">output: </text>\n",
       "<polygon fill=\"none\" stroke=\"black\" points=\"196,-233 196,-254 243,-254 243,-233 196,-233\"/>\n",
       "<text text-anchor=\"start\" x=\"203.5\" y=\"-241\" font-family=\"Linux libertine\" font-size=\"10.00\">(64,) </text>\n",
       "</g>\n",
       "<!-- 6&#45;&gt;7 -->\n",
       "<g id=\"edge7\" class=\"edge\">\n",
       "<title>6&#45;&gt;7</title>\n",
       "<path fill=\"none\" stroke=\"black\" d=\"M169,-310.63C169,-302.82 169,-293.73 169,-285.18\"/>\n",
       "<polygon fill=\"black\" stroke=\"black\" points=\"172.5,-285.16 169,-275.16 165.5,-285.16 172.5,-285.16\"/>\n",
       "</g>\n",
       "<!-- 8 -->\n",
       "<g id=\"node9\" class=\"node\">\n",
       "<title>8</title>\n",
       "<polygon fill=\"#c1ffc1\" stroke=\"transparent\" points=\"324,-188 182,-188 182,-146 324,-146 324,-188\"/>\n",
       "<polygon fill=\"none\" stroke=\"black\" points=\"182,-146 182,-188 229,-188 229,-146 182,-146\"/>\n",
       "<text text-anchor=\"start\" x=\"189.5\" y=\"-170\" font-family=\"Linux libertine\" font-size=\"10.00\">Linear</text>\n",
       "<text text-anchor=\"start\" x=\"187\" y=\"-159\" font-family=\"Linux libertine\" font-size=\"10.00\">depth:2</text>\n",
       "<polygon fill=\"none\" stroke=\"black\" points=\"229,-167 229,-188 282,-188 282,-167 229,-167\"/>\n",
       "<text text-anchor=\"start\" x=\"239.5\" y=\"-175\" font-family=\"Linux libertine\" font-size=\"10.00\">input:</text>\n",
       "<polygon fill=\"none\" stroke=\"black\" points=\"282,-167 282,-188 324,-188 324,-167 282,-167\"/>\n",
       "<text text-anchor=\"start\" x=\"287\" y=\"-175\" font-family=\"Linux libertine\" font-size=\"10.00\">(64,) </text>\n",
       "<polygon fill=\"none\" stroke=\"black\" points=\"229,-146 229,-167 282,-167 282,-146 229,-146\"/>\n",
       "<text text-anchor=\"start\" x=\"234\" y=\"-154\" font-family=\"Linux libertine\" font-size=\"10.00\">output: </text>\n",
       "<polygon fill=\"none\" stroke=\"black\" points=\"282,-146 282,-167 324,-167 324,-146 282,-146\"/>\n",
       "<text text-anchor=\"start\" x=\"289.5\" y=\"-154\" font-family=\"Linux libertine\" font-size=\"10.00\">(1,) </text>\n",
       "</g>\n",
       "<!-- 7&#45;&gt;8 -->\n",
       "<g id=\"edge8\" class=\"edge\">\n",
       "<title>7&#45;&gt;8</title>\n",
       "<path fill=\"none\" stroke=\"black\" d=\"M188.91,-232.86C199.92,-221.72 213.75,-207.71 225.75,-195.57\"/>\n",
       "<polygon fill=\"black\" stroke=\"black\" points=\"228.41,-197.87 232.94,-188.29 223.43,-192.95 228.41,-197.87\"/>\n",
       "</g>\n",
       "<!-- 9 -->\n",
       "<g id=\"node10\" class=\"node\">\n",
       "<title>9</title>\n",
       "<polygon fill=\"#c1ffc1\" stroke=\"transparent\" points=\"158,-188 16,-188 16,-146 158,-146 158,-188\"/>\n",
       "<polygon fill=\"none\" stroke=\"black\" points=\"16,-146 16,-188 63,-188 63,-146 16,-146\"/>\n",
       "<text text-anchor=\"start\" x=\"23.5\" y=\"-170\" font-family=\"Linux libertine\" font-size=\"10.00\">Linear</text>\n",
       "<text text-anchor=\"start\" x=\"21\" y=\"-159\" font-family=\"Linux libertine\" font-size=\"10.00\">depth:2</text>\n",
       "<polygon fill=\"none\" stroke=\"black\" points=\"63,-167 63,-188 116,-188 116,-167 63,-167\"/>\n",
       "<text text-anchor=\"start\" x=\"73.5\" y=\"-175\" font-family=\"Linux libertine\" font-size=\"10.00\">input:</text>\n",
       "<polygon fill=\"none\" stroke=\"black\" points=\"116,-167 116,-188 158,-188 158,-167 116,-167\"/>\n",
       "<text text-anchor=\"start\" x=\"121\" y=\"-175\" font-family=\"Linux libertine\" font-size=\"10.00\">(64,) </text>\n",
       "<polygon fill=\"none\" stroke=\"black\" points=\"63,-146 63,-167 116,-167 116,-146 63,-146\"/>\n",
       "<text text-anchor=\"start\" x=\"68\" y=\"-154\" font-family=\"Linux libertine\" font-size=\"10.00\">output: </text>\n",
       "<polygon fill=\"none\" stroke=\"black\" points=\"116,-146 116,-167 158,-167 158,-146 116,-146\"/>\n",
       "<text text-anchor=\"start\" x=\"123.5\" y=\"-154\" font-family=\"Linux libertine\" font-size=\"10.00\">(9,) </text>\n",
       "</g>\n",
       "<!-- 7&#45;&gt;9 -->\n",
       "<g id=\"edge10\" class=\"edge\">\n",
       "<title>7&#45;&gt;9</title>\n",
       "<path fill=\"none\" stroke=\"black\" d=\"M149.57,-232.86C138.82,-221.72 125.31,-207.71 113.6,-195.57\"/>\n",
       "<polygon fill=\"black\" stroke=\"black\" points=\"116.04,-193.06 106.58,-188.29 111,-197.92 116.04,-193.06\"/>\n",
       "</g>\n",
       "<!-- 11 -->\n",
       "<g id=\"node12\" class=\"node\">\n",
       "<title>11</title>\n",
       "<polygon fill=\"aliceblue\" stroke=\"transparent\" points=\"321.5,-110 184.5,-110 184.5,-68 321.5,-68 321.5,-110\"/>\n",
       "<polygon fill=\"none\" stroke=\"black\" points=\"185,-68 185,-110 232,-110 232,-68 185,-68\"/>\n",
       "<text text-anchor=\"start\" x=\"197.5\" y=\"-92\" font-family=\"Linux libertine\" font-size=\"10.00\">view</text>\n",
       "<text text-anchor=\"start\" x=\"190\" y=\"-81\" font-family=\"Linux libertine\" font-size=\"10.00\">depth:1</text>\n",
       "<polygon fill=\"none\" stroke=\"black\" points=\"232,-89 232,-110 285,-110 285,-89 232,-89\"/>\n",
       "<text text-anchor=\"start\" x=\"242.5\" y=\"-97\" font-family=\"Linux libertine\" font-size=\"10.00\">input:</text>\n",
       "<polygon fill=\"none\" stroke=\"black\" points=\"285,-89 285,-110 322,-110 322,-89 285,-89\"/>\n",
       "<text text-anchor=\"start\" x=\"290\" y=\"-97\" font-family=\"Linux libertine\" font-size=\"10.00\">(1,) </text>\n",
       "<polygon fill=\"none\" stroke=\"black\" points=\"232,-68 232,-89 285,-89 285,-68 232,-68\"/>\n",
       "<text text-anchor=\"start\" x=\"237\" y=\"-76\" font-family=\"Linux libertine\" font-size=\"10.00\">output: </text>\n",
       "<polygon fill=\"none\" stroke=\"black\" points=\"285,-68 285,-89 322,-89 322,-68 285,-68\"/>\n",
       "<text text-anchor=\"start\" x=\"290\" y=\"-76\" font-family=\"Linux libertine\" font-size=\"10.00\">(1,) </text>\n",
       "</g>\n",
       "<!-- 8&#45;&gt;11 -->\n",
       "<g id=\"edge9\" class=\"edge\">\n",
       "<title>8&#45;&gt;11</title>\n",
       "<path fill=\"none\" stroke=\"black\" d=\"M253,-145.63C253,-137.82 253,-128.73 253,-120.18\"/>\n",
       "<polygon fill=\"black\" stroke=\"black\" points=\"256.5,-120.16 253,-110.16 249.5,-120.16 256.5,-120.16\"/>\n",
       "</g>\n",
       "<!-- 10 -->\n",
       "<g id=\"node11\" class=\"node\">\n",
       "<title>10</title>\n",
       "<polygon fill=\"lightyellow\" stroke=\"transparent\" points=\"142.5,-105 31.5,-105 31.5,-73 142.5,-73 142.5,-105\"/>\n",
       "<polygon fill=\"none\" stroke=\"black\" points=\"32,-73 32,-105 111,-105 111,-73 32,-73\"/>\n",
       "<text text-anchor=\"start\" x=\"37\" y=\"-92\" font-family=\"Linux libertine\" font-size=\"10.00\">output&#45;tensor</text>\n",
       "<text text-anchor=\"start\" x=\"53\" y=\"-81\" font-family=\"Linux libertine\" font-size=\"10.00\">depth:0</text>\n",
       "<polygon fill=\"none\" stroke=\"black\" points=\"111,-73 111,-105 143,-105 143,-73 111,-73\"/>\n",
       "<text text-anchor=\"start\" x=\"116\" y=\"-86.5\" font-family=\"Linux libertine\" font-size=\"10.00\">(9,)</text>\n",
       "</g>\n",
       "<!-- 9&#45;&gt;10 -->\n",
       "<g id=\"edge11\" class=\"edge\">\n",
       "<title>9&#45;&gt;10</title>\n",
       "<path fill=\"none\" stroke=\"black\" d=\"M87,-145.63C87,-136.33 87,-125.22 87,-115.39\"/>\n",
       "<polygon fill=\"black\" stroke=\"black\" points=\"90.5,-115.36 87,-105.36 83.5,-115.36 90.5,-115.36\"/>\n",
       "</g>\n",
       "<!-- 12 -->\n",
       "<g id=\"node13\" class=\"node\">\n",
       "<title>12</title>\n",
       "<polygon fill=\"lightyellow\" stroke=\"transparent\" points=\"308.5,-32 197.5,-32 197.5,0 308.5,0 308.5,-32\"/>\n",
       "<polygon fill=\"none\" stroke=\"black\" points=\"198,0 198,-32 277,-32 277,0 198,0\"/>\n",
       "<text text-anchor=\"start\" x=\"203\" y=\"-19\" font-family=\"Linux libertine\" font-size=\"10.00\">output&#45;tensor</text>\n",
       "<text text-anchor=\"start\" x=\"219\" y=\"-8\" font-family=\"Linux libertine\" font-size=\"10.00\">depth:0</text>\n",
       "<polygon fill=\"none\" stroke=\"black\" points=\"277,0 277,-32 309,-32 309,0 277,0\"/>\n",
       "<text text-anchor=\"start\" x=\"282\" y=\"-13.5\" font-family=\"Linux libertine\" font-size=\"10.00\">(1,)</text>\n",
       "</g>\n",
       "<!-- 11&#45;&gt;12 -->\n",
       "<g id=\"edge12\" class=\"edge\">\n",
       "<title>11&#45;&gt;12</title>\n",
       "<path fill=\"none\" stroke=\"black\" d=\"M253,-67.84C253,-59.89 253,-50.66 253,-42.26\"/>\n",
       "<polygon fill=\"black\" stroke=\"black\" points=\"256.5,-42.24 253,-32.24 249.5,-42.24 256.5,-42.24\"/>\n",
       "</g>\n",
       "</g>\n",
       "</svg>\n"
      ],
      "text/plain": [
       "<graphviz.graphs.Digraph at 0x7f7bcf256c20>"
      ]
     },
     "execution_count": 54,
     "metadata": {},
     "output_type": "execute_result"
    }
   ],
   "source": [
    "# Посмотрим визуально какая модель у нас получилась\n",
    "from torchview import draw_graph # метод для визуализации архитектуры\n",
    "\n",
    "model_graph = draw_graph(\n",
    "    TabularNN(cfg), input_size=[cfg.num_features], expand_nested=True\n",
    ")\n",
    "model_graph.visual_graph"
   ]
  },
  {
   "cell_type": "markdown",
   "metadata": {},
   "source": [
    "# <center id=\"c51\"> 🪓 Интегрируем ClearML в цикл обучения модели (train loop) 🎢 <center>"
   ]
  },
  {
   "cell_type": "markdown",
   "metadata": {},
   "source": [
    "<div class=\"alert alert-warning\">\n",
    "\n",
    "По дефолту `ClearML` не умеет работать с чистым **PyTorch**, поэтому для отображения метрик на этапе обучения модели мы будем использовать `TensorBoard` и писать в него все значения. А его уже умеет перехватывать `ClearML`."
   ]
  },
  {
   "cell_type": "markdown",
   "metadata": {},
   "source": [
    "<div class=\"alert alert-warning\">\n",
    "    \n",
    "[Далее в курсе](https://stepik.org/lesson/1466624/step/1) мы рассмотрим более продвинутый инструмент с бесшовной интеграцией с `ClearML`."
   ]
  },
  {
   "cell_type": "code",
   "execution_count": 41,
   "metadata": {},
   "outputs": [],
   "source": [
    "# Задаем оптимизатор и два лосса - для разных таргетов\n",
    "optimizer = torch.optim.Adam(model.parameters(), lr=cfg.lr)\n",
    "regression_criterion = nn.MSELoss().to(cfg.device)\n",
    "classification_criterion = nn.CrossEntropyLoss().to(cfg.device)\n",
    "\n",
    "# Инициализируем объект класса SummaryWriter, который будет отвечать за логирование в нашем train loop.\n",
    "writer = SummaryWriter()"
   ]
  },
  {
   "cell_type": "code",
   "execution_count": 42,
   "metadata": {},
   "outputs": [],
   "source": [
    "def train_model(\n",
    "    model,\n",
    "    dataloaders,\n",
    "    regression_criterion,\n",
    "    classification_criterion,\n",
    "    optimizer,\n",
    "    num_epochs=25,\n",
    "    early_stopping_rounds=5,\n",
    "    verbose=2,\n",
    "):\n",
    "\n",
    "    val_acc_history = []\n",
    "\n",
    "    best_model_wts = copy.deepcopy(model.state_dict())\n",
    "    best_loss = np.inf\n",
    "    early_steps = 0\n",
    "    stop = False\n",
    "\n",
    "    for epoch in range(num_epochs):\n",
    "        if stop:\n",
    "            break\n",
    "        if epoch % verbose == 0:\n",
    "            print(\"Epoch {}/{}\".format(epoch, num_epochs - 1))\n",
    "            print(\"-\" * 10)\n",
    "\n",
    "        # В каждой эпохе учимся на train и валидируемся на val\n",
    "        for phase in [\"train\", \"val\"]:\n",
    "            if phase == \"train\":\n",
    "                model.train()  # Обучаем модельку\n",
    "            else:\n",
    "                model.eval()  # Тестируем ее\n",
    "\n",
    "            running_loss = 0.0\n",
    "\n",
    "            for inputs, labels_1, labels_2 in dataloaders[phase]:\n",
    "                inputs = inputs.to(cfg.device)\n",
    "                labels_1 = labels_1.to(cfg.device)\n",
    "                labels_2 = labels_2.to(cfg.device)\n",
    "\n",
    "                optimizer.zero_grad()\n",
    "\n",
    "                # Включаем градиенты только на этапе обучения\n",
    "                with torch.set_grad_enabled(phase == \"train\"):\n",
    "                    outputs_1, outputs_2 = model(inputs)\n",
    "                    loss_1 = regression_criterion(outputs_1, labels_1)\n",
    "                    loss_2 = classification_criterion(outputs_2, labels_2)\n",
    "\n",
    "                    loss = loss_1 + loss_2\n",
    "\n",
    "                    # ‼️ Записываем результаты в TensorBoard для логирования в ClearML ‼️\n",
    "                    writer.add_scalar(f\"Loss1/{phase.title()}\", loss_1, epoch)\n",
    "                    writer.add_scalar(f\"Loss2/{phase.title()}\", loss_2, epoch)\n",
    "                    writer.add_scalar(f\"Loss/{phase.title()}\", loss, epoch)\n",
    "\n",
    "                    _, preds_2 = torch.max(outputs_2, 1)\n",
    "\n",
    "                    # Распространим ошибку обратно\n",
    "                    if phase == \"train\":\n",
    "                        loss.backward()\n",
    "                        optimizer.step()\n",
    "                        # scheduler.step()\n",
    "\n",
    "                running_loss += loss.item() * inputs.size(0)\n",
    "                val_acc_history.append(running_loss)\n",
    "\n",
    "            epoch_loss = running_loss / len(dataloaders[phase].dataset)\n",
    "            if epoch % verbose == 0:\n",
    "                print(\"{} Loss: {:.4f}\".format(phase, epoch_loss))\n",
    "\n",
    "            # Сохраняем только лучшую модель\n",
    "            if phase == \"val\" and epoch_loss < best_loss:\n",
    "                best_model_wts = copy.deepcopy(model.state_dict())\n",
    "                best_loss = epoch_loss\n",
    "                early_steps = 0\n",
    "            if phase == \"val\" and epoch_loss > best_loss:\n",
    "                early_steps += 1\n",
    "                if early_steps > early_stopping_rounds: # Если лосс долго не падает, то останавливаем обучение\n",
    "                    stop = True\n",
    "                    print(f\"Stopped by early_stopping. Epoch: {epoch}\")\n",
    "                    break\n",
    "\n",
    "    # Подгружаем ее\n",
    "    model.load_state_dict(best_model_wts)\n",
    "    return model"
   ]
  },
  {
   "cell_type": "code",
   "execution_count": 43,
   "metadata": {
    "scrolled": true
   },
   "outputs": [
    {
     "name": "stdout",
     "output_type": "stream",
     "text": [
      "Epoch 0/19\n",
      "----------\n",
      "train Loss: 2.7129\n",
      "val Loss: 2.7183\n",
      "Epoch 2/19\n",
      "----------\n",
      "train Loss: 2.2329\n",
      "val Loss: 2.0930\n",
      "Epoch 4/19\n",
      "----------\n",
      "train Loss: 1.6074\n",
      "val Loss: 1.5600\n",
      "Epoch 6/19\n",
      "----------\n",
      "train Loss: 1.3160\n",
      "val Loss: 1.3278\n",
      "Epoch 8/19\n",
      "----------\n",
      "train Loss: 1.1637\n",
      "val Loss: 1.2083\n",
      "Epoch 10/19\n",
      "----------\n",
      "train Loss: 1.0951\n",
      "val Loss: 1.1791\n",
      "Epoch 12/19\n",
      "----------\n",
      "train Loss: 1.0588\n",
      "val Loss: 1.1622\n",
      "Epoch 14/19\n",
      "----------\n",
      "train Loss: 1.0147\n",
      "val Loss: 1.1376\n",
      "Epoch 16/19\n",
      "----------\n",
      "train Loss: 1.0009\n",
      "val Loss: 1.1513\n",
      "Epoch 18/19\n",
      "----------\n",
      "train Loss: 0.9608\n",
      "val Loss: 1.1191\n"
     ]
    }
   ],
   "source": [
    "model_ft = train_model(\n",
    "    model,\n",
    "    dataloaders_dict,\n",
    "    regression_criterion,\n",
    "    classification_criterion,\n",
    "    optimizer,\n",
    "    num_epochs=cfg.epochs,\n",
    ")"
   ]
  },
  {
   "cell_type": "markdown",
   "metadata": {},
   "source": [
    "<div class=\"alert alert-success\">\n",
    "\n",
    "И еще одна \"killer-фича\" - `ClearML` умеет логировать ваши модели автоматически, куда бы вы их не сохранили!\n",
    "\n",
    "‼️ Модель сохраняется автоматически, без вызова дополнительных функций!"
   ]
  },
  {
   "cell_type": "code",
   "execution_count": null,
   "metadata": {},
   "outputs": [
    {
     "name": "stdout",
     "output_type": "stream",
     "text": [
      "2024-11-19 17:17:26,760 - clearml.frameworks - INFO - Found existing registered model id=41fb300ac60544da94dd1ddf35a68765 [/app/storage_local/Course/ML_instruments/models/model_scripted.pt] reusing it.\n"
     ]
    }
   ],
   "source": [
    "model_scripted = torch.jit.script(model)  # Преобразуем в TorchScript\n",
    "model_scripted.save(\"../models/model_scripted.pt\")  # Сохраняем"
   ]
  },
  {
   "cell_type": "markdown",
   "metadata": {},
   "source": [
    "<div class=\"alert alert-warning\"> \n",
    "\n",
    "Также не забываем закончить эксперимент для нормального отображения на сайте `ClearML`, делается это командой `task.close()`"
   ]
  },
  {
   "cell_type": "code",
   "execution_count": 46,
   "metadata": {},
   "outputs": [],
   "source": [
    "task.close()"
   ]
  },
  {
   "cell_type": "markdown",
   "metadata": {},
   "source": [
    "# <center> 📊 Смотрим результаты на странице app.Clear.ML 🤩 </center>"
   ]
  },
  {
   "cell_type": "markdown",
   "metadata": {},
   "source": [
    "Теперь в [UI ClearML](https://app.clear.ml/dashboard) появляется новый эксперимент, в котором можно увидеть все, что мы залогировали и даже больше:\n",
    "\n",
    "- `Execution`: Служебная информация какой файл запускался, в каком docker-контейнере\n",
    "- `Configuration`: Все гиперпараметры хранятся тут\n",
    "- `Artifacts`: Сохраненные модели будут подгружатся сюда. Также рендер ipynb файла сохраняется автоматически\n",
    "- `Info`: Служебная информации о времени запуска, пользователе и тд\n",
    "- `Console`: Весь терминальный вывод сохраняется автоматически \n",
    "- `Scalars`: Графики обучения из `TensorBoard`\n",
    "- `Plots`: Графики `matplotlib` или данные `pandas`\n",
    "- `Debug samples`: Вкладка, используемая при обучении моделей в сфере звука, картинок, видео "
   ]
  },
  {
   "attachments": {},
   "cell_type": "markdown",
   "metadata": {
    "jp-MarkdownHeadingCollapsed": true
   },
   "source": [
    "![ClearML scalars](https://i.imgur.com/Eh2RUom.png)"
   ]
  },
  {
   "cell_type": "markdown",
   "metadata": {},
   "source": [
    "# <center id=c4> ✌️ Как сравнить два эксперимента 🧐 </center>\n",
    "\n",
    "<div class=\"alert alert-info\">\n",
    "    \n",
    "Если вы пробуете оптимизировать модель - неизбежно тестируете несколько гипотез. После этого у вас плодятся запуски экспоненциально, и допустим, среди них надо выбрать пару лучших. `ClearML` поможет легко справиться с этой задачей! "
   ]
  },
  {
   "cell_type": "markdown",
   "metadata": {},
   "source": [
    "<div class=\"alert alert-info\">\n",
    "    \n",
    "Давайте попробуем изменить гиперпараметры модели, добавим слой `BatchNorm`, и посмотрим правда ли она стала лучше. "
   ]
  },
  {
   "cell_type": "code",
   "execution_count": null,
   "metadata": {},
   "outputs": [],
   "source": [
    "@dataclass\n",
    "class CFG:\n",
    "    project_name: str = \"ML Instruments Course\"\n",
    "    experiment_name: str = \"PyTorch model baseline more epochs, batchnorm\"\n",
    "\n",
    "    seed: int = 2024\n",
    "    device: str = \"cuda\"  # 'cpu'\n",
    "    hidden_size: int = 128\n",
    "    dropout: float = 0.2\n",
    "    lr: float = 1e-3\n",
    "    batch_size: int = 128\n",
    "    num_workers: int = 4\n",
    "    epochs: int = 40\n",
    "\n",
    "\n",
    "cfg = CFG()\n",
    "cfg_dict = asdict(cfg)\n",
    "cfg_dict"
   ]
  },
  {
   "cell_type": "code",
   "execution_count": null,
   "metadata": {},
   "outputs": [],
   "source": [
    "# Создаем эксперимент\n",
    "task = Task.init(project_name=cfg.project_name, task_name=cfg.experiment_name)\n",
    "task.add_tags([\"baseline\", \"model\", \"tuning\"])  # Добавим новый тег\n",
    "logger = Logger.current_logger()"
   ]
  },
  {
   "cell_type": "code",
   "execution_count": 50,
   "metadata": {},
   "outputs": [],
   "source": [
    "# Добавим BatchNorm\n",
    "class TabularNN(nn.Module):\n",
    "    def __init__(self, cfg):\n",
    "        super().__init__()\n",
    "        # Напишем простенькую нейронку\n",
    "        self.mlp = nn.Sequential(\n",
    "            nn.Linear(cfg.num_features, cfg.hidden_size),\n",
    "            nn.BatchNorm1d(cfg.hidden_size),\n",
    "            nn.Dropout(cfg.dropout),\n",
    "            nn.ReLU(),\n",
    "            nn.Linear(cfg.hidden_size, cfg.hidden_size),\n",
    "            nn.BatchNorm1d(cfg.hidden_size),\n",
    "            nn.Dropout(cfg.dropout),\n",
    "            nn.ReLU(),\n",
    "            nn.Linear(cfg.hidden_size, cfg.hidden_size // 2),\n",
    "        )\n",
    "        # Так как два таргета, делаем две головы - одна для регрессии, другая - классификации\n",
    "        self.regressor = nn.Sequential(nn.Linear(cfg.hidden_size // 2, 1))\n",
    "        self.classifier = nn.Sequential(\n",
    "            nn.Linear(cfg.hidden_size // 2, cfg.num_tar_class)\n",
    "        )\n",
    "\n",
    "    def forward(self, data):\n",
    "        x = self.mlp(data)\n",
    "        tar_reg = self.regressor(x)\n",
    "        tar_class = self.classifier(x)\n",
    "        return tar_reg.view(-1), tar_class"
   ]
  },
  {
   "cell_type": "code",
   "execution_count": 55,
   "metadata": {},
   "outputs": [
    {
     "data": {
      "image/svg+xml": [
       "<?xml version=\"1.0\" encoding=\"UTF-8\" standalone=\"no\"?>\n",
       "<!DOCTYPE svg PUBLIC \"-//W3C//DTD SVG 1.1//EN\"\n",
       " \"http://www.w3.org/Graphics/SVG/1.1/DTD/svg11.dtd\">\n",
       "<!-- Generated by graphviz version 2.43.0 (0)\n",
       " -->\n",
       "<!-- Title: model Pages: 1 -->\n",
       "<svg width=\"348pt\" height=\"820pt\"\n",
       " viewBox=\"0.00 0.00 348.00 820.00\" xmlns=\"http://www.w3.org/2000/svg\" xmlns:xlink=\"http://www.w3.org/1999/xlink\">\n",
       "<g id=\"graph0\" class=\"graph\" transform=\"scale(1 1) rotate(0) translate(4 816)\">\n",
       "<title>model</title>\n",
       "<polygon fill=\"white\" stroke=\"transparent\" points=\"-4,4 -4,-816 344,-816 344,4 -4,4\"/>\n",
       "<g id=\"clust1\" class=\"cluster\">\n",
       "<title>cluster_2</title>\n",
       "<polygon fill=\"none\" stroke=\"black\" stroke-dasharray=\"5,2\" points=\"87,-225 87,-772 251,-772 251,-225 87,-225\"/>\n",
       "<text text-anchor=\"middle\" x=\"120\" y=\"-758.4\" font-family=\"Times,serif\" font-size=\"12.00\">Sequential</text>\n",
       "</g>\n",
       "<g id=\"clust2\" class=\"cluster\">\n",
       "<title>cluster_3</title>\n",
       "<polygon fill=\"none\" stroke=\"black\" stroke-dasharray=\"5,2\" points=\"174,-138 174,-217 332,-217 332,-138 174,-138\"/>\n",
       "<text text-anchor=\"middle\" x=\"207\" y=\"-203.4\" font-family=\"Times,serif\" font-size=\"12.00\">Sequential</text>\n",
       "</g>\n",
       "<g id=\"clust3\" class=\"cluster\">\n",
       "<title>cluster_4</title>\n",
       "<polygon fill=\"none\" stroke=\"black\" stroke-dasharray=\"5,2\" points=\"8,-65 8,-217 166,-217 166,-65 8,-65\"/>\n",
       "<text text-anchor=\"middle\" x=\"41\" y=\"-203.4\" font-family=\"Times,serif\" font-size=\"12.00\">Sequential</text>\n",
       "</g>\n",
       "<!-- 0 -->\n",
       "<g id=\"node1\" class=\"node\">\n",
       "<title>0</title>\n",
       "<polygon fill=\"lightyellow\" stroke=\"transparent\" points=\"224.5,-812 113.5,-812 113.5,-780 224.5,-780 224.5,-812\"/>\n",
       "<polygon fill=\"none\" stroke=\"black\" points=\"114,-780 114,-812 188,-812 188,-780 114,-780\"/>\n",
       "<text text-anchor=\"start\" x=\"119\" y=\"-799\" font-family=\"Linux libertine\" font-size=\"10.00\">input&#45;tensor</text>\n",
       "<text text-anchor=\"start\" x=\"132.5\" y=\"-788\" font-family=\"Linux libertine\" font-size=\"10.00\">depth:0</text>\n",
       "<polygon fill=\"none\" stroke=\"black\" points=\"188,-780 188,-812 225,-812 225,-780 188,-780\"/>\n",
       "<text text-anchor=\"start\" x=\"193\" y=\"-793.5\" font-family=\"Linux libertine\" font-size=\"10.00\">(43,)</text>\n",
       "</g>\n",
       "<!-- 1 -->\n",
       "<g id=\"node2\" class=\"node\">\n",
       "<title>1</title>\n",
       "<polygon fill=\"#c1ffc1\" stroke=\"transparent\" points=\"242.5,-743 95.5,-743 95.5,-701 242.5,-701 242.5,-743\"/>\n",
       "<polygon fill=\"none\" stroke=\"black\" points=\"96,-701 96,-743 143,-743 143,-701 96,-701\"/>\n",
       "<text text-anchor=\"start\" x=\"103.5\" y=\"-725\" font-family=\"Linux libertine\" font-size=\"10.00\">Linear</text>\n",
       "<text text-anchor=\"start\" x=\"101\" y=\"-714\" font-family=\"Linux libertine\" font-size=\"10.00\">depth:2</text>\n",
       "<polygon fill=\"none\" stroke=\"black\" points=\"143,-722 143,-743 196,-743 196,-722 143,-722\"/>\n",
       "<text text-anchor=\"start\" x=\"153.5\" y=\"-730\" font-family=\"Linux libertine\" font-size=\"10.00\">input:</text>\n",
       "<polygon fill=\"none\" stroke=\"black\" points=\"196,-722 196,-743 243,-743 243,-722 196,-722\"/>\n",
       "<text text-anchor=\"start\" x=\"203.5\" y=\"-730\" font-family=\"Linux libertine\" font-size=\"10.00\">(43,) </text>\n",
       "<polygon fill=\"none\" stroke=\"black\" points=\"143,-701 143,-722 196,-722 196,-701 143,-701\"/>\n",
       "<text text-anchor=\"start\" x=\"148\" y=\"-709\" font-family=\"Linux libertine\" font-size=\"10.00\">output: </text>\n",
       "<polygon fill=\"none\" stroke=\"black\" points=\"196,-701 196,-722 243,-722 243,-701 196,-701\"/>\n",
       "<text text-anchor=\"start\" x=\"201\" y=\"-709\" font-family=\"Linux libertine\" font-size=\"10.00\">(128,) </text>\n",
       "</g>\n",
       "<!-- 0&#45;&gt;1 -->\n",
       "<g id=\"edge1\" class=\"edge\">\n",
       "<title>0&#45;&gt;1</title>\n",
       "<path fill=\"none\" stroke=\"black\" d=\"M169,-779.73C169,-772.08 169,-762.52 169,-753.45\"/>\n",
       "<polygon fill=\"black\" stroke=\"black\" points=\"172.5,-753.17 169,-743.17 165.5,-753.17 172.5,-753.17\"/>\n",
       "</g>\n",
       "<!-- 2 -->\n",
       "<g id=\"node3\" class=\"node\">\n",
       "<title>2</title>\n",
       "<polygon fill=\"#c1ffc1\" stroke=\"transparent\" points=\"242.5,-665 95.5,-665 95.5,-623 242.5,-623 242.5,-665\"/>\n",
       "<polygon fill=\"none\" stroke=\"black\" points=\"96,-623 96,-665 143,-665 143,-623 96,-623\"/>\n",
       "<text text-anchor=\"start\" x=\"101\" y=\"-647\" font-family=\"Linux libertine\" font-size=\"10.00\">Dropout</text>\n",
       "<text text-anchor=\"start\" x=\"101\" y=\"-636\" font-family=\"Linux libertine\" font-size=\"10.00\">depth:2</text>\n",
       "<polygon fill=\"none\" stroke=\"black\" points=\"143,-644 143,-665 196,-665 196,-644 143,-644\"/>\n",
       "<text text-anchor=\"start\" x=\"153.5\" y=\"-652\" font-family=\"Linux libertine\" font-size=\"10.00\">input:</text>\n",
       "<polygon fill=\"none\" stroke=\"black\" points=\"196,-644 196,-665 243,-665 243,-644 196,-644\"/>\n",
       "<text text-anchor=\"start\" x=\"201\" y=\"-652\" font-family=\"Linux libertine\" font-size=\"10.00\">(128,) </text>\n",
       "<polygon fill=\"none\" stroke=\"black\" points=\"143,-623 143,-644 196,-644 196,-623 143,-623\"/>\n",
       "<text text-anchor=\"start\" x=\"148\" y=\"-631\" font-family=\"Linux libertine\" font-size=\"10.00\">output: </text>\n",
       "<polygon fill=\"none\" stroke=\"black\" points=\"196,-623 196,-644 243,-644 243,-623 196,-623\"/>\n",
       "<text text-anchor=\"start\" x=\"201\" y=\"-631\" font-family=\"Linux libertine\" font-size=\"10.00\">(128,) </text>\n",
       "</g>\n",
       "<!-- 1&#45;&gt;2 -->\n",
       "<g id=\"edge2\" class=\"edge\">\n",
       "<title>1&#45;&gt;2</title>\n",
       "<path fill=\"none\" stroke=\"black\" d=\"M169,-700.63C169,-692.82 169,-683.73 169,-675.18\"/>\n",
       "<polygon fill=\"black\" stroke=\"black\" points=\"172.5,-675.16 169,-665.16 165.5,-675.16 172.5,-675.16\"/>\n",
       "</g>\n",
       "<!-- 3 -->\n",
       "<g id=\"node4\" class=\"node\">\n",
       "<title>3</title>\n",
       "<polygon fill=\"#c1ffc1\" stroke=\"transparent\" points=\"242.5,-587 95.5,-587 95.5,-545 242.5,-545 242.5,-587\"/>\n",
       "<polygon fill=\"none\" stroke=\"black\" points=\"96,-545 96,-587 143,-587 143,-545 96,-545\"/>\n",
       "<text text-anchor=\"start\" x=\"108.5\" y=\"-569\" font-family=\"Linux libertine\" font-size=\"10.00\">ReLU</text>\n",
       "<text text-anchor=\"start\" x=\"101\" y=\"-558\" font-family=\"Linux libertine\" font-size=\"10.00\">depth:2</text>\n",
       "<polygon fill=\"none\" stroke=\"black\" points=\"143,-566 143,-587 196,-587 196,-566 143,-566\"/>\n",
       "<text text-anchor=\"start\" x=\"153.5\" y=\"-574\" font-family=\"Linux libertine\" font-size=\"10.00\">input:</text>\n",
       "<polygon fill=\"none\" stroke=\"black\" points=\"196,-566 196,-587 243,-587 243,-566 196,-566\"/>\n",
       "<text text-anchor=\"start\" x=\"201\" y=\"-574\" font-family=\"Linux libertine\" font-size=\"10.00\">(128,) </text>\n",
       "<polygon fill=\"none\" stroke=\"black\" points=\"143,-545 143,-566 196,-566 196,-545 143,-545\"/>\n",
       "<text text-anchor=\"start\" x=\"148\" y=\"-553\" font-family=\"Linux libertine\" font-size=\"10.00\">output: </text>\n",
       "<polygon fill=\"none\" stroke=\"black\" points=\"196,-545 196,-566 243,-566 243,-545 196,-545\"/>\n",
       "<text text-anchor=\"start\" x=\"201\" y=\"-553\" font-family=\"Linux libertine\" font-size=\"10.00\">(128,) </text>\n",
       "</g>\n",
       "<!-- 2&#45;&gt;3 -->\n",
       "<g id=\"edge3\" class=\"edge\">\n",
       "<title>2&#45;&gt;3</title>\n",
       "<path fill=\"none\" stroke=\"black\" d=\"M169,-622.63C169,-614.82 169,-605.73 169,-597.18\"/>\n",
       "<polygon fill=\"black\" stroke=\"black\" points=\"172.5,-597.16 169,-587.16 165.5,-597.16 172.5,-597.16\"/>\n",
       "</g>\n",
       "<!-- 4 -->\n",
       "<g id=\"node5\" class=\"node\">\n",
       "<title>4</title>\n",
       "<polygon fill=\"#c1ffc1\" stroke=\"transparent\" points=\"242.5,-509 95.5,-509 95.5,-467 242.5,-467 242.5,-509\"/>\n",
       "<polygon fill=\"none\" stroke=\"black\" points=\"96,-467 96,-509 143,-509 143,-467 96,-467\"/>\n",
       "<text text-anchor=\"start\" x=\"103.5\" y=\"-491\" font-family=\"Linux libertine\" font-size=\"10.00\">Linear</text>\n",
       "<text text-anchor=\"start\" x=\"101\" y=\"-480\" font-family=\"Linux libertine\" font-size=\"10.00\">depth:2</text>\n",
       "<polygon fill=\"none\" stroke=\"black\" points=\"143,-488 143,-509 196,-509 196,-488 143,-488\"/>\n",
       "<text text-anchor=\"start\" x=\"153.5\" y=\"-496\" font-family=\"Linux libertine\" font-size=\"10.00\">input:</text>\n",
       "<polygon fill=\"none\" stroke=\"black\" points=\"196,-488 196,-509 243,-509 243,-488 196,-488\"/>\n",
       "<text text-anchor=\"start\" x=\"201\" y=\"-496\" font-family=\"Linux libertine\" font-size=\"10.00\">(128,) </text>\n",
       "<polygon fill=\"none\" stroke=\"black\" points=\"143,-467 143,-488 196,-488 196,-467 143,-467\"/>\n",
       "<text text-anchor=\"start\" x=\"148\" y=\"-475\" font-family=\"Linux libertine\" font-size=\"10.00\">output: </text>\n",
       "<polygon fill=\"none\" stroke=\"black\" points=\"196,-467 196,-488 243,-488 243,-467 196,-467\"/>\n",
       "<text text-anchor=\"start\" x=\"201\" y=\"-475\" font-family=\"Linux libertine\" font-size=\"10.00\">(128,) </text>\n",
       "</g>\n",
       "<!-- 3&#45;&gt;4 -->\n",
       "<g id=\"edge4\" class=\"edge\">\n",
       "<title>3&#45;&gt;4</title>\n",
       "<path fill=\"none\" stroke=\"black\" d=\"M169,-544.63C169,-536.82 169,-527.73 169,-519.18\"/>\n",
       "<polygon fill=\"black\" stroke=\"black\" points=\"172.5,-519.16 169,-509.16 165.5,-519.16 172.5,-519.16\"/>\n",
       "</g>\n",
       "<!-- 5 -->\n",
       "<g id=\"node6\" class=\"node\">\n",
       "<title>5</title>\n",
       "<polygon fill=\"#c1ffc1\" stroke=\"transparent\" points=\"242.5,-431 95.5,-431 95.5,-389 242.5,-389 242.5,-431\"/>\n",
       "<polygon fill=\"none\" stroke=\"black\" points=\"96,-389 96,-431 143,-431 143,-389 96,-389\"/>\n",
       "<text text-anchor=\"start\" x=\"101\" y=\"-413\" font-family=\"Linux libertine\" font-size=\"10.00\">Dropout</text>\n",
       "<text text-anchor=\"start\" x=\"101\" y=\"-402\" font-family=\"Linux libertine\" font-size=\"10.00\">depth:2</text>\n",
       "<polygon fill=\"none\" stroke=\"black\" points=\"143,-410 143,-431 196,-431 196,-410 143,-410\"/>\n",
       "<text text-anchor=\"start\" x=\"153.5\" y=\"-418\" font-family=\"Linux libertine\" font-size=\"10.00\">input:</text>\n",
       "<polygon fill=\"none\" stroke=\"black\" points=\"196,-410 196,-431 243,-431 243,-410 196,-410\"/>\n",
       "<text text-anchor=\"start\" x=\"201\" y=\"-418\" font-family=\"Linux libertine\" font-size=\"10.00\">(128,) </text>\n",
       "<polygon fill=\"none\" stroke=\"black\" points=\"143,-389 143,-410 196,-410 196,-389 143,-389\"/>\n",
       "<text text-anchor=\"start\" x=\"148\" y=\"-397\" font-family=\"Linux libertine\" font-size=\"10.00\">output: </text>\n",
       "<polygon fill=\"none\" stroke=\"black\" points=\"196,-389 196,-410 243,-410 243,-389 196,-389\"/>\n",
       "<text text-anchor=\"start\" x=\"201\" y=\"-397\" font-family=\"Linux libertine\" font-size=\"10.00\">(128,) </text>\n",
       "</g>\n",
       "<!-- 4&#45;&gt;5 -->\n",
       "<g id=\"edge5\" class=\"edge\">\n",
       "<title>4&#45;&gt;5</title>\n",
       "<path fill=\"none\" stroke=\"black\" d=\"M169,-466.63C169,-458.82 169,-449.73 169,-441.18\"/>\n",
       "<polygon fill=\"black\" stroke=\"black\" points=\"172.5,-441.16 169,-431.16 165.5,-441.16 172.5,-441.16\"/>\n",
       "</g>\n",
       "<!-- 6 -->\n",
       "<g id=\"node7\" class=\"node\">\n",
       "<title>6</title>\n",
       "<polygon fill=\"#c1ffc1\" stroke=\"transparent\" points=\"242.5,-353 95.5,-353 95.5,-311 242.5,-311 242.5,-353\"/>\n",
       "<polygon fill=\"none\" stroke=\"black\" points=\"96,-311 96,-353 143,-353 143,-311 96,-311\"/>\n",
       "<text text-anchor=\"start\" x=\"108.5\" y=\"-335\" font-family=\"Linux libertine\" font-size=\"10.00\">ReLU</text>\n",
       "<text text-anchor=\"start\" x=\"101\" y=\"-324\" font-family=\"Linux libertine\" font-size=\"10.00\">depth:2</text>\n",
       "<polygon fill=\"none\" stroke=\"black\" points=\"143,-332 143,-353 196,-353 196,-332 143,-332\"/>\n",
       "<text text-anchor=\"start\" x=\"153.5\" y=\"-340\" font-family=\"Linux libertine\" font-size=\"10.00\">input:</text>\n",
       "<polygon fill=\"none\" stroke=\"black\" points=\"196,-332 196,-353 243,-353 243,-332 196,-332\"/>\n",
       "<text text-anchor=\"start\" x=\"201\" y=\"-340\" font-family=\"Linux libertine\" font-size=\"10.00\">(128,) </text>\n",
       "<polygon fill=\"none\" stroke=\"black\" points=\"143,-311 143,-332 196,-332 196,-311 143,-311\"/>\n",
       "<text text-anchor=\"start\" x=\"148\" y=\"-319\" font-family=\"Linux libertine\" font-size=\"10.00\">output: </text>\n",
       "<polygon fill=\"none\" stroke=\"black\" points=\"196,-311 196,-332 243,-332 243,-311 196,-311\"/>\n",
       "<text text-anchor=\"start\" x=\"201\" y=\"-319\" font-family=\"Linux libertine\" font-size=\"10.00\">(128,) </text>\n",
       "</g>\n",
       "<!-- 5&#45;&gt;6 -->\n",
       "<g id=\"edge6\" class=\"edge\">\n",
       "<title>5&#45;&gt;6</title>\n",
       "<path fill=\"none\" stroke=\"black\" d=\"M169,-388.63C169,-380.82 169,-371.73 169,-363.18\"/>\n",
       "<polygon fill=\"black\" stroke=\"black\" points=\"172.5,-363.16 169,-353.16 165.5,-363.16 172.5,-363.16\"/>\n",
       "</g>\n",
       "<!-- 7 -->\n",
       "<g id=\"node8\" class=\"node\">\n",
       "<title>7</title>\n",
       "<polygon fill=\"#c1ffc1\" stroke=\"transparent\" points=\"242.5,-275 95.5,-275 95.5,-233 242.5,-233 242.5,-275\"/>\n",
       "<polygon fill=\"none\" stroke=\"black\" points=\"96,-233 96,-275 143,-275 143,-233 96,-233\"/>\n",
       "<text text-anchor=\"start\" x=\"103.5\" y=\"-257\" font-family=\"Linux libertine\" font-size=\"10.00\">Linear</text>\n",
       "<text text-anchor=\"start\" x=\"101\" y=\"-246\" font-family=\"Linux libertine\" font-size=\"10.00\">depth:2</text>\n",
       "<polygon fill=\"none\" stroke=\"black\" points=\"143,-254 143,-275 196,-275 196,-254 143,-254\"/>\n",
       "<text text-anchor=\"start\" x=\"153.5\" y=\"-262\" font-family=\"Linux libertine\" font-size=\"10.00\">input:</text>\n",
       "<polygon fill=\"none\" stroke=\"black\" points=\"196,-254 196,-275 243,-275 243,-254 196,-254\"/>\n",
       "<text text-anchor=\"start\" x=\"201\" y=\"-262\" font-family=\"Linux libertine\" font-size=\"10.00\">(128,) </text>\n",
       "<polygon fill=\"none\" stroke=\"black\" points=\"143,-233 143,-254 196,-254 196,-233 143,-233\"/>\n",
       "<text text-anchor=\"start\" x=\"148\" y=\"-241\" font-family=\"Linux libertine\" font-size=\"10.00\">output: </text>\n",
       "<polygon fill=\"none\" stroke=\"black\" points=\"196,-233 196,-254 243,-254 243,-233 196,-233\"/>\n",
       "<text text-anchor=\"start\" x=\"203.5\" y=\"-241\" font-family=\"Linux libertine\" font-size=\"10.00\">(64,) </text>\n",
       "</g>\n",
       "<!-- 6&#45;&gt;7 -->\n",
       "<g id=\"edge7\" class=\"edge\">\n",
       "<title>6&#45;&gt;7</title>\n",
       "<path fill=\"none\" stroke=\"black\" d=\"M169,-310.63C169,-302.82 169,-293.73 169,-285.18\"/>\n",
       "<polygon fill=\"black\" stroke=\"black\" points=\"172.5,-285.16 169,-275.16 165.5,-285.16 172.5,-285.16\"/>\n",
       "</g>\n",
       "<!-- 8 -->\n",
       "<g id=\"node9\" class=\"node\">\n",
       "<title>8</title>\n",
       "<polygon fill=\"#c1ffc1\" stroke=\"transparent\" points=\"324,-188 182,-188 182,-146 324,-146 324,-188\"/>\n",
       "<polygon fill=\"none\" stroke=\"black\" points=\"182,-146 182,-188 229,-188 229,-146 182,-146\"/>\n",
       "<text text-anchor=\"start\" x=\"189.5\" y=\"-170\" font-family=\"Linux libertine\" font-size=\"10.00\">Linear</text>\n",
       "<text text-anchor=\"start\" x=\"187\" y=\"-159\" font-family=\"Linux libertine\" font-size=\"10.00\">depth:2</text>\n",
       "<polygon fill=\"none\" stroke=\"black\" points=\"229,-167 229,-188 282,-188 282,-167 229,-167\"/>\n",
       "<text text-anchor=\"start\" x=\"239.5\" y=\"-175\" font-family=\"Linux libertine\" font-size=\"10.00\">input:</text>\n",
       "<polygon fill=\"none\" stroke=\"black\" points=\"282,-167 282,-188 324,-188 324,-167 282,-167\"/>\n",
       "<text text-anchor=\"start\" x=\"287\" y=\"-175\" font-family=\"Linux libertine\" font-size=\"10.00\">(64,) </text>\n",
       "<polygon fill=\"none\" stroke=\"black\" points=\"229,-146 229,-167 282,-167 282,-146 229,-146\"/>\n",
       "<text text-anchor=\"start\" x=\"234\" y=\"-154\" font-family=\"Linux libertine\" font-size=\"10.00\">output: </text>\n",
       "<polygon fill=\"none\" stroke=\"black\" points=\"282,-146 282,-167 324,-167 324,-146 282,-146\"/>\n",
       "<text text-anchor=\"start\" x=\"289.5\" y=\"-154\" font-family=\"Linux libertine\" font-size=\"10.00\">(1,) </text>\n",
       "</g>\n",
       "<!-- 7&#45;&gt;8 -->\n",
       "<g id=\"edge8\" class=\"edge\">\n",
       "<title>7&#45;&gt;8</title>\n",
       "<path fill=\"none\" stroke=\"black\" d=\"M188.91,-232.86C199.92,-221.72 213.75,-207.71 225.75,-195.57\"/>\n",
       "<polygon fill=\"black\" stroke=\"black\" points=\"228.41,-197.87 232.94,-188.29 223.43,-192.95 228.41,-197.87\"/>\n",
       "</g>\n",
       "<!-- 9 -->\n",
       "<g id=\"node10\" class=\"node\">\n",
       "<title>9</title>\n",
       "<polygon fill=\"#c1ffc1\" stroke=\"transparent\" points=\"158,-188 16,-188 16,-146 158,-146 158,-188\"/>\n",
       "<polygon fill=\"none\" stroke=\"black\" points=\"16,-146 16,-188 63,-188 63,-146 16,-146\"/>\n",
       "<text text-anchor=\"start\" x=\"23.5\" y=\"-170\" font-family=\"Linux libertine\" font-size=\"10.00\">Linear</text>\n",
       "<text text-anchor=\"start\" x=\"21\" y=\"-159\" font-family=\"Linux libertine\" font-size=\"10.00\">depth:2</text>\n",
       "<polygon fill=\"none\" stroke=\"black\" points=\"63,-167 63,-188 116,-188 116,-167 63,-167\"/>\n",
       "<text text-anchor=\"start\" x=\"73.5\" y=\"-175\" font-family=\"Linux libertine\" font-size=\"10.00\">input:</text>\n",
       "<polygon fill=\"none\" stroke=\"black\" points=\"116,-167 116,-188 158,-188 158,-167 116,-167\"/>\n",
       "<text text-anchor=\"start\" x=\"121\" y=\"-175\" font-family=\"Linux libertine\" font-size=\"10.00\">(64,) </text>\n",
       "<polygon fill=\"none\" stroke=\"black\" points=\"63,-146 63,-167 116,-167 116,-146 63,-146\"/>\n",
       "<text text-anchor=\"start\" x=\"68\" y=\"-154\" font-family=\"Linux libertine\" font-size=\"10.00\">output: </text>\n",
       "<polygon fill=\"none\" stroke=\"black\" points=\"116,-146 116,-167 158,-167 158,-146 116,-146\"/>\n",
       "<text text-anchor=\"start\" x=\"123.5\" y=\"-154\" font-family=\"Linux libertine\" font-size=\"10.00\">(9,) </text>\n",
       "</g>\n",
       "<!-- 7&#45;&gt;9 -->\n",
       "<g id=\"edge10\" class=\"edge\">\n",
       "<title>7&#45;&gt;9</title>\n",
       "<path fill=\"none\" stroke=\"black\" d=\"M149.57,-232.86C138.82,-221.72 125.31,-207.71 113.6,-195.57\"/>\n",
       "<polygon fill=\"black\" stroke=\"black\" points=\"116.04,-193.06 106.58,-188.29 111,-197.92 116.04,-193.06\"/>\n",
       "</g>\n",
       "<!-- 11 -->\n",
       "<g id=\"node12\" class=\"node\">\n",
       "<title>11</title>\n",
       "<polygon fill=\"aliceblue\" stroke=\"transparent\" points=\"321.5,-110 184.5,-110 184.5,-68 321.5,-68 321.5,-110\"/>\n",
       "<polygon fill=\"none\" stroke=\"black\" points=\"185,-68 185,-110 232,-110 232,-68 185,-68\"/>\n",
       "<text text-anchor=\"start\" x=\"197.5\" y=\"-92\" font-family=\"Linux libertine\" font-size=\"10.00\">view</text>\n",
       "<text text-anchor=\"start\" x=\"190\" y=\"-81\" font-family=\"Linux libertine\" font-size=\"10.00\">depth:1</text>\n",
       "<polygon fill=\"none\" stroke=\"black\" points=\"232,-89 232,-110 285,-110 285,-89 232,-89\"/>\n",
       "<text text-anchor=\"start\" x=\"242.5\" y=\"-97\" font-family=\"Linux libertine\" font-size=\"10.00\">input:</text>\n",
       "<polygon fill=\"none\" stroke=\"black\" points=\"285,-89 285,-110 322,-110 322,-89 285,-89\"/>\n",
       "<text text-anchor=\"start\" x=\"290\" y=\"-97\" font-family=\"Linux libertine\" font-size=\"10.00\">(1,) </text>\n",
       "<polygon fill=\"none\" stroke=\"black\" points=\"232,-68 232,-89 285,-89 285,-68 232,-68\"/>\n",
       "<text text-anchor=\"start\" x=\"237\" y=\"-76\" font-family=\"Linux libertine\" font-size=\"10.00\">output: </text>\n",
       "<polygon fill=\"none\" stroke=\"black\" points=\"285,-68 285,-89 322,-89 322,-68 285,-68\"/>\n",
       "<text text-anchor=\"start\" x=\"290\" y=\"-76\" font-family=\"Linux libertine\" font-size=\"10.00\">(1,) </text>\n",
       "</g>\n",
       "<!-- 8&#45;&gt;11 -->\n",
       "<g id=\"edge9\" class=\"edge\">\n",
       "<title>8&#45;&gt;11</title>\n",
       "<path fill=\"none\" stroke=\"black\" d=\"M253,-145.63C253,-137.82 253,-128.73 253,-120.18\"/>\n",
       "<polygon fill=\"black\" stroke=\"black\" points=\"256.5,-120.16 253,-110.16 249.5,-120.16 256.5,-120.16\"/>\n",
       "</g>\n",
       "<!-- 10 -->\n",
       "<g id=\"node11\" class=\"node\">\n",
       "<title>10</title>\n",
       "<polygon fill=\"lightyellow\" stroke=\"transparent\" points=\"142.5,-105 31.5,-105 31.5,-73 142.5,-73 142.5,-105\"/>\n",
       "<polygon fill=\"none\" stroke=\"black\" points=\"32,-73 32,-105 111,-105 111,-73 32,-73\"/>\n",
       "<text text-anchor=\"start\" x=\"37\" y=\"-92\" font-family=\"Linux libertine\" font-size=\"10.00\">output&#45;tensor</text>\n",
       "<text text-anchor=\"start\" x=\"53\" y=\"-81\" font-family=\"Linux libertine\" font-size=\"10.00\">depth:0</text>\n",
       "<polygon fill=\"none\" stroke=\"black\" points=\"111,-73 111,-105 143,-105 143,-73 111,-73\"/>\n",
       "<text text-anchor=\"start\" x=\"116\" y=\"-86.5\" font-family=\"Linux libertine\" font-size=\"10.00\">(9,)</text>\n",
       "</g>\n",
       "<!-- 9&#45;&gt;10 -->\n",
       "<g id=\"edge11\" class=\"edge\">\n",
       "<title>9&#45;&gt;10</title>\n",
       "<path fill=\"none\" stroke=\"black\" d=\"M87,-145.63C87,-136.33 87,-125.22 87,-115.39\"/>\n",
       "<polygon fill=\"black\" stroke=\"black\" points=\"90.5,-115.36 87,-105.36 83.5,-115.36 90.5,-115.36\"/>\n",
       "</g>\n",
       "<!-- 12 -->\n",
       "<g id=\"node13\" class=\"node\">\n",
       "<title>12</title>\n",
       "<polygon fill=\"lightyellow\" stroke=\"transparent\" points=\"308.5,-32 197.5,-32 197.5,0 308.5,0 308.5,-32\"/>\n",
       "<polygon fill=\"none\" stroke=\"black\" points=\"198,0 198,-32 277,-32 277,0 198,0\"/>\n",
       "<text text-anchor=\"start\" x=\"203\" y=\"-19\" font-family=\"Linux libertine\" font-size=\"10.00\">output&#45;tensor</text>\n",
       "<text text-anchor=\"start\" x=\"219\" y=\"-8\" font-family=\"Linux libertine\" font-size=\"10.00\">depth:0</text>\n",
       "<polygon fill=\"none\" stroke=\"black\" points=\"277,0 277,-32 309,-32 309,0 277,0\"/>\n",
       "<text text-anchor=\"start\" x=\"282\" y=\"-13.5\" font-family=\"Linux libertine\" font-size=\"10.00\">(1,)</text>\n",
       "</g>\n",
       "<!-- 11&#45;&gt;12 -->\n",
       "<g id=\"edge12\" class=\"edge\">\n",
       "<title>11&#45;&gt;12</title>\n",
       "<path fill=\"none\" stroke=\"black\" d=\"M253,-67.84C253,-59.89 253,-50.66 253,-42.26\"/>\n",
       "<polygon fill=\"black\" stroke=\"black\" points=\"256.5,-42.24 253,-32.24 249.5,-42.24 256.5,-42.24\"/>\n",
       "</g>\n",
       "</g>\n",
       "</svg>\n"
      ],
      "text/plain": [
       "<graphviz.graphs.Digraph at 0x7f7bccf6c8e0>"
      ]
     },
     "execution_count": 55,
     "metadata": {},
     "output_type": "execute_result"
    }
   ],
   "source": [
    "# Визаулизация \n",
    "model_graph = draw_graph(\n",
    "    TabularNN(cfg), input_size=[cfg.num_features], expand_nested=True\n",
    ")\n",
    "model_graph.visual_graph"
   ]
  },
  {
   "cell_type": "code",
   "execution_count": 56,
   "metadata": {},
   "outputs": [],
   "source": [
    "# Заново инициализируем классы во избежании ошибок\n",
    "optimizer = torch.optim.Adam(model.parameters(), lr=cfg.lr)\n",
    "regression_criterion = nn.MSELoss().to(cfg.device)\n",
    "classification_criterion = nn.CrossEntropyLoss().to(cfg.device)\n",
    "writer = SummaryWriter()"
   ]
  },
  {
   "cell_type": "code",
   "execution_count": 57,
   "metadata": {},
   "outputs": [
    {
     "name": "stdout",
     "output_type": "stream",
     "text": [
      "Epoch 0/39\n",
      "----------\n",
      "train Loss: 0.9758\n",
      "val Loss: 1.1367\n",
      "Epoch 2/39\n",
      "----------\n",
      "train Loss: 0.9180\n",
      "val Loss: 1.1473\n",
      "Epoch 4/39\n",
      "----------\n",
      "train Loss: 0.9145\n",
      "val Loss: 1.1266\n",
      "Epoch 6/39\n",
      "----------\n",
      "train Loss: 0.9048\n",
      "val Loss: 1.1342\n",
      "Stopped by early_stopping. Epoch: 7\n"
     ]
    }
   ],
   "source": [
    "model_ft = train_model(\n",
    "    model,\n",
    "    dataloaders_dict,\n",
    "    regression_criterion,\n",
    "    classification_criterion,\n",
    "    optimizer,\n",
    "    num_epochs=cfg.epochs,\n",
    ")"
   ]
  },
  {
   "cell_type": "markdown",
   "metadata": {},
   "source": [
    "<div class=\"alert alert-info\">\n",
    "\n",
    "Теперь мы можем сравнить два эскперимента, выбрав их галочкой и нажав `Compare`:\n",
    "\n",
    "![ClearML Compare](https://i.imgur.com/0Gyd7yL.png)"
   ]
  },
  {
   "cell_type": "markdown",
   "metadata": {},
   "source": [
    "# <center id=5> 📝 Подведём итоги </center>\n",
    "\n",
    "<div class=\"alert alert-success\">\n",
    "\n",
    "\n",
    "* Запустили свой первый эксперимент в `ClearML` за 2 строчки кода 💯\n",
    "* Залогировали модель, ничего не делая 😜\n",
    "* Умеем сравнивать модели, не ломая глаза"
   ]
  },
  {
   "cell_type": "markdown",
   "metadata": {},
   "source": [
    "<div class=\"alert alert-info\">\n",
    "\n",
    "+ С помощью `ClearML` можно логировать обучение любых **ML** и **DL** моделей.\n",
    "+ Фрэймворк поддерживается большинством популярных библиотек машинного обучения.\n",
    "+ Это стартовый ноутбук, полный функционал изучим в следующих модулях."
   ]
  }
 ],
 "metadata": {
  "kaggle": {
   "accelerator": "none",
   "dataSources": [
    {
     "databundleVersionId": 5003970,
     "sourceId": 42420,
     "sourceType": "competition"
    },
    {
     "datasetId": 5505288,
     "sourceId": 9119962,
     "sourceType": "datasetVersion"
    }
   ],
   "dockerImageVersionId": 30746,
   "isGpuEnabled": false,
   "isInternetEnabled": true,
   "language": "python",
   "sourceType": "notebook"
  },
  "kernelspec": {
   "display_name": "cv",
   "language": "python",
   "name": "python3"
  },
  "language_info": {
   "codemirror_mode": {
    "name": "ipython",
    "version": 3
   },
   "file_extension": ".py",
   "mimetype": "text/x-python",
   "name": "python",
   "nbconvert_exporter": "python",
   "pygments_lexer": "ipython3",
   "version": "3.10.12"
  }
 },
 "nbformat": 4,
 "nbformat_minor": 4
}
