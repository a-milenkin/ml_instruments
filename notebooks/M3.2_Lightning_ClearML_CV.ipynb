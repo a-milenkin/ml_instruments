{
 "cells": [
  {
   "cell_type": "markdown",
   "metadata": {},
   "source": [
    "# <center> <h1> [🧶 Связка `Lightning` + `ClearML` в CV. 🖼](https://stepik.org/lesson/1500763/step/1?unit=1520877)"
   ]
  },
  {
   "cell_type": "markdown",
   "metadata": {
    "jp-MarkdownHeadingCollapsed": true
   },
   "source": [
    "### Оглавление ноутбука\n",
    "<img src='https://i.pinimg.com/originals/8b/1f/3b/8b1f3bc02301ab06c15fe48b84de4c48.gif' align=\"right\" width=\"508\" height=\"428\" >\n",
    "<br>\n",
    "\n",
    "<p><font size=\"3\" face=\"Arial\" font-size=\"large\"><ul type=\"square\">\n",
    "    \n",
    "<li><a href=\"#p2\">🎨 Задача классификации изображений</a></li>\n",
    "<li><a href=\"#p7\">🎛 Файнтюнинг предобученной модели.</a></li>\n",
    "<li><a href=\"#p3\">🧶 Связка в задаче семантической сегментации 🧩</a></li>\n",
    "<li><a href=\"#p6\">🧸 Выводы и заключения ✅ </a></li>\n",
    "\n",
    "\n",
    "    \n",
    "</ul></font></p>"
   ]
  },
  {
   "cell_type": "markdown",
   "metadata": {},
   "source": [
    "### <center> 🧑‍🎓Разберем как связка **PyTorch Lightning** c **ClearML** может работать в CV-задачах. 🪄"
   ]
  },
  {
   "cell_type": "markdown",
   "metadata": {},
   "source": [
    "<div class=\"alert alert-info\">\n",
    "\n",
    "Связка **ClearML** с **PyTorch Lightning** так же отлично показывает себя в задачах из CV-домена.\n",
    "\n",
    "* Удобно отслеживать прогресс обучения сетки, особенно, при обучении на удалённых севрверах, а не в ноутбуках.\n",
    "* Легко запустить файнтюнинг предобученного бэкбона\n",
    "* Даже можно отслеживать прогресс обучения генеративных моделей (GAN и.т.п)\n",
    "* Плюс все преимущества, которые рассматривали в прошлом уроке."
   ]
  },
  {
   "cell_type": "markdown",
   "metadata": {},
   "source": [
    "###  <center> Установка библиотек и подгрузка ключей"
   ]
  },
  {
   "cell_type": "code",
   "execution_count": 8,
   "metadata": {},
   "outputs": [],
   "source": [
    "!pip install clearml tensorboard lightning torchvision torchmetrics -q"
   ]
  },
  {
   "cell_type": "code",
   "execution_count": 9,
   "metadata": {},
   "outputs": [],
   "source": [
    "import logging\n",
    "import os\n",
    "\n",
    "import matplotlib.pyplot as plt\n",
    "import numpy as np\n",
    "import pandas as pd\n",
    "\n",
    "import torch\n",
    "from torch import nn, optim\n",
    "from torch.utils.data import DataLoader\n",
    "from torchmetrics import Accuracy\n",
    "import torch.nn.functional as F\n",
    "import torchvision.datasets as datasets\n",
    "import torchvision.models as models\n",
    "import torchvision.transforms as transforms\n",
    "\n",
    "from lightning import LightningModule, Trainer, seed_everything\n",
    "from lightning.pytorch.callbacks import LearningRateMonitor, ModelCheckpoint\n",
    "from lightning.pytorch.loggers import TensorBoardLogger"
   ]
  },
  {
   "cell_type": "code",
   "execution_count": null,
   "metadata": {},
   "outputs": [],
   "source": [
    "# from getpass import getpass\n",
    "# Введите поочерёдно полученные ключи в появившемся окне (код изменять не нужно)\n",
    "# access_key = getpass(prompt=\"Введите API Access токен: \")\n",
    "# secret_key = getpass(prompt=\"Введите API Secret токен: \")"
   ]
  },
  {
   "cell_type": "code",
   "execution_count": null,
   "metadata": {
    "jupyter": {
     "source_hidden": true
    }
   },
   "outputs": [],
   "source": [
    "# %%capture\n",
    "# #  Не показывать свои api-ключи\n",
    "# %env CLEARML_WEB_HOST=https://app.clear.ml/\n",
    "# %env CLEARML_API_HOST=https://api.clear.ml\n",
    "# %env CLEARML_FILES_HOST=https://files.clear.ml\n",
    "\n",
    "# %env CLEARML_API_ACCESS_KEY=$access_key\n",
    "# %env CLEARML_API_SECRET_KEY=$secret_key"
   ]
  },
  {
   "cell_type": "code",
   "execution_count": 10,
   "metadata": {},
   "outputs": [
    {
     "name": "stdout",
     "output_type": "stream",
     "text": [
      "env: CLEARML_WEB_HOST=https://app.clear.ml/\n",
      "env: CLEARML_API_HOST=https://api.clear.ml\n",
      "env: CLEARML_FILES_HOST=https://files.clear.ml\n",
      "env: CLEARML_API_ACCESS_KEY=UR73VVAQC4EUA46EA09ZMIM08YT21P\n",
      "env: CLEARML_API_SECRET_KEY=ZC2NeA8YNAxcEfepGgjZ9RTI0yJNx1E24R3W3dqYx4P5LWTRFOWuwCQhHB2pSwCxMvg\n"
     ]
    }
   ],
   "source": [
    "%env CLEARML_WEB_HOST=https://app.clear.ml/\n",
    "%env CLEARML_API_HOST=https://api.clear.ml\n",
    "%env CLEARML_FILES_HOST=https://files.clear.ml\n",
    "%env CLEARML_API_ACCESS_KEY=UR73VVAQC4EUA46EA09ZMIM08YT21P\n",
    "%env CLEARML_API_SECRET_KEY=ZC2NeA8YNAxcEfepGgjZ9RTI0yJNx1E24R3W3dqYx4P5LWTRFOWuwCQhHB2pSwCxMvg"
   ]
  },
  {
   "cell_type": "markdown",
   "metadata": {},
   "source": [
    "# <center> 🎨 Задача классификации изображений </center>"
   ]
  },
  {
   "cell_type": "markdown",
   "metadata": {},
   "source": [
    "<div class=\"alert alert-info\">\n",
    "\n",
    "Подключаем наш родной СlearML и сразу загружаем в него конфиг"
   ]
  },
  {
   "cell_type": "code",
   "execution_count": 11,
   "metadata": {},
   "outputs": [
    {
     "name": "stdout",
     "output_type": "stream",
     "text": [
      "ClearML Task: created new task id=5bb19febe47c4d6dbf3345044a85514c\n",
      "2025-04-15 23:49:59,839 - clearml.Task - INFO - Storing jupyter notebook directly as code\n",
      "ClearML results page: https://app.clear.ml/projects/05a161c5d9a4441682554ceef036ed08/experiments/5bb19febe47c4d6dbf3345044a85514c/output/log\n"
     ]
    }
   ],
   "source": [
    "from clearml import Task\n",
    "\n",
    "# Инициализация задачи в ClearML\n",
    "task = Task.init(\n",
    "    project_name=\"Image Classification\",\n",
    "    task_name=\"CIFAR10 Training with Image Logging\",\n",
    "    task_type=Task.TaskTypes.training,\n",
    ")"
   ]
  },
  {
   "cell_type": "code",
   "execution_count": 12,
   "metadata": {},
   "outputs": [
    {
     "name": "stdout",
     "output_type": "stream",
     "text": [
      "Hyperparameters: {'num_epochs': 3, 'batch_size': 24, 'learning_rate': 0.001, 'dropout_rate': 0.25, 'num_images_to_log': 5}\n"
     ]
    }
   ],
   "source": [
    "config = {\n",
    "    \"num_epochs\": 3,\n",
    "    \"batch_size\": 24,\n",
    "    \"learning_rate\": 0.001,\n",
    "    \"dropout_rate\": 0.25,\n",
    "    \"num_images_to_log\": 5,  # Количество изображений для логирования\n",
    "}\n",
    "config = task.connect(config)  # Добавление гиперпараметров в ClearML\n",
    "print(\"Hyperparameters:\", config)"
   ]
  },
  {
   "cell_type": "markdown",
   "metadata": {},
   "source": [
    "<div class=\"alert alert-info\">\n",
    "\n",
    "Напишем и обучим собственную сетку на датасете `CIFAR10`!"
   ]
  },
  {
   "cell_type": "markdown",
   "metadata": {},
   "source": [
    "Используем датасет CIFAR10"
   ]
  },
  {
   "cell_type": "code",
   "execution_count": 13,
   "metadata": {},
   "outputs": [],
   "source": [
    "# Классы CIFAR-10\n",
    "classes = (\n",
    "    \"plane\",\n",
    "    \"car\",\n",
    "    \"bird\",\n",
    "    \"cat\",\n",
    "    \"deer\",\n",
    "    \"dog\",\n",
    "    \"frog\",\n",
    "    \"horse\",\n",
    "    \"ship\",\n",
    "    \"truck\",\n",
    ")"
   ]
  },
  {
   "cell_type": "code",
   "execution_count": 14,
   "metadata": {},
   "outputs": [
    {
     "name": "stdout",
     "output_type": "stream",
     "text": [
      "Files already downloaded and verified\n",
      "Files already downloaded and verified\n"
     ]
    }
   ],
   "source": [
    "# Подготовка данных\n",
    "transform = transforms.Compose([transforms.ToTensor()])\n",
    "\n",
    "train_dataset = datasets.CIFAR10(\n",
    "    root=\"./data\", train=True, download=True, transform=transform\n",
    ")\n",
    "test_dataset = datasets.CIFAR10(\n",
    "    root=\"./data\", train=False, download=True, transform=transform\n",
    ")"
   ]
  },
  {
   "cell_type": "code",
   "execution_count": 15,
   "metadata": {},
   "outputs": [],
   "source": [
    "# Подготовка даталоадера\n",
    "train_loader = DataLoader(\n",
    "    train_dataset, batch_size=config[\"batch_size\"], shuffle=True, num_workers=2\n",
    ")\n",
    "val_loader = DataLoader(\n",
    "    test_dataset, batch_size=config[\"batch_size\"], shuffle=False, num_workers=2\n",
    ")"
   ]
  },
  {
   "cell_type": "markdown",
   "metadata": {},
   "source": [
    "## <center> 💃 Модель (соберём простую архитектуру из 2-х Convolution слоёв)"
   ]
  },
  {
   "cell_type": "code",
   "execution_count": 16,
   "metadata": {},
   "outputs": [],
   "source": [
    "class CIFAR10Model(LightningModule):\n",
    "    def __init__(self, num_classes=10, dropout_rate=0.25, learning_rate=0.001):\n",
    "        super().__init__()\n",
    "        self.save_hyperparameters()\n",
    "        self.model = nn.Sequential(\n",
    "            nn.Conv2d(3, 6, kernel_size=3),\n",
    "            nn.ReLU(),\n",
    "            nn.MaxPool2d(kernel_size=2, stride=2),\n",
    "            nn.Conv2d(6, 16, kernel_size=3),\n",
    "            nn.ReLU(),\n",
    "            nn.MaxPool2d(kernel_size=2, stride=2),\n",
    "            nn.Flatten(),\n",
    "            nn.Linear(16 * 6 * 6, 120),\n",
    "            nn.ReLU(),\n",
    "            nn.Linear(120, 84),\n",
    "            nn.ReLU(),\n",
    "            nn.Dropout(p=dropout_rate),\n",
    "            nn.Linear(84, num_classes),\n",
    "        )\n",
    "        self.loss_fn = nn.CrossEntropyLoss()\n",
    "        self.accuracy = Accuracy(task=\"multiclass\", num_classes=num_classes, top_k=1)\n",
    "\n",
    "    def forward(self, x):\n",
    "        return self.model(x)\n",
    "\n",
    "    def training_step(self, batch, batch_idx):\n",
    "        inputs, labels = batch\n",
    "        outputs = self(inputs)\n",
    "        loss = self.loss_fn(outputs, labels)\n",
    "        self.log(\"train_loss\", loss, on_step=True, on_epoch=True)\n",
    "        task.get_logger().report_scalar(\"Loss\", \"train\", loss.item(), self.global_step)\n",
    "        return loss\n",
    "\n",
    "    def validation_step(self, batch, batch_idx):\n",
    "        inputs, labels = batch\n",
    "        outputs = self(inputs)\n",
    "        loss = self.loss_fn(outputs, labels)\n",
    "        acc = self.accuracy(outputs, labels)\n",
    "        self.log(\"val_loss\", loss, on_step=False, on_epoch=True)\n",
    "        self.log(\"val_acc\", acc, on_step=False, on_epoch=True)\n",
    "        task.get_logger().report_scalar(\"Loss\", \"val\", loss.item(), self.global_step)\n",
    "        task.get_logger().report_scalar(\"Accuracy\", \"val\", acc.item(), self.global_step)\n",
    "\n",
    "        # Логирование изображений\n",
    "        if batch_idx == 0:  # Логируем только для первого батча\n",
    "            _, predicted = outputs.max(1)\n",
    "            for i in range(min(len(inputs), config[\"num_images_to_log\"])):\n",
    "                img = transforms.ToPILImage()(inputs[i].cpu())\n",
    "                pred_label = predicted[i].item()\n",
    "                true_label = labels[i].item()\n",
    "                title = f\"True: {classes[true_label]}, Pred: {classes[pred_label]}\"\n",
    "                # Берём логгер из ClearML и его метод report_image()\n",
    "                task.get_logger().report_image(\n",
    "                    title=title,\n",
    "                    series=f\"Batch {self.current_epoch}\",\n",
    "                    iteration=self.global_step,\n",
    "                    image=img,\n",
    "                )\n",
    "\n",
    "    def configure_optimizers(self):\n",
    "        return optim.SGD(self.parameters(), lr=self.hparams.learning_rate, momentum=0.9)"
   ]
  },
  {
   "cell_type": "markdown",
   "metadata": {},
   "source": [
    "### <center> 🚀 Запускаем обучение через тренера 💪"
   ]
  },
  {
   "cell_type": "code",
   "execution_count": 17,
   "metadata": {},
   "outputs": [],
   "source": [
    "# Callbacks для мониторинга\n",
    "callbacks = [\n",
    "    ModelCheckpoint(monitor=\"val_acc\", mode=\"max\", save_top_k=1),\n",
    "    LearningRateMonitor(logging_interval=\"step\"),\n",
    "]"
   ]
  },
  {
   "cell_type": "code",
   "execution_count": 18,
   "metadata": {},
   "outputs": [
    {
     "name": "stderr",
     "output_type": "stream",
     "text": [
      "Seed set to 42\n"
     ]
    },
    {
     "data": {
      "text/plain": [
       "42"
      ]
     },
     "execution_count": 18,
     "metadata": {},
     "output_type": "execute_result"
    }
   ],
   "source": [
    "seed_everything(42)"
   ]
  },
  {
   "cell_type": "code",
   "execution_count": 19,
   "metadata": {},
   "outputs": [
    {
     "name": "stderr",
     "output_type": "stream",
     "text": [
      "Trainer will use only 1 of 2 GPUs because it is running inside an interactive / notebook environment. You may try to set `Trainer(devices=2)` but please note that multi-GPU inside interactive / notebook environments is considered experimental and unstable. Your mileage may vary.\n",
      "GPU available: True (cuda), used: True\n",
      "TPU available: False, using: 0 TPU cores\n",
      "HPU available: False, using: 0 HPUs\n"
     ]
    }
   ],
   "source": [
    "trainer = Trainer(\n",
    "    max_epochs=config[\"num_epochs\"],\n",
    "    accelerator=\"gpu\" if torch.cuda.is_available() else \"cpu\",\n",
    "    devices=\"auto\",\n",
    "    callbacks=callbacks,\n",
    "    log_every_n_steps=50,\n",
    ")"
   ]
  },
  {
   "cell_type": "code",
   "execution_count": 20,
   "metadata": {},
   "outputs": [
    {
     "name": "stderr",
     "output_type": "stream",
     "text": [
      "You are using a CUDA device ('NVIDIA GeForce RTX 3090') that has Tensor Cores. To properly utilize them, you should set `torch.set_float32_matmul_precision('medium' | 'high')` which will trade-off precision for performance. For more details, read https://pytorch.org/docs/stable/generated/torch.set_float32_matmul_precision.html#torch.set_float32_matmul_precision\n",
      "LOCAL_RANK: 0 - CUDA_VISIBLE_DEVICES: [0,1]\n",
      "\n",
      "  | Name     | Type               | Params | Mode \n",
      "--------------------------------------------------------\n",
      "0 | model    | Sequential         | 81.3 K | train\n",
      "1 | loss_fn  | CrossEntropyLoss   | 0      | train\n",
      "2 | accuracy | MulticlassAccuracy | 0      | train\n",
      "--------------------------------------------------------\n",
      "81.3 K    Trainable params\n",
      "0         Non-trainable params\n",
      "81.3 K    Total params\n",
      "0.325     Total estimated model params size (MB)\n",
      "16        Modules in train mode\n",
      "0         Modules in eval mode\n"
     ]
    },
    {
     "data": {
      "application/vnd.jupyter.widget-view+json": {
       "model_id": "42327c1fcac7407cbc0888abeed3d084",
       "version_major": 2,
       "version_minor": 0
      },
      "text/plain": [
       "Sanity Checking: |          | 0/? [00:00<?, ?it/s]"
      ]
     },
     "metadata": {},
     "output_type": "display_data"
    },
    {
     "data": {
      "application/vnd.jupyter.widget-view+json": {
       "model_id": "86bb00f2bbd64afaaa53bf2f9ee3b297",
       "version_major": 2,
       "version_minor": 0
      },
      "text/plain": [
       "Training: |          | 0/? [00:00<?, ?it/s]"
      ]
     },
     "metadata": {},
     "output_type": "display_data"
    },
    {
     "data": {
      "application/vnd.jupyter.widget-view+json": {
       "model_id": "7c9d6c7e80bf40178b3512bb2d6acb35",
       "version_major": 2,
       "version_minor": 0
      },
      "text/plain": [
       "Validation: |          | 0/? [00:00<?, ?it/s]"
      ]
     },
     "metadata": {},
     "output_type": "display_data"
    },
    {
     "data": {
      "application/vnd.jupyter.widget-view+json": {
       "model_id": "1062062448904a69b8e9d1ffa92d9c46",
       "version_major": 2,
       "version_minor": 0
      },
      "text/plain": [
       "Validation: |          | 0/? [00:00<?, ?it/s]"
      ]
     },
     "metadata": {},
     "output_type": "display_data"
    },
    {
     "data": {
      "application/vnd.jupyter.widget-view+json": {
       "model_id": "6674401c1b6646418c346d62ea3521d3",
       "version_major": 2,
       "version_minor": 0
      },
      "text/plain": [
       "Validation: |          | 0/? [00:00<?, ?it/s]"
      ]
     },
     "metadata": {},
     "output_type": "display_data"
    },
    {
     "name": "stderr",
     "output_type": "stream",
     "text": [
      "`Trainer.fit` stopped: `max_epochs=3` reached.\n"
     ]
    }
   ],
   "source": [
    "# Запуск обучения\n",
    "model = CIFAR10Model(\n",
    "    dropout_rate=config[\"dropout_rate\"], learning_rate=config[\"learning_rate\"]\n",
    ")\n",
    "trainer.fit(model, train_loader, val_loader)"
   ]
  },
  {
   "cell_type": "code",
   "execution_count": 21,
   "metadata": {},
   "outputs": [],
   "source": [
    "# Не забываем закрыть таск\n",
    "task.close()"
   ]
  },
  {
   "cell_type": "code",
   "execution_count": 22,
   "metadata": {},
   "outputs": [
    {
     "data": {
      "text/plain": [
       "'https://app.clear.ml/projects/05a161c5d9a4441682554ceef036ed08/experiments/5bb19febe47c4d6dbf3345044a85514c/output/log'"
      ]
     },
     "execution_count": 22,
     "metadata": {},
     "output_type": "execute_result"
    }
   ],
   "source": [
    "task.get_output_log_web_page()"
   ]
  },
  {
   "cell_type": "markdown",
   "metadata": {},
   "source": [
    "\n",
    "<div class=\"alert alert-success\">\n",
    "\n",
    "* Если перейти на вкладку `DEBUG SAMPLES` экспермента увидим, что с простой архитектурой модель совсем плохо научилась определять классы изображений\n",
    "  \n",
    "<img src='../images/cifnet.png' align=\"center\" height=\"428\" >"
   ]
  },
  {
   "cell_type": "markdown",
   "metadata": {},
   "source": [
    "# <center> 🎛 Файнтюнинг предобученной модели. </center>"
   ]
  },
  {
   "cell_type": "markdown",
   "metadata": {},
   "source": [
    "<div class=\"alert alert-info\">\n",
    "\n",
    "  \n",
    "* Далее попробуем взять предобученный бэкбон `ResNet18`\n",
    "* Заодно посмотрим как можно реализовать `Transfer Learning` на `Lightning`!\n",
    "* Сперва все так же делаем подготовку конфига **ClearML**"
   ]
  },
  {
   "cell_type": "code",
   "execution_count": 23,
   "metadata": {},
   "outputs": [
    {
     "name": "stdout",
     "output_type": "stream",
     "text": [
      "ClearML Task: created new task id=34790ff7ccbc492783af2998217e1d6d\n",
      "ClearML results page: https://app.clear.ml/projects/05a161c5d9a4441682554ceef036ed08/experiments/34790ff7ccbc492783af2998217e1d6d/output/log\n",
      "ClearML Monitor: Could not detect iteration reporting, falling back to iterations as seconds-from-start\n"
     ]
    }
   ],
   "source": [
    "from clearml import Task\n",
    "\n",
    "# ✅ Инициализация ClearML Task\n",
    "task = Task.init(\n",
    "    project_name=\"Image Classification\",\n",
    "    task_name=\"Fine-tuning ResNet18 on CIFAR10\",\n",
    "    task_type=Task.TaskTypes.training,\n",
    ")"
   ]
  },
  {
   "cell_type": "code",
   "execution_count": 24,
   "metadata": {},
   "outputs": [
    {
     "name": "stdout",
     "output_type": "stream",
     "text": [
      "Hyperparameters: {'num_epochs': 10, 'batch_size': 32, 'learning_rate': 0.001, 'fine_tune_start_epoch': 5, 'num_classes': 10, 'num_images_to_log': 5}\n"
     ]
    }
   ],
   "source": [
    "# ✅ Гиперпараметры\n",
    "config = {\n",
    "    \"num_epochs\": 10,\n",
    "    \"batch_size\": 32,\n",
    "    \"learning_rate\": 1e-3,\n",
    "    \"fine_tune_start_epoch\": 5,  # С какой эпохи размораживать бэкбон\n",
    "    \"num_classes\": 10,\n",
    "    \"num_images_to_log\": 5,  # Логирование картинок в ClearML\n",
    "}\n",
    "config = task.connect(config)\n",
    "print(\"Hyperparameters:\", config)"
   ]
  },
  {
   "cell_type": "markdown",
   "metadata": {},
   "source": [
    "## <center> 🤰 Модель (возьмём предобученный бэкбон ResNet18)"
   ]
  },
  {
   "cell_type": "markdown",
   "metadata": {},
   "source": [
    "<div class=\"alert alert-info\">\n",
    "\n",
    "**🔹 Как работает Fine-Tuning?**\n",
    "* В первые `fine_tune_start_epoch` эпохи тренируется только последний слой (fc).\n",
    "* Затем размораживается весь `ResNet18` и обучается вся модель.\n",
    "* 🔥 Это стандартный подход в `Transfer Learning`, который делает `fine-tuning` эффективнее и стабильнее! 🚀"
   ]
  },
  {
   "cell_type": "code",
   "execution_count": 27,
   "metadata": {},
   "outputs": [],
   "source": [
    "# ✅ Lightning-модель для обучения ResNet18\n",
    "class FineTuneResNet(LightningModule):\n",
    "    def __init__(self, num_classes=10, learning_rate=1e-3, fine_tune_start_epoch=5):\n",
    "        super().__init__()\n",
    "        self.save_hyperparameters()\n",
    "\n",
    "        # Загружаем предобученный ResNet18\n",
    "        self.model = models.resnet18(pretrained=True)\n",
    "\n",
    "        # Заменяем последний слой на 10 классов (CIFAR-10)\n",
    "        in_features = self.model.fc.in_features\n",
    "        self.model.fc = nn.Linear(in_features, num_classes)\n",
    "\n",
    "        # Замораживаем веса бэкбона (кроме fc)\n",
    "        for param in self.model.parameters():\n",
    "            param.requires_grad = False\n",
    "\n",
    "        for param in self.model.fc.parameters():\n",
    "            param.requires_grad = True\n",
    "\n",
    "        self.loss_fn = nn.CrossEntropyLoss()\n",
    "\n",
    "    def forward(self, x):\n",
    "        return self.model(x)\n",
    "\n",
    "    def training_step(self, batch, batch_idx):\n",
    "        inputs, labels = batch\n",
    "        outputs = self(inputs)\n",
    "        loss = self.loss_fn(outputs, labels)\n",
    "        self.log(\"train_loss\", loss, on_step=True, on_epoch=True)\n",
    "\n",
    "        # Логирование в ClearML\n",
    "        task.get_logger().report_scalar(\"Loss\", \"train\", loss.item(), self.global_step)\n",
    "\n",
    "        return loss\n",
    "\n",
    "    def validation_step(self, batch, batch_idx):\n",
    "        inputs, labels = batch\n",
    "        outputs = self(inputs)\n",
    "        loss = self.loss_fn(outputs, labels)\n",
    "        acc = (outputs.argmax(dim=1) == labels).float().mean()\n",
    "\n",
    "        self.log(\"val_loss\", loss, on_epoch=True)\n",
    "        self.log(\"val_acc\", acc, on_epoch=True)\n",
    "\n",
    "        task.get_logger().report_scalar(\"Loss\", \"val\", loss.item(), self.global_step)\n",
    "        task.get_logger().report_scalar(\"Accuracy\", \"val\", acc.item(), self.global_step)\n",
    "\n",
    "        # Логирование изображений в ClearML\n",
    "        if batch_idx == 0:\n",
    "            _, predicted = outputs.max(1)\n",
    "            for i in range(min(len(inputs), config[\"num_images_to_log\"])):\n",
    "                img = transforms.ToPILImage()(inputs[i].cpu())\n",
    "                pred_label = predicted[i].item()\n",
    "                true_label = labels[i].item()\n",
    "                title = f\"True: {classes[true_label]}, Pred: {classes[pred_label]}\"\n",
    "                task.get_logger().report_image(\n",
    "                    title=title,\n",
    "                    series=f\"Epoch {self.current_epoch}\",\n",
    "                    iteration=self.global_step,\n",
    "                    image=img,\n",
    "                )\n",
    "\n",
    "    def configure_optimizers(self):\n",
    "        return optim.Adam(self.model.fc.parameters(), lr=self.hparams.learning_rate)\n",
    "\n",
    "    def on_epoch_start(self):\n",
    "        # Размораживаем бэкбон после N-й эпохи\n",
    "        if self.current_epoch >= self.hparams.fine_tune_start_epoch:\n",
    "            for param in self.model.parameters():\n",
    "                param.requires_grad = True\n",
    "            print(f\"🔓 Разморозка всех слоев модели на {self.current_epoch}-й эпохе\")"
   ]
  },
  {
   "cell_type": "markdown",
   "metadata": {},
   "source": [
    "<div class=\"alert alert-info\">\n",
    "    \n",
    "**🔹 Что делает код?**\n",
    "1. Загружает предобученную `ResNet18` из `torchvision.models`\n",
    "2. Меняет последний слой на 10 классов (CIFAR-10)\n",
    "3. Замораживает веса бэкбона (первые `fine_tune_start_epoch` эпох)\n",
    "4. Размораживает всю модель после `fine_tune_start_epoch`\n",
    "5. Логирует метрики и изображения в `ClearML`\n",
    "6. Сохраняет лучшую модель по `val_acc`"
   ]
  },
  {
   "cell_type": "markdown",
   "metadata": {},
   "source": [
    "<div class=\"alert alert-info\">\n",
    "\n",
    "**🔹 Что логируется в ClearML?**\n",
    "\n",
    "- ✅ Метрики (`train_loss`, `val_loss`, `val_acc`)\n",
    "- ✅ Отладочные изображения с предсказаниями\n",
    "- ✅ Гиперпараметры эксперимента\n",
    "- ✅ Модель с лучшей точностью"
   ]
  },
  {
   "cell_type": "code",
   "execution_count": 28,
   "metadata": {},
   "outputs": [
    {
     "name": "stderr",
     "output_type": "stream",
     "text": [
      "/home/sinarian/venvs/sinara/lib/python3.10/site-packages/torchvision/models/_utils.py:208: UserWarning:\n",
      "\n",
      "The parameter 'pretrained' is deprecated since 0.13 and may be removed in the future, please use 'weights' instead.\n",
      "\n",
      "/home/sinarian/venvs/sinara/lib/python3.10/site-packages/torchvision/models/_utils.py:223: UserWarning:\n",
      "\n",
      "Arguments other than a weight enum or `None` for 'weights' are deprecated since 0.13 and may be removed in the future. The current behavior is equivalent to passing `weights=ResNet18_Weights.IMAGENET1K_V1`. You can also use `weights=ResNet18_Weights.DEFAULT` to get the most up-to-date weights.\n",
      "\n"
     ]
    },
    {
     "data": {
      "text/plain": [
       "FineTuneResNet(\n",
       "  (model): ResNet(\n",
       "    (conv1): Conv2d(3, 64, kernel_size=(7, 7), stride=(2, 2), padding=(3, 3), bias=False)\n",
       "    (bn1): BatchNorm2d(64, eps=1e-05, momentum=0.1, affine=True, track_running_stats=True)\n",
       "    (relu): ReLU(inplace=True)\n",
       "    (maxpool): MaxPool2d(kernel_size=3, stride=2, padding=1, dilation=1, ceil_mode=False)\n",
       "    (layer1): Sequential(\n",
       "      (0): BasicBlock(\n",
       "        (conv1): Conv2d(64, 64, kernel_size=(3, 3), stride=(1, 1), padding=(1, 1), bias=False)\n",
       "        (bn1): BatchNorm2d(64, eps=1e-05, momentum=0.1, affine=True, track_running_stats=True)\n",
       "        (relu): ReLU(inplace=True)\n",
       "        (conv2): Conv2d(64, 64, kernel_size=(3, 3), stride=(1, 1), padding=(1, 1), bias=False)\n",
       "        (bn2): BatchNorm2d(64, eps=1e-05, momentum=0.1, affine=True, track_running_stats=True)\n",
       "      )\n",
       "      (1): BasicBlock(\n",
       "        (conv1): Conv2d(64, 64, kernel_size=(3, 3), stride=(1, 1), padding=(1, 1), bias=False)\n",
       "        (bn1): BatchNorm2d(64, eps=1e-05, momentum=0.1, affine=True, track_running_stats=True)\n",
       "        (relu): ReLU(inplace=True)\n",
       "        (conv2): Conv2d(64, 64, kernel_size=(3, 3), stride=(1, 1), padding=(1, 1), bias=False)\n",
       "        (bn2): BatchNorm2d(64, eps=1e-05, momentum=0.1, affine=True, track_running_stats=True)\n",
       "      )\n",
       "    )\n",
       "    (layer2): Sequential(\n",
       "      (0): BasicBlock(\n",
       "        (conv1): Conv2d(64, 128, kernel_size=(3, 3), stride=(2, 2), padding=(1, 1), bias=False)\n",
       "        (bn1): BatchNorm2d(128, eps=1e-05, momentum=0.1, affine=True, track_running_stats=True)\n",
       "        (relu): ReLU(inplace=True)\n",
       "        (conv2): Conv2d(128, 128, kernel_size=(3, 3), stride=(1, 1), padding=(1, 1), bias=False)\n",
       "        (bn2): BatchNorm2d(128, eps=1e-05, momentum=0.1, affine=True, track_running_stats=True)\n",
       "        (downsample): Sequential(\n",
       "          (0): Conv2d(64, 128, kernel_size=(1, 1), stride=(2, 2), bias=False)\n",
       "          (1): BatchNorm2d(128, eps=1e-05, momentum=0.1, affine=True, track_running_stats=True)\n",
       "        )\n",
       "      )\n",
       "      (1): BasicBlock(\n",
       "        (conv1): Conv2d(128, 128, kernel_size=(3, 3), stride=(1, 1), padding=(1, 1), bias=False)\n",
       "        (bn1): BatchNorm2d(128, eps=1e-05, momentum=0.1, affine=True, track_running_stats=True)\n",
       "        (relu): ReLU(inplace=True)\n",
       "        (conv2): Conv2d(128, 128, kernel_size=(3, 3), stride=(1, 1), padding=(1, 1), bias=False)\n",
       "        (bn2): BatchNorm2d(128, eps=1e-05, momentum=0.1, affine=True, track_running_stats=True)\n",
       "      )\n",
       "    )\n",
       "    (layer3): Sequential(\n",
       "      (0): BasicBlock(\n",
       "        (conv1): Conv2d(128, 256, kernel_size=(3, 3), stride=(2, 2), padding=(1, 1), bias=False)\n",
       "        (bn1): BatchNorm2d(256, eps=1e-05, momentum=0.1, affine=True, track_running_stats=True)\n",
       "        (relu): ReLU(inplace=True)\n",
       "        (conv2): Conv2d(256, 256, kernel_size=(3, 3), stride=(1, 1), padding=(1, 1), bias=False)\n",
       "        (bn2): BatchNorm2d(256, eps=1e-05, momentum=0.1, affine=True, track_running_stats=True)\n",
       "        (downsample): Sequential(\n",
       "          (0): Conv2d(128, 256, kernel_size=(1, 1), stride=(2, 2), bias=False)\n",
       "          (1): BatchNorm2d(256, eps=1e-05, momentum=0.1, affine=True, track_running_stats=True)\n",
       "        )\n",
       "      )\n",
       "      (1): BasicBlock(\n",
       "        (conv1): Conv2d(256, 256, kernel_size=(3, 3), stride=(1, 1), padding=(1, 1), bias=False)\n",
       "        (bn1): BatchNorm2d(256, eps=1e-05, momentum=0.1, affine=True, track_running_stats=True)\n",
       "        (relu): ReLU(inplace=True)\n",
       "        (conv2): Conv2d(256, 256, kernel_size=(3, 3), stride=(1, 1), padding=(1, 1), bias=False)\n",
       "        (bn2): BatchNorm2d(256, eps=1e-05, momentum=0.1, affine=True, track_running_stats=True)\n",
       "      )\n",
       "    )\n",
       "    (layer4): Sequential(\n",
       "      (0): BasicBlock(\n",
       "        (conv1): Conv2d(256, 512, kernel_size=(3, 3), stride=(2, 2), padding=(1, 1), bias=False)\n",
       "        (bn1): BatchNorm2d(512, eps=1e-05, momentum=0.1, affine=True, track_running_stats=True)\n",
       "        (relu): ReLU(inplace=True)\n",
       "        (conv2): Conv2d(512, 512, kernel_size=(3, 3), stride=(1, 1), padding=(1, 1), bias=False)\n",
       "        (bn2): BatchNorm2d(512, eps=1e-05, momentum=0.1, affine=True, track_running_stats=True)\n",
       "        (downsample): Sequential(\n",
       "          (0): Conv2d(256, 512, kernel_size=(1, 1), stride=(2, 2), bias=False)\n",
       "          (1): BatchNorm2d(512, eps=1e-05, momentum=0.1, affine=True, track_running_stats=True)\n",
       "        )\n",
       "      )\n",
       "      (1): BasicBlock(\n",
       "        (conv1): Conv2d(512, 512, kernel_size=(3, 3), stride=(1, 1), padding=(1, 1), bias=False)\n",
       "        (bn1): BatchNorm2d(512, eps=1e-05, momentum=0.1, affine=True, track_running_stats=True)\n",
       "        (relu): ReLU(inplace=True)\n",
       "        (conv2): Conv2d(512, 512, kernel_size=(3, 3), stride=(1, 1), padding=(1, 1), bias=False)\n",
       "        (bn2): BatchNorm2d(512, eps=1e-05, momentum=0.1, affine=True, track_running_stats=True)\n",
       "      )\n",
       "    )\n",
       "    (avgpool): AdaptiveAvgPool2d(output_size=(1, 1))\n",
       "    (fc): Linear(in_features=512, out_features=10, bias=True)\n",
       "  )\n",
       "  (loss_fn): CrossEntropyLoss()\n",
       ")"
      ]
     },
     "execution_count": 28,
     "metadata": {},
     "output_type": "execute_result"
    }
   ],
   "source": [
    "model = FineTuneResNet(\n",
    "    num_classes=config[\"num_classes\"],\n",
    "    learning_rate=config[\"learning_rate\"],\n",
    "    fine_tune_start_epoch=config[\"fine_tune_start_epoch\"],\n",
    ")\n",
    "\n",
    "model"
   ]
  },
  {
   "cell_type": "code",
   "execution_count": 29,
   "metadata": {},
   "outputs": [],
   "source": [
    "callbacks = [\n",
    "    ModelCheckpoint(monitor=\"val_acc\", mode=\"max\", save_top_k=1),\n",
    "    LearningRateMonitor(logging_interval=\"step\"),\n",
    "]"
   ]
  },
  {
   "cell_type": "code",
   "execution_count": 30,
   "metadata": {},
   "outputs": [
    {
     "name": "stderr",
     "output_type": "stream",
     "text": [
      "Trainer will use only 1 of 2 GPUs because it is running inside an interactive / notebook environment. You may try to set `Trainer(devices=2)` but please note that multi-GPU inside interactive / notebook environments is considered experimental and unstable. Your mileage may vary.\n",
      "GPU available: True (cuda), used: True\n",
      "TPU available: False, using: 0 TPU cores\n",
      "HPU available: False, using: 0 HPUs\n",
      "LOCAL_RANK: 0 - CUDA_VISIBLE_DEVICES: [0,1]\n",
      "\n",
      "  | Name    | Type             | Params | Mode \n",
      "-----------------------------------------------------\n",
      "0 | model   | ResNet           | 11.2 M | train\n",
      "1 | loss_fn | CrossEntropyLoss | 0      | train\n",
      "-----------------------------------------------------\n",
      "5.1 K     Trainable params\n",
      "11.2 M    Non-trainable params\n",
      "11.2 M    Total params\n",
      "44.727    Total estimated model params size (MB)\n",
      "69        Modules in train mode\n",
      "0         Modules in eval mode\n"
     ]
    },
    {
     "data": {
      "application/vnd.jupyter.widget-view+json": {
       "model_id": "82e1261ba0534035bfb44fd96e910903",
       "version_major": 2,
       "version_minor": 0
      },
      "text/plain": [
       "Sanity Checking: |          | 0/? [00:00<?, ?it/s]"
      ]
     },
     "metadata": {},
     "output_type": "display_data"
    },
    {
     "data": {
      "application/vnd.jupyter.widget-view+json": {
       "model_id": "fc0ec652f05e426586154bb5c890d9d4",
       "version_major": 2,
       "version_minor": 0
      },
      "text/plain": [
       "Training: |          | 0/? [00:00<?, ?it/s]"
      ]
     },
     "metadata": {},
     "output_type": "display_data"
    },
    {
     "data": {
      "application/vnd.jupyter.widget-view+json": {
       "model_id": "3365c995a6f7447a9ff70fc892d23113",
       "version_major": 2,
       "version_minor": 0
      },
      "text/plain": [
       "Validation: |          | 0/? [00:00<?, ?it/s]"
      ]
     },
     "metadata": {},
     "output_type": "display_data"
    },
    {
     "data": {
      "application/vnd.jupyter.widget-view+json": {
       "model_id": "7a7dcd65032c4a9ca4f60b52c669f3ab",
       "version_major": 2,
       "version_minor": 0
      },
      "text/plain": [
       "Validation: |          | 0/? [00:00<?, ?it/s]"
      ]
     },
     "metadata": {},
     "output_type": "display_data"
    },
    {
     "data": {
      "application/vnd.jupyter.widget-view+json": {
       "model_id": "3a4db935150046d0969bd8cc99e93ba4",
       "version_major": 2,
       "version_minor": 0
      },
      "text/plain": [
       "Validation: |          | 0/? [00:00<?, ?it/s]"
      ]
     },
     "metadata": {},
     "output_type": "display_data"
    },
    {
     "data": {
      "application/vnd.jupyter.widget-view+json": {
       "model_id": "40434c5ff5d141b2811b3adf94196bc4",
       "version_major": 2,
       "version_minor": 0
      },
      "text/plain": [
       "Validation: |          | 0/? [00:00<?, ?it/s]"
      ]
     },
     "metadata": {},
     "output_type": "display_data"
    },
    {
     "data": {
      "application/vnd.jupyter.widget-view+json": {
       "model_id": "455b5ff768144fe9a31ddcf561721c2d",
       "version_major": 2,
       "version_minor": 0
      },
      "text/plain": [
       "Validation: |          | 0/? [00:00<?, ?it/s]"
      ]
     },
     "metadata": {},
     "output_type": "display_data"
    },
    {
     "data": {
      "application/vnd.jupyter.widget-view+json": {
       "model_id": "5274d15f492a44179502d128197e4e61",
       "version_major": 2,
       "version_minor": 0
      },
      "text/plain": [
       "Validation: |          | 0/? [00:00<?, ?it/s]"
      ]
     },
     "metadata": {},
     "output_type": "display_data"
    },
    {
     "data": {
      "application/vnd.jupyter.widget-view+json": {
       "model_id": "c792aa32a22849f9ae51f5b97d68ec1a",
       "version_major": 2,
       "version_minor": 0
      },
      "text/plain": [
       "Validation: |          | 0/? [00:00<?, ?it/s]"
      ]
     },
     "metadata": {},
     "output_type": "display_data"
    },
    {
     "data": {
      "application/vnd.jupyter.widget-view+json": {
       "model_id": "526acce32e67425c96d163db48b83425",
       "version_major": 2,
       "version_minor": 0
      },
      "text/plain": [
       "Validation: |          | 0/? [00:00<?, ?it/s]"
      ]
     },
     "metadata": {},
     "output_type": "display_data"
    },
    {
     "data": {
      "application/vnd.jupyter.widget-view+json": {
       "model_id": "ff419e96ce194cf399fd97add49860fe",
       "version_major": 2,
       "version_minor": 0
      },
      "text/plain": [
       "Validation: |          | 0/? [00:00<?, ?it/s]"
      ]
     },
     "metadata": {},
     "output_type": "display_data"
    },
    {
     "data": {
      "application/vnd.jupyter.widget-view+json": {
       "model_id": "5336d9f4c22e4f46a5da54b6a0d18cb5",
       "version_major": 2,
       "version_minor": 0
      },
      "text/plain": [
       "Validation: |          | 0/? [00:00<?, ?it/s]"
      ]
     },
     "metadata": {},
     "output_type": "display_data"
    },
    {
     "name": "stderr",
     "output_type": "stream",
     "text": [
      "`Trainer.fit` stopped: `max_epochs=10` reached.\n"
     ]
    }
   ],
   "source": [
    "# ✅ Тренировочный процесс\n",
    "trainer = Trainer(\n",
    "    max_epochs=config[\"num_epochs\"],\n",
    "    accelerator=\"gpu\" if torch.cuda.is_available() else \"cpu\",\n",
    "    devices=\"auto\",\n",
    "    callbacks=callbacks,\n",
    "    log_every_n_steps=50,\n",
    ")\n",
    "\n",
    "# ✅ Запуск обучения\n",
    "trainer.fit(model, train_loader, val_loader)"
   ]
  },
  {
   "cell_type": "code",
   "execution_count": 31,
   "metadata": {},
   "outputs": [],
   "source": [
    "task.close()"
   ]
  },
  {
   "cell_type": "code",
   "execution_count": 32,
   "metadata": {},
   "outputs": [
    {
     "data": {
      "text/plain": [
       "'https://app.clear.ml/projects/05a161c5d9a4441682554ceef036ed08/experiments/34790ff7ccbc492783af2998217e1d6d/output/log'"
      ]
     },
     "execution_count": 32,
     "metadata": {},
     "output_type": "execute_result"
    }
   ],
   "source": [
    "task.get_output_log_web_page()"
   ]
  },
  {
   "cell_type": "markdown",
   "metadata": {},
   "source": [
    "## <center> 👀 Посмотрим на валидационные изображения\n",
    "\n",
    "    "
   ]
  },
  {
   "cell_type": "markdown",
   "metadata": {},
   "source": [
    "<div class=\"alert alert-success\">\n",
    "\n",
    "* Видно как модель постепенно \"умнеет\" - перестаёт ошибаться в определении классов.\n",
    "* Сначала ошибается во всех классах, потом правильно определяет `cat` и `ship`\n",
    "\n",
    "<img src='../images/cif10.png'>"
   ]
  },
  {
   "cell_type": "markdown",
   "metadata": {},
   "source": [
    "# <center> 🧶 Связка в задаче семантической сегментации 🧩</center>\n",
    "\n",
    "<div class=\"alert alert-info\">\n",
    "\n",
    "Разберём пример решения задачи сегментации с использованием `PyTorch Lightning` и `ClearML`. Будем использовать модель `FCN-ResNet50` из `torchvision.models.segmentation` и обучать её на `VOC Segmentation Dataset (Pascal VOC 2012)`.\n",
    "\n",
    "`VOC Segmentation Dataset (Pascal VOC 2012)` - содержит изображения с объектами 20 классов и 1 фоновый класс.\n",
    "\n",
    "Так же из `torchmetrics` возьмём `JaccardIndex` для вычисления метрики `IoU`.\n",
    "\n",
    "В итоге получится сильная связка: **⚡ Lightning + ClearML + torchmetrics**"
   ]
  },
  {
   "cell_type": "code",
   "execution_count": 33,
   "metadata": {},
   "outputs": [
    {
     "name": "stdout",
     "output_type": "stream",
     "text": [
      "ClearML Task: created new task id=77ae83b4fb1d41f7bfc71221fc8c2830\n",
      "ClearML results page: https://app.clear.ml/projects/3f6029130fe24501a93383579483c1df/experiments/77ae83b4fb1d41f7bfc71221fc8c2830/output/log\n",
      "ClearML Monitor: Could not detect iteration reporting, falling back to iterations as seconds-from-start\n"
     ]
    }
   ],
   "source": [
    "# ✅ Инициализация задачи в ClearML\n",
    "task = Task.init(\n",
    "    project_name=\"VOC-Segmentation\",\n",
    "    task_name=\"Fine-Tuning FCN-ResNet50-VOC\",\n",
    "    task_type=Task.TaskTypes.training,\n",
    ")"
   ]
  },
  {
   "cell_type": "code",
   "execution_count": 34,
   "metadata": {},
   "outputs": [
    {
     "name": "stdout",
     "output_type": "stream",
     "text": [
      "Hyperparameters: {'dataset': 'VOC2012', 'data_root': './data', 'image_size': (520, 520), 'batch_size': 8, 'num_workers': 4, 'model_name': 'fcn_resnet50', 'pretrained': True, 'num_classes': 21, 'learning_rate': 0.001, 'num_epochs': 10, 'optimizer': 'Adam', 'scheduler': 'ReduceLROnPlateau', 'scheduler_params': {'mode': 'min', 'factor': 0.5, 'patience': 2}, 'image_normalization': {'mean': [0.485, 0.456, 0.406], 'std': [0.229, 0.224, 0.225]}, 'device': 'gpu'}\n"
     ]
    }
   ],
   "source": [
    "# ✅ Гиперпараметры\n",
    "config = {\n",
    "    # Data parameters\n",
    "    \"dataset\": \"VOC2012\",\n",
    "    \"data_root\": \"./data\",\n",
    "    \"image_size\": (520, 520),\n",
    "    \"batch_size\": 8,\n",
    "    \"num_workers\": 4,\n",
    "    # Model parameters\n",
    "    \"model_name\": \"fcn_resnet50\",\n",
    "    \"pretrained\": True,\n",
    "    \"num_classes\": 21,  # VOC has 20 classes + background\n",
    "    # Training parameters\n",
    "    \"learning_rate\": 0.001,\n",
    "    \"num_epochs\": 10,\n",
    "    \"optimizer\": \"Adam\",\n",
    "    \"scheduler\": \"ReduceLROnPlateau\",\n",
    "    \"scheduler_params\": {\"mode\": \"min\", \"factor\": 0.5, \"patience\": 2},\n",
    "    # Transforms\n",
    "    \"image_normalization\": {\n",
    "        \"mean\": [0.485, 0.456, 0.406],\n",
    "        \"std\": [0.229, 0.224, 0.225],\n",
    "    },\n",
    "    # Hardware\n",
    "    \"device\": \"gpu\" if torch.cuda.is_available() else \"cpu\",\n",
    "}\n",
    "config = task.connect(config)\n",
    "print(\"Hyperparameters:\", config)"
   ]
  },
  {
   "cell_type": "code",
   "execution_count": 35,
   "metadata": {},
   "outputs": [],
   "source": [
    "# ✅ Функция загрузки данных (Pascal VOC 2012)\n",
    "def get_dataloaders(batch_size):\n",
    "    transform = transforms.Compose(\n",
    "        [\n",
    "            transforms.ToTensor(),\n",
    "            transforms.Normalize(\n",
    "                mean=config[\"image_normalization\"][\"mean\"],\n",
    "                std=config[\"image_normalization\"][\"std\"],\n",
    "            ),\n",
    "            transforms.Resize(config[\"image_size\"], antialias=True),\n",
    "        ]\n",
    "    )\n",
    "\n",
    "    target_transform = transforms.Compose(\n",
    "        [\n",
    "            transforms.PILToTensor(),\n",
    "            transforms.Resize(\n",
    "                config[\"image_size\"], interpolation=transforms.InterpolationMode.NEAREST\n",
    "            ),\n",
    "        ]\n",
    "    )\n",
    "\n",
    "    train_dataset = datasets.VOCSegmentation(\n",
    "        root=config[\"data_root\"],\n",
    "        year=\"2012\",\n",
    "        image_set=\"train\",\n",
    "        download=True,\n",
    "        transform=transform,\n",
    "        target_transform=target_transform,\n",
    "    )\n",
    "    val_dataset = datasets.VOCSegmentation(\n",
    "        root=config[\"data_root\"],\n",
    "        year=\"2012\",\n",
    "        image_set=\"val\",\n",
    "        download=True,\n",
    "        transform=transform,\n",
    "        target_transform=target_transform,\n",
    "    )\n",
    "\n",
    "    # Log dataset information\n",
    "    task.get_logger().report_text(\n",
    "        f\"Train dataset size: {len(train_dataset)} samples\", level=logging.INFO\n",
    "    )\n",
    "    task.get_logger().report_text(\n",
    "        f\"Validation dataset size: {len(val_dataset)} samples\", level=logging.INFO\n",
    "    )\n",
    "\n",
    "    train_loader = DataLoader(\n",
    "        train_dataset,\n",
    "        batch_size=batch_size,\n",
    "        shuffle=True,\n",
    "        num_workers=config[\"num_workers\"],\n",
    "    )\n",
    "    val_loader = DataLoader(\n",
    "        val_dataset,\n",
    "        batch_size=batch_size,\n",
    "        shuffle=False,\n",
    "        num_workers=config[\"num_workers\"],\n",
    "    )\n",
    "\n",
    "    return train_loader, val_loader"
   ]
  },
  {
   "cell_type": "code",
   "execution_count": 36,
   "metadata": {
    "jupyter": {
     "source_hidden": true
    }
   },
   "outputs": [
    {
     "name": "stderr",
     "output_type": "stream",
     "text": [
      "Unsupported key of type '<class 'int'>' found when connecting dictionary. It will be converted to str\n"
     ]
    },
    {
     "data": {
      "text/plain": [
       "{'class_mapping': {0: 'background',\n",
       "  1: 'aeroplane',\n",
       "  2: 'bicycle',\n",
       "  3: 'bird',\n",
       "  4: 'boat',\n",
       "  5: 'bottle',\n",
       "  6: 'bus',\n",
       "  7: 'car',\n",
       "  8: 'cat',\n",
       "  9: 'chair',\n",
       "  10: 'cow',\n",
       "  11: 'diningtable',\n",
       "  12: 'dog',\n",
       "  13: 'horse',\n",
       "  14: 'motorbike',\n",
       "  15: 'person',\n",
       "  16: 'pottedplant',\n",
       "  17: 'sheep',\n",
       "  18: 'sofa',\n",
       "  19: 'train',\n",
       "  20: 'tvmonitor'}}"
      ]
     },
     "execution_count": 36,
     "metadata": {},
     "output_type": "execute_result"
    }
   ],
   "source": [
    "# Названия классов VOC\n",
    "voc_class_names = [\n",
    "    \"background\",\n",
    "    \"aeroplane\",\n",
    "    \"bicycle\",\n",
    "    \"bird\",\n",
    "    \"boat\",\n",
    "    \"bottle\",\n",
    "    \"bus\",\n",
    "    \"car\",\n",
    "    \"cat\",\n",
    "    \"chair\",\n",
    "    \"cow\",\n",
    "    \"diningtable\",\n",
    "    \"dog\",\n",
    "    \"horse\",\n",
    "    \"motorbike\",\n",
    "    \"person\",\n",
    "    \"pottedplant\",\n",
    "    \"sheep\",\n",
    "    \"sofa\",\n",
    "    \"train\",\n",
    "    \"tvmonitor\",\n",
    "]\n",
    "# Логируем названия классов\n",
    "task.connect({\"class_mapping\": {i: name for i, name in enumerate(voc_class_names)}})"
   ]
  },
  {
   "cell_type": "code",
   "execution_count": 37,
   "metadata": {},
   "outputs": [
    {
     "name": "stdout",
     "output_type": "stream",
     "text": [
      "Transforms: {'image_transforms': ['ToTensor()', 'Normalize(mean=[0.485, 0.456, 0.406], std=[0.229, 0.224, 0.225])', 'Resize(size=(520, 520), antialias=True)'], 'target_transforms': ['PILToTensor()', 'Resize(size=(520, 520), interpolation=InterpolationMode.NEAREST)']}\n"
     ]
    }
   ],
   "source": [
    "# ✅ Залогируем трансформации\n",
    "transforms_config = {\n",
    "    \"image_transforms\": [\n",
    "        \"ToTensor()\",\n",
    "        f\"Normalize(mean={config['image_normalization']['mean']}, std={config['image_normalization']['std']})\",\n",
    "        f\"Resize(size={config['image_size']}, antialias=True)\",\n",
    "    ],\n",
    "    \"target_transforms\": [\n",
    "        \"PILToTensor()\",\n",
    "        f\"Resize(size={config['image_size']}, interpolation=InterpolationMode.NEAREST)\",\n",
    "    ],\n",
    "}\n",
    "\n",
    "# Log configuration to ClearML\n",
    "task.connect_configuration({\"transforms_config\": transforms_config})\n",
    "print(\"Transforms:\", transforms_config)"
   ]
  },
  {
   "cell_type": "code",
   "execution_count": 38,
   "metadata": {},
   "outputs": [],
   "source": [
    "# ✅ Модель сегментации с предобученным FCN-ResNet50\n",
    "import torchmetrics\n",
    "from PIL import Image\n",
    "from torchvision.models.segmentation import FCN_ResNet50_Weights, fcn_resnet50\n",
    "\n",
    "\n",
    "class SegmentationModel(LightningModule):\n",
    "    def __init__(self, config):\n",
    "        super().__init__()\n",
    "        self.config = config\n",
    "        self.num_classes = config[\"num_classes\"]\n",
    "        self.lr = config[\"learning_rate\"]\n",
    "\n",
    "        # Конфиг модели\n",
    "        self.model_config = {\n",
    "            \"backbone\": \"resnet50\",\n",
    "            \"head\": \"FCN\",\n",
    "            \"pretrained\": config[\"pretrained\"],\n",
    "            \"num_classes\": self.num_classes,\n",
    "        }\n",
    "\n",
    "        # Загружаем pretrained FCN-ResNet50\n",
    "        if config[\"pretrained\"]:\n",
    "            self.model = fcn_resnet50(weights=FCN_ResNet50_Weights.DEFAULT)\n",
    "        else:\n",
    "            self.model = fcn_resnet50(weights=None)\n",
    "\n",
    "        self.model.classifier[4] = nn.Conv2d(\n",
    "            512, self.num_classes, kernel_size=(1, 1), stride=(1, 1)\n",
    "        )\n",
    "\n",
    "        # Метрики\n",
    "        self.train_iou = torchmetrics.JaccardIndex(\n",
    "            task=\"multiclass\", num_classes=self.num_classes, ignore_index=255\n",
    "        )\n",
    "        self.val_iou = torchmetrics.JaccardIndex(\n",
    "            task=\"multiclass\", num_classes=self.num_classes, ignore_index=255\n",
    "        )\n",
    "\n",
    "        # Метрика IoU\n",
    "        self.val_class_iou = torchmetrics.JaccardIndex(\n",
    "            task=\"multiclass\",\n",
    "            num_classes=self.num_classes,\n",
    "            average=None,\n",
    "            ignore_index=255,\n",
    "        )\n",
    "\n",
    "        # ClearML logger\n",
    "        self.clearml_logger = task.get_logger()\n",
    "\n",
    "        # Логируем конфигурацию модели\n",
    "        self.clearml_logger.report_text(\n",
    "            f\"Model Architecture: {self.model_config}\", level=logging.INFO\n",
    "        )\n",
    "\n",
    "    def forward(self, x):\n",
    "        return self.model(x)[\"out\"]\n",
    "\n",
    "    def setup(self, stage=None):\n",
    "        self.validation_step_outputs = []\n",
    "\n",
    "    def training_step(self, batch, batch_idx):\n",
    "        images, masks = batch\n",
    "        masks = masks.squeeze(1).long()  # Convert [B, 1, H, W] to [B, H, W]\n",
    "\n",
    "        outputs = self(images)\n",
    "        loss = F.cross_entropy(outputs, masks, ignore_index=255)\n",
    "\n",
    "        # Вычисляем IoU\n",
    "        preds = torch.argmax(outputs, dim=1)\n",
    "        iou = self.train_iou(preds, masks)\n",
    "\n",
    "        # Логируем метрики в ClearML\n",
    "        self.clearml_logger.report_scalar(\n",
    "            \"Train/Loss\", \"CE\", loss.item(), self.global_step\n",
    "        )\n",
    "        self.clearml_logger.report_scalar(\n",
    "            \"Train/IoU\", \"Mean\", iou.item(), self.global_step\n",
    "        )\n",
    "\n",
    "        return loss\n",
    "\n",
    "    def validation_step(self, batch, batch_idx):\n",
    "        images, masks = batch\n",
    "        masks = masks.squeeze(1).long()\n",
    "\n",
    "        outputs = self(images)\n",
    "        loss = F.cross_entropy(outputs, masks, ignore_index=255)\n",
    "\n",
    "        # Вычмсляем IoU\n",
    "        preds = torch.argmax(outputs, dim=1)\n",
    "        iou = self.val_iou(preds, masks)\n",
    "\n",
    "        # Calculate per-class IoU\n",
    "        self.val_class_iou(preds, masks)\n",
    "\n",
    "        # Логируем валидационные сэмплы\n",
    "        if batch_idx == 0:\n",
    "            self._log_images(images, masks, preds)\n",
    "\n",
    "        result = {\"val_loss\": loss, \"val_iou\": iou}\n",
    "        self.validation_step_outputs.append(result)\n",
    "        return result\n",
    "\n",
    "    def on_validation_epoch_end(self):\n",
    "        outputs = self.validation_step_outputs\n",
    "        avg_loss = torch.stack([x[\"val_loss\"] for x in outputs]).mean()\n",
    "        avg_iou = self.val_iou.compute()\n",
    "\n",
    "        # Получаем IoU для каждого класса и логируем\n",
    "        class_ious = self.val_class_iou.compute()\n",
    "        for i, class_iou in enumerate(class_ious):\n",
    "            self.clearml_logger.report_scalar(\n",
    "                f\"Val/ClassIoU\",\n",
    "                voc_class_names[i],\n",
    "                class_iou.item(),\n",
    "                self.current_epoch,\n",
    "            )\n",
    "\n",
    "        # Сбрасываем метрики для следующей эпохи\n",
    "        self.val_iou.reset()\n",
    "        self.val_class_iou.reset()\n",
    "\n",
    "        self.clearml_logger.report_scalar(\n",
    "            \"Val/Loss\", \"CE\", avg_loss.item(), self.current_epoch\n",
    "        )\n",
    "        self.clearml_logger.report_scalar(\n",
    "            \"Val/IoU\", \"Mean\", avg_iou.item(), self.current_epoch\n",
    "        )\n",
    "\n",
    "        self.log(\"val_loss\", avg_loss, prog_bar=True)\n",
    "        self.log(\"val_iou\", avg_iou, prog_bar=True)\n",
    "\n",
    "    def _log_images(self, images, masks, predictions, max_imgs=4):\n",
    "        \"\"\"Log images with ClearML for visualization\"\"\"\n",
    "        n_imgs = min(max_imgs, images.shape[0])\n",
    "\n",
    "        # Создаём colormap для масок сегментации\n",
    "        def colorize_mask(mask):\n",
    "            cmap = plt.get_cmap(\"tab20\", self.num_classes)\n",
    "            colored = cmap(mask.cpu().numpy())\n",
    "            return Image.fromarray((colored[:, :, :3] * 255).astype(np.uint8))\n",
    "\n",
    "        for idx in range(n_imgs):\n",
    "            # Оригинальное изображение\n",
    "            img = images[idx].cpu().permute(1, 2, 0).numpy()\n",
    "            img = np.clip(\n",
    "                (\n",
    "                    img * np.array(self.config[\"image_normalization\"][\"std\"])\n",
    "                    + np.array(self.config[\"image_normalization\"][\"mean\"])\n",
    "                ),\n",
    "                0,\n",
    "                1,\n",
    "            )\n",
    "            img = Image.fromarray((img * 255).astype(np.uint8))\n",
    "\n",
    "            # Ground truth маска\n",
    "            gt_mask = colorize_mask(masks[idx])\n",
    "\n",
    "            # предсказанная маска\n",
    "            pred_mask = colorize_mask(predictions[idx])\n",
    "\n",
    "            self.clearml_logger.report_image(\n",
    "                title=\"Validation Images\",\n",
    "                series=\"Input Image\",\n",
    "                iteration=self.global_step,\n",
    "                image=img,\n",
    "            )\n",
    "            self.clearml_logger.report_image(\n",
    "                title=\"Validation Images\",\n",
    "                series=\"GT Mask\",\n",
    "                iteration=self.global_step,\n",
    "                image=gt_mask,\n",
    "            )\n",
    "            self.clearml_logger.report_image(\n",
    "                title=\"Validation Images\",\n",
    "                series=\"Predicted Mask\",\n",
    "                iteration=self.global_step,\n",
    "                image=pred_mask,\n",
    "            )\n",
    "\n",
    "    def configure_optimizers(self):\n",
    "        optimizer = torch.optim.Adam(self.parameters(), lr=self.lr)\n",
    "\n",
    "        if self.config[\"scheduler\"] == \"ReduceLROnPlateau\":\n",
    "            scheduler = torch.optim.lr_scheduler.ReduceLROnPlateau(\n",
    "                optimizer,\n",
    "                mode=self.config[\"scheduler_params\"][\"mode\"],\n",
    "                factor=self.config[\"scheduler_params\"][\"factor\"],\n",
    "                patience=self.config[\"scheduler_params\"][\"patience\"],\n",
    "                verbose=True,\n",
    "            )\n",
    "            return {\n",
    "                \"optimizer\": optimizer,\n",
    "                \"lr_scheduler\": {\n",
    "                    \"scheduler\": scheduler,\n",
    "                    \"monitor\": \"val_loss\",\n",
    "                    \"interval\": \"epoch\",\n",
    "                    \"frequency\": 1,\n",
    "                },\n",
    "            }\n",
    "        else:\n",
    "            return optimizer"
   ]
  },
  {
   "cell_type": "markdown",
   "metadata": {},
   "source": [
    "<div class=\"alert alert-info\">\n",
    "    \n",
    "**🔹 Как это работает?**\n",
    "1. `FCN-ResNet50` из `torchvision`:\n",
    "\n",
    "* Мы берем предобученный `FCN-ResNet50`.\n",
    "* Так же можем начать обучение с нуля.\n",
    "* Выходной слой переделываем для `num_classes` (21)."
   ]
  },
  {
   "cell_type": "markdown",
   "metadata": {},
   "source": [
    "<div class=\"alert alert-info\">\n",
    "    \n",
    "2. `JaccardIndex` из `torchmetrics`:\n",
    "\n",
    "* Берём `JaccardIndex` для расчёта `IoU` - метрика в задаче сегментации\n",
    "* Аккумулируем метрику на каждом шаге, потом считаем среднее занчение на всей эпохе."
   ]
  },
  {
   "cell_type": "markdown",
   "metadata": {},
   "source": [
    "<div class=\"alert alert-info\">\n",
    "\n",
    "3. Логирование в `ClearML`:\n",
    "\n",
    "* гиперпараметры сетки\n",
    "* `train_loss`, `val_loss`\n",
    "* `train_iou`, `val_iou`\n",
    "* Формат изображения: входное, маска Ground Truth, предсказанная маска.\n",
    "* Вспомогательный метод `_log_images` позволяет визуально оценить, как хорошо модель сегментирует изображения, сравнивая предсказанные маски с истинными масками. Это полезно для диагностики и анализа производительности модели, а также для выявления возможных проблем в процессе обучения.\n",
    "* Вспомогательный метод `on_validation_epoch_end` служит для агрегирования и логирования результатов валидации, что позволяет отслеживать производительность модели на протяжении обучения."
   ]
  },
  {
   "cell_type": "code",
   "execution_count": 39,
   "metadata": {
    "scrolled": true
   },
   "outputs": [
    {
     "name": "stdout",
     "output_type": "stream",
     "text": [
      "Using downloaded and verified file: ./data/VOCtrainval_11-May-2012.tar\n",
      "Extracting ./data/VOCtrainval_11-May-2012.tar to ./data\n",
      "Using downloaded and verified file: ./data/VOCtrainval_11-May-2012.tar\n",
      "Extracting ./data/VOCtrainval_11-May-2012.tar to ./data\n",
      "Train dataset size: 1464 samples\n",
      "Validation dataset size: 1449 samples\n",
      "Model Architecture: {'backbone': 'resnet50', 'head': 'FCN', 'pretrained': True, 'num_classes': 21}\n"
     ]
    }
   ],
   "source": [
    "# ✅ Инициализация данных и модели\n",
    "train_loader, val_loader = get_dataloaders(config[\"batch_size\"])\n",
    "model = SegmentationModel(config)\n",
    "\n",
    "# ✅ Callbacks (сохранение лучшей модели, мониторинг LR)\n",
    "callbacks = [\n",
    "    ModelCheckpoint(\n",
    "        monitor=\"val_iou\",\n",
    "        filename=\"fcn-resnet50-voc-{epoch:02d}-{val_iou:.3f}\",\n",
    "        save_top_k=2,\n",
    "        mode=\"max\",\n",
    "        save_last=True,\n",
    "    ),\n",
    "    LearningRateMonitor(logging_interval=\"step\"),\n",
    "]"
   ]
  },
  {
   "cell_type": "code",
   "execution_count": 40,
   "metadata": {},
   "outputs": [
    {
     "name": "stderr",
     "output_type": "stream",
     "text": [
      "Seed set to 42\n",
      "Trainer will use only 1 of 2 GPUs because it is running inside an interactive / notebook environment. You may try to set `Trainer(devices=2)` but please note that multi-GPU inside interactive / notebook environments is considered experimental and unstable. Your mileage may vary.\n",
      "GPU available: True (cuda), used: True\n",
      "TPU available: False, using: 0 TPU cores\n",
      "HPU available: False, using: 0 HPUs\n"
     ]
    }
   ],
   "source": [
    "# ✅ Тренировочный процесс\n",
    "seed_everything(42)\n",
    "trainer = Trainer(\n",
    "    max_epochs=config[\"num_epochs\"],\n",
    "    accelerator=\"gpu\" if torch.cuda.is_available() else \"cpu\",\n",
    "    # devices=\"auto\",\n",
    "    callbacks=callbacks,\n",
    "    log_every_n_steps=50,\n",
    ")"
   ]
  },
  {
   "cell_type": "code",
   "execution_count": null,
   "metadata": {},
   "outputs": [
    {
     "name": "stderr",
     "output_type": "stream",
     "text": [
      "LOCAL_RANK: 0 - CUDA_VISIBLE_DEVICES: [0,1]\n",
      "\n",
      "  | Name          | Type                   | Params | Mode \n",
      "-----------------------------------------------------------------\n",
      "0 | model         | FCN                    | 35.3 M | train\n",
      "1 | train_iou     | MulticlassJaccardIndex | 0      | train\n",
      "2 | val_iou       | MulticlassJaccardIndex | 0      | train\n",
      "3 | val_class_iou | MulticlassJaccardIndex | 0      | train\n",
      "-----------------------------------------------------------------\n",
      "35.3 M    Trainable params\n",
      "0         Non-trainable params\n",
      "35.3 M    Total params\n",
      "141.289   Total estimated model params size (MB)\n",
      "165       Modules in train mode\n",
      "0         Modules in eval mode\n"
     ]
    },
    {
     "data": {
      "application/vnd.jupyter.widget-view+json": {
       "model_id": "c45212e276d84b9ab4f9d8512b9b048b",
       "version_major": 2,
       "version_minor": 0
      },
      "text/plain": [
       "Sanity Checking: |          | 0/? [00:00<?, ?it/s]"
      ]
     },
     "metadata": {},
     "output_type": "display_data"
    },
    {
     "data": {
      "application/vnd.jupyter.widget-view+json": {
       "model_id": "f123dc1ad206440ea022037c05e22152",
       "version_major": 2,
       "version_minor": 0
      },
      "text/plain": [
       "Training: |          | 0/? [00:00<?, ?it/s]"
      ]
     },
     "metadata": {},
     "output_type": "display_data"
    },
    {
     "data": {
      "application/vnd.jupyter.widget-view+json": {
       "model_id": "396f4fbb75904fbd94be8bd8b1d4198b",
       "version_major": 2,
       "version_minor": 0
      },
      "text/plain": [
       "Validation: |          | 0/? [00:00<?, ?it/s]"
      ]
     },
     "metadata": {},
     "output_type": "display_data"
    },
    {
     "data": {
      "application/vnd.jupyter.widget-view+json": {
       "model_id": "afc934749e224461877722706f3e7350",
       "version_major": 2,
       "version_minor": 0
      },
      "text/plain": [
       "Validation: |          | 0/? [00:00<?, ?it/s]"
      ]
     },
     "metadata": {},
     "output_type": "display_data"
    },
    {
     "data": {
      "application/vnd.jupyter.widget-view+json": {
       "model_id": "9c3485484f5942d3bb13522c2ec2a87b",
       "version_major": 2,
       "version_minor": 0
      },
      "text/plain": [
       "Validation: |          | 0/? [00:00<?, ?it/s]"
      ]
     },
     "metadata": {},
     "output_type": "display_data"
    },
    {
     "data": {
      "application/vnd.jupyter.widget-view+json": {
       "model_id": "98c54f76cd744913ac254c7f248ea778",
       "version_major": 2,
       "version_minor": 0
      },
      "text/plain": [
       "Validation: |          | 0/? [00:00<?, ?it/s]"
      ]
     },
     "metadata": {},
     "output_type": "display_data"
    },
    {
     "data": {
      "application/vnd.jupyter.widget-view+json": {
       "model_id": "a88f7dcba63d4335a476ba7628178a2b",
       "version_major": 2,
       "version_minor": 0
      },
      "text/plain": [
       "Validation: |          | 0/? [00:00<?, ?it/s]"
      ]
     },
     "metadata": {},
     "output_type": "display_data"
    },
    {
     "data": {
      "application/vnd.jupyter.widget-view+json": {
       "model_id": "0c4cbd51a8f14d70bbdf6b6bb20f7fc3",
       "version_major": 2,
       "version_minor": 0
      },
      "text/plain": [
       "Validation: |          | 0/? [00:00<?, ?it/s]"
      ]
     },
     "metadata": {},
     "output_type": "display_data"
    },
    {
     "data": {
      "application/vnd.jupyter.widget-view+json": {
       "model_id": "bd404b30cda344bc95416590cbe5d85a",
       "version_major": 2,
       "version_minor": 0
      },
      "text/plain": [
       "Validation: |          | 0/? [00:00<?, ?it/s]"
      ]
     },
     "metadata": {},
     "output_type": "display_data"
    },
    {
     "name": "stderr",
     "output_type": "stream",
     "text": [
      "IOPub message rate exceeded.\n",
      "The Jupyter server will temporarily stop sending output\n",
      "to the client in order to avoid crashing it.\n",
      "To change this limit, set the config variable\n",
      "`--ServerApp.iopub_msg_rate_limit`.\n",
      "\n",
      "Current values:\n",
      "ServerApp.iopub_msg_rate_limit=1000.0 (msgs/sec)\n",
      "ServerApp.rate_limit_window=3.0 (secs)\n",
      "\n"
     ]
    },
    {
     "data": {
      "application/vnd.jupyter.widget-view+json": {
       "model_id": "3f32a5bd43684608abf7911830904c6c",
       "version_major": 2,
       "version_minor": 0
      },
      "text/plain": [
       "Validation: |          | 0/? [00:00<?, ?it/s]"
      ]
     },
     "metadata": {},
     "output_type": "display_data"
    },
    {
     "data": {
      "application/vnd.jupyter.widget-view+json": {
       "model_id": "85962c8834304d3ea0da34454cd85fe4",
       "version_major": 2,
       "version_minor": 0
      },
      "text/plain": [
       "Validation: |          | 0/? [00:00<?, ?it/s]"
      ]
     },
     "metadata": {},
     "output_type": "display_data"
    }
   ],
   "source": [
    "# ✅ Запуск обучения\n",
    "trainer.fit(model, train_loader, val_loader)"
   ]
  },
  {
   "cell_type": "code",
   "execution_count": null,
   "metadata": {},
   "outputs": [],
   "source": [
    "# ✅ Не забываем закрыть таск\n",
    "task.close()"
   ]
  },
  {
   "cell_type": "code",
   "execution_count": null,
   "metadata": {},
   "outputs": [],
   "source": [
    "task.get_output_log_web_page()"
   ]
  },
  {
   "cell_type": "markdown",
   "metadata": {},
   "source": [
    "### Посмотрим на валидационные сэмплы (вкладка `debug`)\n",
    "\n",
    "<img src='../images/seg3.png'>\n",
    "Видим, что модель постепенно обучается.\n",
    "\n",
    "### Посмотрим на графики обучения (вкладка `scalars`)\n",
    "<img src='../images/segscal.png'>"
   ]
  },
  {
   "cell_type": "markdown",
   "metadata": {},
   "source": [
    "<div class=\"alert alert-success\">\n",
    "\n",
    "Таким образом, логирование в данном коде охватывает как количественные метрики (потери и IoU), так и качественные визуализации, что позволяет эффективно отслеживать процесс обучения и валидации модели сегментации."
   ]
  },
  {
   "cell_type": "markdown",
   "metadata": {},
   "source": [
    "## <center id=\"p6\"> 🧸 Выводы и заключения ✅"
   ]
  },
  {
   "cell_type": "markdown",
   "metadata": {},
   "source": [
    "<div class=\"alert alert-success\">\n",
    "\n",
    "В уроке рассмотрели способы как связка `Lightning + ClearML` поможет ускорить решение и отладку в CV-задачах:    \n",
    "* Разобрали логирование задачи классификации изображений\n",
    "* Файнтюнинг предобученного бэкбона\n",
    "* Поняли как лучше организовать код для задачи сегментации\n",
    "* В ДЗ попрактикуемся обучать GAN."
   ]
  },
  {
   "cell_type": "markdown",
   "metadata": {},
   "source": [
    "<div class=\"alert alert-info\">\n",
    "    \n",
    "Связка `Lightning + ClearML` может быть очень полезной для любой задачи в CV-домене, особенно при обучении сеток на удалённой машине и в команде. <br>\n",
    "Особенно сильно вы сможете прочувствовать всю мощь связки, если выполните практику по обучению `GAN`."
   ]
  },
  {
   "cell_type": "code",
   "execution_count": null,
   "metadata": {},
   "outputs": [],
   "source": []
  }
 ],
 "metadata": {
  "kernelspec": {
   "display_name": "cv",
   "language": "python",
   "name": "python3"
  },
  "language_info": {
   "codemirror_mode": {
    "name": "ipython",
    "version": 3
   },
   "file_extension": ".py",
   "mimetype": "text/x-python",
   "name": "python",
   "nbconvert_exporter": "python",
   "pygments_lexer": "ipython3",
   "version": "3.10.12"
  }
 },
 "nbformat": 4,
 "nbformat_minor": 4
}
