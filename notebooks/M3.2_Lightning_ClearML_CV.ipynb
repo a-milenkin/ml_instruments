{
 "cells": [
  {
   "cell_type": "markdown",
   "metadata": {},
   "source": [
    "# <center> <h1> 🧶 Связка `Lightning` + `ClearML` в задачах CV. 🖼</h1> </center>"
   ]
  },
  {
   "cell_type": "markdown",
   "metadata": {
    "jp-MarkdownHeadingCollapsed": true
   },
   "source": [
    "### Оглавление ноутбука\n",
    "<img src='../images/CV.webp' align=\"right\" width=\"508\" height=\"428\" >\n",
    "<br>\n",
    "\n",
    "<p><font size=\"3\" face=\"Arial\" font-size=\"large\"><ul type=\"square\">\n",
    "    \n",
    "<li><a href=\"#p1\">🧐 Посмотрим на связку в деле!</a></li>\n",
    "<li><a href=\"#p2\">🎨 Задача классификации изображений</a></li>\n",
    "<li><a href=\"#p7\">🎛 Файнтюнинг предобученной модели.</a></li>\n",
    "<li><a href=\"#p3\">🧶 Связка в задаче семантической сегментации 🧩</a></li>\n",
    "<li><a href=\"#p6\">🧸 Выводы и заключения ✅ </a></li>\n",
    "\n",
    "\n",
    "    \n",
    "</ul></font></p>"
   ]
  },
  {
   "cell_type": "markdown",
   "metadata": {},
   "source": [
    "### 🧑‍🎓 В этом уроке разберем как связка **PyTorch Lightning** c **ClearML** может работать в CV-задачах. 🪄"
   ]
  },
  {
   "cell_type": "markdown",
   "metadata": {},
   "source": [
    "<div class=\"alert alert-info\">\n",
    "\n",
    "Связка **ClearML** с **PyTorch Lightning** хорошо показывает себя в задачах из CV-домена.\n",
    "\n",
    "* Удобно отслеживать прогресс обучения сетки, особенно, при обучении на удалённых севрверах, а не в ноутбуках.\n",
    "* Легко запустить файнтюнинг предобученного бэкбона\n",
    "* Удобно отслеживать прогресс обучения генеративных моделей (GAN и.т.п)\n",
    "* Плюс все преимущества, которые рассматривали в прошлом уроке."
   ]
  },
  {
   "cell_type": "markdown",
   "metadata": {},
   "source": [
    "# <center id=\"p1\">  🧐 Посмотрим на связку в деле!</center>"
   ]
  },
  {
   "cell_type": "code",
   "execution_count": null,
   "metadata": {},
   "outputs": [],
   "source": [
    "#!pip install clearml tensorboard lightning torchvision torchmetrics -q"
   ]
  },
  {
   "cell_type": "code",
   "execution_count": 1,
   "metadata": {},
   "outputs": [],
   "source": [
    "import os\n",
    "import logging\n",
    "import pandas as pd\n",
    "\n",
    "import torch\n",
    "from lightning import LightningModule, Trainer, seed_everything\n",
    "from lightning.pytorch.callbacks import ModelCheckpoint, LearningRateMonitor\n",
    "from torch.utils.data import DataLoader\n",
    "from torch import nn, optim\n",
    "import torch.nn.functional as F\n",
    "import torchvision.models as models\n",
    "import torchvision.transforms as transforms\n",
    "import torchvision.datasets as datasets\n",
    "from torchmetrics import Accuracy\n",
    "\n",
    "from lightning.pytorch.loggers import TensorBoardLogger\n",
    "\n",
    "from clearml import Task"
   ]
  },
  {
   "cell_type": "code",
   "execution_count": 4,
   "metadata": {},
   "outputs": [
    {
     "name": "stdin",
     "output_type": "stream",
     "text": [
      "Введите API Access токен:  ········\n",
      "Введите API Secret токен:  ········\n"
     ]
    }
   ],
   "source": [
    "#from getpass import getpass\n",
    "# Введите поочерёдно полученные ключи в появившемся окне (код изменять не нужно)\n",
    "#access_key = getpass(prompt=\"Введите API Access токен: \")\n",
    "#secret_key = getpass(prompt=\"Введите API Secret токен: \")"
   ]
  },
  {
   "cell_type": "code",
   "execution_count": 5,
   "metadata": {},
   "outputs": [],
   "source": [
    "# %%capture\n",
    "# #  Не показывать свои api-ключи\n",
    "# %env CLEARML_WEB_HOST=https://app.clear.ml/\n",
    "# %env CLEARML_API_HOST=https://api.clear.ml\n",
    "# %env CLEARML_FILES_HOST=https://files.clear.ml\n",
    "\n",
    "# %env CLEARML_API_ACCESS_KEY=$access_key\n",
    "# %env CLEARML_API_SECRET_KEY=$secret_key"
   ]
  },
  {
   "cell_type": "markdown",
   "metadata": {},
   "source": [
    "# <center> 🎨 Задача классификации изображений </center>\n",
    "\n",
    "<div class=\"alert alert-info\">\n",
    "\n",
    "Напишем и обучим собственную сетку на датасете `CIFAR10`!"
   ]
  },
  {
   "cell_type": "code",
   "execution_count": 2,
   "metadata": {},
   "outputs": [
    {
     "name": "stdout",
     "output_type": "stream",
     "text": [
      "ClearML Task: created new task id=bc5186058e6e4411aa63848e1a1bb9f5\n",
      "2025-02-17 16:16:15,713 - clearml.Task - INFO - Storing jupyter notebook directly as code\n",
      "ClearML results page: https://app.clear.ml/projects/0cb5f71423834f7ba18c3a50e5989fd3/experiments/bc5186058e6e4411aa63848e1a1bb9f5/output/log\n"
     ]
    }
   ],
   "source": [
    "# Инициализация задачи в ClearML\n",
    "task = Task.init(\n",
    "    project_name=\"Image Classification\",\n",
    "    task_name=\"CIFAR10 Training with Image Logging\",\n",
    "    task_type=Task.TaskTypes.training\n",
    ")"
   ]
  },
  {
   "cell_type": "code",
   "execution_count": 3,
   "metadata": {},
   "outputs": [
    {
     "name": "stdout",
     "output_type": "stream",
     "text": [
      "Hyperparameters: {'num_epochs': 3, 'batch_size': 24, 'learning_rate': 0.001, 'dropout_rate': 0.25, 'num_images_to_log': 5}\n"
     ]
    }
   ],
   "source": [
    "config = {\n",
    "    \"num_epochs\": 3,\n",
    "    \"batch_size\": 24,\n",
    "    \"learning_rate\": 0.001,\n",
    "    \"dropout_rate\": 0.25,\n",
    "    \"num_images_to_log\": 5,  # Количество изображений для логирования\n",
    "}\n",
    "config = task.connect(config)  # Добавление гиперпараметров в ClearML\n",
    "print(\"Hyperparameters:\", config)"
   ]
  },
  {
   "cell_type": "markdown",
   "metadata": {},
   "source": [
    "Используем датасет CIFAR10"
   ]
  },
  {
   "cell_type": "code",
   "execution_count": 4,
   "metadata": {},
   "outputs": [
    {
     "name": "stdout",
     "output_type": "stream",
     "text": [
      "Files already downloaded and verified\n",
      "Files already downloaded and verified\n"
     ]
    }
   ],
   "source": [
    "# Классы CIFAR-10\n",
    "classes = ('plane', 'car', 'bird', 'cat', 'deer', 'dog', 'frog', 'horse', 'ship', 'truck')\n",
    "\n",
    "# Подготовка данных\n",
    "transform = transforms.Compose([transforms.ToTensor()])\n",
    "train_dataset = datasets.CIFAR10(root=\"./data\", train=True, download=True, transform=transform)\n",
    "test_dataset = datasets.CIFAR10(root=\"./data\", train=False, download=True, transform=transform)\n",
    "\n",
    "train_loader = DataLoader(train_dataset, batch_size=config[\"batch_size\"], shuffle=True, num_workers=2)\n",
    "val_loader = DataLoader(test_dataset, batch_size=config[\"batch_size\"], shuffle=False, num_workers=2)"
   ]
  },
  {
   "cell_type": "markdown",
   "metadata": {},
   "source": [
    "## Модель"
   ]
  },
  {
   "cell_type": "code",
   "execution_count": 5,
   "metadata": {},
   "outputs": [],
   "source": [
    "class CIFAR10Model(LightningModule):\n",
    "    def __init__(self, num_classes=10, dropout_rate=0.25, learning_rate=0.001):\n",
    "        super().__init__()\n",
    "        self.save_hyperparameters()\n",
    "        self.model = nn.Sequential(\n",
    "            nn.Conv2d(3, 6, kernel_size=3),\n",
    "            nn.ReLU(),\n",
    "            nn.MaxPool2d(kernel_size=2, stride=2),\n",
    "            nn.Conv2d(6, 16, kernel_size=3),\n",
    "            nn.ReLU(),\n",
    "            nn.MaxPool2d(kernel_size=2, stride=2),\n",
    "            nn.Flatten(),\n",
    "            nn.Linear(16 * 6 * 6, 120),\n",
    "            nn.ReLU(),\n",
    "            nn.Linear(120, 84),\n",
    "            nn.ReLU(),\n",
    "            nn.Dropout(p=dropout_rate),\n",
    "            nn.Linear(84, num_classes),\n",
    "        )\n",
    "        self.loss_fn = nn.CrossEntropyLoss()\n",
    "        self.accuracy = Accuracy(task=\"multiclass\", num_classes=num_classes, top_k=1)\n",
    "\n",
    "    def forward(self, x):\n",
    "        return self.model(x)\n",
    "\n",
    "    def training_step(self, batch, batch_idx):\n",
    "        inputs, labels = batch\n",
    "        outputs = self(inputs)\n",
    "        loss = self.loss_fn(outputs, labels)\n",
    "        self.log(\"train_loss\", loss, on_step=True, on_epoch=True)\n",
    "        task.get_logger().report_scalar(\"Loss\", \"train\", loss.item(), self.global_step)\n",
    "        return loss\n",
    "\n",
    "    def validation_step(self, batch, batch_idx):\n",
    "        inputs, labels = batch\n",
    "        outputs = self(inputs)\n",
    "        loss = self.loss_fn(outputs, labels)\n",
    "        acc = self.accuracy(outputs, labels)\n",
    "        self.log(\"val_loss\", loss, on_step=False, on_epoch=True)\n",
    "        self.log(\"val_acc\", acc, on_step=False, on_epoch=True)\n",
    "        task.get_logger().report_scalar(\"Loss\", \"val\", loss.item(), self.global_step)\n",
    "        task.get_logger().report_scalar(\"Accuracy\", \"val\", acc.item(), self.global_step)\n",
    "\n",
    "        # Логирование изображений\n",
    "        if batch_idx == 0:  # Логируем только для первого батча\n",
    "            _, predicted = outputs.max(1)\n",
    "            for i in range(min(len(inputs), config[\"num_images_to_log\"])):\n",
    "                img = transforms.ToPILImage()(inputs[i].cpu())\n",
    "                pred_label = predicted[i].item()\n",
    "                true_label = labels[i].item()\n",
    "                title = f\"True: {classes[true_label]}, Pred: {classes[pred_label]}\"\n",
    "                task.get_logger().report_image(\n",
    "                    title=title,\n",
    "                    series=f\"Batch {self.current_epoch}\",\n",
    "                    iteration=self.global_step,\n",
    "                    image=img,\n",
    "                )\n",
    "\n",
    "    def configure_optimizers(self):\n",
    "        return optim.SGD(self.parameters(), lr=self.hparams.learning_rate, momentum=0.9)"
   ]
  },
  {
   "cell_type": "code",
   "execution_count": 6,
   "metadata": {},
   "outputs": [],
   "source": [
    "# Callbacks для мониторинга\n",
    "callbacks = [\n",
    "    ModelCheckpoint(monitor=\"val_acc\", mode=\"max\", save_top_k=1),\n",
    "    LearningRateMonitor(logging_interval=\"step\"),\n",
    "]"
   ]
  },
  {
   "cell_type": "code",
   "execution_count": 7,
   "metadata": {},
   "outputs": [
    {
     "name": "stderr",
     "output_type": "stream",
     "text": [
      "Seed set to 42\n"
     ]
    },
    {
     "data": {
      "text/plain": [
       "42"
      ]
     },
     "execution_count": 7,
     "metadata": {},
     "output_type": "execute_result"
    }
   ],
   "source": [
    "seed_everything(42)"
   ]
  },
  {
   "cell_type": "code",
   "execution_count": 8,
   "metadata": {},
   "outputs": [
    {
     "name": "stderr",
     "output_type": "stream",
     "text": [
      "Trainer will use only 1 of 2 GPUs because it is running inside an interactive / notebook environment. You may try to set `Trainer(devices=2)` but please note that multi-GPU inside interactive / notebook environments is considered experimental and unstable. Your mileage may vary.\n",
      "GPU available: True (cuda), used: True\n",
      "TPU available: False, using: 0 TPU cores\n",
      "HPU available: False, using: 0 HPUs\n"
     ]
    }
   ],
   "source": [
    "trainer = Trainer(\n",
    "    max_epochs=config[\"num_epochs\"],\n",
    "    accelerator=\"gpu\",# if Trainer.auto_device_count() > 0 else \"cpu\",\n",
    "    devices=\"auto\",\n",
    "    callbacks=callbacks,\n",
    "    log_every_n_steps=50,\n",
    ")"
   ]
  },
  {
   "cell_type": "code",
   "execution_count": 9,
   "metadata": {},
   "outputs": [
    {
     "name": "stderr",
     "output_type": "stream",
     "text": [
      "You are using a CUDA device ('NVIDIA GeForce RTX 3090') that has Tensor Cores. To properly utilize them, you should set `torch.set_float32_matmul_precision('medium' | 'high')` which will trade-off precision for performance. For more details, read https://pytorch.org/docs/stable/generated/torch.set_float32_matmul_precision.html#torch.set_float32_matmul_precision\n",
      "LOCAL_RANK: 0 - CUDA_VISIBLE_DEVICES: [0,1]\n",
      "\n",
      "  | Name     | Type               | Params | Mode \n",
      "--------------------------------------------------------\n",
      "0 | model    | Sequential         | 81.3 K | train\n",
      "1 | loss_fn  | CrossEntropyLoss   | 0      | train\n",
      "2 | accuracy | MulticlassAccuracy | 0      | train\n",
      "--------------------------------------------------------\n",
      "81.3 K    Trainable params\n",
      "0         Non-trainable params\n",
      "81.3 K    Total params\n",
      "0.325     Total estimated model params size (MB)\n",
      "16        Modules in train mode\n",
      "0         Modules in eval mode\n"
     ]
    },
    {
     "data": {
      "application/vnd.jupyter.widget-view+json": {
       "model_id": "",
       "version_major": 2,
       "version_minor": 0
      },
      "text/plain": [
       "Sanity Checking: |          | 0/? [00:00<?, ?it/s]"
      ]
     },
     "metadata": {},
     "output_type": "display_data"
    },
    {
     "data": {
      "application/vnd.jupyter.widget-view+json": {
       "model_id": "b55b385d37f045499955eea3335ffb90",
       "version_major": 2,
       "version_minor": 0
      },
      "text/plain": [
       "Training: |          | 0/? [00:00<?, ?it/s]"
      ]
     },
     "metadata": {},
     "output_type": "display_data"
    },
    {
     "data": {
      "application/vnd.jupyter.widget-view+json": {
       "model_id": "",
       "version_major": 2,
       "version_minor": 0
      },
      "text/plain": [
       "Validation: |          | 0/? [00:00<?, ?it/s]"
      ]
     },
     "metadata": {},
     "output_type": "display_data"
    },
    {
     "data": {
      "application/vnd.jupyter.widget-view+json": {
       "model_id": "",
       "version_major": 2,
       "version_minor": 0
      },
      "text/plain": [
       "Validation: |          | 0/? [00:00<?, ?it/s]"
      ]
     },
     "metadata": {},
     "output_type": "display_data"
    },
    {
     "data": {
      "application/vnd.jupyter.widget-view+json": {
       "model_id": "",
       "version_major": 2,
       "version_minor": 0
      },
      "text/plain": [
       "Validation: |          | 0/? [00:00<?, ?it/s]"
      ]
     },
     "metadata": {},
     "output_type": "display_data"
    },
    {
     "name": "stderr",
     "output_type": "stream",
     "text": [
      "`Trainer.fit` stopped: `max_epochs=3` reached.\n"
     ]
    }
   ],
   "source": [
    "# Запуск обучения\n",
    "model = CIFAR10Model(\n",
    "    dropout_rate=config[\"dropout_rate\"],\n",
    "    learning_rate=config[\"learning_rate\"]\n",
    ")\n",
    "trainer.fit(model, train_loader, val_loader)"
   ]
  },
  {
   "cell_type": "code",
   "execution_count": 3,
   "metadata": {},
   "outputs": [
    {
     "name": "stdout",
     "output_type": "stream",
     "text": [
      "Task ID number is: bc5186058e6e4411aa63848e1a1bb9f5\n"
     ]
    }
   ],
   "source": [
    "print('Task ID number is: {}'.format(task.id))\n",
    "task.close()"
   ]
  },
  {
   "cell_type": "markdown",
   "metadata": {},
   "source": [
    "# <center> 🎛 Файнтюнинг предобученной модели. </center>"
   ]
  },
  {
   "cell_type": "code",
   "execution_count": 12,
   "metadata": {},
   "outputs": [
    {
     "name": "stdout",
     "output_type": "stream",
     "text": [
      "ClearML Task: created new task id=bc209c2c8a22429588be10ad2e145a63\n",
      "ClearML results page: https://app.clear.ml/projects/0cb5f71423834f7ba18c3a50e5989fd3/experiments/bc209c2c8a22429588be10ad2e145a63/output/log\n",
      "ClearML Monitor: Could not detect iteration reporting, falling back to iterations as seconds-from-start\n"
     ]
    }
   ],
   "source": [
    "# ✅ Инициализация ClearML Task\n",
    "task = Task.init(\n",
    "    project_name=\"Image Classification\",\n",
    "    task_name=\"Fine-tuning ResNet18 on CIFAR10\",\n",
    "    task_type=Task.TaskTypes.training\n",
    ")"
   ]
  },
  {
   "cell_type": "code",
   "execution_count": 13,
   "metadata": {},
   "outputs": [
    {
     "name": "stdout",
     "output_type": "stream",
     "text": [
      "Hyperparameters: {'num_epochs': 10, 'batch_size': 32, 'learning_rate': 0.001, 'fine_tune_start_epoch': 5, 'num_classes': 10, 'num_images_to_log': 5}\n"
     ]
    }
   ],
   "source": [
    "# ✅ Гиперпараметры (доступны для редактирования в ClearML)\n",
    "config = {\n",
    "    \"num_epochs\": 10,\n",
    "    \"batch_size\": 32,\n",
    "    \"learning_rate\": 1e-3,\n",
    "    \"fine_tune_start_epoch\": 5,  # С какой эпохи размораживать бэкбон\n",
    "    \"num_classes\": 10,\n",
    "    \"num_images_to_log\": 5,  # Логирование картинок в ClearML\n",
    "}\n",
    "config = task.connect(config)\n",
    "print(\"Hyperparameters:\", config)"
   ]
  },
  {
   "cell_type": "code",
   "execution_count": 19,
   "metadata": {},
   "outputs": [],
   "source": [
    "# ✅ Lightning-модель для обучения ResNet18\n",
    "class FineTuneResNet(LightningModule):\n",
    "    def __init__(self, num_classes=10, learning_rate=1e-3, fine_tune_start_epoch=5):\n",
    "        super().__init__()\n",
    "        self.save_hyperparameters()\n",
    "        \n",
    "        # Загружаем предобученный ResNet18\n",
    "        self.model = models.resnet18(pretrained=True)\n",
    "        \n",
    "        # Заменяем последний слой на 10 классов (CIFAR-10)\n",
    "        in_features = self.model.fc.in_features\n",
    "        self.model.fc = nn.Linear(in_features, num_classes)\n",
    "        \n",
    "        # Замораживаем веса бэкбона (кроме fc)\n",
    "        for param in self.model.parameters():\n",
    "            param.requires_grad = False\n",
    "        for param in self.model.fc.parameters():\n",
    "            param.requires_grad = True\n",
    "        \n",
    "        self.loss_fn = nn.CrossEntropyLoss()\n",
    "\n",
    "    def forward(self, x):\n",
    "        return self.model(x)\n",
    "\n",
    "    def training_step(self, batch, batch_idx):\n",
    "        inputs, labels = batch\n",
    "        outputs = self(inputs)\n",
    "        loss = self.loss_fn(outputs, labels)\n",
    "        self.log(\"train_loss\", loss, on_step=True, on_epoch=True)\n",
    "\n",
    "        # Логирование в ClearML\n",
    "        task.get_logger().report_scalar(\"Loss\", \"train\", loss.item(), self.global_step)\n",
    "\n",
    "        return loss\n",
    "\n",
    "    def validation_step(self, batch, batch_idx):\n",
    "        inputs, labels = batch\n",
    "        outputs = self(inputs)\n",
    "        loss = self.loss_fn(outputs, labels)\n",
    "        acc = (outputs.argmax(dim=1) == labels).float().mean()\n",
    "        \n",
    "        self.log(\"val_loss\", loss, on_epoch=True)\n",
    "        self.log(\"val_acc\", acc, on_epoch=True)\n",
    "\n",
    "        task.get_logger().report_scalar(\"Loss\", \"val\", loss.item(), self.global_step)\n",
    "        task.get_logger().report_scalar(\"Accuracy\", \"val\", acc.item(), self.global_step)\n",
    "\n",
    "        # Логирование изображений в ClearML\n",
    "        if batch_idx == 0:\n",
    "            _, predicted = outputs.max(1)\n",
    "            for i in range(min(len(inputs), config[\"num_images_to_log\"])):\n",
    "                img = transforms.ToPILImage()(inputs[i].cpu())\n",
    "                pred_label = predicted[i].item()\n",
    "                true_label = labels[i].item()\n",
    "                title = f\"True: {classes[true_label]}, Pred: {classes[pred_label]}\"\n",
    "                task.get_logger().report_image(\n",
    "                    title=title,\n",
    "                    series=f\"Epoch {self.current_epoch}\",\n",
    "                    iteration=self.global_step,\n",
    "                    image=img,\n",
    "                )\n",
    "\n",
    "    def configure_optimizers(self):\n",
    "        return optim.Adam(self.model.fc.parameters(), lr=self.hparams.learning_rate)\n",
    "\n",
    "    def on_epoch_start(self):\n",
    "        # Размораживаем бэкбон после N-й эпохи\n",
    "        if self.current_epoch >= self.hparams.fine_tune_start_epoch:\n",
    "            for param in self.model.parameters():\n",
    "                param.requires_grad = True\n",
    "            print(f\"🔓 Разморозка всех слоев модели на {self.current_epoch}-й эпохе\")"
   ]
  },
  {
   "cell_type": "markdown",
   "metadata": {},
   "source": [
    "<div class=\"alert alert-info\">\n",
    "    \n",
    "**🔹 Что делает код?**\n",
    "1. Загружает предобученную `ResNet18` из `torchvision.models`\n",
    "2. Меняет последний слой на 10 классов (CIFAR-10)\n",
    "3. Замораживает веса бэкбона (первые `fine_tune_start_epoch` эпох)\n",
    "4. Размораживает всю модель после `fine_tune_start_epoch`\n",
    "5. Логирует метрики и изображения в `ClearML`\n",
    "6. Сохраняет лучшую модель по `val_acc`\n",
    "\n",
    "**🔹 Как работает Fine-Tuning?**\n",
    "* В первые `fine_tune_start_epoch` эпохи тренируется только последний слой (fc).\n",
    "* Затем размораживается весь `ResNet18` и обучается вся модель.\n",
    "* 🔥 Это стандартный подход в `Transfer Learning`, который делает `fine-tuning` эффективнее и стабильнее! 🚀\n",
    "\n",
    "**🔹 Что логируется в ClearML?**\n",
    "\n",
    " ✅ Метрики (`train_loss`, `val_loss`, `val_acc`)\n",
    " \n",
    " ✅ Отладочные изображения с предсказаниями\n",
    " \n",
    " ✅ Гиперпараметры эксперимента\n",
    " \n",
    " ✅ Модель с лучшей точностью"
   ]
  },
  {
   "cell_type": "code",
   "execution_count": 20,
   "metadata": {},
   "outputs": [
    {
     "name": "stderr",
     "output_type": "stream",
     "text": [
      "Connecting multiple input models with the same name: `resnet18-f37072fd`. This might result in the wrong model being used when executing remotely\n"
     ]
    }
   ],
   "source": [
    "model = FineTuneResNet(\n",
    "    num_classes=config[\"num_classes\"],\n",
    "    learning_rate=config[\"learning_rate\"],\n",
    "    fine_tune_start_epoch=config[\"fine_tune_start_epoch\"]\n",
    ")\n",
    "\n",
    "callbacks = [\n",
    "    ModelCheckpoint(monitor=\"val_acc\", mode=\"max\", save_top_k=1),\n",
    "    LearningRateMonitor(logging_interval=\"step\"),\n",
    "]"
   ]
  },
  {
   "cell_type": "code",
   "execution_count": 21,
   "metadata": {},
   "outputs": [
    {
     "name": "stderr",
     "output_type": "stream",
     "text": [
      "Trainer will use only 1 of 2 GPUs because it is running inside an interactive / notebook environment. You may try to set `Trainer(devices=2)` but please note that multi-GPU inside interactive / notebook environments is considered experimental and unstable. Your mileage may vary.\n",
      "GPU available: True (cuda), used: True\n",
      "TPU available: False, using: 0 TPU cores\n",
      "HPU available: False, using: 0 HPUs\n",
      "LOCAL_RANK: 0 - CUDA_VISIBLE_DEVICES: [0,1]\n",
      "\n",
      "  | Name    | Type             | Params | Mode \n",
      "-----------------------------------------------------\n",
      "0 | model   | ResNet           | 11.2 M | train\n",
      "1 | loss_fn | CrossEntropyLoss | 0      | train\n",
      "-----------------------------------------------------\n",
      "5.1 K     Trainable params\n",
      "11.2 M    Non-trainable params\n",
      "11.2 M    Total params\n",
      "44.727    Total estimated model params size (MB)\n",
      "69        Modules in train mode\n",
      "0         Modules in eval mode\n"
     ]
    },
    {
     "data": {
      "application/vnd.jupyter.widget-view+json": {
       "model_id": "",
       "version_major": 2,
       "version_minor": 0
      },
      "text/plain": [
       "Sanity Checking: |          | 0/? [00:00<?, ?it/s]"
      ]
     },
     "metadata": {},
     "output_type": "display_data"
    },
    {
     "data": {
      "application/vnd.jupyter.widget-view+json": {
       "model_id": "2bc979de5ce44168834c8afe6f8c014f",
       "version_major": 2,
       "version_minor": 0
      },
      "text/plain": [
       "Training: |          | 0/? [00:00<?, ?it/s]"
      ]
     },
     "metadata": {},
     "output_type": "display_data"
    },
    {
     "data": {
      "application/vnd.jupyter.widget-view+json": {
       "model_id": "",
       "version_major": 2,
       "version_minor": 0
      },
      "text/plain": [
       "Validation: |          | 0/? [00:00<?, ?it/s]"
      ]
     },
     "metadata": {},
     "output_type": "display_data"
    },
    {
     "data": {
      "application/vnd.jupyter.widget-view+json": {
       "model_id": "",
       "version_major": 2,
       "version_minor": 0
      },
      "text/plain": [
       "Validation: |          | 0/? [00:00<?, ?it/s]"
      ]
     },
     "metadata": {},
     "output_type": "display_data"
    },
    {
     "data": {
      "application/vnd.jupyter.widget-view+json": {
       "model_id": "",
       "version_major": 2,
       "version_minor": 0
      },
      "text/plain": [
       "Validation: |          | 0/? [00:00<?, ?it/s]"
      ]
     },
     "metadata": {},
     "output_type": "display_data"
    },
    {
     "data": {
      "application/vnd.jupyter.widget-view+json": {
       "model_id": "",
       "version_major": 2,
       "version_minor": 0
      },
      "text/plain": [
       "Validation: |          | 0/? [00:00<?, ?it/s]"
      ]
     },
     "metadata": {},
     "output_type": "display_data"
    },
    {
     "data": {
      "application/vnd.jupyter.widget-view+json": {
       "model_id": "",
       "version_major": 2,
       "version_minor": 0
      },
      "text/plain": [
       "Validation: |          | 0/? [00:00<?, ?it/s]"
      ]
     },
     "metadata": {},
     "output_type": "display_data"
    },
    {
     "data": {
      "application/vnd.jupyter.widget-view+json": {
       "model_id": "",
       "version_major": 2,
       "version_minor": 0
      },
      "text/plain": [
       "Validation: |          | 0/? [00:00<?, ?it/s]"
      ]
     },
     "metadata": {},
     "output_type": "display_data"
    },
    {
     "data": {
      "application/vnd.jupyter.widget-view+json": {
       "model_id": "",
       "version_major": 2,
       "version_minor": 0
      },
      "text/plain": [
       "Validation: |          | 0/? [00:00<?, ?it/s]"
      ]
     },
     "metadata": {},
     "output_type": "display_data"
    },
    {
     "data": {
      "application/vnd.jupyter.widget-view+json": {
       "model_id": "",
       "version_major": 2,
       "version_minor": 0
      },
      "text/plain": [
       "Validation: |          | 0/? [00:00<?, ?it/s]"
      ]
     },
     "metadata": {},
     "output_type": "display_data"
    },
    {
     "data": {
      "application/vnd.jupyter.widget-view+json": {
       "model_id": "",
       "version_major": 2,
       "version_minor": 0
      },
      "text/plain": [
       "Validation: |          | 0/? [00:00<?, ?it/s]"
      ]
     },
     "metadata": {},
     "output_type": "display_data"
    },
    {
     "data": {
      "application/vnd.jupyter.widget-view+json": {
       "model_id": "",
       "version_major": 2,
       "version_minor": 0
      },
      "text/plain": [
       "Validation: |          | 0/? [00:00<?, ?it/s]"
      ]
     },
     "metadata": {},
     "output_type": "display_data"
    },
    {
     "name": "stderr",
     "output_type": "stream",
     "text": [
      "`Trainer.fit` stopped: `max_epochs=10` reached.\n"
     ]
    }
   ],
   "source": [
    "# ✅ Тренировочный процесс\n",
    "trainer = Trainer(\n",
    "    max_epochs=config[\"num_epochs\"],\n",
    "    accelerator=\"gpu\" if torch.cuda.is_available() else \"cpu\",\n",
    "    devices=\"auto\",\n",
    "    callbacks=callbacks,\n",
    "    log_every_n_steps=50,\n",
    ")\n",
    "\n",
    "# ✅ Запуск обучения\n",
    "trainer.fit(model, train_loader, val_loader)"
   ]
  },
  {
   "cell_type": "code",
   "execution_count": 22,
   "metadata": {},
   "outputs": [],
   "source": [
    "task.close()"
   ]
  },
  {
   "cell_type": "markdown",
   "metadata": {},
   "source": [
    "### Посмотрим на валидационные изображения\n",
    "Видно как модель постепенно \"умнеет\" - перестаёт ошибаться в определении классов.\n",
    "\n",
    "<img src='../images/cif10.png'>"
   ]
  },
  {
   "cell_type": "markdown",
   "metadata": {},
   "source": [
    "# <center> 🧶 Связка в задаче семантической сегментации 🧩</center>\n",
    "\n",
    "<div class=\"alert alert-info\">\n",
    "\n",
    "Разберём пример решения задачи сегментации с использованием `PyTorch Lightning` и `ClearML`. Будем использовать модель `FCN-ResNet50` из `torchvision.models.segmentation` и обучать её на `VOC Segmentation Dataset (Pascal VOC 2012)`.\n",
    "\n",
    "`VOC Segmentation Dataset (Pascal VOC 2012)` - содержит изображения с объектами 20 классов и 1 фоновый класс.\n",
    "\n",
    "Так же из `torchmetrics` возьмём `JaccardIndex` для вычисления метрики `IoU`.\n",
    "\n",
    "В итоге собрали топовую связку: **⚡ Lightning + ClearML + torchmetrics**"
   ]
  },
  {
   "cell_type": "code",
   "execution_count": 2,
   "metadata": {},
   "outputs": [
    {
     "name": "stdout",
     "output_type": "stream",
     "text": [
      "ClearML Task: created new task id=15137606038b47a68be51eaad6b8dc1d\n",
      "2025-02-20 09:22:17,134 - clearml.Task - INFO - Storing jupyter notebook directly as code\n",
      "ClearML results page: https://app.clear.ml/projects/a0f504e0e51b42c7bc9d4531c8c2cf60/experiments/15137606038b47a68be51eaad6b8dc1d/output/log\n",
      "ClearML Monitor: Could not detect iteration reporting, falling back to iterations as seconds-from-start\n"
     ]
    }
   ],
   "source": [
    "# ✅ Инициализация задачи в ClearML\n",
    "task = Task.init(project_name=\"VOC-Segmentation\", \n",
    "                 task_name=\"Fine-Tuning FCN-ResNet50-VOC\",\n",
    "                 task_type=Task.TaskTypes.training\n",
    "                )"
   ]
  },
  {
   "cell_type": "code",
   "execution_count": 3,
   "metadata": {},
   "outputs": [
    {
     "name": "stdout",
     "output_type": "stream",
     "text": [
      "Hyperparameters: {'dataset': 'VOC2012', 'data_root': './data', 'image_size': (520, 520), 'batch_size': 8, 'num_workers': 4, 'model_name': 'fcn_resnet50', 'pretrained': True, 'num_classes': 21, 'learning_rate': 0.001, 'num_epochs': 10, 'optimizer': 'Adam', 'scheduler': 'ReduceLROnPlateau', 'scheduler_params': {'mode': 'min', 'factor': 0.5, 'patience': 2}, 'image_normalization': {'mean': [0.485, 0.456, 0.406], 'std': [0.229, 0.224, 0.225]}, 'device': 'cuda'}\n"
     ]
    }
   ],
   "source": [
    "# ✅ Гиперпараметры (можно менять в ClearML)\n",
    "config = {\n",
    "    # Data parameters\n",
    "    \"dataset\": \"VOC2012\",\n",
    "    \"data_root\": \"./data\",\n",
    "    \"image_size\": (520, 520),\n",
    "    \"batch_size\": 8,\n",
    "    \"num_workers\": 4,\n",
    "    \n",
    "    # Model parameters\n",
    "    \"model_name\": \"fcn_resnet50\",\n",
    "    \"pretrained\": True,\n",
    "    \"num_classes\": 21,  # VOC has 20 classes + background\n",
    "    \n",
    "    # Training parameters\n",
    "    \"learning_rate\": 0.001,\n",
    "    \"num_epochs\": 10,\n",
    "    \"optimizer\": \"Adam\",\n",
    "    \"scheduler\": \"ReduceLROnPlateau\",\n",
    "    \"scheduler_params\": {\n",
    "        \"mode\": \"min\",\n",
    "        \"factor\": 0.5,\n",
    "        \"patience\": 2\n",
    "    },\n",
    "    \n",
    "    # Transforms\n",
    "    \"image_normalization\": {\n",
    "        \"mean\": [0.485, 0.456, 0.406],\n",
    "        \"std\": [0.229, 0.224, 0.225]\n",
    "    },\n",
    "    \n",
    "    # Hardware\n",
    "    \"device\": \"cuda\" if torch.cuda.is_available() else \"cpu\"\n",
    "}\n",
    "config = task.connect(config)\n",
    "print(\"Hyperparameters:\", config)"
   ]
  },
  {
   "cell_type": "code",
   "execution_count": 4,
   "metadata": {},
   "outputs": [],
   "source": [
    "# ✅ Функция загрузки данных (Pascal VOC 2012)\n",
    "def get_dataloaders(batch_size):\n",
    "    transform = transforms.Compose([\n",
    "        transforms.ToTensor(),\n",
    "        transforms.Normalize(\n",
    "            mean=config[\"image_normalization\"][\"mean\"], \n",
    "            std=config[\"image_normalization\"][\"std\"]\n",
    "        ),\n",
    "        transforms.Resize(config['image_size'], antialias=True)\n",
    "    ])\n",
    "\n",
    "    target_transform = transforms.Compose([\n",
    "        transforms.PILToTensor(),\n",
    "        transforms.Resize(config['image_size'], interpolation=transforms.InterpolationMode.NEAREST)\n",
    "    ])\n",
    "    \n",
    "    train_dataset = datasets.VOCSegmentation(root=config[\"data_root\"], year=\"2012\", image_set=\"train\", \n",
    "                                             download=True, transform=transform, target_transform=target_transform)\n",
    "    val_dataset = datasets.VOCSegmentation(root=config[\"data_root\"], year=\"2012\", image_set=\"val\", \n",
    "                                           download=True, transform=transform, target_transform=target_transform)\n",
    "\n",
    "    # Log dataset information\n",
    "    task.get_logger().report_text(\n",
    "        f\"Train dataset size: {len(train_dataset)} samples\",\n",
    "        level=logging.INFO\n",
    "    )\n",
    "    task.get_logger().report_text(\n",
    "        f\"Validation dataset size: {len(val_dataset)} samples\", \n",
    "        level=logging.INFO\n",
    "    )\n",
    "\n",
    "    # Названия классов VOC \n",
    "    voc_class_names = [\n",
    "        'background', 'aeroplane', 'bicycle', 'bird', 'boat', 'bottle', \n",
    "        'bus', 'car', 'cat', 'chair', 'cow', 'diningtable', 'dog', \n",
    "        'horse', 'motorbike', 'person', 'pottedplant', 'sheep', 'sofa', \n",
    "        'train', 'tvmonitor']\n",
    "    # Логируем названия классов\n",
    "    task.connect({\"class_mapping\": {i: name for i, name in enumerate(voc_class_names)}})\n",
    "\n",
    "\n",
    "    train_loader = DataLoader(train_dataset, batch_size=batch_size, shuffle=True, num_workers=config[\"num_workers\"])\n",
    "    val_loader = DataLoader(val_dataset, batch_size=batch_size, shuffle=False, num_workers=config[\"num_workers\"])\n",
    "\n",
    "    return train_loader, val_loader"
   ]
  },
  {
   "cell_type": "code",
   "execution_count": 5,
   "metadata": {},
   "outputs": [
    {
     "name": "stdout",
     "output_type": "stream",
     "text": [
      "Transforms: {'image_transforms': ['ToTensor()', 'Normalize(mean=[0.485, 0.456, 0.406], std=[0.229, 0.224, 0.225])', 'Resize(size=(520, 520), antialias=True)'], 'target_transforms': ['PILToTensor()', 'Resize(size=(520, 520), interpolation=InterpolationMode.NEAREST)']}\n"
     ]
    }
   ],
   "source": [
    "# Залогируем трансформации\n",
    "transforms_config = {\n",
    "    \"image_transforms\": [\n",
    "        \"ToTensor()\",\n",
    "        f\"Normalize(mean={config['image_normalization']['mean']}, std={config['image_normalization']['std']})\",\n",
    "        f\"Resize(size={config['image_size']}, antialias=True)\"\n",
    "    ],\n",
    "    \"target_transforms\": [\n",
    "        \"PILToTensor()\",\n",
    "        f\"Resize(size={config['image_size']}, interpolation=InterpolationMode.NEAREST)\"\n",
    "    ]\n",
    "}\n",
    "\n",
    "# Log configuration to ClearML\n",
    "task.connect_configuration({\"transforms_config\": transforms_config})\n",
    "print(\"Transforms:\", transforms_config)"
   ]
  },
  {
   "cell_type": "code",
   "execution_count": 6,
   "metadata": {},
   "outputs": [],
   "source": [
    "# ✅ Модель сегментации с предобученным FCN-ResNet50\n",
    "import torchmetrics\n",
    "from torchvision.models.segmentation import fcn_resnet50, FCN_ResNet50_Weights\n",
    "from PIL import Image\n",
    "\n",
    "class SegmentationModel(LightningModule):\n",
    "    def __init__(self, config):\n",
    "        super().__init__()\n",
    "        self.config = config\n",
    "        self.num_classes = config[\"num_classes\"]\n",
    "        self.lr = config[\"learning_rate\"]\n",
    "        \n",
    "        # Log model architecture configuration\n",
    "        self.model_config = {\n",
    "            \"backbone\": \"resnet50\",\n",
    "            \"head\": \"FCN\",\n",
    "            \"pretrained\": config[\"pretrained\"],\n",
    "            \"num_classes\": self.num_classes,\n",
    "        }\n",
    "        \n",
    "        # Load pretrained FCN-ResNet50 model\n",
    "        if config[\"pretrained\"]:\n",
    "            self.model = fcn_resnet50(weights=FCN_ResNet50_Weights.DEFAULT)\n",
    "        else:\n",
    "            self.model = fcn_resnet50(weights=None)\n",
    "            \n",
    "        self.model.classifier[4] = nn.Conv2d(512, self.num_classes, kernel_size=(1, 1), stride=(1, 1))\n",
    "        \n",
    "        # Metrics\n",
    "        self.train_iou = torchmetrics.JaccardIndex(task=\"multiclass\", num_classes=self.num_classes)\n",
    "        self.val_iou = torchmetrics.JaccardIndex(task=\"multiclass\", num_classes=self.num_classes)\n",
    "        \n",
    "        # Class IoU metrics for detailed analysis\n",
    "        self.val_class_iou = torchmetrics.JaccardIndex(\n",
    "            task=\"multiclass\", \n",
    "            num_classes=self.num_classes,\n",
    "            average=None\n",
    "        )\n",
    "        \n",
    "        # ClearML logger\n",
    "        self.clearml_logger = task.get_logger()\n",
    "        \n",
    "        # Log model architecture\n",
    "        self.clearml_logger.report_text(\n",
    "            f\"Model Architecture: {self.model_config}\",\n",
    "            level=logging.INFO\n",
    "        )\n",
    "    \n",
    "    def forward(self, x):\n",
    "        return self.model(x)['out']\n",
    "    \n",
    "    def training_step(self, batch, batch_idx):\n",
    "        images, masks = batch\n",
    "        masks = masks.squeeze(1).long()  # Convert [B, 1, H, W] to [B, H, W]\n",
    "        \n",
    "        outputs = self(images)\n",
    "        loss = F.cross_entropy(outputs, masks)\n",
    "        \n",
    "        # Calculate IoU\n",
    "        preds = torch.argmax(outputs, dim=1)\n",
    "        iou = self.train_iou(preds, masks)\n",
    "        \n",
    "        # Log metrics with ClearML\n",
    "        self.clearml_logger.report_scalar(\"Train/Loss\", \"CE\", loss.item(), self.global_step)\n",
    "        self.clearml_logger.report_scalar(\"Train/IoU\", \"Mean\", iou.item(), self.global_step)\n",
    "        \n",
    "        return loss\n",
    "    \n",
    "    def validation_step(self, batch, batch_idx):\n",
    "        images, masks = batch\n",
    "        masks = masks.squeeze(1).long()\n",
    "        \n",
    "        outputs = self(images)\n",
    "        loss = F.cross_entropy(outputs, masks)\n",
    "        \n",
    "        # Calculate IoU\n",
    "        preds = torch.argmax(outputs, dim=1)\n",
    "        iou = self.val_iou(preds, masks)\n",
    "        \n",
    "        # Calculate per-class IoU\n",
    "        self.val_class_iou(preds, masks)\n",
    "        \n",
    "        # Log validation images periodically\n",
    "        if batch_idx == 0:\n",
    "            self._log_images(images, masks, preds)\n",
    "            \n",
    "        return {\"val_loss\": loss, \"val_iou\": iou}\n",
    "    \n",
    "    def on_validation_epoch_end(self, outputs):\n",
    "        avg_loss = torch.stack([x[\"val_loss\"] for x in outputs]).mean()\n",
    "        avg_iou = self.val_iou.compute()\n",
    "        \n",
    "        # Get per-class IoU and log it\n",
    "        class_ious = self.val_class_iou.compute()\n",
    "        for i, class_iou in enumerate(class_ious):\n",
    "            self.clearml_logger.report_scalar(\n",
    "                f\"Val/ClassIoU\", \n",
    "                voc_class_names[i], \n",
    "                class_iou.item(), \n",
    "                self.current_epoch\n",
    "            )\n",
    "        \n",
    "        # Reset metrics for next epoch\n",
    "        self.val_iou.reset()\n",
    "        self.val_class_iou.reset()\n",
    "        \n",
    "        # Log with ClearML\n",
    "        self.clearml_logger.report_scalar(\"Val/Loss\", \"CE\", avg_loss.item(), self.current_epoch)\n",
    "        self.clearml_logger.report_scalar(\"Val/IoU\", \"Mean\", avg_iou.item(), self.current_epoch)\n",
    "        \n",
    "        self.log(\"val_loss\", avg_loss, prog_bar=True)\n",
    "        self.log(\"val_iou\", avg_iou, prog_bar=True)\n",
    "    \n",
    "    def _log_images(self, images, masks, predictions, max_imgs=4):\n",
    "        \"\"\"Log images with ClearML for visualization\"\"\"\n",
    "        n_imgs = min(max_imgs, images.shape[0])\n",
    "        \n",
    "        # Create a colormap for segmentation masks\n",
    "        def colorize_mask(mask):\n",
    "            # Simple colormap (could use a more sophisticated one)\n",
    "            cmap = plt.cm.get_cmap('tab20', self.num_classes)\n",
    "            colored = cmap(mask.cpu().numpy())\n",
    "            return Image.fromarray(colored[:, :, :3])\n",
    "        \n",
    "        for idx in range(n_imgs):\n",
    "            # Original image\n",
    "            img = images[idx].cpu().permute(1, 2, 0).numpy()\n",
    "            img = np.clip((img * np.array(self.config[\"image_normalization\"][\"std\"]) + \n",
    "                          np.array(self.config[\"image_normalization\"][\"mean\"])), 0, 1)\n",
    "            img = Image.fromarray(img)\n",
    "            \n",
    "            # Ground truth mask\n",
    "            gt_mask = colorize_mask(masks[idx])\n",
    "            \n",
    "            # Predicted mask\n",
    "            pred_mask = colorize_mask(predictions[idx])\n",
    "            \n",
    "            # Log to ClearML\n",
    "            self.clearml_logger.report_image(title=\"Validation Images\", series=\"Input Image\", iteration=self.global_step, image=img)\n",
    "            self.clearml_logger.report_image(title=\"Validation Images\", series=\"GT Mask\", iteration=self.global_step, image=gt_mask)\n",
    "            self.clearml_logger.report_image(title=\"Validation Images\", series=\"Predicted Mask\", iteration=self.global_step, image=pred_mask)\n",
    "\n",
    "    \n",
    "    def configure_optimizers(self):\n",
    "        optimizer = torch.optim.Adam(self.parameters(), lr=self.lr)\n",
    "        \n",
    "        if self.config[\"scheduler\"] == \"ReduceLROnPlateau\":\n",
    "            scheduler = torch.optim.lr_scheduler.ReduceLROnPlateau(\n",
    "                optimizer, \n",
    "                mode=self.config[\"scheduler_params\"][\"mode\"],\n",
    "                factor=self.config[\"scheduler_params\"][\"factor\"], \n",
    "                patience=self.config[\"scheduler_params\"][\"patience\"],\n",
    "                verbose=True\n",
    "            )\n",
    "            return {\n",
    "                \"optimizer\": optimizer,\n",
    "                \"lr_scheduler\": {\n",
    "                    \"scheduler\": scheduler,\n",
    "                    \"monitor\": \"val_loss\",\n",
    "                    \"interval\": \"epoch\",\n",
    "                    \"frequency\": 1\n",
    "                }\n",
    "            }\n",
    "        else:\n",
    "            return optimizer"
   ]
  },
  {
   "cell_type": "markdown",
   "metadata": {},
   "source": [
    "<div class=\"alert alert-info\">\n",
    "    \n",
    "**🔹 Как это работает?**\n",
    "1. `FCN-ResNet50` из `torchvision`:\n",
    "\n",
    "* Мы берем предобученный `FCN-ResNet50`.\n",
    "* Так же можем начать обучение с нуля.\n",
    "* Выходной слой переделываем для `num_classes` (21).\n",
    "  \n",
    "2. `JaccardIndex` из `torchmetrics`:\n",
    "\n",
    "* Берём `JaccardIndex` для расчёта `IoU` - метрика в задаче сегментации\n",
    "* Аккумулируем метрику на каждом шаге, потом считаем среднее занчение на всей эпохе.\n",
    "  \n",
    "3. Логирование в `ClearML`:\n",
    "\n",
    "* гиперпараметры сетки\n",
    "* `train_loss`, `val_loss`\n",
    "* `train_iou`, `val_iou`\n",
    "* Изображения: входное, маска Ground Truth, предсказанная маска.\n"
   ]
  },
  {
   "cell_type": "code",
   "execution_count": 7,
   "metadata": {
    "scrolled": true
   },
   "outputs": [
    {
     "name": "stdout",
     "output_type": "stream",
     "text": [
      "Using downloaded and verified file: ./data/VOCtrainval_11-May-2012.tar\n",
      "Extracting ./data/VOCtrainval_11-May-2012.tar to ./data\n",
      "Using downloaded and verified file: ./data/VOCtrainval_11-May-2012.tar\n",
      "Extracting ./data/VOCtrainval_11-May-2012.tar to ./data\n"
     ]
    },
    {
     "name": "stderr",
     "output_type": "stream",
     "text": [
      "Unsupported key of type '<class 'int'>' found when connecting dictionary. It will be converted to str\n"
     ]
    },
    {
     "name": "stdout",
     "output_type": "stream",
     "text": [
      "Train dataset size: 1464 samples\n",
      "Validation dataset size: 1449 samples\n",
      "2025-02-20 09:26:48,384 - clearml.model - INFO - Selected model id: f35a6f20500b43eebca2572247ae0168\n",
      "Model Architecture: {'backbone': 'resnet50', 'head': 'FCN', 'pretrained': True, 'num_classes': 21}\n"
     ]
    }
   ],
   "source": [
    "# ✅ Инициализация данных и модели\n",
    "train_loader, val_loader = get_dataloaders(config[\"batch_size\"])\n",
    "model = SegmentationModel(config)\n",
    "\n",
    "# ✅ Callbacks (сохранение лучшей модели, мониторинг LR)\n",
    "callbacks = [\n",
    "    ModelCheckpoint(monitor='val_iou', \n",
    "                    filename='fcn-resnet50-voc-{epoch:02d}-{val_iou:.3f}',\n",
    "                    save_top_k=2,\n",
    "                    mode='max',\n",
    "                    save_last=True\n",
    "                   ),\n",
    "    LearningRateMonitor(logging_interval=\"step\"),\n",
    "]"
   ]
  },
  {
   "cell_type": "code",
   "execution_count": 19,
   "metadata": {},
   "outputs": [],
   "source": [
    "#os.environ[\"CUDA_VISIBLE_DEVICES\"] = \"0\""
   ]
  },
  {
   "cell_type": "code",
   "execution_count": 8,
   "metadata": {},
   "outputs": [
    {
     "name": "stderr",
     "output_type": "stream",
     "text": [
      "Seed set to 42\n",
      "GPU available: True (cuda), used: False\n",
      "TPU available: False, using: 0 TPU cores\n",
      "HPU available: False, using: 0 HPUs\n",
      "/home/sinarian/venvs/sinara/lib/python3.10/site-packages/lightning/pytorch/trainer/setup.py:177: PossibleUserWarning:\n",
      "\n",
      "GPU available but not used. You can set it by doing `Trainer(accelerator='gpu')`.\n",
      "\n"
     ]
    }
   ],
   "source": [
    "# ✅ Тренировочный процесс\n",
    "seed_everything(42)\n",
    "trainer = Trainer(\n",
    "    max_epochs=config[\"num_epochs\"],\n",
    "    accelerator=\"cpu\" if torch.cuda.is_available() else \"cpu\",\n",
    "    #devices=\"auto\",\n",
    "    callbacks=callbacks,\n",
    "    log_every_n_steps=50,\n",
    ")"
   ]
  },
  {
   "cell_type": "code",
   "execution_count": null,
   "metadata": {},
   "outputs": [],
   "source": [
    "# ✅ Запуск обучения\n",
    "trainer.fit(model, train_loader, val_loader)"
   ]
  },
  {
   "cell_type": "code",
   "execution_count": 10,
   "metadata": {},
   "outputs": [],
   "source": [
    "# ✅ Не забываем закрыть таск\n",
    "task.close()"
   ]
  },
  {
   "cell_type": "markdown",
   "metadata": {},
   "source": [
    "### Посмотрим на валидационные сэмплы (вкладка `debug`)\n",
    "\n",
    "<img src='../images/seg.png'>"
   ]
  },
  {
   "cell_type": "markdown",
   "metadata": {},
   "source": [
    "## <center id=\"p6\"> 🧸 Выводы и заключения ✅"
   ]
  },
  {
   "cell_type": "markdown",
   "metadata": {},
   "source": [
    "<div class=\"alert alert-success\">\n",
    "\n",
    "В уроке рассмотрели способы как связка `Lightning + ClearML` поможет ускорить решение и отладку в CV-задачах:    \n",
    "* Разобрали логирование задачи классификации изображений\n",
    "* Файнтюнинг предобученного бэкбона\n",
    "* Поняли как лучше организовать код для задачи сегментации\n",
    "* В ДЗ попрактикуемся обучать GAN."
   ]
  },
  {
   "cell_type": "code",
   "execution_count": null,
   "metadata": {},
   "outputs": [],
   "source": []
  }
 ],
 "metadata": {
  "kernelspec": {
   "display_name": "cv",
   "language": "python",
   "name": "python3"
  },
  "language_info": {
   "codemirror_mode": {
    "name": "ipython",
    "version": 3
   },
   "file_extension": ".py",
   "mimetype": "text/x-python",
   "name": "python",
   "nbconvert_exporter": "python",
   "pygments_lexer": "ipython3",
   "version": "3.10.12"
  }
 },
 "nbformat": 4,
 "nbformat_minor": 4
}
