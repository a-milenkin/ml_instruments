{
 "cells": [
  {
   "cell_type": "markdown",
   "metadata": {},
   "source": [
    "# <center> <h1> 🧶 Связка `Lightning` + `ClearML` в задачах CV. 🔤</h1> </center>"
   ]
  },
  {
   "cell_type": "markdown",
   "metadata": {
    "jp-MarkdownHeadingCollapsed": true
   },
   "source": [
    "### Оглавление ноутбука\n",
    "<img src='../images/nlp.webp' align=\"right\" width=\"508\" height=\"428\" >\n",
    "<br>\n",
    "\n",
    "<p><font size=\"3\" face=\"Arial\" font-size=\"large\"><ul type=\"square\">\n",
    "    \n",
    "<li><a href=\"#p1\">🤔 Зачем нужен Trainer?</a></li>\n",
    "<li><a href=\"#p2\">🤹‍♀️ Параметры Trainer</a></li>\n",
    "<li><a href=\"#p7\">🔫 Model, Trainer & 2 smoking CallBacks 🔫</a></li>\n",
    "<li><a href=\"#p3\">📏 Torchmetrics - удобный доступ к любым метрикам! 📐</a></li>\n",
    "<li><a href=\"#p4\">📏 TorchMetrics в PyTorch Lightning ⚡</a></li>\n",
    "<li><a href=\"#p5\">🎚 Tuner - подбираем идеальные гиперпараметры! </a></li>\n",
    "<li><a href=\"#p6\">🧸 Выводы и заключения ✅ </a></li>\n",
    "\n",
    "\n",
    "    \n",
    "</ul></font></p>"
   ]
  },
  {
   "cell_type": "markdown",
   "metadata": {},
   "source": [
    "### 🧑‍🎓 В этом ноутбуке разберем как связка **PyTorch Lightning** c **ClearML** может облегчить жизнь при работе с текстами."
   ]
  },
  {
   "cell_type": "markdown",
   "metadata": {},
   "source": [
    "<div class=\"alert alert-info\">\n",
    "\n",
    "**ClearML** легко интегрируется с **PyTorch Lightning**, автоматически логируя модели PyTorch, параметры, и многое другое.\n",
    "\n",
    "Все, что вам нужно сделать, это просто добавить две строки кода в ваш скрипт **PyTorch Lightning**:\n",
    "\n",
    "```python\n",
    "from clearml import Task\n",
    "\n",
    "Task = Task.init(task_name=\"<task_name>\", project_name=\"<project_name>\")\n",
    "```\n",
    "\n",
    "Вот и всё! Это создает таск  **ClearML**, который фиксирует:\n",
    "* Исходный код и несохраненные изменения\n",
    "* Установленные пакеты\n",
    "* Модели PyTorch\n",
    "* Параметры, предоставляемые `LightningCLI`\n",
    "* Всё, что мы отправляем в TensorBoard\n",
    "* Весь выход консоли\n",
    "* Общие сведения, такие как сведения о машине, время выполнения, дата создания и т. д.\n",
    "* И многое другое"
   ]
  },
  {
   "cell_type": "markdown",
   "metadata": {},
   "source": [
    "# <center id=\"p1\">  🤔 Посмотрим на связку в деле!</center>"
   ]
  },
  {
   "cell_type": "markdown",
   "metadata": {},
   "source": []
  }
 ],
 "metadata": {
  "kernelspec": {
   "display_name": "cv",
   "language": "python",
   "name": "python3"
  },
  "language_info": {
   "codemirror_mode": {
    "name": "ipython",
    "version": 3
   },
   "file_extension": ".py",
   "mimetype": "text/x-python",
   "name": "python",
   "nbconvert_exporter": "python",
   "pygments_lexer": "ipython3",
   "version": "3.10.12"
  }
 },
 "nbformat": 4,
 "nbformat_minor": 4
}
