{
 "cells": [
  {
   "cell_type": "markdown",
   "metadata": {},
   "source": [
    "<center><img src=\"https://i.imgur.com/c4TvLIg.png\"/> </center>\n",
    "<br>\n",
    "<p><font size=\"3\" face=\"Arial\" font-size=\"large\"><ul type=\"square\">\n",
    "    \n",
    "<li><a href=\"#c1\"> ⚡️ Зачем Lightning?  </a></li>\n",
    "<li><a href=\"#c2\"> 🤹 Подготовка библиотек и датасета (проматывай) </a></li>\n",
    "<li><a href=\"#c3\"> 🫣 Играем в игру: \"Было - Стало\" 🤗 </a></li>\n",
    "<li><a href=\"#c4\"> Основные компоненты PyTorch Lightning ⚡️ </a></li>\n",
    "<li><a href=\"#c5\">👆 DataModule = Dataset + Dataloader ✌️ </a></li>\n",
    "<li><a href=\"#с6\">🪚 Пилим нейронку c Lightning ⚡️ (стало)</a>\n",
    "<li><a href=\"#c7\">🧌 Не боги неройнки обучают - Trainer </a>\n",
    "<li><a href=\"#c8\">🩺 Отладка + Profiler 🎛</a>\n",
    "<li><a href=\"#c9\">🍏 Результаты и выводы ✅</a>\n",
    "<li><a href=\"#c10\">📝 Полезные ссылки </a>\n",
    "\n",
    "</li></ul></font></p>"
   ]
  },
  {
   "cell_type": "markdown",
   "metadata": {},
   "source": [
    "# <center id=\"c1\"> ⚡️ Зачем Lightning? </center>\n",
    "\n",
    "<div class=\"alert alert-info\">\n",
    "\n",
    "`Lightning` - целая экосистема фреймворков, которая нацелена на упрощение обучения моделей, их запуска и тд. В этом ноутбуке мы остановимся на `PyTorch Lightning` - модуль, который упрощает работу с библиотекой `PyTorch` и расширяет её."
   ]
  },
  {
   "cell_type": "markdown",
   "metadata": {},
   "source": [
    "<div class=\"alert alert-success\" align=\"center\">\n",
    "\n",
    "⚡️ `PyTorch Lightning` - позволяет писать меньше рутинного кода: тренировочных и валидациооных циклов, механизмов **early_stopping**, сохранения моделей и пр. Вместо этого можно сосредоточиться на поиске идей и экспериментов. К тому же код будет легкочитаем и выглядеть компактно.\n",
    "\n",
    "\n",
    "<img src=\"https://i.imgur.com/OlWeyt8.png\" width=900 />"
   ]
  },
  {
   "cell_type": "markdown",
   "metadata": {},
   "source": [
    "<div class=\"alert alert-info\">\n",
    "    \n",
    "`PyTorch Lightning` включает в себя *полный набор* для поддержания жизненного цикла модели 🤯 от тренировки до развертывания в продакшене: квантизация, прунинг, подбор гиперпараметров, логирование, отладка и много чего ещё. <br>"
   ]
  },
  {
   "cell_type": "markdown",
   "metadata": {},
   "source": [
    "<div class=\"alert alert-info\">\n",
    "Чаще всего подключение новой функциональности занимает лишь пару строчек кода. "
   ]
  },
  {
   "cell_type": "code",
   "execution_count": 1,
   "metadata": {},
   "outputs": [],
   "source": [
    "# Установка Pytorch Lightning\n",
    "!pip install lightning -q"
   ]
  },
  {
   "cell_type": "markdown",
   "metadata": {},
   "source": [
    "<div class=\"alert alert-warning\">\n",
    "\n",
    "<p style=\"text-align: center;\"> ВАЖНО! 👺 </p>\n",
    "\n",
    "Если на каком-то ресурсе вы видите `pip install pytorch-lightning` - значит вы собираетесь использовать старое API 😯! Функции обратно совместимы, но их импорт может отличаться - будьте аккуратны и устанавливайте только свежие версии библиотек."
   ]
  },
  {
   "cell_type": "markdown",
   "metadata": {},
   "source": [
    "# <center id=\"c2\"> 🤹 Подготовка библиотек и датасета (проматывай)"
   ]
  },
  {
   "cell_type": "markdown",
   "metadata": {},
   "source": [
    "### <center> 📚 Импортируем библиотеки "
   ]
  },
  {
   "cell_type": "code",
   "execution_count": 2,
   "metadata": {},
   "outputs": [],
   "source": [
    "import copy\n",
    "from dataclasses import dataclass\n",
    "import numpy as np\n",
    "import pandas as pd\n",
    "from sklearn.preprocessing import RobustScaler, LabelEncoder\n",
    "from sklearn.model_selection import train_test_split\n",
    "\n",
    "import torch\n",
    "from torch import nn, optim\n",
    "from torch.utils.data import DataLoader, Dataset\n",
    "\n",
    "from lightning import Trainer, LightningModule, LightningDataModule"
   ]
  },
  {
   "cell_type": "code",
   "execution_count": 3,
   "metadata": {},
   "outputs": [
    {
     "data": {
      "text/plain": [
       "'svg'"
      ]
     },
     "execution_count": 3,
     "metadata": {},
     "output_type": "execute_result"
    }
   ],
   "source": [
    "# Для отображения схемы нейронки\n",
    "!pip install torchview -q\n",
    "import graphviz\n",
    "graphviz.set_jupyter_format('png')"
   ]
  },
  {
   "cell_type": "code",
   "execution_count": 4,
   "metadata": {},
   "outputs": [],
   "source": [
    "import os\n",
    "os.environ['CUDA_VISIBLE_DEVICES']='0'"
   ]
  },
  {
   "cell_type": "markdown",
   "metadata": {},
   "source": [
    "### <center> 🧪 Конфиг \n"
   ]
  },
  {
   "cell_type": "code",
   "execution_count": 5,
   "metadata": {},
   "outputs": [],
   "source": [
    "@dataclass\n",
    "class CFG:\n",
    "    seed: int = 2024\n",
    "    device: str = \"cuda\"  # 'cpu'\n",
    "    hidden_size: int = 128\n",
    "    dropout: float = 0.1\n",
    "    lr: float = 1e-3\n",
    "    batch_size: int = 128\n",
    "    num_workers: int = 4\n",
    "    epochs: int = 20\n",
    "    gpus: int = 2\n",
    "cfg = CFG()"
   ]
  },
  {
   "cell_type": "markdown",
   "metadata": {},
   "source": [
    "<div class=\"alert alert-info\">\n",
    "    \n",
    "**Первая фишка** - не надо самим писать функцию по фиксированию всех возможных сидов, можно импортировать её из `Lightning` и не беспокоиться, что что-то забыли зафиксировать и результаты не воспроизведутся."
   ]
  },
  {
   "cell_type": "code",
   "execution_count": 6,
   "metadata": {},
   "outputs": [
    {
     "name": "stderr",
     "output_type": "stream",
     "text": [
      "Seed set to 2024\n"
     ]
    },
    {
     "data": {
      "text/plain": [
       "2024"
      ]
     },
     "execution_count": 6,
     "metadata": {},
     "output_type": "execute_result"
    }
   ],
   "source": [
    "from lightning.pytorch import seed_everything\n",
    "\n",
    "seed_everything(cfg.seed)"
   ]
  },
  {
   "cell_type": "markdown",
   "metadata": {},
   "source": [
    "###  <center> 🍽 Подгружаем и готовим данные "
   ]
  },
  {
   "cell_type": "code",
   "execution_count": 7,
   "metadata": {},
   "outputs": [
    {
     "data": {
      "text/html": [
       "<div>\n",
       "<style scoped>\n",
       "    .dataframe tbody tr th:only-of-type {\n",
       "        vertical-align: middle;\n",
       "    }\n",
       "\n",
       "    .dataframe tbody tr th {\n",
       "        vertical-align: top;\n",
       "    }\n",
       "\n",
       "    .dataframe thead th {\n",
       "        text-align: right;\n",
       "    }\n",
       "</style>\n",
       "<table border=\"1\" class=\"dataframe\">\n",
       "  <thead>\n",
       "    <tr style=\"text-align: right;\">\n",
       "      <th></th>\n",
       "      <th>car_id</th>\n",
       "      <th>model</th>\n",
       "      <th>car_type</th>\n",
       "      <th>fuel_type</th>\n",
       "      <th>car_rating</th>\n",
       "      <th>year_to_start</th>\n",
       "      <th>riders</th>\n",
       "      <th>year_to_work</th>\n",
       "      <th>target_reg</th>\n",
       "      <th>target_class</th>\n",
       "      <th>mean_rating</th>\n",
       "      <th>distance_sum</th>\n",
       "      <th>rating_min</th>\n",
       "      <th>speed_max</th>\n",
       "      <th>user_ride_quality_median</th>\n",
       "      <th>deviation_normal_count</th>\n",
       "      <th>user_uniq</th>\n",
       "    </tr>\n",
       "  </thead>\n",
       "  <tbody>\n",
       "    <tr>\n",
       "      <th>0</th>\n",
       "      <td>y13744087j</td>\n",
       "      <td>Kia Rio X-line</td>\n",
       "      <td>economy</td>\n",
       "      <td>petrol</td>\n",
       "      <td>3.78</td>\n",
       "      <td>2015</td>\n",
       "      <td>76163</td>\n",
       "      <td>2021</td>\n",
       "      <td>109.99</td>\n",
       "      <td>another_bug</td>\n",
       "      <td>4.737759</td>\n",
       "      <td>1.214131e+07</td>\n",
       "      <td>0.1</td>\n",
       "      <td>180.855726</td>\n",
       "      <td>0.023174</td>\n",
       "      <td>174</td>\n",
       "      <td>170</td>\n",
       "    </tr>\n",
       "    <tr>\n",
       "      <th>1</th>\n",
       "      <td>O41613818T</td>\n",
       "      <td>VW Polo VI</td>\n",
       "      <td>economy</td>\n",
       "      <td>petrol</td>\n",
       "      <td>3.90</td>\n",
       "      <td>2015</td>\n",
       "      <td>78218</td>\n",
       "      <td>2021</td>\n",
       "      <td>34.48</td>\n",
       "      <td>electro_bug</td>\n",
       "      <td>4.480517</td>\n",
       "      <td>1.803909e+07</td>\n",
       "      <td>0.0</td>\n",
       "      <td>187.862734</td>\n",
       "      <td>12.306011</td>\n",
       "      <td>174</td>\n",
       "      <td>174</td>\n",
       "    </tr>\n",
       "    <tr>\n",
       "      <th>2</th>\n",
       "      <td>d-2109686j</td>\n",
       "      <td>Renault Sandero</td>\n",
       "      <td>standart</td>\n",
       "      <td>petrol</td>\n",
       "      <td>6.30</td>\n",
       "      <td>2012</td>\n",
       "      <td>23340</td>\n",
       "      <td>2017</td>\n",
       "      <td>34.93</td>\n",
       "      <td>gear_stick</td>\n",
       "      <td>4.768391</td>\n",
       "      <td>1.588366e+07</td>\n",
       "      <td>0.1</td>\n",
       "      <td>102.382857</td>\n",
       "      <td>2.513319</td>\n",
       "      <td>174</td>\n",
       "      <td>173</td>\n",
       "    </tr>\n",
       "  </tbody>\n",
       "</table>\n",
       "</div>"
      ],
      "text/plain": [
       "       car_id            model  car_type fuel_type  car_rating  year_to_start  \\\n",
       "0  y13744087j   Kia Rio X-line   economy    petrol        3.78           2015   \n",
       "1  O41613818T       VW Polo VI   economy    petrol        3.90           2015   \n",
       "2  d-2109686j  Renault Sandero  standart    petrol        6.30           2012   \n",
       "\n",
       "   riders  year_to_work  target_reg target_class  mean_rating  distance_sum  \\\n",
       "0   76163          2021      109.99  another_bug     4.737759  1.214131e+07   \n",
       "1   78218          2021       34.48  electro_bug     4.480517  1.803909e+07   \n",
       "2   23340          2017       34.93   gear_stick     4.768391  1.588366e+07   \n",
       "\n",
       "   rating_min   speed_max  user_ride_quality_median  deviation_normal_count  \\\n",
       "0         0.1  180.855726                  0.023174                     174   \n",
       "1         0.0  187.862734                 12.306011                     174   \n",
       "2         0.1  102.382857                  2.513319                     174   \n",
       "\n",
       "   user_uniq  \n",
       "0        170  \n",
       "1        174  \n",
       "2        173  "
      ]
     },
     "execution_count": 7,
     "metadata": {},
     "output_type": "execute_result"
    }
   ],
   "source": [
    "url = 'https://github.com/a-milenkin/ml_instruments/raw/refs/heads/main/data/quickstart_train.csv'\n",
    "rides_info = pd.read_csv(url)\n",
    "rides_info.head(3)"
   ]
  },
  {
   "cell_type": "code",
   "execution_count": 8,
   "metadata": {},
   "outputs": [],
   "source": [
    "# Проводим препроцессинг данных для старта обучения\n",
    "drop_cols = [\"car_id\", \"target_reg\", \"target_class\"]\n",
    "cat_cols = [\"car_type\", \"fuel_type\", \"model\"]\n",
    "rides_info = pd.get_dummies(rides_info, columns=cat_cols)\n",
    "rides_info.fillna(rides_info.median(numeric_only=True), inplace=True)\n",
    "num_cols = [col for col in list(rides_info.columns) if col not in drop_cols]"
   ]
  },
  {
   "cell_type": "code",
   "execution_count": 9,
   "metadata": {},
   "outputs": [],
   "source": [
    "# Нормализуем данные и кодируем таргет\n",
    "\n",
    "scaler = RobustScaler()\n",
    "le = LabelEncoder()\n",
    "\n",
    "df = scaler.fit_transform(rides_info[num_cols])\n",
    "df = pd.DataFrame(df, columns=num_cols)\n",
    "\n",
    "target_scaler = RobustScaler()\n",
    "target = target_scaler.fit_transform(rides_info[\"target_reg\"].values.reshape(-1, 1))\n",
    "\n",
    "df[\"target_reg\"] = target\n",
    "df[\"target_class\"] = le.fit_transform(rides_info[\"target_class\"]).reshape((-1, 1))"
   ]
  },
  {
   "cell_type": "code",
   "execution_count": 10,
   "metadata": {},
   "outputs": [],
   "source": [
    "# Разбиваем датасет на трэйн и тест выборки\n",
    "train, test = train_test_split(df, test_size=0.2, random_state=cfg.seed)\n",
    "\n",
    "cfg.num_features = train.shape[1] - 2  # количество фичей, подаваемое на вход\n",
    "cfg.num_tar_class = (\n",
    "    train.target_class.nunique()\n",
    ")  # количество выходов равно количеству предсказываемых классов"
   ]
  },
  {
   "cell_type": "code",
   "execution_count": 11,
   "metadata": {},
   "outputs": [
    {
     "data": {
      "text/html": [
       "<div>\n",
       "<style scoped>\n",
       "    .dataframe tbody tr th:only-of-type {\n",
       "        vertical-align: middle;\n",
       "    }\n",
       "\n",
       "    .dataframe tbody tr th {\n",
       "        vertical-align: top;\n",
       "    }\n",
       "\n",
       "    .dataframe thead th {\n",
       "        text-align: right;\n",
       "    }\n",
       "</style>\n",
       "<table border=\"1\" class=\"dataframe\">\n",
       "  <thead>\n",
       "    <tr style=\"text-align: right;\">\n",
       "      <th></th>\n",
       "      <th>car_rating</th>\n",
       "      <th>year_to_start</th>\n",
       "      <th>riders</th>\n",
       "      <th>year_to_work</th>\n",
       "      <th>mean_rating</th>\n",
       "      <th>distance_sum</th>\n",
       "      <th>rating_min</th>\n",
       "      <th>speed_max</th>\n",
       "      <th>user_ride_quality_median</th>\n",
       "      <th>deviation_normal_count</th>\n",
       "      <th>...</th>\n",
       "      <th>model_Smart Coupe</th>\n",
       "      <th>model_Smart ForFour</th>\n",
       "      <th>model_Smart ForTwo</th>\n",
       "      <th>model_Tesla Model 3</th>\n",
       "      <th>model_VW Polo</th>\n",
       "      <th>model_VW Polo VI</th>\n",
       "      <th>model_VW Tiguan</th>\n",
       "      <th>model_Volkswagen ID.4</th>\n",
       "      <th>target_reg</th>\n",
       "      <th>target_class</th>\n",
       "    </tr>\n",
       "  </thead>\n",
       "  <tbody>\n",
       "    <tr>\n",
       "      <th>0</th>\n",
       "      <td>-0.460317</td>\n",
       "      <td>0.5</td>\n",
       "      <td>0.258414</td>\n",
       "      <td>0.75</td>\n",
       "      <td>0.567305</td>\n",
       "      <td>-0.187985</td>\n",
       "      <td>0.0</td>\n",
       "      <td>0.129562</td>\n",
       "      <td>0.019027</td>\n",
       "      <td>0.0</td>\n",
       "      <td>...</td>\n",
       "      <td>0.0</td>\n",
       "      <td>0.0</td>\n",
       "      <td>0.0</td>\n",
       "      <td>0.0</td>\n",
       "      <td>0.0</td>\n",
       "      <td>0.0</td>\n",
       "      <td>0.0</td>\n",
       "      <td>0.0</td>\n",
       "      <td>3.022894</td>\n",
       "      <td>0</td>\n",
       "    </tr>\n",
       "    <tr>\n",
       "      <th>1</th>\n",
       "      <td>-0.365079</td>\n",
       "      <td>0.5</td>\n",
       "      <td>0.303616</td>\n",
       "      <td>0.75</td>\n",
       "      <td>0.072227</td>\n",
       "      <td>0.841243</td>\n",
       "      <td>-0.1</td>\n",
       "      <td>0.237381</td>\n",
       "      <td>1.085987</td>\n",
       "      <td>0.0</td>\n",
       "      <td>...</td>\n",
       "      <td>0.0</td>\n",
       "      <td>0.0</td>\n",
       "      <td>0.0</td>\n",
       "      <td>0.0</td>\n",
       "      <td>0.0</td>\n",
       "      <td>1.0</td>\n",
       "      <td>0.0</td>\n",
       "      <td>0.0</td>\n",
       "      <td>-0.238877</td>\n",
       "      <td>2</td>\n",
       "    </tr>\n",
       "    <tr>\n",
       "      <th>2</th>\n",
       "      <td>1.539683</td>\n",
       "      <td>-1.0</td>\n",
       "      <td>-0.903502</td>\n",
       "      <td>-0.25</td>\n",
       "      <td>0.626258</td>\n",
       "      <td>0.465096</td>\n",
       "      <td>0.0</td>\n",
       "      <td>-1.077932</td>\n",
       "      <td>0.235335</td>\n",
       "      <td>0.0</td>\n",
       "      <td>...</td>\n",
       "      <td>0.0</td>\n",
       "      <td>0.0</td>\n",
       "      <td>0.0</td>\n",
       "      <td>0.0</td>\n",
       "      <td>0.0</td>\n",
       "      <td>0.0</td>\n",
       "      <td>0.0</td>\n",
       "      <td>0.0</td>\n",
       "      <td>-0.219438</td>\n",
       "      <td>7</td>\n",
       "    </tr>\n",
       "  </tbody>\n",
       "</table>\n",
       "<p>3 rows × 45 columns</p>\n",
       "</div>"
      ],
      "text/plain": [
       "   car_rating  year_to_start    riders  year_to_work  mean_rating  \\\n",
       "0   -0.460317            0.5  0.258414          0.75     0.567305   \n",
       "1   -0.365079            0.5  0.303616          0.75     0.072227   \n",
       "2    1.539683           -1.0 -0.903502         -0.25     0.626258   \n",
       "\n",
       "   distance_sum  rating_min  speed_max  user_ride_quality_median  \\\n",
       "0     -0.187985         0.0   0.129562                  0.019027   \n",
       "1      0.841243        -0.1   0.237381                  1.085987   \n",
       "2      0.465096         0.0  -1.077932                  0.235335   \n",
       "\n",
       "   deviation_normal_count  ...  model_Smart Coupe  model_Smart ForFour  \\\n",
       "0                     0.0  ...                0.0                  0.0   \n",
       "1                     0.0  ...                0.0                  0.0   \n",
       "2                     0.0  ...                0.0                  0.0   \n",
       "\n",
       "   model_Smart ForTwo  model_Tesla Model 3  model_VW Polo  model_VW Polo VI  \\\n",
       "0                 0.0                  0.0            0.0               0.0   \n",
       "1                 0.0                  0.0            0.0               1.0   \n",
       "2                 0.0                  0.0            0.0               0.0   \n",
       "\n",
       "   model_VW Tiguan  model_Volkswagen ID.4   target_reg  target_class  \n",
       "0              0.0                     0.0    3.022894             0  \n",
       "1              0.0                     0.0   -0.238877             2  \n",
       "2              0.0                     0.0   -0.219438             7  \n",
       "\n",
       "[3 rows x 45 columns]"
      ]
     },
     "execution_count": 11,
     "metadata": {},
     "output_type": "execute_result"
    }
   ],
   "source": [
    "df.head(3)"
   ]
  },
  {
   "cell_type": "markdown",
   "metadata": {},
   "source": [
    "# <center id=\"c3\"> 🫣 Играем в игру: \"Было - Стало\" 🤗</center>\n",
    "\n",
    "<div class=\"alert alert-info\">\n",
    "    \n",
    "Рассмотрим уже знакомый код фрагментов по обучению двухголовой нейронки, перенесём код на `Lightning` и оценим эффект!"
   ]
  },
  {
   "cell_type": "markdown",
   "metadata": {},
   "source": [
    "## <center> 🧠 Фрагменты архитектры нейронки на чистом `PyTorch` (было)"
   ]
  },
  {
   "cell_type": "code",
   "execution_count": 12,
   "metadata": {},
   "outputs": [],
   "source": [
    "# датасет выдает фичи и значения целевых переменных\n",
    "class Rides(Dataset):\n",
    "    def __init__(self, df):\n",
    "        self.df = df\n",
    "\n",
    "    def __len__(self):\n",
    "        return len(self.df)\n",
    "\n",
    "    def __getitem__(self, idx):\n",
    "        row = self.df.iloc[idx, :]\n",
    "\n",
    "        data = row.drop(labels=[\"target_reg\", \"target_class\"])\n",
    "        data = torch.FloatTensor(data.values.astype(\"float\"))\n",
    "        tar_reg = torch.tensor(row[\"target_reg\"]).float()\n",
    "        tar_class = row[\"target_class\"].astype(\"int\")\n",
    "\n",
    "        return data, tar_reg, tar_class"
   ]
  },
  {
   "cell_type": "code",
   "execution_count": 13,
   "metadata": {},
   "outputs": [],
   "source": [
    "train_datasets = {\"train\": Rides(train), \"val\": Rides(test)}"
   ]
  },
  {
   "cell_type": "code",
   "execution_count": 14,
   "metadata": {},
   "outputs": [],
   "source": [
    "dataloaders_dict = {\n",
    "    x: DataLoader(\n",
    "        train_datasets[x],\n",
    "        batch_size=cfg.batch_size,\n",
    "        shuffle=True,\n",
    "        num_workers=cfg.num_workers,\n",
    "    )\n",
    "    for x in [\"train\", \"val\"]\n",
    "}"
   ]
  },
  {
   "cell_type": "markdown",
   "metadata": {},
   "source": [
    "### <center> 🕸 Сама нейросеть на `PyTorch`"
   ]
  },
  {
   "cell_type": "code",
   "execution_count": 15,
   "metadata": {},
   "outputs": [],
   "source": [
    "class TabularNN(nn.Module): # Наследуемся от базового класса PyTorch\n",
    "    def __init__(self, cfg):\n",
    "        super().__init__()\n",
    "        # Напишем простенькую нейронку\n",
    "        self.mlp = nn.Sequential(\n",
    "            nn.Linear(cfg.num_features, cfg.hidden_size),\n",
    "            # nn.BatchNorm1d(cfg.hidden_size),\n",
    "            nn.Dropout(cfg.dropout),\n",
    "            nn.LeakyReLU(),\n",
    "            nn.Linear(cfg.hidden_size, cfg.hidden_size),\n",
    "            # nn.BatchNorm1d(cfg.hidden_size),\n",
    "            nn.Dropout(cfg.dropout),\n",
    "            nn.GELU(),\n",
    "            nn.Linear(cfg.hidden_size, cfg.hidden_size // 2),\n",
    "        )\n",
    "        # Так как два таргета, делаем две головы - одна для регрессии, другая - классификации\n",
    "        self.regressor = nn.Sequential(nn.Linear(cfg.hidden_size // 2, 1))\n",
    "        self.classifier = nn.Sequential(\n",
    "            nn.Linear(cfg.hidden_size // 2, cfg.num_tar_class)\n",
    "        )\n",
    "\n",
    "    def forward(self, data):\n",
    "        x = self.mlp(data)\n",
    "        tar_reg = self.regressor(x)\n",
    "        tar_class = self.classifier(x)\n",
    "        return tar_reg.view(-1), tar_class"
   ]
  },
  {
   "cell_type": "code",
   "execution_count": 16,
   "metadata": {},
   "outputs": [],
   "source": [
    "model = TabularNN(cfg).to(cfg.device) # Отправляем сетку на GPU или CPU"
   ]
  },
  {
   "cell_type": "code",
   "execution_count": 17,
   "metadata": {},
   "outputs": [],
   "source": [
    "# Задаем оптимизатор и два лосса - для разных таргетов\n",
    "optimizer = optim.Adam(model.parameters(), lr=cfg.lr)\n",
    "regression_criterion = nn.MSELoss().to(cfg.device)\n",
    "classification_criterion = nn.CrossEntropyLoss().to(cfg.device)"
   ]
  },
  {
   "cell_type": "markdown",
   "metadata": {},
   "source": [
    "### <center> 🥫 Консервативный `Train loop`, которого скоро не станет 🙅‍♀️"
   ]
  },
  {
   "cell_type": "code",
   "execution_count": 18,
   "metadata": {},
   "outputs": [],
   "source": [
    "# Train LOOP \n",
    "def train_model(\n",
    "    model,\n",
    "    dataloaders,\n",
    "    regression_criterion,\n",
    "    classification_criterion,\n",
    "    optimizer,\n",
    "    num_epochs=25,\n",
    "    early_stopping_rounds=5,\n",
    "    verbose=2,\n",
    "):\n",
    "\n",
    "    val_acc_history = []\n",
    "\n",
    "    best_model_wts = copy.deepcopy(model.state_dict())\n",
    "    best_loss = np.inf\n",
    "    early_steps = 0\n",
    "    stop = False\n",
    "\n",
    "    for epoch in range(num_epochs):\n",
    "        if stop:\n",
    "            break\n",
    "        if epoch % verbose == 0:\n",
    "            print(\"Epoch {}/{}\".format(epoch, num_epochs - 1))\n",
    "            print(\"-\" * 10)\n",
    "\n",
    "        # В каждой эпохе учимся на train и валидируемся на val\n",
    "        for phase in [\"train\", \"val\"]:\n",
    "            if phase == \"train\":\n",
    "                model.train()  # Обучаем модельку\n",
    "            else:\n",
    "                model.eval()  # Тестируем ее\n",
    "\n",
    "            running_loss = 0.0\n",
    "\n",
    "            for inputs, labels_1, labels_2 in dataloaders[phase]:\n",
    "                inputs = inputs.to(cfg.device)\n",
    "                labels_1 = labels_1.to(cfg.device)\n",
    "                labels_2 = labels_2.to(cfg.device)\n",
    "\n",
    "                optimizer.zero_grad()\n",
    "\n",
    "                # Включаем градиенты только на этапе обучения\n",
    "                with torch.set_grad_enabled(phase == \"train\"):\n",
    "                    outputs_1, outputs_2 = model(inputs)\n",
    "                    loss_1 = regression_criterion(outputs_1, labels_1)\n",
    "                    loss_2 = classification_criterion(outputs_2, labels_2)\n",
    "\n",
    "                    loss = loss_1 + loss_2\n",
    "\n",
    "                    _, preds_2 = torch.max(outputs_2, 1)\n",
    "\n",
    "                    # Распространим ошибку обратно\n",
    "                    if phase == \"train\":\n",
    "                        loss.backward()\n",
    "                        optimizer.step()\n",
    "                        # scheduler.step()\n",
    "\n",
    "                running_loss += loss.item() * inputs.size(0)\n",
    "                val_acc_history.append(running_loss)\n",
    "\n",
    "            epoch_loss = running_loss / len(dataloaders[phase].dataset)\n",
    "            if epoch % verbose == 0:\n",
    "                print(\"{} Loss: {:.4f}\".format(phase, epoch_loss))\n",
    "            \n",
    "            # Сохраняем только лучшую модель\n",
    "            if phase == \"val\" and epoch_loss < best_loss:\n",
    "                best_model_wts = copy.deepcopy(model.state_dict())\n",
    "                best_loss = epoch_loss\n",
    "                early_steps = 0\n",
    "            if phase == \"val\" and epoch_loss > best_loss:\n",
    "                early_steps += 1\n",
    "                if early_steps > early_stopping_rounds:\n",
    "                    stop = True\n",
    "                    print(f\"Stopped by early_stopping. Epoch: {epoch}\")\n",
    "                    break\n",
    "\n",
    "    # Подгружаем ее\n",
    "    model.load_state_dict(best_model_wts)\n",
    "    return model"
   ]
  },
  {
   "cell_type": "code",
   "execution_count": 19,
   "metadata": {},
   "outputs": [
    {
     "name": "stdout",
     "output_type": "stream",
     "text": [
      "Epoch 0/19\n",
      "----------\n",
      "train Loss: 2.7096\n",
      "val Loss: 2.7237\n",
      "Epoch 2/19\n",
      "----------\n",
      "train Loss: 2.2425\n",
      "val Loss: 2.0766\n",
      "Epoch 4/19\n",
      "----------\n",
      "train Loss: 1.6136\n",
      "val Loss: 1.5752\n",
      "Epoch 6/19\n",
      "----------\n",
      "train Loss: 1.3000\n",
      "val Loss: 1.3404\n",
      "Epoch 8/19\n",
      "----------\n",
      "train Loss: 1.1532\n",
      "val Loss: 1.2237\n",
      "Epoch 10/19\n",
      "----------\n",
      "train Loss: 1.0947\n",
      "val Loss: 1.1968\n",
      "Epoch 12/19\n",
      "----------\n",
      "train Loss: 1.0611\n",
      "val Loss: 1.1537\n",
      "Epoch 14/19\n",
      "----------\n",
      "train Loss: 1.0279\n",
      "val Loss: 1.1425\n",
      "Epoch 16/19\n",
      "----------\n",
      "train Loss: 1.0122\n",
      "val Loss: 1.1527\n",
      "Epoch 18/19\n",
      "----------\n",
      "train Loss: 0.9736\n",
      "val Loss: 1.1391\n"
     ]
    }
   ],
   "source": [
    "# И наконец обучаем!\n",
    "model_ft = train_model(\n",
    "    model,\n",
    "    dataloaders_dict,\n",
    "    regression_criterion,\n",
    "    classification_criterion,\n",
    "    optimizer,\n",
    "    num_epochs=cfg.epochs,\n",
    ")"
   ]
  },
  {
   "cell_type": "code",
   "execution_count": 20,
   "metadata": {},
   "outputs": [],
   "source": [
    "del model, model_ft"
   ]
  },
  {
   "cell_type": "markdown",
   "metadata": {},
   "source": [
    "<div class=\"alert alert-success\" style=\"display: inline-block;\">\n",
    "    <img src=\"https://i.imgur.com/jEOxu9w.jpeg\" align='right'>\n",
    "Забываем неудобный код - потому что мы собираемся взлететь на Олимп c PyTorch Lightning ⚡️"
   ]
  },
  {
   "cell_type": "markdown",
   "metadata": {},
   "source": [
    "# <center id=\"c4\"> **Основные компоненты PyTorch Lightning ⚡️**  "
   ]
  },
  {
   "cell_type": "markdown",
   "metadata": {},
   "source": [
    "<div class=\"alert alert-info\" align=\"center\">\n",
    "\n",
    "Структуры `Lightning` можно представить в таком формате:\n",
    "\n",
    "<img src=\"https://i.imgur.com/hFg16lr.png\" align='center'>\n",
    "\n",
    "</div>"
   ]
  },
  {
   "cell_type": "markdown",
   "metadata": {},
   "source": [
    "<div class=\"alert alert-info\">\n",
    "\n",
    "* `LightningModule` - наследник `nn.Module`, обязательные атрибуты такие же `__init__`, `forward`. Но внутри есть целое множество удобных методов, такие как `training_step`, `test_step`, которые рассмотрим далее.\n",
    "  \n",
    "* `Trainer` - функция обучения нейронки, внутри которой есть абсолютно **ВСЕ**: если захотели включить Early Stopping - добавили callback и все!\n",
    "  \n",
    "* `LightningDataModule` - наследник `Dataset`, но который может возвращать помимо `Dataset` еще и `Dataloader` и делать это сразу для train, test, valid частей - очень удобно!"
   ]
  },
  {
   "cell_type": "markdown",
   "metadata": {},
   "source": [
    "# <center id=\"c5\"> 👆 DataModule = Dataset + Dataloader ✌️ </center>"
   ]
  },
  {
   "cell_type": "markdown",
   "metadata": {},
   "source": [
    "<div class=\"alert alert-success\">\n",
    "\n",
    "`LightningDataModule` — это класс из библиотеки `Lightning`, который предназначен для упрощения работы с данными в процессе обучения моделей. Он помогает организовать загрузку, предобработку и разделение данных на обучающие, валидационные и тестовые выборки. У него есть следующие методы:\n",
    "\n",
    "- **`train_dataloader(), val_dataloader(), test_dataloader()`**: \n",
    "   - Метод, который возвращает `DataLoader` для `train`, `valid`, `test` частей соответсвенно\n",
    "\n",
    "- **`prepare_data()`**: \n",
    "   - Метод, который отвечает за подготовку данных. Например загрузка датасета, токенизация текста, применение аугментаций и тд. Этот метод вызывается один раз и исполняется только на одном потоке и не может быть распараллелено \n",
    "\n",
    "- **`setup(stage)`**: \n",
    "    - Метод, который используется для разделения данных"
   ]
  },
  {
   "cell_type": "code",
   "execution_count": 21,
   "metadata": {},
   "outputs": [],
   "source": [
    "# стало\n",
    "class RidesLightning(LightningDataModule):\n",
    "    def __init__(self, cfg: CFG, train_datasets: dict) -> None: \n",
    "        # Сохраняем переменные для дальнейшей работы\n",
    "        super().__init__()\n",
    "\n",
    "        self.cfg = cfg\n",
    "        self.datasets = train_datasets\n",
    "\n",
    "    def setup(self, stage: str):\n",
    "        # Создаем Dataset'ы\n",
    "        self.train = self.datasets[\"train\"]\n",
    "        self.val = self.datasets[\"val\"]\n",
    "\n",
    "    \n",
    "    def _make_dataloader(self, dataset, cfg):\n",
    "        # Общий метод для создания DataLoader\n",
    "        return DataLoader(\n",
    "            dataset,\n",
    "            batch_size=self.cfg.batch_size,\n",
    "            num_workers=self.cfg.num_workers,\n",
    "            pin_memory=True\n",
    "        )\n",
    "\n",
    "    def train_dataloader(self):\n",
    "        # Возвращаем Train Dataloader\n",
    "        return self._make_dataloader(self.train, cfg)\n",
    "    \n",
    "    def val_dataloader(self):\n",
    "        # Возвращаем Valid Dataset\n",
    "        return self._make_dataloader(self.val, cfg)\n",
    "    \n",
    "    def teardown(self, stage: str):\n",
    "        # Функция, которая выполняется после создания Dataloader - здесь можно удалить ненужные компоненты\n",
    "        del self.train, self.val"
   ]
  },
  {
   "cell_type": "markdown",
   "metadata": {},
   "source": [
    "<div class=\"alert alert-info\">\n",
    "\n",
    "`LightningDataModule` можно использовать и отдельно для ваших нужд, если вы хотите использовать `Dataset` из `Lightning`, а обучать модель на `PyTorch` 💀"
   ]
  },
  {
   "cell_type": "code",
   "execution_count": 22,
   "metadata": {},
   "outputs": [
    {
     "name": "stdout",
     "output_type": "stream",
     "text": [
      "[tensor([[-1.1111,  0.0000, -0.0181,  ...,  0.0000,  1.0000,  0.0000],\n",
      "        [ 0.0952,  1.0000,  0.6605,  ...,  0.0000,  0.0000,  0.0000],\n",
      "        [-0.5079, -1.0000, -0.8801,  ...,  0.0000,  0.0000,  0.0000],\n",
      "        ...,\n",
      "        [-1.4762,  0.0000, -0.2131,  ...,  0.0000,  0.0000,  0.0000],\n",
      "        [ 1.0000,  0.5000,  0.3926,  ...,  0.0000,  0.0000,  0.0000],\n",
      "        [ 0.6825,  0.5000,  0.3835,  ...,  0.0000,  0.0000,  0.0000]]), tensor([-0.2579, -0.5486,  0.0726,  0.7590,  0.5905, -0.3650, -0.0700,  0.6622,\n",
      "         0.5253, -0.3490,  0.2661,  1.4752,  0.3952,  0.7827,  0.1685, -0.1689,\n",
      "         0.8199, -0.4998,  0.9741,  0.6505,  0.4255, -0.3572, -0.6168,  0.0505,\n",
      "         0.7067, -0.2095, -0.4873, -0.2186,  0.7957, -0.4307,  2.0203,  0.8903,\n",
      "        -0.5114, -0.3490, -0.4998, -0.7015, -0.2104, -0.1153,  0.0739,  1.1529,\n",
      "         0.1581,  1.2514, -0.5987,  1.6298,  0.4013,  1.1749,  1.5849,  0.6894,\n",
      "        -0.3654, -0.2527,  0.3724, -0.2976, -0.3927,  0.6674, -0.3438,  0.7179,\n",
      "         0.6371,  0.0886,  0.3875,  0.3914, -0.5084,  0.0613, -0.5801,  1.0605,\n",
      "        -0.1637, -0.3097,  0.9413, -0.1114, -0.4376, -0.1413,  0.6173, -0.4203,\n",
      "        -0.4717, -0.4847, -0.3460, -0.0302,  0.8609,  0.9089, -0.5801,  0.0117,\n",
      "        -0.1343, -0.0376,  0.3564,  0.2259,  1.9814,  0.6894,  0.0505, -0.5270,\n",
      "        -0.0397, -0.2104,  0.2060,  0.5317, -0.4881, -0.0289,  0.5460,  0.9214,\n",
      "        -0.2903, -0.5227, -0.1171,  1.3456,  2.5754, -0.7659, -0.0354,  1.6324,\n",
      "        -0.4778,  0.5974, -0.3797, -0.4825,  0.1171, -0.0652,  1.1067,  1.3598,\n",
      "         1.0099, -0.1767, -0.4609, -0.6069, -0.5192,  0.3443, -0.5464, -0.6786,\n",
      "        -0.3400, -0.2216,  1.2307,  0.9689, -0.2276,  1.6501,  0.5119,  0.2557]), tensor([1, 2, 2, 5, 6, 4, 1, 0, 5, 6, 2, 0, 5, 0, 3, 1, 3, 6, 0, 3, 5, 2, 4, 3,\n",
      "        0, 2, 2, 4, 3, 8, 0, 3, 1, 8, 4, 7, 6, 4, 8, 5, 4, 0, 1, 6, 3, 3, 0, 0,\n",
      "        4, 8, 7, 2, 1, 3, 4, 3, 5, 7, 3, 3, 4, 6, 6, 0, 2, 1, 3, 7, 2, 2, 5, 6,\n",
      "        6, 1, 2, 4, 0, 0, 1, 4, 6, 7, 3, 6, 0, 3, 8, 4, 7, 8, 3, 0, 2, 6, 5, 5,\n",
      "        7, 2, 1, 5, 0, 1, 2, 5, 6, 3, 7, 7, 4, 8, 3, 3, 3, 2, 6, 4, 8, 5, 6, 4,\n",
      "        4, 8, 3, 5, 7, 0, 5, 6])]\n"
     ]
    }
   ],
   "source": [
    "# Проверим как выглядит один батч\n",
    "dataset = RidesLightning(cfg, train_datasets)\n",
    "dataset.setup('fit')\n",
    "train_dataloader = dataset.train_dataloader()\n",
    "\n",
    "for batch in train_dataloader:\n",
    "    print(batch)\n",
    "    data, tar_reg, tar_class = batch\n",
    "    break"
   ]
  },
  {
   "cell_type": "markdown",
   "metadata": {},
   "source": [
    "\n",
    "\n",
    "<div class=\"alert alert-info\">\n",
    "\n",
    "Казалось бы сам класс увеличился в размерах, тогда в чем смысл? 🧐"
   ]
  },
  {
   "cell_type": "markdown",
   "metadata": {},
   "source": [
    "<div class=\"alert alert-success\">\n",
    "\n",
    "**Два плюса использования `DataModule` от `Lightning`:**\n",
    "    \n",
    "- Класс возвращает сразу `DataLoader` и не надо искать по всему проекту, где мы их создавали - если возникнет какая-то ошибка\n",
    "- Модульность. Если бы использовали `Dataset` и `Dataloader` от `Pytorch` - пришлось создавать, как минимум два файла, а при использовании `Lightning` - мы создаем все в одном месте и уменьшаем кол-во потенциальных ошибок при масштабировании проекта "
   ]
  },
  {
   "cell_type": "markdown",
   "metadata": {},
   "source": [
    "# <center id=\"c6\"> 🪚 Пилим нейронку c Lightning ⚡️ (стало) </center>"
   ]
  },
  {
   "cell_type": "markdown",
   "metadata": {},
   "source": [
    "Очередняя фишка `Lightning` скрывается в модуле `LightningModule`. Нейронка, отнаследованная от этого класса имеет так называемые хуки (hooks). Хуки позволяют максимально гибко настроить процесс обучения - они автоматизируют `train loop` и процесс обучения выглядит так:"
   ]
  },
  {
   "cell_type": "markdown",
   "metadata": {},
   "source": [
    "<div class=\"alert alert-info\">\n",
    "\n",
    "```python\n",
    "def fit_loop():\n",
    "    torch.set_grad_enabled(True)\n",
    "\n",
    "    on_train_epoch_start()\n",
    "\n",
    "    for batch in train_dataloader():\n",
    "        on_train_batch_start()\n",
    "\n",
    "        on_before_batch_transfer()\n",
    "        transfer_batch_to_device()\n",
    "        on_after_batch_transfer()\n",
    "\n",
    "        out = training_step()\n",
    "\n",
    "        on_before_zero_grad()\n",
    "        optimizer_zero_grad()\n",
    "\n",
    "        on_before_backward()\n",
    "        backward()\n",
    "        on_after_backward()\n",
    "\n",
    "        on_before_optimizer_step()\n",
    "        configure_gradient_clipping()\n",
    "        optimizer_step()\n",
    "\n",
    "        on_train_batch_end(out, batch, batch_idx)\n",
    "\n",
    "        if should_check_val:\n",
    "            val_loop()\n",
    "\n",
    "    on_train_epoch_end()\n",
    "```\n"
   ]
  },
  {
   "cell_type": "markdown",
   "metadata": {},
   "source": [
    "<div class=\"alert alert-info\">\n",
    "\n",
    "Давайте посмотрим на основные `hook`'и, которые чаще всего надо править:\n",
    "\n",
    "`training_step(), validation_step(), test_step()`\n",
    "- Вызывается при каждом шаге обучения \n",
    "- Используется чтобы посчитать loss, метрики и залогировать их "
   ]
  },
  {
   "cell_type": "markdown",
   "metadata": {},
   "source": [
    "<div class=\"alert alert-info\">\n",
    "\n",
    "`{train,validation}_epoch_{end,start}`\n",
    "- Вызывается при начале обучения/валидации или окончании\n",
    "- Здесь обнуляем накопленные градиенты, счетчики и прочее"
   ]
  },
  {
   "cell_type": "markdown",
   "metadata": {},
   "source": [
    "<div class=\"alert alert-info\">\n",
    "\n",
    "`on_fit_start, on_fit_end`\n",
    "- Вызывается при старте обучения сетки\n",
    "- Можно использовать, чтобы отправлять сообщения о том, что началось обучение сетки"
   ]
  },
  {
   "cell_type": "markdown",
   "metadata": {},
   "source": [
    "<div class=\"alert alert-info\">\n",
    "\n",
    "`configure_optimizers()`\n",
    "- Определяем оптимизатор, scheduler и их параметры"
   ]
  },
  {
   "cell_type": "markdown",
   "metadata": {},
   "source": [
    "<div class=\"alert alert-success\">\n",
    "\n",
    "И вы можете настраивать **каждую функцию** при необходимости, если обучаете замысловатую сетку!\n",
    "\n",
    "<p style=\"text-align: center;\"> \n",
    "    Давайте посмотрим, как это применить на практике 🤗\n",
    "</p>\n"
   ]
  },
  {
   "cell_type": "code",
   "execution_count": 23,
   "metadata": {},
   "outputs": [],
   "source": [
    "from lightning import LightningModule\n",
    "\n",
    "class LightningModel(LightningModule): # Элемент от Lightning\n",
    "    def __init__(self, cfg: CFG):\n",
    "        super().__init__()\n",
    "        self.cfg = cfg\n",
    "        self.lr = cfg.lr # ВАЖНО! Сохраняйте lr в модели\n",
    "\n",
    "        self.mlp = nn.Sequential(\n",
    "            nn.Linear(cfg.num_features, cfg.hidden_size),\n",
    "            # nn.BatchNorm1d(cfg.hidden_size),\n",
    "            nn.Dropout(cfg.dropout),\n",
    "            nn.LeakyReLU(),\n",
    "            nn.Linear(cfg.hidden_size, cfg.hidden_size),\n",
    "            # nn.BatchNorm1d(cfg.hidden_size),\n",
    "            nn.Dropout(cfg.dropout),\n",
    "            nn.GELU(),\n",
    "            nn.Linear(cfg.hidden_size, cfg.hidden_size // 2),\n",
    "        )\n",
    "        # Так как два таргета, делаем две головы - одна для регрессии, другая - классификации\n",
    "        self.regressor = nn.Sequential(nn.Linear(cfg.hidden_size // 2, 1))\n",
    "        self.classifier = nn.Sequential(\n",
    "            nn.Linear(cfg.hidden_size // 2, cfg.num_tar_class)\n",
    "        )\n",
    "        \n",
    "        self.regressor = nn.Sequential(nn.Linear(cfg.hidden_size // 2, 1))\n",
    "\n",
    "        self.regression_criterion = nn.MSELoss()\n",
    "        self.classification_criterion = nn.CrossEntropyLoss()\n",
    "\n",
    "    def forward(self, x):\n",
    "        # Forward pass through the network\n",
    "        x = self.mlp(x)\n",
    "        tar_reg = self.regressor(x)\n",
    "        tar_class = self.classifier(x)\n",
    "        return tar_reg.view(-1), tar_class\n",
    "    \n",
    "    def basic_step(self, batch, batch_idx, step: str):\n",
    "        # Получаем данные\n",
    "        data, reg_target, clas_target = batch\n",
    "\n",
    "        pred_reg, pred_clas = self(data)\n",
    "\n",
    "        loss_reg = self.regression_criterion(pred_reg, reg_target)\n",
    "        loss_class = self.classification_criterion(pred_clas, clas_target)\n",
    "        loss = loss_reg + loss_class\n",
    "\n",
    "        loss_dict = {\n",
    "            f\"{step}/loss\": loss,\n",
    "            f\"{step}/reg_loss\": loss_reg,\n",
    "            f\"{step}/reg_class\": loss_class\n",
    "        }\n",
    "\n",
    "        self.log_dict(loss_dict, prog_bar=True)\n",
    "\n",
    "        return loss_dict\n",
    "    \n",
    "    def training_step(self, batch, batch_idx):\n",
    "        loss_dict = self.basic_step(batch, batch_idx, \"train\")\n",
    "        return loss_dict[\"train/loss\"]\n",
    "    \n",
    "    def validation_step(self, batch, batch_idx):\n",
    "        loss_dict = self.basic_step(batch, batch_idx, \"valid\")\n",
    "        return loss_dict[\"valid/loss\"]\n",
    "    \n",
    "    \n",
    "    def test_step(self, batch, batch_idx):\n",
    "        loss_dict = self.basic_step(batch, batch_idx, \"test\")\n",
    "        return loss_dict[\"test/loss\"]\n",
    "    \n",
    "    def configure_optimizers(self):\n",
    "        optimizer = torch.optim.AdamW(self.parameters(), lr=self.lr, weight_decay=0.05)\n",
    "        scheduler = torch.optim.lr_scheduler.CosineAnnealingLR(optimizer, T_max=self.cfg.epochs)\n",
    "\n",
    "        return {\n",
    "            \"optimizer\": optimizer,\n",
    "            \"lr_scheduler\": {\n",
    "                \"scheduler\": scheduler,\n",
    "                \"monitor\": \"train/loss\",\n",
    "                \"interval\": \"epoch\",\n",
    "                \"reduce_on_plateau\": True,\n",
    "            }\n",
    "        }"
   ]
  },
  {
   "cell_type": "markdown",
   "metadata": {},
   "source": [
    "\n",
    "\n",
    "<div class=\"alert alert-info\">\n",
    "\n",
    "**Зачем использовать `LightningModule`?**\n",
    "\n",
    "Хотя может показаться, что стало значительно больше кода, он заботится о стольких удобных вещах, что на самом деле сохраняет нам строки кода в долгосрочной перспективе. Этот класс также реализует больше, чем просто архитектуру нейронной сети и минимум для обучения. Даёт доступ к большей гибкости, для тонкой настройки процесса обучения и инференса с помощью хуков (hooks)."
   ]
  },
  {
   "cell_type": "code",
   "execution_count": 24,
   "metadata": {},
   "outputs": [
    {
     "data": {
      "text/plain": [
       "LightningModel(\n",
       "  (mlp): Sequential(\n",
       "    (0): Linear(in_features=43, out_features=128, bias=True)\n",
       "    (1): Dropout(p=0.1, inplace=False)\n",
       "    (2): LeakyReLU(negative_slope=0.01)\n",
       "    (3): Linear(in_features=128, out_features=128, bias=True)\n",
       "    (4): Dropout(p=0.1, inplace=False)\n",
       "    (5): GELU(approximate='none')\n",
       "    (6): Linear(in_features=128, out_features=64, bias=True)\n",
       "  )\n",
       "  (regressor): Sequential(\n",
       "    (0): Linear(in_features=64, out_features=1, bias=True)\n",
       "  )\n",
       "  (classifier): Sequential(\n",
       "    (0): Linear(in_features=64, out_features=9, bias=True)\n",
       "  )\n",
       "  (regression_criterion): MSELoss()\n",
       "  (classification_criterion): CrossEntropyLoss()\n",
       ")"
      ]
     },
     "execution_count": 24,
     "metadata": {},
     "output_type": "execute_result"
    }
   ],
   "source": [
    "model = LightningModel(cfg)\n",
    "model"
   ]
  },
  {
   "cell_type": "code",
   "execution_count": 25,
   "metadata": {},
   "outputs": [
    {
     "data": {
      "image/png": "[encoded data removed]",
      "text/plain": [
       "<graphviz.graphs.Digraph at 0x7f5470f72f50>"
      ]
     },
     "execution_count": 25,
     "metadata": {},
     "output_type": "execute_result"
    }
   ],
   "source": [
    "# Посмотрим какая модель у нас получилась\n",
    "from torchview import draw_graph\n",
    "\n",
    "model_graph = draw_graph(model, input_size=[cfg.num_features], expand_nested=True)\n",
    "model_graph.visual_graph"
   ]
  },
  {
   "cell_type": "markdown",
   "metadata": {},
   "source": [
    "# <center id=\"c7\"> 🧌 Не боги неройнки обучают - запускаем Trainer </center>"
   ]
  },
  {
   "cell_type": "markdown",
   "metadata": {},
   "source": [
    "<div class=\"alert alert-info\">\n",
    "    \n",
    "Получаем точно такую же модельку, так что давайте обучим ее!\n",
    "Для этого воспользуемся второй основной фишкой Lightning - `trainer`. Это класс, который управляет процессом обучения модели. Мы можем передать ему параметры и вызвать методы для обучения.\n",
    "\n",
    "Вот как это делается:\n",
    "\n",
    "1. Создаем экземпляр класса `Trainer`.\n",
    "2. Устанавливаем параметры обучения.\n",
    "3. Вызываем метод `fit` для обучения модели на тренировочном наборе данных.\n",
    "\n",
    "Давайте создадим экземпляр класса `Trainer`, укажем параметры и вызовем метод `fit`."
   ]
  },
  {
   "cell_type": "code",
   "execution_count": 26,
   "metadata": {},
   "outputs": [
    {
     "name": "stderr",
     "output_type": "stream",
     "text": [
      "GPU available: True (cuda), used: True\n",
      "TPU available: False, using: 0 TPU cores\n",
      "HPU available: False, using: 0 HPUs\n",
      "/app/storage_local/Course/ml_instruments/.venv/lib/python3.10/site-packages/lightning/pytorch/trainer/connectors/logger_connector/logger_connector.py:76: Starting from v1.9.0, `tensorboardX` has been removed as a dependency of the `lightning.pytorch` package, due to potential conflicts with other packages in the ML ecosystem. For this reason, `logger=True` will use `CSVLogger` as the default logger, unless the `tensorboard` or `tensorboardX` packages are found. Please `pip install lightning[extra]` or one of them to enable TensorBoard support by default\n"
     ]
    }
   ],
   "source": [
    "trainer = Trainer(\n",
    "    max_epochs=cfg.epochs, \n",
    "    log_every_n_steps=1,\n",
    ")"
   ]
  },
  {
   "cell_type": "code",
   "execution_count": 27,
   "metadata": {},
   "outputs": [
    {
     "name": "stderr",
     "output_type": "stream",
     "text": [
      "You are using a CUDA device ('NVIDIA GeForce RTX 3090') that has Tensor Cores. To properly utilize them, you should set `torch.set_float32_matmul_precision('medium' | 'high')` which will trade-off precision for performance. For more details, read https://pytorch.org/docs/stable/generated/torch.set_float32_matmul_precision.html#torch.set_float32_matmul_precision\n",
      "LOCAL_RANK: 0 - CUDA_VISIBLE_DEVICES: [0]\n",
      "\n",
      "  | Name                     | Type             | Params | Mode \n",
      "----------------------------------------------------------------------\n",
      "0 | mlp                      | Sequential       | 30.4 K | train\n",
      "1 | regressor                | Sequential       | 65     | train\n",
      "2 | classifier               | Sequential       | 585    | train\n",
      "3 | regression_criterion     | MSELoss          | 0      | train\n",
      "4 | classification_criterion | CrossEntropyLoss | 0      | train\n",
      "----------------------------------------------------------------------\n",
      "31.1 K    Trainable params\n",
      "0         Non-trainable params\n",
      "31.1 K    Total params\n",
      "0.124     Total estimated model params size (MB)\n",
      "14        Modules in train mode\n",
      "0         Modules in eval mode\n"
     ]
    },
    {
     "data": {
      "application/vnd.jupyter.widget-view+json": {
       "model_id": "bc65744b85f34bb8b2b97dcbef158ea6",
       "version_major": 2,
       "version_minor": 0
      },
      "text/plain": [
       "Sanity Checking: |                                                                                            …"
      ]
     },
     "metadata": {},
     "output_type": "display_data"
    },
    {
     "data": {
      "application/vnd.jupyter.widget-view+json": {
       "model_id": "8c8c2179c2fa4092ba263a8860ee175f",
       "version_major": 2,
       "version_minor": 0
      },
      "text/plain": [
       "Training: |                                                                                                   …"
      ]
     },
     "metadata": {},
     "output_type": "display_data"
    },
    {
     "data": {
      "application/vnd.jupyter.widget-view+json": {
       "model_id": "4893512585ed4ff1869d46af2a78160e",
       "version_major": 2,
       "version_minor": 0
      },
      "text/plain": [
       "Validation: |                                                                                                 …"
      ]
     },
     "metadata": {},
     "output_type": "display_data"
    },
    {
     "name": "stderr",
     "output_type": "stream",
     "text": [
      "/app/storage_local/Course/ml_instruments/.venv/lib/python3.10/site-packages/torch/optim/lr_scheduler.py:243: UserWarning: The epoch parameter in `scheduler.step()` was not necessary and is being deprecated where possible. Please use `scheduler.step()` to step the scheduler. During the deprecation, if epoch is different from None, the closed form is used instead of the new chainable form, where available. Please open an issue if you are unable to replicate your use case: https://github.com/pytorch/pytorch/issues/new/choose.\n",
      "  warnings.warn(EPOCH_DEPRECATION_WARNING, UserWarning)\n"
     ]
    },
    {
     "data": {
      "application/vnd.jupyter.widget-view+json": {
       "model_id": "9f949c9696114fcf98b8c7b855f4e536",
       "version_major": 2,
       "version_minor": 0
      },
      "text/plain": [
       "Validation: |                                                                                                 …"
      ]
     },
     "metadata": {},
     "output_type": "display_data"
    },
    {
     "data": {
      "application/vnd.jupyter.widget-view+json": {
       "model_id": "82ba7c83823e4f21b3da5246b67620a0",
       "version_major": 2,
       "version_minor": 0
      },
      "text/plain": [
       "Validation: |                                                                                                 …"
      ]
     },
     "metadata": {},
     "output_type": "display_data"
    },
    {
     "data": {
      "application/vnd.jupyter.widget-view+json": {
       "model_id": "a7077c84cfff46038212908596559684",
       "version_major": 2,
       "version_minor": 0
      },
      "text/plain": [
       "Validation: |                                                                                                 …"
      ]
     },
     "metadata": {},
     "output_type": "display_data"
    },
    {
     "data": {
      "application/vnd.jupyter.widget-view+json": {
       "model_id": "5394bc2c845944f5a30a80cb2cfa7fea",
       "version_major": 2,
       "version_minor": 0
      },
      "text/plain": [
       "Validation: |                                                                                                 …"
      ]
     },
     "metadata": {},
     "output_type": "display_data"
    },
    {
     "data": {
      "application/vnd.jupyter.widget-view+json": {
       "model_id": "a89ac3b60f9c4de88ccde842a3151a36",
       "version_major": 2,
       "version_minor": 0
      },
      "text/plain": [
       "Validation: |                                                                                                 …"
      ]
     },
     "metadata": {},
     "output_type": "display_data"
    },
    {
     "data": {
      "application/vnd.jupyter.widget-view+json": {
       "model_id": "e6f528e3224b46dea42ff4e2725f71bf",
       "version_major": 2,
       "version_minor": 0
      },
      "text/plain": [
       "Validation: |                                                                                                 …"
      ]
     },
     "metadata": {},
     "output_type": "display_data"
    },
    {
     "data": {
      "application/vnd.jupyter.widget-view+json": {
       "model_id": "95df2470ac064832877464366918befa",
       "version_major": 2,
       "version_minor": 0
      },
      "text/plain": [
       "Validation: |                                                                                                 …"
      ]
     },
     "metadata": {},
     "output_type": "display_data"
    },
    {
     "data": {
      "application/vnd.jupyter.widget-view+json": {
       "model_id": "d6bfef7d3aa1485b8387269815f37305",
       "version_major": 2,
       "version_minor": 0
      },
      "text/plain": [
       "Validation: |                                                                                                 …"
      ]
     },
     "metadata": {},
     "output_type": "display_data"
    },
    {
     "data": {
      "application/vnd.jupyter.widget-view+json": {
       "model_id": "62735437f9d741a0ba9218eb9209d9b6",
       "version_major": 2,
       "version_minor": 0
      },
      "text/plain": [
       "Validation: |                                                                                                 …"
      ]
     },
     "metadata": {},
     "output_type": "display_data"
    },
    {
     "data": {
      "application/vnd.jupyter.widget-view+json": {
       "model_id": "4e8d0b7bc2974b70a8edb2d63eba831d",
       "version_major": 2,
       "version_minor": 0
      },
      "text/plain": [
       "Validation: |                                                                                                 …"
      ]
     },
     "metadata": {},
     "output_type": "display_data"
    },
    {
     "data": {
      "application/vnd.jupyter.widget-view+json": {
       "model_id": "bef9bdbd7ed546c39c3d07c8c897924a",
       "version_major": 2,
       "version_minor": 0
      },
      "text/plain": [
       "Validation: |                                                                                                 …"
      ]
     },
     "metadata": {},
     "output_type": "display_data"
    },
    {
     "data": {
      "application/vnd.jupyter.widget-view+json": {
       "model_id": "4aa4df11b4df468fa0ce0632f80fe522",
       "version_major": 2,
       "version_minor": 0
      },
      "text/plain": [
       "Validation: |                                                                                                 …"
      ]
     },
     "metadata": {},
     "output_type": "display_data"
    },
    {
     "data": {
      "application/vnd.jupyter.widget-view+json": {
       "model_id": "176830ad7eaf423799df363cc730837d",
       "version_major": 2,
       "version_minor": 0
      },
      "text/plain": [
       "Validation: |                                                                                                 …"
      ]
     },
     "metadata": {},
     "output_type": "display_data"
    },
    {
     "data": {
      "application/vnd.jupyter.widget-view+json": {
       "model_id": "5f068f72e34e48848ccbcb4c2990ecf4",
       "version_major": 2,
       "version_minor": 0
      },
      "text/plain": [
       "Validation: |                                                                                                 …"
      ]
     },
     "metadata": {},
     "output_type": "display_data"
    },
    {
     "data": {
      "application/vnd.jupyter.widget-view+json": {
       "model_id": "79ca5864a6914ac4b3c6e1fd9ad0f106",
       "version_major": 2,
       "version_minor": 0
      },
      "text/plain": [
       "Validation: |                                                                                                 …"
      ]
     },
     "metadata": {},
     "output_type": "display_data"
    },
    {
     "data": {
      "application/vnd.jupyter.widget-view+json": {
       "model_id": "130ef9590d954611be6045f6cbae51c7",
       "version_major": 2,
       "version_minor": 0
      },
      "text/plain": [
       "Validation: |                                                                                                 …"
      ]
     },
     "metadata": {},
     "output_type": "display_data"
    },
    {
     "data": {
      "application/vnd.jupyter.widget-view+json": {
       "model_id": "f9c06943feec40df84b102f22b989491",
       "version_major": 2,
       "version_minor": 0
      },
      "text/plain": [
       "Validation: |                                                                                                 …"
      ]
     },
     "metadata": {},
     "output_type": "display_data"
    },
    {
     "data": {
      "application/vnd.jupyter.widget-view+json": {
       "model_id": "4c32c295da484b8c8faef759bc8ed592",
       "version_major": 2,
       "version_minor": 0
      },
      "text/plain": [
       "Validation: |                                                                                                 …"
      ]
     },
     "metadata": {},
     "output_type": "display_data"
    },
    {
     "data": {
      "application/vnd.jupyter.widget-view+json": {
       "model_id": "8c4a7f8e00e84e44acbe6135b4f28724",
       "version_major": 2,
       "version_minor": 0
      },
      "text/plain": [
       "Validation: |                                                                                                 …"
      ]
     },
     "metadata": {},
     "output_type": "display_data"
    },
    {
     "name": "stderr",
     "output_type": "stream",
     "text": [
      "`Trainer.fit` stopped: `max_epochs=20` reached.\n"
     ]
    }
   ],
   "source": [
    "trainer.fit(model, datamodule=dataset)"
   ]
  },
  {
   "cell_type": "markdown",
   "metadata": {},
   "source": [
    "# <center id=\"c8\"> 🩺 Отладка + Profiler 🎛 </center>\n",
    "\n",
    "<div class=\"alert alert-info\">\n",
    "    \n",
    "Также в `Lightning` есть удобная отладка модели - `Profiler` и `fast_dev_run`\n",
    "\n",
    "* `Profiler` позволяет измерить время выполнения каждого слоя и функции, чтобы найти проблемы в модели\n",
    "* `fast_dev_run` позволяет быстро проверить работу модели на тренировочном наборе данных и далее проверить на валидационной выборке. Он выполнит 1 эпоху для теста"
   ]
  },
  {
   "cell_type": "code",
   "execution_count": 28,
   "metadata": {},
   "outputs": [
    {
     "name": "stderr",
     "output_type": "stream",
     "text": [
      "GPU available: True (cuda), used: True\n",
      "TPU available: False, using: 0 TPU cores\n",
      "HPU available: False, using: 0 HPUs\n",
      "Running in `fast_dev_run` mode: will run the requested loop using 1 batch(es). Logging and checkpointing is suppressed.\n"
     ]
    }
   ],
   "source": [
    "trainer = Trainer(fast_dev_run=True)"
   ]
  },
  {
   "cell_type": "code",
   "execution_count": 29,
   "metadata": {},
   "outputs": [
    {
     "name": "stderr",
     "output_type": "stream",
     "text": [
      "LOCAL_RANK: 0 - CUDA_VISIBLE_DEVICES: [0]\n",
      "\n",
      "  | Name                     | Type             | Params | Mode \n",
      "----------------------------------------------------------------------\n",
      "0 | mlp                      | Sequential       | 30.4 K | train\n",
      "1 | regressor                | Sequential       | 65     | train\n",
      "2 | classifier               | Sequential       | 585    | train\n",
      "3 | regression_criterion     | MSELoss          | 0      | train\n",
      "4 | classification_criterion | CrossEntropyLoss | 0      | train\n",
      "----------------------------------------------------------------------\n",
      "31.1 K    Trainable params\n",
      "0         Non-trainable params\n",
      "31.1 K    Total params\n",
      "0.124     Total estimated model params size (MB)\n",
      "14        Modules in train mode\n",
      "0         Modules in eval mode\n"
     ]
    },
    {
     "data": {
      "application/vnd.jupyter.widget-view+json": {
       "model_id": "7897d9d01dc24e3d8d35c77c840a410c",
       "version_major": 2,
       "version_minor": 0
      },
      "text/plain": [
       "Training: |                                                                                                   …"
      ]
     },
     "metadata": {},
     "output_type": "display_data"
    },
    {
     "data": {
      "application/vnd.jupyter.widget-view+json": {
       "model_id": "13fa5a7935bb4eeda278f0a123604248",
       "version_major": 2,
       "version_minor": 0
      },
      "text/plain": [
       "Validation: |                                                                                                 …"
      ]
     },
     "metadata": {},
     "output_type": "display_data"
    },
    {
     "name": "stderr",
     "output_type": "stream",
     "text": [
      "`Trainer.fit` stopped: `max_steps=1` reached.\n"
     ]
    }
   ],
   "source": [
    "trainer.fit(model, datamodule=dataset)"
   ]
  },
  {
   "cell_type": "markdown",
   "metadata": {},
   "source": [
    "<div class=\"alert alert-info\">\n",
    "    \n",
    "Модель успешно прошла 1 эпоху обучения - теперь можем запускать на большее количество эпох!"
   ]
  },
  {
   "cell_type": "markdown",
   "metadata": {},
   "source": [
    "<div class=\"alert alert-success\">\n",
    "    \n",
    "Запустим обучение с профайлером, чтобы понять, где в нашей архитектуре (или в нашем пайплайне) узкие места."
   ]
  },
  {
   "cell_type": "code",
   "execution_count": 30,
   "metadata": {},
   "outputs": [
    {
     "name": "stderr",
     "output_type": "stream",
     "text": [
      "GPU available: True (cuda), used: True\n",
      "TPU available: False, using: 0 TPU cores\n",
      "HPU available: False, using: 0 HPUs\n"
     ]
    }
   ],
   "source": [
    "trainer = Trainer(\n",
    "    profiler='simple',\n",
    "    max_epochs=cfg.epochs,\n",
    "    log_every_n_steps=10,\n",
    ")"
   ]
  },
  {
   "cell_type": "code",
   "execution_count": 31,
   "metadata": {
    "scrolled": true
   },
   "outputs": [
    {
     "name": "stderr",
     "output_type": "stream",
     "text": [
      "LOCAL_RANK: 0 - CUDA_VISIBLE_DEVICES: [0]\n",
      "\n",
      "  | Name                     | Type             | Params | Mode \n",
      "----------------------------------------------------------------------\n",
      "0 | mlp                      | Sequential       | 30.4 K | train\n",
      "1 | regressor                | Sequential       | 65     | train\n",
      "2 | classifier               | Sequential       | 585    | train\n",
      "3 | regression_criterion     | MSELoss          | 0      | train\n",
      "4 | classification_criterion | CrossEntropyLoss | 0      | train\n",
      "----------------------------------------------------------------------\n",
      "31.1 K    Trainable params\n",
      "0         Non-trainable params\n",
      "31.1 K    Total params\n",
      "0.124     Total estimated model params size (MB)\n",
      "14        Modules in train mode\n",
      "0         Modules in eval mode\n"
     ]
    },
    {
     "data": {
      "application/vnd.jupyter.widget-view+json": {
       "model_id": "bc8f321d648e4fc0a20d6c08ccae9a57",
       "version_major": 2,
       "version_minor": 0
      },
      "text/plain": [
       "Sanity Checking: |                                                                                            …"
      ]
     },
     "metadata": {},
     "output_type": "display_data"
    },
    {
     "data": {
      "application/vnd.jupyter.widget-view+json": {
       "model_id": "63ea75bad14f43bb9c962f8de94a567c",
       "version_major": 2,
       "version_minor": 0
      },
      "text/plain": [
       "Training: |                                                                                                   …"
      ]
     },
     "metadata": {},
     "output_type": "display_data"
    },
    {
     "data": {
      "application/vnd.jupyter.widget-view+json": {
       "model_id": "84e5e4b64c1f43c59c586e486c6a6ed4",
       "version_major": 2,
       "version_minor": 0
      },
      "text/plain": [
       "Validation: |                                                                                                 …"
      ]
     },
     "metadata": {},
     "output_type": "display_data"
    },
    {
     "data": {
      "application/vnd.jupyter.widget-view+json": {
       "model_id": "2c0c857db6ca49edbb4342fb6df96e70",
       "version_major": 2,
       "version_minor": 0
      },
      "text/plain": [
       "Validation: |                                                                                                 …"
      ]
     },
     "metadata": {},
     "output_type": "display_data"
    },
    {
     "data": {
      "application/vnd.jupyter.widget-view+json": {
       "model_id": "4af3ff0a821e4cb99d8060549886e49d",
       "version_major": 2,
       "version_minor": 0
      },
      "text/plain": [
       "Validation: |                                                                                                 …"
      ]
     },
     "metadata": {},
     "output_type": "display_data"
    },
    {
     "data": {
      "application/vnd.jupyter.widget-view+json": {
       "model_id": "3f1a57a77df940f89b58961a8c83f130",
       "version_major": 2,
       "version_minor": 0
      },
      "text/plain": [
       "Validation: |                                                                                                 …"
      ]
     },
     "metadata": {},
     "output_type": "display_data"
    },
    {
     "data": {
      "application/vnd.jupyter.widget-view+json": {
       "model_id": "f85f2daabe454e65a5e2c93423ff963c",
       "version_major": 2,
       "version_minor": 0
      },
      "text/plain": [
       "Validation: |                                                                                                 …"
      ]
     },
     "metadata": {},
     "output_type": "display_data"
    },
    {
     "data": {
      "application/vnd.jupyter.widget-view+json": {
       "model_id": "c6b034c4651d43cc816159cd0fe5f0a6",
       "version_major": 2,
       "version_minor": 0
      },
      "text/plain": [
       "Validation: |                                                                                                 …"
      ]
     },
     "metadata": {},
     "output_type": "display_data"
    },
    {
     "data": {
      "application/vnd.jupyter.widget-view+json": {
       "model_id": "09c04ecf35ed4bd89c51bf37174e0922",
       "version_major": 2,
       "version_minor": 0
      },
      "text/plain": [
       "Validation: |                                                                                                 …"
      ]
     },
     "metadata": {},
     "output_type": "display_data"
    },
    {
     "data": {
      "application/vnd.jupyter.widget-view+json": {
       "model_id": "2cad2c1228ba4d9ebf6ad97ccb5ed562",
       "version_major": 2,
       "version_minor": 0
      },
      "text/plain": [
       "Validation: |                                                                                                 …"
      ]
     },
     "metadata": {},
     "output_type": "display_data"
    },
    {
     "data": {
      "application/vnd.jupyter.widget-view+json": {
       "model_id": "036399e873c84dbf8bfd7120f6ffdd55",
       "version_major": 2,
       "version_minor": 0
      },
      "text/plain": [
       "Validation: |                                                                                                 …"
      ]
     },
     "metadata": {},
     "output_type": "display_data"
    },
    {
     "data": {
      "application/vnd.jupyter.widget-view+json": {
       "model_id": "55cc5561d50b4113b4d797334e4b34f7",
       "version_major": 2,
       "version_minor": 0
      },
      "text/plain": [
       "Validation: |                                                                                                 …"
      ]
     },
     "metadata": {},
     "output_type": "display_data"
    },
    {
     "data": {
      "application/vnd.jupyter.widget-view+json": {
       "model_id": "f56c762f972d478bbdb16304008a3a12",
       "version_major": 2,
       "version_minor": 0
      },
      "text/plain": [
       "Validation: |                                                                                                 …"
      ]
     },
     "metadata": {},
     "output_type": "display_data"
    },
    {
     "data": {
      "application/vnd.jupyter.widget-view+json": {
       "model_id": "985d305f9a694923acab14e75c07bb00",
       "version_major": 2,
       "version_minor": 0
      },
      "text/plain": [
       "Validation: |                                                                                                 …"
      ]
     },
     "metadata": {},
     "output_type": "display_data"
    },
    {
     "data": {
      "application/vnd.jupyter.widget-view+json": {
       "model_id": "63e1d2fc03484540ab9377d91dcc1883",
       "version_major": 2,
       "version_minor": 0
      },
      "text/plain": [
       "Validation: |                                                                                                 …"
      ]
     },
     "metadata": {},
     "output_type": "display_data"
    },
    {
     "data": {
      "application/vnd.jupyter.widget-view+json": {
       "model_id": "622488654734400abdcc3f93c74fa011",
       "version_major": 2,
       "version_minor": 0
      },
      "text/plain": [
       "Validation: |                                                                                                 …"
      ]
     },
     "metadata": {},
     "output_type": "display_data"
    },
    {
     "data": {
      "application/vnd.jupyter.widget-view+json": {
       "model_id": "9d96e81d5c11462ca1670ea01f6166b4",
       "version_major": 2,
       "version_minor": 0
      },
      "text/plain": [
       "Validation: |                                                                                                 …"
      ]
     },
     "metadata": {},
     "output_type": "display_data"
    },
    {
     "data": {
      "application/vnd.jupyter.widget-view+json": {
       "model_id": "46678573f79f4b318c8695ab7b36e12c",
       "version_major": 2,
       "version_minor": 0
      },
      "text/plain": [
       "Validation: |                                                                                                 …"
      ]
     },
     "metadata": {},
     "output_type": "display_data"
    },
    {
     "data": {
      "application/vnd.jupyter.widget-view+json": {
       "model_id": "eabf4740c72c4f95adb6cbceb3dbbc70",
       "version_major": 2,
       "version_minor": 0
      },
      "text/plain": [
       "Validation: |                                                                                                 …"
      ]
     },
     "metadata": {},
     "output_type": "display_data"
    },
    {
     "data": {
      "application/vnd.jupyter.widget-view+json": {
       "model_id": "aa2b5190c47e4144a58e205966609f6f",
       "version_major": 2,
       "version_minor": 0
      },
      "text/plain": [
       "Validation: |                                                                                                 …"
      ]
     },
     "metadata": {},
     "output_type": "display_data"
    },
    {
     "data": {
      "application/vnd.jupyter.widget-view+json": {
       "model_id": "d7776cde8f5c47dd9788641421470ba3",
       "version_major": 2,
       "version_minor": 0
      },
      "text/plain": [
       "Validation: |                                                                                                 …"
      ]
     },
     "metadata": {},
     "output_type": "display_data"
    },
    {
     "data": {
      "application/vnd.jupyter.widget-view+json": {
       "model_id": "d75e72fad7c943a9bc6d18124073091f",
       "version_major": 2,
       "version_minor": 0
      },
      "text/plain": [
       "Validation: |                                                                                                 …"
      ]
     },
     "metadata": {},
     "output_type": "display_data"
    },
    {
     "name": "stderr",
     "output_type": "stream",
     "text": [
      "`Trainer.fit` stopped: `max_epochs=20` reached.\n",
      "FIT Profiler Report\n",
      "\n",
      "--------------------------------------------------------------------------------------------------------------------------------------------------------------------------------------------------------------------------------------------------------------------------\n",
      "|  Action                                                                                                                                                         \t|  Mean duration (s)\t|  Num calls      \t|  Total time (s) \t|  Percentage %   \t|\n",
      "--------------------------------------------------------------------------------------------------------------------------------------------------------------------------------------------------------------------------------------------------------------------------\n",
      "|  Total                                                                                                                                                          \t|  -              \t|  12725          \t|  12.987         \t|  100 %          \t|\n",
      "--------------------------------------------------------------------------------------------------------------------------------------------------------------------------------------------------------------------------------------------------------------------------\n",
      "|  run_training_epoch                                                                                                                                             \t|  0.59141        \t|  20             \t|  11.828         \t|  91.076         \t|\n",
      "|  run_training_batch                                                                                                                                             \t|  0.0069866      \t|  300            \t|  2.096          \t|  16.139         \t|\n",
      "|  [LightningModule]LightningModel.optimizer_step                                                                                                                 \t|  0.0068678      \t|  300            \t|  2.0603         \t|  15.864         \t|\n",
      "|  [_TrainingEpochLoop].train_dataloader_next                                                                                                                     \t|  0.005077       \t|  300            \t|  1.5231         \t|  11.728         \t|\n",
      "|  [Strategy]SingleDeviceStrategy.training_step                                                                                                                   \t|  0.0036392      \t|  300            \t|  1.0918         \t|  8.4065         \t|\n",
      "|  [Callback]ModelCheckpoint{'monitor': None, 'mode': 'min', 'every_n_train_steps': 0, 'every_n_epochs': 1, 'train_time_interval': None}.on_train_epoch_end       \t|  0.032428       \t|  20             \t|  0.64857        \t|  4.9939         \t|\n",
      "|  [Callback]TQDMProgressBar.on_train_batch_end                                                                                                                   \t|  0.0021307      \t|  300            \t|  0.63922        \t|  4.9219         \t|\n",
      "|  [Strategy]SingleDeviceStrategy.backward                                                                                                                        \t|  0.0016646      \t|  300            \t|  0.49939        \t|  3.8452         \t|\n",
      "|  save_checkpoint                                                                                                                                                \t|  0.024654       \t|  20             \t|  0.49308        \t|  3.7967         \t|\n",
      "|  [Callback]TQDMProgressBar.on_validation_start                                                                                                                  \t|  0.018081       \t|  21             \t|  0.37969        \t|  2.9236         \t|\n",
      "|  [Strategy]SingleDeviceStrategy.validation_step                                                                                                                 \t|  0.0035356      \t|  82             \t|  0.28992        \t|  2.2323         \t|\n",
      "|  [_EvaluationLoop].val_next                                                                                                                                     \t|  0.0020191      \t|  82             \t|  0.16557        \t|  1.2748         \t|\n",
      "|  [Strategy]SingleDeviceStrategy.batch_to_device                                                                                                                 \t|  0.00032218     \t|  382            \t|  0.12307        \t|  0.94766        \t|\n",
      "|  [LightningModule]LightningModel.transfer_batch_to_device                                                                                                       \t|  0.00023152     \t|  382            \t|  0.088442       \t|  0.68099        \t|\n",
      "|  [Callback]TQDMProgressBar.on_validation_batch_end                                                                                                              \t|  0.00073783     \t|  82             \t|  0.060502       \t|  0.46586        \t|\n",
      "|  [LightningModule]LightningModel.optimizer_zero_grad                                                                                                            \t|  0.00019181     \t|  300            \t|  0.057542       \t|  0.44307        \t|\n",
      "|  [Callback]TQDMProgressBar.on_validation_batch_start                                                                                                            \t|  0.0003679      \t|  82             \t|  0.030168       \t|  0.23229        \t|\n",
      "|  [Callback]TQDMProgressBar.on_validation_end                                                                                                                    \t|  0.0014142      \t|  21             \t|  0.029699       \t|  0.22868        \t|\n",
      "|  [Callback]TQDMProgressBar.on_train_epoch_start                                                                                                                 \t|  0.0010975      \t|  20             \t|  0.02195        \t|  0.16901        \t|\n",
      "|  [Callback]TQDMProgressBar.on_train_start                                                                                                                       \t|  0.020499       \t|  1              \t|  0.020499       \t|  0.15784        \t|\n",
      "|  [LightningModule]LightningModel.configure_gradient_clipping                                                                                                    \t|  3.5214e-05     \t|  300            \t|  0.010564       \t|  0.081343       \t|\n",
      "|  [Callback]TQDMProgressBar.on_sanity_check_start                                                                                                                \t|  0.0091323      \t|  1              \t|  0.0091323      \t|  0.070318       \t|\n",
      "|  [Callback]ModelCheckpoint{'monitor': None, 'mode': 'min', 'every_n_train_steps': 0, 'every_n_epochs': 1, 'train_time_interval': None}.on_train_batch_end       \t|  3.0128e-05     \t|  300            \t|  0.0090384      \t|  0.069595       \t|\n",
      "|  [Callback]TQDMProgressBar.on_train_epoch_end                                                                                                                   \t|  0.00039878     \t|  20             \t|  0.0079755      \t|  0.061411       \t|\n",
      "|  [LightningModule]LightningModel.on_validation_model_eval                                                                                                       \t|  0.0003136      \t|  21             \t|  0.0065855      \t|  0.050708       \t|\n",
      "|  [LightningModule]LightningModel.lr_scheduler_step                                                                                                              \t|  0.0002979      \t|  20             \t|  0.0059581      \t|  0.045877       \t|\n",
      "|  [LightningModule]LightningModel.on_validation_model_zero_grad                                                                                                  \t|  0.00024005     \t|  20             \t|  0.0048011      \t|  0.036968       \t|\n",
      "|  [Callback]ModelCheckpoint{'monitor': None, 'mode': 'min', 'every_n_train_steps': 0, 'every_n_epochs': 1, 'train_time_interval': None}.on_validation_end        \t|  8.7248e-05     \t|  21             \t|  0.0018322      \t|  0.014108       \t|\n",
      "|  [Callback]ModelSummary.on_train_batch_end                                                                                                                      \t|  5.8861e-06     \t|  300            \t|  0.0017658      \t|  0.013597       \t|\n",
      "|  [Callback]TQDMProgressBar.on_before_zero_grad                                                                                                                  \t|  4.5201e-06     \t|  300            \t|  0.001356       \t|  0.010441       \t|\n",
      "|  [Callback]ModelSummary.on_fit_start                                                                                                                            \t|  0.0013487      \t|  1              \t|  0.0013487      \t|  0.010385       \t|\n",
      "|  [Callback]TQDMProgressBar.on_after_backward                                                                                                                    \t|  3.6807e-06     \t|  300            \t|  0.0011042      \t|  0.0085024      \t|\n",
      "|  [LightningModule]LightningModel.on_before_batch_transfer                                                                                                       \t|  2.6736e-06     \t|  382            \t|  0.0010213      \t|  0.007864       \t|\n",
      "|  [Callback]TQDMProgressBar.on_before_backward                                                                                                                   \t|  3.1277e-06     \t|  300            \t|  0.0009383      \t|  0.0072248      \t|\n",
      "|  [Callback]TQDMProgressBar.on_train_batch_start                                                                                                                 \t|  3.0538e-06     \t|  300            \t|  0.00091614     \t|  0.0070542      \t|\n",
      "|  [Callback]TQDMProgressBar.on_before_optimizer_step                                                                                                             \t|  2.2875e-06     \t|  300            \t|  0.00068625     \t|  0.0052841      \t|\n",
      "|  [Callback]ModelCheckpoint{'monitor': None, 'mode': 'min', 'every_n_train_steps': 0, 'every_n_epochs': 1, 'train_time_interval': None}.on_after_backward        \t|  2.2531e-06     \t|  300            \t|  0.00067592     \t|  0.0052045      \t|\n",
      "|  [Callback]TQDMProgressBar.on_train_end                                                                                                                         \t|  0.00064536     \t|  1              \t|  0.00064536     \t|  0.0049692      \t|\n",
      "|  [LightningModule]LightningModel.on_before_zero_grad                                                                                                            \t|  2.1338e-06     \t|  300            \t|  0.00064015     \t|  0.0049291      \t|\n",
      "|  [Callback]ModelSummary.on_before_zero_grad                                                                                                                     \t|  2.0318e-06     \t|  300            \t|  0.00060954     \t|  0.0046934      \t|\n",
      "|  [LightningModule]LightningModel.on_after_batch_transfer                                                                                                        \t|  1.5956e-06     \t|  382            \t|  0.00060953     \t|  0.0046933      \t|\n",
      "|  [Callback]ModelCheckpoint{'monitor': None, 'mode': 'min', 'every_n_train_steps': 0, 'every_n_epochs': 1, 'train_time_interval': None}.on_train_batch_start     \t|  1.9231e-06     \t|  300            \t|  0.00057693     \t|  0.0044423      \t|\n",
      "|  [Callback]ModelSummary.on_train_batch_start                                                                                                                    \t|  1.9133e-06     \t|  300            \t|  0.00057399     \t|  0.0044197      \t|\n",
      "|  [LightningModule]LightningModel.on_train_batch_start                                                                                                           \t|  1.8783e-06     \t|  300            \t|  0.00056348     \t|  0.0043388      \t|\n",
      "|  [Callback]ModelCheckpoint{'monitor': None, 'mode': 'min', 'every_n_train_steps': 0, 'every_n_epochs': 1, 'train_time_interval': None}.on_before_zero_grad      \t|  1.8449e-06     \t|  300            \t|  0.00055348     \t|  0.0042618      \t|\n",
      "|  [LightningModule]LightningModel.on_train_batch_end                                                                                                             \t|  1.7854e-06     \t|  300            \t|  0.00053561     \t|  0.0041241      \t|\n",
      "|  [Callback]ModelSummary.on_after_backward                                                                                                                       \t|  1.7668e-06     \t|  300            \t|  0.00053003     \t|  0.0040812      \t|\n",
      "|  [Strategy]SingleDeviceStrategy.on_train_batch_start                                                                                                            \t|  1.7285e-06     \t|  300            \t|  0.00051855     \t|  0.0039928      \t|\n",
      "|  [Callback]ModelSummary.on_before_backward                                                                                                                      \t|  1.7152e-06     \t|  300            \t|  0.00051456     \t|  0.003962       \t|\n",
      "|  [Callback]ModelSummary.on_before_optimizer_step                                                                                                                \t|  1.715e-06      \t|  300            \t|  0.0005145      \t|  0.0039616      \t|\n",
      "|  [Callback]ModelCheckpoint{'monitor': None, 'mode': 'min', 'every_n_train_steps': 0, 'every_n_epochs': 1, 'train_time_interval': None}.on_before_backward       \t|  1.7004e-06     \t|  300            \t|  0.00051013     \t|  0.003928       \t|\n",
      "|  [Callback]ModelCheckpoint{'monitor': None, 'mode': 'min', 'every_n_train_steps': 0, 'every_n_epochs': 1, 'train_time_interval': None}.on_before_optimizer_step \t|  1.6676e-06     \t|  300            \t|  0.00050027     \t|  0.0038521      \t|\n",
      "|  [LightningModule]LightningModel.on_after_backward                                                                                                              \t|  1.353e-06      \t|  300            \t|  0.00040589     \t|  0.0031253      \t|\n",
      "|  [LightningModule]LightningModel.on_before_optimizer_step                                                                                                       \t|  1.322e-06      \t|  300            \t|  0.00039661     \t|  0.0030538      \t|\n",
      "|  [Callback]ModelSummary.on_validation_start                                                                                                                     \t|  1.8794e-05     \t|  21             \t|  0.00039467     \t|  0.003039       \t|\n",
      "|  [LightningModule]LightningModel.on_before_backward                                                                                                             \t|  1.3037e-06     \t|  300            \t|  0.0003911      \t|  0.0030114      \t|\n",
      "|  [LightningDataModule]RidesLightning.train_dataloader                                                                                                           \t|  0.00035301     \t|  1              \t|  0.00035301     \t|  0.0027181      \t|\n",
      "|  [LightningDataModule]RidesLightning.val_dataloader                                                                                                             \t|  0.00032032     \t|  1              \t|  0.00032032     \t|  0.0024664      \t|\n",
      "|  [Callback]ModelSummary.on_validation_batch_end                                                                                                                 \t|  3.472e-06      \t|  82             \t|  0.00028471     \t|  0.0021922      \t|\n",
      "|  [LightningModule]LightningModel.configure_optimizers                                                                                                           \t|  0.0002292      \t|  1              \t|  0.0002292      \t|  0.0017649      \t|\n",
      "|  [Callback]ModelSummary.on_validation_batch_start                                                                                                               \t|  2.3753e-06     \t|  82             \t|  0.00019477     \t|  0.0014997      \t|\n",
      "|  [Callback]ModelCheckpoint{'monitor': None, 'mode': 'min', 'every_n_train_steps': 0, 'every_n_epochs': 1, 'train_time_interval': None}.on_validation_batch_end  \t|  1.9781e-06     \t|  82             \t|  0.0001622      \t|  0.001249       \t|\n",
      "|  [Callback]ModelCheckpoint{'monitor': None, 'mode': 'min', 'every_n_train_steps': 0, 'every_n_epochs': 1, 'train_time_interval': None}.on_validation_batch_start\t|  1.7795e-06     \t|  82             \t|  0.00014592     \t|  0.0011236      \t|\n",
      "|  [LightningDataModule]RidesLightning.state_dict                                                                                                                 \t|  6.6291e-06     \t|  20             \t|  0.00013258     \t|  0.0010209      \t|\n",
      "|  [LightningModule]LightningModel.on_validation_batch_end                                                                                                        \t|  1.6004e-06     \t|  82             \t|  0.00013123     \t|  0.0010105      \t|\n",
      "|  [Strategy]SingleDeviceStrategy.on_validation_start                                                                                                             \t|  6.0696e-06     \t|  21             \t|  0.00012746     \t|  0.00098144     \t|\n",
      "|  [LightningModule]LightningModel.on_validation_epoch_start                                                                                                      \t|  5.3825e-06     \t|  21             \t|  0.00011303     \t|  0.00087034     \t|\n",
      "|  [LightningModule]LightningModel.on_validation_batch_start                                                                                                      \t|  1.3134e-06     \t|  82             \t|  0.0001077      \t|  0.00082926     \t|\n",
      "|  [Callback]ModelCheckpoint{'monitor': None, 'mode': 'min', 'every_n_train_steps': 0, 'every_n_epochs': 1, 'train_time_interval': None}.setup                    \t|  7.6853e-05     \t|  1              \t|  7.6853e-05     \t|  0.00059176     \t|\n",
      "|  [Callback]ModelSummary.on_validation_end                                                                                                                       \t|  3.5745e-06     \t|  21             \t|  7.5064e-05     \t|  0.00057798     \t|\n",
      "|  [Callback]ModelSummary.on_train_epoch_start                                                                                                                    \t|  3.2149e-06     \t|  20             \t|  6.4298e-05     \t|  0.00049509     \t|\n",
      "|  [Callback]TQDMProgressBar.on_validation_epoch_end                                                                                                              \t|  3.0462e-06     \t|  21             \t|  6.3971e-05     \t|  0.00049257     \t|\n",
      "|  [Callback]ModelSummary.on_train_epoch_end                                                                                                                      \t|  2.9285e-06     \t|  20             \t|  5.8571e-05     \t|  0.00045099     \t|\n",
      "|  [Callback]TQDMProgressBar.on_save_checkpoint                                                                                                                   \t|  2.578e-06      \t|  20             \t|  5.156e-05      \t|  0.00039701     \t|\n",
      "|  [Callback]ModelCheckpoint{'monitor': None, 'mode': 'min', 'every_n_train_steps': 0, 'every_n_epochs': 1, 'train_time_interval': None}.on_validation_start      \t|  2.4134e-06     \t|  21             \t|  5.0681e-05     \t|  0.00039024     \t|\n",
      "|  [LightningModule]LightningModel.on_train_epoch_start                                                                                                           \t|  2.3745e-06     \t|  20             \t|  4.7489e-05     \t|  0.00036566     \t|\n",
      "|  [Callback]TQDMProgressBar.on_validation_epoch_start                                                                                                            \t|  2.2276e-06     \t|  21             \t|  4.678e-05      \t|  0.0003602      \t|\n",
      "|  [LightningModule]LightningModel.on_validation_end                                                                                                              \t|  1.8071e-06     \t|  21             \t|  3.795e-05      \t|  0.00029221     \t|\n",
      "|  [Callback]ModelCheckpoint{'monitor': None, 'mode': 'min', 'every_n_train_steps': 0, 'every_n_epochs': 1, 'train_time_interval': None}.on_train_epoch_start     \t|  1.8145e-06     \t|  20             \t|  3.6291e-05     \t|  0.00027944     \t|\n",
      "|  [LightningModule]LightningModel.on_validation_start                                                                                                            \t|  1.719e-06      \t|  21             \t|  3.61e-05       \t|  0.00027797     \t|\n",
      "|  [Callback]ModelCheckpoint{'monitor': None, 'mode': 'min', 'every_n_train_steps': 0, 'every_n_epochs': 1, 'train_time_interval': None}.on_validation_epoch_start\t|  1.6911e-06     \t|  21             \t|  3.5512e-05     \t|  0.00027344     \t|\n",
      "|  [Callback]ModelSummary.on_validation_epoch_start                                                                                                               \t|  1.6358e-06     \t|  21             \t|  3.4353e-05     \t|  0.00026451     \t|\n",
      "|  [Callback]ModelSummary.on_validation_epoch_end                                                                                                                 \t|  1.6229e-06     \t|  21             \t|  3.408e-05      \t|  0.00026241     \t|\n",
      "|  [Callback]ModelCheckpoint{'monitor': None, 'mode': 'min', 'every_n_train_steps': 0, 'every_n_epochs': 1, 'train_time_interval': None}.on_save_checkpoint       \t|  1.6865e-06     \t|  20             \t|  3.373e-05      \t|  0.00025972     \t|\n",
      "|  [Callback]ModelCheckpoint{'monitor': None, 'mode': 'min', 'every_n_train_steps': 0, 'every_n_epochs': 1, 'train_time_interval': None}.on_validation_epoch_end  \t|  1.53e-06       \t|  21             \t|  3.213e-05      \t|  0.0002474      \t|\n",
      "|  [LightningModule]LightningModel.on_validation_epoch_end                                                                                                        \t|  1.4971e-06     \t|  21             \t|  3.144e-05      \t|  0.00024208     \t|\n",
      "|  [Strategy]SingleDeviceStrategy.on_validation_end                                                                                                               \t|  1.3533e-06     \t|  21             \t|  2.8418e-05     \t|  0.00021882     \t|\n",
      "|  [LightningModule]LightningModel.on_train_epoch_end                                                                                                             \t|  1.3956e-06     \t|  20             \t|  2.7913e-05     \t|  0.00021493     \t|\n",
      "|  [Callback]ModelSummary.on_save_checkpoint                                                                                                                      \t|  1.3521e-06     \t|  20             \t|  2.7042e-05     \t|  0.00020822     \t|\n",
      "|  [LightningModule]LightningModel.on_save_checkpoint                                                                                                             \t|  1.0695e-06     \t|  20             \t|  2.1391e-05     \t|  0.00016471     \t|\n",
      "|  [Callback]ModelSummary.on_train_start                                                                                                                          \t|  1.927e-05      \t|  1              \t|  1.927e-05      \t|  0.00014838     \t|\n",
      "|  [Callback]ModelCheckpoint{'monitor': None, 'mode': 'min', 'every_n_train_steps': 0, 'every_n_epochs': 1, 'train_time_interval': None}.on_train_start           \t|  1.5541e-05     \t|  1              \t|  1.5541e-05     \t|  0.00011966     \t|\n",
      "|  [LightningModule]LightningModel.on_train_start                                                                                                                 \t|  1.2401e-05     \t|  1              \t|  1.2401e-05     \t|  9.5483e-05     \t|\n",
      "|  [Strategy]SingleDeviceStrategy.on_train_start                                                                                                                  \t|  1.2159e-05     \t|  1              \t|  1.2159e-05     \t|  9.3626e-05     \t|\n",
      "|  [LightningDataModule]RidesLightning.setup                                                                                                                      \t|  7.431e-06      \t|  1              \t|  7.431e-06      \t|  5.7218e-05     \t|\n",
      "|  [Callback]ModelSummary.on_sanity_check_start                                                                                                                   \t|  5.7407e-06     \t|  1              \t|  5.7407e-06     \t|  4.4203e-05     \t|\n",
      "|  [LightningDataModule]RidesLightning.teardown                                                                                                                   \t|  5.5302e-06     \t|  1              \t|  5.5302e-06     \t|  4.2582e-05     \t|\n",
      "|  [Callback]TQDMProgressBar.on_sanity_check_end                                                                                                                  \t|  5.0701e-06     \t|  1              \t|  5.0701e-06     \t|  3.904e-05      \t|\n",
      "|  [Callback]TQDMProgressBar.setup                                                                                                                                \t|  4.3595e-06     \t|  1              \t|  4.3595e-06     \t|  3.3568e-05     \t|\n",
      "|  [Callback]TQDMProgressBar.on_fit_end                                                                                                                           \t|  4.3102e-06     \t|  1              \t|  4.3102e-06     \t|  3.3188e-05     \t|\n",
      "|  [Callback]ModelCheckpoint{'monitor': None, 'mode': 'min', 'every_n_train_steps': 0, 'every_n_epochs': 1, 'train_time_interval': None}.on_fit_start             \t|  3.0799e-06     \t|  1              \t|  3.0799e-06     \t|  2.3715e-05     \t|\n",
      "|  [Callback]ModelSummary.on_train_end                                                                                                                            \t|  2.8498e-06     \t|  1              \t|  2.8498e-06     \t|  2.1944e-05     \t|\n",
      "|  [Callback]TQDMProgressBar.on_fit_start                                                                                                                         \t|  2.7502e-06     \t|  1              \t|  2.7502e-06     \t|  2.1176e-05     \t|\n",
      "|  [LightningModule]LightningModel.configure_callbacks                                                                                                            \t|  2.6803e-06     \t|  1              \t|  2.6803e-06     \t|  2.0638e-05     \t|\n",
      "|  [Callback]TQDMProgressBar.teardown                                                                                                                             \t|  2.6105e-06     \t|  1              \t|  2.6105e-06     \t|  2.0101e-05     \t|\n",
      "|  [Callback]ModelSummary.setup                                                                                                                                   \t|  2.2203e-06     \t|  1              \t|  2.2203e-06     \t|  1.7096e-05     \t|\n",
      "|  [LightningModule]LightningModel.setup                                                                                                                          \t|  2.0796e-06     \t|  1              \t|  2.0796e-06     \t|  1.6013e-05     \t|\n",
      "|  [Callback]ModelSummary.on_fit_end                                                                                                                              \t|  1.9409e-06     \t|  1              \t|  1.9409e-06     \t|  1.4945e-05     \t|\n",
      "|  [Callback]ModelSummary.on_sanity_check_end                                                                                                                     \t|  1.8701e-06     \t|  1              \t|  1.8701e-06     \t|  1.44e-05       \t|\n",
      "|  [Callback]ModelCheckpoint{'monitor': None, 'mode': 'min', 'every_n_train_steps': 0, 'every_n_epochs': 1, 'train_time_interval': None}.on_sanity_check_start    \t|  1.8599e-06     \t|  1              \t|  1.8599e-06     \t|  1.4321e-05     \t|\n",
      "|  [LightningModule]LightningModel.on_train_end                                                                                                                   \t|  1.8105e-06     \t|  1              \t|  1.8105e-06     \t|  1.3941e-05     \t|\n",
      "|  [LightningModule]LightningModel.on_fit_end                                                                                                                     \t|  1.79e-06       \t|  1              \t|  1.79e-06       \t|  1.3783e-05     \t|\n",
      "|  [Callback]ModelSummary.teardown                                                                                                                                \t|  1.79e-06       \t|  1              \t|  1.79e-06       \t|  1.3783e-05     \t|\n",
      "|  [Callback]ModelCheckpoint{'monitor': None, 'mode': 'min', 'every_n_train_steps': 0, 'every_n_epochs': 1, 'train_time_interval': None}.teardown                 \t|  1.7798e-06     \t|  1              \t|  1.7798e-06     \t|  1.3704e-05     \t|\n",
      "|  [LightningModule]LightningModel.teardown                                                                                                                       \t|  1.6699e-06     \t|  1              \t|  1.6699e-06     \t|  1.2858e-05     \t|\n",
      "|  [Callback]ModelCheckpoint{'monitor': None, 'mode': 'min', 'every_n_train_steps': 0, 'every_n_epochs': 1, 'train_time_interval': None}.on_train_end             \t|  1.6103e-06     \t|  1              \t|  1.6103e-06     \t|  1.2399e-05     \t|\n",
      "|  [Callback]ModelCheckpoint{'monitor': None, 'mode': 'min', 'every_n_train_steps': 0, 'every_n_epochs': 1, 'train_time_interval': None}.on_fit_end               \t|  1.5497e-06     \t|  1              \t|  1.5497e-06     \t|  1.1933e-05     \t|\n",
      "|  [LightningModule]LightningModel.on_fit_start                                                                                                                   \t|  1.5395e-06     \t|  1              \t|  1.5395e-06     \t|  1.1854e-05     \t|\n",
      "|  [Callback]ModelCheckpoint{'monitor': None, 'mode': 'min', 'every_n_train_steps': 0, 'every_n_epochs': 1, 'train_time_interval': None}.on_sanity_check_end      \t|  1.4203e-06     \t|  1              \t|  1.4203e-06     \t|  1.0936e-05     \t|\n",
      "|  [Strategy]SingleDeviceStrategy.on_train_end                                                                                                                    \t|  1.3104e-06     \t|  1              \t|  1.3104e-06     \t|  1.009e-05      \t|\n",
      "--------------------------------------------------------------------------------------------------------------------------------------------------------------------------------------------------------------------------------------------------------------------------\n",
      "\n"
     ]
    }
   ],
   "source": [
    "trainer.fit(model, datamodule=dataset)"
   ]
  },
  {
   "cell_type": "markdown",
   "metadata": {},
   "source": [
    "<div class=\"alert alert-info\">\n",
    "    \n",
    "Данный `profiler` позволяет понять, где у вас стопорится модель - в какой функции, чтобы провести более подробную отладку можно использовать другие профайлеры отсюда: https://pytorch-lightning.readthedocs.io/en/2.2.0/pytorch/api_references.html#profiler\n",
    "\n",
    "Данный `profiler` анализирует сколько каждая функция работала при обучении модели (в том числе служебные функции Lightning):\n",
    "- Кол-во вызовов функции\n",
    "- Общее затраченное время\n",
    "- Процентная нагрузка\n",
    "\n",
    "Полезно, когда обучаете сетку в несколько этапов и хотите найти какой этап работает медленне чем остальные."
   ]
  },
  {
   "cell_type": "markdown",
   "metadata": {},
   "source": [
    "<div class=\"alert alert-success\">\n",
    "Более детально с другими параметрами Trainer'a и метриками познакомимся в следующем уроке!"
   ]
  },
  {
   "cell_type": "markdown",
   "metadata": {},
   "source": [
    "# <center id=\"c9\"> 🍏 Результаты и выводы ✅ <center>\n",
    "\n",
    "<div class=\"alert alert-success\">\n",
    "\n",
    "В этом уроке мы:\n",
    "- Узнали мощный инструмент `Lightning` и его структуру\n",
    "- Научились писать `Dataset`'ы по новому\n",
    "- Написали свою первую нейросеть на `Lightning`\n",
    "- Обучили ее с помощью `Trainer` \n",
    "- Освоили `Profiler` для анализа работы сетки"
   ]
  },
  {
   "cell_type": "markdown",
   "metadata": {},
   "source": [
    "# <center id=\"c10\"> 📝 Полезные ссылки </center>"
   ]
  },
  {
   "cell_type": "markdown",
   "metadata": {},
   "source": [
    "<div class=\"alert alert-warning\">\n",
    "\n",
    "К сожалению, [сайт](https://lightning.ai/docs/pytorch/stable//index.html) фреймворка с официальной документацией не открывается для пользователей из РФ. Можно использовать VPN. На установке и использовании библиотеки это никак не сказывается.\n",
    "\n",
    "Также есть другой ресурс с документацией, который открывается без VPN:\n",
    "\n",
    "https://pytorch-lightning.readthedocs.io/en/2.5.0/pytorch/"
   ]
  },
  {
   "cell_type": "code",
   "execution_count": null,
   "metadata": {},
   "outputs": [],
   "source": []
  }
 ],
 "metadata": {
  "kernelspec": {
   "display_name": ".venv",
   "language": "python",
   "name": "python3"
  },
  "language_info": {
   "codemirror_mode": {
    "name": "ipython",
    "version": 3
   },
   "file_extension": ".py",
   "mimetype": "text/x-python",
   "name": "python",
   "nbconvert_exporter": "python",
   "pygments_lexer": "ipython3",
   "version": "3.10.12"
  }
 },
 "nbformat": 4,
 "nbformat_minor": 4
}
