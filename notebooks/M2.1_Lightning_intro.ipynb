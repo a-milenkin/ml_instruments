{
 "cells": [
  {
   "cell_type": "markdown",
   "metadata": {},
   "source": [
    "<center><img src=\"https://i.imgur.com/c4TvLIg.png\"/> </center>\n",
    "<br>\n",
    "<p><font size=\"3\" face=\"Arial\" font-size=\"large\"><ul type=\"square\">\n",
    "    \n",
    "<li><a href=\"#c1\"> ⚡️ Зачем Lightning?  </a></li>\n",
    "<li><a href=\"#c2\"> 🤹 Подготовка библиотек и датасета (проматывай) </a></li>\n",
    "<li><a href=\"#c3\"> 🫣 Играем в игру: \"Было - Стало\" 🤗 </a></li>\n",
    "<li><a href=\"#c4\"> Основные компоненты PyTorch Lightning ⚡️ </a></li>\n",
    "<li><a href=\"#c5\">👆 DataModule = Dataset + Dataloader ✌️ </a></li>\n",
    "<li><a href=\"#с6\">🪚 Пилим нейронку c Lightning ⚡️ (стало)</a>\n",
    "<li><a href=\"#c7\">🧌 Не боги неройнки обучают - Trainer </a>\n",
    "<li><a href=\"#c8\">🩺 Отладка + Profiler 🎛</a>\n",
    "<li><a href=\"#c9\">🍏 Результаты и выводы ✅</a>\n",
    "<li><a href=\"#c10\">📝 Полезные ссылки </a>\n",
    "\n",
    "</li></ul></font></p>"
   ]
  },
  {
   "cell_type": "markdown",
   "metadata": {},
   "source": [
    "# <center id=\"c1\"> ⚡️ Зачем Lightning? </center>\n",
    "\n",
    "<div class=\"alert alert-info\">\n",
    "\n",
    "`Lightning` - целая экосистема фреймворков, которая нацелена на упрощение обучения моделей, их запуска и тд. В этом ноутбуке мы остановимся на `PyTorch Lightning` - модуль, который упрощает работу с библиотекой `PyTorch` и расширяет её."
   ]
  },
  {
   "cell_type": "markdown",
   "metadata": {},
   "source": [
    "<div class=\"alert alert-success\">\n",
    "\n",
    "⚡️ `PyTorch Lightning` - позволяет писать меньше рутинного кода: тренировочных и валидациооных циклов, механизмов **early_stopping**, сохранения моделей и пр. Вместо этого можно сосредоточиться на поиске идей и экспериментов. К тому же код будет легкочитаем и выглядеть компактно.\n",
    "\n",
    "<img src=\"https://i.imgur.com/OlWeyt8.png\"/>"
   ]
  },
  {
   "cell_type": "markdown",
   "metadata": {},
   "source": [
    "<div class=\"alert alert-info\">\n",
    "    \n",
    "`PyTorch Lightning` включает в себя *полный набор* для поддержания жизненного цикла модели 🤯 от тренировки до развертывания в продакшене: квантизация, прунинг, подбор гиперпараметров, логирование, отладка и много чего ещё. <br>"
   ]
  },
  {
   "cell_type": "markdown",
   "metadata": {},
   "source": [
    "<div class=\"alert alert-info\">\n",
    "Чаще всего подключение новой функциональности занимает лишь пару строчек кода. "
   ]
  },
  {
   "cell_type": "code",
   "execution_count": 1,
   "metadata": {},
   "outputs": [],
   "source": [
    "# Установка Pytorch Lightning\n",
    "!pip install lightning -q"
   ]
  },
  {
   "cell_type": "markdown",
   "metadata": {},
   "source": [
    "<div class=\"alert alert-warning\">\n",
    "\n",
    "<p style=\"text-align: center;\"> ВАЖНО! 👺 </p>\n",
    "\n",
    "Если на каком-то ресурсе вы видите `pip install pytorch-lightning` - значит вы собираетесь использовать старое API 😯! Функции обратно совместимы, но их импорт может отличаться - будьте аккуратны и устанавливайте только свежие версии библиотек."
   ]
  },
  {
   "cell_type": "markdown",
   "metadata": {},
   "source": [
    "# <center id=\"c2\"> 🤹 Подготовка библиотек и датасета (проматывай)"
   ]
  },
  {
   "cell_type": "markdown",
   "metadata": {},
   "source": [
    "### <center> 📚 Импортируем библиотеки "
   ]
  },
  {
   "cell_type": "code",
   "execution_count": 1,
   "metadata": {},
   "outputs": [],
   "source": [
    "import copy\n",
    "from dataclasses import dataclass, asdict\n",
    "import numpy as np\n",
    "import pandas as pd\n",
    "from sklearn.preprocessing import RobustScaler, LabelEncoder\n",
    "from sklearn.model_selection import train_test_split\n",
    "\n",
    "import torch\n",
    "from torch import nn, optim\n",
    "from torch.utils.data import DataLoader, Dataset, random_split\n",
    "\n",
    "from lightning import Trainer, LightningModule, LightningDataModule\n",
    "from lightning.pytorch.callbacks import ModelSummary\n",
    "import lightning.pytorch as pl\n",
    "\n",
    "from typing import Tuple"
   ]
  },
  {
   "cell_type": "code",
   "execution_count": 3,
   "metadata": {},
   "outputs": [
    {
     "data": {
      "text/plain": [
       "'svg'"
      ]
     },
     "execution_count": 3,
     "metadata": {},
     "output_type": "execute_result"
    }
   ],
   "source": [
    "# Для отображения схемы нейронки\n",
    "!pip install torchview -q\n",
    "import graphviz\n",
    "graphviz.set_jupyter_format('png')"
   ]
  },
  {
   "cell_type": "code",
   "execution_count": 4,
   "metadata": {},
   "outputs": [],
   "source": [
    "import os\n",
    "os.environ['CUDA_VISIBLE_DEVICES']='0'"
   ]
  },
  {
   "cell_type": "markdown",
   "metadata": {},
   "source": [
    "### <center> 🧪 Конфиг \n"
   ]
  },
  {
   "cell_type": "code",
   "execution_count": 2,
   "metadata": {},
   "outputs": [],
   "source": [
    "@dataclass\n",
    "class CFG:\n",
    "    seed: int = 2024\n",
    "    device: str = \"cuda\"  # 'cpu'\n",
    "    hidden_size: int = 128\n",
    "    dropout: float = 0.1\n",
    "    lr: float = 1e-3\n",
    "    batch_size: int = 128\n",
    "    num_workers: int = 4\n",
    "    epochs: int = 20\n",
    "    gpus: int = 2\n",
    "cfg = CFG()"
   ]
  },
  {
   "cell_type": "markdown",
   "metadata": {},
   "source": [
    "<div class=\"alert alert-info\">\n",
    "    \n",
    "**Первая фишка** - не надо самим писать функцию по фиксированию всех возможных сидов, можно импортировать её из `Lightning` и не беспокоиться, что что-то забыли зафиксировать и результаты не воспроизведутся."
   ]
  },
  {
   "cell_type": "code",
   "execution_count": 3,
   "metadata": {},
   "outputs": [
    {
     "name": "stderr",
     "output_type": "stream",
     "text": [
      "Seed set to 2024\n"
     ]
    },
    {
     "data": {
      "text/plain": [
       "2024"
      ]
     },
     "execution_count": 3,
     "metadata": {},
     "output_type": "execute_result"
    }
   ],
   "source": [
    "from lightning.pytorch import seed_everything\n",
    "\n",
    "seed_everything(cfg.seed)"
   ]
  },
  {
   "cell_type": "markdown",
   "metadata": {},
   "source": [
    "###  <center> 🍽 Подгружаем и готовим данные "
   ]
  },
  {
   "cell_type": "code",
   "execution_count": 4,
   "metadata": {},
   "outputs": [
    {
     "data": {
      "text/html": [
       "<div>\n",
       "<style scoped>\n",
       "    .dataframe tbody tr th:only-of-type {\n",
       "        vertical-align: middle;\n",
       "    }\n",
       "\n",
       "    .dataframe tbody tr th {\n",
       "        vertical-align: top;\n",
       "    }\n",
       "\n",
       "    .dataframe thead th {\n",
       "        text-align: right;\n",
       "    }\n",
       "</style>\n",
       "<table border=\"1\" class=\"dataframe\">\n",
       "  <thead>\n",
       "    <tr style=\"text-align: right;\">\n",
       "      <th></th>\n",
       "      <th>car_id</th>\n",
       "      <th>model</th>\n",
       "      <th>car_type</th>\n",
       "      <th>fuel_type</th>\n",
       "      <th>car_rating</th>\n",
       "      <th>year_to_start</th>\n",
       "      <th>riders</th>\n",
       "      <th>year_to_work</th>\n",
       "      <th>target_reg</th>\n",
       "      <th>target_class</th>\n",
       "      <th>mean_rating</th>\n",
       "      <th>distance_sum</th>\n",
       "      <th>rating_min</th>\n",
       "      <th>speed_max</th>\n",
       "      <th>user_ride_quality_median</th>\n",
       "      <th>deviation_normal_count</th>\n",
       "      <th>user_uniq</th>\n",
       "    </tr>\n",
       "  </thead>\n",
       "  <tbody>\n",
       "    <tr>\n",
       "      <th>0</th>\n",
       "      <td>y13744087j</td>\n",
       "      <td>Kia Rio X-line</td>\n",
       "      <td>economy</td>\n",
       "      <td>petrol</td>\n",
       "      <td>3.78</td>\n",
       "      <td>2015</td>\n",
       "      <td>76163</td>\n",
       "      <td>2021</td>\n",
       "      <td>109.99</td>\n",
       "      <td>another_bug</td>\n",
       "      <td>4.737759</td>\n",
       "      <td>1.214131e+07</td>\n",
       "      <td>0.1</td>\n",
       "      <td>180.855726</td>\n",
       "      <td>0.023174</td>\n",
       "      <td>174</td>\n",
       "      <td>170</td>\n",
       "    </tr>\n",
       "    <tr>\n",
       "      <th>1</th>\n",
       "      <td>O41613818T</td>\n",
       "      <td>VW Polo VI</td>\n",
       "      <td>economy</td>\n",
       "      <td>petrol</td>\n",
       "      <td>3.90</td>\n",
       "      <td>2015</td>\n",
       "      <td>78218</td>\n",
       "      <td>2021</td>\n",
       "      <td>34.48</td>\n",
       "      <td>electro_bug</td>\n",
       "      <td>4.480517</td>\n",
       "      <td>1.803909e+07</td>\n",
       "      <td>0.0</td>\n",
       "      <td>187.862734</td>\n",
       "      <td>12.306011</td>\n",
       "      <td>174</td>\n",
       "      <td>174</td>\n",
       "    </tr>\n",
       "    <tr>\n",
       "      <th>2</th>\n",
       "      <td>d-2109686j</td>\n",
       "      <td>Renault Sandero</td>\n",
       "      <td>standart</td>\n",
       "      <td>petrol</td>\n",
       "      <td>6.30</td>\n",
       "      <td>2012</td>\n",
       "      <td>23340</td>\n",
       "      <td>2017</td>\n",
       "      <td>34.93</td>\n",
       "      <td>gear_stick</td>\n",
       "      <td>4.768391</td>\n",
       "      <td>1.588366e+07</td>\n",
       "      <td>0.1</td>\n",
       "      <td>102.382857</td>\n",
       "      <td>2.513319</td>\n",
       "      <td>174</td>\n",
       "      <td>173</td>\n",
       "    </tr>\n",
       "  </tbody>\n",
       "</table>\n",
       "</div>"
      ],
      "text/plain": [
       "       car_id            model  car_type fuel_type  car_rating  year_to_start  \\\n",
       "0  y13744087j   Kia Rio X-line   economy    petrol        3.78           2015   \n",
       "1  O41613818T       VW Polo VI   economy    petrol        3.90           2015   \n",
       "2  d-2109686j  Renault Sandero  standart    petrol        6.30           2012   \n",
       "\n",
       "   riders  year_to_work  target_reg target_class  mean_rating  distance_sum  \\\n",
       "0   76163          2021      109.99  another_bug     4.737759  1.214131e+07   \n",
       "1   78218          2021       34.48  electro_bug     4.480517  1.803909e+07   \n",
       "2   23340          2017       34.93   gear_stick     4.768391  1.588366e+07   \n",
       "\n",
       "   rating_min   speed_max  user_ride_quality_median  deviation_normal_count  \\\n",
       "0         0.1  180.855726                  0.023174                     174   \n",
       "1         0.0  187.862734                 12.306011                     174   \n",
       "2         0.1  102.382857                  2.513319                     174   \n",
       "\n",
       "   user_uniq  \n",
       "0        170  \n",
       "1        174  \n",
       "2        173  "
      ]
     },
     "execution_count": 4,
     "metadata": {},
     "output_type": "execute_result"
    }
   ],
   "source": [
    "url = 'https://github.com/a-milenkin/ml_instruments/raw/refs/heads/main/data/quickstart_train.csv'\n",
    "rides_info = pd.read_csv(url)\n",
    "rides_info.head(3)"
   ]
  },
  {
   "cell_type": "code",
   "execution_count": 5,
   "metadata": {},
   "outputs": [],
   "source": [
    "# Проводим препроцессинг данных для старта обучения\n",
    "drop_cols = [\"car_id\", \"target_reg\", \"target_class\"]\n",
    "cat_cols = [\"car_type\", \"fuel_type\", \"model\"]\n",
    "rides_info = pd.get_dummies(rides_info, columns=cat_cols)\n",
    "rides_info.fillna(rides_info.median(numeric_only=True), inplace=True)\n",
    "num_cols = [col for col in list(rides_info.columns) if col not in drop_cols]"
   ]
  },
  {
   "cell_type": "code",
   "execution_count": 6,
   "metadata": {},
   "outputs": [],
   "source": [
    "# Нормализуем данные и кодируем таргет\n",
    "\n",
    "scaler = RobustScaler()\n",
    "le = LabelEncoder()\n",
    "\n",
    "df = scaler.fit_transform(rides_info[num_cols])\n",
    "df = pd.DataFrame(df, columns=num_cols)\n",
    "\n",
    "target_scaler = RobustScaler()\n",
    "target = target_scaler.fit_transform(rides_info[\"target_reg\"].values.reshape(-1, 1))\n",
    "\n",
    "df[\"target_reg\"] = target\n",
    "df[\"target_class\"] = le.fit_transform(rides_info[\"target_class\"]).reshape((-1, 1))"
   ]
  },
  {
   "cell_type": "code",
   "execution_count": 7,
   "metadata": {},
   "outputs": [],
   "source": [
    "# Разбиваем датасет на трэйн и тест выборки\n",
    "train, test = train_test_split(df, test_size=0.2, random_state=cfg.seed)\n",
    "\n",
    "cfg.num_features = train.shape[1] - 2  # количество фичей, подаваемое на вход\n",
    "cfg.num_tar_class = (\n",
    "    train.target_class.nunique()\n",
    ")  # количество выходов равно количеству предсказываемых классов"
   ]
  },
  {
   "cell_type": "code",
   "execution_count": 8,
   "metadata": {},
   "outputs": [
    {
     "data": {
      "text/html": [
       "<div>\n",
       "<style scoped>\n",
       "    .dataframe tbody tr th:only-of-type {\n",
       "        vertical-align: middle;\n",
       "    }\n",
       "\n",
       "    .dataframe tbody tr th {\n",
       "        vertical-align: top;\n",
       "    }\n",
       "\n",
       "    .dataframe thead th {\n",
       "        text-align: right;\n",
       "    }\n",
       "</style>\n",
       "<table border=\"1\" class=\"dataframe\">\n",
       "  <thead>\n",
       "    <tr style=\"text-align: right;\">\n",
       "      <th></th>\n",
       "      <th>car_rating</th>\n",
       "      <th>year_to_start</th>\n",
       "      <th>riders</th>\n",
       "      <th>year_to_work</th>\n",
       "      <th>mean_rating</th>\n",
       "      <th>distance_sum</th>\n",
       "      <th>rating_min</th>\n",
       "      <th>speed_max</th>\n",
       "      <th>user_ride_quality_median</th>\n",
       "      <th>deviation_normal_count</th>\n",
       "      <th>...</th>\n",
       "      <th>model_Smart Coupe</th>\n",
       "      <th>model_Smart ForFour</th>\n",
       "      <th>model_Smart ForTwo</th>\n",
       "      <th>model_Tesla Model 3</th>\n",
       "      <th>model_VW Polo</th>\n",
       "      <th>model_VW Polo VI</th>\n",
       "      <th>model_VW Tiguan</th>\n",
       "      <th>model_Volkswagen ID.4</th>\n",
       "      <th>target_reg</th>\n",
       "      <th>target_class</th>\n",
       "    </tr>\n",
       "  </thead>\n",
       "  <tbody>\n",
       "    <tr>\n",
       "      <th>0</th>\n",
       "      <td>-0.460317</td>\n",
       "      <td>0.5</td>\n",
       "      <td>0.258414</td>\n",
       "      <td>0.75</td>\n",
       "      <td>0.567305</td>\n",
       "      <td>-0.187985</td>\n",
       "      <td>0.0</td>\n",
       "      <td>0.129562</td>\n",
       "      <td>0.019027</td>\n",
       "      <td>0.0</td>\n",
       "      <td>...</td>\n",
       "      <td>0.0</td>\n",
       "      <td>0.0</td>\n",
       "      <td>0.0</td>\n",
       "      <td>0.0</td>\n",
       "      <td>0.0</td>\n",
       "      <td>0.0</td>\n",
       "      <td>0.0</td>\n",
       "      <td>0.0</td>\n",
       "      <td>3.022894</td>\n",
       "      <td>0</td>\n",
       "    </tr>\n",
       "    <tr>\n",
       "      <th>1</th>\n",
       "      <td>-0.365079</td>\n",
       "      <td>0.5</td>\n",
       "      <td>0.303616</td>\n",
       "      <td>0.75</td>\n",
       "      <td>0.072227</td>\n",
       "      <td>0.841243</td>\n",
       "      <td>-0.1</td>\n",
       "      <td>0.237381</td>\n",
       "      <td>1.085987</td>\n",
       "      <td>0.0</td>\n",
       "      <td>...</td>\n",
       "      <td>0.0</td>\n",
       "      <td>0.0</td>\n",
       "      <td>0.0</td>\n",
       "      <td>0.0</td>\n",
       "      <td>0.0</td>\n",
       "      <td>1.0</td>\n",
       "      <td>0.0</td>\n",
       "      <td>0.0</td>\n",
       "      <td>-0.238877</td>\n",
       "      <td>2</td>\n",
       "    </tr>\n",
       "    <tr>\n",
       "      <th>2</th>\n",
       "      <td>1.539683</td>\n",
       "      <td>-1.0</td>\n",
       "      <td>-0.903502</td>\n",
       "      <td>-0.25</td>\n",
       "      <td>0.626258</td>\n",
       "      <td>0.465096</td>\n",
       "      <td>0.0</td>\n",
       "      <td>-1.077932</td>\n",
       "      <td>0.235335</td>\n",
       "      <td>0.0</td>\n",
       "      <td>...</td>\n",
       "      <td>0.0</td>\n",
       "      <td>0.0</td>\n",
       "      <td>0.0</td>\n",
       "      <td>0.0</td>\n",
       "      <td>0.0</td>\n",
       "      <td>0.0</td>\n",
       "      <td>0.0</td>\n",
       "      <td>0.0</td>\n",
       "      <td>-0.219438</td>\n",
       "      <td>7</td>\n",
       "    </tr>\n",
       "  </tbody>\n",
       "</table>\n",
       "<p>3 rows × 45 columns</p>\n",
       "</div>"
      ],
      "text/plain": [
       "   car_rating  year_to_start    riders  year_to_work  mean_rating  \\\n",
       "0   -0.460317            0.5  0.258414          0.75     0.567305   \n",
       "1   -0.365079            0.5  0.303616          0.75     0.072227   \n",
       "2    1.539683           -1.0 -0.903502         -0.25     0.626258   \n",
       "\n",
       "   distance_sum  rating_min  speed_max  user_ride_quality_median  \\\n",
       "0     -0.187985         0.0   0.129562                  0.019027   \n",
       "1      0.841243        -0.1   0.237381                  1.085987   \n",
       "2      0.465096         0.0  -1.077932                  0.235335   \n",
       "\n",
       "   deviation_normal_count  ...  model_Smart Coupe  model_Smart ForFour  \\\n",
       "0                     0.0  ...                0.0                  0.0   \n",
       "1                     0.0  ...                0.0                  0.0   \n",
       "2                     0.0  ...                0.0                  0.0   \n",
       "\n",
       "   model_Smart ForTwo  model_Tesla Model 3  model_VW Polo  model_VW Polo VI  \\\n",
       "0                 0.0                  0.0            0.0               0.0   \n",
       "1                 0.0                  0.0            0.0               1.0   \n",
       "2                 0.0                  0.0            0.0               0.0   \n",
       "\n",
       "   model_VW Tiguan  model_Volkswagen ID.4   target_reg  target_class  \n",
       "0              0.0                     0.0    3.022894             0  \n",
       "1              0.0                     0.0   -0.238877             2  \n",
       "2              0.0                     0.0   -0.219438             7  \n",
       "\n",
       "[3 rows x 45 columns]"
      ]
     },
     "execution_count": 8,
     "metadata": {},
     "output_type": "execute_result"
    }
   ],
   "source": [
    "df.head(3)"
   ]
  },
  {
   "cell_type": "markdown",
   "metadata": {},
   "source": [
    "# <center id=\"c3\"> 🫣 Играем в игру: \"Было - Стало\" 🤗</center>\n",
    "\n",
    "<div class=\"alert alert-info\">\n",
    "    \n",
    "Рассмотрим уже знакомый код фрагментов по обучению двухголовой нейронки, перенесём код на `Lightning` и оценим эффект!"
   ]
  },
  {
   "cell_type": "markdown",
   "metadata": {},
   "source": [
    "## <center> 🧠 Фрагменты архитектры нейронки на чистом `PyTorch` (было)"
   ]
  },
  {
   "cell_type": "code",
   "execution_count": 9,
   "metadata": {},
   "outputs": [],
   "source": [
    "# датасет выдает фичи и значения целевых переменных\n",
    "class Rides(Dataset):\n",
    "    def __init__(self, df):\n",
    "        self.df = df\n",
    "\n",
    "    def __len__(self):\n",
    "        return len(self.df)\n",
    "\n",
    "    def __getitem__(self, idx):\n",
    "        row = self.df.iloc[idx, :]\n",
    "\n",
    "        data = row.drop(labels=[\"target_reg\", \"target_class\"])\n",
    "        data = torch.FloatTensor(data.values.astype(\"float\"))\n",
    "        tar_reg = torch.tensor(row[\"target_reg\"]).float()\n",
    "        tar_class = row[\"target_class\"].astype(\"int\")\n",
    "\n",
    "        return data, tar_reg, tar_class"
   ]
  },
  {
   "cell_type": "code",
   "execution_count": 10,
   "metadata": {},
   "outputs": [],
   "source": [
    "train_datasets = {\"train\": Rides(train), \"val\": Rides(test)}"
   ]
  },
  {
   "cell_type": "code",
   "execution_count": 11,
   "metadata": {},
   "outputs": [],
   "source": [
    "dataloaders_dict = {\n",
    "    x: DataLoader(\n",
    "        train_datasets[x],\n",
    "        batch_size=cfg.batch_size,\n",
    "        shuffle=True,\n",
    "        num_workers=cfg.num_workers,\n",
    "    )\n",
    "    for x in [\"train\", \"val\"]\n",
    "}"
   ]
  },
  {
   "cell_type": "markdown",
   "metadata": {},
   "source": [
    "### <center> 🕸 Сама нейросеть на `PyTorch`"
   ]
  },
  {
   "cell_type": "code",
   "execution_count": 12,
   "metadata": {},
   "outputs": [],
   "source": [
    "class TabularNN(nn.Module): # Наследуемся от базового класса PyTorch\n",
    "    def __init__(self, cfg):\n",
    "        super().__init__()\n",
    "        # Напишем простенькую нейронку\n",
    "        self.mlp = nn.Sequential(\n",
    "            nn.Linear(cfg.num_features, cfg.hidden_size),\n",
    "            # nn.BatchNorm1d(cfg.hidden_size),\n",
    "            nn.Dropout(cfg.dropout),\n",
    "            nn.LeakyReLU(),\n",
    "            nn.Linear(cfg.hidden_size, cfg.hidden_size),\n",
    "            # nn.BatchNorm1d(cfg.hidden_size),\n",
    "            nn.Dropout(cfg.dropout),\n",
    "            nn.GELU(),\n",
    "            nn.Linear(cfg.hidden_size, cfg.hidden_size // 2),\n",
    "        )\n",
    "        # Так как два таргета, делаем две головы - одна для регрессии, другая - классификации\n",
    "        self.regressor = nn.Sequential(nn.Linear(cfg.hidden_size // 2, 1))\n",
    "        self.classifier = nn.Sequential(\n",
    "            nn.Linear(cfg.hidden_size // 2, cfg.num_tar_class)\n",
    "        )\n",
    "\n",
    "    def forward(self, data):\n",
    "        x = self.mlp(data)\n",
    "        tar_reg = self.regressor(x)\n",
    "        tar_class = self.classifier(x)\n",
    "        return tar_reg.view(-1), tar_class"
   ]
  },
  {
   "cell_type": "code",
   "execution_count": 13,
   "metadata": {},
   "outputs": [],
   "source": [
    "model = TabularNN(cfg).to(cfg.device) # Отправляем сетку на GPU или CPU"
   ]
  },
  {
   "cell_type": "code",
   "execution_count": 14,
   "metadata": {},
   "outputs": [],
   "source": [
    "# Задаем оптимизатор и два лосса - для разных таргетов\n",
    "optimizer = optim.Adam(model.parameters(), lr=cfg.lr)\n",
    "regression_criterion = nn.MSELoss().to(cfg.device)\n",
    "classification_criterion = nn.CrossEntropyLoss().to(cfg.device)"
   ]
  },
  {
   "cell_type": "markdown",
   "metadata": {},
   "source": [
    "### <center> 🥫 Консервативный `Train loop`, которого скоро не станет 🙅‍♀️"
   ]
  },
  {
   "cell_type": "code",
   "execution_count": 15,
   "metadata": {},
   "outputs": [],
   "source": [
    "# Train LOOP \n",
    "def train_model(\n",
    "    model,\n",
    "    dataloaders,\n",
    "    regression_criterion,\n",
    "    classification_criterion,\n",
    "    optimizer,\n",
    "    num_epochs=25,\n",
    "    early_stopping_rounds=5,\n",
    "    verbose=2,\n",
    "):\n",
    "\n",
    "    val_acc_history = []\n",
    "\n",
    "    best_model_wts = copy.deepcopy(model.state_dict())\n",
    "    best_loss = np.inf\n",
    "    early_steps = 0\n",
    "    stop = False\n",
    "\n",
    "    for epoch in range(num_epochs):\n",
    "        if stop:\n",
    "            break\n",
    "        if epoch % verbose == 0:\n",
    "            print(\"Epoch {}/{}\".format(epoch, num_epochs - 1))\n",
    "            print(\"-\" * 10)\n",
    "\n",
    "        # В каждой эпохе учимся на train и валидируемся на val\n",
    "        for phase in [\"train\", \"val\"]:\n",
    "            if phase == \"train\":\n",
    "                model.train()  # Обучаем модельку\n",
    "            else:\n",
    "                model.eval()  # Тестируем ее\n",
    "\n",
    "            running_loss = 0.0\n",
    "\n",
    "            for inputs, labels_1, labels_2 in dataloaders[phase]:\n",
    "                inputs = inputs.to(cfg.device)\n",
    "                labels_1 = labels_1.to(cfg.device)\n",
    "                labels_2 = labels_2.to(cfg.device)\n",
    "\n",
    "                optimizer.zero_grad()\n",
    "\n",
    "                # Включаем градиенты только на этапе обучения\n",
    "                with torch.set_grad_enabled(phase == \"train\"):\n",
    "                    outputs_1, outputs_2 = model(inputs)\n",
    "                    loss_1 = regression_criterion(outputs_1, labels_1)\n",
    "                    loss_2 = classification_criterion(outputs_2, labels_2)\n",
    "\n",
    "                    loss = loss_1 + loss_2\n",
    "\n",
    "                    _, preds_2 = torch.max(outputs_2, 1)\n",
    "\n",
    "                    # Распространим ошибку обратно\n",
    "                    if phase == \"train\":\n",
    "                        loss.backward()\n",
    "                        optimizer.step()\n",
    "                        # scheduler.step()\n",
    "\n",
    "                running_loss += loss.item() * inputs.size(0)\n",
    "                val_acc_history.append(running_loss)\n",
    "\n",
    "            epoch_loss = running_loss / len(dataloaders[phase].dataset)\n",
    "            if epoch % verbose == 0:\n",
    "                print(\"{} Loss: {:.4f}\".format(phase, epoch_loss))\n",
    "            \n",
    "            # Сохраняем только лучшую модель\n",
    "            if phase == \"val\" and epoch_loss < best_loss:\n",
    "                best_model_wts = copy.deepcopy(model.state_dict())\n",
    "                best_loss = epoch_loss\n",
    "                early_steps = 0\n",
    "            if phase == \"val\" and epoch_loss > best_loss:\n",
    "                early_steps += 1\n",
    "                if early_steps > early_stopping_rounds:\n",
    "                    stop = True\n",
    "                    print(f\"Stopped by early_stopping. Epoch: {epoch}\")\n",
    "                    break\n",
    "\n",
    "    # Подгружаем ее\n",
    "    model.load_state_dict(best_model_wts)\n",
    "    return model"
   ]
  },
  {
   "cell_type": "code",
   "execution_count": 16,
   "metadata": {},
   "outputs": [
    {
     "name": "stdout",
     "output_type": "stream",
     "text": [
      "Epoch 0/19\n",
      "----------\n",
      "train Loss: 2.7096\n",
      "val Loss: 2.7237\n",
      "Epoch 2/19\n",
      "----------\n",
      "train Loss: 2.2425\n",
      "val Loss: 2.0766\n",
      "Epoch 4/19\n",
      "----------\n",
      "train Loss: 1.6136\n",
      "val Loss: 1.5752\n",
      "Epoch 6/19\n",
      "----------\n",
      "train Loss: 1.3000\n",
      "val Loss: 1.3404\n",
      "Epoch 8/19\n",
      "----------\n",
      "train Loss: 1.1532\n",
      "val Loss: 1.2237\n",
      "Epoch 10/19\n",
      "----------\n",
      "train Loss: 1.0947\n",
      "val Loss: 1.1968\n",
      "Epoch 12/19\n",
      "----------\n",
      "train Loss: 1.0611\n",
      "val Loss: 1.1537\n",
      "Epoch 14/19\n",
      "----------\n",
      "train Loss: 1.0279\n",
      "val Loss: 1.1425\n",
      "Epoch 16/19\n",
      "----------\n",
      "train Loss: 1.0122\n",
      "val Loss: 1.1527\n",
      "Epoch 18/19\n",
      "----------\n",
      "train Loss: 0.9736\n",
      "val Loss: 1.1391\n"
     ]
    }
   ],
   "source": [
    "# И наконец обучаем!\n",
    "model_ft = train_model(\n",
    "    model,\n",
    "    dataloaders_dict,\n",
    "    regression_criterion,\n",
    "    classification_criterion,\n",
    "    optimizer,\n",
    "    num_epochs=cfg.epochs,\n",
    ")"
   ]
  },
  {
   "cell_type": "code",
   "execution_count": 17,
   "metadata": {},
   "outputs": [],
   "source": [
    "del model, model_ft"
   ]
  },
  {
   "cell_type": "markdown",
   "metadata": {},
   "source": [
    "<div class=\"alert alert-success\" style=\"display: inline-block;\">\n",
    "    <img src=\"https://i.imgur.com/jEOxu9w.jpeg\" align='right'>\n",
    "Забываем неудобный код - потому что мы собираемся взлететь на Олимп c PyTorch Lightning ⚡️"
   ]
  },
  {
   "cell_type": "markdown",
   "metadata": {},
   "source": [
    "# <center id=\"c4\"> **Основные компоненты PyTorch Lightning ⚡️**  "
   ]
  },
  {
   "cell_type": "markdown",
   "metadata": {},
   "source": [
    "<div class=\"alert alert-warning\">\n",
    "\n",
    "Добавить картиночку структуры внутри Lightning"
   ]
  },
  {
   "attachments": {
    "b6ed9696-9da8-4d52-9edc-399d13609561.png": {
     "image/png": "[encoded data removed]"
    }
   },
   "cell_type": "markdown",
   "metadata": {},
   "source": [
    "![image.png](attachment:b6ed9696-9da8-4d52-9edc-399d13609561.png)"
   ]
  },
  {
   "cell_type": "markdown",
   "metadata": {},
   "source": [
    "<div class=\"alert alert-info\">\n",
    "\n",
    "* `LightningModule` - наследник `nn.Module`, обязательные атрибуты такие же `__init__`, `forward`. Но внутри есть целое множество удобных методов, такие как `training_step`, `test_step`, которые рассмотрим далее.\n",
    "  \n",
    "* `Trainer` - функция обучения нейронки, внутри которой есть абсолютно **ВСЕ**: если захотели включить Early Stopping - добавили callback и все!\n",
    "  \n",
    "* `LightningDataModule` - наследник `Dataset`, но который может возвращать помимо `Dataset` еще и `Dataloader` и делать это сразу для train, test, valid частей - очень удобно!"
   ]
  },
  {
   "cell_type": "markdown",
   "metadata": {},
   "source": [
    "# <center id=\"c5\"> 👆 DataModule = Dataset + Dataloader ✌️ </center>"
   ]
  },
  {
   "attachments": {
    "808ec287-adf3-4d62-83ea-0f9ce140f950.png": {
     "image/png": "[encoded data removed]"
    }
   },
   "cell_type": "markdown",
   "metadata": {},
   "source": [
    "![image.png](attachment:808ec287-adf3-4d62-83ea-0f9ce140f950.png)"
   ]
  },
  {
   "cell_type": "markdown",
   "metadata": {},
   "source": [
    "<div class=\"alert alert-success\">\n",
    "\n",
    "`LightningDataModule` — это класс из библиотеки `Lightning`, который предназначен для упрощения работы с данными в процессе обучения моделей. Он помогает организовать загрузку, предобработку и разделение данных на обучающие, валидационные и тестовые выборки. У него есть следующие методы:\n",
    "\n",
    "- **`train_dataloader(), val_dataloader(), test_dataloader()`**: \n",
    "   - Метод, который возвращает `DataLoader` для `train`, `valid`, `test` частей соответсвенно\n",
    "\n",
    "- **`prepare_data()`**: \n",
    "   - Метод, который отвечает за подготовку данных. Например загрузка датасета, токенизация текста, применение аугментаций и тд. Этот метод вызывается один раз и исполняется только на одном потоке и не может быть распараллелено \n",
    "\n",
    "- **`setup(stage)`**: \n",
    "    - Метод, который используется для разделения данных"
   ]
  },
  {
   "cell_type": "code",
   "execution_count": 18,
   "metadata": {},
   "outputs": [],
   "source": [
    "# стало\n",
    "class RidesLightning(LightningDataModule):\n",
    "    def __init__(self, cfg: CFG, train_datasets: dict) -> None: \n",
    "        # Сохраняем переменные для дальнейшей работы\n",
    "        super().__init__()\n",
    "\n",
    "        self.cfg = cfg\n",
    "        self.datasets = train_datasets\n",
    "\n",
    "    def setup(self, stage: str):\n",
    "        # Создаем Dataset'ы\n",
    "        self.train = self.datasets[\"train\"]\n",
    "        self.val = self.datasets[\"val\"]\n",
    "\n",
    "    \n",
    "    def _make_dataloader(self, dataset, cfg):\n",
    "        # Общий метод для создания DataLoader\n",
    "        return DataLoader(\n",
    "            dataset,\n",
    "            batch_size=self.cfg.batch_size,\n",
    "            num_workers=self.cfg.num_workers,\n",
    "            pin_memory=True\n",
    "        )\n",
    "\n",
    "    def train_dataloader(self):\n",
    "        # Возвращаем Train Dataloader\n",
    "        return self._make_dataloader(self.train, cfg)\n",
    "    \n",
    "    def val_dataloader(self):\n",
    "        # Возвращаем Valid Dataset\n",
    "        return self._make_dataloader(self.val, cfg)\n",
    "    \n",
    "    def teardown(self, stage: str):\n",
    "        # Функция, которая выполняется после создания Dataloader - здесь можно удалить ненужные компоненты\n",
    "        del self.train, self.val"
   ]
  },
  {
   "cell_type": "markdown",
   "metadata": {},
   "source": [
    "<div class=\"alert alert-info\">\n",
    "\n",
    "`LightningDataModule` можно использовать и отдельно для ваших нужд, если вы хотите использовать `Dataset` из `Lightning`, а обучать модель на `PyTorch` 💀"
   ]
  },
  {
   "cell_type": "code",
   "execution_count": 19,
   "metadata": {},
   "outputs": [
    {
     "name": "stdout",
     "output_type": "stream",
     "text": [
      "[tensor([[-1.1111,  0.0000, -0.0181,  ...,  0.0000,  1.0000,  0.0000],\n",
      "        [ 0.0952,  1.0000,  0.6605,  ...,  0.0000,  0.0000,  0.0000],\n",
      "        [-0.5079, -1.0000, -0.8801,  ...,  0.0000,  0.0000,  0.0000],\n",
      "        ...,\n",
      "        [-1.4762,  0.0000, -0.2131,  ...,  0.0000,  0.0000,  0.0000],\n",
      "        [ 1.0000,  0.5000,  0.3926,  ...,  0.0000,  0.0000,  0.0000],\n",
      "        [ 0.6825,  0.5000,  0.3835,  ...,  0.0000,  0.0000,  0.0000]]), tensor([-0.2579, -0.5486,  0.0726,  0.7590,  0.5905, -0.3650, -0.0700,  0.6622,\n",
      "         0.5253, -0.3490,  0.2661,  1.4752,  0.3952,  0.7827,  0.1685, -0.1689,\n",
      "         0.8199, -0.4998,  0.9741,  0.6505,  0.4255, -0.3572, -0.6168,  0.0505,\n",
      "         0.7067, -0.2095, -0.4873, -0.2186,  0.7957, -0.4307,  2.0203,  0.8903,\n",
      "        -0.5114, -0.3490, -0.4998, -0.7015, -0.2104, -0.1153,  0.0739,  1.1529,\n",
      "         0.1581,  1.2514, -0.5987,  1.6298,  0.4013,  1.1749,  1.5849,  0.6894,\n",
      "        -0.3654, -0.2527,  0.3724, -0.2976, -0.3927,  0.6674, -0.3438,  0.7179,\n",
      "         0.6371,  0.0886,  0.3875,  0.3914, -0.5084,  0.0613, -0.5801,  1.0605,\n",
      "        -0.1637, -0.3097,  0.9413, -0.1114, -0.4376, -0.1413,  0.6173, -0.4203,\n",
      "        -0.4717, -0.4847, -0.3460, -0.0302,  0.8609,  0.9089, -0.5801,  0.0117,\n",
      "        -0.1343, -0.0376,  0.3564,  0.2259,  1.9814,  0.6894,  0.0505, -0.5270,\n",
      "        -0.0397, -0.2104,  0.2060,  0.5317, -0.4881, -0.0289,  0.5460,  0.9214,\n",
      "        -0.2903, -0.5227, -0.1171,  1.3456,  2.5754, -0.7659, -0.0354,  1.6324,\n",
      "        -0.4778,  0.5974, -0.3797, -0.4825,  0.1171, -0.0652,  1.1067,  1.3598,\n",
      "         1.0099, -0.1767, -0.4609, -0.6069, -0.5192,  0.3443, -0.5464, -0.6786,\n",
      "        -0.3400, -0.2216,  1.2307,  0.9689, -0.2276,  1.6501,  0.5119,  0.2557]), tensor([1, 2, 2, 5, 6, 4, 1, 0, 5, 6, 2, 0, 5, 0, 3, 1, 3, 6, 0, 3, 5, 2, 4, 3,\n",
      "        0, 2, 2, 4, 3, 8, 0, 3, 1, 8, 4, 7, 6, 4, 8, 5, 4, 0, 1, 6, 3, 3, 0, 0,\n",
      "        4, 8, 7, 2, 1, 3, 4, 3, 5, 7, 3, 3, 4, 6, 6, 0, 2, 1, 3, 7, 2, 2, 5, 6,\n",
      "        6, 1, 2, 4, 0, 0, 1, 4, 6, 7, 3, 6, 0, 3, 8, 4, 7, 8, 3, 0, 2, 6, 5, 5,\n",
      "        7, 2, 1, 5, 0, 1, 2, 5, 6, 3, 7, 7, 4, 8, 3, 3, 3, 2, 6, 4, 8, 5, 6, 4,\n",
      "        4, 8, 3, 5, 7, 0, 5, 6])]\n"
     ]
    }
   ],
   "source": [
    "# Проверим как выглядит один батч\n",
    "dataset = RidesLightning(cfg, train_datasets)\n",
    "dataset.setup('fit')\n",
    "train_dataloader = dataset.train_dataloader()\n",
    "\n",
    "for batch in train_dataloader:\n",
    "    print(batch)\n",
    "    data, tar_reg, tar_class = batch\n",
    "    break"
   ]
  },
  {
   "cell_type": "markdown",
   "metadata": {},
   "source": [
    "\n",
    "\n",
    "<div class=\"alert alert-info\">\n",
    "\n",
    "Казалось бы сам класс увеличился в размерах, тогда в чем смысл? 🧐"
   ]
  },
  {
   "cell_type": "markdown",
   "metadata": {},
   "source": [
    "<div class=\"alert alert-success\">\n",
    "\n",
    "**Два плюса использования `DataModule` от `Lightning`:**\n",
    "    \n",
    "- Класс возвращает сразу `DataLoader` и не надо искать по всему проекту, где мы их создавали - если возникнет какая-то ошибка\n",
    "- Модульность. Если бы использовали `Dataset` и `Dataloader` от `Pytorch` - пришлось создавать, как минимум два файла, а при использовании `Lightning` - мы создаем все в одном месте и уменьшаем кол-во потенциальных ошибок при масштабировании проекта "
   ]
  },
  {
   "cell_type": "markdown",
   "metadata": {},
   "source": [
    "# <center id=\"c6\"> 🪚 Пилим нейронку c Lightning ⚡️ (стало) </center>"
   ]
  },
  {
   "cell_type": "markdown",
   "metadata": {},
   "source": [
    "Очередняя фишка `Lightning` скрывается в модуле `LightningModule`. Нейронка, отнаследованная от этого класса имеет так называемые хуки (hooks). Хуки позволяют максимально гибко настроить процесс обучения - они автоматизируют `train loop` и процесс обучения выглядит так:"
   ]
  },
  {
   "cell_type": "markdown",
   "metadata": {},
   "source": [
    "<div class=\"alert alert-info\">\n",
    "\n",
    "```python\n",
    "def fit_loop():\n",
    "    torch.set_grad_enabled(True)\n",
    "\n",
    "    on_train_epoch_start()\n",
    "\n",
    "    for batch in train_dataloader():\n",
    "        on_train_batch_start()\n",
    "\n",
    "        on_before_batch_transfer()\n",
    "        transfer_batch_to_device()\n",
    "        on_after_batch_transfer()\n",
    "\n",
    "        out = training_step()\n",
    "\n",
    "        on_before_zero_grad()\n",
    "        optimizer_zero_grad()\n",
    "\n",
    "        on_before_backward()\n",
    "        backward()\n",
    "        on_after_backward()\n",
    "\n",
    "        on_before_optimizer_step()\n",
    "        configure_gradient_clipping()\n",
    "        optimizer_step()\n",
    "\n",
    "        on_train_batch_end(out, batch, batch_idx)\n",
    "\n",
    "        if should_check_val:\n",
    "            val_loop()\n",
    "\n",
    "    on_train_epoch_end()\n",
    "```\n"
   ]
  },
  {
   "cell_type": "markdown",
   "metadata": {},
   "source": [
    "<div class=\"alert alert-info\">\n",
    "\n",
    "Давайте посмотрим на основные `hook`'и, которые чаще всего надо править:\n",
    "\n",
    "`training_step(), validation_step(), test_step()`\n",
    "- Вызывается при каждом шаге обучения \n",
    "- Используется чтобы посчитать loss, метрики и залогировать их "
   ]
  },
  {
   "cell_type": "markdown",
   "metadata": {},
   "source": [
    "<div class=\"alert alert-info\">\n",
    "\n",
    "`{train,validation}_epoch_{end,start}`\n",
    "- Вызывается при начале обучения/валидации или окончании\n",
    "- Здесь обнуляем накопленные градиенты, счетчики и прочее"
   ]
  },
  {
   "cell_type": "markdown",
   "metadata": {},
   "source": [
    "<div class=\"alert alert-info\">\n",
    "\n",
    "`on_fit_start, on_fit_end`\n",
    "- Вызывается при старте обучения сетки\n",
    "- Можно использовать, чтобы отправлять сообщения о том, что началось обучение сетки"
   ]
  },
  {
   "cell_type": "markdown",
   "metadata": {},
   "source": [
    "<div class=\"alert alert-info\">\n",
    "\n",
    "`configure_optimizers()`\n",
    "- Определяем оптимизатор, scheduler и их параметры"
   ]
  },
  {
   "cell_type": "markdown",
   "metadata": {},
   "source": [
    "<div class=\"alert alert-success\">\n",
    "\n",
    "И вы можете настраивать **каждую функцию** при необходимости, если обучаете замысловатую сетку!\n",
    "\n",
    "<p style=\"text-align: center;\"> \n",
    "    Давайте посмотрим, как это применить на практике 🤗\n",
    "</p>\n"
   ]
  },
  {
   "cell_type": "code",
   "execution_count": 20,
   "metadata": {},
   "outputs": [],
   "source": [
    "class LightningModel(LightningModule): # Наследуемся уже от класса из Lightning\n",
    "    def __init__(self, cfg: CFG):\n",
    "        super().__init__()\n",
    "        self.cfg = cfg\n",
    "\n",
    "        self.mlp = nn.Sequential(\n",
    "            nn.Linear(cfg.num_features, cfg.hidden_size),\n",
    "            # nn.BatchNorm1d(cfg.hidden_size),\n",
    "            nn.Dropout(cfg.dropout),\n",
    "            nn.LeakyReLU(),\n",
    "            nn.Linear(cfg.hidden_size, cfg.hidden_size),\n",
    "            # nn.BatchNorm1d(cfg.hidden_size),\n",
    "            nn.Dropout(cfg.dropout),\n",
    "            nn.GELU(),\n",
    "            nn.Linear(cfg.hidden_size, cfg.hidden_size // 2),\n",
    "        )\n",
    "        # Так как два таргета, делаем две головы - одна для регрессии, другая - классификации\n",
    "        self.regressor = nn.Sequential(nn.Linear(cfg.hidden_size // 2, 1))\n",
    "        self.classifier = nn.Sequential(\n",
    "            nn.Linear(cfg.hidden_size // 2, cfg.num_tar_class)\n",
    "        )\n",
    "        \n",
    "        self.regressor = nn.Sequential(nn.Linear(cfg.hidden_size // 2, 1))\n",
    "\n",
    "        self.regression_criterion = nn.MSELoss()\n",
    "        self.classification_criterion = nn.CrossEntropyLoss()\n",
    "\n",
    "    def forward(self, x): # Базовая функция остается для inferenc'а\n",
    "        x = self.mlp(x)\n",
    "        tar_reg = self.regressor(x)\n",
    "        tar_class = self.classifier(x)\n",
    "        return tar_reg.view(-1), tar_class\n",
    "    \n",
    "    def basic_step(self, batch, batch_idx, step: str): # Вспомогательная функция для других step'ов\n",
    "        # Получаем данные\n",
    "        data, reg_target, cls_target = batch\n",
    "\n",
    "        pred_reg, pred_cls = self(data)\n",
    "\n",
    "        loss_reg = self.regression_criterion(pred_reg, reg_target)\n",
    "        loss_class = self.classification_criterion(pred_cls, cls_target)\n",
    "        loss = loss_reg + loss_class\n",
    "\n",
    "        return {\n",
    "            f\"{step}/loss\": loss,\n",
    "            f\"{step}/reg_loss\": loss_reg,\n",
    "            f\"{step}/reg_class\": loss_class\n",
    "        }\n",
    "    \n",
    "    def training_step(self, batch, batch_idx):\n",
    "        # Будет выполняться на этапе тренировки модели\n",
    "        loss_dict = self.basic_step(batch, batch_idx, \"train\")\n",
    "        \n",
    "        # Сохраняем метрики\n",
    "        self.log_dict(loss_dict)\n",
    "        \n",
    "        return loss_dict[\"train/loss\"]\n",
    "    \n",
    "    def validation_step(self, batch, batch_idx):\n",
    "        # Проверка на валидационной части\n",
    "        loss_dict = self.basic_step(batch, batch_idx, \"val\")\n",
    "        \n",
    "        # Сохраняем метрики\n",
    "        self.log_dict(loss_dict)\n",
    "        \n",
    "        return loss_dict[\"val/loss\"]\n",
    "    \n",
    "    \n",
    "    def test_step(self, batch, batch_idx):\n",
    "        # Считаем лосс на тесте\n",
    "        loss_dict = self.basic_step(batch, batch_idx, \"test\")\n",
    "        \n",
    "        # Сохраняем метрики\n",
    "        self.log_dict(loss_dict)\n",
    "        \n",
    "        return loss_dict[\"test/loss\"]\n",
    "    \n",
    "    def configure_optimizers(self):\n",
    "        # Создаем оптимизатор и шедулер\n",
    "        optimizer = torch.optim.AdamW(self.parameters(), lr=self.cfg.lr, weight_decay=0.05)\n",
    "        scheduler = torch.optim.lr_scheduler.CosineAnnealingLR(optimizer, T_max=self.cfg.epochs)\n",
    "\n",
    "        # Можем настраивать какой лосс будут смотреть оптимизатор и шедулер\n",
    "        # Также как часто будет вызываться оптимизатор и шедулер\n",
    "        return {\n",
    "            \"optimizer\": optimizer,\n",
    "            \"lr_scheduler\": {\n",
    "                \"scheduler\": scheduler,\n",
    "                \"monitor\": \"val/loss\",\n",
    "                \"interval\": \"epoch\",\n",
    "                \"frequency\": 1,\n",
    "                \"reduce_on_plateau\": True,\n",
    "            }\n",
    "        }"
   ]
  },
  {
   "cell_type": "markdown",
   "metadata": {},
   "source": [
    "\n",
    "\n",
    "<div class=\"alert alert-info\">\n",
    "\n",
    "**Зачем использовать `LightningModule`?**\n",
    "\n",
    "Хотя может показаться, что стало значительно больше кода, он заботится о стольких удобных вещах, что на самом деле сохраняет нам строки кода в долгосрочной перспективе. Этот класс также реализует больше, чем просто архитектуру нейронной сети и минимум для обучения. Даёт доступ к большей гибкости, для тонкой настройки процесса обучения и инференса с помощью хуков (hooks)."
   ]
  },
  {
   "cell_type": "code",
   "execution_count": 21,
   "metadata": {},
   "outputs": [
    {
     "data": {
      "text/plain": [
       "LightningModel(\n",
       "  (mlp): Sequential(\n",
       "    (0): Linear(in_features=43, out_features=128, bias=True)\n",
       "    (1): Dropout(p=0.1, inplace=False)\n",
       "    (2): LeakyReLU(negative_slope=0.01)\n",
       "    (3): Linear(in_features=128, out_features=128, bias=True)\n",
       "    (4): Dropout(p=0.1, inplace=False)\n",
       "    (5): GELU(approximate='none')\n",
       "    (6): Linear(in_features=128, out_features=64, bias=True)\n",
       "  )\n",
       "  (regressor): Sequential(\n",
       "    (0): Linear(in_features=64, out_features=1, bias=True)\n",
       "  )\n",
       "  (classifier): Sequential(\n",
       "    (0): Linear(in_features=64, out_features=9, bias=True)\n",
       "  )\n",
       "  (regression_criterion): MSELoss()\n",
       "  (classification_criterion): CrossEntropyLoss()\n",
       ")"
      ]
     },
     "execution_count": 21,
     "metadata": {},
     "output_type": "execute_result"
    }
   ],
   "source": [
    "model = LightningModel(cfg)\n",
    "model"
   ]
  },
  {
   "cell_type": "code",
   "execution_count": 22,
   "metadata": {},
   "outputs": [
    {
     "data": {
      "image/svg+xml": [
       "<?xml version=\"1.0\" encoding=\"UTF-8\" standalone=\"no\"?>\n",
       "<!DOCTYPE svg PUBLIC \"-//W3C//DTD SVG 1.1//EN\"\n",
       " \"http://www.w3.org/Graphics/SVG/1.1/DTD/svg11.dtd\">\n",
       "<!-- Generated by graphviz version 2.43.0 (0)\n",
       " -->\n",
       "<!-- Title: model Pages: 1 -->\n",
       "<svg width=\"308pt\" height=\"820pt\"\n",
       " viewBox=\"0.00 0.00 308.00 820.00\" xmlns=\"http://www.w3.org/2000/svg\" xmlns:xlink=\"http://www.w3.org/1999/xlink\">\n",
       "<g id=\"graph0\" class=\"graph\" transform=\"scale(1 1) rotate(0) translate(4 816)\">\n",
       "<title>model</title>\n",
       "<polygon fill=\"white\" stroke=\"transparent\" points=\"-4,4 -4,-816 304,-816 304,4 -4,4\"/>\n",
       "<g id=\"clust1\" class=\"cluster\">\n",
       "<title>cluster_2</title>\n",
       "<polygon fill=\"none\" stroke=\"black\" stroke-dasharray=\"5,2\" points=\"68,-225 68,-772 226,-772 226,-225 68,-225\"/>\n",
       "<text text-anchor=\"middle\" x=\"101\" y=\"-758.4\" font-family=\"Times,serif\" font-size=\"12.00\">Sequential</text>\n",
       "</g>\n",
       "<g id=\"clust2\" class=\"cluster\">\n",
       "<title>cluster_3</title>\n",
       "<polygon fill=\"none\" stroke=\"black\" stroke-dasharray=\"5,2\" points=\"154,-138 154,-217 292,-217 292,-138 154,-138\"/>\n",
       "<text text-anchor=\"middle\" x=\"187\" y=\"-203.4\" font-family=\"Times,serif\" font-size=\"12.00\">Sequential</text>\n",
       "</g>\n",
       "<g id=\"clust3\" class=\"cluster\">\n",
       "<title>cluster_4</title>\n",
       "<polygon fill=\"none\" stroke=\"black\" stroke-dasharray=\"5,2\" points=\"8,-65 8,-217 146,-217 146,-65 8,-65\"/>\n",
       "<text text-anchor=\"middle\" x=\"41\" y=\"-203.4\" font-family=\"Times,serif\" font-size=\"12.00\">Sequential</text>\n",
       "</g>\n",
       "<!-- 0 -->\n",
       "<g id=\"node1\" class=\"node\">\n",
       "<title>0</title>\n",
       "<polygon fill=\"lightyellow\" stroke=\"transparent\" points=\"195,-812 99,-812 99,-780 195,-780 195,-812\"/>\n",
       "<polygon fill=\"none\" stroke=\"black\" points=\"99,-780 99,-812 164,-812 164,-780 99,-780\"/>\n",
       "<text text-anchor=\"start\" x=\"104\" y=\"-799\" font-family=\"Linux libertine\" font-size=\"10.00\">input&#45;tensor</text>\n",
       "<text text-anchor=\"start\" x=\"114.5\" y=\"-788\" font-family=\"Linux libertine\" font-size=\"10.00\">depth:0</text>\n",
       "<polygon fill=\"none\" stroke=\"black\" points=\"164,-780 164,-812 195,-812 195,-780 164,-780\"/>\n",
       "<text text-anchor=\"start\" x=\"169\" y=\"-793.5\" font-family=\"Linux libertine\" font-size=\"10.00\">(43,)</text>\n",
       "</g>\n",
       "<!-- 1 -->\n",
       "<g id=\"node2\" class=\"node\">\n",
       "<title>1</title>\n",
       "<polygon fill=\"#c1ffc1\" stroke=\"transparent\" points=\"210.5,-743 83.5,-743 83.5,-701 210.5,-701 210.5,-743\"/>\n",
       "<polygon fill=\"none\" stroke=\"black\" points=\"84,-701 84,-743 128,-743 128,-701 84,-701\"/>\n",
       "<text text-anchor=\"start\" x=\"92\" y=\"-725\" font-family=\"Linux libertine\" font-size=\"10.00\">Linear</text>\n",
       "<text text-anchor=\"start\" x=\"89\" y=\"-714\" font-family=\"Linux libertine\" font-size=\"10.00\">depth:2</text>\n",
       "<polygon fill=\"none\" stroke=\"black\" points=\"128,-722 128,-743 172,-743 172,-722 128,-722\"/>\n",
       "<text text-anchor=\"start\" x=\"137.5\" y=\"-730\" font-family=\"Linux libertine\" font-size=\"10.00\">input:</text>\n",
       "<polygon fill=\"none\" stroke=\"black\" points=\"172,-722 172,-743 211,-743 211,-722 172,-722\"/>\n",
       "<text text-anchor=\"start\" x=\"180\" y=\"-730\" font-family=\"Linux libertine\" font-size=\"10.00\">(43,) </text>\n",
       "<polygon fill=\"none\" stroke=\"black\" points=\"128,-701 128,-722 172,-722 172,-701 128,-701\"/>\n",
       "<text text-anchor=\"start\" x=\"133\" y=\"-709\" font-family=\"Linux libertine\" font-size=\"10.00\">output: </text>\n",
       "<polygon fill=\"none\" stroke=\"black\" points=\"172,-701 172,-722 211,-722 211,-701 172,-701\"/>\n",
       "<text text-anchor=\"start\" x=\"177\" y=\"-709\" font-family=\"Linux libertine\" font-size=\"10.00\">(128,) </text>\n",
       "</g>\n",
       "<!-- 0&#45;&gt;1 -->\n",
       "<g id=\"edge1\" class=\"edge\">\n",
       "<title>0&#45;&gt;1</title>\n",
       "<path fill=\"none\" stroke=\"black\" d=\"M147,-779.73C147,-772.08 147,-762.52 147,-753.45\"/>\n",
       "<polygon fill=\"black\" stroke=\"black\" points=\"150.5,-753.17 147,-743.17 143.5,-753.17 150.5,-753.17\"/>\n",
       "</g>\n",
       "<!-- 2 -->\n",
       "<g id=\"node3\" class=\"node\">\n",
       "<title>2</title>\n",
       "<polygon fill=\"#c1ffc1\" stroke=\"transparent\" points=\"212.5,-665 81.5,-665 81.5,-623 212.5,-623 212.5,-665\"/>\n",
       "<polygon fill=\"none\" stroke=\"black\" points=\"82,-623 82,-665 130,-665 130,-623 82,-623\"/>\n",
       "<text text-anchor=\"start\" x=\"87\" y=\"-647\" font-family=\"Linux libertine\" font-size=\"10.00\">Dropout</text>\n",
       "<text text-anchor=\"start\" x=\"89\" y=\"-636\" font-family=\"Linux libertine\" font-size=\"10.00\">depth:2</text>\n",
       "<polygon fill=\"none\" stroke=\"black\" points=\"130,-644 130,-665 174,-665 174,-644 130,-644\"/>\n",
       "<text text-anchor=\"start\" x=\"139.5\" y=\"-652\" font-family=\"Linux libertine\" font-size=\"10.00\">input:</text>\n",
       "<polygon fill=\"none\" stroke=\"black\" points=\"174,-644 174,-665 213,-665 213,-644 174,-644\"/>\n",
       "<text text-anchor=\"start\" x=\"179\" y=\"-652\" font-family=\"Linux libertine\" font-size=\"10.00\">(128,) </text>\n",
       "<polygon fill=\"none\" stroke=\"black\" points=\"130,-623 130,-644 174,-644 174,-623 130,-623\"/>\n",
       "<text text-anchor=\"start\" x=\"135\" y=\"-631\" font-family=\"Linux libertine\" font-size=\"10.00\">output: </text>\n",
       "<polygon fill=\"none\" stroke=\"black\" points=\"174,-623 174,-644 213,-644 213,-623 174,-623\"/>\n",
       "<text text-anchor=\"start\" x=\"179\" y=\"-631\" font-family=\"Linux libertine\" font-size=\"10.00\">(128,) </text>\n",
       "</g>\n",
       "<!-- 1&#45;&gt;2 -->\n",
       "<g id=\"edge2\" class=\"edge\">\n",
       "<title>1&#45;&gt;2</title>\n",
       "<path fill=\"none\" stroke=\"black\" d=\"M147,-700.63C147,-692.82 147,-683.73 147,-675.18\"/>\n",
       "<polygon fill=\"black\" stroke=\"black\" points=\"150.5,-675.16 147,-665.16 143.5,-675.16 150.5,-675.16\"/>\n",
       "</g>\n",
       "<!-- 3 -->\n",
       "<g id=\"node4\" class=\"node\">\n",
       "<title>3</title>\n",
       "<polygon fill=\"#c1ffc1\" stroke=\"transparent\" points=\"218,-587 76,-587 76,-545 218,-545 218,-587\"/>\n",
       "<polygon fill=\"none\" stroke=\"black\" points=\"76,-545 76,-587 135,-587 135,-545 76,-545\"/>\n",
       "<text text-anchor=\"start\" x=\"81\" y=\"-569\" font-family=\"Linux libertine\" font-size=\"10.00\">LeakyReLU</text>\n",
       "<text text-anchor=\"start\" x=\"88.5\" y=\"-558\" font-family=\"Linux libertine\" font-size=\"10.00\">depth:2</text>\n",
       "<polygon fill=\"none\" stroke=\"black\" points=\"135,-566 135,-587 179,-587 179,-566 135,-566\"/>\n",
       "<text text-anchor=\"start\" x=\"144.5\" y=\"-574\" font-family=\"Linux libertine\" font-size=\"10.00\">input:</text>\n",
       "<polygon fill=\"none\" stroke=\"black\" points=\"179,-566 179,-587 218,-587 218,-566 179,-566\"/>\n",
       "<text text-anchor=\"start\" x=\"184\" y=\"-574\" font-family=\"Linux libertine\" font-size=\"10.00\">(128,) </text>\n",
       "<polygon fill=\"none\" stroke=\"black\" points=\"135,-545 135,-566 179,-566 179,-545 135,-545\"/>\n",
       "<text text-anchor=\"start\" x=\"140\" y=\"-553\" font-family=\"Linux libertine\" font-size=\"10.00\">output: </text>\n",
       "<polygon fill=\"none\" stroke=\"black\" points=\"179,-545 179,-566 218,-566 218,-545 179,-545\"/>\n",
       "<text text-anchor=\"start\" x=\"184\" y=\"-553\" font-family=\"Linux libertine\" font-size=\"10.00\">(128,) </text>\n",
       "</g>\n",
       "<!-- 2&#45;&gt;3 -->\n",
       "<g id=\"edge3\" class=\"edge\">\n",
       "<title>2&#45;&gt;3</title>\n",
       "<path fill=\"none\" stroke=\"black\" d=\"M147,-622.63C147,-614.82 147,-605.73 147,-597.18\"/>\n",
       "<polygon fill=\"black\" stroke=\"black\" points=\"150.5,-597.16 147,-587.16 143.5,-597.16 150.5,-597.16\"/>\n",
       "</g>\n",
       "<!-- 4 -->\n",
       "<g id=\"node5\" class=\"node\">\n",
       "<title>4</title>\n",
       "<polygon fill=\"#c1ffc1\" stroke=\"transparent\" points=\"210.5,-509 83.5,-509 83.5,-467 210.5,-467 210.5,-509\"/>\n",
       "<polygon fill=\"none\" stroke=\"black\" points=\"84,-467 84,-509 128,-509 128,-467 84,-467\"/>\n",
       "<text text-anchor=\"start\" x=\"92\" y=\"-491\" font-family=\"Linux libertine\" font-size=\"10.00\">Linear</text>\n",
       "<text text-anchor=\"start\" x=\"89\" y=\"-480\" font-family=\"Linux libertine\" font-size=\"10.00\">depth:2</text>\n",
       "<polygon fill=\"none\" stroke=\"black\" points=\"128,-488 128,-509 172,-509 172,-488 128,-488\"/>\n",
       "<text text-anchor=\"start\" x=\"137.5\" y=\"-496\" font-family=\"Linux libertine\" font-size=\"10.00\">input:</text>\n",
       "<polygon fill=\"none\" stroke=\"black\" points=\"172,-488 172,-509 211,-509 211,-488 172,-488\"/>\n",
       "<text text-anchor=\"start\" x=\"177\" y=\"-496\" font-family=\"Linux libertine\" font-size=\"10.00\">(128,) </text>\n",
       "<polygon fill=\"none\" stroke=\"black\" points=\"128,-467 128,-488 172,-488 172,-467 128,-467\"/>\n",
       "<text text-anchor=\"start\" x=\"133\" y=\"-475\" font-family=\"Linux libertine\" font-size=\"10.00\">output: </text>\n",
       "<polygon fill=\"none\" stroke=\"black\" points=\"172,-467 172,-488 211,-488 211,-467 172,-467\"/>\n",
       "<text text-anchor=\"start\" x=\"177\" y=\"-475\" font-family=\"Linux libertine\" font-size=\"10.00\">(128,) </text>\n",
       "</g>\n",
       "<!-- 3&#45;&gt;4 -->\n",
       "<g id=\"edge4\" class=\"edge\">\n",
       "<title>3&#45;&gt;4</title>\n",
       "<path fill=\"none\" stroke=\"black\" d=\"M147,-544.63C147,-536.82 147,-527.73 147,-519.18\"/>\n",
       "<polygon fill=\"black\" stroke=\"black\" points=\"150.5,-519.16 147,-509.16 143.5,-519.16 150.5,-519.16\"/>\n",
       "</g>\n",
       "<!-- 5 -->\n",
       "<g id=\"node6\" class=\"node\">\n",
       "<title>5</title>\n",
       "<polygon fill=\"#c1ffc1\" stroke=\"transparent\" points=\"212.5,-431 81.5,-431 81.5,-389 212.5,-389 212.5,-431\"/>\n",
       "<polygon fill=\"none\" stroke=\"black\" points=\"82,-389 82,-431 130,-431 130,-389 82,-389\"/>\n",
       "<text text-anchor=\"start\" x=\"87\" y=\"-413\" font-family=\"Linux libertine\" font-size=\"10.00\">Dropout</text>\n",
       "<text text-anchor=\"start\" x=\"89\" y=\"-402\" font-family=\"Linux libertine\" font-size=\"10.00\">depth:2</text>\n",
       "<polygon fill=\"none\" stroke=\"black\" points=\"130,-410 130,-431 174,-431 174,-410 130,-410\"/>\n",
       "<text text-anchor=\"start\" x=\"139.5\" y=\"-418\" font-family=\"Linux libertine\" font-size=\"10.00\">input:</text>\n",
       "<polygon fill=\"none\" stroke=\"black\" points=\"174,-410 174,-431 213,-431 213,-410 174,-410\"/>\n",
       "<text text-anchor=\"start\" x=\"179\" y=\"-418\" font-family=\"Linux libertine\" font-size=\"10.00\">(128,) </text>\n",
       "<polygon fill=\"none\" stroke=\"black\" points=\"130,-389 130,-410 174,-410 174,-389 130,-389\"/>\n",
       "<text text-anchor=\"start\" x=\"135\" y=\"-397\" font-family=\"Linux libertine\" font-size=\"10.00\">output: </text>\n",
       "<polygon fill=\"none\" stroke=\"black\" points=\"174,-389 174,-410 213,-410 213,-389 174,-389\"/>\n",
       "<text text-anchor=\"start\" x=\"179\" y=\"-397\" font-family=\"Linux libertine\" font-size=\"10.00\">(128,) </text>\n",
       "</g>\n",
       "<!-- 4&#45;&gt;5 -->\n",
       "<g id=\"edge5\" class=\"edge\">\n",
       "<title>4&#45;&gt;5</title>\n",
       "<path fill=\"none\" stroke=\"black\" d=\"M147,-466.63C147,-458.82 147,-449.73 147,-441.18\"/>\n",
       "<polygon fill=\"black\" stroke=\"black\" points=\"150.5,-441.16 147,-431.16 143.5,-441.16 150.5,-441.16\"/>\n",
       "</g>\n",
       "<!-- 6 -->\n",
       "<g id=\"node7\" class=\"node\">\n",
       "<title>6</title>\n",
       "<polygon fill=\"#c1ffc1\" stroke=\"transparent\" points=\"210.5,-353 83.5,-353 83.5,-311 210.5,-311 210.5,-353\"/>\n",
       "<polygon fill=\"none\" stroke=\"black\" points=\"84,-311 84,-353 128,-353 128,-311 84,-311\"/>\n",
       "<text text-anchor=\"start\" x=\"93\" y=\"-335\" font-family=\"Linux libertine\" font-size=\"10.00\">GELU</text>\n",
       "<text text-anchor=\"start\" x=\"89\" y=\"-324\" font-family=\"Linux libertine\" font-size=\"10.00\">depth:2</text>\n",
       "<polygon fill=\"none\" stroke=\"black\" points=\"128,-332 128,-353 172,-353 172,-332 128,-332\"/>\n",
       "<text text-anchor=\"start\" x=\"137.5\" y=\"-340\" font-family=\"Linux libertine\" font-size=\"10.00\">input:</text>\n",
       "<polygon fill=\"none\" stroke=\"black\" points=\"172,-332 172,-353 211,-353 211,-332 172,-332\"/>\n",
       "<text text-anchor=\"start\" x=\"177\" y=\"-340\" font-family=\"Linux libertine\" font-size=\"10.00\">(128,) </text>\n",
       "<polygon fill=\"none\" stroke=\"black\" points=\"128,-311 128,-332 172,-332 172,-311 128,-311\"/>\n",
       "<text text-anchor=\"start\" x=\"133\" y=\"-319\" font-family=\"Linux libertine\" font-size=\"10.00\">output: </text>\n",
       "<polygon fill=\"none\" stroke=\"black\" points=\"172,-311 172,-332 211,-332 211,-311 172,-311\"/>\n",
       "<text text-anchor=\"start\" x=\"177\" y=\"-319\" font-family=\"Linux libertine\" font-size=\"10.00\">(128,) </text>\n",
       "</g>\n",
       "<!-- 5&#45;&gt;6 -->\n",
       "<g id=\"edge6\" class=\"edge\">\n",
       "<title>5&#45;&gt;6</title>\n",
       "<path fill=\"none\" stroke=\"black\" d=\"M147,-388.63C147,-380.82 147,-371.73 147,-363.18\"/>\n",
       "<polygon fill=\"black\" stroke=\"black\" points=\"150.5,-363.16 147,-353.16 143.5,-363.16 150.5,-363.16\"/>\n",
       "</g>\n",
       "<!-- 7 -->\n",
       "<g id=\"node8\" class=\"node\">\n",
       "<title>7</title>\n",
       "<polygon fill=\"#c1ffc1\" stroke=\"transparent\" points=\"210.5,-275 83.5,-275 83.5,-233 210.5,-233 210.5,-275\"/>\n",
       "<polygon fill=\"none\" stroke=\"black\" points=\"84,-233 84,-275 128,-275 128,-233 84,-233\"/>\n",
       "<text text-anchor=\"start\" x=\"92\" y=\"-257\" font-family=\"Linux libertine\" font-size=\"10.00\">Linear</text>\n",
       "<text text-anchor=\"start\" x=\"89\" y=\"-246\" font-family=\"Linux libertine\" font-size=\"10.00\">depth:2</text>\n",
       "<polygon fill=\"none\" stroke=\"black\" points=\"128,-254 128,-275 172,-275 172,-254 128,-254\"/>\n",
       "<text text-anchor=\"start\" x=\"137.5\" y=\"-262\" font-family=\"Linux libertine\" font-size=\"10.00\">input:</text>\n",
       "<polygon fill=\"none\" stroke=\"black\" points=\"172,-254 172,-275 211,-275 211,-254 172,-254\"/>\n",
       "<text text-anchor=\"start\" x=\"177\" y=\"-262\" font-family=\"Linux libertine\" font-size=\"10.00\">(128,) </text>\n",
       "<polygon fill=\"none\" stroke=\"black\" points=\"128,-233 128,-254 172,-254 172,-233 128,-233\"/>\n",
       "<text text-anchor=\"start\" x=\"133\" y=\"-241\" font-family=\"Linux libertine\" font-size=\"10.00\">output: </text>\n",
       "<polygon fill=\"none\" stroke=\"black\" points=\"172,-233 172,-254 211,-254 211,-233 172,-233\"/>\n",
       "<text text-anchor=\"start\" x=\"180\" y=\"-241\" font-family=\"Linux libertine\" font-size=\"10.00\">(64,) </text>\n",
       "</g>\n",
       "<!-- 6&#45;&gt;7 -->\n",
       "<g id=\"edge7\" class=\"edge\">\n",
       "<title>6&#45;&gt;7</title>\n",
       "<path fill=\"none\" stroke=\"black\" d=\"M147,-310.63C147,-302.82 147,-293.73 147,-285.18\"/>\n",
       "<polygon fill=\"black\" stroke=\"black\" points=\"150.5,-285.16 147,-275.16 143.5,-285.16 150.5,-285.16\"/>\n",
       "</g>\n",
       "<!-- 8 -->\n",
       "<g id=\"node9\" class=\"node\">\n",
       "<title>8</title>\n",
       "<polygon fill=\"#c1ffc1\" stroke=\"transparent\" points=\"283.5,-188 162.5,-188 162.5,-146 283.5,-146 283.5,-188\"/>\n",
       "<polygon fill=\"none\" stroke=\"black\" points=\"163,-146 163,-188 207,-188 207,-146 163,-146\"/>\n",
       "<text text-anchor=\"start\" x=\"171\" y=\"-170\" font-family=\"Linux libertine\" font-size=\"10.00\">Linear</text>\n",
       "<text text-anchor=\"start\" x=\"168\" y=\"-159\" font-family=\"Linux libertine\" font-size=\"10.00\">depth:2</text>\n",
       "<polygon fill=\"none\" stroke=\"black\" points=\"207,-167 207,-188 251,-188 251,-167 207,-167\"/>\n",
       "<text text-anchor=\"start\" x=\"216.5\" y=\"-175\" font-family=\"Linux libertine\" font-size=\"10.00\">input:</text>\n",
       "<polygon fill=\"none\" stroke=\"black\" points=\"251,-167 251,-188 284,-188 284,-167 251,-167\"/>\n",
       "<text text-anchor=\"start\" x=\"256\" y=\"-175\" font-family=\"Linux libertine\" font-size=\"10.00\">(64,) </text>\n",
       "<polygon fill=\"none\" stroke=\"black\" points=\"207,-146 207,-167 251,-167 251,-146 207,-146\"/>\n",
       "<text text-anchor=\"start\" x=\"212\" y=\"-154\" font-family=\"Linux libertine\" font-size=\"10.00\">output: </text>\n",
       "<polygon fill=\"none\" stroke=\"black\" points=\"251,-146 251,-167 284,-167 284,-146 251,-146\"/>\n",
       "<text text-anchor=\"start\" x=\"259\" y=\"-154\" font-family=\"Linux libertine\" font-size=\"10.00\">(1,) </text>\n",
       "</g>\n",
       "<!-- 7&#45;&gt;8 -->\n",
       "<g id=\"edge8\" class=\"edge\">\n",
       "<title>7&#45;&gt;8</title>\n",
       "<path fill=\"none\" stroke=\"black\" d=\"M165.01,-232.86C174.88,-221.82 187.26,-207.98 198.04,-195.91\"/>\n",
       "<polygon fill=\"black\" stroke=\"black\" points=\"200.8,-198.08 204.85,-188.29 195.58,-193.42 200.8,-198.08\"/>\n",
       "</g>\n",
       "<!-- 9 -->\n",
       "<g id=\"node10\" class=\"node\">\n",
       "<title>9</title>\n",
       "<polygon fill=\"#c1ffc1\" stroke=\"transparent\" points=\"137.5,-188 16.5,-188 16.5,-146 137.5,-146 137.5,-188\"/>\n",
       "<polygon fill=\"none\" stroke=\"black\" points=\"17,-146 17,-188 61,-188 61,-146 17,-146\"/>\n",
       "<text text-anchor=\"start\" x=\"25\" y=\"-170\" font-family=\"Linux libertine\" font-size=\"10.00\">Linear</text>\n",
       "<text text-anchor=\"start\" x=\"22\" y=\"-159\" font-family=\"Linux libertine\" font-size=\"10.00\">depth:2</text>\n",
       "<polygon fill=\"none\" stroke=\"black\" points=\"61,-167 61,-188 105,-188 105,-167 61,-167\"/>\n",
       "<text text-anchor=\"start\" x=\"70.5\" y=\"-175\" font-family=\"Linux libertine\" font-size=\"10.00\">input:</text>\n",
       "<polygon fill=\"none\" stroke=\"black\" points=\"105,-167 105,-188 138,-188 138,-167 105,-167\"/>\n",
       "<text text-anchor=\"start\" x=\"110\" y=\"-175\" font-family=\"Linux libertine\" font-size=\"10.00\">(64,) </text>\n",
       "<polygon fill=\"none\" stroke=\"black\" points=\"61,-146 61,-167 105,-167 105,-146 61,-146\"/>\n",
       "<text text-anchor=\"start\" x=\"66\" y=\"-154\" font-family=\"Linux libertine\" font-size=\"10.00\">output: </text>\n",
       "<polygon fill=\"none\" stroke=\"black\" points=\"105,-146 105,-167 138,-167 138,-146 105,-146\"/>\n",
       "<text text-anchor=\"start\" x=\"113\" y=\"-154\" font-family=\"Linux libertine\" font-size=\"10.00\">(9,) </text>\n",
       "</g>\n",
       "<!-- 7&#45;&gt;9 -->\n",
       "<g id=\"edge10\" class=\"edge\">\n",
       "<title>7&#45;&gt;9</title>\n",
       "<path fill=\"none\" stroke=\"black\" d=\"M130.41,-232.86C121.41,-221.93 110.14,-208.24 100.27,-196.26\"/>\n",
       "<polygon fill=\"black\" stroke=\"black\" points=\"102.77,-193.79 93.71,-188.29 97.37,-198.24 102.77,-193.79\"/>\n",
       "</g>\n",
       "<!-- 11 -->\n",
       "<g id=\"node12\" class=\"node\">\n",
       "<title>11</title>\n",
       "<polygon fill=\"aliceblue\" stroke=\"transparent\" points=\"280.5,-110 165.5,-110 165.5,-68 280.5,-68 280.5,-110\"/>\n",
       "<polygon fill=\"none\" stroke=\"black\" points=\"166,-68 166,-110 210,-110 210,-68 166,-68\"/>\n",
       "<text text-anchor=\"start\" x=\"177.5\" y=\"-92\" font-family=\"Linux libertine\" font-size=\"10.00\">view</text>\n",
       "<text text-anchor=\"start\" x=\"171\" y=\"-81\" font-family=\"Linux libertine\" font-size=\"10.00\">depth:1</text>\n",
       "<polygon fill=\"none\" stroke=\"black\" points=\"210,-89 210,-110 254,-110 254,-89 210,-89\"/>\n",
       "<text text-anchor=\"start\" x=\"219.5\" y=\"-97\" font-family=\"Linux libertine\" font-size=\"10.00\">input:</text>\n",
       "<polygon fill=\"none\" stroke=\"black\" points=\"254,-89 254,-110 281,-110 281,-89 254,-89\"/>\n",
       "<text text-anchor=\"start\" x=\"259\" y=\"-97\" font-family=\"Linux libertine\" font-size=\"10.00\">(1,) </text>\n",
       "<polygon fill=\"none\" stroke=\"black\" points=\"210,-68 210,-89 254,-89 254,-68 210,-68\"/>\n",
       "<text text-anchor=\"start\" x=\"215\" y=\"-76\" font-family=\"Linux libertine\" font-size=\"10.00\">output: </text>\n",
       "<polygon fill=\"none\" stroke=\"black\" points=\"254,-68 254,-89 281,-89 281,-68 254,-68\"/>\n",
       "<text text-anchor=\"start\" x=\"259\" y=\"-76\" font-family=\"Linux libertine\" font-size=\"10.00\">(1,) </text>\n",
       "</g>\n",
       "<!-- 8&#45;&gt;11 -->\n",
       "<g id=\"edge9\" class=\"edge\">\n",
       "<title>8&#45;&gt;11</title>\n",
       "<path fill=\"none\" stroke=\"black\" d=\"M223,-145.63C223,-137.82 223,-128.73 223,-120.18\"/>\n",
       "<polygon fill=\"black\" stroke=\"black\" points=\"226.5,-120.16 223,-110.16 219.5,-120.16 226.5,-120.16\"/>\n",
       "</g>\n",
       "<!-- 10 -->\n",
       "<g id=\"node11\" class=\"node\">\n",
       "<title>10</title>\n",
       "<polygon fill=\"lightyellow\" stroke=\"transparent\" points=\"125.5,-105 28.5,-105 28.5,-73 125.5,-73 125.5,-105\"/>\n",
       "<polygon fill=\"none\" stroke=\"black\" points=\"29,-73 29,-105 101,-105 101,-73 29,-73\"/>\n",
       "<text text-anchor=\"start\" x=\"34\" y=\"-92\" font-family=\"Linux libertine\" font-size=\"10.00\">output&#45;tensor</text>\n",
       "<text text-anchor=\"start\" x=\"48\" y=\"-81\" font-family=\"Linux libertine\" font-size=\"10.00\">depth:0</text>\n",
       "<polygon fill=\"none\" stroke=\"black\" points=\"101,-73 101,-105 126,-105 126,-73 101,-73\"/>\n",
       "<text text-anchor=\"start\" x=\"106\" y=\"-86.5\" font-family=\"Linux libertine\" font-size=\"10.00\">(9,)</text>\n",
       "</g>\n",
       "<!-- 9&#45;&gt;10 -->\n",
       "<g id=\"edge11\" class=\"edge\">\n",
       "<title>9&#45;&gt;10</title>\n",
       "<path fill=\"none\" stroke=\"black\" d=\"M77,-145.63C77,-136.33 77,-125.22 77,-115.39\"/>\n",
       "<polygon fill=\"black\" stroke=\"black\" points=\"80.5,-115.36 77,-105.36 73.5,-115.36 80.5,-115.36\"/>\n",
       "</g>\n",
       "<!-- 12 -->\n",
       "<g id=\"node13\" class=\"node\">\n",
       "<title>12</title>\n",
       "<polygon fill=\"lightyellow\" stroke=\"transparent\" points=\"271.5,-32 174.5,-32 174.5,0 271.5,0 271.5,-32\"/>\n",
       "<polygon fill=\"none\" stroke=\"black\" points=\"175,0 175,-32 247,-32 247,0 175,0\"/>\n",
       "<text text-anchor=\"start\" x=\"180\" y=\"-19\" font-family=\"Linux libertine\" font-size=\"10.00\">output&#45;tensor</text>\n",
       "<text text-anchor=\"start\" x=\"194\" y=\"-8\" font-family=\"Linux libertine\" font-size=\"10.00\">depth:0</text>\n",
       "<polygon fill=\"none\" stroke=\"black\" points=\"247,0 247,-32 272,-32 272,0 247,0\"/>\n",
       "<text text-anchor=\"start\" x=\"252\" y=\"-13.5\" font-family=\"Linux libertine\" font-size=\"10.00\">(1,)</text>\n",
       "</g>\n",
       "<!-- 11&#45;&gt;12 -->\n",
       "<g id=\"edge12\" class=\"edge\">\n",
       "<title>11&#45;&gt;12</title>\n",
       "<path fill=\"none\" stroke=\"black\" d=\"M223,-67.84C223,-59.89 223,-50.66 223,-42.26\"/>\n",
       "<polygon fill=\"black\" stroke=\"black\" points=\"226.5,-42.24 223,-32.24 219.5,-42.24 226.5,-42.24\"/>\n",
       "</g>\n",
       "</g>\n",
       "</svg>\n"
      ],
      "text/plain": [
       "<graphviz.graphs.Digraph at 0x7f7728d2db40>"
      ]
     },
     "execution_count": 22,
     "metadata": {},
     "output_type": "execute_result"
    }
   ],
   "source": [
    "# Посмотрим какая модель у нас получилась\n",
    "from torchview import draw_graph\n",
    "\n",
    "model_graph = draw_graph(model, input_size=[cfg.num_features], expand_nested=True)\n",
    "model_graph.visual_graph"
   ]
  },
  {
   "cell_type": "markdown",
   "metadata": {},
   "source": [
    "# <center id=\"c7\"> 🧌 Не боги неройнки обучают - запускаем Trainer </center>"
   ]
  },
  {
   "cell_type": "markdown",
   "metadata": {},
   "source": [
    "<div class=\"alert alert-info\">\n",
    "    \n",
    "Получаем точно такую же модельку, так что давайте обучим ее!\n",
    "Для этого воспользуемся второй основной фишкой Lightning - `trainer`. Это класс, который управляет процессом обучения модели. Мы можем передать ему параметры и вызвать методы для обучения.\n",
    "\n",
    "Вот как это делается:\n",
    "\n",
    "1. Создаем экземпляр класса `Trainer`.\n",
    "2. Устанавливаем параметры обучения.\n",
    "3. Вызываем метод `fit` для обучения модели на тренировочном наборе данных.\n",
    "\n",
    "Давайте создадим экземпляр класса `Trainer`, укажем параметры и вызовем метод `fit`."
   ]
  },
  {
   "cell_type": "code",
   "execution_count": 25,
   "metadata": {},
   "outputs": [
    {
     "name": "stderr",
     "output_type": "stream",
     "text": [
      "Trainer will use only 1 of 2 GPUs because it is running inside an interactive / notebook environment. You may try to set `Trainer(devices=2)` but please note that multi-GPU inside interactive / notebook environments is considered experimental and unstable. Your mileage may vary.\n",
      "GPU available: True (cuda), used: True\n",
      "TPU available: False, using: 0 TPU cores\n",
      "HPU available: False, using: 0 HPUs\n"
     ]
    }
   ],
   "source": [
    "trainer = Trainer(\n",
    "    max_epochs=cfg.epochs, \n",
    "    log_every_n_steps=1,log_every_n_steps\n",
    ")"
   ]
  },
  {
   "cell_type": "code",
   "execution_count": 26,
   "metadata": {},
   "outputs": [
    {
     "name": "stderr",
     "output_type": "stream",
     "text": [
      "LOCAL_RANK: 0 - CUDA_VISIBLE_DEVICES: [0,1]\n",
      "\n",
      "  | Name                     | Type             | Params | Mode \n",
      "----------------------------------------------------------------------\n",
      "0 | mlp                      | Sequential       | 30.4 K | train\n",
      "1 | regressor                | Sequential       | 65     | train\n",
      "2 | classifier               | Sequential       | 585    | train\n",
      "3 | regression_criterion     | MSELoss          | 0      | train\n",
      "4 | classification_criterion | CrossEntropyLoss | 0      | train\n",
      "----------------------------------------------------------------------\n",
      "31.1 K    Trainable params\n",
      "0         Non-trainable params\n",
      "31.1 K    Total params\n",
      "0.124     Total estimated model params size (MB)\n",
      "14        Modules in train mode\n",
      "0         Modules in eval mode\n"
     ]
    },
    {
     "data": {
      "application/vnd.jupyter.widget-view+json": {
       "model_id": "",
       "version_major": 2,
       "version_minor": 0
      },
      "text/plain": [
       "Sanity Checking: |          | 0/? [00:00<?, ?it/s]"
      ]
     },
     "metadata": {},
     "output_type": "display_data"
    },
    {
     "data": {
      "application/vnd.jupyter.widget-view+json": {
       "model_id": "5830a95ef92540239ccb0b0488e07bd2",
       "version_major": 2,
       "version_minor": 0
      },
      "text/plain": [
       "Training: |          | 0/? [00:00<?, ?it/s]"
      ]
     },
     "metadata": {},
     "output_type": "display_data"
    },
    {
     "data": {
      "application/vnd.jupyter.widget-view+json": {
       "model_id": "",
       "version_major": 2,
       "version_minor": 0
      },
      "text/plain": [
       "Validation: |          | 0/? [00:00<?, ?it/s]"
      ]
     },
     "metadata": {},
     "output_type": "display_data"
    },
    {
     "data": {
      "application/vnd.jupyter.widget-view+json": {
       "model_id": "",
       "version_major": 2,
       "version_minor": 0
      },
      "text/plain": [
       "Validation: |          | 0/? [00:00<?, ?it/s]"
      ]
     },
     "metadata": {},
     "output_type": "display_data"
    },
    {
     "data": {
      "application/vnd.jupyter.widget-view+json": {
       "model_id": "",
       "version_major": 2,
       "version_minor": 0
      },
      "text/plain": [
       "Validation: |          | 0/? [00:00<?, ?it/s]"
      ]
     },
     "metadata": {},
     "output_type": "display_data"
    },
    {
     "data": {
      "application/vnd.jupyter.widget-view+json": {
       "model_id": "",
       "version_major": 2,
       "version_minor": 0
      },
      "text/plain": [
       "Validation: |          | 0/? [00:00<?, ?it/s]"
      ]
     },
     "metadata": {},
     "output_type": "display_data"
    },
    {
     "data": {
      "application/vnd.jupyter.widget-view+json": {
       "model_id": "",
       "version_major": 2,
       "version_minor": 0
      },
      "text/plain": [
       "Validation: |          | 0/? [00:00<?, ?it/s]"
      ]
     },
     "metadata": {},
     "output_type": "display_data"
    },
    {
     "data": {
      "application/vnd.jupyter.widget-view+json": {
       "model_id": "",
       "version_major": 2,
       "version_minor": 0
      },
      "text/plain": [
       "Validation: |          | 0/? [00:00<?, ?it/s]"
      ]
     },
     "metadata": {},
     "output_type": "display_data"
    },
    {
     "data": {
      "application/vnd.jupyter.widget-view+json": {
       "model_id": "",
       "version_major": 2,
       "version_minor": 0
      },
      "text/plain": [
       "Validation: |          | 0/? [00:00<?, ?it/s]"
      ]
     },
     "metadata": {},
     "output_type": "display_data"
    },
    {
     "data": {
      "application/vnd.jupyter.widget-view+json": {
       "model_id": "",
       "version_major": 2,
       "version_minor": 0
      },
      "text/plain": [
       "Validation: |          | 0/? [00:00<?, ?it/s]"
      ]
     },
     "metadata": {},
     "output_type": "display_data"
    },
    {
     "data": {
      "application/vnd.jupyter.widget-view+json": {
       "model_id": "",
       "version_major": 2,
       "version_minor": 0
      },
      "text/plain": [
       "Validation: |          | 0/? [00:00<?, ?it/s]"
      ]
     },
     "metadata": {},
     "output_type": "display_data"
    },
    {
     "data": {
      "application/vnd.jupyter.widget-view+json": {
       "model_id": "",
       "version_major": 2,
       "version_minor": 0
      },
      "text/plain": [
       "Validation: |          | 0/? [00:00<?, ?it/s]"
      ]
     },
     "metadata": {},
     "output_type": "display_data"
    },
    {
     "data": {
      "application/vnd.jupyter.widget-view+json": {
       "model_id": "",
       "version_major": 2,
       "version_minor": 0
      },
      "text/plain": [
       "Validation: |          | 0/? [00:00<?, ?it/s]"
      ]
     },
     "metadata": {},
     "output_type": "display_data"
    },
    {
     "data": {
      "application/vnd.jupyter.widget-view+json": {
       "model_id": "",
       "version_major": 2,
       "version_minor": 0
      },
      "text/plain": [
       "Validation: |          | 0/? [00:00<?, ?it/s]"
      ]
     },
     "metadata": {},
     "output_type": "display_data"
    },
    {
     "data": {
      "application/vnd.jupyter.widget-view+json": {
       "model_id": "",
       "version_major": 2,
       "version_minor": 0
      },
      "text/plain": [
       "Validation: |          | 0/? [00:00<?, ?it/s]"
      ]
     },
     "metadata": {},
     "output_type": "display_data"
    },
    {
     "data": {
      "application/vnd.jupyter.widget-view+json": {
       "model_id": "",
       "version_major": 2,
       "version_minor": 0
      },
      "text/plain": [
       "Validation: |          | 0/? [00:00<?, ?it/s]"
      ]
     },
     "metadata": {},
     "output_type": "display_data"
    },
    {
     "data": {
      "application/vnd.jupyter.widget-view+json": {
       "model_id": "",
       "version_major": 2,
       "version_minor": 0
      },
      "text/plain": [
       "Validation: |          | 0/? [00:00<?, ?it/s]"
      ]
     },
     "metadata": {},
     "output_type": "display_data"
    },
    {
     "data": {
      "application/vnd.jupyter.widget-view+json": {
       "model_id": "",
       "version_major": 2,
       "version_minor": 0
      },
      "text/plain": [
       "Validation: |          | 0/? [00:00<?, ?it/s]"
      ]
     },
     "metadata": {},
     "output_type": "display_data"
    },
    {
     "data": {
      "application/vnd.jupyter.widget-view+json": {
       "model_id": "",
       "version_major": 2,
       "version_minor": 0
      },
      "text/plain": [
       "Validation: |          | 0/? [00:00<?, ?it/s]"
      ]
     },
     "metadata": {},
     "output_type": "display_data"
    },
    {
     "data": {
      "application/vnd.jupyter.widget-view+json": {
       "model_id": "",
       "version_major": 2,
       "version_minor": 0
      },
      "text/plain": [
       "Validation: |          | 0/? [00:00<?, ?it/s]"
      ]
     },
     "metadata": {},
     "output_type": "display_data"
    },
    {
     "data": {
      "application/vnd.jupyter.widget-view+json": {
       "model_id": "",
       "version_major": 2,
       "version_minor": 0
      },
      "text/plain": [
       "Validation: |          | 0/? [00:00<?, ?it/s]"
      ]
     },
     "metadata": {},
     "output_type": "display_data"
    },
    {
     "data": {
      "application/vnd.jupyter.widget-view+json": {
       "model_id": "",
       "version_major": 2,
       "version_minor": 0
      },
      "text/plain": [
       "Validation: |          | 0/? [00:00<?, ?it/s]"
      ]
     },
     "metadata": {},
     "output_type": "display_data"
    },
    {
     "name": "stderr",
     "output_type": "stream",
     "text": [
      "`Trainer.fit` stopped: `max_epochs=20` reached.\n"
     ]
    }
   ],
   "source": [
    "trainer.fit(model, datamodule=dataset)"
   ]
  },
  {
   "cell_type": "markdown",
   "metadata": {},
   "source": [
    "# <center id=\"c8\"> 🩺 Отладка + Profiler 🎛 </center>\n",
    "\n",
    "<div class=\"alert alert-info\">\n",
    "    \n",
    "Также в `Lightning` есть удобная отладка модели - `Profiler` и `fast_dev_run`\n",
    "\n",
    "* `Profiler` позволяет измерить время выполнения каждого слоя и функции, чтобы найти проблемы в модели\n",
    "* `fast_dev_run` позволяет быстро проверить работу модели на тренировочном наборе данных и далее проверить на валидационной выборке. Он выполнит 1 эпоху для теста"
   ]
  },
  {
   "cell_type": "code",
   "execution_count": 28,
   "metadata": {},
   "outputs": [
    {
     "name": "stderr",
     "output_type": "stream",
     "text": [
      "GPU available: True (cuda), used: True\n",
      "TPU available: False, using: 0 TPU cores\n",
      "HPU available: False, using: 0 HPUs\n",
      "Running in `fast_dev_run` mode: will run the requested loop using 1 batch(es). Logging and checkpointing is suppressed.\n"
     ]
    }
   ],
   "source": [
    "trainer = Trainer(fast_dev_run=True)"
   ]
  },
  {
   "cell_type": "code",
   "execution_count": 29,
   "metadata": {},
   "outputs": [
    {
     "name": "stderr",
     "output_type": "stream",
     "text": [
      "LOCAL_RANK: 0 - CUDA_VISIBLE_DEVICES: [0]\n",
      "\n",
      "  | Name                     | Type             | Params | Mode \n",
      "----------------------------------------------------------------------\n",
      "0 | mlp                      | Sequential       | 30.4 K | train\n",
      "1 | regressor                | Sequential       | 65     | train\n",
      "2 | classifier               | Sequential       | 585    | train\n",
      "3 | regression_criterion     | MSELoss          | 0      | train\n",
      "4 | classification_criterion | CrossEntropyLoss | 0      | train\n",
      "----------------------------------------------------------------------\n",
      "31.1 K    Trainable params\n",
      "0         Non-trainable params\n",
      "31.1 K    Total params\n",
      "0.124     Total estimated model params size (MB)\n",
      "14        Modules in train mode\n",
      "0         Modules in eval mode\n"
     ]
    },
    {
     "data": {
      "application/vnd.jupyter.widget-view+json": {
       "model_id": "0aaede334b86449a95c2276f4fbb2d2a",
       "version_major": 2,
       "version_minor": 0
      },
      "text/plain": [
       "Training: |          | 0/? [00:00<?, ?it/s]"
      ]
     },
     "metadata": {},
     "output_type": "display_data"
    },
    {
     "data": {
      "application/vnd.jupyter.widget-view+json": {
       "model_id": "",
       "version_major": 2,
       "version_minor": 0
      },
      "text/plain": [
       "Validation: |          | 0/? [00:00<?, ?it/s]"
      ]
     },
     "metadata": {},
     "output_type": "display_data"
    },
    {
     "name": "stderr",
     "output_type": "stream",
     "text": [
      "`Trainer.fit` stopped: `max_steps=1` reached.\n"
     ]
    }
   ],
   "source": [
    "trainer.fit(model, datamodule=dataset)"
   ]
  },
  {
   "cell_type": "markdown",
   "metadata": {},
   "source": [
    "<div class=\"alert alert-info\">\n",
    "    \n",
    "Модель успешно прошла 1 эпоху обучения - теперь можем запускать на большее количество эпох!"
   ]
  },
  {
   "cell_type": "markdown",
   "metadata": {},
   "source": [
    "<div class=\"alert alert-success\">\n",
    "    \n",
    "Теперь запустим обучение с профайлером, чтобы понять, где в нашей архитектуре (или в нашем пайплайне) узкие места."
   ]
  },
  {
   "cell_type": "code",
   "execution_count": 27,
   "metadata": {},
   "outputs": [
    {
     "name": "stderr",
     "output_type": "stream",
     "text": [
      "Trainer will use only 1 of 2 GPUs because it is running inside an interactive / notebook environment. You may try to set `Trainer(devices=2)` but please note that multi-GPU inside interactive / notebook environments is considered experimental and unstable. Your mileage may vary.\n",
      "GPU available: True (cuda), used: True\n",
      "TPU available: False, using: 0 TPU cores\n",
      "HPU available: False, using: 0 HPUs\n"
     ]
    }
   ],
   "source": [
    "trainer = Trainer(\n",
    "    profiler='simple',\n",
    "    max_epochs=cfg.epochs,\n",
    "    log_every_n_steps=10,\n",
    ")"
   ]
  },
  {
   "cell_type": "code",
   "execution_count": 28,
   "metadata": {},
   "outputs": [
    {
     "name": "stderr",
     "output_type": "stream",
     "text": [
      "LOCAL_RANK: 0 - CUDA_VISIBLE_DEVICES: [0,1]\n",
      "\n",
      "  | Name                     | Type             | Params | Mode \n",
      "----------------------------------------------------------------------\n",
      "0 | mlp                      | Sequential       | 30.4 K | train\n",
      "1 | regressor                | Sequential       | 65     | train\n",
      "2 | classifier               | Sequential       | 585    | train\n",
      "3 | regression_criterion     | MSELoss          | 0      | train\n",
      "4 | classification_criterion | CrossEntropyLoss | 0      | train\n",
      "----------------------------------------------------------------------\n",
      "31.1 K    Trainable params\n",
      "0         Non-trainable params\n",
      "31.1 K    Total params\n",
      "0.124     Total estimated model params size (MB)\n",
      "14        Modules in train mode\n",
      "0         Modules in eval mode\n"
     ]
    },
    {
     "data": {
      "application/vnd.jupyter.widget-view+json": {
       "model_id": "",
       "version_major": 2,
       "version_minor": 0
      },
      "text/plain": [
       "Sanity Checking: |          | 0/? [00:00<?, ?it/s]"
      ]
     },
     "metadata": {},
     "output_type": "display_data"
    },
    {
     "data": {
      "application/vnd.jupyter.widget-view+json": {
       "model_id": "fa71bb27199945b0b2103eed27569da8",
       "version_major": 2,
       "version_minor": 0
      },
      "text/plain": [
       "Training: |          | 0/? [00:00<?, ?it/s]"
      ]
     },
     "metadata": {},
     "output_type": "display_data"
    },
    {
     "data": {
      "application/vnd.jupyter.widget-view+json": {
       "model_id": "",
       "version_major": 2,
       "version_minor": 0
      },
      "text/plain": [
       "Validation: |          | 0/? [00:00<?, ?it/s]"
      ]
     },
     "metadata": {},
     "output_type": "display_data"
    },
    {
     "data": {
      "application/vnd.jupyter.widget-view+json": {
       "model_id": "",
       "version_major": 2,
       "version_minor": 0
      },
      "text/plain": [
       "Validation: |          | 0/? [00:00<?, ?it/s]"
      ]
     },
     "metadata": {},
     "output_type": "display_data"
    },
    {
     "data": {
      "application/vnd.jupyter.widget-view+json": {
       "model_id": "",
       "version_major": 2,
       "version_minor": 0
      },
      "text/plain": [
       "Validation: |          | 0/? [00:00<?, ?it/s]"
      ]
     },
     "metadata": {},
     "output_type": "display_data"
    },
    {
     "data": {
      "application/vnd.jupyter.widget-view+json": {
       "model_id": "",
       "version_major": 2,
       "version_minor": 0
      },
      "text/plain": [
       "Validation: |          | 0/? [00:00<?, ?it/s]"
      ]
     },
     "metadata": {},
     "output_type": "display_data"
    },
    {
     "data": {
      "application/vnd.jupyter.widget-view+json": {
       "model_id": "",
       "version_major": 2,
       "version_minor": 0
      },
      "text/plain": [
       "Validation: |          | 0/? [00:00<?, ?it/s]"
      ]
     },
     "metadata": {},
     "output_type": "display_data"
    },
    {
     "data": {
      "application/vnd.jupyter.widget-view+json": {
       "model_id": "",
       "version_major": 2,
       "version_minor": 0
      },
      "text/plain": [
       "Validation: |          | 0/? [00:00<?, ?it/s]"
      ]
     },
     "metadata": {},
     "output_type": "display_data"
    },
    {
     "data": {
      "application/vnd.jupyter.widget-view+json": {
       "model_id": "",
       "version_major": 2,
       "version_minor": 0
      },
      "text/plain": [
       "Validation: |          | 0/? [00:00<?, ?it/s]"
      ]
     },
     "metadata": {},
     "output_type": "display_data"
    },
    {
     "data": {
      "application/vnd.jupyter.widget-view+json": {
       "model_id": "",
       "version_major": 2,
       "version_minor": 0
      },
      "text/plain": [
       "Validation: |          | 0/? [00:00<?, ?it/s]"
      ]
     },
     "metadata": {},
     "output_type": "display_data"
    },
    {
     "data": {
      "application/vnd.jupyter.widget-view+json": {
       "model_id": "",
       "version_major": 2,
       "version_minor": 0
      },
      "text/plain": [
       "Validation: |          | 0/? [00:00<?, ?it/s]"
      ]
     },
     "metadata": {},
     "output_type": "display_data"
    },
    {
     "data": {
      "application/vnd.jupyter.widget-view+json": {
       "model_id": "",
       "version_major": 2,
       "version_minor": 0
      },
      "text/plain": [
       "Validation: |          | 0/? [00:00<?, ?it/s]"
      ]
     },
     "metadata": {},
     "output_type": "display_data"
    },
    {
     "data": {
      "application/vnd.jupyter.widget-view+json": {
       "model_id": "",
       "version_major": 2,
       "version_minor": 0
      },
      "text/plain": [
       "Validation: |          | 0/? [00:00<?, ?it/s]"
      ]
     },
     "metadata": {},
     "output_type": "display_data"
    },
    {
     "data": {
      "application/vnd.jupyter.widget-view+json": {
       "model_id": "",
       "version_major": 2,
       "version_minor": 0
      },
      "text/plain": [
       "Validation: |          | 0/? [00:00<?, ?it/s]"
      ]
     },
     "metadata": {},
     "output_type": "display_data"
    },
    {
     "data": {
      "application/vnd.jupyter.widget-view+json": {
       "model_id": "",
       "version_major": 2,
       "version_minor": 0
      },
      "text/plain": [
       "Validation: |          | 0/? [00:00<?, ?it/s]"
      ]
     },
     "metadata": {},
     "output_type": "display_data"
    },
    {
     "data": {
      "application/vnd.jupyter.widget-view+json": {
       "model_id": "",
       "version_major": 2,
       "version_minor": 0
      },
      "text/plain": [
       "Validation: |          | 0/? [00:00<?, ?it/s]"
      ]
     },
     "metadata": {},
     "output_type": "display_data"
    },
    {
     "data": {
      "application/vnd.jupyter.widget-view+json": {
       "model_id": "",
       "version_major": 2,
       "version_minor": 0
      },
      "text/plain": [
       "Validation: |          | 0/? [00:00<?, ?it/s]"
      ]
     },
     "metadata": {},
     "output_type": "display_data"
    },
    {
     "data": {
      "application/vnd.jupyter.widget-view+json": {
       "model_id": "",
       "version_major": 2,
       "version_minor": 0
      },
      "text/plain": [
       "Validation: |          | 0/? [00:00<?, ?it/s]"
      ]
     },
     "metadata": {},
     "output_type": "display_data"
    },
    {
     "data": {
      "application/vnd.jupyter.widget-view+json": {
       "model_id": "",
       "version_major": 2,
       "version_minor": 0
      },
      "text/plain": [
       "Validation: |          | 0/? [00:00<?, ?it/s]"
      ]
     },
     "metadata": {},
     "output_type": "display_data"
    },
    {
     "data": {
      "application/vnd.jupyter.widget-view+json": {
       "model_id": "",
       "version_major": 2,
       "version_minor": 0
      },
      "text/plain": [
       "Validation: |          | 0/? [00:00<?, ?it/s]"
      ]
     },
     "metadata": {},
     "output_type": "display_data"
    },
    {
     "data": {
      "application/vnd.jupyter.widget-view+json": {
       "model_id": "",
       "version_major": 2,
       "version_minor": 0
      },
      "text/plain": [
       "Validation: |          | 0/? [00:00<?, ?it/s]"
      ]
     },
     "metadata": {},
     "output_type": "display_data"
    },
    {
     "data": {
      "application/vnd.jupyter.widget-view+json": {
       "model_id": "",
       "version_major": 2,
       "version_minor": 0
      },
      "text/plain": [
       "Validation: |          | 0/? [00:00<?, ?it/s]"
      ]
     },
     "metadata": {},
     "output_type": "display_data"
    },
    {
     "name": "stderr",
     "output_type": "stream",
     "text": [
      "`Trainer.fit` stopped: `max_epochs=20` reached.\n",
      "FIT Profiler Report\n",
      "\n",
      "--------------------------------------------------------------------------------------------------------------------------------------------------------------------------------------------------------------------------------------------------------------------------\n",
      "|  Action                                                                                                                                                         \t|  Mean duration (s)\t|  Num calls      \t|  Total time (s) \t|  Percentage %   \t|\n",
      "--------------------------------------------------------------------------------------------------------------------------------------------------------------------------------------------------------------------------------------------------------------------------\n",
      "|  Total                                                                                                                                                          \t|  -              \t|  12705          \t|  16.057         \t|  100 %          \t|\n",
      "--------------------------------------------------------------------------------------------------------------------------------------------------------------------------------------------------------------------------------------------------------------------------\n",
      "|  run_training_epoch                                                                                                                                             \t|  0.67974        \t|  20             \t|  13.595         \t|  84.664         \t|\n",
      "|  [_TrainingEpochLoop].train_dataloader_next                                                                                                                     \t|  0.01079        \t|  300            \t|  3.2371         \t|  20.16          \t|\n",
      "|  run_training_batch                                                                                                                                             \t|  0.0064283      \t|  300            \t|  1.9285         \t|  12.01          \t|\n",
      "|  [LightningModule]LightningModel.optimizer_step                                                                                                                 \t|  0.0063264      \t|  300            \t|  1.8979         \t|  11.82          \t|\n",
      "|  [Strategy]SingleDeviceStrategy.training_step                                                                                                                   \t|  0.003432       \t|  300            \t|  1.0296         \t|  6.4122         \t|\n",
      "|  [Callback]ModelCheckpoint{'monitor': None, 'mode': 'min', 'every_n_train_steps': 0, 'every_n_epochs': 1, 'train_time_interval': None}.on_train_epoch_end       \t|  0.036225       \t|  20             \t|  0.72451        \t|  4.5121         \t|\n",
      "|  [_EvaluationLoop].val_next                                                                                                                                     \t|  0.0066173      \t|  82             \t|  0.54262        \t|  3.3793         \t|\n",
      "|  [Callback]TQDMProgressBar.on_train_batch_end                                                                                                                   \t|  0.0015557      \t|  300            \t|  0.46672        \t|  2.9066         \t|\n",
      "|  [Strategy]SingleDeviceStrategy.backward                                                                                                                        \t|  0.0014909      \t|  300            \t|  0.44728        \t|  2.7856         \t|\n",
      "|  [Callback]TQDMProgressBar.on_validation_start                                                                                                                  \t|  0.018716       \t|  21             \t|  0.39304        \t|  2.4477         \t|\n",
      "|  [Strategy]SingleDeviceStrategy.validation_step                                                                                                                 \t|  0.0035657      \t|  82             \t|  0.29238        \t|  1.8209         \t|\n",
      "|  [Strategy]SingleDeviceStrategy.batch_to_device                                                                                                                 \t|  0.00038094     \t|  382            \t|  0.14552        \t|  0.90625        \t|\n",
      "|  [LightningModule]LightningModel.transfer_batch_to_device                                                                                                       \t|  0.00029954     \t|  382            \t|  0.11443        \t|  0.71261        \t|\n",
      "|  [LightningModule]LightningModel.optimizer_zero_grad                                                                                                            \t|  0.00024749     \t|  300            \t|  0.074248       \t|  0.4624         \t|\n",
      "|  [Callback]TQDMProgressBar.on_validation_batch_end                                                                                                              \t|  0.00071604     \t|  82             \t|  0.058716       \t|  0.36567        \t|\n",
      "|  [Callback]TQDMProgressBar.on_validation_batch_start                                                                                                            \t|  0.00038034     \t|  82             \t|  0.031188       \t|  0.19423        \t|\n",
      "|  [Callback]TQDMProgressBar.on_validation_end                                                                                                                    \t|  0.0011025      \t|  21             \t|  0.023152       \t|  0.14418        \t|\n",
      "|  [Callback]TQDMProgressBar.on_train_epoch_start                                                                                                                 \t|  0.0010675      \t|  20             \t|  0.02135        \t|  0.13296        \t|\n",
      "|  [Callback]TQDMProgressBar.on_train_start                                                                                                                       \t|  0.014421       \t|  1              \t|  0.014421       \t|  0.089807       \t|\n",
      "|  [LightningModule]LightningModel.configure_gradient_clipping                                                                                                    \t|  3.1394e-05     \t|  300            \t|  0.0094181      \t|  0.058653       \t|\n",
      "|  [Callback]TQDMProgressBar.on_train_epoch_end                                                                                                                   \t|  0.00046989     \t|  20             \t|  0.0093978      \t|  0.058527       \t|\n",
      "|  [Callback]TQDMProgressBar.on_sanity_check_start                                                                                                                \t|  0.0084692      \t|  1              \t|  0.0084692      \t|  0.052744       \t|\n",
      "|  [Callback]ModelCheckpoint{'monitor': None, 'mode': 'min', 'every_n_train_steps': 0, 'every_n_epochs': 1, 'train_time_interval': None}.on_train_batch_end       \t|  2.6581e-05     \t|  300            \t|  0.0079743      \t|  0.049662       \t|\n",
      "|  [LightningModule]LightningModel.on_validation_model_eval                                                                                                       \t|  0.00029931     \t|  21             \t|  0.0062856      \t|  0.039145       \t|\n",
      "|  [LightningModule]LightningModel.lr_scheduler_step                                                                                                              \t|  0.00026586     \t|  20             \t|  0.0053173      \t|  0.033115       \t|\n",
      "|  [LightningModule]LightningModel.on_validation_model_zero_grad                                                                                                  \t|  0.00018949     \t|  20             \t|  0.0037899      \t|  0.023602       \t|\n",
      "|  [Callback]ModelCheckpoint{'monitor': None, 'mode': 'min', 'every_n_train_steps': 0, 'every_n_epochs': 1, 'train_time_interval': None}.on_validation_end        \t|  9.0577e-05     \t|  21             \t|  0.0019021      \t|  0.011846       \t|\n",
      "|  [Callback]ModelSummary.on_train_batch_end                                                                                                                      \t|  4.7169e-06     \t|  300            \t|  0.0014151      \t|  0.0088127      \t|\n",
      "|  [Callback]ModelSummary.on_fit_start                                                                                                                            \t|  0.0012656      \t|  1              \t|  0.0012656      \t|  0.0078817      \t|\n",
      "|  [Callback]TQDMProgressBar.on_before_zero_grad                                                                                                                  \t|  4.1082e-06     \t|  300            \t|  0.0012325      \t|  0.0076754      \t|\n",
      "|  [LightningModule]LightningModel.on_before_batch_transfer                                                                                                       \t|  3.0647e-06     \t|  382            \t|  0.0011707      \t|  0.007291       \t|\n",
      "|  [Callback]TQDMProgressBar.on_after_backward                                                                                                                    \t|  3.4193e-06     \t|  300            \t|  0.0010258      \t|  0.0063883      \t|\n",
      "|  [Callback]TQDMProgressBar.on_before_backward                                                                                                                   \t|  2.9861e-06     \t|  300            \t|  0.00089582     \t|  0.0055789      \t|\n",
      "|  [Callback]TQDMProgressBar.on_train_batch_start                                                                                                                 \t|  2.9107e-06     \t|  300            \t|  0.00087321     \t|  0.0054381      \t|\n",
      "|  [Callback]TQDMProgressBar.on_before_optimizer_step                                                                                                             \t|  2.1863e-06     \t|  300            \t|  0.00065588     \t|  0.0040847      \t|\n",
      "|  [Callback]ModelSummary.on_validation_start                                                                                                                     \t|  2.8824e-05     \t|  21             \t|  0.00060531     \t|  0.0037697      \t|\n",
      "|  [LightningModule]LightningModel.on_before_zero_grad                                                                                                            \t|  1.9988e-06     \t|  300            \t|  0.00059965     \t|  0.0037345      \t|\n",
      "|  [Callback]ModelCheckpoint{'monitor': None, 'mode': 'min', 'every_n_train_steps': 0, 'every_n_epochs': 1, 'train_time_interval': None}.on_after_backward        \t|  1.9564e-06     \t|  300            \t|  0.00058693     \t|  0.0036552      \t|\n",
      "|  [LightningModule]LightningModel.on_after_batch_transfer                                                                                                        \t|  1.4845e-06     \t|  382            \t|  0.00056707     \t|  0.0035316      \t|\n",
      "|  [LightningModule]LightningModel.on_train_batch_start                                                                                                           \t|  1.805e-06      \t|  300            \t|  0.00054151     \t|  0.0033724      \t|\n",
      "|  [Callback]ModelCheckpoint{'monitor': None, 'mode': 'min', 'every_n_train_steps': 0, 'every_n_epochs': 1, 'train_time_interval': None}.on_before_zero_grad      \t|  1.8027e-06     \t|  300            \t|  0.00054081     \t|  0.003368       \t|\n",
      "|  [Callback]ModelSummary.on_before_zero_grad                                                                                                                     \t|  1.7999e-06     \t|  300            \t|  0.00053996     \t|  0.0033627      \t|\n",
      "|  [Callback]ModelCheckpoint{'monitor': None, 'mode': 'min', 'every_n_train_steps': 0, 'every_n_epochs': 1, 'train_time_interval': None}.on_train_batch_start     \t|  1.793e-06      \t|  300            \t|  0.00053789     \t|  0.0033498      \t|\n",
      "|  [Callback]ModelSummary.on_train_batch_start                                                                                                                    \t|  1.754e-06      \t|  300            \t|  0.00052621     \t|  0.0032771      \t|\n",
      "|  [Callback]TQDMProgressBar.on_train_end                                                                                                                         \t|  0.00052208     \t|  1              \t|  0.00052208     \t|  0.0032514      \t|\n",
      "|  [Callback]ModelSummary.on_after_backward                                                                                                                       \t|  1.7305e-06     \t|  300            \t|  0.00051915     \t|  0.0032331      \t|\n",
      "|  [Callback]ModelCheckpoint{'monitor': None, 'mode': 'min', 'every_n_train_steps': 0, 'every_n_epochs': 1, 'train_time_interval': None}.on_before_backward       \t|  1.6542e-06     \t|  300            \t|  0.00049627     \t|  0.0030907      \t|\n",
      "|  [Strategy]SingleDeviceStrategy.on_train_batch_start                                                                                                            \t|  1.6149e-06     \t|  300            \t|  0.00048448     \t|  0.0030172      \t|\n",
      "|  [Callback]ModelSummary.on_before_backward                                                                                                                      \t|  1.6097e-06     \t|  300            \t|  0.0004829      \t|  0.0030074      \t|\n",
      "|  [Callback]ModelSummary.on_before_optimizer_step                                                                                                                \t|  1.6007e-06     \t|  300            \t|  0.00048022     \t|  0.0029907      \t|\n",
      "|  [LightningModule]LightningModel.on_train_batch_end                                                                                                             \t|  1.5699e-06     \t|  300            \t|  0.00047097     \t|  0.0029331      \t|\n",
      "|  [LightningDataModule]RidesLightning.train_dataloader                                                                                                           \t|  0.00046732     \t|  1              \t|  0.00046732     \t|  0.0029103      \t|\n",
      "|  [Callback]ModelCheckpoint{'monitor': None, 'mode': 'min', 'every_n_train_steps': 0, 'every_n_epochs': 1, 'train_time_interval': None}.on_before_optimizer_step \t|  1.5557e-06     \t|  300            \t|  0.0004667      \t|  0.0029065      \t|\n",
      "|  [LightningModule]LightningModel.on_after_backward                                                                                                              \t|  1.2815e-06     \t|  300            \t|  0.00038445     \t|  0.0023943      \t|\n",
      "|  [LightningModule]LightningModel.on_before_backward                                                                                                             \t|  1.2485e-06     \t|  300            \t|  0.00037455     \t|  0.0023326      \t|\n",
      "|  [LightningModule]LightningModel.on_before_optimizer_step                                                                                                       \t|  1.1798e-06     \t|  300            \t|  0.00035395     \t|  0.0022043      \t|\n",
      "|  [LightningDataModule]RidesLightning.val_dataloader                                                                                                             \t|  0.00033914     \t|  1              \t|  0.00033914     \t|  0.0021121      \t|\n",
      "|  [Callback]ModelSummary.on_validation_batch_end                                                                                                                 \t|  3.7433e-06     \t|  82             \t|  0.00030695     \t|  0.0019116      \t|\n",
      "|  [LightningModule]LightningModel.configure_optimizers                                                                                                           \t|  0.00030372     \t|  1              \t|  0.00030372     \t|  0.0018915      \t|\n",
      "|  [Callback]ModelSummary.on_train_epoch_end                                                                                                                      \t|  1.1702e-05     \t|  20             \t|  0.00023404     \t|  0.0014575      \t|\n",
      "|  [Callback]ModelSummary.on_validation_batch_start                                                                                                               \t|  2.4277e-06     \t|  82             \t|  0.00019907     \t|  0.0012398      \t|\n",
      "|  [Callback]TQDMProgressBar.on_validation_epoch_end                                                                                                              \t|  8.3686e-06     \t|  21             \t|  0.00017574     \t|  0.0010945      \t|\n",
      "|  [LightningModule]LightningModel.on_validation_epoch_start                                                                                                      \t|  7.9002e-06     \t|  21             \t|  0.0001659      \t|  0.0010332      \t|\n",
      "|  [LightningModule]LightningModel.on_validation_start                                                                                                            \t|  7.8693e-06     \t|  21             \t|  0.00016525     \t|  0.0010292      \t|\n",
      "|  [Callback]ModelCheckpoint{'monitor': None, 'mode': 'min', 'every_n_train_steps': 0, 'every_n_epochs': 1, 'train_time_interval': None}.on_validation_batch_end  \t|  1.9492e-06     \t|  82             \t|  0.00015983     \t|  0.00099539     \t|\n",
      "|  [Callback]ModelCheckpoint{'monitor': None, 'mode': 'min', 'every_n_train_steps': 0, 'every_n_epochs': 1, 'train_time_interval': None}.on_validation_batch_start\t|  1.8009e-06     \t|  82             \t|  0.00014767     \t|  0.00091967     \t|\n",
      "|  [LightningDataModule]RidesLightning.state_dict                                                                                                                 \t|  6.6966e-06     \t|  20             \t|  0.00013393     \t|  0.00083409     \t|\n",
      "|  [Strategy]SingleDeviceStrategy.on_validation_start                                                                                                             \t|  6.3682e-06     \t|  21             \t|  0.00013373     \t|  0.00083284     \t|\n",
      "|  [Callback]ModelCheckpoint{'monitor': None, 'mode': 'min', 'every_n_train_steps': 0, 'every_n_epochs': 1, 'train_time_interval': None}.setup                    \t|  0.00012519     \t|  1              \t|  0.00012519     \t|  0.00077966     \t|\n",
      "|  [LightningModule]LightningModel.on_validation_batch_end                                                                                                        \t|  1.4701e-06     \t|  82             \t|  0.00012055     \t|  0.00075076     \t|\n",
      "|  [LightningModule]LightningModel.on_validation_batch_start                                                                                                      \t|  1.3854e-06     \t|  82             \t|  0.0001136      \t|  0.00070747     \t|\n",
      "|  [Callback]ModelSummary.on_validation_end                                                                                                                       \t|  3.5863e-06     \t|  21             \t|  7.5312e-05     \t|  0.00046903     \t|\n",
      "|  [Callback]ModelSummary.on_train_epoch_start                                                                                                                    \t|  3.347e-06      \t|  20             \t|  6.6941e-05     \t|  0.00041689     \t|\n",
      "|  [Callback]TQDMProgressBar.on_save_checkpoint                                                                                                                   \t|  3.0745e-06     \t|  20             \t|  6.149e-05      \t|  0.00038294     \t|\n",
      "|  [Callback]ModelCheckpoint{'monitor': None, 'mode': 'min', 'every_n_train_steps': 0, 'every_n_epochs': 1, 'train_time_interval': None}.on_validation_start      \t|  2.9029e-06     \t|  21             \t|  6.0961e-05     \t|  0.00037965     \t|\n",
      "|  [Callback]TQDMProgressBar.on_validation_epoch_start                                                                                                            \t|  2.5338e-06     \t|  21             \t|  5.321e-05      \t|  0.00033138     \t|\n",
      "|  [Callback]ModelSummary.on_save_checkpoint                                                                                                                      \t|  2.343e-06      \t|  20             \t|  4.686e-05      \t|  0.00029183     \t|\n",
      "|  [Callback]ModelCheckpoint{'monitor': None, 'mode': 'min', 'every_n_train_steps': 0, 'every_n_epochs': 1, 'train_time_interval': None}.on_save_checkpoint       \t|  2.2851e-06     \t|  20             \t|  4.5703e-05     \t|  0.00028463     \t|\n",
      "|  [Callback]ModelCheckpoint{'monitor': None, 'mode': 'min', 'every_n_train_steps': 0, 'every_n_epochs': 1, 'train_time_interval': None}.on_validation_epoch_start\t|  1.9077e-06     \t|  21             \t|  4.0062e-05     \t|  0.00024949     \t|\n",
      "|  [Callback]ModelSummary.on_validation_epoch_start                                                                                                               \t|  1.8338e-06     \t|  21             \t|  3.851e-05      \t|  0.00023983     \t|\n",
      "|  [Callback]ModelSummary.on_validation_epoch_end                                                                                                                 \t|  1.7168e-06     \t|  21             \t|  3.6052e-05     \t|  0.00022453     \t|\n",
      "|  [Callback]ModelCheckpoint{'monitor': None, 'mode': 'min', 'every_n_train_steps': 0, 'every_n_epochs': 1, 'train_time_interval': None}.on_train_epoch_start     \t|  1.7901e-06     \t|  20             \t|  3.5803e-05     \t|  0.00022297     \t|\n",
      "|  [LightningModule]LightningModel.on_train_epoch_start                                                                                                           \t|  1.6967e-06     \t|  20             \t|  3.3934e-05     \t|  0.00021133     \t|\n",
      "|  [LightningModule]LightningModel.on_validation_end                                                                                                              \t|  1.5506e-06     \t|  21             \t|  3.2562e-05     \t|  0.00020279     \t|\n",
      "|  [Callback]ModelCheckpoint{'monitor': None, 'mode': 'min', 'every_n_train_steps': 0, 'every_n_epochs': 1, 'train_time_interval': None}.on_validation_epoch_end  \t|  1.5004e-06     \t|  21             \t|  3.1509e-05     \t|  0.00019623     \t|\n",
      "|  [LightningModule]LightningModel.on_train_epoch_end                                                                                                             \t|  1.5211e-06     \t|  20             \t|  3.0422e-05     \t|  0.00018946     \t|\n",
      "|  [Strategy]SingleDeviceStrategy.on_validation_end                                                                                                               \t|  1.3694e-06     \t|  21             \t|  2.8757e-05     \t|  0.00017909     \t|\n",
      "|  [LightningModule]LightningModel.on_validation_epoch_end                                                                                                        \t|  1.2685e-06     \t|  21             \t|  2.6638e-05     \t|  0.00016589     \t|\n",
      "|  [LightningModule]LightningModel.on_save_checkpoint                                                                                                             \t|  1.3273e-06     \t|  20             \t|  2.6546e-05     \t|  0.00016532     \t|\n",
      "|  [Callback]ModelSummary.on_train_start                                                                                                                          \t|  2.2201e-05     \t|  1              \t|  2.2201e-05     \t|  0.00013826     \t|\n",
      "|  [Callback]ModelCheckpoint{'monitor': None, 'mode': 'min', 'every_n_train_steps': 0, 'every_n_epochs': 1, 'train_time_interval': None}.on_train_start           \t|  1.048e-05      \t|  1              \t|  1.048e-05      \t|  6.5268e-05     \t|\n",
      "|  [LightningDataModule]RidesLightning.setup                                                                                                                      \t|  8.8001e-06     \t|  1              \t|  8.8001e-06     \t|  5.4805e-05     \t|\n",
      "|  [LightningModule]LightningModel.on_train_start                                                                                                                 \t|  7.9703e-06     \t|  1              \t|  7.9703e-06     \t|  4.9637e-05     \t|\n",
      "|  [Strategy]SingleDeviceStrategy.on_train_start                                                                                                                  \t|  7.2494e-06     \t|  1              \t|  7.2494e-06     \t|  4.5147e-05     \t|\n",
      "|  [Callback]TQDMProgressBar.on_sanity_check_end                                                                                                                  \t|  6.1197e-06     \t|  1              \t|  6.1197e-06     \t|  3.8112e-05     \t|\n",
      "|  [LightningDataModule]RidesLightning.teardown                                                                                                                   \t|  5.94e-06       \t|  1              \t|  5.94e-06       \t|  3.6993e-05     \t|\n",
      "|  [Callback]TQDMProgressBar.setup                                                                                                                                \t|  5.4399e-06     \t|  1              \t|  5.4399e-06     \t|  3.3878e-05     \t|\n",
      "|  [Callback]TQDMProgressBar.on_fit_end                                                                                                                           \t|  5.2908e-06     \t|  1              \t|  5.2908e-06     \t|  3.295e-05      \t|\n",
      "|  [LightningModule]LightningModel.on_fit_end                                                                                                                     \t|  5.2797e-06     \t|  1              \t|  5.2797e-06     \t|  3.288e-05      \t|\n",
      "|  [Callback]ModelSummary.on_sanity_check_start                                                                                                                   \t|  4.8401e-06     \t|  1              \t|  4.8401e-06     \t|  3.0143e-05     \t|\n",
      "|  [LightningModule]LightningModel.on_fit_start                                                                                                                   \t|  4.6296e-06     \t|  1              \t|  4.6296e-06     \t|  2.8832e-05     \t|\n",
      "|  [Callback]ModelSummary.on_train_end                                                                                                                            \t|  3.2699e-06     \t|  1              \t|  3.2699e-06     \t|  2.0364e-05     \t|\n",
      "|  [Callback]TQDMProgressBar.on_fit_start                                                                                                                         \t|  3.0901e-06     \t|  1              \t|  3.0901e-06     \t|  1.9245e-05     \t|\n",
      "|  [LightningModule]LightningModel.configure_callbacks                                                                                                            \t|  3.0808e-06     \t|  1              \t|  3.0808e-06     \t|  1.9187e-05     \t|\n",
      "|  [Callback]ModelCheckpoint{'monitor': None, 'mode': 'min', 'every_n_train_steps': 0, 'every_n_epochs': 1, 'train_time_interval': None}.on_fit_start             \t|  3.011e-06      \t|  1              \t|  3.011e-06      \t|  1.8752e-05     \t|\n",
      "|  [Callback]ModelSummary.on_sanity_check_end                                                                                                                     \t|  2.7101e-06     \t|  1              \t|  2.7101e-06     \t|  1.6878e-05     \t|\n",
      "|  [Callback]ModelCheckpoint{'monitor': None, 'mode': 'min', 'every_n_train_steps': 0, 'every_n_epochs': 1, 'train_time_interval': None}.on_sanity_check_end      \t|  2.6999e-06     \t|  1              \t|  2.6999e-06     \t|  1.6814e-05     \t|\n",
      "|  [Callback]TQDMProgressBar.teardown                                                                                                                             \t|  2.6897e-06     \t|  1              \t|  2.6897e-06     \t|  1.6751e-05     \t|\n",
      "|  [Callback]ModelSummary.setup                                                                                                                                   \t|  2.5798e-06     \t|  1              \t|  2.5798e-06     \t|  1.6066e-05     \t|\n",
      "|  [LightningModule]LightningModel.setup                                                                                                                          \t|  2.3907e-06     \t|  1              \t|  2.3907e-06     \t|  1.4889e-05     \t|\n",
      "|  [Callback]ModelCheckpoint{'monitor': None, 'mode': 'min', 'every_n_train_steps': 0, 'every_n_epochs': 1, 'train_time_interval': None}.on_sanity_check_start    \t|  2.1998e-06     \t|  1              \t|  2.1998e-06     \t|  1.37e-05       \t|\n",
      "|  [Callback]ModelSummary.on_fit_end                                                                                                                              \t|  2.1504e-06     \t|  1              \t|  2.1504e-06     \t|  1.3392e-05     \t|\n",
      "|  [Callback]ModelCheckpoint{'monitor': None, 'mode': 'min', 'every_n_train_steps': 0, 'every_n_epochs': 1, 'train_time_interval': None}.teardown                 \t|  2.0601e-06     \t|  1              \t|  2.0601e-06     \t|  1.283e-05      \t|\n",
      "|  [Callback]ModelSummary.teardown                                                                                                                                \t|  1.98e-06       \t|  1              \t|  1.98e-06       \t|  1.2331e-05     \t|\n",
      "|  [Callback]ModelCheckpoint{'monitor': None, 'mode': 'min', 'every_n_train_steps': 0, 'every_n_epochs': 1, 'train_time_interval': None}.on_fit_end               \t|  1.9502e-06     \t|  1              \t|  1.9502e-06     \t|  1.2145e-05     \t|\n",
      "|  [LightningModule]LightningModel.teardown                                                                                                                       \t|  1.8803e-06     \t|  1              \t|  1.8803e-06     \t|  1.171e-05      \t|\n",
      "|  [Callback]ModelCheckpoint{'monitor': None, 'mode': 'min', 'every_n_train_steps': 0, 'every_n_epochs': 1, 'train_time_interval': None}.on_train_end             \t|  1.6205e-06     \t|  1              \t|  1.6205e-06     \t|  1.0092e-05     \t|\n",
      "|  [Strategy]SingleDeviceStrategy.on_train_end                                                                                                                    \t|  1.3402e-06     \t|  1              \t|  1.3402e-06     \t|  8.3463e-06     \t|\n",
      "|  [LightningModule]LightningModel.on_train_end                                                                                                                   \t|  1.2796e-06     \t|  1              \t|  1.2796e-06     \t|  7.9693e-06     \t|\n",
      "--------------------------------------------------------------------------------------------------------------------------------------------------------------------------------------------------------------------------------------------------------------------------\n",
      "\n"
     ]
    }
   ],
   "source": [
    "trainer.fit(model, datamodule=dataset)"
   ]
  },
  {
   "cell_type": "markdown",
   "metadata": {},
   "source": [
    "<div class=\"alert alert-info\">\n",
    "    \n",
    "Данный `profiler` позволяет понять, где у вас стопорится модель - в какой функции, чтобы провести более подробную отладку можно использовать другие профайлеры отсюда: https://pytorch-lightning.readthedocs.io/en/2.2.0/pytorch/api_references.html#profiler\n",
    "\n",
    "Данный `profiler` анализирует сколько каждая функция работала при обучении модели (в том числе служебные функции Lightning):\n",
    "- Кол-во вызовов функции\n",
    "- Общее затраченное время\n",
    "- Процентная нагрузка\n",
    "\n",
    "Полезно, когда обучаете сетку в несколько этапов и хотите найти какой этап работает медленне чем остальные."
   ]
  },
  {
   "cell_type": "markdown",
   "metadata": {},
   "source": [
    "<div class=\"alert alert-success\">\n",
    "Более детально с другими параметрами Trainer'a и метриками познакомимся в следующем уроке!"
   ]
  },
  {
   "cell_type": "markdown",
   "metadata": {},
   "source": [
    "# <center id=\"c9\"> 🍏 Результаты и выводы ✅\n",
    "..."
   ]
  },
  {
   "cell_type": "markdown",
   "metadata": {},
   "source": [
    "# <center id=\"c10\"> 📝 Полезные ссылки </center>"
   ]
  },
  {
   "cell_type": "markdown",
   "metadata": {},
   "source": [
    "<div class=\"alert alert-warning\">\n",
    "\n",
    "К сожалению, [сайт](https://lightning.ai/docs/pytorch/stable//index.html) фреймворка с официальной документацией не открывается для пользователей из РФ. Можно использовать VPN. На установке и использовании библиотеки это никак не сказывается.\n",
    "\n",
    "Также есть другой ресурс с документацией, который открывается без VPN:\n",
    "\n",
    "https://pytorch-lightning.readthedocs.io/en/2.5.0/pytorch/"
   ]
  },
  {
   "cell_type": "code",
   "execution_count": null,
   "metadata": {},
   "outputs": [],
   "source": []
  }
 ],
 "metadata": {
  "kernelspec": {
   "display_name": "cv",
   "language": "python",
   "name": "python3"
  },
  "language_info": {
   "codemirror_mode": {
    "name": "ipython",
    "version": 3
   },
   "file_extension": ".py",
   "mimetype": "text/x-python",
   "name": "python",
   "nbconvert_exporter": "python",
   "pygments_lexer": "ipython3",
   "version": "3.10.12"
  }
 },
 "nbformat": 4,
 "nbformat_minor": 4
}
